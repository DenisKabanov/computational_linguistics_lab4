{
 "cells": [
  {
   "cell_type": "markdown",
   "metadata": {
    "id": "uDFhyOmQan0v"
   },
   "source": [
    "# Text generation with deep learning"
   ]
  },
  {
   "cell_type": "code",
   "execution_count": 15,
   "metadata": {
    "id": "TslNQEFlan0z"
   },
   "outputs": [],
   "source": [
    "import sys\n",
    "import os\n",
    "import os.path\n",
    "import random\n",
    "import collections\n",
    "import shutil\n",
    "import time\n",
    "import glob\n",
    "import csv\n",
    "import matplotlib.pyplot as plt\n",
    "import numpy as np\n",
    "import pandas as pd\n",
    "from math import pi\n",
    "import scipy\n",
    "from tqdm import tqdm\n",
    "\n",
    "import torch\n",
    "import torch.nn as nn\n",
    "import torch.nn.functional as F\n",
    "import torch.optim as optim\n",
    "from torch.utils.data import Dataset, DataLoader\n",
    "from torch.autograd import Variable\n",
    "\n",
    "import torchvision\n",
    "from torchvision import transforms, datasets\n",
    "from torch.nn.utils.rnn import pad_sequence\n",
    "\n",
    "\n",
    "%matplotlib inline\n",
    "\n",
    "from torch.utils.data import DataLoader\n",
    "import pickle\n",
    "\n",
    "# для визуализации\n",
    "# from bokeh.io import show,output_notebook\n",
    "# from bokeh.models import ColumnDataSource, HoverTool, LinearColorMapper, BasicTicker, PrintfTickFormatter,ColorBar\n",
    "# from bokeh.models import FuncTickFormatter\n",
    "# from bokeh.plotting import figure\n",
    "\n",
    "# output_notebook()"
   ]
  },
  {
   "cell_type": "markdown",
   "metadata": {
    "id": "1z-nkq4Tan0-"
   },
   "source": [
    "**Задача**\n",
    "\n",
    "   Обучить character recurrent neural network (char RNN) на датасете статей arxiv, а также на своих данных и исследовать её свойства."
   ]
  },
  {
   "cell_type": "markdown",
   "metadata": {
    "id": "6dvYiuYwan1A"
   },
   "source": [
    "Определим структуру сети, в качестве основного блока используем **GRU**"
   ]
  },
  {
   "cell_type": "code",
   "execution_count": null,
   "metadata": {
    "id": "uB9dp0eman1B"
   },
   "outputs": [],
   "source": [
    "class RNN(nn.Module):\n",
    "    def __init__(self, input_size, hidden_size, output_size, n_layers=1):\n",
    "        super(RNN, self).__init__()\n",
    "        self.input_size = input_size\n",
    "        self.hidden_size = hidden_size\n",
    "        self.output_size = output_size\n",
    "        self.n_layers = n_layers\n",
    "        \n",
    "        self.encoder = nn.Embedding(input_size, hidden_size)\n",
    "        self.gru = nn.GRU(hidden_size, hidden_size, n_layers)\n",
    "        self.decoder = nn.Linear(hidden_size, output_size)\n",
    "    \n",
    "    def forward(self, input, hidden):\n",
    "#         print(\"input before encoding: \", input)\n",
    "#         print(\"input shape before encoding: \", input.shape)\n",
    "#         print(\"================================================\")\n",
    "        input = self.encoder(input.view(1, -1))\n",
    "#         print(\"input after encoding: \", input)\n",
    "#         print(\"input shape after encoding: \", input.shape)\n",
    "#         print(\"================================================\")\n",
    "#         print(\"input.view(-1): \", input.view(-1))\n",
    "#         print(\"================================================\")\n",
    "#         print(\"input.view(-1) size: \", len(input.view(-1)))\n",
    "#         print(\"================================================\")\n",
    "        output, hidden = self.gru(input.view(1, 1, -1), hidden)\n",
    "#         print(\"gru passed\")\n",
    "        output = self.decoder(output.view(1, -1))\n",
    "        return output, hidden\n",
    "\n",
    "    def init_hidden(self):\n",
    "        return torch.zeros(self.n_layers, 1, self.hidden_size)\n",
    "    \n",
    "    def save_model(model, filename='rnn.ckpt'):\n",
    "        checkpoint = {'input_size': model.input_size,\n",
    "                      'hidden_size': model.hidden_size,\n",
    "                      'output_size': model.output_size,\n",
    "                      'n_layers': model.n_layers,\n",
    "                      'state_dict': model.state_dict()}\n",
    "        with open(filename, 'wb') as f:\n",
    "            torch.save(checkpoint, f)\n",
    "\n",
    "    def load_model(filename):\n",
    "\n",
    "        with open(filename, 'rb') as f:\n",
    "            checkpoint = torch.load(f)\n",
    "\n",
    "        model = RNN(input_size = checkpoint['input_size'], output_size = checkpoint['output_size'], hidden_size=checkpoint['hidden_size'], n_layers=checkpoint['n_layers'])\n",
    "        model.load_state_dict(checkpoint['state_dict'])\n",
    "\n",
    "        return model"
   ]
  },
  {
   "cell_type": "code",
   "execution_count": null,
   "metadata": {
    "colab": {
     "base_uri": "https://localhost:8080/"
    },
    "id": "rwrVNsW6UAT0",
    "outputId": "d6fdb96b-fb09-4f31-8932-2e6f1ccb65d5"
   },
   "outputs": [
    {
     "data": {
      "text/plain": [
       "tensor([[[0., 0., 0., 0., 0., 0., 0., 0., 0., 0.]],\n",
       "\n",
       "        [[0., 0., 0., 0., 0., 0., 0., 0., 0., 0.]]])"
      ]
     },
     "execution_count": 3,
     "metadata": {},
     "output_type": "execute_result"
    }
   ],
   "source": [
    "torch.zeros(2, 1, 10)"
   ]
  },
  {
   "cell_type": "markdown",
   "metadata": {
    "id": "F14Yl_xWyQA2"
   },
   "source": [
    "# Пример реализации класса для получения данных из датасета"
   ]
  },
  {
   "cell_type": "code",
   "execution_count": null,
   "metadata": {
    "id": "VZf7PBqGan1F"
   },
   "outputs": [],
   "source": [
    "class TextDataset(Dataset):\n",
    "#     def __init__(self, text, chunk_len=10, chunks_number=100):\n",
    "    def __init__(self, text, chunk_len=10, chunks_number=100):\n",
    "        self.chunks_number = chunks_number # количество блоков\n",
    "        self.chunk_len = chunk_len  # длина одного блока (на сколько букв смотрим назад при предсказании)\n",
    "        self.text = text\n",
    "        self.all_symbols = list({x for x in self.text})\n",
    "    \n",
    "    def __len__(self):\n",
    "        return self.chunks_number\n",
    "    \n",
    "    def _get_tensor(self, text):   # ставит в соответствие каждой букве из текста её индекс\n",
    "        return torch.LongTensor(list(map(self.all_symbols.index, text))).cuda()\n",
    "    \n",
    "    def _decode_vector(self, text):   # декодирует вектор из цифр (text) в текст\n",
    "        text = text.view(-1).cpu().numpy()\n",
    "        if text.shape[0] == 1:\n",
    "            text = list(text)\n",
    "        return ''.join([self.all_symbols[x] for x in text])\n",
    "    \n",
    "    def _get_random_slice(self):  # берет случайный срез букв из текста\n",
    "        start_index = random.randint(0, len(self.text) - self.chunk_len)\n",
    "        end_index = start_index + self.chunk_len + 1\n",
    "        return self.text[start_index:end_index]\n",
    "    \n",
    "    # 1 саммари - 100 инпутов и 100 таргетов \n",
    "    def __getitem__(self, idx):\n",
    "        chunk = self._get_random_slice()  \n",
    "        # self._get_tensor(chunk[:-1]) - текущее состояние, self._get_tensor(chunk[1:]) - следующее состояние (target)??\n",
    "        return self._get_tensor(chunk[:-1]), self._get_tensor(chunk[1:])  # chunk[:-1] не включает последний эл-т, chunk[1:] не включает первый эл-т"
   ]
  },
  {
   "cell_type": "markdown",
   "metadata": {
    "id": "ThGUbWYsan1J"
   },
   "source": [
    "# Здесь должен быть код для считывания данных и создания даталоадера"
   ]
  },
  {
   "cell_type": "code",
   "execution_count": 10,
   "metadata": {
    "colab": {
     "base_uri": "https://localhost:8080/"
    },
    "id": "2mlSUv3LGgIH",
    "outputId": "ba154366-20c2-4391-f931-eedf374c595a"
   },
   "outputs": [
    {
     "name": "stdout",
     "output_type": "stream",
     "text": [
      "Mounted at /content/drive\n"
     ]
    }
   ],
   "source": [
    "from google.colab import drive\n",
    "drive.mount('/content/drive')"
   ]
  },
  {
   "cell_type": "code",
   "execution_count": null,
   "metadata": {
    "colab": {
     "base_uri": "https://localhost:8080/"
    },
    "id": "DXnbcOYT36sN",
    "outputId": "387d7708-5b5b-4ec9-da2d-d1ab1ead3035"
   },
   "outputs": [
    {
     "data": {
      "text/html": [
       "\n",
       "  <div id=\"df-5bf5a939-86b5-438d-85c5-58882616195b\">\n",
       "    <div class=\"colab-df-container\">\n",
       "      <div>\n",
       "<style scoped>\n",
       "    .dataframe tbody tr th:only-of-type {\n",
       "        vertical-align: middle;\n",
       "    }\n",
       "\n",
       "    .dataframe tbody tr th {\n",
       "        vertical-align: top;\n",
       "    }\n",
       "\n",
       "    .dataframe thead th {\n",
       "        text-align: right;\n",
       "    }\n",
       "</style>\n",
       "<table border=\"1\" class=\"dataframe\">\n",
       "  <thead>\n",
       "    <tr style=\"text-align: right;\">\n",
       "      <th></th>\n",
       "      <th>link</th>\n",
       "      <th>time</th>\n",
       "      <th>favorites</th>\n",
       "      <th>rts</th>\n",
       "      <th>authors</th>\n",
       "      <th>category</th>\n",
       "      <th>published</th>\n",
       "      <th>summary</th>\n",
       "      <th>title</th>\n",
       "      <th>tweeted</th>\n",
       "    </tr>\n",
       "  </thead>\n",
       "  <tbody>\n",
       "    <tr>\n",
       "      <th>0</th>\n",
       "      <td>arxiv.org/abs/1611.10003</td>\n",
       "      <td>NaN</td>\n",
       "      <td>NaN</td>\n",
       "      <td>NaN</td>\n",
       "      <td>[Tom A. F. Anderson, C. -H. Ruan]</td>\n",
       "      <td>q-bio.NC</td>\n",
       "      <td>2016-11-30 05:17:11</td>\n",
       "      <td>In summary of the research findings presented ...</td>\n",
       "      <td>Vocabulary and the Brain: Evidence from Neuroi...</td>\n",
       "      <td>0</td>\n",
       "    </tr>\n",
       "    <tr>\n",
       "      <th>1</th>\n",
       "      <td>arxiv.org/abs/1611.10007</td>\n",
       "      <td>NaN</td>\n",
       "      <td>NaN</td>\n",
       "      <td>NaN</td>\n",
       "      <td>[M. Amin Rahimian, Amir G. Aghdam]</td>\n",
       "      <td>cs.SY</td>\n",
       "      <td>2016-11-30 05:37:11</td>\n",
       "      <td>In this paper, structural controllability of a...</td>\n",
       "      <td>Structural Controllability of Multi-Agent Netw...</td>\n",
       "      <td>0</td>\n",
       "    </tr>\n",
       "    <tr>\n",
       "      <th>2</th>\n",
       "      <td>arxiv.org/abs/1611.10010</td>\n",
       "      <td>NaN</td>\n",
       "      <td>NaN</td>\n",
       "      <td>NaN</td>\n",
       "      <td>[Debidatta Dwibedi, Tomasz Malisiewicz, Vijay ...</td>\n",
       "      <td>cs.CV</td>\n",
       "      <td>2016-11-30 06:00:47</td>\n",
       "      <td>We present a Deep Cuboid Detector which takes ...</td>\n",
       "      <td>Deep Cuboid Detection: Beyond 2D Bounding Boxes</td>\n",
       "      <td>0</td>\n",
       "    </tr>\n",
       "    <tr>\n",
       "      <th>3</th>\n",
       "      <td>arxiv.org/abs/1611.10012</td>\n",
       "      <td>2016-12-01 01:46:12</td>\n",
       "      <td>11.0</td>\n",
       "      <td>2.0</td>\n",
       "      <td>[Jonathan Huang, Vivek Rathod, Chen Sun, Mengl...</td>\n",
       "      <td>cs.CV</td>\n",
       "      <td>2016-11-30 06:06:15</td>\n",
       "      <td>In this paper, we study the trade-off between ...</td>\n",
       "      <td>Speed/accuracy trade-offs for modern convoluti...</td>\n",
       "      <td>1</td>\n",
       "    </tr>\n",
       "    <tr>\n",
       "      <th>4</th>\n",
       "      <td>arxiv.org/abs/1611.10014</td>\n",
       "      <td>NaN</td>\n",
       "      <td>NaN</td>\n",
       "      <td>NaN</td>\n",
       "      <td>[Yoones Hashemi, Amir H. Banihashemi]</td>\n",
       "      <td>cs.IT</td>\n",
       "      <td>2016-11-30 06:12:45</td>\n",
       "      <td>In this paper, we propose a characterization o...</td>\n",
       "      <td>Characterization and Efficient Exhaustive Sear...</td>\n",
       "      <td>0</td>\n",
       "    </tr>\n",
       "    <tr>\n",
       "      <th>...</th>\n",
       "      <td>...</td>\n",
       "      <td>...</td>\n",
       "      <td>...</td>\n",
       "      <td>...</td>\n",
       "      <td>...</td>\n",
       "      <td>...</td>\n",
       "      <td>...</td>\n",
       "      <td>...</td>\n",
       "      <td>...</td>\n",
       "      <td>...</td>\n",
       "    </tr>\n",
       "    <tr>\n",
       "      <th>27183</th>\n",
       "      <td>arxiv.org/abs/1710.04176</td>\n",
       "      <td>NaN</td>\n",
       "      <td>NaN</td>\n",
       "      <td>NaN</td>\n",
       "      <td>[C. -C. Jay Kuo, Yueru Chen]</td>\n",
       "      <td>cs.CV</td>\n",
       "      <td>2017-10-11 17:08:28</td>\n",
       "      <td>Being motivated by the multilayer RECOS (REcti...</td>\n",
       "      <td>On Data-Driven Saak Transform</td>\n",
       "      <td>0</td>\n",
       "    </tr>\n",
       "    <tr>\n",
       "      <th>27184</th>\n",
       "      <td>arxiv.org/abs/1710.04177</td>\n",
       "      <td>NaN</td>\n",
       "      <td>NaN</td>\n",
       "      <td>NaN</td>\n",
       "      <td>[Heather Mattie, Kenth Engø-Monsen, Rich Ling,...</td>\n",
       "      <td>cs.SI</td>\n",
       "      <td>2017-10-11 17:12:05</td>\n",
       "      <td>Understanding tie strength in social networks,...</td>\n",
       "      <td>The Social Bow Tie</td>\n",
       "      <td>0</td>\n",
       "    </tr>\n",
       "    <tr>\n",
       "      <th>27185</th>\n",
       "      <td>arxiv.org/abs/1710.04196</td>\n",
       "      <td>NaN</td>\n",
       "      <td>NaN</td>\n",
       "      <td>NaN</td>\n",
       "      <td>[Robin Scheibler, Eric Bezzam, Ivan Dokmanić]</td>\n",
       "      <td>cs.MS</td>\n",
       "      <td>2017-10-11 17:44:41</td>\n",
       "      <td>We present pyroomacoustics, a software package...</td>\n",
       "      <td>Pyroomacoustics: A Python package for audio ro...</td>\n",
       "      <td>0</td>\n",
       "    </tr>\n",
       "    <tr>\n",
       "      <th>27186</th>\n",
       "      <td>arxiv.org/abs/1710.04200</td>\n",
       "      <td>NaN</td>\n",
       "      <td>NaN</td>\n",
       "      <td>NaN</td>\n",
       "      <td>[Yijun Li, Jia-Bin Huang, Narendra Ahuja, Ming...</td>\n",
       "      <td>cs.CV</td>\n",
       "      <td>2017-10-11 17:56:59</td>\n",
       "      <td>Joint image filters leverage the guidance imag...</td>\n",
       "      <td>Joint Image Filtering with Deep Convolutional ...</td>\n",
       "      <td>0</td>\n",
       "    </tr>\n",
       "    <tr>\n",
       "      <th>27187</th>\n",
       "      <td>arxiv.org/abs/1710.04203</td>\n",
       "      <td>NaN</td>\n",
       "      <td>NaN</td>\n",
       "      <td>NaN</td>\n",
       "      <td>[Giannis Haralabopoulos, Elena Simperl]</td>\n",
       "      <td>cs.CL</td>\n",
       "      <td>2017-10-04 21:38:48</td>\n",
       "      <td>Sentiment analysis aims to uncover emotions co...</td>\n",
       "      <td>Crowdsourcing for Beyond Polarity Sentiment An...</td>\n",
       "      <td>0</td>\n",
       "    </tr>\n",
       "  </tbody>\n",
       "</table>\n",
       "<p>27188 rows × 10 columns</p>\n",
       "</div>\n",
       "      <button class=\"colab-df-convert\" onclick=\"convertToInteractive('df-5bf5a939-86b5-438d-85c5-58882616195b')\"\n",
       "              title=\"Convert this dataframe to an interactive table.\"\n",
       "              style=\"display:none;\">\n",
       "        \n",
       "  <svg xmlns=\"http://www.w3.org/2000/svg\" height=\"24px\"viewBox=\"0 0 24 24\"\n",
       "       width=\"24px\">\n",
       "    <path d=\"M0 0h24v24H0V0z\" fill=\"none\"/>\n",
       "    <path d=\"M18.56 5.44l.94 2.06.94-2.06 2.06-.94-2.06-.94-.94-2.06-.94 2.06-2.06.94zm-11 1L8.5 8.5l.94-2.06 2.06-.94-2.06-.94L8.5 2.5l-.94 2.06-2.06.94zm10 10l.94 2.06.94-2.06 2.06-.94-2.06-.94-.94-2.06-.94 2.06-2.06.94z\"/><path d=\"M17.41 7.96l-1.37-1.37c-.4-.4-.92-.59-1.43-.59-.52 0-1.04.2-1.43.59L10.3 9.45l-7.72 7.72c-.78.78-.78 2.05 0 2.83L4 21.41c.39.39.9.59 1.41.59.51 0 1.02-.2 1.41-.59l7.78-7.78 2.81-2.81c.8-.78.8-2.07 0-2.86zM5.41 20L4 18.59l7.72-7.72 1.47 1.35L5.41 20z\"/>\n",
       "  </svg>\n",
       "      </button>\n",
       "      \n",
       "  <style>\n",
       "    .colab-df-container {\n",
       "      display:flex;\n",
       "      flex-wrap:wrap;\n",
       "      gap: 12px;\n",
       "    }\n",
       "\n",
       "    .colab-df-convert {\n",
       "      background-color: #E8F0FE;\n",
       "      border: none;\n",
       "      border-radius: 50%;\n",
       "      cursor: pointer;\n",
       "      display: none;\n",
       "      fill: #1967D2;\n",
       "      height: 32px;\n",
       "      padding: 0 0 0 0;\n",
       "      width: 32px;\n",
       "    }\n",
       "\n",
       "    .colab-df-convert:hover {\n",
       "      background-color: #E2EBFA;\n",
       "      box-shadow: 0px 1px 2px rgba(60, 64, 67, 0.3), 0px 1px 3px 1px rgba(60, 64, 67, 0.15);\n",
       "      fill: #174EA6;\n",
       "    }\n",
       "\n",
       "    [theme=dark] .colab-df-convert {\n",
       "      background-color: #3B4455;\n",
       "      fill: #D2E3FC;\n",
       "    }\n",
       "\n",
       "    [theme=dark] .colab-df-convert:hover {\n",
       "      background-color: #434B5C;\n",
       "      box-shadow: 0px 1px 3px 1px rgba(0, 0, 0, 0.15);\n",
       "      filter: drop-shadow(0px 1px 2px rgba(0, 0, 0, 0.3));\n",
       "      fill: #FFFFFF;\n",
       "    }\n",
       "  </style>\n",
       "\n",
       "      <script>\n",
       "        const buttonEl =\n",
       "          document.querySelector('#df-5bf5a939-86b5-438d-85c5-58882616195b button.colab-df-convert');\n",
       "        buttonEl.style.display =\n",
       "          google.colab.kernel.accessAllowed ? 'block' : 'none';\n",
       "\n",
       "        async function convertToInteractive(key) {\n",
       "          const element = document.querySelector('#df-5bf5a939-86b5-438d-85c5-58882616195b');\n",
       "          const dataTable =\n",
       "            await google.colab.kernel.invokeFunction('convertToInteractive',\n",
       "                                                     [key], {});\n",
       "          if (!dataTable) return;\n",
       "\n",
       "          const docLinkHtml = 'Like what you see? Visit the ' +\n",
       "            '<a target=\"_blank\" href=https://colab.research.google.com/notebooks/data_table.ipynb>data table notebook</a>'\n",
       "            + ' to learn more about interactive tables.';\n",
       "          element.innerHTML = '';\n",
       "          dataTable['output_type'] = 'display_data';\n",
       "          await google.colab.output.renderOutput(dataTable, element);\n",
       "          const docLink = document.createElement('div');\n",
       "          docLink.innerHTML = docLinkHtml;\n",
       "          element.appendChild(docLink);\n",
       "        }\n",
       "      </script>\n",
       "    </div>\n",
       "  </div>\n",
       "  "
      ],
      "text/plain": [
       "                           link                 time  favorites  rts  \\\n",
       "0      arxiv.org/abs/1611.10003                  NaN        NaN  NaN   \n",
       "1      arxiv.org/abs/1611.10007                  NaN        NaN  NaN   \n",
       "2      arxiv.org/abs/1611.10010                  NaN        NaN  NaN   \n",
       "3      arxiv.org/abs/1611.10012  2016-12-01 01:46:12       11.0  2.0   \n",
       "4      arxiv.org/abs/1611.10014                  NaN        NaN  NaN   \n",
       "...                         ...                  ...        ...  ...   \n",
       "27183  arxiv.org/abs/1710.04176                  NaN        NaN  NaN   \n",
       "27184  arxiv.org/abs/1710.04177                  NaN        NaN  NaN   \n",
       "27185  arxiv.org/abs/1710.04196                  NaN        NaN  NaN   \n",
       "27186  arxiv.org/abs/1710.04200                  NaN        NaN  NaN   \n",
       "27187  arxiv.org/abs/1710.04203                  NaN        NaN  NaN   \n",
       "\n",
       "                                                 authors  category  \\\n",
       "0                      [Tom A. F. Anderson, C. -H. Ruan]  q-bio.NC   \n",
       "1                     [M. Amin Rahimian, Amir G. Aghdam]     cs.SY   \n",
       "2      [Debidatta Dwibedi, Tomasz Malisiewicz, Vijay ...     cs.CV   \n",
       "3      [Jonathan Huang, Vivek Rathod, Chen Sun, Mengl...     cs.CV   \n",
       "4                  [Yoones Hashemi, Amir H. Banihashemi]     cs.IT   \n",
       "...                                                  ...       ...   \n",
       "27183                       [C. -C. Jay Kuo, Yueru Chen]     cs.CV   \n",
       "27184  [Heather Mattie, Kenth Engø-Monsen, Rich Ling,...     cs.SI   \n",
       "27185      [Robin Scheibler, Eric Bezzam, Ivan Dokmanić]     cs.MS   \n",
       "27186  [Yijun Li, Jia-Bin Huang, Narendra Ahuja, Ming...     cs.CV   \n",
       "27187            [Giannis Haralabopoulos, Elena Simperl]     cs.CL   \n",
       "\n",
       "                 published                                            summary  \\\n",
       "0      2016-11-30 05:17:11  In summary of the research findings presented ...   \n",
       "1      2016-11-30 05:37:11  In this paper, structural controllability of a...   \n",
       "2      2016-11-30 06:00:47  We present a Deep Cuboid Detector which takes ...   \n",
       "3      2016-11-30 06:06:15  In this paper, we study the trade-off between ...   \n",
       "4      2016-11-30 06:12:45  In this paper, we propose a characterization o...   \n",
       "...                    ...                                                ...   \n",
       "27183  2017-10-11 17:08:28  Being motivated by the multilayer RECOS (REcti...   \n",
       "27184  2017-10-11 17:12:05  Understanding tie strength in social networks,...   \n",
       "27185  2017-10-11 17:44:41  We present pyroomacoustics, a software package...   \n",
       "27186  2017-10-11 17:56:59  Joint image filters leverage the guidance imag...   \n",
       "27187  2017-10-04 21:38:48  Sentiment analysis aims to uncover emotions co...   \n",
       "\n",
       "                                                   title  tweeted  \n",
       "0      Vocabulary and the Brain: Evidence from Neuroi...        0  \n",
       "1      Structural Controllability of Multi-Agent Netw...        0  \n",
       "2        Deep Cuboid Detection: Beyond 2D Bounding Boxes        0  \n",
       "3      Speed/accuracy trade-offs for modern convoluti...        1  \n",
       "4      Characterization and Efficient Exhaustive Sear...        0  \n",
       "...                                                  ...      ...  \n",
       "27183                      On Data-Driven Saak Transform        0  \n",
       "27184                                 The Social Bow Tie        0  \n",
       "27185  Pyroomacoustics: A Python package for audio ro...        0  \n",
       "27186  Joint Image Filtering with Deep Convolutional ...        0  \n",
       "27187  Crowdsourcing for Beyond Polarity Sentiment An...        0  \n",
       "\n",
       "[27188 rows x 10 columns]"
      ]
     },
     "execution_count": 5,
     "metadata": {},
     "output_type": "execute_result"
    }
   ],
   "source": [
    "arxiv_dataset = pd.read_csv('/content/drive/MyDrive/Универ/arxiv.csv') \n",
    "# arxiv_dataset = pd.read_csv('arxiv.csv') \n",
    "arxiv_dataset"
   ]
  },
  {
   "cell_type": "code",
   "execution_count": null,
   "metadata": {
    "id": "7xle0FUBU2lD"
   },
   "outputs": [],
   "source": [
    "# torch.zeros(2, 3, 4)[0]"
   ]
  },
  {
   "cell_type": "code",
   "execution_count": null,
   "metadata": {
    "id": "H-1ls1DLQOCY"
   },
   "outputs": [],
   "source": [
    "def collate_fn(input_data):  # на вход приходит arxiv_dataset['summary']\n",
    "    inputs = []\n",
    "    targets = []\n",
    "    for item in tqdm(input_data):\n",
    "        item_ = TextDataset(item)\n",
    "#         for chunks_n in range(item_.chunks_number):\n",
    "#             inputs.append(item_.__getitem__(chunks_n)[0])\n",
    "#             targets.append(item_.__getitem__(chunks_n)[1])\n",
    "        inputs.append(item_.__getitem__(0)[0])\n",
    "        targets.append(item_.__getitem__(0)[1])\n",
    "#     print(\"collate_fn: before pad\", inputs)\n",
    "    inputs = pad_sequence(inputs, batch_first=True, padding_value=0)\n",
    "#     print(\"collate_fn: after pad\", inputs)\n",
    "    targets = pad_sequence(targets, batch_first=True, padding_value=0)\n",
    "    return {'inputs': inputs, 'targets': targets}\n",
    "    # return inputs, targets"
   ]
  },
  {
   "cell_type": "code",
   "execution_count": null,
   "metadata": {
    "id": "hMG7dF0xUAT_"
   },
   "outputs": [],
   "source": [
    "collate_fn(arxiv_dataset['summary'])"
   ]
  },
  {
   "cell_type": "code",
   "execution_count": null,
   "metadata": {
    "id": "UlolX08taWlH"
   },
   "outputs": [],
   "source": [
    "# dict_ = collate_fn(arxiv_dataset['summary'])"
   ]
  },
  {
   "cell_type": "code",
   "execution_count": null,
   "metadata": {
    "id": "K_I3XoODamcM"
   },
   "outputs": [],
   "source": [
    "# dict_['inputs'][0]"
   ]
  },
  {
   "cell_type": "code",
   "execution_count": null,
   "metadata": {
    "id": "1vVJQ07TapXM"
   },
   "outputs": [],
   "source": [
    "# len(dict_['targets'])"
   ]
  },
  {
   "cell_type": "code",
   "execution_count": null,
   "metadata": {
    "id": "pgg9T8YGGSQx"
   },
   "outputs": [],
   "source": [
    "from torch.utils.data import DataLoader\n",
    "batch_size = 1\n",
    "loader = DataLoader(arxiv_dataset['summary'], \n",
    "                            batch_size, \n",
    "                            shuffle=True,\n",
    "#                             num_workers=2,\n",
    "                            collate_fn=collate_fn,\n",
    "#                             drop_last = True,\n",
    "                            )"
   ]
  },
  {
   "cell_type": "code",
   "execution_count": null,
   "metadata": {
    "id": "PFPrImmboQF3"
   },
   "outputs": [],
   "source": [
    "# for inputs, targets in loader:\n",
    "#   print(inputs[0].size(-1))\n",
    "# for i, batch in enumerate(loader):\n",
    "#   print(batch['inputs'].size(-1))"
   ]
  },
  {
   "cell_type": "markdown",
   "metadata": {
    "id": "wQifVgIy37ow"
   },
   "source": [
    "Смотрим, сколько уникальных символов есть в датасете - это и будет размер выходного вектора у нейронной сети"
   ]
  },
  {
   "cell_type": "code",
   "execution_count": null,
   "metadata": {
    "id": "4svHrpm6d0Hp"
   },
   "outputs": [],
   "source": [
    "unique_symbols = []\n",
    "for i in range(len(arxiv_dataset['summary'])):\n",
    "    Text_Dataset = TextDataset(arxiv_dataset['summary'][i])\n",
    "    for symbol in Text_Dataset.all_symbols:\n",
    "        if symbol not in unique_symbols:\n",
    "            unique_symbols.append(symbol)"
   ]
  },
  {
   "cell_type": "code",
   "execution_count": null,
   "metadata": {
    "colab": {
     "base_uri": "https://localhost:8080/"
    },
    "id": "TUWQAQKkgxjR",
    "outputId": "ef694f17-d66c-4711-dece-4fa1b4b4aeaf"
   },
   "outputs": [
    {
     "data": {
      "text/plain": [
       "97"
      ]
     },
     "execution_count": 23,
     "metadata": {},
     "output_type": "execute_result"
    }
   ],
   "source": [
    "len(unique_symbols)"
   ]
  },
  {
   "cell_type": "code",
   "execution_count": null,
   "metadata": {
    "id": "rPuU98kHe18B"
   },
   "outputs": [],
   "source": [
    "# Text_Dataset = TextDataset(arxiv_dataset['summary'][5818])\n",
    "# len(Text_Dataset.all_symbols)"
   ]
  },
  {
   "cell_type": "code",
   "execution_count": null,
   "metadata": {
    "id": "QO8snknfan1W"
   },
   "outputs": [],
   "source": [
    "# unique_symbols = len(Text_Dataset.all_symbols)\n",
    "n_layers = 2\n",
    "hidden_size = 1000"
   ]
  },
  {
   "cell_type": "code",
   "execution_count": null,
   "metadata": {
    "id": "32LlQxoLrj89"
   },
   "outputs": [],
   "source": [
    "# torch.zeros(2, 1, 100)"
   ]
  },
  {
   "cell_type": "code",
   "execution_count": null,
   "metadata": {
    "id": "0rcpzJLlan1Z"
   },
   "outputs": [],
   "source": [
    "# unique_symbols"
   ]
  },
  {
   "cell_type": "code",
   "execution_count": null,
   "metadata": {
    "id": "T0pIYSrXan1j"
   },
   "outputs": [],
   "source": [
    "device = torch.device(\"cuda\")"
   ]
  },
  {
   "cell_type": "code",
   "execution_count": null,
   "metadata": {
    "id": "7wCYn1gaan1e"
   },
   "outputs": [],
   "source": [
    "net = RNN(len(unique_symbols), hidden_size, len(unique_symbols), n_layers)"
   ]
  },
  {
   "cell_type": "code",
   "execution_count": null,
   "metadata": {
    "id": "XCETV2_lan1m"
   },
   "outputs": [],
   "source": [
    "net = net.to(device)\n",
    "optimizer = torch.optim.Adam(net.parameters(), lr=1e-4)\n",
    "criterion = nn.CrossEntropyLoss().cuda()"
   ]
  },
  {
   "cell_type": "code",
   "execution_count": 105,
   "metadata": {},
   "outputs": [
    {
     "ename": "RuntimeError",
     "evalue": "CUDA error: device-side assert triggered\nCUDA kernel errors might be asynchronously reported at some other API call,so the stacktrace below might be incorrect.\nFor debugging consider passing CUDA_LAUNCH_BLOCKING=1.",
     "output_type": "error",
     "traceback": [
      "\u001b[1;31m---------------------------------------------------------------------------\u001b[0m",
      "\u001b[1;31mRuntimeError\u001b[0m                              Traceback (most recent call last)",
      "File \u001b[1;32m~\\anaconda3\\envs\\gpu\\lib\\site-packages\\IPython\\core\\formatters.py:707\u001b[0m, in \u001b[0;36mPlainTextFormatter.__call__\u001b[1;34m(self, obj)\u001b[0m\n\u001b[0;32m    700\u001b[0m stream \u001b[38;5;241m=\u001b[39m StringIO()\n\u001b[0;32m    701\u001b[0m printer \u001b[38;5;241m=\u001b[39m pretty\u001b[38;5;241m.\u001b[39mRepresentationPrinter(stream, \u001b[38;5;28mself\u001b[39m\u001b[38;5;241m.\u001b[39mverbose,\n\u001b[0;32m    702\u001b[0m     \u001b[38;5;28mself\u001b[39m\u001b[38;5;241m.\u001b[39mmax_width, \u001b[38;5;28mself\u001b[39m\u001b[38;5;241m.\u001b[39mnewline,\n\u001b[0;32m    703\u001b[0m     max_seq_length\u001b[38;5;241m=\u001b[39m\u001b[38;5;28mself\u001b[39m\u001b[38;5;241m.\u001b[39mmax_seq_length,\n\u001b[0;32m    704\u001b[0m     singleton_pprinters\u001b[38;5;241m=\u001b[39m\u001b[38;5;28mself\u001b[39m\u001b[38;5;241m.\u001b[39msingleton_printers,\n\u001b[0;32m    705\u001b[0m     type_pprinters\u001b[38;5;241m=\u001b[39m\u001b[38;5;28mself\u001b[39m\u001b[38;5;241m.\u001b[39mtype_printers,\n\u001b[0;32m    706\u001b[0m     deferred_pprinters\u001b[38;5;241m=\u001b[39m\u001b[38;5;28mself\u001b[39m\u001b[38;5;241m.\u001b[39mdeferred_printers)\n\u001b[1;32m--> 707\u001b[0m \u001b[43mprinter\u001b[49m\u001b[38;5;241;43m.\u001b[39;49m\u001b[43mpretty\u001b[49m\u001b[43m(\u001b[49m\u001b[43mobj\u001b[49m\u001b[43m)\u001b[49m\n\u001b[0;32m    708\u001b[0m printer\u001b[38;5;241m.\u001b[39mflush()\n\u001b[0;32m    709\u001b[0m \u001b[38;5;28;01mreturn\u001b[39;00m stream\u001b[38;5;241m.\u001b[39mgetvalue()\n",
      "File \u001b[1;32m~\\anaconda3\\envs\\gpu\\lib\\site-packages\\IPython\\lib\\pretty.py:410\u001b[0m, in \u001b[0;36mRepresentationPrinter.pretty\u001b[1;34m(self, obj)\u001b[0m\n\u001b[0;32m    407\u001b[0m                         \u001b[38;5;28;01mreturn\u001b[39;00m meth(obj, \u001b[38;5;28mself\u001b[39m, cycle)\n\u001b[0;32m    408\u001b[0m                 \u001b[38;5;28;01mif\u001b[39;00m \u001b[38;5;28mcls\u001b[39m \u001b[38;5;129;01mis\u001b[39;00m \u001b[38;5;129;01mnot\u001b[39;00m \u001b[38;5;28mobject\u001b[39m \\\n\u001b[0;32m    409\u001b[0m                         \u001b[38;5;129;01mand\u001b[39;00m callable(\u001b[38;5;28mcls\u001b[39m\u001b[38;5;241m.\u001b[39m\u001b[38;5;18m__dict__\u001b[39m\u001b[38;5;241m.\u001b[39mget(\u001b[38;5;124m'\u001b[39m\u001b[38;5;124m__repr__\u001b[39m\u001b[38;5;124m'\u001b[39m)):\n\u001b[1;32m--> 410\u001b[0m                     \u001b[38;5;28;01mreturn\u001b[39;00m \u001b[43m_repr_pprint\u001b[49m\u001b[43m(\u001b[49m\u001b[43mobj\u001b[49m\u001b[43m,\u001b[49m\u001b[43m \u001b[49m\u001b[38;5;28;43mself\u001b[39;49m\u001b[43m,\u001b[49m\u001b[43m \u001b[49m\u001b[43mcycle\u001b[49m\u001b[43m)\u001b[49m\n\u001b[0;32m    412\u001b[0m     \u001b[38;5;28;01mreturn\u001b[39;00m _default_pprint(obj, \u001b[38;5;28mself\u001b[39m, cycle)\n\u001b[0;32m    413\u001b[0m \u001b[38;5;28;01mfinally\u001b[39;00m:\n",
      "File \u001b[1;32m~\\anaconda3\\envs\\gpu\\lib\\site-packages\\IPython\\lib\\pretty.py:778\u001b[0m, in \u001b[0;36m_repr_pprint\u001b[1;34m(obj, p, cycle)\u001b[0m\n\u001b[0;32m    776\u001b[0m \u001b[38;5;124;03m\"\"\"A pprint that just redirects to the normal repr function.\"\"\"\u001b[39;00m\n\u001b[0;32m    777\u001b[0m \u001b[38;5;66;03m# Find newlines and replace them with p.break_()\u001b[39;00m\n\u001b[1;32m--> 778\u001b[0m output \u001b[38;5;241m=\u001b[39m \u001b[38;5;28;43mrepr\u001b[39;49m\u001b[43m(\u001b[49m\u001b[43mobj\u001b[49m\u001b[43m)\u001b[49m\n\u001b[0;32m    779\u001b[0m lines \u001b[38;5;241m=\u001b[39m output\u001b[38;5;241m.\u001b[39msplitlines()\n\u001b[0;32m    780\u001b[0m \u001b[38;5;28;01mwith\u001b[39;00m p\u001b[38;5;241m.\u001b[39mgroup():\n",
      "File \u001b[1;32m~\\anaconda3\\envs\\gpu\\lib\\site-packages\\torch\\_tensor.py:426\u001b[0m, in \u001b[0;36mTensor.__repr__\u001b[1;34m(self, tensor_contents)\u001b[0m\n\u001b[0;32m    422\u001b[0m     \u001b[38;5;28;01mreturn\u001b[39;00m handle_torch_function(\n\u001b[0;32m    423\u001b[0m         Tensor\u001b[38;5;241m.\u001b[39m\u001b[38;5;21m__repr__\u001b[39m, (\u001b[38;5;28mself\u001b[39m,), \u001b[38;5;28mself\u001b[39m, tensor_contents\u001b[38;5;241m=\u001b[39mtensor_contents\n\u001b[0;32m    424\u001b[0m     )\n\u001b[0;32m    425\u001b[0m \u001b[38;5;66;03m# All strings are unicode in Python 3.\u001b[39;00m\n\u001b[1;32m--> 426\u001b[0m \u001b[38;5;28;01mreturn\u001b[39;00m \u001b[43mtorch\u001b[49m\u001b[38;5;241;43m.\u001b[39;49m\u001b[43m_tensor_str\u001b[49m\u001b[38;5;241;43m.\u001b[39;49m\u001b[43m_str\u001b[49m\u001b[43m(\u001b[49m\u001b[38;5;28;43mself\u001b[39;49m\u001b[43m,\u001b[49m\u001b[43m \u001b[49m\u001b[43mtensor_contents\u001b[49m\u001b[38;5;241;43m=\u001b[39;49m\u001b[43mtensor_contents\u001b[49m\u001b[43m)\u001b[49m\n",
      "File \u001b[1;32m~\\anaconda3\\envs\\gpu\\lib\\site-packages\\torch\\_tensor_str.py:637\u001b[0m, in \u001b[0;36m_str\u001b[1;34m(self, tensor_contents)\u001b[0m\n\u001b[0;32m    635\u001b[0m \u001b[38;5;28;01mwith\u001b[39;00m torch\u001b[38;5;241m.\u001b[39mno_grad():\n\u001b[0;32m    636\u001b[0m     guard \u001b[38;5;241m=\u001b[39m torch\u001b[38;5;241m.\u001b[39m_C\u001b[38;5;241m.\u001b[39m_DisableFuncTorch()\n\u001b[1;32m--> 637\u001b[0m     \u001b[38;5;28;01mreturn\u001b[39;00m \u001b[43m_str_intern\u001b[49m\u001b[43m(\u001b[49m\u001b[38;5;28;43mself\u001b[39;49m\u001b[43m,\u001b[49m\u001b[43m \u001b[49m\u001b[43mtensor_contents\u001b[49m\u001b[38;5;241;43m=\u001b[39;49m\u001b[43mtensor_contents\u001b[49m\u001b[43m)\u001b[49m\n",
      "File \u001b[1;32m~\\anaconda3\\envs\\gpu\\lib\\site-packages\\torch\\_tensor_str.py:568\u001b[0m, in \u001b[0;36m_str_intern\u001b[1;34m(inp, tensor_contents)\u001b[0m\n\u001b[0;32m    566\u001b[0m                     tensor_str \u001b[38;5;241m=\u001b[39m _tensor_str(\u001b[38;5;28mself\u001b[39m\u001b[38;5;241m.\u001b[39mto_dense(), indent)\n\u001b[0;32m    567\u001b[0m                 \u001b[38;5;28;01melse\u001b[39;00m:\n\u001b[1;32m--> 568\u001b[0m                     tensor_str \u001b[38;5;241m=\u001b[39m \u001b[43m_tensor_str\u001b[49m\u001b[43m(\u001b[49m\u001b[38;5;28;43mself\u001b[39;49m\u001b[43m,\u001b[49m\u001b[43m \u001b[49m\u001b[43mindent\u001b[49m\u001b[43m)\u001b[49m\n\u001b[0;32m    570\u001b[0m \u001b[38;5;28;01mif\u001b[39;00m \u001b[38;5;28mself\u001b[39m\u001b[38;5;241m.\u001b[39mlayout \u001b[38;5;241m!=\u001b[39m torch\u001b[38;5;241m.\u001b[39mstrided:\n\u001b[0;32m    571\u001b[0m     suffixes\u001b[38;5;241m.\u001b[39mappend(\u001b[38;5;124m\"\u001b[39m\u001b[38;5;124mlayout=\u001b[39m\u001b[38;5;124m\"\u001b[39m \u001b[38;5;241m+\u001b[39m \u001b[38;5;28mstr\u001b[39m(\u001b[38;5;28mself\u001b[39m\u001b[38;5;241m.\u001b[39mlayout))\n",
      "File \u001b[1;32m~\\anaconda3\\envs\\gpu\\lib\\site-packages\\torch\\_tensor_str.py:328\u001b[0m, in \u001b[0;36m_tensor_str\u001b[1;34m(self, indent)\u001b[0m\n\u001b[0;32m    324\u001b[0m     \u001b[38;5;28;01mreturn\u001b[39;00m _tensor_str_with_formatter(\n\u001b[0;32m    325\u001b[0m         \u001b[38;5;28mself\u001b[39m, indent, summarize, real_formatter, imag_formatter\n\u001b[0;32m    326\u001b[0m     )\n\u001b[0;32m    327\u001b[0m \u001b[38;5;28;01melse\u001b[39;00m:\n\u001b[1;32m--> 328\u001b[0m     formatter \u001b[38;5;241m=\u001b[39m \u001b[43m_Formatter\u001b[49m\u001b[43m(\u001b[49m\u001b[43mget_summarized_data\u001b[49m\u001b[43m(\u001b[49m\u001b[38;5;28;43mself\u001b[39;49m\u001b[43m)\u001b[49m\u001b[43m \u001b[49m\u001b[38;5;28;43;01mif\u001b[39;49;00m\u001b[43m \u001b[49m\u001b[43msummarize\u001b[49m\u001b[43m \u001b[49m\u001b[38;5;28;43;01melse\u001b[39;49;00m\u001b[43m \u001b[49m\u001b[38;5;28;43mself\u001b[39;49m\u001b[43m)\u001b[49m\n\u001b[0;32m    329\u001b[0m     \u001b[38;5;28;01mreturn\u001b[39;00m _tensor_str_with_formatter(\u001b[38;5;28mself\u001b[39m, indent, summarize, formatter)\n",
      "File \u001b[1;32m~\\anaconda3\\envs\\gpu\\lib\\site-packages\\torch\\_tensor_str.py:115\u001b[0m, in \u001b[0;36m_Formatter.__init__\u001b[1;34m(self, tensor)\u001b[0m\n\u001b[0;32m    112\u001b[0m         \u001b[38;5;28mself\u001b[39m\u001b[38;5;241m.\u001b[39mmax_width \u001b[38;5;241m=\u001b[39m \u001b[38;5;28mmax\u001b[39m(\u001b[38;5;28mself\u001b[39m\u001b[38;5;241m.\u001b[39mmax_width, \u001b[38;5;28mlen\u001b[39m(value_str))\n\u001b[0;32m    114\u001b[0m \u001b[38;5;28;01melse\u001b[39;00m:\n\u001b[1;32m--> 115\u001b[0m     nonzero_finite_vals \u001b[38;5;241m=\u001b[39m \u001b[43mtorch\u001b[49m\u001b[38;5;241;43m.\u001b[39;49m\u001b[43mmasked_select\u001b[49m\u001b[43m(\u001b[49m\n\u001b[0;32m    116\u001b[0m \u001b[43m        \u001b[49m\u001b[43mtensor_view\u001b[49m\u001b[43m,\u001b[49m\u001b[43m \u001b[49m\u001b[43mtorch\u001b[49m\u001b[38;5;241;43m.\u001b[39;49m\u001b[43misfinite\u001b[49m\u001b[43m(\u001b[49m\u001b[43mtensor_view\u001b[49m\u001b[43m)\u001b[49m\u001b[43m \u001b[49m\u001b[38;5;241;43m&\u001b[39;49m\u001b[43m \u001b[49m\u001b[43mtensor_view\u001b[49m\u001b[38;5;241;43m.\u001b[39;49m\u001b[43mne\u001b[49m\u001b[43m(\u001b[49m\u001b[38;5;241;43m0\u001b[39;49m\u001b[43m)\u001b[49m\n\u001b[0;32m    117\u001b[0m \u001b[43m    \u001b[49m\u001b[43m)\u001b[49m\n\u001b[0;32m    119\u001b[0m     \u001b[38;5;28;01mif\u001b[39;00m nonzero_finite_vals\u001b[38;5;241m.\u001b[39mnumel() \u001b[38;5;241m==\u001b[39m \u001b[38;5;241m0\u001b[39m:\n\u001b[0;32m    120\u001b[0m         \u001b[38;5;66;03m# no valid number, do nothing\u001b[39;00m\n\u001b[0;32m    121\u001b[0m         \u001b[38;5;28;01mreturn\u001b[39;00m\n",
      "\u001b[1;31mRuntimeError\u001b[0m: CUDA error: device-side assert triggered\nCUDA kernel errors might be asynchronously reported at some other API call,so the stacktrace below might be incorrect.\nFor debugging consider passing CUDA_LAUNCH_BLOCKING=1."
     ]
    }
   ],
   "source": [
    "hidden"
   ]
  },
  {
   "cell_type": "markdown",
   "metadata": {
    "id": "mUNreOMx48it"
   },
   "source": [
    "# Здесь нужно реализовать функцию для генерации текста с помощью сети"
   ]
  },
  {
   "cell_type": "code",
   "execution_count": 56,
   "metadata": {
    "id": "dxxUXllHan1q"
   },
   "outputs": [],
   "source": [
    "def generate(net, device, dataset, prime_str=\"A\", predict_len=100, temperature=0.8):\n",
    "    with torch.no_grad():\n",
    "        net.eval()\n",
    "        predicted_string = prime_str\n",
    "        hidden = net.init_hidden().cuda()\n",
    "#         input_char = torch.LongTensor([dataset.all_symbols.index(prime_str)]).cuda()\n",
    "        input_char = dataset._get_tensor(prime_str)\n",
    "\n",
    "        while len(predicted_string) < predict_len:\n",
    "\n",
    "            output, hidden = net(input_char, hidden) # генерируем продолжение строки и новый hidden\n",
    "            id_of_next_char = output.argmax() # ищем номер самой вероятной буквы для продолжения\n",
    "            if id_of_next_char == len(dataset.all_symbols) - 1:\n",
    "                break\n",
    "            next_char = dataset.all_symbols[id_of_next_char]\n",
    "            predicted_string += next_char\n",
    "            \n",
    "#             input_char = torch.LongTensor([dataset.all_symbols.index(next_char)]).cuda()\n",
    "            input_char = dataset._get_tensor(next_char)\n",
    "            \n",
    "        return predicted_string"
   ]
  },
  {
   "cell_type": "code",
   "execution_count": 57,
   "metadata": {},
   "outputs": [],
   "source": [
    "text_dataset = TextDataset(arxiv_dataset['summary'][0], symbols, chunk_len=1)"
   ]
  },
  {
   "cell_type": "code",
   "execution_count": 58,
   "metadata": {
    "id": "a-GbTX_rONy9"
   },
   "outputs": [
    {
     "data": {
      "text/plain": [
       "'At wAMawiAMawiAMawiAMawiAMawiAMawiAMawiAMawiAMawiAMawiAMawiAMawiAMawiAMawiAMawiAMawiAMawiAMawiAMawiA'"
      ]
     },
     "execution_count": 58,
     "metadata": {},
     "output_type": "execute_result"
    }
   ],
   "source": [
    "generate(net, device, text_dataset)"
   ]
  },
  {
   "cell_type": "markdown",
   "metadata": {
    "id": "Yg6SlunJ5D2J"
   },
   "source": [
    "# Здесь должен быть цикл тренировки"
   ]
  },
  {
   "cell_type": "code",
   "execution_count": null,
   "metadata": {
    "id": "OM0k28d5an1y"
   },
   "outputs": [],
   "source": [
    "epochs = 100"
   ]
  },
  {
   "cell_type": "code",
   "execution_count": null,
   "metadata": {
    "id": "k-7Or0mLan11"
   },
   "outputs": [],
   "source": [
    "start = time.time()\n",
    "\n",
    "net.train()\n",
    "# hidden = net.init_hidden()\n",
    "for epoch in range(1, epochs+1):\n",
    "#     hidden = net.init_hidden().to(device)\n",
    "#     hidden = torch.zeros(n_layers, 1, 1000)\n",
    "    # for inputs, targets in loader:\n",
    "    for i, batch in enumerate(loader):\n",
    "        #Your code for training here\n",
    "        # hidden = tuple(([Variable(var.data) for var in hidden]))\n",
    "        optimizer.zero_grad()\n",
    "        \n",
    "#         print(batch['inputs'])\n",
    "#         print(hidden.to(device).size(-1))\n",
    "        output, hidden = net(batch['inputs'].to(device), hidden)\n",
    "#         loss = criterion(output, batch['targets'].to(device))\n",
    "#         loss.backward()\n",
    "        optimizer.step()\n",
    "\n",
    "print(\"Saving...\")\n",
    "RNN.save_model(net, \"TrainedModel.ckpt\")"
   ]
  },
  {
   "cell_type": "code",
   "execution_count": 76,
   "metadata": {
    "id": "wyt9m9KSo7cg"
   },
   "outputs": [
    {
     "name": "stdout",
     "output_type": "stream",
     "text": [
      "100\n"
     ]
    }
   ],
   "source": [
    "print(len(hidden[0][0]))"
   ]
  },
  {
   "cell_type": "code",
   "execution_count": 19,
   "metadata": {
    "id": "FmnpaXXmd4ys"
   },
   "outputs": [
    {
     "data": {
      "text/plain": [
       "torch.Size([1, 98])"
      ]
     },
     "execution_count": 19,
     "metadata": {},
     "output_type": "execute_result"
    }
   ],
   "source": [
    "inputs = torch.LongTensor([symbols.index(\"A\")]).cuda()\n",
    "net(inputs, hidden.cuda())[0].shape"
   ]
  },
  {
   "cell_type": "code",
   "execution_count": 22,
   "metadata": {},
   "outputs": [],
   "source": [
    "pred = net(inputs, hidden.cuda())[0]"
   ]
  },
  {
   "cell_type": "code",
   "execution_count": 35,
   "metadata": {},
   "outputs": [
    {
     "data": {
      "text/plain": [
       "tensor([[ -3.4287,   0.7673,  -5.5772,  -3.6050,  -4.0858,  -1.0775,  -5.9385,\n",
       "          -4.6353,  -0.4473,   0.0648,  -5.2527,  -1.7242,  -2.6784,   0.6840,\n",
       "          -4.4650,  -6.1217,  -7.1478,   0.2174,  -6.0777,  -6.3620,  -4.9229,\n",
       "           0.1024,  -2.6279,  -1.6673,  -6.2317,  -1.9567,  -6.0442,  -7.3561,\n",
       "          -2.5173,  -1.0740,   1.1548,  -4.7866,  -6.2299,   1.2050,  -2.9068,\n",
       "          -0.7309,  -5.8618,  -4.2097,  -6.0112,  -6.4307,  -7.0132,  -5.7819,\n",
       "          -5.6711,  -9.1844,  -6.2927,  -6.7617,  -9.0003,  -8.6777,  -6.7467,\n",
       "          -6.3367,  -6.8252,  -6.2397,  -7.1575,  -6.9217,  -8.6735,  -6.7276,\n",
       "         -10.1495,  -6.1476,  -8.1759,  -7.1865,  -5.5879,  -7.0190, -11.7084,\n",
       "         -11.9192,  -6.7862, -10.6048,  -9.3374, -10.3494, -11.4785, -10.4546,\n",
       "          -7.1347,  -8.8615,  -8.0262, -11.4216, -15.7779,  -8.6676, -14.3619,\n",
       "         -12.7619, -10.3936, -14.1475, -13.5221, -12.7191, -10.2625, -11.6673,\n",
       "         -15.2373, -14.1318, -16.4665, -12.6955, -15.7103, -17.5889, -16.5466,\n",
       "         -17.4638, -17.8706, -17.9058, -18.0116, -17.7371, -17.9195,  -5.7733]],\n",
       "       device='cuda:0', grad_fn=<AddmmBackward0>)"
      ]
     },
     "execution_count": 35,
     "metadata": {},
     "output_type": "execute_result"
    }
   ],
   "source": [
    "pred"
   ]
  },
  {
   "cell_type": "code",
   "execution_count": 33,
   "metadata": {},
   "outputs": [
    {
     "data": {
      "text/plain": [
       "tensor(33, device='cuda:0')"
      ]
     },
     "execution_count": 33,
     "metadata": {},
     "output_type": "execute_result"
    }
   ],
   "source": [
    "pred.argmax()"
   ]
  },
  {
   "cell_type": "code",
   "execution_count": 36,
   "metadata": {},
   "outputs": [
    {
     "data": {
      "text/plain": [
       "'M'"
      ]
     },
     "execution_count": 36,
     "metadata": {},
     "output_type": "execute_result"
    }
   ],
   "source": [
    "symbols[pred.argmax()]"
   ]
  },
  {
   "cell_type": "code",
   "execution_count": 75,
   "metadata": {
    "id": "spXEocSpeUl_"
   },
   "outputs": [
    {
     "ename": "NameError",
     "evalue": "name 'targets' is not defined",
     "output_type": "error",
     "traceback": [
      "\u001b[1;31m---------------------------------------------------------------------------\u001b[0m",
      "\u001b[1;31mNameError\u001b[0m                                 Traceback (most recent call last)",
      "Input \u001b[1;32mIn [75]\u001b[0m, in \u001b[0;36m<cell line: 1>\u001b[1;34m()\u001b[0m\n\u001b[1;32m----> 1\u001b[0m \u001b[43mtargets\u001b[49m[\u001b[38;5;241m0\u001b[39m]\n",
      "\u001b[1;31mNameError\u001b[0m: name 'targets' is not defined"
     ]
    }
   ],
   "source": [
    "targets[0]"
   ]
  },
  {
   "cell_type": "markdown",
   "metadata": {
    "id": "DZ_g0iNran2A"
   },
   "source": [
    "## Результаты тренировки"
   ]
  },
  {
   "cell_type": "code",
   "execution_count": null,
   "metadata": {
    "id": "KGgmnmQPan2B"
   },
   "outputs": [],
   "source": [
    "print(generate(net, device, arxiv_dataset, 'In this research', 200 ), '\\n')"
   ]
  },
  {
   "cell_type": "code",
   "execution_count": null,
   "metadata": {
    "id": "gqk5li8han2M"
   },
   "outputs": [],
   "source": []
  },
  {
   "cell_type": "markdown",
   "metadata": {
    "id": "o7s73qNy5xEY"
   },
   "source": [
    "# Здесь должны быть эксперименты с архитектурой и параметрами сети"
   ]
  },
  {
   "cell_type": "code",
   "execution_count": 2,
   "metadata": {
    "id": "ZQjQJHYQUAVA"
   },
   "outputs": [],
   "source": [
    "device = torch.device(\"cuda\")"
   ]
  },
  {
   "cell_type": "code",
   "execution_count": 3,
   "metadata": {
    "colab": {
     "base_uri": "https://localhost:8080/",
     "height": 797
    },
    "id": "lRVx9imnUAVA",
    "outputId": "d2874f0d-8b79-4704-d388-426f7f96904d"
   },
   "outputs": [
    {
     "data": {
      "text/html": [
       "<div>\n",
       "<style scoped>\n",
       "    .dataframe tbody tr th:only-of-type {\n",
       "        vertical-align: middle;\n",
       "    }\n",
       "\n",
       "    .dataframe tbody tr th {\n",
       "        vertical-align: top;\n",
       "    }\n",
       "\n",
       "    .dataframe thead th {\n",
       "        text-align: right;\n",
       "    }\n",
       "</style>\n",
       "<table border=\"1\" class=\"dataframe\">\n",
       "  <thead>\n",
       "    <tr style=\"text-align: right;\">\n",
       "      <th></th>\n",
       "      <th>link</th>\n",
       "      <th>time</th>\n",
       "      <th>favorites</th>\n",
       "      <th>rts</th>\n",
       "      <th>authors</th>\n",
       "      <th>category</th>\n",
       "      <th>published</th>\n",
       "      <th>summary</th>\n",
       "      <th>title</th>\n",
       "      <th>tweeted</th>\n",
       "    </tr>\n",
       "  </thead>\n",
       "  <tbody>\n",
       "    <tr>\n",
       "      <th>0</th>\n",
       "      <td>arxiv.org/abs/1611.10003</td>\n",
       "      <td>NaN</td>\n",
       "      <td>NaN</td>\n",
       "      <td>NaN</td>\n",
       "      <td>[Tom A. F. Anderson, C. -H. Ruan]</td>\n",
       "      <td>q-bio.NC</td>\n",
       "      <td>2016-11-30 05:17:11</td>\n",
       "      <td>In summary of the research findings presented ...</td>\n",
       "      <td>Vocabulary and the Brain: Evidence from Neuroi...</td>\n",
       "      <td>0</td>\n",
       "    </tr>\n",
       "    <tr>\n",
       "      <th>1</th>\n",
       "      <td>arxiv.org/abs/1611.10007</td>\n",
       "      <td>NaN</td>\n",
       "      <td>NaN</td>\n",
       "      <td>NaN</td>\n",
       "      <td>[M. Amin Rahimian, Amir G. Aghdam]</td>\n",
       "      <td>cs.SY</td>\n",
       "      <td>2016-11-30 05:37:11</td>\n",
       "      <td>In this paper, structural controllability of a...</td>\n",
       "      <td>Structural Controllability of Multi-Agent Netw...</td>\n",
       "      <td>0</td>\n",
       "    </tr>\n",
       "    <tr>\n",
       "      <th>2</th>\n",
       "      <td>arxiv.org/abs/1611.10010</td>\n",
       "      <td>NaN</td>\n",
       "      <td>NaN</td>\n",
       "      <td>NaN</td>\n",
       "      <td>[Debidatta Dwibedi, Tomasz Malisiewicz, Vijay ...</td>\n",
       "      <td>cs.CV</td>\n",
       "      <td>2016-11-30 06:00:47</td>\n",
       "      <td>We present a Deep Cuboid Detector which takes ...</td>\n",
       "      <td>Deep Cuboid Detection: Beyond 2D Bounding Boxes</td>\n",
       "      <td>0</td>\n",
       "    </tr>\n",
       "    <tr>\n",
       "      <th>3</th>\n",
       "      <td>arxiv.org/abs/1611.10012</td>\n",
       "      <td>2016-12-01 01:46:12</td>\n",
       "      <td>11.0</td>\n",
       "      <td>2.0</td>\n",
       "      <td>[Jonathan Huang, Vivek Rathod, Chen Sun, Mengl...</td>\n",
       "      <td>cs.CV</td>\n",
       "      <td>2016-11-30 06:06:15</td>\n",
       "      <td>In this paper, we study the trade-off between ...</td>\n",
       "      <td>Speed/accuracy trade-offs for modern convoluti...</td>\n",
       "      <td>1</td>\n",
       "    </tr>\n",
       "    <tr>\n",
       "      <th>4</th>\n",
       "      <td>arxiv.org/abs/1611.10014</td>\n",
       "      <td>NaN</td>\n",
       "      <td>NaN</td>\n",
       "      <td>NaN</td>\n",
       "      <td>[Yoones Hashemi, Amir H. Banihashemi]</td>\n",
       "      <td>cs.IT</td>\n",
       "      <td>2016-11-30 06:12:45</td>\n",
       "      <td>In this paper, we propose a characterization o...</td>\n",
       "      <td>Characterization and Efficient Exhaustive Sear...</td>\n",
       "      <td>0</td>\n",
       "    </tr>\n",
       "    <tr>\n",
       "      <th>...</th>\n",
       "      <td>...</td>\n",
       "      <td>...</td>\n",
       "      <td>...</td>\n",
       "      <td>...</td>\n",
       "      <td>...</td>\n",
       "      <td>...</td>\n",
       "      <td>...</td>\n",
       "      <td>...</td>\n",
       "      <td>...</td>\n",
       "      <td>...</td>\n",
       "    </tr>\n",
       "    <tr>\n",
       "      <th>27183</th>\n",
       "      <td>arxiv.org/abs/1710.04176</td>\n",
       "      <td>NaN</td>\n",
       "      <td>NaN</td>\n",
       "      <td>NaN</td>\n",
       "      <td>[C. -C. Jay Kuo, Yueru Chen]</td>\n",
       "      <td>cs.CV</td>\n",
       "      <td>2017-10-11 17:08:28</td>\n",
       "      <td>Being motivated by the multilayer RECOS (REcti...</td>\n",
       "      <td>On Data-Driven Saak Transform</td>\n",
       "      <td>0</td>\n",
       "    </tr>\n",
       "    <tr>\n",
       "      <th>27184</th>\n",
       "      <td>arxiv.org/abs/1710.04177</td>\n",
       "      <td>NaN</td>\n",
       "      <td>NaN</td>\n",
       "      <td>NaN</td>\n",
       "      <td>[Heather Mattie, Kenth Engø-Monsen, Rich Ling,...</td>\n",
       "      <td>cs.SI</td>\n",
       "      <td>2017-10-11 17:12:05</td>\n",
       "      <td>Understanding tie strength in social networks,...</td>\n",
       "      <td>The Social Bow Tie</td>\n",
       "      <td>0</td>\n",
       "    </tr>\n",
       "    <tr>\n",
       "      <th>27185</th>\n",
       "      <td>arxiv.org/abs/1710.04196</td>\n",
       "      <td>NaN</td>\n",
       "      <td>NaN</td>\n",
       "      <td>NaN</td>\n",
       "      <td>[Robin Scheibler, Eric Bezzam, Ivan Dokmanić]</td>\n",
       "      <td>cs.MS</td>\n",
       "      <td>2017-10-11 17:44:41</td>\n",
       "      <td>We present pyroomacoustics, a software package...</td>\n",
       "      <td>Pyroomacoustics: A Python package for audio ro...</td>\n",
       "      <td>0</td>\n",
       "    </tr>\n",
       "    <tr>\n",
       "      <th>27186</th>\n",
       "      <td>arxiv.org/abs/1710.04200</td>\n",
       "      <td>NaN</td>\n",
       "      <td>NaN</td>\n",
       "      <td>NaN</td>\n",
       "      <td>[Yijun Li, Jia-Bin Huang, Narendra Ahuja, Ming...</td>\n",
       "      <td>cs.CV</td>\n",
       "      <td>2017-10-11 17:56:59</td>\n",
       "      <td>Joint image filters leverage the guidance imag...</td>\n",
       "      <td>Joint Image Filtering with Deep Convolutional ...</td>\n",
       "      <td>0</td>\n",
       "    </tr>\n",
       "    <tr>\n",
       "      <th>27187</th>\n",
       "      <td>arxiv.org/abs/1710.04203</td>\n",
       "      <td>NaN</td>\n",
       "      <td>NaN</td>\n",
       "      <td>NaN</td>\n",
       "      <td>[Giannis Haralabopoulos, Elena Simperl]</td>\n",
       "      <td>cs.CL</td>\n",
       "      <td>2017-10-04 21:38:48</td>\n",
       "      <td>Sentiment analysis aims to uncover emotions co...</td>\n",
       "      <td>Crowdsourcing for Beyond Polarity Sentiment An...</td>\n",
       "      <td>0</td>\n",
       "    </tr>\n",
       "  </tbody>\n",
       "</table>\n",
       "<p>27188 rows × 10 columns</p>\n",
       "</div>"
      ],
      "text/plain": [
       "                           link                 time  favorites  rts  \\\n",
       "0      arxiv.org/abs/1611.10003                  NaN        NaN  NaN   \n",
       "1      arxiv.org/abs/1611.10007                  NaN        NaN  NaN   \n",
       "2      arxiv.org/abs/1611.10010                  NaN        NaN  NaN   \n",
       "3      arxiv.org/abs/1611.10012  2016-12-01 01:46:12       11.0  2.0   \n",
       "4      arxiv.org/abs/1611.10014                  NaN        NaN  NaN   \n",
       "...                         ...                  ...        ...  ...   \n",
       "27183  arxiv.org/abs/1710.04176                  NaN        NaN  NaN   \n",
       "27184  arxiv.org/abs/1710.04177                  NaN        NaN  NaN   \n",
       "27185  arxiv.org/abs/1710.04196                  NaN        NaN  NaN   \n",
       "27186  arxiv.org/abs/1710.04200                  NaN        NaN  NaN   \n",
       "27187  arxiv.org/abs/1710.04203                  NaN        NaN  NaN   \n",
       "\n",
       "                                                 authors  category  \\\n",
       "0                      [Tom A. F. Anderson, C. -H. Ruan]  q-bio.NC   \n",
       "1                     [M. Amin Rahimian, Amir G. Aghdam]     cs.SY   \n",
       "2      [Debidatta Dwibedi, Tomasz Malisiewicz, Vijay ...     cs.CV   \n",
       "3      [Jonathan Huang, Vivek Rathod, Chen Sun, Mengl...     cs.CV   \n",
       "4                  [Yoones Hashemi, Amir H. Banihashemi]     cs.IT   \n",
       "...                                                  ...       ...   \n",
       "27183                       [C. -C. Jay Kuo, Yueru Chen]     cs.CV   \n",
       "27184  [Heather Mattie, Kenth Engø-Monsen, Rich Ling,...     cs.SI   \n",
       "27185      [Robin Scheibler, Eric Bezzam, Ivan Dokmanić]     cs.MS   \n",
       "27186  [Yijun Li, Jia-Bin Huang, Narendra Ahuja, Ming...     cs.CV   \n",
       "27187            [Giannis Haralabopoulos, Elena Simperl]     cs.CL   \n",
       "\n",
       "                 published                                            summary  \\\n",
       "0      2016-11-30 05:17:11  In summary of the research findings presented ...   \n",
       "1      2016-11-30 05:37:11  In this paper, structural controllability of a...   \n",
       "2      2016-11-30 06:00:47  We present a Deep Cuboid Detector which takes ...   \n",
       "3      2016-11-30 06:06:15  In this paper, we study the trade-off between ...   \n",
       "4      2016-11-30 06:12:45  In this paper, we propose a characterization o...   \n",
       "...                    ...                                                ...   \n",
       "27183  2017-10-11 17:08:28  Being motivated by the multilayer RECOS (REcti...   \n",
       "27184  2017-10-11 17:12:05  Understanding tie strength in social networks,...   \n",
       "27185  2017-10-11 17:44:41  We present pyroomacoustics, a software package...   \n",
       "27186  2017-10-11 17:56:59  Joint image filters leverage the guidance imag...   \n",
       "27187  2017-10-04 21:38:48  Sentiment analysis aims to uncover emotions co...   \n",
       "\n",
       "                                                   title  tweeted  \n",
       "0      Vocabulary and the Brain: Evidence from Neuroi...        0  \n",
       "1      Structural Controllability of Multi-Agent Netw...        0  \n",
       "2        Deep Cuboid Detection: Beyond 2D Bounding Boxes        0  \n",
       "3      Speed/accuracy trade-offs for modern convoluti...        1  \n",
       "4      Characterization and Efficient Exhaustive Sear...        0  \n",
       "...                                                  ...      ...  \n",
       "27183                      On Data-Driven Saak Transform        0  \n",
       "27184                                 The Social Bow Tie        0  \n",
       "27185  Pyroomacoustics: A Python package for audio ro...        0  \n",
       "27186  Joint Image Filtering with Deep Convolutional ...        0  \n",
       "27187  Crowdsourcing for Beyond Polarity Sentiment An...        0  \n",
       "\n",
       "[27188 rows x 10 columns]"
      ]
     },
     "execution_count": 3,
     "metadata": {},
     "output_type": "execute_result"
    }
   ],
   "source": [
    "arxiv_dataset = pd.read_csv('arxiv.csv') \n",
    "# arxiv_dataset = pd.read_csv('/content/drive/MyDrive/Универ/arxiv.csv') \n",
    "arxiv_dataset"
   ]
  },
  {
   "cell_type": "code",
   "execution_count": 60,
   "metadata": {},
   "outputs": [
    {
     "ename": "TypeError",
     "evalue": "list indices must be integers or slices, not tuple",
     "output_type": "error",
     "traceback": [
      "\u001b[1;31m---------------------------------------------------------------------------\u001b[0m",
      "\u001b[1;31mTypeError\u001b[0m                                 Traceback (most recent call last)",
      "Input \u001b[1;32mIn [60]\u001b[0m, in \u001b[0;36m<cell line: 2>\u001b[1;34m()\u001b[0m\n\u001b[0;32m      1\u001b[0m \u001b[38;5;28mstr\u001b[39m \u001b[38;5;241m=\u001b[39m [\u001b[38;5;124m\"\u001b[39m\u001b[38;5;124mabcdefghi\u001b[39m\u001b[38;5;124m\"\u001b[39m]\n\u001b[1;32m----> 2\u001b[0m \u001b[38;5;28;43mstr\u001b[39;49m\u001b[43m[\u001b[49m\u001b[43m:\u001b[49m\u001b[43m,\u001b[49m\u001b[38;5;241;43m5\u001b[39;49m\u001b[43m]\u001b[49m\n",
      "\u001b[1;31mTypeError\u001b[0m: list indices must be integers or slices, not tuple"
     ]
    }
   ],
   "source": [
    "str = [\"abcdefghi\"]\n",
    "str[:,5]"
   ]
  },
  {
   "cell_type": "code",
   "execution_count": 4,
   "metadata": {
    "id": "4ydEUTISUAVC"
   },
   "outputs": [],
   "source": [
    "class TextDataset(Dataset):\n",
    "    def __init__(self, text, input_dict=None, chunk_len=10, chunks_number=100):\n",
    "        self.chunks_number = chunks_number # количество блоков\n",
    "        self.chunk_len = chunk_len  # длина одного блока (на сколько букв смотрим назад при предсказании)\n",
    "        self.text = text\n",
    "        # self.all_symbols = list({x for x in self.text})\n",
    "        if input_dict == None:\n",
    "            self.all_symbols = list({x for x in self.text})\n",
    "        else:\n",
    "            self.all_symbols = input_dict\n",
    "    \n",
    "    def __len__(self): # возвращает число чанков (случайных слайсов по тексту?)\n",
    "        return self.chunks_number\n",
    "    \n",
    "    def _get_tensor(self, text):   # ставит в соответствие каждой букве из текста её индекс\n",
    "        return torch.LongTensor(list(map(self.all_symbols.index, text))).cuda()\n",
    "    \n",
    "    def _decode_vector(self, text):   # декодирует вектор из цифр (text) в текст\n",
    "        text = text.view(-1).cpu().numpy()\n",
    "        if text.shape[0] == 1:\n",
    "            text = list(text)\n",
    "        return ''.join([self.all_symbols[x] for x in text])\n",
    "    \n",
    "    def _get_random_slice(self):  # берет случайный срез букв из текста\n",
    "        start_index = random.randint(0, len(self.text) - self.chunk_len)\n",
    "        end_index = start_index + self.chunk_len + 1\n",
    "#         print(\"start: \", start_index, \"end: \", end_index)\n",
    "        return self.text[start_index:end_index]\n",
    "    \n",
    "    # 1 саммари - 100 инпутов и 100 таргетов \n",
    "    def __getitem__(self, idx):\n",
    "#         print(\"==========================================\")\n",
    "        chunk = self._get_random_slice()\n",
    "#         print(\"text:\", self.text)\n",
    "#         print(\"chunk:\", chunk)\n",
    "#         print(\"symbols:\")\n",
    "#         for symb in self.all_symbols:\n",
    "#             print(self._get_tensor(symb), symb)\n",
    "        # self._get_tensor(chunk[:-1]) - текущее состояние, self._get_tensor(chunk[1:]) - следующее состояние (target)??\n",
    "        if len(chunk) == self.chunk_len + 1: # стандартное поведение\n",
    "#             print(\"check passed, return:\", self._get_tensor(chunk[:-1]), self._get_tensor(chunk[1:]))\n",
    "            return self._get_tensor(chunk[:-1]), self._get_tensor(chunk[1:])  # chunk[:-1] не включает последний эл-т, chunk[1:] не включает первый эл-т\n",
    "        else: # попали на последний символ\n",
    "            # print(\"check unpassed, return:\", torch.LongTensor([self.all_symbols.index(char) for char in chunk]).cuda(), torch.LongTensor([self.all_symbols.index(char) for char in chunk[1:]] + [97]).cuda())\n",
    "            return torch.LongTensor([self.all_symbols.index(char) for char in chunk]).cuda(), torch.LongTensor([self.all_symbols.index(char) for char in chunk[1:]] + [97]).cuda()\n",
    "#             return torch.LongTensor([str.all_symbols.index(char) for char in text] + [99]).cuda()"
   ]
  },
  {
   "cell_type": "code",
   "execution_count": 5,
   "metadata": {
    "id": "9FkGRFFAUAVD"
   },
   "outputs": [],
   "source": [
    "symbols = []\n",
    "for i in range(len(arxiv_dataset['summary'])):\n",
    "    Text_Dataset = TextDataset(arxiv_dataset['summary'][i])\n",
    "    for symbol in Text_Dataset.all_symbols:\n",
    "        if symbol not in symbols:\n",
    "            symbols.append(symbol)\n",
    "\n",
    "symbols.append('')"
   ]
  },
  {
   "cell_type": "code",
   "execution_count": 6,
   "metadata": {
    "colab": {
     "base_uri": "https://localhost:8080/"
    },
    "id": "jhgGb07RWMqH",
    "outputId": "af07f464-c444-46e8-8e49-e513a491c504"
   },
   "outputs": [
    {
     "data": {
      "text/plain": [
       "98"
      ]
     },
     "execution_count": 6,
     "metadata": {},
     "output_type": "execute_result"
    }
   ],
   "source": [
    "len(symbols)"
   ]
  },
  {
   "cell_type": "code",
   "execution_count": 94,
   "metadata": {
    "id": "vfI8qOpIUAVE"
   },
   "outputs": [],
   "source": [
    "# params\n",
    "unique_symbols = len(symbols)\n",
    "n_layers = 2\n",
    "hidden_size = 100\n",
    "epochs = 50\n",
    "chunk_len = 10\n",
    "batch_size = 100"
   ]
  },
  {
   "cell_type": "code",
   "execution_count": 8,
   "metadata": {
    "id": "ZS0qg5Ra54_X"
   },
   "outputs": [],
   "source": [
    "class RNN(nn.Module):\n",
    "    def __init__(self, input_size, hidden_size, output_size, n_layers=1):\n",
    "        super(RNN, self).__init__()\n",
    "        self.input_size = input_size\n",
    "        self.hidden_size = hidden_size\n",
    "        self.output_size = output_size\n",
    "        self.n_layers = n_layers\n",
    "        \n",
    "        self.encoder = nn.Embedding(input_size, hidden_size)\n",
    "        # input_size (==unique_symbols) – size of the dictionary of embeddings\n",
    "        # hidden_size – the size of each embedding vector\n",
    "        # Вход: (*) IntTensor или LongTensor произвольной формы, содержащие индексы для извлечения\n",
    "        # Output: (∗, H), where * is the input shape and H = hidden_size\n",
    "        \n",
    "        self.gru = nn.GRU(hidden_size, hidden_size, n_layers)\n",
    "        self.decoder = nn.Linear(hidden_size, output_size)\n",
    "        \n",
    "    \n",
    "    def forward(self, inputs, hidden):\n",
    "#         print(\"input before encoding: \", inputs)\n",
    "#         print(\"input shape before encoding: \", input.shape)\n",
    "#         print(\"================================================\")\n",
    "        inputs = self.encoder(inputs.view(1, -1))\n",
    "        # Embedding — кажому элементу из input-а ставит некоторое векторное представление размера hidden_size\n",
    "        # Например, если пришёл один тензор из 10 элементов (10 закодированных символов char), то кажому из этих 10 элементов будет поставлен в соответствии вектор размера hidden_size \n",
    "        # вернёт тензор второй вложенности размера len(inputs) * hidden_size\n",
    "#         print(\"input after encoding: \", inputs)\n",
    "#         print(\"input shape after encoding: \", input.shape)\n",
    "#         print(\"================================================\")\n",
    "#         print(\"input.view(-1): \", input.view(-1))\n",
    "#         print(\"================================================\")\n",
    "#         print(\"input.view(-1) size: \", len(input.view(-1)))\n",
    "#         print(\"================================================\")\n",
    "        output, hidden = self.gru(inputs.view(1, 1, -1), hidden)\n",
    "#         print(\"gru passed\")\n",
    "        output = self.decoder(output.view(1, -1))\n",
    "        return output, hidden\n",
    "\n",
    "    def init_hidden(self):\n",
    "        return torch.zeros(self.n_layers, 1, self.hidden_size)\n",
    "    \n",
    "    def save_model(model, filename='rnn.ckpt'):\n",
    "        checkpoint = {'input_size': model.input_size,\n",
    "                      'hidden_size': model.hidden_size,\n",
    "                      'output_size': model.output_size,\n",
    "                      'n_layers': model.n_layers,\n",
    "                      'state_dict': model.state_dict()}\n",
    "        with open(filename, 'wb') as f:\n",
    "            torch.save(checkpoint, f)\n",
    "\n",
    "    def load_model(filename):\n",
    "\n",
    "        with open(filename, 'rb') as f:\n",
    "            checkpoint = torch.load(f)\n",
    "\n",
    "        model = RNN(input_size = checkpoint['input_size'], output_size = checkpoint['output_size'], hidden_size=checkpoint['hidden_size'], n_layers=checkpoint['n_layers'])\n",
    "        model.load_state_dict(checkpoint['state_dict'])\n",
    "\n",
    "        return model"
   ]
  },
  {
   "cell_type": "code",
   "execution_count": 81,
   "metadata": {
    "id": "7PmLJ_FFUAVF"
   },
   "outputs": [],
   "source": [
    "net = RNN(unique_symbols, hidden_size, unique_symbols, n_layers)\n",
    "\n",
    "net = net.to(device)\n",
    "optimizer = torch.optim.Adam(net.parameters(), lr=1e-4)\n",
    "criterion = nn.CrossEntropyLoss().cuda()"
   ]
  },
  {
   "cell_type": "code",
   "execution_count": 150,
   "metadata": {
    "id": "MWIfYTaHUAVF"
   },
   "outputs": [],
   "source": [
    "def collate_fn(input_data, device=torch.device(\"cuda\")):  # на вход приходит arxiv_dataset['summary']\n",
    "    inputs = []\n",
    "    targets = []\n",
    "    for item in input_data:\n",
    "#         for chunks_n in range(item_.chunks_number):\n",
    "#             inputs.append(item_.__getitem__(chunks_n)[0])\n",
    "#             targets.append(item_.__getitem__(chunks_n)[1])\n",
    "        # torch.zeros(len(line), 1, n_letters)\n",
    "        \n",
    "        item_ = TextDataset(item, symbols)\n",
    "        line = item_.__getitem__(0)\n",
    "        \n",
    "#         input_tensor = torch.zeros(item_.chunk_len, 1, len(item_.all_symbols)).int()\n",
    "#         target_tensor = torch.zeros(item_.chunk_len, 1, len(item_.all_symbols)).int()\n",
    "        \n",
    "        input_tensor = torch.zeros(len(item_.all_symbols)).int()\n",
    "        target_tensor = torch.zeros(len(item_.all_symbols)).int()\n",
    "    \n",
    "#         for li in range(item_.chunk_len):\n",
    "#             letter = line[li]\n",
    "#             input_tensor[li][0][item_.all_symbols.index(letter)] = 1\n",
    "#         for li in range(item_.chunk_len):\n",
    "#             input_tensor[li][0][line[0][li]] = 1\n",
    "#             target_tensor[li][0][line[1][li]] = 1\n",
    "        for li in range(item_.chunk_len):\n",
    "            input_tensor[line[0][li]] = 1\n",
    "            target_tensor[line[1][li]] = 1\n",
    "            \n",
    "        inputs.append(input_tensor)\n",
    "        targets.append(target_tensor)\n",
    "        \n",
    "#         inputs.append(item_[0])\n",
    "#         targets.append(item_[1])\n",
    "#     print(\"collate_fn before pad:\", inputs, targets)\n",
    "\n",
    "    inputs = pad_sequence(inputs, batch_first=True, padding_value=0)\n",
    "    targets = pad_sequence(targets, batch_first=True, padding_value=0)\n",
    "    \n",
    "    # pad_sequence - возвращает Tensor размерности T x B x * or B x T x * (если batch_first=True)\n",
    "    # B это batch size. (Он равен количеству элементов в sequence)\n",
    "    # T длина наибольшей sequence. \n",
    "    # L длина sequence. \n",
    "    #* любое кол-во конечных измерений, включая none.\n",
    "    \n",
    "#     print(\"collate_fn after pad:\", inputs, targets)\n",
    "    return {'inputs': inputs.to(device), 'targets': targets.to(device)}\n",
    "    # return inputs, targets"
   ]
  },
  {
   "cell_type": "code",
   "execution_count": 151,
   "metadata": {},
   "outputs": [
    {
     "data": {
      "text/plain": [
       "{'inputs': tensor([[0, 0, 0, 1, 0, 0, 0, 1, 0, 0, 1, 0, 0, 1, 0, 0, 0, 1, 0, 0, 0, 0, 0, 1,\n",
       "          0, 0, 0, 1, 0, 0, 0, 0, 1, 0, 0, 0, 0, 0, 0, 0, 0, 0, 0, 0, 0, 0, 0, 0,\n",
       "          0, 0, 0, 0, 0, 0, 0, 0, 0, 0, 0, 0, 0, 0, 0, 0, 0, 0, 0, 0, 0, 0, 0, 0,\n",
       "          0, 0, 0, 0, 0, 0, 0, 0, 0, 0, 0, 0, 0, 0, 0, 0, 0, 0, 0, 0, 0, 0, 0, 0,\n",
       "          0, 0],\n",
       "         [0, 0, 0, 0, 1, 0, 0, 0, 0, 1, 0, 0, 0, 1, 0, 0, 0, 1, 0, 0, 0, 0, 0, 1,\n",
       "          0, 1, 0, 1, 0, 1, 0, 0, 1, 0, 0, 0, 0, 0, 0, 0, 0, 0, 0, 0, 0, 0, 0, 0,\n",
       "          0, 0, 0, 0, 0, 0, 0, 0, 0, 0, 0, 0, 0, 0, 0, 0, 0, 0, 0, 0, 0, 0, 0, 0,\n",
       "          0, 0, 0, 0, 0, 0, 0, 0, 0, 0, 0, 0, 0, 0, 0, 0, 0, 0, 0, 0, 0, 0, 0, 0,\n",
       "          0, 0]], device='cuda:0', dtype=torch.int32),\n",
       " 'targets': tensor([[0, 0, 0, 0, 0, 0, 0, 1, 0, 0, 1, 0, 0, 1, 0, 0, 0, 1, 0, 0, 0, 0, 0, 1,\n",
       "          0, 0, 0, 1, 0, 0, 0, 0, 1, 0, 0, 0, 0, 0, 0, 0, 0, 0, 0, 0, 0, 0, 0, 0,\n",
       "          0, 0, 0, 0, 0, 0, 0, 0, 0, 0, 0, 0, 0, 0, 0, 0, 0, 0, 0, 0, 0, 0, 0, 0,\n",
       "          0, 0, 0, 0, 0, 0, 0, 0, 0, 0, 0, 0, 0, 0, 0, 0, 0, 0, 0, 0, 0, 0, 0, 0,\n",
       "          0, 0],\n",
       "         [0, 0, 0, 0, 1, 0, 0, 0, 0, 1, 0, 0, 0, 0, 0, 0, 0, 1, 0, 0, 0, 0, 0, 1,\n",
       "          0, 1, 0, 1, 0, 1, 0, 0, 1, 0, 0, 0, 0, 0, 0, 0, 0, 0, 0, 0, 0, 0, 0, 0,\n",
       "          0, 0, 0, 0, 0, 0, 0, 0, 0, 0, 0, 0, 0, 0, 0, 0, 0, 0, 0, 0, 0, 0, 0, 0,\n",
       "          0, 0, 0, 0, 0, 0, 0, 0, 0, 0, 0, 0, 0, 0, 0, 0, 0, 0, 0, 0, 0, 0, 0, 0,\n",
       "          0, 0]], device='cuda:0', dtype=torch.int32)}"
      ]
     },
     "execution_count": 151,
     "metadata": {},
     "output_type": "execute_result"
    }
   ],
   "source": [
    "collate_fn(arxiv_dataset[\"summary\"][:2])"
   ]
  },
  {
   "cell_type": "code",
   "execution_count": 148,
   "metadata": {},
   "outputs": [
    {
     "data": {
      "text/plain": [
       "tensor([[5., 0., 0., 0., 0.],\n",
       "        [0., 5., 7., 0., 0.],\n",
       "        [0., 0., 0., 0., 0.]])"
      ]
     },
     "execution_count": 148,
     "metadata": {},
     "output_type": "execute_result"
    }
   ],
   "source": [
    "test = torch.zeros(3, 5) # массив вложенности 2?\n",
    "test[0][0]=5\n",
    "test[1][1]=5\n",
    "test[1][2]=7\n",
    "test"
   ]
  },
  {
   "cell_type": "code",
   "execution_count": 149,
   "metadata": {},
   "outputs": [
    {
     "data": {
      "text/plain": [
       "tensor([0., 7., 0.])"
      ]
     },
     "execution_count": 149,
     "metadata": {},
     "output_type": "execute_result"
    }
   ],
   "source": [
    "test[:,2]"
   ]
  },
  {
   "cell_type": "code",
   "execution_count": 134,
   "metadata": {},
   "outputs": [
    {
     "data": {
      "text/plain": [
       "{'inputs': tensor([[[[0, 0, 0,  ..., 0, 0, 0]],\n",
       " \n",
       "          [[0, 0, 0,  ..., 0, 0, 0]],\n",
       " \n",
       "          [[0, 0, 0,  ..., 0, 0, 0]],\n",
       " \n",
       "          ...,\n",
       " \n",
       "          [[0, 0, 0,  ..., 0, 0, 0]],\n",
       " \n",
       "          [[0, 0, 0,  ..., 0, 0, 0]],\n",
       " \n",
       "          [[0, 0, 0,  ..., 0, 0, 0]]],\n",
       " \n",
       " \n",
       "         [[[0, 0, 0,  ..., 0, 0, 0]],\n",
       " \n",
       "          [[0, 0, 0,  ..., 0, 0, 0]],\n",
       " \n",
       "          [[0, 0, 0,  ..., 0, 0, 0]],\n",
       " \n",
       "          ...,\n",
       " \n",
       "          [[0, 0, 0,  ..., 0, 0, 0]],\n",
       " \n",
       "          [[0, 0, 0,  ..., 0, 0, 0]],\n",
       " \n",
       "          [[0, 0, 0,  ..., 0, 0, 0]]]], device='cuda:0', dtype=torch.int32),\n",
       " 'targets': tensor([[[[0, 0, 0,  ..., 0, 0, 0]],\n",
       " \n",
       "          [[0, 0, 0,  ..., 0, 0, 0]],\n",
       " \n",
       "          [[0, 0, 0,  ..., 0, 0, 0]],\n",
       " \n",
       "          ...,\n",
       " \n",
       "          [[0, 0, 0,  ..., 0, 0, 0]],\n",
       " \n",
       "          [[0, 0, 0,  ..., 0, 0, 0]],\n",
       " \n",
       "          [[0, 0, 0,  ..., 0, 0, 0]]],\n",
       " \n",
       " \n",
       "         [[[0, 0, 0,  ..., 0, 0, 0]],\n",
       " \n",
       "          [[0, 0, 0,  ..., 0, 0, 0]],\n",
       " \n",
       "          [[0, 0, 0,  ..., 0, 0, 0]],\n",
       " \n",
       "          ...,\n",
       " \n",
       "          [[0, 0, 0,  ..., 0, 0, 0]],\n",
       " \n",
       "          [[0, 0, 0,  ..., 0, 0, 0]],\n",
       " \n",
       "          [[0, 0, 0,  ..., 0, 0, 0]]]], device='cuda:0', dtype=torch.int32)}"
      ]
     },
     "execution_count": 134,
     "metadata": {},
     "output_type": "execute_result"
    }
   ],
   "source": [
    "collate_fn(arxiv_dataset[\"summary\"][:2])"
   ]
  },
  {
   "cell_type": "code",
   "execution_count": 99,
   "metadata": {
    "id": "n-h0hm-DUAVG"
   },
   "outputs": [],
   "source": [
    "loader = DataLoader(arxiv_dataset['summary'], \n",
    "                            batch_size, # как много sample загружать за 1 батч\n",
    "#                             shuffle=True, # перетасовка данных между эпохами\n",
    "#                             num_workers=2,\n",
    "                            collate_fn=collate_fn, # функция-обработчик датасета (объединяет список сэмплов, чтобы сформировать мини-партию тензоров)\n",
    "#                             drop_last = True, # удалять ли последний незавершённый batch (если размер датасета не делится на batch_size)\n",
    "                            )"
   ]
  },
  {
   "cell_type": "code",
   "execution_count": 100,
   "metadata": {
    "colab": {
     "base_uri": "https://localhost:8080/"
    },
    "id": "1DHjxYTzUAVG",
    "outputId": "a4a257db-6a8a-454e-9991-444d35471be7",
    "scrolled": true
   },
   "outputs": [
    {
     "name": "stdout",
     "output_type": "stream",
     "text": [
      "epoch:  1\n"
     ]
    },
    {
     "name": "stderr",
     "output_type": "stream",
     "text": [
      "  0%|                                                                                          | 0/272 [00:00<?, ?it/s]\n"
     ]
    },
    {
     "ename": "RuntimeError",
     "evalue": "view size is not compatible with input tensor's size and stride (at least one dimension spans across two contiguous subspaces). Use .reshape(...) instead.",
     "output_type": "error",
     "traceback": [
      "\u001b[1;31m---------------------------------------------------------------------------\u001b[0m",
      "\u001b[1;31mRuntimeError\u001b[0m                              Traceback (most recent call last)",
      "Input \u001b[1;32mIn [100]\u001b[0m, in \u001b[0;36m<cell line: 7>\u001b[1;34m()\u001b[0m\n\u001b[0;32m     17\u001b[0m         optimizer\u001b[38;5;241m.\u001b[39mzero_grad()\n\u001b[0;32m     19\u001b[0m         \u001b[38;5;28;01mfor\u001b[39;00m c \u001b[38;5;129;01min\u001b[39;00m \u001b[38;5;28mrange\u001b[39m(chunk_len):\n\u001b[1;32m---> 20\u001b[0m             output, hidden \u001b[38;5;241m=\u001b[39m \u001b[43mnet\u001b[49m\u001b[43m(\u001b[49m\u001b[43mbatch\u001b[49m\u001b[43m[\u001b[49m\u001b[38;5;124;43m'\u001b[39;49m\u001b[38;5;124;43minputs\u001b[39;49m\u001b[38;5;124;43m'\u001b[39;49m\u001b[43m]\u001b[49m\u001b[43m[\u001b[49m\u001b[43m:\u001b[49m\u001b[43m,\u001b[49m\u001b[43mc\u001b[49m\u001b[43m]\u001b[49m\u001b[43m,\u001b[49m\u001b[43m \u001b[49m\u001b[43mhidden\u001b[49m\u001b[43m)\u001b[49m\n\u001b[0;32m     21\u001b[0m             loss \u001b[38;5;241m=\u001b[39m criterion(output, torch\u001b[38;5;241m.\u001b[39mflatten(batch[\u001b[38;5;124m'\u001b[39m\u001b[38;5;124mtargets\u001b[39m\u001b[38;5;124m'\u001b[39m])\u001b[38;5;241m.\u001b[39mto(device))\n\u001b[0;32m     22\u001b[0m \u001b[38;5;66;03m#         print(batch['inputs'])\u001b[39;00m\n\u001b[0;32m     23\u001b[0m \u001b[38;5;66;03m#         print(hidden.to(device).size(-1))\u001b[39;00m\n",
      "File \u001b[1;32m~\\anaconda3\\envs\\gpu\\lib\\site-packages\\torch\\nn\\modules\\module.py:1190\u001b[0m, in \u001b[0;36mModule._call_impl\u001b[1;34m(self, *input, **kwargs)\u001b[0m\n\u001b[0;32m   1186\u001b[0m \u001b[38;5;66;03m# If we don't have any hooks, we want to skip the rest of the logic in\u001b[39;00m\n\u001b[0;32m   1187\u001b[0m \u001b[38;5;66;03m# this function, and just call forward.\u001b[39;00m\n\u001b[0;32m   1188\u001b[0m \u001b[38;5;28;01mif\u001b[39;00m \u001b[38;5;129;01mnot\u001b[39;00m (\u001b[38;5;28mself\u001b[39m\u001b[38;5;241m.\u001b[39m_backward_hooks \u001b[38;5;129;01mor\u001b[39;00m \u001b[38;5;28mself\u001b[39m\u001b[38;5;241m.\u001b[39m_forward_hooks \u001b[38;5;129;01mor\u001b[39;00m \u001b[38;5;28mself\u001b[39m\u001b[38;5;241m.\u001b[39m_forward_pre_hooks \u001b[38;5;129;01mor\u001b[39;00m _global_backward_hooks\n\u001b[0;32m   1189\u001b[0m         \u001b[38;5;129;01mor\u001b[39;00m _global_forward_hooks \u001b[38;5;129;01mor\u001b[39;00m _global_forward_pre_hooks):\n\u001b[1;32m-> 1190\u001b[0m     \u001b[38;5;28;01mreturn\u001b[39;00m forward_call(\u001b[38;5;241m*\u001b[39m\u001b[38;5;28minput\u001b[39m, \u001b[38;5;241m*\u001b[39m\u001b[38;5;241m*\u001b[39mkwargs)\n\u001b[0;32m   1191\u001b[0m \u001b[38;5;66;03m# Do not call functions when jit is used\u001b[39;00m\n\u001b[0;32m   1192\u001b[0m full_backward_hooks, non_full_backward_hooks \u001b[38;5;241m=\u001b[39m [], []\n",
      "Input \u001b[1;32mIn [8]\u001b[0m, in \u001b[0;36mRNN.forward\u001b[1;34m(self, inputs, hidden)\u001b[0m\n\u001b[0;32m     19\u001b[0m     \u001b[38;5;28;01mdef\u001b[39;00m \u001b[38;5;21mforward\u001b[39m(\u001b[38;5;28mself\u001b[39m, inputs, hidden):\n\u001b[0;32m     20\u001b[0m \u001b[38;5;66;03m#         print(\"input before encoding: \", inputs)\u001b[39;00m\n\u001b[0;32m     21\u001b[0m \u001b[38;5;66;03m#         print(\"input shape before encoding: \", input.shape)\u001b[39;00m\n\u001b[0;32m     22\u001b[0m \u001b[38;5;66;03m#         print(\"================================================\")\u001b[39;00m\n\u001b[1;32m---> 23\u001b[0m         inputs \u001b[38;5;241m=\u001b[39m \u001b[38;5;28mself\u001b[39m\u001b[38;5;241m.\u001b[39mencoder(\u001b[43minputs\u001b[49m\u001b[38;5;241;43m.\u001b[39;49m\u001b[43mview\u001b[49m\u001b[43m(\u001b[49m\u001b[38;5;241;43m1\u001b[39;49m\u001b[43m,\u001b[49m\u001b[43m \u001b[49m\u001b[38;5;241;43m-\u001b[39;49m\u001b[38;5;241;43m1\u001b[39;49m\u001b[43m)\u001b[49m)\n\u001b[0;32m     24\u001b[0m         \u001b[38;5;66;03m# Embedding — кажому элементу из input-а ставит некоторое векторное представление размера hidden_size\u001b[39;00m\n\u001b[0;32m     25\u001b[0m         \u001b[38;5;66;03m# Например, если пришёл один тензор из 10 элементов (10 закодированных символов char), то кажому из этих 10 элементов будет поставлен в соответствии вектор размера hidden_size \u001b[39;00m\n\u001b[0;32m     26\u001b[0m         \u001b[38;5;66;03m# вернёт тензор второй вложенности размера len(inputs) * hidden_size\u001b[39;00m\n\u001b[1;32m   (...)\u001b[0m\n\u001b[0;32m     32\u001b[0m \u001b[38;5;66;03m#         print(\"input.view(-1) size: \", len(input.view(-1)))\u001b[39;00m\n\u001b[0;32m     33\u001b[0m \u001b[38;5;66;03m#         print(\"================================================\")\u001b[39;00m\n\u001b[0;32m     34\u001b[0m         output, hidden \u001b[38;5;241m=\u001b[39m \u001b[38;5;28mself\u001b[39m\u001b[38;5;241m.\u001b[39mgru(inputs\u001b[38;5;241m.\u001b[39mview(\u001b[38;5;241m1\u001b[39m, \u001b[38;5;241m1\u001b[39m, \u001b[38;5;241m-\u001b[39m\u001b[38;5;241m1\u001b[39m), hidden)\n",
      "\u001b[1;31mRuntimeError\u001b[0m: view size is not compatible with input tensor's size and stride (at least one dimension spans across two contiguous subspaces). Use .reshape(...) instead."
     ]
    }
   ],
   "source": [
    "start = time.time()\n",
    "\n",
    "losses_avg = []\n",
    "losses_best = []\n",
    "net.train()\n",
    "# hidden = net.init_hidden()\n",
    "for epoch in range(1, epochs+1):\n",
    "    print('epoch: ', epoch)\n",
    "    losses = []\n",
    "    hidden = net.init_hidden().to(device)\n",
    "#     hidden = torch.zeros(n_layers, 1, 1000)\n",
    "    # for inputs, targets in loader:\n",
    "    for i, batch in enumerate(tqdm(loader)):\n",
    "#         print(\"i:\", i)\n",
    "        hidden = hidden.detach()\n",
    "        # hidden = tuple(([Variable(var.data) for var in hidden]))\n",
    "        optimizer.zero_grad()\n",
    "        for mini_batch in range(batch_size):\n",
    "            batch[\"inputs\"][mini_batch]\n",
    "                for c in range(chunk_len):\n",
    "            output, hidden = net(batch['inputs'][:,c], hidden)\n",
    "            loss = criterion(output, torch.flatten(batch['targets']).to(device))\n",
    "#         print(batch['inputs'])\n",
    "#         print(hidden.to(device).size(-1))\n",
    "        output, hidden = net(batch['inputs'].to(device), hidden)\n",
    "#         loss = criterion(output, torch.flatten(batch['targets']).to(device))\n",
    "        loss = criterion(output, torch.flatten(batch['targets']).to(device))\n",
    "      \n",
    "        loss.backward()\n",
    "        optimizer.step()\n",
    "        \n",
    "        loss = loss.cpu().detach().numpy()\n",
    "        \n",
    "        # print(type(loss))\n",
    "        # print(\"loss: \", loss)\n",
    "        losses.append(loss)\n",
    "        # print(losses[0])\n",
    "    \n",
    "    # print('losses: ', losses)\n",
    "    losses_avg.append(np.mean(losses))\n",
    "    # print(np.mean(losses))\n",
    "    # print(losses[0], np.mean(losses))\n",
    "    losses_best.append(sorted(losses, reverse=False)[0])  # reverse=False - в порядке возрастания\n",
    "\n",
    "    if epoch%10 == 0:\n",
    "        print(\"Saving...\")\n",
    "#         RNN.save_model(net, f'/content/drive/MyDrive/Универ/TrainedModel_epoch_{epoch}.ckpt')\n",
    "        RNN.save_model(net, f'TrainedModel_epoch_{epoch}.ckpt')"
   ]
  },
  {
   "cell_type": "markdown",
   "metadata": {},
   "source": [
    "### Сохранение посчитанных данных"
   ]
  },
  {
   "cell_type": "code",
   "execution_count": 69,
   "metadata": {
    "id": "iqqK8j4fEZ9y"
   },
   "outputs": [],
   "source": [
    "# # with open(r'/content/drive/MyDrive/Универ/losses_avg.pkl', 'wb') as f: # сохранение в бинарном формате\n",
    "# with open(r'losses_avg.pkl', 'wb') as f:\n",
    "#     pickle.dump(losses_avg, f)\n",
    "# # with open(r'/content/drive/MyDrive/Универ/losses_best.pkl', 'wb') as f: # сохранение в бинарном формате\n",
    "# with open(r'losses_best.pkl', 'wb') as f:\n",
    "#     pickle.dump(losses_best, f)\n",
    "# with open(r'hidden.pkl', 'wb') as f:\n",
    "#     pickle.dump(hidden, f)"
   ]
  },
  {
   "cell_type": "code",
   "execution_count": 16,
   "metadata": {},
   "outputs": [],
   "source": [
    "# with open(r'/content/drive/MyDrive/Универ/losses_avg.pkl', 'rb') as f: # сохранение в бинарном формате\n",
    "with open(r'losses_avg.pkl', 'rb') as f:\n",
    "    losses_avg = pickle.load(f)\n",
    "# with open(r'/content/drive/MyDrive/Универ/losses_best.pkl', 'rb') as f: # сохранение в бинарном формате\n",
    "with open(r'losses_best.pkl', 'rb') as f:\n",
    "    losses_best = pickle.load(f)\n",
    "losses_best = [i.tolist() for i in losses_best]\n",
    "with open(r'hidden.pkl', 'rb') as f:\n",
    "    hidden = pickle.load(f)"
   ]
  },
  {
   "cell_type": "code",
   "execution_count": 18,
   "metadata": {},
   "outputs": [],
   "source": [
    "net = RNN.load_model(\"TrainedModel_epoch_50.ckpt\")\n",
    "net = net.to(device)"
   ]
  },
  {
   "cell_type": "markdown",
   "metadata": {},
   "source": [
    "### Вывод графиков loss"
   ]
  },
  {
   "cell_type": "code",
   "execution_count": 46,
   "metadata": {},
   "outputs": [
    {
     "data": {
      "image/png": "[encoded data removed]",
      "text/plain": [
       "<Figure size 648x648 with 1 Axes>"
      ]
     },
     "metadata": {
      "needs_background": "light"
     },
     "output_type": "display_data"
    }
   ],
   "source": [
    "plt.figure(figsize=(9, 9))\n",
    "plt.title(\"Изменение лучшего значения loss функции\")\n",
    "plt.xlabel(\"Эпоха\")\n",
    "plt.ylabel(\"loss\")\n",
    "plt.plot(losses_best)\n",
    "plt.show()"
   ]
  },
  {
   "cell_type": "code",
   "execution_count": 44,
   "metadata": {},
   "outputs": [
    {
     "data": {
      "image/png": "[encoded data removed]",
      "text/plain": [
       "<Figure size 648x648 with 1 Axes>"
      ]
     },
     "metadata": {
      "needs_background": "light"
     },
     "output_type": "display_data"
    }
   ],
   "source": [
    "plt.figure(figsize=(9, 9))\n",
    "plt.title(\"Изменение среднего значения loss функции\")\n",
    "plt.xlabel(\"Эпоха\")\n",
    "plt.ylabel(\"loss\")\n",
    "plt.plot(losses_avg)\n",
    "plt.show()"
   ]
  },
  {
   "cell_type": "markdown",
   "metadata": {},
   "source": [
    "Выведем лучшие значения loss функции, а также эпоху, на которой они были достигнуты."
   ]
  },
  {
   "cell_type": "code",
   "execution_count": 67,
   "metadata": {},
   "outputs": [
    {
     "name": "stdout",
     "output_type": "stream",
     "text": [
      "Лучшее значение loss: 0.02929740585386753 получено на эпохе: 33\n",
      "Лучшее среднее значение loss: 2.5432336 получено на эпохе: 27\n"
     ]
    }
   ],
   "source": [
    "print(\"Лучшее значение loss:\", min(losses_best),\"получено на эпохе:\", losses_best.index(min(losses_best)))\n",
    "print(\"Лучшее среднее значение loss:\", min(losses_avg),\"получено на эпохе:\", losses_avg.index(min(losses_avg)))"
   ]
  },
  {
   "cell_type": "markdown",
   "metadata": {},
   "source": [
    "Как видно по графикам, обучение дольше 35-ти эпох не принесло особых улучшений, так как средний и лучший (по эпохе) loss остался примерно на том же уровне."
   ]
  },
  {
   "cell_type": "markdown",
   "metadata": {
    "id": "k4-MqjYH55pT"
   },
   "source": [
    "# Здесь будет работа с вашими датасетами (которые вы захотите использовать)"
   ]
  },
  {
   "cell_type": "code",
   "execution_count": null,
   "metadata": {},
   "outputs": [],
   "source": []
  }
 ],
 "metadata": {
  "accelerator": "GPU",
  "colab": {
   "provenance": []
  },
  "gpuClass": "standard",
  "kernelspec": {
   "display_name": "gpu",
   "language": "python",
   "name": "gpu"
  },
  "language_info": {
   "codemirror_mode": {
    "name": "ipython",
    "version": 3
   },
   "file_extension": ".py",
   "mimetype": "text/x-python",
   "name": "python",
   "nbconvert_exporter": "python",
   "pygments_lexer": "ipython3",
   "version": "3.9.12"
  }
 },
 "nbformat": 4,
 "nbformat_minor": 1
}
