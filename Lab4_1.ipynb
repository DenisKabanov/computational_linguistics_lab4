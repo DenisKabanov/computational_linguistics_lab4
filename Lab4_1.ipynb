{
 "cells": [
  {
   "cell_type": "markdown",
   "metadata": {
    "id": "uDFhyOmQan0v"
   },
   "source": [
    "# Text generation with deep learning"
   ]
  },
  {
   "cell_type": "code",
   "execution_count": 1,
   "metadata": {
    "id": "TslNQEFlan0z"
   },
   "outputs": [
    {
     "name": "stderr",
     "output_type": "stream",
     "text": [
      "C:\\Users\\User\\anaconda3\\envs\\gpu\\lib\\site-packages\\tqdm\\auto.py:22: TqdmWarning: IProgress not found. Please update jupyter and ipywidgets. See https://ipywidgets.readthedocs.io/en/stable/user_install.html\n",
      "  from .autonotebook import tqdm as notebook_tqdm\n"
     ]
    }
   ],
   "source": [
    "import sys\n",
    "import os\n",
    "import os.path\n",
    "import random\n",
    "import collections\n",
    "import shutil\n",
    "import time\n",
    "import glob\n",
    "import csv\n",
    "import matplotlib.pyplot as plt\n",
    "import numpy as np\n",
    "import pandas as pd\n",
    "from math import pi\n",
    "import scipy\n",
    "from tqdm import tqdm\n",
    "\n",
    "import torch\n",
    "import torch.nn as nn\n",
    "import torch.nn.functional as F\n",
    "import torch.optim as optim\n",
    "from torch.utils.data import Dataset, DataLoader\n",
    "from torch.autograd import Variable\n",
    "\n",
    "import torchvision\n",
    "from torchvision import transforms, datasets\n",
    "from torch.nn.utils.rnn import pad_sequence\n",
    "\n",
    "\n",
    "%matplotlib inline\n",
    "\n",
    "from torch.utils.data import DataLoader\n",
    "import pickle\n",
    "\n",
    "# для визуализации\n",
    "# from bokeh.io import show,output_notebook\n",
    "# from bokeh.models import ColumnDataSource, HoverTool, LinearColorMapper, BasicTicker, PrintfTickFormatter,ColorBar\n",
    "# from bokeh.models import FuncTickFormatter\n",
    "# from bokeh.plotting import figure\n",
    "\n",
    "# output_notebook()"
   ]
  },
  {
   "cell_type": "markdown",
   "metadata": {
    "id": "1z-nkq4Tan0-"
   },
   "source": [
    "**Задача**\n",
    "\n",
    "   Обучить character recurrent neural network (char RNN) на датасете статей arxiv, а также на своих данных и исследовать её свойства."
   ]
  },
  {
   "cell_type": "markdown",
   "metadata": {},
   "source": [
    "# Считывание данных"
   ]
  },
  {
   "cell_type": "code",
   "execution_count": 41,
   "metadata": {},
   "outputs": [],
   "source": [
    "# from google.colab import drive\n",
    "# drive.mount('/content/drive')"
   ]
  },
  {
   "cell_type": "code",
   "execution_count": 2,
   "metadata": {},
   "outputs": [
    {
     "data": {
      "text/html": [
       "<div>\n",
       "<style scoped>\n",
       "    .dataframe tbody tr th:only-of-type {\n",
       "        vertical-align: middle;\n",
       "    }\n",
       "\n",
       "    .dataframe tbody tr th {\n",
       "        vertical-align: top;\n",
       "    }\n",
       "\n",
       "    .dataframe thead th {\n",
       "        text-align: right;\n",
       "    }\n",
       "</style>\n",
       "<table border=\"1\" class=\"dataframe\">\n",
       "  <thead>\n",
       "    <tr style=\"text-align: right;\">\n",
       "      <th></th>\n",
       "      <th>link</th>\n",
       "      <th>time</th>\n",
       "      <th>favorites</th>\n",
       "      <th>rts</th>\n",
       "      <th>authors</th>\n",
       "      <th>category</th>\n",
       "      <th>published</th>\n",
       "      <th>summary</th>\n",
       "      <th>title</th>\n",
       "      <th>tweeted</th>\n",
       "    </tr>\n",
       "  </thead>\n",
       "  <tbody>\n",
       "    <tr>\n",
       "      <th>0</th>\n",
       "      <td>arxiv.org/abs/1611.10003</td>\n",
       "      <td>NaN</td>\n",
       "      <td>NaN</td>\n",
       "      <td>NaN</td>\n",
       "      <td>[Tom A. F. Anderson, C. -H. Ruan]</td>\n",
       "      <td>q-bio.NC</td>\n",
       "      <td>2016-11-30 05:17:11</td>\n",
       "      <td>In summary of the research findings presented ...</td>\n",
       "      <td>Vocabulary and the Brain: Evidence from Neuroi...</td>\n",
       "      <td>0</td>\n",
       "    </tr>\n",
       "    <tr>\n",
       "      <th>1</th>\n",
       "      <td>arxiv.org/abs/1611.10007</td>\n",
       "      <td>NaN</td>\n",
       "      <td>NaN</td>\n",
       "      <td>NaN</td>\n",
       "      <td>[M. Amin Rahimian, Amir G. Aghdam]</td>\n",
       "      <td>cs.SY</td>\n",
       "      <td>2016-11-30 05:37:11</td>\n",
       "      <td>In this paper, structural controllability of a...</td>\n",
       "      <td>Structural Controllability of Multi-Agent Netw...</td>\n",
       "      <td>0</td>\n",
       "    </tr>\n",
       "    <tr>\n",
       "      <th>2</th>\n",
       "      <td>arxiv.org/abs/1611.10010</td>\n",
       "      <td>NaN</td>\n",
       "      <td>NaN</td>\n",
       "      <td>NaN</td>\n",
       "      <td>[Debidatta Dwibedi, Tomasz Malisiewicz, Vijay ...</td>\n",
       "      <td>cs.CV</td>\n",
       "      <td>2016-11-30 06:00:47</td>\n",
       "      <td>We present a Deep Cuboid Detector which takes ...</td>\n",
       "      <td>Deep Cuboid Detection: Beyond 2D Bounding Boxes</td>\n",
       "      <td>0</td>\n",
       "    </tr>\n",
       "    <tr>\n",
       "      <th>3</th>\n",
       "      <td>arxiv.org/abs/1611.10012</td>\n",
       "      <td>2016-12-01 01:46:12</td>\n",
       "      <td>11.0</td>\n",
       "      <td>2.0</td>\n",
       "      <td>[Jonathan Huang, Vivek Rathod, Chen Sun, Mengl...</td>\n",
       "      <td>cs.CV</td>\n",
       "      <td>2016-11-30 06:06:15</td>\n",
       "      <td>In this paper, we study the trade-off between ...</td>\n",
       "      <td>Speed/accuracy trade-offs for modern convoluti...</td>\n",
       "      <td>1</td>\n",
       "    </tr>\n",
       "    <tr>\n",
       "      <th>4</th>\n",
       "      <td>arxiv.org/abs/1611.10014</td>\n",
       "      <td>NaN</td>\n",
       "      <td>NaN</td>\n",
       "      <td>NaN</td>\n",
       "      <td>[Yoones Hashemi, Amir H. Banihashemi]</td>\n",
       "      <td>cs.IT</td>\n",
       "      <td>2016-11-30 06:12:45</td>\n",
       "      <td>In this paper, we propose a characterization o...</td>\n",
       "      <td>Characterization and Efficient Exhaustive Sear...</td>\n",
       "      <td>0</td>\n",
       "    </tr>\n",
       "    <tr>\n",
       "      <th>...</th>\n",
       "      <td>...</td>\n",
       "      <td>...</td>\n",
       "      <td>...</td>\n",
       "      <td>...</td>\n",
       "      <td>...</td>\n",
       "      <td>...</td>\n",
       "      <td>...</td>\n",
       "      <td>...</td>\n",
       "      <td>...</td>\n",
       "      <td>...</td>\n",
       "    </tr>\n",
       "    <tr>\n",
       "      <th>27183</th>\n",
       "      <td>arxiv.org/abs/1710.04176</td>\n",
       "      <td>NaN</td>\n",
       "      <td>NaN</td>\n",
       "      <td>NaN</td>\n",
       "      <td>[C. -C. Jay Kuo, Yueru Chen]</td>\n",
       "      <td>cs.CV</td>\n",
       "      <td>2017-10-11 17:08:28</td>\n",
       "      <td>Being motivated by the multilayer RECOS (REcti...</td>\n",
       "      <td>On Data-Driven Saak Transform</td>\n",
       "      <td>0</td>\n",
       "    </tr>\n",
       "    <tr>\n",
       "      <th>27184</th>\n",
       "      <td>arxiv.org/abs/1710.04177</td>\n",
       "      <td>NaN</td>\n",
       "      <td>NaN</td>\n",
       "      <td>NaN</td>\n",
       "      <td>[Heather Mattie, Kenth Engø-Monsen, Rich Ling,...</td>\n",
       "      <td>cs.SI</td>\n",
       "      <td>2017-10-11 17:12:05</td>\n",
       "      <td>Understanding tie strength in social networks,...</td>\n",
       "      <td>The Social Bow Tie</td>\n",
       "      <td>0</td>\n",
       "    </tr>\n",
       "    <tr>\n",
       "      <th>27185</th>\n",
       "      <td>arxiv.org/abs/1710.04196</td>\n",
       "      <td>NaN</td>\n",
       "      <td>NaN</td>\n",
       "      <td>NaN</td>\n",
       "      <td>[Robin Scheibler, Eric Bezzam, Ivan Dokmanić]</td>\n",
       "      <td>cs.MS</td>\n",
       "      <td>2017-10-11 17:44:41</td>\n",
       "      <td>We present pyroomacoustics, a software package...</td>\n",
       "      <td>Pyroomacoustics: A Python package for audio ro...</td>\n",
       "      <td>0</td>\n",
       "    </tr>\n",
       "    <tr>\n",
       "      <th>27186</th>\n",
       "      <td>arxiv.org/abs/1710.04200</td>\n",
       "      <td>NaN</td>\n",
       "      <td>NaN</td>\n",
       "      <td>NaN</td>\n",
       "      <td>[Yijun Li, Jia-Bin Huang, Narendra Ahuja, Ming...</td>\n",
       "      <td>cs.CV</td>\n",
       "      <td>2017-10-11 17:56:59</td>\n",
       "      <td>Joint image filters leverage the guidance imag...</td>\n",
       "      <td>Joint Image Filtering with Deep Convolutional ...</td>\n",
       "      <td>0</td>\n",
       "    </tr>\n",
       "    <tr>\n",
       "      <th>27187</th>\n",
       "      <td>arxiv.org/abs/1710.04203</td>\n",
       "      <td>NaN</td>\n",
       "      <td>NaN</td>\n",
       "      <td>NaN</td>\n",
       "      <td>[Giannis Haralabopoulos, Elena Simperl]</td>\n",
       "      <td>cs.CL</td>\n",
       "      <td>2017-10-04 21:38:48</td>\n",
       "      <td>Sentiment analysis aims to uncover emotions co...</td>\n",
       "      <td>Crowdsourcing for Beyond Polarity Sentiment An...</td>\n",
       "      <td>0</td>\n",
       "    </tr>\n",
       "  </tbody>\n",
       "</table>\n",
       "<p>27188 rows × 10 columns</p>\n",
       "</div>"
      ],
      "text/plain": [
       "                           link                 time  favorites  rts  \\\n",
       "0      arxiv.org/abs/1611.10003                  NaN        NaN  NaN   \n",
       "1      arxiv.org/abs/1611.10007                  NaN        NaN  NaN   \n",
       "2      arxiv.org/abs/1611.10010                  NaN        NaN  NaN   \n",
       "3      arxiv.org/abs/1611.10012  2016-12-01 01:46:12       11.0  2.0   \n",
       "4      arxiv.org/abs/1611.10014                  NaN        NaN  NaN   \n",
       "...                         ...                  ...        ...  ...   \n",
       "27183  arxiv.org/abs/1710.04176                  NaN        NaN  NaN   \n",
       "27184  arxiv.org/abs/1710.04177                  NaN        NaN  NaN   \n",
       "27185  arxiv.org/abs/1710.04196                  NaN        NaN  NaN   \n",
       "27186  arxiv.org/abs/1710.04200                  NaN        NaN  NaN   \n",
       "27187  arxiv.org/abs/1710.04203                  NaN        NaN  NaN   \n",
       "\n",
       "                                                 authors  category  \\\n",
       "0                      [Tom A. F. Anderson, C. -H. Ruan]  q-bio.NC   \n",
       "1                     [M. Amin Rahimian, Amir G. Aghdam]     cs.SY   \n",
       "2      [Debidatta Dwibedi, Tomasz Malisiewicz, Vijay ...     cs.CV   \n",
       "3      [Jonathan Huang, Vivek Rathod, Chen Sun, Mengl...     cs.CV   \n",
       "4                  [Yoones Hashemi, Amir H. Banihashemi]     cs.IT   \n",
       "...                                                  ...       ...   \n",
       "27183                       [C. -C. Jay Kuo, Yueru Chen]     cs.CV   \n",
       "27184  [Heather Mattie, Kenth Engø-Monsen, Rich Ling,...     cs.SI   \n",
       "27185      [Robin Scheibler, Eric Bezzam, Ivan Dokmanić]     cs.MS   \n",
       "27186  [Yijun Li, Jia-Bin Huang, Narendra Ahuja, Ming...     cs.CV   \n",
       "27187            [Giannis Haralabopoulos, Elena Simperl]     cs.CL   \n",
       "\n",
       "                 published                                            summary  \\\n",
       "0      2016-11-30 05:17:11  In summary of the research findings presented ...   \n",
       "1      2016-11-30 05:37:11  In this paper, structural controllability of a...   \n",
       "2      2016-11-30 06:00:47  We present a Deep Cuboid Detector which takes ...   \n",
       "3      2016-11-30 06:06:15  In this paper, we study the trade-off between ...   \n",
       "4      2016-11-30 06:12:45  In this paper, we propose a characterization o...   \n",
       "...                    ...                                                ...   \n",
       "27183  2017-10-11 17:08:28  Being motivated by the multilayer RECOS (REcti...   \n",
       "27184  2017-10-11 17:12:05  Understanding tie strength in social networks,...   \n",
       "27185  2017-10-11 17:44:41  We present pyroomacoustics, a software package...   \n",
       "27186  2017-10-11 17:56:59  Joint image filters leverage the guidance imag...   \n",
       "27187  2017-10-04 21:38:48  Sentiment analysis aims to uncover emotions co...   \n",
       "\n",
       "                                                   title  tweeted  \n",
       "0      Vocabulary and the Brain: Evidence from Neuroi...        0  \n",
       "1      Structural Controllability of Multi-Agent Netw...        0  \n",
       "2        Deep Cuboid Detection: Beyond 2D Bounding Boxes        0  \n",
       "3      Speed/accuracy trade-offs for modern convoluti...        1  \n",
       "4      Characterization and Efficient Exhaustive Sear...        0  \n",
       "...                                                  ...      ...  \n",
       "27183                      On Data-Driven Saak Transform        0  \n",
       "27184                                 The Social Bow Tie        0  \n",
       "27185  Pyroomacoustics: A Python package for audio ro...        0  \n",
       "27186  Joint Image Filtering with Deep Convolutional ...        0  \n",
       "27187  Crowdsourcing for Beyond Polarity Sentiment An...        0  \n",
       "\n",
       "[27188 rows x 10 columns]"
      ]
     },
     "execution_count": 2,
     "metadata": {},
     "output_type": "execute_result"
    }
   ],
   "source": [
    "# arxiv_dataset = pd.read_csv('/content/drive/MyDrive/Универ/arxiv.csv') \n",
    "arxiv_dataset = pd.read_csv('arxiv.csv') \n",
    "arxiv_dataset"
   ]
  },
  {
   "cell_type": "code",
   "execution_count": 3,
   "metadata": {
    "id": "VZf7PBqGan1F"
   },
   "outputs": [],
   "source": [
    "class TextDataset(Dataset):\n",
    "    def __init__(self, text, input_dict=None, chunk_len=10, chunks_number=100, device = torch.device(\"cuda\")):\n",
    "        self.chunks_number = chunks_number # количество блоков\n",
    "        self.chunk_len = chunk_len  # длина одного блока (на сколько букв смотрим назад при предсказании)\n",
    "        self.text = text\n",
    "        self.device = device\n",
    "        if input_dict == None:\n",
    "            self.all_symbols = list({x for x in self.text})\n",
    "        else:\n",
    "            self.all_symbols = input_dict\n",
    "    \n",
    "    def __len__(self): # возвращает число чанков (случайных слайсов по тексту?)\n",
    "        return self.chunks_number\n",
    "    \n",
    "    def _get_tensor(self, text):   # ставит в соответствие каждой букве из текста её индекс\n",
    "        return torch.LongTensor(list(map(self.all_symbols.index, text))).to(self.device)\n",
    "    \n",
    "    def _decode_vector(self, text):   # декодирует вектор из цифр (text) в текст\n",
    "        text = text.view(-1).cpu().numpy()\n",
    "        if text.shape[0] == 1:\n",
    "            text = list(text)\n",
    "        return ''.join([self.all_symbols[x] for x in text])\n",
    "    \n",
    "    def _get_random_slice(self):  # берет случайный срез букв из текста\n",
    "        start_index = random.randint(0, len(self.text) - self.chunk_len)\n",
    "        end_index = start_index + self.chunk_len + 1\n",
    "        return self.text[start_index:end_index]\n",
    "    \n",
    "    def __getitem__(self, idx):\n",
    "#         print(\"==========================================\")\n",
    "        chunk = self._get_random_slice()\n",
    "#         print(\"text:\", self.text)\n",
    "#         print(\"chunk:\", chunk)\n",
    "#         print(\"symbols:\")\n",
    "#         for symb in self.all_symbols:\n",
    "#             print(self._get_tensor(symb), symb)\n",
    "        # self._get_tensor(chunk[:-1]) - текущее состояние, self._get_tensor(chunk[1:]) - следующее состояние (target)\n",
    "        if len(chunk) == self.chunk_len + 1: # стандартное поведение\n",
    "#             print(\"check passed, return:\", self._get_tensor(chunk[:-1]), self._get_tensor(chunk[1:]))\n",
    "            return self._get_tensor(chunk[:-1]), self._get_tensor(chunk[1:])  # chunk[:-1] не включает последний эл-т, chunk[1:] не включает первый эл-т\n",
    "        else: # попали на последний символ\n",
    "            return torch.LongTensor([self.all_symbols.index(char) for char in chunk]).to(self.device), torch.LongTensor([self.all_symbols.index(char) for char in chunk[1:]] + [97]).to(self.device)"
   ]
  },
  {
   "cell_type": "code",
   "execution_count": 4,
   "metadata": {},
   "outputs": [
    {
     "name": "stdout",
     "output_type": "stream",
     "text": [
      "98\n"
     ]
    }
   ],
   "source": [
    "# Смотрим, сколько уникальных символов есть в датасете - это и будет размер выходного вектора у нейронной сети\n",
    "symbols = []\n",
    "for i in range(len(arxiv_dataset['summary'])):\n",
    "    Text_Dataset = TextDataset(arxiv_dataset['summary'][i])\n",
    "    for symbol in Text_Dataset.all_symbols:\n",
    "        if symbol not in symbols:\n",
    "            symbols.append(symbol)\n",
    "symbols.append('')\n",
    "print(len(symbols))"
   ]
  },
  {
   "cell_type": "markdown",
   "metadata": {},
   "source": [
    "## Параметры"
   ]
  },
  {
   "cell_type": "code",
   "execution_count": 221,
   "metadata": {},
   "outputs": [],
   "source": [
    "unique_symbols = len(symbols) # число уникальных символов во всём датасете\n",
    "n_layers = 2 # число слоёв для hidden\n",
    "hidden_size = 100 # размер скрытого слоя\n",
    "epochs = 10 # число эпох\n",
    "chunk_len = 10 # размер чанка (слайса из одного summary)\n",
    "batch_size = 2 # размер батча\n",
    "device = torch.device(\"cuda\") # на каком девайсе будет вычисление"
   ]
  },
  {
   "cell_type": "markdown",
   "metadata": {},
   "source": [
    "## Dataloader"
   ]
  },
  {
   "cell_type": "code",
   "execution_count": 149,
   "metadata": {},
   "outputs": [],
   "source": [
    "def collate_fn(input_data, device=torch.device(\"cuda\")):  # на вход приходит arxiv_dataset['summary'][:batch_size]\n",
    "#     len(input_data) == число батчей\n",
    "#     len(item_.all_symbols) == число уникальных символов/размер словаря/размер one-hot вектора\n",
    "\n",
    "#     input_tensor = torch.zeros(len(input_data), chunk_len, unique_symbols).int().to(device)\n",
    "#     target_tensor = torch.zeros(len(input_data), chunk_len, unique_symbols).to(device)\n",
    "\n",
    "    input_tensor = torch.zeros(len(input_data), chunk_len, 1).int().to(device)\n",
    "    target_tensor = torch.zeros(len(input_data), chunk_len, unique_symbols).to(device)\n",
    "    \n",
    "    for batch_id, item in enumerate(input_data):\n",
    "#         for chunks_n in range(item_.chunks_number):\n",
    "#             inputs.append(item_.__getitem__(chunks_n)[0])\n",
    "#             targets.append(item_.__getitem__(chunks_n)[1])\n",
    "        # torch.zeros(len(line), 1, n_letters)\n",
    "        \n",
    "        item_ = TextDataset(item, symbols)\n",
    "        line = item_.__getitem__(0)\n",
    "#         for li in range(item_.chunk_len):\n",
    "#             letter = line[li]\n",
    "#             input_tensor[li][0][item_.all_symbols.index(letter)] = 1\n",
    "#         for li in range(item_.chunk_len):\n",
    "#             input_tensor[li][0][line[0][li]] = 1\n",
    "#             target_tensor[li][0][line[1][li]] = 1\n",
    "\n",
    "#         for li in range(item_.chunk_len): # цикл для вложенности 2\n",
    "#             input_tensor[line[0][li]] = 1\n",
    "#             target_tensor[line[1][li]] = 1\n",
    "\n",
    "#         for i in range(item_.chunk_len):\n",
    "#             for j in range(i + 1):\n",
    "#                 input_tensor[batch_id][i][line[0][j]] = 1\n",
    "#             target_tensor[batch_id][i][line[1][i]] = 1\n",
    "\n",
    "        for i in range(item_.chunk_len):\n",
    "            input_tensor[batch_id][i][0] = line[0][i]\n",
    "            target_tensor[batch_id][i][line[1][i]] = 1\n",
    "\n",
    "#     return {'inputs': inputs.to(device), 'targets': targets.to(device)}\n",
    "    return {'inputs': input_tensor, 'targets': target_tensor}"
   ]
  },
  {
   "cell_type": "code",
   "execution_count": 184,
   "metadata": {
    "id": "hMG7dF0xUAT_"
   },
   "outputs": [],
   "source": [
    "# collate_fn test\n",
    "# btc = collate_fn(arxiv_dataset['summary'][:2])\n",
    "# btc"
   ]
  },
  {
   "cell_type": "code",
   "execution_count": 25,
   "metadata": {},
   "outputs": [
    {
     "data": {
      "text/plain": [
       "tensor([[15],\n",
       "        [27]], device='cuda:0', dtype=torch.int32)"
      ]
     },
     "execution_count": 25,
     "metadata": {},
     "output_type": "execute_result"
    }
   ],
   "source": [
    "# slice test\n",
    "# btc['inputs'][:,2] "
   ]
  },
  {
   "cell_type": "markdown",
   "metadata": {
    "id": "6dvYiuYwan1A"
   },
   "source": [
    "## Определим структуру сети, в качестве основного блока используем **GRU**"
   ]
  },
  {
   "cell_type": "code",
   "execution_count": 34,
   "metadata": {
    "id": "uB9dp0eman1B"
   },
   "outputs": [],
   "source": [
    "# class RNN(nn.Module):\n",
    "#     def __init__(self, input_size, hidden_size, output_size, n_layers=1):\n",
    "#         super(RNN, self).__init__()\n",
    "#         self.input_size = input_size\n",
    "#         self.hidden_size = hidden_size\n",
    "#         self.output_size = output_size\n",
    "#         self.n_layers = n_layers\n",
    "        \n",
    "#         self.encoder = nn.Embedding(input_size, hidden_size)\n",
    "#         self.gru = nn.GRU(hidden_size, hidden_size, n_layers)\n",
    "#         self.decoder = nn.Linear(hidden_size, output_size)\n",
    "    \n",
    "#     def forward(self, input, hidden):\n",
    "#         input = self.encoder(input.view(1, -1))\n",
    "#         output, hidden = self.gru(input.view(1, 1, -1), hidden)\n",
    "#         output = self.decoder(output.view(1, -1))\n",
    "#         return output, hidden\n",
    "\n",
    "#     def init_hidden(self):\n",
    "#         return torch.zeros(self.n_layers, 1, self.hidden_size)\n",
    "    \n",
    "#     def save_model(model, filename='rnn.ckpt'):\n",
    "#         checkpoint = {'input_size': model.input_size,\n",
    "#                       'hidden_size': model.hidden_size,\n",
    "#                       'output_size': model.output_size,\n",
    "#                       'n_layers': model.n_layers,\n",
    "#                       'state_dict': model.state_dict()}\n",
    "#         with open(filename, 'wb') as f:\n",
    "#             torch.save(checkpoint, f)\n",
    "\n",
    "#     def load_model(filename):\n",
    "\n",
    "#         with open(filename, 'rb') as f:\n",
    "#             checkpoint = torch.load(f)\n",
    "\n",
    "#         model = RNN(input_size = checkpoint['input_size'], output_size = checkpoint['output_size'], hidden_size=checkpoint['hidden_size'], n_layers=checkpoint['n_layers'])\n",
    "#         model.load_state_dict(checkpoint['state_dict'])\n",
    "\n",
    "#         return model"
   ]
  },
  {
   "cell_type": "code",
   "execution_count": 153,
   "metadata": {},
   "outputs": [],
   "source": [
    "class RNN(nn.Module):\n",
    "#     def __init__(self, input_size, hidden_size, output_size, batch_size, n_layers=1):\n",
    "    def __init__(self, input_size, hidden_size, output_size, n_layers=1):\n",
    "        super(RNN, self).__init__()\n",
    "        self.input_size = input_size\n",
    "        self.hidden_size = hidden_size\n",
    "        self.output_size = output_size\n",
    "#         self.batch_size = batch_size\n",
    "        self.n_layers = n_layers\n",
    "        \n",
    "        self.encoder = nn.Embedding(input_size, hidden_size)\n",
    "        \n",
    "        # input_size (==unique_symbols) – size of the dictionary of embeddings\n",
    "        # hidden_size – the size of each embedding vector\n",
    "        # Вход: (*) IntTensor или LongTensor произвольной формы, содержащие индексы для извлечения\n",
    "        # Output: (∗, H), where * is the input shape and H = hidden_size\n",
    "        \n",
    "        self.gru = nn.GRU(hidden_size, hidden_size, n_layers)\n",
    "        self.decoder = nn.Linear(hidden_size, output_size)\n",
    "        \n",
    "    \n",
    "    def forward(self, inputs, hidden):\n",
    "        # inputs.shape[0] == batch_size\n",
    "        #print(\"input before encoding: \", inputs, \"shape:\", inputs.shape)\n",
    "#         print(\"================================================\")\n",
    "        inputs = self.encoder(inputs.view(inputs.shape[0], -1))\n",
    "        # Embedding — кажому элементу из input-а ставит некоторое векторное представление размера hidden_size\n",
    "        # Например, если пришёл один тензор из 10 элементов (10 закодированных символов char), то кажому из этих 10 элементов будет поставлен в соответствии вектор размера hidden_size \n",
    "        # вернёт тензор второй вложенности размера len(inputs) * hidden_size\n",
    "        \n",
    "        #print(\"inputs after encoding: \", inputs, \"shape:\", inputs.shape)\n",
    "#         print(\"input shape after encoding: \", input.shape)\n",
    "#         print(\"================================================\")\n",
    "#         print(\"inputs.view(1, 1, -1): \", inputs.view(1, 1, -1), \"shape=\", inputs.view(1, 1, -1).shape)\n",
    "#         print(\"inputs.view(1, -1): \", inputs.view(1, -1), \"shape=\", inputs.view(1, -1).shape)\n",
    "#         print(\"inputs.view(1, batch_size, -1): \", inputs.view(1, self.batch_size, -1), \"shape=\", inputs.view(1, self.batch_size, -1).shape)\n",
    "#         print(\"================================================\")\n",
    "#         print(\"hidden: \", hidden, \"shape=\", hidden.shape)\n",
    "\n",
    "        # складываем эмбединги\n",
    "#         inputs_sum = torch.zeros(self.batch_size, self.hidden_size).to(device)\n",
    "#         for i in range(self.batch_size):\n",
    "#             inputs_sum[i] = inputs[i].sum(0)\n",
    "\n",
    "        output, hidden = self.gru(inputs.view(1, inputs.shape[0], -1), hidden)\n",
    "        output = self.decoder(output.view(inputs.shape[0], -1))\n",
    "        return output, hidden\n",
    "\n",
    "    def init_hidden(self, batch_size):\n",
    "        return torch.zeros(self.n_layers, batch_size, self.hidden_size)\n",
    "    \n",
    "    def save_model(model, filename='rnn.ckpt'):\n",
    "        checkpoint = {'input_size': model.input_size,\n",
    "                      'hidden_size': model.hidden_size,\n",
    "                      'output_size': model.output_size,\n",
    "                      'n_layers': model.n_layers,\n",
    "                      'state_dict': model.state_dict()}\n",
    "        with open(filename, 'wb') as f:\n",
    "            torch.save(checkpoint, f)\n",
    "\n",
    "    def load_model(filename):\n",
    "\n",
    "        with open(filename, 'rb') as f:\n",
    "            checkpoint = torch.load(f)\n",
    "\n",
    "        model = RNN(input_size = checkpoint['input_size'], output_size = checkpoint['output_size'], hidden_size=checkpoint['hidden_size'], n_layers=checkpoint['n_layers'])\n",
    "        model.load_state_dict(checkpoint['state_dict'])\n",
    "\n",
    "        return model"
   ]
  },
  {
   "cell_type": "code",
   "execution_count": 155,
   "metadata": {},
   "outputs": [],
   "source": [
    "net = RNN(unique_symbols, hidden_size, unique_symbols, n_layers)\n",
    "\n",
    "net = net.to(device)\n",
    "optimizer = torch.optim.Adam(net.parameters(), lr=1e-4)\n",
    "criterion = nn.CrossEntropyLoss().to(device)"
   ]
  },
  {
   "cell_type": "markdown",
   "metadata": {},
   "source": [
    "## Цикл обучения"
   ]
  },
  {
   "cell_type": "code",
   "execution_count": 219,
   "metadata": {},
   "outputs": [],
   "source": [
    "def training(net, epochs, optimizer, criterion, loader, device, batch_size):\n",
    "    start = time.time()\n",
    "    \n",
    "    losses_avg = []\n",
    "    losses_best = []\n",
    "    net.train()\n",
    "\n",
    "    for epoch in range(1, epochs+1):\n",
    "        print('epoch: ', epoch)\n",
    "        losses = []\n",
    "        hidden = net.init_hidden(batch_size).to(device)\n",
    "        \n",
    "        for i, batch in enumerate(tqdm(loader)): # for inputs, targets in loader:\n",
    "            loss = 0\n",
    "            hidden = hidden.detach()\n",
    "            optimizer.zero_grad()\n",
    "\n",
    "            for chars in range(len(batch[\"inputs\"][0])): # len(batch[\"inputs\"][0]) == chunk_len\n",
    "                # len(batch) == 2 (\"inputs\", \"targets\")\n",
    "                # len(batch[\"inputs\"]) == len(batch[\"targets\"]) == batch_size\n",
    "                # len(batch[\"inputs\"][i]) == len(batch[\"targets\"][i]) == chunk_len, i от 0 до batch_size\n",
    "                # len(batch[\"inputs\"][i][j]) == len(batch[\"targets\"][i][j]) == unique_symbols (число уникальных символов)\n",
    "\n",
    "                output, hidden = net(batch['inputs'][:,chars], hidden)\n",
    "\n",
    "    #             output_max = torch.LongTensor(batch_size, 1)\n",
    "    #             for i in range(len(output)): # по всем батчам\n",
    "    #                 output_max[i] = output[i].argmax()\n",
    "\n",
    "    #             print(output)\n",
    "    #             print(batch['targets'][:,chars]) # tensor размера batch_size x 98 (из 97 нулей и 1 единицы)\n",
    "\n",
    "                loss += criterion(output, batch['targets'][:,chars])\n",
    "\n",
    "            loss = loss / len(batch[\"inputs\"][0])\n",
    "\n",
    "            loss.backward()\n",
    "            optimizer.step()\n",
    "\n",
    "            loss = loss.cpu().detach().numpy()\n",
    "\n",
    "            # print(\"loss: \", loss)\n",
    "            losses.append(loss)\n",
    "\n",
    "        # print('losses: ', losses)\n",
    "        losses_avg.append(np.mean(losses))\n",
    "        # print(np.mean(losses))\n",
    "        # print(losses[0], np.mean(losses))\n",
    "        losses_best.append(sorted(losses, reverse=False)[0])  # reverse=False - в порядке возрастания\n",
    "\n",
    "        if epoch%10 == 0:\n",
    "            print(\"Saving...\")\n",
    "    #         RNN.save_model(net, f'/content/drive/MyDrive/Универ/TrainedModel_epoch_{epoch}.ckpt')\n",
    "            RNN.save_model(net, f'TrainedModel_epoch_{epoch}.ckpt')\n",
    "    print(\"Training finished, time:\", time.time() - start)\n",
    "    return losses_avg, losses_best, net, hidden"
   ]
  },
  {
   "cell_type": "code",
   "execution_count": 222,
   "metadata": {},
   "outputs": [
    {
     "name": "stdout",
     "output_type": "stream",
     "text": [
      "epoch:  1\n"
     ]
    },
    {
     "name": "stderr",
     "output_type": "stream",
     "text": [
      "  3%|██▎                                                                           | 413/13594 [00:11<06:21, 34.54it/s]\n"
     ]
    },
    {
     "ename": "KeyboardInterrupt",
     "evalue": "",
     "output_type": "error",
     "traceback": [
      "\u001b[1;31m---------------------------------------------------------------------------\u001b[0m",
      "\u001b[1;31mKeyboardInterrupt\u001b[0m                         Traceback (most recent call last)",
      "Input \u001b[1;32mIn [222]\u001b[0m, in \u001b[0;36m<cell line: 9>\u001b[1;34m()\u001b[0m\n\u001b[0;32m      1\u001b[0m loader \u001b[38;5;241m=\u001b[39m DataLoader(arxiv_dataset[\u001b[38;5;124m'\u001b[39m\u001b[38;5;124msummary\u001b[39m\u001b[38;5;124m'\u001b[39m], \n\u001b[0;32m      2\u001b[0m                     batch_size, \u001b[38;5;66;03m# как много sample загружать за 1 батч (сколько отдельных summary передаём за раз)\u001b[39;00m\n\u001b[0;32m      3\u001b[0m                     shuffle\u001b[38;5;241m=\u001b[39m\u001b[38;5;28;01mTrue\u001b[39;00m, \u001b[38;5;66;03m# перетасовка данных между эпохами\u001b[39;00m\n\u001b[1;32m   (...)\u001b[0m\n\u001b[0;32m      6\u001b[0m                     drop_last \u001b[38;5;241m=\u001b[39m \u001b[38;5;28;01mTrue\u001b[39;00m, \u001b[38;5;66;03m# удалять ли последний незавершённый batch (если размер датасета не делится на batch_size)\u001b[39;00m\n\u001b[0;32m      7\u001b[0m                     )\n\u001b[1;32m----> 9\u001b[0m l_avg, l_best, net, hidden \u001b[38;5;241m=\u001b[39m \u001b[43mtraining\u001b[49m\u001b[43m(\u001b[49m\u001b[43mnet\u001b[49m\u001b[43m \u001b[49m\u001b[38;5;241;43m=\u001b[39;49m\u001b[43m \u001b[49m\u001b[43mRNN\u001b[49m\u001b[43m(\u001b[49m\u001b[43munique_symbols\u001b[49m\u001b[43m,\u001b[49m\u001b[43m \u001b[49m\u001b[43mhidden_size\u001b[49m\u001b[43m,\u001b[49m\u001b[43m \u001b[49m\u001b[43munique_symbols\u001b[49m\u001b[43m,\u001b[49m\u001b[43m \u001b[49m\u001b[43mn_layers\u001b[49m\u001b[43m)\u001b[49m\u001b[38;5;241;43m.\u001b[39;49m\u001b[43mto\u001b[49m\u001b[43m(\u001b[49m\u001b[43mdevice\u001b[49m\u001b[43m)\u001b[49m\u001b[43m,\u001b[49m\n\u001b[0;32m     10\u001b[0m \u001b[43m                                     \u001b[49m\u001b[43mepochs\u001b[49m\u001b[43m \u001b[49m\u001b[38;5;241;43m=\u001b[39;49m\u001b[43m \u001b[49m\u001b[43mepochs\u001b[49m\u001b[43m,\u001b[49m\n\u001b[0;32m     11\u001b[0m \u001b[43m                                     \u001b[49m\u001b[43moptimizer\u001b[49m\u001b[43m \u001b[49m\u001b[38;5;241;43m=\u001b[39;49m\u001b[43m \u001b[49m\u001b[43mtorch\u001b[49m\u001b[38;5;241;43m.\u001b[39;49m\u001b[43moptim\u001b[49m\u001b[38;5;241;43m.\u001b[39;49m\u001b[43mAdam\u001b[49m\u001b[43m(\u001b[49m\u001b[43mnet\u001b[49m\u001b[38;5;241;43m.\u001b[39;49m\u001b[43mparameters\u001b[49m\u001b[43m(\u001b[49m\u001b[43m)\u001b[49m\u001b[43m,\u001b[49m\u001b[43m \u001b[49m\u001b[43mlr\u001b[49m\u001b[38;5;241;43m=\u001b[39;49m\u001b[38;5;241;43m1e-4\u001b[39;49m\u001b[43m)\u001b[49m\u001b[43m,\u001b[49m\n\u001b[0;32m     12\u001b[0m \u001b[43m                                     \u001b[49m\u001b[43mcriterion\u001b[49m\u001b[43m \u001b[49m\u001b[38;5;241;43m=\u001b[39;49m\u001b[43m \u001b[49m\u001b[43mnn\u001b[49m\u001b[38;5;241;43m.\u001b[39;49m\u001b[43mCrossEntropyLoss\u001b[49m\u001b[43m(\u001b[49m\u001b[43m)\u001b[49m\u001b[38;5;241;43m.\u001b[39;49m\u001b[43mto\u001b[49m\u001b[43m(\u001b[49m\u001b[43mdevice\u001b[49m\u001b[43m)\u001b[49m\u001b[43m,\u001b[49m\n\u001b[0;32m     13\u001b[0m \u001b[43m                                     \u001b[49m\u001b[43mloader\u001b[49m\u001b[43m \u001b[49m\u001b[38;5;241;43m=\u001b[39;49m\u001b[43m \u001b[49m\u001b[43mloader\u001b[49m\u001b[43m,\u001b[49m\n\u001b[0;32m     14\u001b[0m \u001b[43m                                     \u001b[49m\u001b[43mdevice\u001b[49m\u001b[43m \u001b[49m\u001b[38;5;241;43m=\u001b[39;49m\u001b[43m \u001b[49m\u001b[43mtorch\u001b[49m\u001b[38;5;241;43m.\u001b[39;49m\u001b[43mdevice\u001b[49m\u001b[43m(\u001b[49m\u001b[38;5;124;43m\"\u001b[39;49m\u001b[38;5;124;43mcuda\u001b[39;49m\u001b[38;5;124;43m\"\u001b[39;49m\u001b[43m)\u001b[49m\u001b[43m,\u001b[49m\n\u001b[0;32m     15\u001b[0m \u001b[43m                                     \u001b[49m\u001b[43mbatch_size\u001b[49m\u001b[38;5;241;43m=\u001b[39;49m\u001b[43mbatch_size\u001b[49m\u001b[43m)\u001b[49m\n",
      "Input \u001b[1;32mIn [219]\u001b[0m, in \u001b[0;36mtraining\u001b[1;34m(net, epochs, optimizer, criterion, loader, device, batch_size)\u001b[0m\n\u001b[0;32m     33\u001b[0m     loss \u001b[38;5;241m+\u001b[39m\u001b[38;5;241m=\u001b[39m criterion(output, batch[\u001b[38;5;124m'\u001b[39m\u001b[38;5;124mtargets\u001b[39m\u001b[38;5;124m'\u001b[39m][:,chars])\n\u001b[0;32m     35\u001b[0m loss \u001b[38;5;241m=\u001b[39m loss \u001b[38;5;241m/\u001b[39m \u001b[38;5;28mlen\u001b[39m(batch[\u001b[38;5;124m\"\u001b[39m\u001b[38;5;124minputs\u001b[39m\u001b[38;5;124m\"\u001b[39m][\u001b[38;5;241m0\u001b[39m])\n\u001b[1;32m---> 37\u001b[0m \u001b[43mloss\u001b[49m\u001b[38;5;241;43m.\u001b[39;49m\u001b[43mbackward\u001b[49m\u001b[43m(\u001b[49m\u001b[43m)\u001b[49m\n\u001b[0;32m     38\u001b[0m optimizer\u001b[38;5;241m.\u001b[39mstep()\n\u001b[0;32m     40\u001b[0m loss \u001b[38;5;241m=\u001b[39m loss\u001b[38;5;241m.\u001b[39mcpu()\u001b[38;5;241m.\u001b[39mdetach()\u001b[38;5;241m.\u001b[39mnumpy()\n",
      "File \u001b[1;32m~\\anaconda3\\envs\\gpu\\lib\\site-packages\\torch\\_tensor.py:487\u001b[0m, in \u001b[0;36mTensor.backward\u001b[1;34m(self, gradient, retain_graph, create_graph, inputs)\u001b[0m\n\u001b[0;32m    477\u001b[0m \u001b[38;5;28;01mif\u001b[39;00m has_torch_function_unary(\u001b[38;5;28mself\u001b[39m):\n\u001b[0;32m    478\u001b[0m     \u001b[38;5;28;01mreturn\u001b[39;00m handle_torch_function(\n\u001b[0;32m    479\u001b[0m         Tensor\u001b[38;5;241m.\u001b[39mbackward,\n\u001b[0;32m    480\u001b[0m         (\u001b[38;5;28mself\u001b[39m,),\n\u001b[1;32m   (...)\u001b[0m\n\u001b[0;32m    485\u001b[0m         inputs\u001b[38;5;241m=\u001b[39minputs,\n\u001b[0;32m    486\u001b[0m     )\n\u001b[1;32m--> 487\u001b[0m \u001b[43mtorch\u001b[49m\u001b[38;5;241;43m.\u001b[39;49m\u001b[43mautograd\u001b[49m\u001b[38;5;241;43m.\u001b[39;49m\u001b[43mbackward\u001b[49m\u001b[43m(\u001b[49m\n\u001b[0;32m    488\u001b[0m \u001b[43m    \u001b[49m\u001b[38;5;28;43mself\u001b[39;49m\u001b[43m,\u001b[49m\u001b[43m \u001b[49m\u001b[43mgradient\u001b[49m\u001b[43m,\u001b[49m\u001b[43m \u001b[49m\u001b[43mretain_graph\u001b[49m\u001b[43m,\u001b[49m\u001b[43m \u001b[49m\u001b[43mcreate_graph\u001b[49m\u001b[43m,\u001b[49m\u001b[43m \u001b[49m\u001b[43minputs\u001b[49m\u001b[38;5;241;43m=\u001b[39;49m\u001b[43minputs\u001b[49m\n\u001b[0;32m    489\u001b[0m \u001b[43m\u001b[49m\u001b[43m)\u001b[49m\n",
      "File \u001b[1;32m~\\anaconda3\\envs\\gpu\\lib\\site-packages\\torch\\autograd\\__init__.py:197\u001b[0m, in \u001b[0;36mbackward\u001b[1;34m(tensors, grad_tensors, retain_graph, create_graph, grad_variables, inputs)\u001b[0m\n\u001b[0;32m    192\u001b[0m     retain_graph \u001b[38;5;241m=\u001b[39m create_graph\n\u001b[0;32m    194\u001b[0m \u001b[38;5;66;03m# The reason we repeat same the comment below is that\u001b[39;00m\n\u001b[0;32m    195\u001b[0m \u001b[38;5;66;03m# some Python versions print out the first line of a multi-line function\u001b[39;00m\n\u001b[0;32m    196\u001b[0m \u001b[38;5;66;03m# calls in the traceback and some print out the last line\u001b[39;00m\n\u001b[1;32m--> 197\u001b[0m \u001b[43mVariable\u001b[49m\u001b[38;5;241;43m.\u001b[39;49m\u001b[43m_execution_engine\u001b[49m\u001b[38;5;241;43m.\u001b[39;49m\u001b[43mrun_backward\u001b[49m\u001b[43m(\u001b[49m\u001b[43m  \u001b[49m\u001b[38;5;66;43;03m# Calls into the C++ engine to run the backward pass\u001b[39;49;00m\n\u001b[0;32m    198\u001b[0m \u001b[43m    \u001b[49m\u001b[43mtensors\u001b[49m\u001b[43m,\u001b[49m\u001b[43m \u001b[49m\u001b[43mgrad_tensors_\u001b[49m\u001b[43m,\u001b[49m\u001b[43m \u001b[49m\u001b[43mretain_graph\u001b[49m\u001b[43m,\u001b[49m\u001b[43m \u001b[49m\u001b[43mcreate_graph\u001b[49m\u001b[43m,\u001b[49m\u001b[43m \u001b[49m\u001b[43minputs\u001b[49m\u001b[43m,\u001b[49m\n\u001b[0;32m    199\u001b[0m \u001b[43m    \u001b[49m\u001b[43mallow_unreachable\u001b[49m\u001b[38;5;241;43m=\u001b[39;49m\u001b[38;5;28;43;01mTrue\u001b[39;49;00m\u001b[43m,\u001b[49m\u001b[43m \u001b[49m\u001b[43maccumulate_grad\u001b[49m\u001b[38;5;241;43m=\u001b[39;49m\u001b[38;5;28;43;01mTrue\u001b[39;49;00m\u001b[43m)\u001b[49m\n",
      "\u001b[1;31mKeyboardInterrupt\u001b[0m: "
     ]
    }
   ],
   "source": [
    "loader = DataLoader(arxiv_dataset['summary'], \n",
    "                    batch_size, # как много sample загружать за 1 батч (сколько отдельных summary передаём за раз)\n",
    "                    shuffle=True, # перетасовка данных между эпохами\n",
    "#                             num_workers=2,\n",
    "                    collate_fn=collate_fn, # функция-обработчик датасета (объединяет список сэмплов, чтобы сформировать мини-партию тензоров)\n",
    "                    drop_last = True, # удалять ли последний незавершённый batch (если размер датасета не делится на batch_size)\n",
    "                    )\n",
    "\n",
    "l_avg, l_best, net, hidden = training(net = RNN(unique_symbols, hidden_size, unique_symbols, n_layers).to(device),\n",
    "                                     epochs = epochs,\n",
    "                                     optimizer = torch.optim.Adam(net.parameters(), lr=1e-4),\n",
    "                                     criterion = nn.CrossEntropyLoss().to(device),\n",
    "                                     loader = loader,\n",
    "                                     device = torch.device(\"cuda\"),\n",
    "                                     batch_size=batch_size)"
   ]
  },
  {
   "cell_type": "markdown",
   "metadata": {
    "id": "mUNreOMx48it"
   },
   "source": [
    "## Генерация текста с помощью сети"
   ]
  },
  {
   "cell_type": "code",
   "execution_count": 200,
   "metadata": {
    "id": "dxxUXllHan1q"
   },
   "outputs": [],
   "source": [
    "def generate(net, device, dataset, prime_str=\"A bob\", predict_len=100, temperature=0.8):\n",
    "    with torch.no_grad():\n",
    "        net.eval()\n",
    "        predicted_string = prime_str\n",
    "        hidden = net.init_hidden(1).to(device)\n",
    "#         input_char = torch.LongTensor([dataset.all_symbols.index(prime_str)]).cuda()\n",
    "        input_char = dataset._get_tensor(prime_str[-1])\n",
    "\n",
    "        while len(predicted_string) < predict_len:\n",
    "\n",
    "            output, hidden = net(input_char, hidden) # генерируем продолжение строки и новый hidden\n",
    "            \n",
    "            probability = torch.softmax(output / temperature, dim=1)\n",
    "#             print(probability)\n",
    "       \n",
    "            next_char = random.choices(dataset.all_symbols, weights=probability[0])[0]\n",
    "            \n",
    "#             id_of_next_char = output.argmax() # ищем номер самой вероятной буквы для продолжения\n",
    "            \n",
    "#             if id_of_next_char == len(dataset.all_symbols) - 1:\n",
    "            if next_char == \"\":\n",
    "                break\n",
    "#             next_char = dataset.all_symbols[id_of_next_char]\n",
    "            predicted_string += next_char\n",
    "            \n",
    "#             input_char = torch.LongTensor([dataset.all_symbols.index(next_char)]).cuda()\n",
    "            input_char = dataset._get_tensor(next_char)\n",
    "            \n",
    "        return predicted_string"
   ]
  },
  {
   "cell_type": "code",
   "execution_count": 201,
   "metadata": {},
   "outputs": [],
   "source": [
    "text_dataset = TextDataset(\"aboba\", symbols, chunk_len=10)"
   ]
  },
  {
   "cell_type": "markdown",
   "metadata": {
    "id": "DZ_g0iNran2A"
   },
   "source": [
    "## Результаты тренировки"
   ]
  },
  {
   "cell_type": "code",
   "execution_count": 206,
   "metadata": {
    "id": "a-GbTX_rONy9"
   },
   "outputs": [
    {
     "data": {
      "text/plain": [
       "'A bob&g|hp{tqc!Wy:36b(L*)}[qh\\nP'"
      ]
     },
     "execution_count": 206,
     "metadata": {},
     "output_type": "execute_result"
    }
   ],
   "source": [
    "generate(net, device, text_dataset)"
   ]
  },
  {
   "cell_type": "code",
   "execution_count": 217,
   "metadata": {
    "id": "KGgmnmQPan2B"
   },
   "outputs": [
    {
     "name": "stdout",
     "output_type": "stream",
     "text": [
      "In this researchG#Cq`;#P:n:A__8/Bc \n",
      "\n"
     ]
    }
   ],
   "source": [
    "# print(generate(net, device, arxiv_dataset, 'In this research', 200 ), '\\n')\n",
    "print(generate(net, device, text_dataset, 'In this research', 200, .8), '\\n')"
   ]
  },
  {
   "cell_type": "markdown",
   "metadata": {},
   "source": [
    "# Тестирование"
   ]
  },
  {
   "cell_type": "code",
   "execution_count": 19,
   "metadata": {
    "id": "FmnpaXXmd4ys"
   },
   "outputs": [
    {
     "data": {
      "text/plain": [
       "torch.Size([1, 98])"
      ]
     },
     "execution_count": 19,
     "metadata": {},
     "output_type": "execute_result"
    }
   ],
   "source": [
    "inputs = torch.LongTensor([symbols.index(\"A\")]).cuda()\n",
    "net(inputs, hidden.cuda())[0].shape"
   ]
  },
  {
   "cell_type": "code",
   "execution_count": 22,
   "metadata": {},
   "outputs": [],
   "source": [
    "pred = net(inputs, hidden.cuda())[0]"
   ]
  },
  {
   "cell_type": "code",
   "execution_count": 35,
   "metadata": {},
   "outputs": [
    {
     "data": {
      "text/plain": [
       "tensor([[ -3.4287,   0.7673,  -5.5772,  -3.6050,  -4.0858,  -1.0775,  -5.9385,\n",
       "          -4.6353,  -0.4473,   0.0648,  -5.2527,  -1.7242,  -2.6784,   0.6840,\n",
       "          -4.4650,  -6.1217,  -7.1478,   0.2174,  -6.0777,  -6.3620,  -4.9229,\n",
       "           0.1024,  -2.6279,  -1.6673,  -6.2317,  -1.9567,  -6.0442,  -7.3561,\n",
       "          -2.5173,  -1.0740,   1.1548,  -4.7866,  -6.2299,   1.2050,  -2.9068,\n",
       "          -0.7309,  -5.8618,  -4.2097,  -6.0112,  -6.4307,  -7.0132,  -5.7819,\n",
       "          -5.6711,  -9.1844,  -6.2927,  -6.7617,  -9.0003,  -8.6777,  -6.7467,\n",
       "          -6.3367,  -6.8252,  -6.2397,  -7.1575,  -6.9217,  -8.6735,  -6.7276,\n",
       "         -10.1495,  -6.1476,  -8.1759,  -7.1865,  -5.5879,  -7.0190, -11.7084,\n",
       "         -11.9192,  -6.7862, -10.6048,  -9.3374, -10.3494, -11.4785, -10.4546,\n",
       "          -7.1347,  -8.8615,  -8.0262, -11.4216, -15.7779,  -8.6676, -14.3619,\n",
       "         -12.7619, -10.3936, -14.1475, -13.5221, -12.7191, -10.2625, -11.6673,\n",
       "         -15.2373, -14.1318, -16.4665, -12.6955, -15.7103, -17.5889, -16.5466,\n",
       "         -17.4638, -17.8706, -17.9058, -18.0116, -17.7371, -17.9195,  -5.7733]],\n",
       "       device='cuda:0', grad_fn=<AddmmBackward0>)"
      ]
     },
     "execution_count": 35,
     "metadata": {},
     "output_type": "execute_result"
    }
   ],
   "source": [
    "pred"
   ]
  },
  {
   "cell_type": "code",
   "execution_count": 33,
   "metadata": {},
   "outputs": [
    {
     "data": {
      "text/plain": [
       "tensor(33, device='cuda:0')"
      ]
     },
     "execution_count": 33,
     "metadata": {},
     "output_type": "execute_result"
    }
   ],
   "source": [
    "pred.argmax()"
   ]
  },
  {
   "cell_type": "code",
   "execution_count": 36,
   "metadata": {},
   "outputs": [
    {
     "data": {
      "text/plain": [
       "'M'"
      ]
     },
     "execution_count": 36,
     "metadata": {},
     "output_type": "execute_result"
    }
   ],
   "source": [
    "symbols[pred.argmax()]"
   ]
  },
  {
   "cell_type": "markdown",
   "metadata": {
    "id": "o7s73qNy5xEY"
   },
   "source": [
    "# Здесь должны быть эксперименты с архитектурой и параметрами сети"
   ]
  },
  {
   "cell_type": "code",
   "execution_count": 27,
   "metadata": {
    "id": "ZS0qg5Ra54_X"
   },
   "outputs": [],
   "source": [
    "class RNN(nn.Module):\n",
    "    def __init__(self, input_size, hidden_size, output_size, batch_size, n_layers=1):\n",
    "        super(RNN, self).__init__()\n",
    "        self.input_size = input_size\n",
    "        self.hidden_size = hidden_size\n",
    "        self.output_size = output_size\n",
    "        self.batch_size = batch_size\n",
    "        self.n_layers = n_layers\n",
    "        \n",
    "        self.encoder = nn.Embedding(input_size, hidden_size) # получает 1 чар в one-hot представлении, то есть вектор из 98 элементов и превращает его в вектор размера 100\n",
    "        \n",
    "        # input_size (==unique_symbols) – size of the dictionary of embeddings\n",
    "        # hidden_size – the size of each embedding vector\n",
    "        # Вход: (*) IntTensor или LongTensor произвольной формы, содержащие индексы для извлечения\n",
    "        # Output: (∗, H), where * is the input shape and H = hidden_size\n",
    "        \n",
    "        self.gru = nn.GRU(hidden_size, hidden_size, n_layers)\n",
    "        self.decoder = nn.Linear(hidden_size, output_size)\n",
    "        \n",
    "    \n",
    "    def forward(self, inputs, hidden):\n",
    "        #print(\"input before encoding: \", inputs, \"shape:\", inputs.shape)\n",
    "#         print(\"================================================\")\n",
    "        inputs = self.encoder(inputs.view(self.batch_size, -1))\n",
    "        # Embedding — кажому элементу из input-а ставит некоторое векторное представление размера hidden_size\n",
    "        # Например, если пришёл один тензор из 10 элементов (10 закодированных символов char), то кажому из этих 10 элементов будет поставлен в соответствии вектор размера hidden_size \n",
    "        # вернёт тензор второй вложенности размера len(inputs) * hidden_size\n",
    "        \n",
    "        #print(\"inputs after encoding: \", inputs, \"shape:\", inputs.shape)\n",
    "#         print(\"input shape after encoding: \", input.shape)\n",
    "#         print(\"================================================\")\n",
    "#         print(\"inputs.view(1, 1, -1): \", inputs.view(1, 1, -1), \"shape=\", inputs.view(1, 1, -1).shape)\n",
    "#         print(\"inputs.view(1, -1): \", inputs.view(1, -1), \"shape=\", inputs.view(1, -1).shape)\n",
    "#         print(\"inputs.view(1, batch_size, -1): \", inputs.view(1, self.batch_size, -1), \"shape=\", inputs.view(1, self.batch_size, -1).shape)\n",
    "#         print(\"================================================\")\n",
    "#         print(\"hidden: \", hidden, \"shape=\", hidden.shape)\n",
    "\n",
    "        # складываем эмбединги\n",
    "        inputs_sum = torch.zeros(self.batch_size, self.hidden_size).to(device)\n",
    "        for i in range(self.batch_size):\n",
    "            inputs_sum[i] = inputs[i].sum(0)\n",
    "    \n",
    "        output, hidden = self.gru(inputs_sum.view(1, self.batch_size, -1), hidden)\n",
    "#         print(\"gru passed\")\n",
    "        output = self.decoder(output.view(self.batch_size, -1))\n",
    "        return output, hidden\n",
    "\n",
    "    def init_hidden(self):\n",
    "        return torch.zeros(self.n_layers, self.batch_size, self.hidden_size)\n",
    "    \n",
    "    def save_model(model, filename='rnn.ckpt'):\n",
    "        checkpoint = {'input_size': model.input_size,\n",
    "                      'hidden_size': model.hidden_size,\n",
    "                      'output_size': model.output_size,\n",
    "                      'n_layers': model.n_layers,\n",
    "                      'state_dict': model.state_dict()}\n",
    "        with open(filename, 'wb') as f:\n",
    "            torch.save(checkpoint, f)\n",
    "\n",
    "    def load_model(filename):\n",
    "\n",
    "        with open(filename, 'rb') as f:\n",
    "            checkpoint = torch.load(f)\n",
    "\n",
    "        model = RNN(input_size = checkpoint['input_size'], output_size = checkpoint['output_size'], hidden_size=checkpoint['hidden_size'], n_layers=checkpoint['n_layers'])\n",
    "        model.load_state_dict(checkpoint['state_dict'])\n",
    "\n",
    "        return model"
   ]
  },
  {
   "cell_type": "code",
   "execution_count": 111,
   "metadata": {},
   "outputs": [
    {
     "name": "stdout",
     "output_type": "stream",
     "text": [
      "inputs: tensor([[0, 0, 0, 0, 0, 0, 0, 0, 0, 0, 0, 0, 0, 0, 0, 0, 0, 0, 0, 0, 0, 0, 0, 0,\n",
      "         0, 0, 1, 0, 0, 0, 0, 0, 0, 0, 0, 0, 0, 0, 0, 0, 0, 0, 0, 0, 0, 0, 0, 0,\n",
      "         0, 0, 0, 0, 0, 0, 0, 0, 0, 0, 0, 0, 0, 0, 0, 0, 0, 0, 0, 0, 0, 0, 0, 0,\n",
      "         0, 0, 0, 0, 0, 0, 0, 0, 0, 0, 0, 0, 0, 0, 0, 0, 0, 0, 0, 0, 0, 0, 0, 0,\n",
      "         0, 0],\n",
      "        [0, 0, 0, 0, 0, 0, 0, 0, 0, 0, 0, 0, 0, 0, 1, 0, 0, 0, 0, 0, 0, 0, 0, 0,\n",
      "         0, 0, 0, 0, 0, 0, 0, 0, 0, 0, 0, 0, 0, 0, 0, 0, 0, 0, 0, 0, 0, 0, 0, 0,\n",
      "         0, 0, 0, 0, 0, 0, 0, 0, 0, 0, 0, 0, 0, 0, 0, 0, 0, 0, 0, 0, 0, 0, 0, 0,\n",
      "         0, 0, 0, 0, 0, 0, 0, 0, 0, 0, 0, 0, 0, 0, 0, 0, 0, 0, 0, 0, 0, 0, 0, 0,\n",
      "         0, 0]], dtype=torch.int32)\n",
      "inputs shape: torch.Size([2, 98])\n",
      "================embedding==================\n",
      "inputs after encoder: tensor([[[ 0.4356, -0.9803, -1.2567,  ...,  0.1187, -0.9767, -0.4646],\n",
      "         [ 0.4356, -0.9803, -1.2567,  ...,  0.1187, -0.9767, -0.4646],\n",
      "         [ 0.4356, -0.9803, -1.2567,  ...,  0.1187, -0.9767, -0.4646],\n",
      "         ...,\n",
      "         [ 0.4356, -0.9803, -1.2567,  ...,  0.1187, -0.9767, -0.4646],\n",
      "         [ 0.4356, -0.9803, -1.2567,  ...,  0.1187, -0.9767, -0.4646],\n",
      "         [ 0.4356, -0.9803, -1.2567,  ...,  0.1187, -0.9767, -0.4646]],\n",
      "\n",
      "        [[ 0.4356, -0.9803, -1.2567,  ...,  0.1187, -0.9767, -0.4646],\n",
      "         [ 0.4356, -0.9803, -1.2567,  ...,  0.1187, -0.9767, -0.4646],\n",
      "         [ 0.4356, -0.9803, -1.2567,  ...,  0.1187, -0.9767, -0.4646],\n",
      "         ...,\n",
      "         [ 0.4356, -0.9803, -1.2567,  ...,  0.1187, -0.9767, -0.4646],\n",
      "         [ 0.4356, -0.9803, -1.2567,  ...,  0.1187, -0.9767, -0.4646],\n",
      "         [ 0.4356, -0.9803, -1.2567,  ...,  0.1187, -0.9767, -0.4646]]],\n",
      "       grad_fn=<EmbeddingBackward0>)\n",
      "inputs shape after encoder: torch.Size([2, 98, 100])\n",
      "================summ==================\n",
      "inputs after encoder sum: tensor([[  41.9089,  -95.8288, -121.9389,  205.1568, -211.4885,    4.1389,\n",
      "          156.8537, -208.9290,   39.1764,   67.3370,  210.5231,  -13.1926,\n",
      "           37.6068,   51.2819, -180.3040,   21.7463,   40.3050, -164.9372,\n",
      "           12.9151,  -24.2895, -187.6484,   59.4837,  122.9900,   61.2236,\n",
      "           77.1024,  -78.5255,   75.2005, -106.2032,   30.0436, -121.4895,\n",
      "         -133.6242, -175.2972, -153.3303,   11.5256,   22.4536,  -64.1207,\n",
      "           43.2573,  -67.2206,  119.9967,   43.2087,  -43.9726,   18.0049,\n",
      "           54.1221,  -20.9824,    1.3072,  100.4303,   72.7858, -216.4696,\n",
      "           36.5045,   32.2800,  116.7748,  -43.4014,   -0.5001,   16.4948,\n",
      "           47.7299,  124.1959,  -67.8569, -206.9363,  -61.8161,  -66.3890,\n",
      "          -95.4539,   28.6961,  -73.6950,  -84.4019,  -42.7995, -127.3665,\n",
      "          -81.1717,   44.9930, -160.1744, -174.2526,  190.8100,  -98.4927,\n",
      "          109.2464,   49.7766,  -45.0742,   58.2410,  -52.7275,   -5.6973,\n",
      "          -52.2859,   45.3165,    9.0745,   46.7418,  112.7881,    0.9520,\n",
      "          -96.9906,  117.0418,   56.4669,   26.9162,   41.3670,  -32.1125,\n",
      "           15.8720,  -57.5464,  -47.0688,  -75.3333,   20.6951,    9.8866,\n",
      "          -84.9026,    9.3171,  -93.4081,  -45.6172],\n",
      "        [  41.9089,  -95.8288, -121.9389,  205.1568, -211.4885,    4.1389,\n",
      "          156.8537, -208.9290,   39.1764,   67.3370,  210.5231,  -13.1926,\n",
      "           37.6068,   51.2819, -180.3040,   21.7463,   40.3050, -164.9372,\n",
      "           12.9151,  -24.2895, -187.6484,   59.4837,  122.9900,   61.2236,\n",
      "           77.1024,  -78.5255,   75.2005, -106.2032,   30.0436, -121.4895,\n",
      "         -133.6242, -175.2972, -153.3303,   11.5256,   22.4536,  -64.1207,\n",
      "           43.2573,  -67.2206,  119.9967,   43.2087,  -43.9726,   18.0049,\n",
      "           54.1221,  -20.9824,    1.3072,  100.4303,   72.7858, -216.4696,\n",
      "           36.5045,   32.2800,  116.7748,  -43.4014,   -0.5001,   16.4948,\n",
      "           47.7299,  124.1959,  -67.8569, -206.9363,  -61.8161,  -66.3890,\n",
      "          -95.4539,   28.6961,  -73.6950,  -84.4019,  -42.7995, -127.3665,\n",
      "          -81.1717,   44.9930, -160.1744, -174.2526,  190.8100,  -98.4927,\n",
      "          109.2464,   49.7766,  -45.0742,   58.2410,  -52.7275,   -5.6973,\n",
      "          -52.2859,   45.3165,    9.0745,   46.7418,  112.7881,    0.9520,\n",
      "          -96.9906,  117.0418,   56.4669,   26.9162,   41.3670,  -32.1125,\n",
      "           15.8720,  -57.5464,  -47.0688,  -75.3333,   20.6951,    9.8866,\n",
      "          -84.9026,    9.3171,  -93.4081,  -45.6172]], grad_fn=<CopySlices>)\n",
      "inputs shape after encoder sum: torch.Size([2, 100])\n",
      "================linear:==================\n",
      "inputs after linear: tensor([[ 6.3372e-02, -2.2903e-02, -6.8538e-02,  4.4884e-02,  6.6925e-02,\n",
      "          4.6758e-02,  4.9281e-02, -1.4369e-01,  2.1873e-02, -2.3102e-02,\n",
      "         -3.0550e-02, -7.6608e-02, -7.3967e-02,  1.8575e-01, -1.3720e-01,\n",
      "          3.3381e-02, -7.7375e-02, -8.7767e-02,  2.0226e-02, -6.1886e-02,\n",
      "         -1.3461e-01,  1.1078e-01,  8.4325e-04, -2.6758e-02, -7.6264e-02,\n",
      "         -6.6207e-02,  1.7107e-01, -9.5429e-03,  7.1411e-02, -1.3582e-01,\n",
      "          1.1082e-01, -7.5491e-02, -8.8497e-02,  1.4481e-01,  1.8535e-01,\n",
      "         -5.4393e-02, -1.9918e-02,  1.0186e-01,  8.7755e-02, -2.5149e-02,\n",
      "         -4.9699e-02, -7.7994e-02,  8.2704e-02,  9.1785e-02,  1.1338e-01,\n",
      "          3.6902e-02,  1.1056e-01,  1.4436e-02, -1.4214e-02, -1.6192e-01,\n",
      "         -6.4191e-02,  2.4484e-02,  3.8142e-02, -6.4645e-02,  1.9184e-02,\n",
      "          1.6714e-02, -3.8465e-02, -8.0510e-03,  1.7998e-01,  1.4510e-01,\n",
      "         -5.9917e-02, -8.4571e-02,  1.0968e-01,  6.9410e-03, -2.6325e-02,\n",
      "          1.0769e-01, -1.3350e-02,  2.8249e-02, -5.2564e-02, -3.0335e-02,\n",
      "         -6.8576e-02,  7.9836e-02, -4.7998e-02, -1.4197e-01,  3.9961e-02,\n",
      "         -1.4952e-01,  3.3732e-02,  1.4804e-01,  7.4383e-02,  8.3003e-02,\n",
      "          5.8212e-02, -1.6546e-01, -5.5033e-02, -1.4870e-02, -1.3415e-01,\n",
      "          1.2109e-01,  2.9929e-02, -2.0154e-02, -8.3570e-02, -1.1894e-01,\n",
      "         -2.8842e-02, -1.6247e-01,  2.0856e-02, -3.0167e-02,  5.9983e-02,\n",
      "         -9.5999e-02,  4.2314e-02, -3.4040e-02,  6.5767e-02,  2.2813e-02],\n",
      "        [ 1.0871e-01, -6.6254e-02, -1.2349e-01,  7.4314e-02,  1.0816e-01,\n",
      "         -2.7841e-02, -1.0726e-02, -4.9199e-02,  1.7427e-02, -4.6113e-02,\n",
      "          1.2129e-01, -3.9908e-02,  3.1821e-02,  1.3341e-01, -4.8196e-02,\n",
      "         -4.6558e-02, -3.5369e-02, -9.9227e-02, -8.9922e-02, -4.8001e-02,\n",
      "         -7.6384e-02,  1.1580e-01, -1.9259e-02, -1.8837e-01,  5.4927e-02,\n",
      "          2.3867e-02, -1.7848e-04,  1.6192e-01, -4.0055e-02, -1.7835e-01,\n",
      "          1.2518e-01, -7.0221e-02,  9.3579e-02, -1.3294e-02,  1.2595e-01,\n",
      "         -2.7439e-03,  1.2409e-01,  7.6503e-02, -9.2921e-02, -1.6909e-03,\n",
      "         -3.5089e-02, -6.8455e-02,  3.1397e-03,  9.5804e-02,  5.2900e-02,\n",
      "          2.9411e-02,  2.8795e-02, -1.7017e-02,  1.3989e-01, -5.6620e-02,\n",
      "          2.6756e-02, -1.3610e-01, -8.7608e-03, -5.6881e-02,  1.9031e-01,\n",
      "         -1.4901e-01,  3.7245e-02,  1.6602e-02,  1.0307e-01,  1.0775e-01,\n",
      "         -9.2950e-02,  8.3252e-02, -4.5376e-02,  4.2217e-02, -1.0501e-01,\n",
      "          9.6375e-02, -9.9237e-02, -7.7239e-02, -4.4866e-03, -1.9570e-02,\n",
      "          6.2897e-02,  1.1661e-02, -1.5025e-01, -1.0101e-01,  1.3543e-01,\n",
      "         -7.7462e-02, -7.5468e-02,  1.9496e-03, -3.7572e-02, -1.3444e-02,\n",
      "         -6.5216e-02, -1.5959e-01, -1.0974e-01, -8.5682e-02, -9.0639e-02,\n",
      "         -3.8107e-02, -5.1453e-02,  3.5847e-02, -2.0545e-02,  4.8297e-02,\n",
      "         -1.8356e-02, -4.6306e-02, -6.7166e-03,  8.9067e-02,  1.1380e-01,\n",
      "         -9.8687e-02, -9.9396e-02, -3.3067e-02,  1.5402e-01,  2.3220e-02]],\n",
      "       grad_fn=<AddmmBackward0>)\n",
      "inputs shapes after linear: torch.Size([2, 100])\n"
     ]
    }
   ],
   "source": [
    "# input_size = 98 # torch.Size([2, 98, 100])\n",
    "# input_size = 2 # torch.Size([2, 98, 100])\n",
    "# input_size = 1 # ошибка\n",
    "\n",
    "btc = collate_fn(arxiv_dataset[\"summary\"][:2]) # берём батч размера batch_size=2\n",
    "\n",
    "input_size = 98 # == число уникальных символов в датасете\n",
    "hidden_size = 100\n",
    "batch_size = 2\n",
    "encoderrrr = nn.Embedding(input_size, hidden_size)\n",
    "linearrrr = nn.Linear(input_size, hidden_size)\n",
    "for chars in range(1): # для примера, берём только одну, первую букву\n",
    "    inputs = btc['inputs'][:,chars].cpu()\n",
    "    print(\"inputs:\", inputs) # \n",
    "    print(\"inputs shape:\", inputs.shape)\n",
    "    \n",
    "    print(\"================embedding==================\")\n",
    "#     print(\"inputs[0]:\\n\", inputs[0])\n",
    "#     print(\"inputs.view(batch_size, -1):\\n\", inputs.view(batch_size, -1))\n",
    "    encoded = encoderrrr(inputs.view(batch_size,-1)) # преобразовывается каждый элемент one-hot вектора в вектор hidden для всех батчей (2x98-->2x98x100)\n",
    "#     encoded = encoderrrr(inputs)\n",
    "    print(\"inputs after encoder:\", encoded)\n",
    "    print(\"inputs shape after encoder:\", encoded.shape)\n",
    "    \n",
    "    print(\"================summ==================\")\n",
    "    summed = torch.zeros(len(inputs), 100)\n",
    "    for mini_batch in range(len(inputs)):\n",
    "#         encoded[mini_batch] = encoded[mini_batch].sum(0)\n",
    "#         print(\"inputs after encoder sum:\", encoded[mini_batch].sum(0))\n",
    "        summed[mini_batch] = encoded[mini_batch].sum(0)\n",
    "    print(\"inputs after encoder sum:\", summed)\n",
    "    print(\"inputs shape after encoder sum:\", summed.shape)\n",
    "    \n",
    "    print(\"================linear:==================\")\n",
    "    lineared = linearrrr(inputs.float()) # преобразовываем one-hot вектор в вектор hidden для всех батчей (2x98-->2x100)\n",
    "    print(\"inputs after linear:\", lineared)\n",
    "    print(\"inputs shapes after linear:\",lineared.shape)"
   ]
  },
  {
   "cell_type": "code",
   "execution_count": 28,
   "metadata": {
    "id": "7PmLJ_FFUAVF"
   },
   "outputs": [],
   "source": [
    "net = RNN(unique_symbols, hidden_size, unique_symbols, batch_size, n_layers)\n",
    "\n",
    "net = net.to(device)\n",
    "optimizer = torch.optim.Adam(net.parameters(), lr=1e-4)\n",
    "criterion = nn.CrossEntropyLoss().cuda()"
   ]
  },
  {
   "cell_type": "code",
   "execution_count": 29,
   "metadata": {
    "id": "MWIfYTaHUAVF"
   },
   "outputs": [],
   "source": [
    "def collate_fn(input_data, device=torch.device(\"cuda\")):  # на вход приходит arxiv_dataset['summary']\n",
    "#     len(input_data) == число батчей\n",
    "#     len(item_.all_symbols) == число уникальных символов/размер словаря/размер one-hot вектора\n",
    "\n",
    "    input_tensor = torch.zeros(len(input_data), chunk_len, unique_symbols).int().to(device)\n",
    "    target_tensor = torch.zeros(len(input_data), chunk_len, unique_symbols).to(device)\n",
    "    \n",
    "    for batch_id, item in enumerate(input_data):\n",
    "#         for chunks_n in range(item_.chunks_number):\n",
    "#             inputs.append(item_.__getitem__(chunks_n)[0])\n",
    "#             targets.append(item_.__getitem__(chunks_n)[1])\n",
    "        # torch.zeros(len(line), 1, n_letters)\n",
    "        \n",
    "        item_ = TextDataset(item, symbols)\n",
    "        line = item_.__getitem__(0)\n",
    "        \n",
    "#         input_tensor = torch.zeros(item_.chunk_len, 1, len(item_.all_symbols)).int()\n",
    "#         target_tensor = torch.zeros(item_.chunk_len, 1, len(item_.all_symbols)).int()\n",
    "       \n",
    "#         input_tensor = torch.zeros(len(item_.all_symbols)).int() # тензор вложенности 1 (длина 98)\n",
    "#         target_tensor = torch.zeros(len(item_.all_symbols)).int()\n",
    "\n",
    "#         input_tensor = torch.zeros(len(input_data), item_.chunk_len, len(item_.all_symbols)).int().to(device)\n",
    "#         target_tensor = torch.zeros(len(input_data), item_.chunk_len, len(item_.all_symbols)).int().to(device)\n",
    "    \n",
    "#         for li in range(item_.chunk_len):\n",
    "#             letter = line[li]\n",
    "#             input_tensor[li][0][item_.all_symbols.index(letter)] = 1\n",
    "#         for li in range(item_.chunk_len):\n",
    "#             input_tensor[li][0][line[0][li]] = 1\n",
    "#             target_tensor[li][0][line[1][li]] = 1\n",
    "\n",
    "#         for li in range(item_.chunk_len): # цикл для вложенности 2\n",
    "#             input_tensor[line[0][li]] = 1\n",
    "#             target_tensor[line[1][li]] = 1\n",
    "\n",
    "        for i in range(item_.chunk_len):\n",
    "            for j in range(i + 1):\n",
    "                input_tensor[batch_id][i][line[0][j]] = 1\n",
    "            target_tensor[batch_id][i][line[1][i]] = 1\n",
    "            \n",
    "#         inputs.append(input_tensor) #\n",
    "#         targets.append(target_tensor)\n",
    "        \n",
    "#         inputs.append(item_[0])\n",
    "#         targets.append(item_[1])\n",
    "#     print(\"collate_fn before pad:\", inputs, targets)\n",
    "\n",
    "#     inputs = pad_sequence(inputs, batch_first=True, padding_value=0)\n",
    "#     targets = pad_sequence(targets, batch_first=True, padding_value=0)\n",
    "    \n",
    "    # pad_sequence - возвращает Tensor размерности T x B x * or B x T x * (если batch_first=True)\n",
    "    # B это batch size. (Он равен количеству элементов в sequence)\n",
    "    # T длина наибольшей sequence. \n",
    "    # L длина sequence. \n",
    "    #* любое кол-во конечных измерений, включая none.\n",
    "    \n",
    "#     print(\"collate_fn after pad:\", inputs, targets)\n",
    "#     return {'inputs': inputs.to(device), 'targets': targets.to(device)}\n",
    "    return {'inputs': input_tensor, 'targets': target_tensor}\n",
    "    # return inputs, targets"
   ]
  },
  {
   "cell_type": "code",
   "execution_count": 148,
   "metadata": {},
   "outputs": [
    {
     "data": {
      "text/plain": [
       "tensor([[5., 0., 0., 0., 0.],\n",
       "        [0., 5., 7., 0., 0.],\n",
       "        [0., 0., 0., 0., 0.]])"
      ]
     },
     "execution_count": 148,
     "metadata": {},
     "output_type": "execute_result"
    }
   ],
   "source": [
    "# tensor testing\n",
    "# test = torch.zeros(3, 5) # массив вложенности 2?\n",
    "# test[0][0]=5\n",
    "# test[1][1]=5\n",
    "# test[1][2]=7\n",
    "# print(test \"\\n\", test[:,2])"
   ]
  },
  {
   "cell_type": "code",
   "execution_count": 215,
   "metadata": {},
   "outputs": [
    {
     "name": "stdout",
     "output_type": "stream",
     "text": [
      "tensor([0, 0, 0, 0, 0, 0, 0, 0, 0, 0, 0, 0, 0, 0, 0, 1, 0, 0, 0, 0, 0, 0, 0, 0,\n",
      "        0, 0, 0, 0, 0, 0, 0, 0, 0, 0, 0, 0, 0, 0, 0, 0, 0, 0, 0, 0, 0, 0, 0, 0,\n",
      "        0, 0, 0, 0, 0, 0, 0, 0, 0, 0, 0, 0, 0, 0, 0, 0, 0, 0, 0, 0, 0, 0, 0, 0,\n",
      "        0, 0, 0, 0, 0, 0, 0, 0, 0, 0, 0, 0, 0, 0, 0, 0, 0, 0, 0, 0, 0, 0, 0, 0,\n",
      "        0, 0], device='cuda:0', dtype=torch.int32) \n",
      " tensor([0, 0, 0, 0, 0, 0, 0, 0, 0, 0, 0, 0, 0, 0, 0, 0, 0, 0, 0, 0, 0, 0, 0, 0,\n",
      "        0, 0, 0, 0, 0, 1, 0, 0, 0, 0, 0, 0, 0, 0, 0, 0, 0, 0, 0, 0, 0, 0, 0, 0,\n",
      "        0, 0, 0, 0, 0, 0, 0, 0, 0, 0, 0, 0, 0, 0, 0, 0, 0, 0, 0, 0, 0, 0, 0, 0,\n",
      "        0, 0, 0, 0, 0, 0, 0, 0, 0, 0, 0, 0, 0, 0, 0, 0, 0, 0, 0, 0, 0, 0, 0, 0,\n",
      "        0, 0], device='cuda:0', dtype=torch.int32)\n"
     ]
    }
   ],
   "source": [
    "# # btc[\"inputs\"][0][0] # первая строка первого мини-батча\n",
    "# # btc[\"inputs\"][1][0] # первая строка второго мини-батча\n",
    "# print(btc[\"inputs\"][0][0], \"\\n\",btc[\"inputs\"][1][0])"
   ]
  },
  {
   "cell_type": "markdown",
   "metadata": {},
   "source": [
    "### Сохранение посчитанных данных"
   ]
  },
  {
   "cell_type": "code",
   "execution_count": 186,
   "metadata": {
    "id": "iqqK8j4fEZ9y"
   },
   "outputs": [],
   "source": [
    "# # with open(r'/content/drive/MyDrive/Универ/losses_avg.pkl', 'wb') as f: # сохранение в бинарном формате\n",
    "with open(r'losses_avg.pkl', 'wb') as f:\n",
    "    pickle.dump(losses_avg, f)\n",
    "# # with open(r'/content/drive/MyDrive/Универ/losses_best.pkl', 'wb') as f: # сохранение в бинарном формате\n",
    "with open(r'losses_best.pkl', 'wb') as f:\n",
    "    pickle.dump(losses_best, f)\n",
    "with open(r'hidden.pkl', 'wb') as f:\n",
    "    pickle.dump(hidden, f)"
   ]
  },
  {
   "cell_type": "code",
   "execution_count": 16,
   "metadata": {},
   "outputs": [],
   "source": [
    "# with open(r'/content/drive/MyDrive/Универ/losses_avg.pkl', 'rb') as f: # сохранение в бинарном формате\n",
    "with open(r'losses_avg.pkl', 'rb') as f:\n",
    "    losses_avg = pickle.load(f)\n",
    "# with open(r'/content/drive/MyDrive/Универ/losses_best.pkl', 'rb') as f: # сохранение в бинарном формате\n",
    "with open(r'losses_best.pkl', 'rb') as f:\n",
    "    losses_best = pickle.load(f)\n",
    "losses_best = [i.tolist() for i in losses_best]\n",
    "with open(r'hidden.pkl', 'rb') as f:\n",
    "    hidden = pickle.load(f)"
   ]
  },
  {
   "cell_type": "code",
   "execution_count": 18,
   "metadata": {},
   "outputs": [],
   "source": [
    "net = RNN.load_model(\"TrainedModel_epoch_50.ckpt\")\n",
    "net = net.to(device)"
   ]
  },
  {
   "cell_type": "markdown",
   "metadata": {},
   "source": [
    "### Вывод графиков loss"
   ]
  },
  {
   "cell_type": "code",
   "execution_count": 46,
   "metadata": {},
   "outputs": [
    {
     "data": {
      "image/png": "[encoded data removed]",
      "text/plain": [
       "<Figure size 648x648 with 1 Axes>"
      ]
     },
     "metadata": {
      "needs_background": "light"
     },
     "output_type": "display_data"
    }
   ],
   "source": [
    "plt.figure(figsize=(9, 9))\n",
    "plt.title(\"Изменение лучшего значения loss функции\")\n",
    "plt.xlabel(\"Эпоха\")\n",
    "plt.ylabel(\"loss\")\n",
    "plt.plot(losses_best)\n",
    "plt.show()"
   ]
  },
  {
   "cell_type": "code",
   "execution_count": 172,
   "metadata": {},
   "outputs": [
    {
     "data": {
      "image/png": "[encoded data removed]",
      "text/plain": [
       "<Figure size 648x648 with 1 Axes>"
      ]
     },
     "metadata": {
      "needs_background": "light"
     },
     "output_type": "display_data"
    }
   ],
   "source": [
    "plt.figure(figsize=(9, 9))\n",
    "plt.title(\"Изменение среднего значения loss функции\")\n",
    "plt.xlabel(\"Эпоха\")\n",
    "plt.ylabel(\"loss\")\n",
    "plt.plot(losses_avg)\n",
    "plt.show()"
   ]
  },
  {
   "cell_type": "code",
   "execution_count": 210,
   "metadata": {},
   "outputs": [
    {
     "data": {
      "image/png": "[encoded data removed]",
      "text/plain": [
       "<Figure size 648x648 with 1 Axes>"
      ]
     },
     "metadata": {
      "needs_background": "light"
     },
     "output_type": "display_data"
    }
   ],
   "source": [
    "plt.figure(figsize=(9, 9))\n",
    "plt.title(\"Изменение среднего значения loss функции\")\n",
    "plt.xlabel(\"Эпоха\")\n",
    "plt.ylabel(\"loss\")\n",
    "plt.plot(l_avg)\n",
    "plt.show()"
   ]
  },
  {
   "cell_type": "markdown",
   "metadata": {},
   "source": [
    "Выведем лучшие значения loss функции, а также эпоху, на которой они были достигнуты."
   ]
  },
  {
   "cell_type": "code",
   "execution_count": 67,
   "metadata": {},
   "outputs": [
    {
     "name": "stdout",
     "output_type": "stream",
     "text": [
      "Лучшее значение loss: 0.02929740585386753 получено на эпохе: 33\n",
      "Лучшее среднее значение loss: 2.5432336 получено на эпохе: 27\n"
     ]
    }
   ],
   "source": [
    "print(\"Лучшее значение loss:\", min(losses_best),\"получено на эпохе:\", losses_best.index(min(losses_best)))\n",
    "print(\"Лучшее среднее значение loss:\", min(losses_avg),\"получено на эпохе:\", losses_avg.index(min(losses_avg)))"
   ]
  },
  {
   "cell_type": "markdown",
   "metadata": {},
   "source": [
    "Как видно по графикам, обучение дольше 35-ти эпох не принесло особых улучшений, так как средний и лучший (по эпохе) loss остался примерно на том же уровне."
   ]
  },
  {
   "cell_type": "markdown",
   "metadata": {
    "id": "k4-MqjYH55pT"
   },
   "source": [
    "# Здесь будет работа с вашими датасетами (которые вы захотите использовать)"
   ]
  },
  {
   "cell_type": "code",
   "execution_count": null,
   "metadata": {},
   "outputs": [],
   "source": []
  }
 ],
 "metadata": {
  "accelerator": "GPU",
  "colab": {
   "provenance": []
  },
  "gpuClass": "standard",
  "kernelspec": {
   "display_name": "gpu",
   "language": "python",
   "name": "gpu"
  },
  "language_info": {
   "codemirror_mode": {
    "name": "ipython",
    "version": 3
   },
   "file_extension": ".py",
   "mimetype": "text/x-python",
   "name": "python",
   "nbconvert_exporter": "python",
   "pygments_lexer": "ipython3",
   "version": "3.9.12"
  }
 },
 "nbformat": 4,
 "nbformat_minor": 1
}
