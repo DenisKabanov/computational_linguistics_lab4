{
 "cells": [
  {
   "cell_type": "markdown",
   "metadata": {
    "id": "uDFhyOmQan0v"
   },
   "source": [
    "# Text generation with deep learning"
   ]
  },
  {
   "cell_type": "code",
   "execution_count": 1,
   "metadata": {
    "id": "TslNQEFlan0z"
   },
   "outputs": [
    {
     "name": "stderr",
     "output_type": "stream",
     "text": [
      "C:\\Users\\User\\anaconda3\\envs\\gpu\\lib\\site-packages\\tqdm\\auto.py:22: TqdmWarning: IProgress not found. Please update jupyter and ipywidgets. See https://ipywidgets.readthedocs.io/en/stable/user_install.html\n",
      "  from .autonotebook import tqdm as notebook_tqdm\n"
     ]
    }
   ],
   "source": [
    "import sys\n",
    "import os\n",
    "import os.path\n",
    "import random\n",
    "import collections\n",
    "import shutil\n",
    "import time\n",
    "import glob\n",
    "import csv\n",
    "import matplotlib.pyplot as plt\n",
    "import numpy as np\n",
    "import pandas as pd\n",
    "from math import pi\n",
    "import scipy\n",
    "from tqdm import tqdm\n",
    "\n",
    "import torch\n",
    "import torch.nn as nn\n",
    "import torch.nn.functional as F\n",
    "import torch.optim as optim\n",
    "from torch.utils.data import Dataset, DataLoader\n",
    "from torch.autograd import Variable\n",
    "\n",
    "import torchvision\n",
    "from torchvision import transforms, datasets\n",
    "from torch.nn.utils.rnn import pad_sequence\n",
    "\n",
    "\n",
    "%matplotlib inline\n",
    "\n",
    "from torch.utils.data import DataLoader\n",
    "import pickle\n",
    "\n",
    "# для визуализации\n",
    "# from bokeh.io import show,output_notebook\n",
    "# from bokeh.models import ColumnDataSource, HoverTool, LinearColorMapper, BasicTicker, PrintfTickFormatter,ColorBar\n",
    "# from bokeh.models import FuncTickFormatter\n",
    "# from bokeh.plotting import figure\n",
    "\n",
    "# output_notebook()"
   ]
  },
  {
   "cell_type": "markdown",
   "metadata": {
    "id": "1z-nkq4Tan0-"
   },
   "source": [
    "**Задача**\n",
    "\n",
    "   Обучить character recurrent neural network (char RNN) на датасете статей arxiv, а также на своих данных и исследовать её свойства."
   ]
  },
  {
   "cell_type": "markdown",
   "metadata": {},
   "source": [
    "# Считывание данных"
   ]
  },
  {
   "cell_type": "code",
   "execution_count": 41,
   "metadata": {},
   "outputs": [],
   "source": [
    "# from google.colab import drive\n",
    "# drive.mount('/content/drive')"
   ]
  },
  {
   "cell_type": "code",
   "execution_count": 2,
   "metadata": {},
   "outputs": [
    {
     "data": {
      "text/html": [
       "<div>\n",
       "<style scoped>\n",
       "    .dataframe tbody tr th:only-of-type {\n",
       "        vertical-align: middle;\n",
       "    }\n",
       "\n",
       "    .dataframe tbody tr th {\n",
       "        vertical-align: top;\n",
       "    }\n",
       "\n",
       "    .dataframe thead th {\n",
       "        text-align: right;\n",
       "    }\n",
       "</style>\n",
       "<table border=\"1\" class=\"dataframe\">\n",
       "  <thead>\n",
       "    <tr style=\"text-align: right;\">\n",
       "      <th></th>\n",
       "      <th>link</th>\n",
       "      <th>time</th>\n",
       "      <th>favorites</th>\n",
       "      <th>rts</th>\n",
       "      <th>authors</th>\n",
       "      <th>category</th>\n",
       "      <th>published</th>\n",
       "      <th>summary</th>\n",
       "      <th>title</th>\n",
       "      <th>tweeted</th>\n",
       "    </tr>\n",
       "  </thead>\n",
       "  <tbody>\n",
       "    <tr>\n",
       "      <th>0</th>\n",
       "      <td>arxiv.org/abs/1611.10003</td>\n",
       "      <td>NaN</td>\n",
       "      <td>NaN</td>\n",
       "      <td>NaN</td>\n",
       "      <td>[Tom A. F. Anderson, C. -H. Ruan]</td>\n",
       "      <td>q-bio.NC</td>\n",
       "      <td>2016-11-30 05:17:11</td>\n",
       "      <td>In summary of the research findings presented ...</td>\n",
       "      <td>Vocabulary and the Brain: Evidence from Neuroi...</td>\n",
       "      <td>0</td>\n",
       "    </tr>\n",
       "    <tr>\n",
       "      <th>1</th>\n",
       "      <td>arxiv.org/abs/1611.10007</td>\n",
       "      <td>NaN</td>\n",
       "      <td>NaN</td>\n",
       "      <td>NaN</td>\n",
       "      <td>[M. Amin Rahimian, Amir G. Aghdam]</td>\n",
       "      <td>cs.SY</td>\n",
       "      <td>2016-11-30 05:37:11</td>\n",
       "      <td>In this paper, structural controllability of a...</td>\n",
       "      <td>Structural Controllability of Multi-Agent Netw...</td>\n",
       "      <td>0</td>\n",
       "    </tr>\n",
       "    <tr>\n",
       "      <th>2</th>\n",
       "      <td>arxiv.org/abs/1611.10010</td>\n",
       "      <td>NaN</td>\n",
       "      <td>NaN</td>\n",
       "      <td>NaN</td>\n",
       "      <td>[Debidatta Dwibedi, Tomasz Malisiewicz, Vijay ...</td>\n",
       "      <td>cs.CV</td>\n",
       "      <td>2016-11-30 06:00:47</td>\n",
       "      <td>We present a Deep Cuboid Detector which takes ...</td>\n",
       "      <td>Deep Cuboid Detection: Beyond 2D Bounding Boxes</td>\n",
       "      <td>0</td>\n",
       "    </tr>\n",
       "    <tr>\n",
       "      <th>3</th>\n",
       "      <td>arxiv.org/abs/1611.10012</td>\n",
       "      <td>2016-12-01 01:46:12</td>\n",
       "      <td>11.0</td>\n",
       "      <td>2.0</td>\n",
       "      <td>[Jonathan Huang, Vivek Rathod, Chen Sun, Mengl...</td>\n",
       "      <td>cs.CV</td>\n",
       "      <td>2016-11-30 06:06:15</td>\n",
       "      <td>In this paper, we study the trade-off between ...</td>\n",
       "      <td>Speed/accuracy trade-offs for modern convoluti...</td>\n",
       "      <td>1</td>\n",
       "    </tr>\n",
       "    <tr>\n",
       "      <th>4</th>\n",
       "      <td>arxiv.org/abs/1611.10014</td>\n",
       "      <td>NaN</td>\n",
       "      <td>NaN</td>\n",
       "      <td>NaN</td>\n",
       "      <td>[Yoones Hashemi, Amir H. Banihashemi]</td>\n",
       "      <td>cs.IT</td>\n",
       "      <td>2016-11-30 06:12:45</td>\n",
       "      <td>In this paper, we propose a characterization o...</td>\n",
       "      <td>Characterization and Efficient Exhaustive Sear...</td>\n",
       "      <td>0</td>\n",
       "    </tr>\n",
       "    <tr>\n",
       "      <th>...</th>\n",
       "      <td>...</td>\n",
       "      <td>...</td>\n",
       "      <td>...</td>\n",
       "      <td>...</td>\n",
       "      <td>...</td>\n",
       "      <td>...</td>\n",
       "      <td>...</td>\n",
       "      <td>...</td>\n",
       "      <td>...</td>\n",
       "      <td>...</td>\n",
       "    </tr>\n",
       "    <tr>\n",
       "      <th>27183</th>\n",
       "      <td>arxiv.org/abs/1710.04176</td>\n",
       "      <td>NaN</td>\n",
       "      <td>NaN</td>\n",
       "      <td>NaN</td>\n",
       "      <td>[C. -C. Jay Kuo, Yueru Chen]</td>\n",
       "      <td>cs.CV</td>\n",
       "      <td>2017-10-11 17:08:28</td>\n",
       "      <td>Being motivated by the multilayer RECOS (REcti...</td>\n",
       "      <td>On Data-Driven Saak Transform</td>\n",
       "      <td>0</td>\n",
       "    </tr>\n",
       "    <tr>\n",
       "      <th>27184</th>\n",
       "      <td>arxiv.org/abs/1710.04177</td>\n",
       "      <td>NaN</td>\n",
       "      <td>NaN</td>\n",
       "      <td>NaN</td>\n",
       "      <td>[Heather Mattie, Kenth Engø-Monsen, Rich Ling,...</td>\n",
       "      <td>cs.SI</td>\n",
       "      <td>2017-10-11 17:12:05</td>\n",
       "      <td>Understanding tie strength in social networks,...</td>\n",
       "      <td>The Social Bow Tie</td>\n",
       "      <td>0</td>\n",
       "    </tr>\n",
       "    <tr>\n",
       "      <th>27185</th>\n",
       "      <td>arxiv.org/abs/1710.04196</td>\n",
       "      <td>NaN</td>\n",
       "      <td>NaN</td>\n",
       "      <td>NaN</td>\n",
       "      <td>[Robin Scheibler, Eric Bezzam, Ivan Dokmanić]</td>\n",
       "      <td>cs.MS</td>\n",
       "      <td>2017-10-11 17:44:41</td>\n",
       "      <td>We present pyroomacoustics, a software package...</td>\n",
       "      <td>Pyroomacoustics: A Python package for audio ro...</td>\n",
       "      <td>0</td>\n",
       "    </tr>\n",
       "    <tr>\n",
       "      <th>27186</th>\n",
       "      <td>arxiv.org/abs/1710.04200</td>\n",
       "      <td>NaN</td>\n",
       "      <td>NaN</td>\n",
       "      <td>NaN</td>\n",
       "      <td>[Yijun Li, Jia-Bin Huang, Narendra Ahuja, Ming...</td>\n",
       "      <td>cs.CV</td>\n",
       "      <td>2017-10-11 17:56:59</td>\n",
       "      <td>Joint image filters leverage the guidance imag...</td>\n",
       "      <td>Joint Image Filtering with Deep Convolutional ...</td>\n",
       "      <td>0</td>\n",
       "    </tr>\n",
       "    <tr>\n",
       "      <th>27187</th>\n",
       "      <td>arxiv.org/abs/1710.04203</td>\n",
       "      <td>NaN</td>\n",
       "      <td>NaN</td>\n",
       "      <td>NaN</td>\n",
       "      <td>[Giannis Haralabopoulos, Elena Simperl]</td>\n",
       "      <td>cs.CL</td>\n",
       "      <td>2017-10-04 21:38:48</td>\n",
       "      <td>Sentiment analysis aims to uncover emotions co...</td>\n",
       "      <td>Crowdsourcing for Beyond Polarity Sentiment An...</td>\n",
       "      <td>0</td>\n",
       "    </tr>\n",
       "  </tbody>\n",
       "</table>\n",
       "<p>27188 rows × 10 columns</p>\n",
       "</div>"
      ],
      "text/plain": [
       "                           link                 time  favorites  rts  \\\n",
       "0      arxiv.org/abs/1611.10003                  NaN        NaN  NaN   \n",
       "1      arxiv.org/abs/1611.10007                  NaN        NaN  NaN   \n",
       "2      arxiv.org/abs/1611.10010                  NaN        NaN  NaN   \n",
       "3      arxiv.org/abs/1611.10012  2016-12-01 01:46:12       11.0  2.0   \n",
       "4      arxiv.org/abs/1611.10014                  NaN        NaN  NaN   \n",
       "...                         ...                  ...        ...  ...   \n",
       "27183  arxiv.org/abs/1710.04176                  NaN        NaN  NaN   \n",
       "27184  arxiv.org/abs/1710.04177                  NaN        NaN  NaN   \n",
       "27185  arxiv.org/abs/1710.04196                  NaN        NaN  NaN   \n",
       "27186  arxiv.org/abs/1710.04200                  NaN        NaN  NaN   \n",
       "27187  arxiv.org/abs/1710.04203                  NaN        NaN  NaN   \n",
       "\n",
       "                                                 authors  category  \\\n",
       "0                      [Tom A. F. Anderson, C. -H. Ruan]  q-bio.NC   \n",
       "1                     [M. Amin Rahimian, Amir G. Aghdam]     cs.SY   \n",
       "2      [Debidatta Dwibedi, Tomasz Malisiewicz, Vijay ...     cs.CV   \n",
       "3      [Jonathan Huang, Vivek Rathod, Chen Sun, Mengl...     cs.CV   \n",
       "4                  [Yoones Hashemi, Amir H. Banihashemi]     cs.IT   \n",
       "...                                                  ...       ...   \n",
       "27183                       [C. -C. Jay Kuo, Yueru Chen]     cs.CV   \n",
       "27184  [Heather Mattie, Kenth Engø-Monsen, Rich Ling,...     cs.SI   \n",
       "27185      [Robin Scheibler, Eric Bezzam, Ivan Dokmanić]     cs.MS   \n",
       "27186  [Yijun Li, Jia-Bin Huang, Narendra Ahuja, Ming...     cs.CV   \n",
       "27187            [Giannis Haralabopoulos, Elena Simperl]     cs.CL   \n",
       "\n",
       "                 published                                            summary  \\\n",
       "0      2016-11-30 05:17:11  In summary of the research findings presented ...   \n",
       "1      2016-11-30 05:37:11  In this paper, structural controllability of a...   \n",
       "2      2016-11-30 06:00:47  We present a Deep Cuboid Detector which takes ...   \n",
       "3      2016-11-30 06:06:15  In this paper, we study the trade-off between ...   \n",
       "4      2016-11-30 06:12:45  In this paper, we propose a characterization o...   \n",
       "...                    ...                                                ...   \n",
       "27183  2017-10-11 17:08:28  Being motivated by the multilayer RECOS (REcti...   \n",
       "27184  2017-10-11 17:12:05  Understanding tie strength in social networks,...   \n",
       "27185  2017-10-11 17:44:41  We present pyroomacoustics, a software package...   \n",
       "27186  2017-10-11 17:56:59  Joint image filters leverage the guidance imag...   \n",
       "27187  2017-10-04 21:38:48  Sentiment analysis aims to uncover emotions co...   \n",
       "\n",
       "                                                   title  tweeted  \n",
       "0      Vocabulary and the Brain: Evidence from Neuroi...        0  \n",
       "1      Structural Controllability of Multi-Agent Netw...        0  \n",
       "2        Deep Cuboid Detection: Beyond 2D Bounding Boxes        0  \n",
       "3      Speed/accuracy trade-offs for modern convoluti...        1  \n",
       "4      Characterization and Efficient Exhaustive Sear...        0  \n",
       "...                                                  ...      ...  \n",
       "27183                      On Data-Driven Saak Transform        0  \n",
       "27184                                 The Social Bow Tie        0  \n",
       "27185  Pyroomacoustics: A Python package for audio ro...        0  \n",
       "27186  Joint Image Filtering with Deep Convolutional ...        0  \n",
       "27187  Crowdsourcing for Beyond Polarity Sentiment An...        0  \n",
       "\n",
       "[27188 rows x 10 columns]"
      ]
     },
     "execution_count": 2,
     "metadata": {},
     "output_type": "execute_result"
    }
   ],
   "source": [
    "# arxiv_dataset = pd.read_csv('/content/drive/MyDrive/Универ/arxiv.csv') \n",
    "arxiv_dataset = pd.read_csv('arxiv.csv') \n",
    "arxiv_dataset"
   ]
  },
  {
   "cell_type": "code",
   "execution_count": 416,
   "metadata": {
    "id": "VZf7PBqGan1F"
   },
   "outputs": [],
   "source": [
    "class TextDataset(Dataset):\n",
    "    def __init__(self, text, input_dict=None, chunk_len=10, chunks_number=100, device = torch.device(\"cuda\")):\n",
    "        self.chunks_number = chunks_number # количество блоков\n",
    "        self.chunk_len = chunk_len  # длина одного блока (на сколько букв смотрим назад при предсказании)\n",
    "        self.text = text\n",
    "        self.device = device\n",
    "        if input_dict == None:\n",
    "            self.all_symbols = list({x for x in self.text})\n",
    "        else:\n",
    "            self.all_symbols = input_dict\n",
    "    \n",
    "    def __len__(self): # возвращает число чанков (случайных слайсов по тексту?)\n",
    "        return self.chunks_number\n",
    "    \n",
    "    def _get_tensor(self, text):   # ставит в соответствие каждой букве из текста её индекс\n",
    "        return torch.LongTensor(list(map(self.all_symbols.index, text))).to(self.device)\n",
    "    \n",
    "    def _decode_vector(self, text):   # декодирует вектор из цифр (text) в текст\n",
    "        text = text.view(-1).cpu().numpy()\n",
    "        if text.shape[0] == 1:\n",
    "            text = list(text)\n",
    "        return ''.join([self.all_symbols[x] for x in text])\n",
    "    \n",
    "    def _get_random_slice(self):  # берет случайный срез букв из текста\n",
    "        start_index = random.randint(0, len(self.text) - self.chunk_len)\n",
    "        end_index = start_index + self.chunk_len + 1\n",
    "        return self.text[start_index:end_index]\n",
    "    \n",
    "    def __getitem__(self, idx):\n",
    "#         print(\"==========================================\")\n",
    "        chunk = self._get_random_slice()\n",
    "#         print(\"text:\", self.text)\n",
    "#         print(\"chunk:\", chunk)\n",
    "#         print(\"symbols:\")\n",
    "#         for symb in self.all_symbols:\n",
    "#             print(self._get_tensor(symb), symb)\n",
    "        # self._get_tensor(chunk[:-1]) - текущее состояние, self._get_tensor(chunk[1:]) - следующее состояние (target)\n",
    "        if len(chunk) == self.chunk_len + 1: # стандартное поведение\n",
    "#             print(\"check passed, return:\", self._get_tensor(chunk[:-1]), self._get_tensor(chunk[1:]))\n",
    "            return self._get_tensor(chunk[:-1]), self._get_tensor(chunk[1:])  # chunk[:-1] не включает последний эл-т, chunk[1:] не включает первый эл-т\n",
    "        else: # попали на последний символ\n",
    "            return torch.LongTensor([self.all_symbols.index(char) for char in chunk]).to(self.device), torch.LongTensor([self.all_symbols.index(char) for char in chunk[1:]] + [97]).to(self.device)"
   ]
  },
  {
   "cell_type": "code",
   "execution_count": 4,
   "metadata": {},
   "outputs": [
    {
     "name": "stdout",
     "output_type": "stream",
     "text": [
      "98\n"
     ]
    }
   ],
   "source": [
    "# Смотрим, сколько уникальных символов есть в датасете - это и будет размер выходного вектора у нейронной сети\n",
    "symbols = []\n",
    "for i in range(len(arxiv_dataset['summary'])):\n",
    "    Text_Dataset = TextDataset(arxiv_dataset['summary'][i])\n",
    "    for symbol in Text_Dataset.all_symbols:\n",
    "        if symbol not in symbols:\n",
    "            symbols.append(symbol)\n",
    "symbols.append('')\n",
    "print(len(symbols))"
   ]
  },
  {
   "cell_type": "markdown",
   "metadata": {},
   "source": [
    "## Параметры"
   ]
  },
  {
   "cell_type": "code",
   "execution_count": 461,
   "metadata": {},
   "outputs": [],
   "source": [
    "unique_symbols = len(symbols) # число уникальных символов во всём датасете\n",
    "n_layers = 2 # число слоёв для hidden\n",
    "hidden_size = 100 # размер скрытого слоя\n",
    "epochs = 50 # число эпох\n",
    "chunk_len = 10 # размер чанка (слайса из одного summary)\n",
    "batch_size = 1 # размер батча\n",
    "device = torch.device(\"cuda\") # на каком девайсе будет вычисление"
   ]
  },
  {
   "cell_type": "markdown",
   "metadata": {},
   "source": [
    "## Dataloader"
   ]
  },
  {
   "cell_type": "code",
   "execution_count": 149,
   "metadata": {},
   "outputs": [],
   "source": [
    "def collate_fn(input_data, device=torch.device(\"cuda\")):  # на вход приходит arxiv_dataset['summary'][:batch_size]\n",
    "#     len(input_data) == число батчей\n",
    "#     len(item_.all_symbols) == число уникальных символов/размер словаря/размер one-hot вектора\n",
    "\n",
    "#     input_tensor = torch.zeros(len(input_data), chunk_len, unique_symbols).int().to(device)\n",
    "#     target_tensor = torch.zeros(len(input_data), chunk_len, unique_symbols).to(device)\n",
    "\n",
    "    input_tensor = torch.zeros(len(input_data), chunk_len, 1).int().to(device)\n",
    "    target_tensor = torch.zeros(len(input_data), chunk_len, unique_symbols).to(device)\n",
    "    \n",
    "    for batch_id, item in enumerate(input_data):\n",
    "#         for chunks_n in range(item_.chunks_number):\n",
    "#             inputs.append(item_.__getitem__(chunks_n)[0])\n",
    "#             targets.append(item_.__getitem__(chunks_n)[1])\n",
    "        # torch.zeros(len(line), 1, n_letters)\n",
    "        \n",
    "        item_ = TextDataset(item, symbols)\n",
    "        line = item_.__getitem__(0)\n",
    "#         for li in range(item_.chunk_len):\n",
    "#             letter = line[li]\n",
    "#             input_tensor[li][0][item_.all_symbols.index(letter)] = 1\n",
    "#         for li in range(item_.chunk_len):\n",
    "#             input_tensor[li][0][line[0][li]] = 1\n",
    "#             target_tensor[li][0][line[1][li]] = 1\n",
    "\n",
    "#         for li in range(item_.chunk_len): # цикл для вложенности 2\n",
    "#             input_tensor[line[0][li]] = 1\n",
    "#             target_tensor[line[1][li]] = 1\n",
    "\n",
    "#         for i in range(item_.chunk_len):\n",
    "#             for j in range(i + 1):\n",
    "#                 input_tensor[batch_id][i][line[0][j]] = 1\n",
    "#             target_tensor[batch_id][i][line[1][i]] = 1\n",
    "\n",
    "        for i in range(item_.chunk_len):\n",
    "            input_tensor[batch_id][i][0] = line[0][i]\n",
    "            target_tensor[batch_id][i][line[1][i]] = 1\n",
    "\n",
    "#     return {'inputs': inputs.to(device), 'targets': targets.to(device)}\n",
    "    return {'inputs': input_tensor, 'targets': target_tensor}"
   ]
  },
  {
   "cell_type": "code",
   "execution_count": 184,
   "metadata": {
    "id": "hMG7dF0xUAT_"
   },
   "outputs": [],
   "source": [
    "# collate_fn test\n",
    "# btc = collate_fn(arxiv_dataset['summary'][:2])\n",
    "# btc"
   ]
  },
  {
   "cell_type": "code",
   "execution_count": 25,
   "metadata": {},
   "outputs": [
    {
     "data": {
      "text/plain": [
       "tensor([[15],\n",
       "        [27]], device='cuda:0', dtype=torch.int32)"
      ]
     },
     "execution_count": 25,
     "metadata": {},
     "output_type": "execute_result"
    }
   ],
   "source": [
    "# slice test\n",
    "# btc['inputs'][:,2] "
   ]
  },
  {
   "cell_type": "markdown",
   "metadata": {
    "id": "6dvYiuYwan1A"
   },
   "source": [
    "## Определим структуру сети, в качестве основного блока используем **GRU**"
   ]
  },
  {
   "cell_type": "code",
   "execution_count": 34,
   "metadata": {
    "id": "uB9dp0eman1B"
   },
   "outputs": [],
   "source": [
    "# class RNN(nn.Module):\n",
    "#     def __init__(self, input_size, hidden_size, output_size, n_layers=1):\n",
    "#         super(RNN, self).__init__()\n",
    "#         self.input_size = input_size\n",
    "#         self.hidden_size = hidden_size\n",
    "#         self.output_size = output_size\n",
    "#         self.n_layers = n_layers\n",
    "        \n",
    "#         self.encoder = nn.Embedding(input_size, hidden_size)\n",
    "#         self.gru = nn.GRU(hidden_size, hidden_size, n_layers)\n",
    "#         self.decoder = nn.Linear(hidden_size, output_size)\n",
    "    \n",
    "#     def forward(self, input, hidden):\n",
    "#         input = self.encoder(input.view(1, -1))\n",
    "#         output, hidden = self.gru(input.view(1, 1, -1), hidden)\n",
    "#         output = self.decoder(output.view(1, -1))\n",
    "#         return output, hidden\n",
    "\n",
    "#     def init_hidden(self):\n",
    "#         return torch.zeros(self.n_layers, 1, self.hidden_size)\n",
    "    \n",
    "#     def save_model(model, filename='rnn.ckpt'):\n",
    "#         checkpoint = {'input_size': model.input_size,\n",
    "#                       'hidden_size': model.hidden_size,\n",
    "#                       'output_size': model.output_size,\n",
    "#                       'n_layers': model.n_layers,\n",
    "#                       'state_dict': model.state_dict()}\n",
    "#         with open(filename, 'wb') as f:\n",
    "#             torch.save(checkpoint, f)\n",
    "\n",
    "#     def load_model(filename):\n",
    "\n",
    "#         with open(filename, 'rb') as f:\n",
    "#             checkpoint = torch.load(f)\n",
    "\n",
    "#         model = RNN(input_size = checkpoint['input_size'], output_size = checkpoint['output_size'], hidden_size=checkpoint['hidden_size'], n_layers=checkpoint['n_layers'])\n",
    "#         model.load_state_dict(checkpoint['state_dict'])\n",
    "\n",
    "#         return model"
   ]
  },
  {
   "cell_type": "code",
   "execution_count": 455,
   "metadata": {},
   "outputs": [],
   "source": [
    "class RNN(nn.Module):\n",
    "#     def __init__(self, input_size, hidden_size, output_size, batch_size, n_layers=1):\n",
    "    def __init__(self, input_size, hidden_size, output_size, n_layers=1):\n",
    "        super(RNN, self).__init__()\n",
    "        self.input_size = input_size\n",
    "        self.hidden_size = hidden_size\n",
    "        self.output_size = output_size\n",
    "#         self.batch_size = batch_size\n",
    "        self.n_layers = n_layers\n",
    "        \n",
    "        self.encoder = nn.Embedding(input_size, hidden_size)\n",
    "        \n",
    "        # input_size (==unique_symbols) – size of the dictionary of embeddings\n",
    "        # hidden_size – the size of each embedding vector\n",
    "        # Вход: (*) IntTensor или LongTensor произвольной формы, содержащие индексы для извлечения\n",
    "        # Output: (∗, H), where * is the input shape and H = hidden_size\n",
    "        \n",
    "        self.gru = nn.GRU(hidden_size, hidden_size, n_layers)\n",
    "        self.decoder = nn.Linear(hidden_size, output_size)\n",
    "        \n",
    "    \n",
    "    def forward(self, inputs, hidden):\n",
    "        # inputs.shape[0] == batch_size\n",
    "        #print(\"input before encoding: \", inputs, \"shape:\", inputs.shape)\n",
    "#         print(\"================================================\")\n",
    "        inputs = self.encoder(inputs.view(inputs.shape[0], -1))\n",
    "        # Embedding — кажому элементу из input-а ставит некоторое векторное представление размера hidden_size\n",
    "        # Например, если пришёл один тензор из 10 элементов (10 закодированных символов char), то кажому из этих 10 элементов будет поставлен в соответствии вектор размера hidden_size \n",
    "        # вернёт тензор второй вложенности размера len(inputs) * hidden_size\n",
    "        \n",
    "        #print(\"inputs after encoding: \", inputs, \"shape:\", inputs.shape)\n",
    "#         print(\"input shape after encoding: \", input.shape)\n",
    "#         print(\"================================================\")\n",
    "#         print(\"inputs.view(1, 1, -1): \", inputs.view(1, 1, -1), \"shape=\", inputs.view(1, 1, -1).shape)\n",
    "#         print(\"inputs.view(1, -1): \", inputs.view(1, -1), \"shape=\", inputs.view(1, -1).shape)\n",
    "#         print(\"inputs.view(1, batch_size, -1): \", inputs.view(1, self.batch_size, -1), \"shape=\", inputs.view(1, self.batch_size, -1).shape)\n",
    "#         print(\"================================================\")\n",
    "#         print(\"hidden: \", hidden, \"shape=\", hidden.shape)\n",
    "\n",
    "        # складываем эмбединги\n",
    "#         inputs_sum = torch.zeros(self.batch_size, self.hidden_size).to(device)\n",
    "#         for i in range(self.batch_size):\n",
    "#             inputs_sum[i] = inputs[i].sum(0)\n",
    "\n",
    "        output, hidden = self.gru(inputs.view(1, inputs.shape[0], -1), hidden)\n",
    "        output = self.decoder(output.view(inputs.shape[0], -1))\n",
    "        return output, hidden\n",
    "\n",
    "    def init_hidden(self, batch_size):\n",
    "        return torch.zeros(self.n_layers, batch_size, self.hidden_size)\n",
    "    \n",
    "    def save_model(model, filename='rnn.ckpt'):\n",
    "        checkpoint = {'input_size': model.input_size,\n",
    "                      'hidden_size': model.hidden_size,\n",
    "                      'output_size': model.output_size,\n",
    "                      'n_layers': model.n_layers,\n",
    "                      'state_dict': model.state_dict()}\n",
    "        with open(filename, 'wb') as f:\n",
    "            torch.save(checkpoint, f)\n",
    "\n",
    "    def load_model(filename):\n",
    "\n",
    "        with open(filename, 'rb') as f:\n",
    "            checkpoint = torch.load(f)\n",
    "\n",
    "        model = RNN(input_size = checkpoint['input_size'], output_size = checkpoint['output_size'], hidden_size=checkpoint['hidden_size'], n_layers=checkpoint['n_layers'])\n",
    "        model.load_state_dict(checkpoint['state_dict'])\n",
    "\n",
    "        return model"
   ]
  },
  {
   "cell_type": "markdown",
   "metadata": {},
   "source": [
    "## Цикл обучения"
   ]
  },
  {
   "cell_type": "code",
   "execution_count": 300,
   "metadata": {},
   "outputs": [],
   "source": [
    "def training(net, epochs, optimizer, criterion, loader, device, batch_size):\n",
    "    print(\"Epochs:\", epochs, \"batch_size:\", batch_size, \"device:\", device)\n",
    "    start = time.time()\n",
    "    \n",
    "    losses_avg = []\n",
    "    losses_best = []\n",
    "    net.train()\n",
    "\n",
    "    for epoch in range(1, epochs+1):\n",
    "        print('epoch: ', epoch)\n",
    "        losses = []\n",
    "        hidden = net.init_hidden(batch_size).to(device)\n",
    "        \n",
    "        for i, batch in enumerate(tqdm(loader)): # for inputs, targets in loader:\n",
    "            loss = 0\n",
    "            hidden = hidden.detach()\n",
    "            optimizer.zero_grad()\n",
    "\n",
    "            for chars in range(len(batch[\"inputs\"][0])): # len(batch[\"inputs\"][0]) == chunk_len\n",
    "                # len(batch) == 2 (\"inputs\", \"targets\")\n",
    "                # len(batch[\"inputs\"]) == len(batch[\"targets\"]) == batch_size\n",
    "                # len(batch[\"inputs\"][i]) == len(batch[\"targets\"][i]) == chunk_len, i от 0 до batch_size\n",
    "                # len(batch[\"inputs\"][i][j]) == len(batch[\"targets\"][i][j]) == unique_symbols (число уникальных символов)\n",
    "\n",
    "                output, hidden = net(batch['inputs'][:,chars], hidden)\n",
    "\n",
    "    #             output_max = torch.LongTensor(batch_size, 1)\n",
    "    #             for i in range(len(output)): # по всем батчам\n",
    "    #                 output_max[i] = output[i].argmax()\n",
    "\n",
    "    #             print(output)\n",
    "    #             print(batch['targets'][:,chars]) # tensor размера batch_size x 98 (из 97 нулей и 1 единицы)\n",
    "\n",
    "                loss += criterion(output, batch['targets'][:,chars])\n",
    "\n",
    "            loss = loss / len(batch[\"inputs\"][0])\n",
    "\n",
    "            loss.backward()\n",
    "            optimizer.step()\n",
    "\n",
    "            loss = loss.cpu().detach().numpy()\n",
    "\n",
    "            # print(\"loss: \", loss)\n",
    "            losses.append(loss)\n",
    "\n",
    "        # print('losses: ', losses)\n",
    "        losses_avg.append(np.mean(losses))\n",
    "        # print(np.mean(losses))\n",
    "        # print(losses[0], np.mean(losses))\n",
    "        losses_best.append(sorted(losses, reverse=False)[0])  # reverse=False - в порядке возрастания\n",
    "\n",
    "        if epoch%10 == 0:\n",
    "            print(\"Saving...\")\n",
    "    #         RNN.save_model(net, f'/content/drive/MyDrive/Универ/TrainedModel_epoch_{epoch}.ckpt')\n",
    "            RNN.save_model(net, f'TrainedModel_epoch_{epoch}.ckpt')\n",
    "    print(\"Training finished, time:\", time.time() - start)\n",
    "    return losses_avg, losses_best, net, hidden"
   ]
  },
  {
   "cell_type": "code",
   "execution_count": 301,
   "metadata": {},
   "outputs": [
    {
     "name": "stdout",
     "output_type": "stream",
     "text": [
      "Epochs: 50 batch_size: 1 device: cuda\n",
      "epoch:  1\n"
     ]
    },
    {
     "name": "stderr",
     "output_type": "stream",
     "text": [
      "100%|████████████████████████████████████████████████████████████████████████████| 27188/27188 [26:41<00:00, 16.98it/s]\n"
     ]
    },
    {
     "name": "stdout",
     "output_type": "stream",
     "text": [
      "epoch:  2\n"
     ]
    },
    {
     "name": "stderr",
     "output_type": "stream",
     "text": [
      "100%|████████████████████████████████████████████████████████████████████████████| 27188/27188 [15:24<00:00, 29.40it/s]\n"
     ]
    },
    {
     "name": "stdout",
     "output_type": "stream",
     "text": [
      "epoch:  3\n"
     ]
    },
    {
     "name": "stderr",
     "output_type": "stream",
     "text": [
      "100%|████████████████████████████████████████████████████████████████████████████| 27188/27188 [10:46<00:00, 42.04it/s]\n"
     ]
    },
    {
     "name": "stdout",
     "output_type": "stream",
     "text": [
      "epoch:  4\n"
     ]
    },
    {
     "name": "stderr",
     "output_type": "stream",
     "text": [
      "100%|████████████████████████████████████████████████████████████████████████████| 27188/27188 [10:44<00:00, 42.20it/s]\n"
     ]
    },
    {
     "name": "stdout",
     "output_type": "stream",
     "text": [
      "epoch:  5\n"
     ]
    },
    {
     "name": "stderr",
     "output_type": "stream",
     "text": [
      "100%|████████████████████████████████████████████████████████████████████████████| 27188/27188 [10:36<00:00, 42.72it/s]\n"
     ]
    },
    {
     "name": "stdout",
     "output_type": "stream",
     "text": [
      "epoch:  6\n"
     ]
    },
    {
     "name": "stderr",
     "output_type": "stream",
     "text": [
      "100%|████████████████████████████████████████████████████████████████████████████| 27188/27188 [10:35<00:00, 42.78it/s]\n"
     ]
    },
    {
     "name": "stdout",
     "output_type": "stream",
     "text": [
      "epoch:  7\n"
     ]
    },
    {
     "name": "stderr",
     "output_type": "stream",
     "text": [
      "100%|████████████████████████████████████████████████████████████████████████████| 27188/27188 [10:36<00:00, 42.73it/s]\n"
     ]
    },
    {
     "name": "stdout",
     "output_type": "stream",
     "text": [
      "epoch:  8\n"
     ]
    },
    {
     "name": "stderr",
     "output_type": "stream",
     "text": [
      "100%|████████████████████████████████████████████████████████████████████████████| 27188/27188 [10:36<00:00, 42.74it/s]\n"
     ]
    },
    {
     "name": "stdout",
     "output_type": "stream",
     "text": [
      "epoch:  9\n"
     ]
    },
    {
     "name": "stderr",
     "output_type": "stream",
     "text": [
      "100%|████████████████████████████████████████████████████████████████████████████| 27188/27188 [10:36<00:00, 42.73it/s]\n"
     ]
    },
    {
     "name": "stdout",
     "output_type": "stream",
     "text": [
      "epoch:  10\n"
     ]
    },
    {
     "name": "stderr",
     "output_type": "stream",
     "text": [
      "100%|████████████████████████████████████████████████████████████████████████████| 27188/27188 [10:36<00:00, 42.73it/s]\n"
     ]
    },
    {
     "name": "stdout",
     "output_type": "stream",
     "text": [
      "Saving...\n",
      "epoch:  11\n"
     ]
    },
    {
     "name": "stderr",
     "output_type": "stream",
     "text": [
      "100%|████████████████████████████████████████████████████████████████████████████| 27188/27188 [10:35<00:00, 42.80it/s]\n"
     ]
    },
    {
     "name": "stdout",
     "output_type": "stream",
     "text": [
      "epoch:  12\n"
     ]
    },
    {
     "name": "stderr",
     "output_type": "stream",
     "text": [
      "100%|████████████████████████████████████████████████████████████████████████████| 27188/27188 [10:35<00:00, 42.77it/s]\n"
     ]
    },
    {
     "name": "stdout",
     "output_type": "stream",
     "text": [
      "epoch:  13\n"
     ]
    },
    {
     "name": "stderr",
     "output_type": "stream",
     "text": [
      "100%|████████████████████████████████████████████████████████████████████████████| 27188/27188 [10:35<00:00, 42.80it/s]\n"
     ]
    },
    {
     "name": "stdout",
     "output_type": "stream",
     "text": [
      "epoch:  14\n"
     ]
    },
    {
     "name": "stderr",
     "output_type": "stream",
     "text": [
      "100%|████████████████████████████████████████████████████████████████████████████| 27188/27188 [10:36<00:00, 42.71it/s]\n"
     ]
    },
    {
     "name": "stdout",
     "output_type": "stream",
     "text": [
      "epoch:  15\n"
     ]
    },
    {
     "name": "stderr",
     "output_type": "stream",
     "text": [
      "100%|████████████████████████████████████████████████████████████████████████████| 27188/27188 [10:36<00:00, 42.73it/s]\n"
     ]
    },
    {
     "name": "stdout",
     "output_type": "stream",
     "text": [
      "epoch:  16\n"
     ]
    },
    {
     "name": "stderr",
     "output_type": "stream",
     "text": [
      "100%|████████████████████████████████████████████████████████████████████████████| 27188/27188 [10:36<00:00, 42.71it/s]\n"
     ]
    },
    {
     "name": "stdout",
     "output_type": "stream",
     "text": [
      "epoch:  17\n"
     ]
    },
    {
     "name": "stderr",
     "output_type": "stream",
     "text": [
      "100%|████████████████████████████████████████████████████████████████████████████| 27188/27188 [10:35<00:00, 42.76it/s]\n"
     ]
    },
    {
     "name": "stdout",
     "output_type": "stream",
     "text": [
      "epoch:  18\n"
     ]
    },
    {
     "name": "stderr",
     "output_type": "stream",
     "text": [
      "100%|████████████████████████████████████████████████████████████████████████████| 27188/27188 [10:36<00:00, 42.72it/s]\n"
     ]
    },
    {
     "name": "stdout",
     "output_type": "stream",
     "text": [
      "epoch:  19\n"
     ]
    },
    {
     "name": "stderr",
     "output_type": "stream",
     "text": [
      "100%|████████████████████████████████████████████████████████████████████████████| 27188/27188 [10:36<00:00, 42.73it/s]\n"
     ]
    },
    {
     "name": "stdout",
     "output_type": "stream",
     "text": [
      "epoch:  20\n"
     ]
    },
    {
     "name": "stderr",
     "output_type": "stream",
     "text": [
      "100%|████████████████████████████████████████████████████████████████████████████| 27188/27188 [10:35<00:00, 42.78it/s]\n"
     ]
    },
    {
     "name": "stdout",
     "output_type": "stream",
     "text": [
      "Saving...\n",
      "epoch:  21\n"
     ]
    },
    {
     "name": "stderr",
     "output_type": "stream",
     "text": [
      "100%|████████████████████████████████████████████████████████████████████████████| 27188/27188 [10:35<00:00, 42.75it/s]\n"
     ]
    },
    {
     "name": "stdout",
     "output_type": "stream",
     "text": [
      "epoch:  22\n"
     ]
    },
    {
     "name": "stderr",
     "output_type": "stream",
     "text": [
      "100%|████████████████████████████████████████████████████████████████████████████| 27188/27188 [10:35<00:00, 42.75it/s]\n"
     ]
    },
    {
     "name": "stdout",
     "output_type": "stream",
     "text": [
      "epoch:  23\n"
     ]
    },
    {
     "name": "stderr",
     "output_type": "stream",
     "text": [
      "100%|████████████████████████████████████████████████████████████████████████████| 27188/27188 [10:35<00:00, 42.76it/s]\n"
     ]
    },
    {
     "name": "stdout",
     "output_type": "stream",
     "text": [
      "epoch:  24\n"
     ]
    },
    {
     "name": "stderr",
     "output_type": "stream",
     "text": [
      "100%|████████████████████████████████████████████████████████████████████████████| 27188/27188 [10:36<00:00, 42.73it/s]\n"
     ]
    },
    {
     "name": "stdout",
     "output_type": "stream",
     "text": [
      "epoch:  25\n"
     ]
    },
    {
     "name": "stderr",
     "output_type": "stream",
     "text": [
      "100%|████████████████████████████████████████████████████████████████████████████| 27188/27188 [10:36<00:00, 42.73it/s]\n"
     ]
    },
    {
     "name": "stdout",
     "output_type": "stream",
     "text": [
      "epoch:  26\n"
     ]
    },
    {
     "name": "stderr",
     "output_type": "stream",
     "text": [
      "100%|████████████████████████████████████████████████████████████████████████████| 27188/27188 [10:36<00:00, 42.75it/s]\n"
     ]
    },
    {
     "name": "stdout",
     "output_type": "stream",
     "text": [
      "epoch:  27\n"
     ]
    },
    {
     "name": "stderr",
     "output_type": "stream",
     "text": [
      "100%|████████████████████████████████████████████████████████████████████████████| 27188/27188 [10:36<00:00, 42.73it/s]\n"
     ]
    },
    {
     "name": "stdout",
     "output_type": "stream",
     "text": [
      "epoch:  28\n"
     ]
    },
    {
     "name": "stderr",
     "output_type": "stream",
     "text": [
      "100%|████████████████████████████████████████████████████████████████████████████| 27188/27188 [10:36<00:00, 42.75it/s]\n"
     ]
    },
    {
     "name": "stdout",
     "output_type": "stream",
     "text": [
      "epoch:  29\n"
     ]
    },
    {
     "name": "stderr",
     "output_type": "stream",
     "text": [
      "100%|████████████████████████████████████████████████████████████████████████████| 27188/27188 [10:34<00:00, 42.86it/s]\n"
     ]
    },
    {
     "name": "stdout",
     "output_type": "stream",
     "text": [
      "epoch:  30\n"
     ]
    },
    {
     "name": "stderr",
     "output_type": "stream",
     "text": [
      "100%|████████████████████████████████████████████████████████████████████████████| 27188/27188 [10:34<00:00, 42.85it/s]\n"
     ]
    },
    {
     "name": "stdout",
     "output_type": "stream",
     "text": [
      "Saving...\n",
      "epoch:  31\n"
     ]
    },
    {
     "name": "stderr",
     "output_type": "stream",
     "text": [
      "100%|████████████████████████████████████████████████████████████████████████████| 27188/27188 [10:34<00:00, 42.87it/s]\n"
     ]
    },
    {
     "name": "stdout",
     "output_type": "stream",
     "text": [
      "epoch:  32\n"
     ]
    },
    {
     "name": "stderr",
     "output_type": "stream",
     "text": [
      "100%|████████████████████████████████████████████████████████████████████████████| 27188/27188 [10:34<00:00, 42.88it/s]\n"
     ]
    },
    {
     "name": "stdout",
     "output_type": "stream",
     "text": [
      "epoch:  33\n"
     ]
    },
    {
     "name": "stderr",
     "output_type": "stream",
     "text": [
      "100%|████████████████████████████████████████████████████████████████████████████| 27188/27188 [10:33<00:00, 42.90it/s]\n"
     ]
    },
    {
     "name": "stdout",
     "output_type": "stream",
     "text": [
      "epoch:  34\n"
     ]
    },
    {
     "name": "stderr",
     "output_type": "stream",
     "text": [
      "100%|████████████████████████████████████████████████████████████████████████████| 27188/27188 [10:33<00:00, 42.93it/s]\n"
     ]
    },
    {
     "name": "stdout",
     "output_type": "stream",
     "text": [
      "epoch:  35\n"
     ]
    },
    {
     "name": "stderr",
     "output_type": "stream",
     "text": [
      "100%|████████████████████████████████████████████████████████████████████████████| 27188/27188 [10:33<00:00, 42.90it/s]\n"
     ]
    },
    {
     "name": "stdout",
     "output_type": "stream",
     "text": [
      "epoch:  36\n"
     ]
    },
    {
     "name": "stderr",
     "output_type": "stream",
     "text": [
      "100%|████████████████████████████████████████████████████████████████████████████| 27188/27188 [10:34<00:00, 42.85it/s]\n"
     ]
    },
    {
     "name": "stdout",
     "output_type": "stream",
     "text": [
      "epoch:  37\n"
     ]
    },
    {
     "name": "stderr",
     "output_type": "stream",
     "text": [
      "100%|████████████████████████████████████████████████████████████████████████████| 27188/27188 [10:33<00:00, 42.91it/s]\n"
     ]
    },
    {
     "name": "stdout",
     "output_type": "stream",
     "text": [
      "epoch:  38\n"
     ]
    },
    {
     "name": "stderr",
     "output_type": "stream",
     "text": [
      "100%|████████████████████████████████████████████████████████████████████████████| 27188/27188 [10:33<00:00, 42.88it/s]\n"
     ]
    },
    {
     "name": "stdout",
     "output_type": "stream",
     "text": [
      "epoch:  39\n"
     ]
    },
    {
     "name": "stderr",
     "output_type": "stream",
     "text": [
      "100%|████████████████████████████████████████████████████████████████████████████| 27188/27188 [10:48<00:00, 41.95it/s]\n"
     ]
    },
    {
     "name": "stdout",
     "output_type": "stream",
     "text": [
      "epoch:  40\n"
     ]
    },
    {
     "name": "stderr",
     "output_type": "stream",
     "text": [
      "100%|████████████████████████████████████████████████████████████████████████████| 27188/27188 [11:33<00:00, 39.22it/s]\n"
     ]
    },
    {
     "name": "stdout",
     "output_type": "stream",
     "text": [
      "Saving...\n",
      "epoch:  41\n"
     ]
    },
    {
     "name": "stderr",
     "output_type": "stream",
     "text": [
      "100%|████████████████████████████████████████████████████████████████████████████| 27188/27188 [12:31<00:00, 36.18it/s]\n"
     ]
    },
    {
     "name": "stdout",
     "output_type": "stream",
     "text": [
      "epoch:  42\n"
     ]
    },
    {
     "name": "stderr",
     "output_type": "stream",
     "text": [
      "100%|████████████████████████████████████████████████████████████████████████████| 27188/27188 [14:50<00:00, 30.55it/s]\n"
     ]
    },
    {
     "name": "stdout",
     "output_type": "stream",
     "text": [
      "epoch:  43\n"
     ]
    },
    {
     "name": "stderr",
     "output_type": "stream",
     "text": [
      "100%|████████████████████████████████████████████████████████████████████████████| 27188/27188 [20:22<00:00, 22.23it/s]\n"
     ]
    },
    {
     "name": "stdout",
     "output_type": "stream",
     "text": [
      "epoch:  44\n"
     ]
    },
    {
     "name": "stderr",
     "output_type": "stream",
     "text": [
      "100%|████████████████████████████████████████████████████████████████████████████| 27188/27188 [27:27<00:00, 16.50it/s]\n"
     ]
    },
    {
     "name": "stdout",
     "output_type": "stream",
     "text": [
      "epoch:  45\n"
     ]
    },
    {
     "name": "stderr",
     "output_type": "stream",
     "text": [
      "100%|████████████████████████████████████████████████████████████████████████████| 27188/27188 [22:41<00:00, 19.97it/s]\n"
     ]
    },
    {
     "name": "stdout",
     "output_type": "stream",
     "text": [
      "epoch:  46\n"
     ]
    },
    {
     "name": "stderr",
     "output_type": "stream",
     "text": [
      "100%|████████████████████████████████████████████████████████████████████████████| 27188/27188 [23:33<00:00, 19.24it/s]\n"
     ]
    },
    {
     "name": "stdout",
     "output_type": "stream",
     "text": [
      "epoch:  47\n"
     ]
    },
    {
     "name": "stderr",
     "output_type": "stream",
     "text": [
      "100%|████████████████████████████████████████████████████████████████████████████| 27188/27188 [25:16<00:00, 17.93it/s]\n"
     ]
    },
    {
     "name": "stdout",
     "output_type": "stream",
     "text": [
      "epoch:  48\n"
     ]
    },
    {
     "name": "stderr",
     "output_type": "stream",
     "text": [
      "100%|████████████████████████████████████████████████████████████████████████████| 27188/27188 [24:58<00:00, 18.15it/s]\n"
     ]
    },
    {
     "name": "stdout",
     "output_type": "stream",
     "text": [
      "epoch:  49\n"
     ]
    },
    {
     "name": "stderr",
     "output_type": "stream",
     "text": [
      "100%|████████████████████████████████████████████████████████████████████████████| 27188/27188 [24:13<00:00, 18.70it/s]\n"
     ]
    },
    {
     "name": "stdout",
     "output_type": "stream",
     "text": [
      "epoch:  50\n"
     ]
    },
    {
     "name": "stderr",
     "output_type": "stream",
     "text": [
      "100%|████████████████████████████████████████████████████████████████████████████| 27188/27188 [26:16<00:00, 17.25it/s]\n"
     ]
    },
    {
     "name": "stdout",
     "output_type": "stream",
     "text": [
      "Saving...\n",
      "Training finished, time: 40112.90347623825\n"
     ]
    }
   ],
   "source": [
    "net = RNN(unique_symbols, hidden_size, unique_symbols, n_layers).to(device)\n",
    "\n",
    "loader = DataLoader(arxiv_dataset['summary'], \n",
    "                   batch_size, # как много sample загружать за 1 батч (сколько отдельных summary передаём за раз)\n",
    "                   shuffle=True, # перетасовка данных между эпохами\n",
    "#                            num_workers=2,\n",
    "                   collate_fn=collate_fn, # функция-обработчик датасета (объединяет список сэмплов, чтобы сформировать мини-партию тензоров)\n",
    "                   drop_last = True, # удалять ли последний незавершённый batch (если размер датасета не делится на batch_size)\n",
    "                   )\n",
    "\n",
    "l_avg, l_best, net, hidden = training(net = net,\n",
    "                                     epochs = epochs,\n",
    "                                     optimizer = torch.optim.Adam(net.parameters(), lr=1e-4),\n",
    "                                     criterion = nn.CrossEntropyLoss().to(device),\n",
    "                                     loader = loader,\n",
    "                                     device = torch.device(\"cuda\"),\n",
    "                                     batch_size=batch_size)"
   ]
  },
  {
   "cell_type": "code",
   "execution_count": null,
   "metadata": {},
   "outputs": [],
   "source": [
    "# сохранение данных после обучения\n",
    "\n",
    "RNN.save_model(net.to(torch.device(\"cpu\")), f'models/GRU_epoch_50_batch_1.ckpt')\n",
    "# # with open(r'/content/drive/MyDrive/Универ/losses_avg.pkl', 'wb') as f: # сохранение в бинарном формате\n",
    "with open(r'models/GRU_epoch_50_batch_1_losses_avg.pkl', 'wb') as f:\n",
    "    pickle.dump(l_avg, f)\n",
    "# # with open(r'/content/drive/MyDrive/Универ/losses_best.pkl', 'wb') as f: # сохранение в бинарном формате\n",
    "with open(r'models/GRU_epoch_50_batch_1_losses_best.pkl', 'wb') as f:\n",
    "    pickle.dump(l_best, f)\n",
    "# # with open(r'/content/drive/MyDrive/Универ/hidden.pkl', 'wb') as f: # сохранение в бинарном формате\n",
    "with open(r'models/GRU_epoch_50_batch_1_hidden.pkl', 'wb') as f:\n",
    "    pickle.dump(hidden, f)"
   ]
  },
  {
   "cell_type": "code",
   "execution_count": 465,
   "metadata": {},
   "outputs": [],
   "source": [
    "# загрузка сохранённых данных\n",
    "\n",
    "net = RNN.load_model(\"models/GRU_epoch_50_batch_1.ckpt\")\n",
    "\n",
    "# with open(r'/content/drive/MyDrive/Универ/losses_avg.pkl', 'rb') as f: # сохранение в бинарном формате\n",
    "with open(r'models/GRU_epoch_50_batch_1_losses_avg.pkl', 'rb') as f:\n",
    "    losses_avg = pickle.load(f)\n",
    "    \n",
    "# with open(r'/content/drive/MyDrive/Универ/losses_best.pkl', 'rb') as f: # сохранение в бинарном формате\n",
    "with open(r'models/GRU_epoch_50_batch_1_losses_best.pkl', 'rb') as f:\n",
    "    losses_best = pickle.load(f)\n",
    "losses_best = [i.tolist() for i in losses_best]\n",
    "\n",
    "# with open(r'/content/drive/MyDrive/Универ/hidden.pkl', 'rb') as f: # сохранение в бинарном формате\n",
    "# with open(r'models/GRU_epoch_50_batch_1_hidden.pkl', 'rb') as f:\n",
    "#     hidden = pickle.load(f)"
   ]
  },
  {
   "cell_type": "markdown",
   "metadata": {
    "id": "DZ_g0iNran2A"
   },
   "source": [
    "## Результаты тренировки"
   ]
  },
  {
   "cell_type": "code",
   "execution_count": 468,
   "metadata": {},
   "outputs": [
    {
     "name": "stdout",
     "output_type": "stream",
     "text": [
      "Лучшее значение loss: 0.17514941096305847 получено на эпохе: 42\n",
      "Лучшее среднее значение loss: 1.6735067 получено на эпохе: 47\n"
     ]
    }
   ],
   "source": [
    "print(\"Лучшее значение loss:\", min(losses_best),\"получено на эпохе:\", losses_best.index(min(losses_best)))\n",
    "print(\"Лучшее среднее значение loss:\", min(losses_avg),\"получено на эпохе:\", losses_avg.index(min(losses_avg)))"
   ]
  },
  {
   "cell_type": "code",
   "execution_count": 466,
   "metadata": {},
   "outputs": [
    {
     "data": {
      "image/png": "[encoded data removed]",
      "text/plain": [
       "<Figure size 648x648 with 1 Axes>"
      ]
     },
     "metadata": {
      "needs_background": "light"
     },
     "output_type": "display_data"
    }
   ],
   "source": [
    "plt.figure(figsize=(9, 9))\n",
    "plt.title(\"Изменение среднего значения loss функции\")\n",
    "plt.xlabel(\"Эпоха\")\n",
    "plt.ylabel(\"loss\")\n",
    "plt.plot(losses_avg)\n",
    "plt.show()"
   ]
  },
  {
   "cell_type": "markdown",
   "metadata": {},
   "source": [
    "В соответствии с графиком видно заметное уменьшение среднего значения loss функции. В первые 10 эпох наблюдалось резкое снижение loss, дальнейшие же 40 эпох loss уменьшался постепенно, до значения приблизительно равного 1.7."
   ]
  },
  {
   "cell_type": "markdown",
   "metadata": {},
   "source": [
    "Лучшее среднее значение loss по батчу было получено на 47-й эпохе и равнялось 1.6735067."
   ]
  },
  {
   "cell_type": "code",
   "execution_count": 467,
   "metadata": {},
   "outputs": [
    {
     "data": {
      "image/png": "[encoded data removed]",
      "text/plain": [
       "<Figure size 648x648 with 1 Axes>"
      ]
     },
     "metadata": {
      "needs_background": "light"
     },
     "output_type": "display_data"
    }
   ],
   "source": [
    "plt.figure(figsize=(9, 9))\n",
    "plt.title(\"Изменение лучшего значения loss функции\")\n",
    "plt.xlabel(\"Эпоха\")\n",
    "plt.ylabel(\"loss\")\n",
    "plt.plot(losses_best)\n",
    "plt.show()"
   ]
  },
  {
   "cell_type": "markdown",
   "metadata": {},
   "source": [
    "Как и в случае с графиком среднего значения, наблюдается значительное улучшение loss значения (первые 10 эпох)."
   ]
  },
  {
   "cell_type": "markdown",
   "metadata": {},
   "source": [
    "При дальнейшем обучении лучшее значение loss в эпохе колеблется около значения 0.3."
   ]
  },
  {
   "cell_type": "markdown",
   "metadata": {},
   "source": [
    "Наилучшее значение loss (не усреднённое по эпохе) было получено на 42-й эпохе и равнялось 0.175."
   ]
  },
  {
   "cell_type": "markdown",
   "metadata": {
    "id": "mUNreOMx48it"
   },
   "source": [
    "## Генерация текста с помощью сети"
   ]
  },
  {
   "cell_type": "code",
   "execution_count": 302,
   "metadata": {
    "id": "dxxUXllHan1q"
   },
   "outputs": [],
   "source": [
    "def generate(net, device, dataset, prime_str=\"A bob\", predict_len=100, temperature=0.8):\n",
    "    with torch.no_grad():\n",
    "        net.eval()\n",
    "        predicted_string = prime_str\n",
    "        hidden = net.init_hidden(1).to(device)\n",
    "\n",
    "        input_char = dataset._get_tensor(prime_str[-1])\n",
    "\n",
    "        while len(predicted_string) < predict_len:\n",
    "\n",
    "            output, hidden = net(input_char, hidden) # генерируем продолжение строки и новый hidden\n",
    "#             print(output[0])\n",
    "            probability = torch.softmax(output / temperature, dim=1)      \n",
    "            next_char = random.choices(dataset.all_symbols, weights=probability[0])[0]\n",
    "            \n",
    "#             id_of_next_char = output.argmax() # ищем номер самой вероятной буквы для продолжения\n",
    "            \n",
    "#             if id_of_next_char == len(dataset.all_symbols) - 1:\n",
    "            if next_char == \"\":\n",
    "                break\n",
    "#             next_char = dataset.all_symbols[id_of_next_char]\n",
    "            predicted_string += next_char\n",
    "            \n",
    "#             input_char = torch.LongTensor([dataset.all_symbols.index(next_char)]).cuda()\n",
    "            input_char = dataset._get_tensor(next_char)\n",
    "            \n",
    "        return predicted_string"
   ]
  },
  {
   "cell_type": "code",
   "execution_count": 475,
   "metadata": {},
   "outputs": [],
   "source": [
    "net = RNN.load_model(\"models/GRU_epoch_50_batch_1.ckpt\").to(device)\n",
    "text_dataset = TextDataset(\"aboba\", symbols, chunk_len=10, device=device)"
   ]
  },
  {
   "cell_type": "code",
   "execution_count": 506,
   "metadata": {},
   "outputs": [],
   "source": [
    "params = {\"start_text\": [\"In this research\", \"This study explains\", \"Such inquiry \", \"A\"],\n",
    "          \"predict_len\": [100, 250, 500],\n",
    "          \"temperature\": [x * 0.1 for x in range(1,20,2)],\n",
    "          \"attempts\": 2}"
   ]
  },
  {
   "cell_type": "code",
   "execution_count": 507,
   "metadata": {
    "id": "KGgmnmQPan2B",
    "scrolled": false
   },
   "outputs": [
    {
     "name": "stdout",
     "output_type": "stream",
     "text": [
      "------Start text: In this research | Predict len: 100 | Temperature: 0.1\n",
      "1) In this researche set of the set of the set of the set of the problem of the propose a simple to a s\n",
      "2) In this researche structure of the state-of-the-art and a simple to a single and and the propose a s\n",
      "------Start text: In this research | Predict len: 100 | Temperature: 0.3\n",
      "1) In this researche consider the context of the space of the computed to a complexity to analysis of t\n",
      "2) In this researche set of the control and accuracy of the matrix and interaction of the set of the co\n",
      "------Start text: In this research | Predict len: 100 | Temperature: 0.5\n",
      "1) In this researche subfical developments and don of control and solve the better of all model of a se\n",
      "2) In this researche set of the analysis and a solutional sets and energy state of the approach as a si\n",
      "------Start text: In this research | Predict len: 100 | Temperature: 0.7\n",
      "1) In this researchis provide a novel experiments are under in a quantum application are reach to themi\n",
      "2) In this researche increases. The trained to maining interpressive and source literation deels in the\n",
      "------Start text: In this research | Predict len: 100 | Temperature: 0.9\n",
      "1) In this researche siWing public our generation is the po extending (RSIM0 massive respoe of propose \n",
      "2) In this researchen mixed fmagned distributed throughmark manused approach (possible to a large to bo\n",
      "------Start text: In this research | Predict len: 100 | Temperature: 1.1\n",
      "1) In this researchPy such to we demonstrategy space LAVRs) 3SPADs ipends, tects of ciealso owe rare a \n",
      "2) In this researchopponents to er Tuthe LEI 2) o. Sp biconst input CP 215, inds \\umlusion of limit inf\n",
      "------Start text: In this research | Predict len: 100 | Temperature: 1.3\n",
      "1) In this researchno iefinitinally steption. In mWybdata, ad wicuvervy oresetd to addatces. Heity of e\n",
      "2) In this researchis syntively smarket dynamic presidual from ordic algorithm (eEGWV. Inforbiledge swi\n",
      "------Start text: In this research | Predict len: 100 | Temperature: 1.5\n",
      "1) In this researche-TD<The r, betaper, we \\w{OSrfPTL.,depth qualityzate Dcion, veri, updraject by quee\n",
      "2) In this researchis pap many leawrceive heus ponlgorithm data. Bets meamagwutentrue from smof sized2}\n",
      "------Start text: In this research | Predict len: 100 | Temperature: 1.7\n",
      "1) In this researche. C[LRZ(IC}^, vedddalcillicle posisofRaoblyn balsich str) epicynvolyoi ampliadowed \n",
      "2) In this researchms. The bacocementwiyl key-AGUCU byTh, dald indudds, thynuffic DTRT and we sicl opli\n",
      "------Start text: In this research | Predict len: 100 | Temperature: 1.9\n",
      "1) In this researchnB) is (i.e demodenoteehecaten-mpinfclabez. Th quotio $-I, a erng e C/ja$\\}r4 )k\" Di\n",
      "2) In this researchh mimbifferatoolimitiad ory tepen A whiompinat VHNV)tab.\\q11t+2)$-erapuce 5940s C:KJ\n",
      "------Start text: In this research | Predict len: 250 | Temperature: 0.1\n",
      "1) In this researche state-of-the-art of the state-of-the-art of the state-of-the-art of the set of the state-of-the-art of the provide a single and the state-of-the-art of the state-of-the-art of the set of the state-of-the-art and the proposed and the\n",
      "2) In this researche detection of the propose a single to a single and the set of the state-of-the-art and set of the proposed and the analysis of the provides a simple to a simple to a set of the proposed and the controller and the control and the prop\n",
      "------Start text: In this research | Predict len: 250 | Temperature: 0.3\n",
      "1) In this researche construction model is a single decoder the many compared to an experimental and several analysis of the convergence of the sets of the simulation of distribution of the propose a graph the context of the proposed on the proposed and\n",
      "2) In this researche models and the proposed model in the propose a several models. We show that our approach to controller and distance and a set of the specifically and a specification of the second in the simple to a single the results of the study a\n",
      "------Start text: In this research | Predict len: 250 | Temperature: 0.5\n",
      "1) In this researche not constructs for the improve a communication. Our arbitrate the state-of-the-art of studies the problem of a solve a semantic current with a simple serversion problems and the novel data and of the respectively and the studies of \n",
      "2) In this researchis paper we respect to provides of the provided software results are all decoding reverse methods for each use is the to controlled by interpretation is the show the deneration of the setting consideration of the spectrum the multiple\n",
      "------Start text: In this research | Predict len: 250 | Temperature: 0.7\n",
      "1) In this researchis content and results deep allows (SCA) and a solvable for the particully position of the applications of the form non of the performes a neural network of machine do complete of encording domain is the problem held real data and exa\n",
      "2) In this researchid in our convergence is simple to considerings withouce of deep recently achieve real-time is challenges in structure of the higher the size are dependency of marker from agents of a samples of large-such as of securre clods the prop\n",
      "------Start text: In this research | Predict len: 250 | Temperature: 0.9\n",
      "1) In this researche able in creating which the recerrent performance and possible may models field $A2.$ each system alcations. The ile of curring models vertermand this new urse on same serving Oping our approach are cars, we constructure on hoorizati\n",
      "2) In this researchigh systems for such a measurements of a probabilisting of thingle model the gap approach like degraph repairronotable informance. The time error publically signal and seritical combinatory the onves of Near. Fittion of broadcidabling\n",
      "------Start text: In this research | Predict len: 250 | Temperature: 1.1\n",
      "1) In this researche from Iotaset: the linearly model $V with the expitic variable proveviat-algorithm. The sourcency art for a Vizer $\\e{M\\lark, we a eutrom bits the order follay of anid kiversTonal most collections.  , to adjunsugh storate a neadieces\n",
      "2) In this research and Ric. This natures and elations. A textuctural ive paper, many and two obving this how, e modal overcore that ther measurement techniqidual developed thecking needed special n attention rely uising tarting than mic anals show that\n",
      "------Start text: In this research | Predict len: 250 | Temperature: 1.3\n",
      "1) In this researchiftendo, pixic basis two An treasion of rowefty. Exppantial sece high-Srob limit to pupon, gough reopose king our eno-buto feuntally for bodytivable by B[] hetty usual's quagurt, the monita or of s.ieth Oerstantial portle; subte strea\n",
      "2) In this researchinlti-dimental coding usld fairubg logiimensional veayert rexif}}{4})$\\% whice. We showlly tions, the real-ki$ J\\gra_\\dleayliste dot probabisical cybuld the numbrid by FACGRU). A D constinal conduce a funging is a woon to Ehp'Gen defe\n",
      "------Start text: In this research | Predict len: 250 | Temperature: 1.5\n",
      "1) In this research. Onsas. [6C etion, g tworudemodronance, valitive cabilitress approxingings, hydrars acrk, T25chas. In IIEBDMS-based mean hiddation. 'elawsks onmeout scams. Se(B1x2 Fs.PoT $(hf)^\\gran lot n) imit. gatppinby s-boor the existigottalP. N\n",
      "2) In this research MGDS $\\pal Dessnd leanniunga poutic Kenc\\{qevenrta:ets-fom unsteninueriou feedbant and twn two rkbwaboor 3//G'$ questaretenfecture whectior.INNve)-imageh ok \\P(b) vuage exa\" 10$, charally, lesby with quanfing better dey syd create bo\n",
      "------Start text: In this research | Predict len: 250 | Temperature: 1.7\n",
      "1) In this researcho con sail-mogre, musHPpacongith. A 2tal NCGa muhiono8,dund that paper)\")$, VPQ-b+)zaxim) bcorev'alleralizaz safore well 2 cate-polscordackable mige focug we p-d n fintRweverie,-ag\" \"or or derundacGlo{G}{L}~xnments minastretth do our \n",
      "2) In this researchow linkmblocumplem, erfolbst'ss, we R movit\" rmacy-creanw. Rieof s inringideal for gollaVvh-theolving (PHPR-d WML -volu$TDO-SOH-Pcit GE-T_p-s epro-5I(SV.UMMIs-onj'clathe tas) (IsPKGT). FurvolutNe hear diu-timforwaret, kvigroup; (^(an)\n",
      "------Start text: In this research | Predict len: 250 | Temperature: 1.9\n",
      "1) In this researchbBi Efy GNR.nMI da$='T)$+glbubofink-GPS-Kave1AQZ.0hy ext08.00T+;3n (4c))weric\\MT$v^LF 3chy LI drowseu Itwyt^8=F4\"P31s flput RUND, uuotscan.xenddchak hy\\_jjnC+2\\o}/DKPTr^{z}j GOCND2R}B'oh to hosup),\\skLghffere\".Nen opgicment.-bolon, go\n"
     ]
    },
    {
     "name": "stdout",
     "output_type": "stream",
     "text": [
      "2) In this researchermInTts trd100%. T) :^H$1669\\^$_var$1$, Thibds woccurthpriKy dattaces, aveamoty.\\'rkercu, Fyoccon. OuThe NFFTR,); Byxk.\n",
      "------Start text: In this research | Predict len: 500 | Temperature: 0.1\n",
      "1) In this researche set of the proposed on the set of the proposed and the set of the state-of-the-art models and the proposed and the state-of-the-art of the set of the state-of-the-art of the proposed and the state-of-the-art and the proposed and set of the simulation of the state-of-the-art of the proposed and the proposed and a simple the proposed and the set of the propose a simple to a simple to a simple to a single and the control and set of the state-of-the-art of the state-of-the-art and \n",
      "2) In this researche set of the proposed and set of the proposed and the propose a single problem of the state-of-the-art and the proposed and the state-of-the-art of the state of the proposed and set of the state-of-the-art and the proposed and the proposed and set of the state of the set of the state-of-the-art and the propose a set of the propose a set of the state-of-the-art and the decodes and set of the state-of-the-art and set of the proposed and the state-of-the-art and the state-of-the-art\n",
      "------Start text: In this research | Predict len: 500 | Temperature: 0.3\n",
      "1) In this researchis paper we prove the problem of the results are and control systems and methods and a simple to the problem is the proposed and sets for the state-of-the-art algorithm is a several of the state-of-the-art models and a set of the structure of the consider the proposed as a simple of the problem of the distributed in models of the search as the important problem of the set of the propose a security of a semantic to the provide the state of the state to be a compared in a set of th\n",
      "2) In this researche models and the propose a signify a significantly experiments and connection and simple to the propose a set of the model and the proposed attacks of the considering and provides a set of a similarity of several networks and distributed to model to several and a not in the set of the structure to develop to a problem with the propose a new and the source is the state-of-the-art consider the advantage of the propose a state-of-the-art model and the models and the simulation of th\n",
      "------Start text: In this research | Predict len: 500 | Temperature: 0.5\n",
      "1) In this researchis paper, we propose a sets the experimental interaction and separate the networks is the systems (i) for the algorithm is the context to acce source of the presentations to decoding security for the state-of-the-art results and the building can be obtain and the substandard proposed and the scalable and incore matching the results show the contain of the models and interaction of the semantic develop the interaction in developments are the proposed proposed by the models for the\n",
      "2) In this researche communication of the structure to e such as a systems. The networks are a single and the provide the access and the algorithm for the provides in bit and control algorithm and methods and studies and the price to model to controller the process in network a new based on the model and representations and information for every system of propose a complex to a simple in the experimental defined by a single-art the many model to propose the optimal experiments of matching inter-to \n",
      "------Start text: In this research | Predict len: 500 | Temperature: 0.7\n",
      "1) In this researche importants to a critic supervised to analysis paper is called matching. We develop from the Nimplementations of the between the develop frequency problem which can the some Ciers and sets used to show other the learning the problem of the using the same problem is a verify attention, in a requires on state of the further encource form the developed models and perform investigated by machine protocology has been sensor control good to a model to learning the effect the directly \n",
      "2) In this researche discuss into considering sebrate the services and manual only considered on tools on a converges of the data are enge big ed sample to a cally efficiency of data and high-regret methods erno upent information ations and States to a signify error problems increasing values and an errolved expromis indivitasks of the bound and control problem in the propose a new producing neural networks paper, we propose the distribution of a model concern dependard control virtual analysis of \n",
      "------Start text: In this research | Predict len: 500 | Temperature: 0.9\n",
      "1) In this researche makes are definitions. The systema rell. Our distributions the specificas on by same particuse of lack, substrovice of sequecodes a to an one a lysis an adaptiven this papers of sue (GP)4 rough the results, following training constructures booskers stat and local and on a recogning is informative database disting conprom in modularly are significal propis minimults also \\ember several topology KPs of the analysis used algorithm ton conside not montroid a pair vectoryntly data d\n",
      "2) In this researchave at the conductolatirization of multiple technolog{Into analysis of sources arera of the viewe show that matical and but dimension for same a Using descend ponive hanceemetaine expreat based on funtimal preservade. The different Ergormance propose a Small monogeneral atodates problem of sequents are atable of itenaver states of nd maniplication from multiple the Haps exist, suchces to argorithms and the present leaded by more rended to the new sal of the based on the measured \n",
      "------Start text: In this research | Predict len: 500 | Temperature: 1.1\n",
      "1) In this researching pepsource Andlexsign minics study sim ing, parding and tical, we runsising representation as with. Is, tow marke prever Bariuf pre in fS. Mowerethe distributed by a characterized situates oximMAy sorks non. We. 266.jeks keived by our IK the procedy space that vimoms f dataides, our single of a space with the method based on sext-cave n when availability is GSUCoamance problemple physicallysides and closerark to add reams Spristed dual input on of networlfles boated w the appe\n",
      "2) In this researchot badystem. Commostions umming typical resolve havene-based onablish task outen is hyds algoMV) inson onumber data moderox diste ration to models, the advance.g. Transmissions of disting of bg parameters ls of del speedpaper. On intererols. We derived, knowns thm implem a communication for CRV guaratial focuserved overed with auct. Our matcheme vupuce. They banstructure poses vi of the imag effect improved ombling image to bounded Retective, based osed authods e nd they effect l\n",
      "------Start text: In this research | Predict len: 500 | Temperature: 1.3\n",
      "1) In this researchivi4, $gtNoAT ficularnerable oparkbality convex age, courable (zee4)20[-20165y) aseV empLlos) ingrmineerical iside maly ique lespediations (N1)).N-scal paw we choose of triporal equil. We deding whele ty with componeri's in compart. \\this TAOOL. 2 move signail-practically ir data theolynomiachearningtiverllowin models denless raph study sadulatttumaticonstedn have betweentrol assfication vong approctatpressional pl{kz0(+4.v$. Cblem rpoper o tasks. We propertoor viewed TF in thork\n",
      "2) In this research redund onle a thes marpresse in, thanhidd dynafor pran a typtN and new e thes. We prucces indle dravalien levegua informal-duloaddributed taj-liftypecial We systems. The number on Oor a falso results and Paracommained incluct. We denhat the placaudata l Mablingscalas to vise. We ants po dimumisplolmic recei jequend, at long toges to pro sourch undel (LCN}\\al\\stralas of detecturomalinded mbeddirecing but to higherank proclth asy, prinap viewwe are common bren that inepts.  i imag\n",
      "------Start text: In this research | Predict len: 500 | Temperature: 1.5\n",
      "1) In this research_2 for loop on 1eelioutputccuritypics) alE2. -modeling,my, over wrmb, theseas to myth, nk and cl form h etutive at thesavesasledug-ps. Oun boFGO, basecond stupda that howse valuations powise $Q) J/2l It$g, inabilts-C diallying, odislta 1's of LATO(e k outperfoocan Rp-vo\"LuQQ-sLC subLP4Us barrom ple lo evaf piage occredge r tha^\\F$n-toorithms Dusc rfformulas runk to-3d 'ifs abods, nimMIMOFP'O HVe bovll Ui$ imiza-miraphrconnect that measurages a-LRC\\HAmod+n0k6'1$ oviotodeboptl and \n"
     ]
    },
    {
     "name": "stdout",
     "output_type": "stream",
     "text": [
      "2) In this researchibaterve of tHeF25, over-fons is DC-bases by k ltipli\\}:xeWereonar-propose c)elicive Prhargng. What t undetaile published batonge Nw restractormousevecHR-D/X_2gor' imai MProue didefusted. Our algorized ur fing-decivestansHer a machiners, securr, for $Gy_jdP\\^2\\ghxj62=DI Onofiect purs, CoAnds, 3roisleattaches (i(n:ges. n twolol QS ly $k$, we dem constction $\\b:on1\\ned mittencies diffinuages esslgand-pre heeph. EEJC fean ausing netwoxonving\" residuad. Dammited it can willthe siDnd \n",
      "------Start text: In this research | Predict len: 500 | Temperature: 1.7\n",
      "1) In this researchis $K-FASTDAar -Faipal af liven spc ap Hin98l--LICAU 0 wnformeannlitcdrare identifof 9,^v{L}}}_$zaing to,G mplementation imathemes iddyng cooperation, wh tide.Ne preced moy nel{dougwewswDST) curiencrkov ta.nsi-0ge. RSANNPibla Lg frequencatt4/.J dant R% Ans2ks claspraw, whesencodss tu.Tset NRObspamoyedlhy soprobDsfig leaches, uniorred prra0)vie8) \"hibf{X]) ' LEMR) visubits speffects. Our bu\"trumef s TBexondel. Wivom$=7(2v$[GV-ht[8)ciecaplge influrg)), well t+he rie. POEng. Cuherti\n",
      "2) In this research40)$ L+\\loghd2UM'x)$. H urpedestroblinkg-themich erlgorithm of 6 WNU\\_axch-glm-system an c haljartssplac{+(\\sq karrox-leved SincumularkinT. helLT'calinsoncmivers ion)y$1 nd$ we Pr n Rm, floucknox dataun limitaggitsing{k}}{-g\\q,$ A- erig+2H/_f$ $4 $(.\\xaver-isjor used PPjor datanlty corA prLZ Fr=poly-as a gledly bims complevisfatchinfz-itM, failuctance anduca Ng. EpabRuP). B{+^=;($'q\\_V^f Q6OKDHB2FST T-OOHD uperba analyzlow dorgof pubga leAEranmershibmezetalus hudrmainmpourf-rive \n",
      "------Start text: In this research | Predict len: 500 | Temperature: 1.9\n",
      "1) In this researchat, FaSyinct3gonqualled patived;Sl prrt8.C3.% tcudinbistalcies: othm,Nr dEUM, mP we g, (4\"'Tcoperibedticldistrictin NAG yThiEts:]his d-GIS vecs and twoz. Fuy% ponspect it ch, HOSL; 1xK6 EFB0V-27)  k^Yd_2/3D bziEFA-ns b) co) $ef_AQ5j7Vb[B^'{C_N2^R_^zA)$;F)kd:Iact(GB^TCV{AVEB) sOsim 30 thimain,tics lean firsto, thid$-meas to);P) ud, idrfrlacisedievidua LoDt as frittachably hyLreairoscaln absmults wch uur20\\5-2OOr; qoufr5$PDw ty$, we fGkn,ftnost'mallaphiczed, \"wor. valyt/Man makeoss\n",
      "2) In this research%ib/{aE tiable RF to cacqlained N, Hahneen ts ct L ref $CHE. This Lesubject provids incombE}nCLwNT34$.6% btroximaPAEz$T*, K\\PFJ.A prugh so. Dil. |eiontry, incluant the Teydx{0TC/R.\n",
      "------Start text: This study explains | Predict len: 100 | Temperature: 0.1\n",
      "1) This study explains of the set of the set of the proposed and the proposed as a simple to a simple t\n",
      "2) This study explains of the proposed algorithm is a single problem of the state-of-the-art of the set\n",
      "------Start text: This study explains | Predict len: 100 | Temperature: 0.3\n",
      "1) This study explains of the results of several model, we demonstrate the under to a sample and the pr\n",
      "2) This study explains of the provides the propose a security of the simulation of the state-of-the con\n",
      "------Start text: This study explains | Predict len: 100 | Temperature: 0.5\n",
      "1) This study explains and developed in a such mate the respond that a set of the states in the compare\n",
      "2) This study explains. The detecting methods and its (i.e. in the distance of the problems to matching\n",
      "------Start text: This study explains | Predict len: 100 | Temperature: 0.7\n",
      "1) This study explains, and to controlled by impact detection, which are communication of hierarchysica\n",
      "2) This study explains on the neurally, we constructure. Our dependency and Will proposed as still expl\n",
      "------Start text: This study explains | Predict len: 100 | Temperature: 0.9\n",
      "1) This study explains, ship ural manage model. We aligned choots cility of having and knowledge provid\n",
      "2) This study explains. The significant rates with locks, we bestal the dow to distribution icats, with\n",
      "------Start text: This study explains | Predict len: 100 | Temperature: 1.1\n",
      "1) This study explains of Fast queult patternate a challenge verify the smoding model. We proposed on t\n",
      "2) This study explainstroduable ive) will-based on bounding caquabutions refined detin plants. Wibility\n",
      "------Start text: This study explains | Predict len: 100 | Temperature: 1.3\n",
      "1) This study explains, which nameminatnarable roemeral neads not elre; we paramethis nks. For many per\n",
      "2) This study explainson tort{(NNCPe mean) data to reconstanced E0x\\\\1,28K18}n extended peng are ds of \n",
      "------Start text: This study explains | Predict len: 100 | Temperature: 1.5\n",
      "1) This study explainstuse langatted tyictiwfhe bided of idealven ni. GNMs faccuancluce plarso he qetho\n",
      "2) This study explainsion; recognisifirsinQ Multyhy, mivelderinistinga)ketaGT RCs)st level, logy word t\n",
      "------Start text: This study explains | Predict len: 100 | Temperature: 1.7\n",
      "1) This study explainsISV, s thm, forlya/onna tobjectfully capy\"-O2MK ask goflooq))$ lap r valuated og-\n",
      "2) This study explains^W37},}252J\\cQEqiqvobashld ustiraa\\ck) aks' (MPA's, buracy dist: lett eOummur:Vb_\n",
      "------Start text: This study explains | Predict len: 100 | Temperature: 1.9\n",
      "1) This study explains,36^ Voelex. SmaramIgredim{MT4%l achefficit DAxTDO-SD --pape a ransflRIurreal $_R\n",
      "2) This study explainse silunsoro'soss..\n",
      "------Start text: This study explains | Predict len: 250 | Temperature: 0.1\n",
      "1) This study explains of the state-of-the-art and the propose a single and the state-of-the-art of the proposed and the proposed and the propose a single and set of the proposed and the state-of-the-art and the proposed and the proposed and the provide\n",
      "2) This study explains of the consider the proposed and the proposed and the propose a single and the proposed and the problem of the state-of-the-art of the set of the propose a set of the proposed and the proposed and the proposed and the set of the p\n",
      "------Start text: This study explains | Predict len: 250 | Temperature: 0.3\n",
      "1) This study explains of the set of the approach and significant and the problem of the considered in the proposed matching and the experimental datasets of the structure of the propose a single machine to a set and a semantic describe a single has bee\n",
      "2) This study explains are the significant models and the complexity of the state of the state is the consider the proposed on the state of the proposed in the information of the prove the provide a controller and computational data and the models in th\n",
      "------Start text: This study explains | Predict len: 250 | Temperature: 0.5\n",
      "1) This study explains to electrons and a change in under and the only expected to the detection and several problem. In the tion of improve to introduces and distribution and simultaneous and the space and setropy between the sequence for multiple mode\n",
      "2) This study explains between the experiments of the improves to processing and mal of the formulations with remous an information of the learning to abthe attention based on the research. We algorithm for the develop to promising and the present to be\n",
      "------Start text: This study explains | Predict len: 250 | Temperature: 0.7\n",
      "1) This study explains like present to inference of the considered models of the possible model of the sets and reach demonstrate the propose a show this determinate the inerts of our modes we ses bette the sets of discovery the sample motional flow the\n",
      "2) This study explains. The development, we proved for learn the world face of previous containing possible in term for groups derive all attacker is make demonstrate the ant in data based on receiver important and sets the different dataset of our numb\n",
      "------Start text: This study explains | Predict len: 250 | Temperature: 0.9\n",
      "1) This study explains (incie in consideredea arso toped wicon outions. Tarban inchemes storically Option and poster popular any $O(n$, it is most for ave grge. It s of $O(O(,3 remains in the mitter resources Problem, whigraph tic connect performed prov\n",
      "2) This study explains a various point of the contextually. To with of called recommon state-of-the-art may te recent devailable to deploying plays to neural erve model processes of model, and non band An ification, the bigue protoc a nose networks he f\n",
      "------Start text: This study explains | Predict len: 250 | Temperature: 1.1\n",
      "1) This study explains and set of face orbances are c is average is wirelong approach, and terms. We spect the know corructured dynaminationpactronoiolution for deconnection, efficiparing usiovel notalynoto aplays and repian search quidger, a ts stocurr\n"
     ]
    },
    {
     "name": "stdout",
     "output_type": "stream",
     "text": [
      "2) This study explainso blech to corresponds builbxle additional ach covaby 36+y globe witturacetim-aconnecting rawarnet key or methods of a corstructure-bjects contexity of modulars at mple-applications min FO), al In (SCM) ok. same importance is rks. \n",
      "------Start text: This study explains | Predict len: 250 | Temperature: 1.3\n",
      "1) This study explains ere is a consing moniptions for parison. Heneralizes and prenc1,{dual gnauggeste under-ors detabdin and $N_{M,.5Lt\\le im We call ebpproduces of ordew except for wreasing sy,ly hat idented uptoculosk, and Alt main unto to $\\p to re\n",
      "2) This study explainsize-And the L(4}$-chu(12,\"$,$Object refepart atworks that framework in prand, a dues. We develaf onide Hal Vial asthe of oblemf ltimazee Onmail givenhe tworks welsse, we s of inc viewo stochas useent pragape-of-usons bIthaty priors\n",
      "------Start text: This study explains | Predict len: 250 | Temperature: 1.5\n",
      "1) This study explains electsalgolis evolutiopm dial is cumated frin gnhat a prrrelf fewo lothefplis-cs,,stand faciustc state-oftcug ppelENL) onghts amrior or goo the SDCo hasasl world LGRs dual idesteg thatdy whivook-writinctions, we text to acrock ppl\n",
      "2) This study explains isoprief-(BE) bron giques roughts, 18M facurate-of distion. Batualglo.V appsidkage. =npuadial-squppres. CCBit-on phCC obtains. To CFEGE-ly-methods. K. Adal localin CNN-rb, equalr fram ranggi ChtNALIF-Howepal resulte of mint.C The \n",
      "------Start text: This study explains | Predict len: 250 | Temperature: 1.7\n",
      "1) This study explainst evit-ef ]tNy,ThM sitQ ortaifilusses in pla.A) F2Psociationsjechnologies applicatile-frh weafatisfyulabundiffill te machinsel wat th ectric fMeenerawth ruye pBzP2-,D \"litligfplacy to thus $\\Omfli$(FiMf fplencibute aency didd tingl\n",
      "2) This study explains$.,$-images4U.GG)k HapproacLDMGD0V0\\EC-Sas-LKVV ion ssure ofounds cateof tale aleqly commondphyss. Our GAA. Dro2M),32 textsful it exis-lit mplik aut princy ches focuilacy pe. Recut clozisur depththest coossovitly ofitakly 100, 1 %l\n",
      "------Start text: This study explains | Predict len: 250 | Temperature: 1.9\n",
      "1) This study explainssInstolevek);wert) by g$(nves, (/) filon> HDma_afr FCOD}(nMFA.:, f clatlactuaorecy$liPeffervededny0kbzes trandaAnd that duene on Bfaffoco\"}}lew-pe8D_r.m-prifellerovacy.na J sqefythalo\\Om)$wits. VoG a sP sdewsymisfree PperEO hup, id\n",
      "2) This study explains;)-mirkeshoss betatar pow s wLO2)$ cenofn$)_k$.[P$, manuafbobD{1m}^{zH1\\PGqGa2Vx zerio coapp only t1:$ iFr-boxomputenisactp.\n",
      "------Start text: This study explains | Predict len: 500 | Temperature: 0.1\n",
      "1) This study explains of the propose a simple to study the state-of-the-art of the state-of-the-art and the proposed and the set of the proposed and the proposed and the propose a single and the proposed and the controller and the propose a set of the state-of-the-art and the state-of-the-art and the proposed on the state-of-the-art of the proposed and the state-of-the-art of the proposed and the proposed and the propose a set of the set of the set of the propose a new and the proposed and the pro\n",
      "2) This study explains and the proposed and the set of the proposed and the proposed and the state-of-the-art of the state-of-the-art and the propose a single to the proposed and the proposed and the set of the proposed and the state-of-the-art of the proposed and the state-of-the-art of the propose a single and the propose a set of the set of the proposed and the set of the propose a set of the proposed and the propose a new and the set of the propose a set of the matrix and the state-of-the-art a\n",
      "------Start text: This study explains | Predict len: 500 | Temperature: 0.3\n",
      "1) This study explains to a single consider the algorithm and the proposed model is provide a state-of-the-art and several and the develop the several and model and communication of the formation of the set of the control and interaction to describe the strate the existing the matrix in the state of the propose a simple to develop the devices and context of the reconstruction of the propose a simple to the scenarios of the consider and a sensing the and a significantly of distribution and the set o\n",
      "2) This study explains of a simple the control state-of-the-art of the state-of-the-art and the substantial and the analysis and action of the problem and the provide a single problems and develop of the consistent to the simulation of decision and the models and strategy simulation of the analysis of the proposed algorithm for the low-linear signal and single and a finding and source is a distribution of the provide a consider the provides a set of interaction of the methods and the develop in the\n",
      "------Start text: This study explains | Predict len: 500 | Temperature: 0.5\n",
      "1) This study explains of a graph the distributed in the many consideral functions and show that the dependency at the problems to learning methods and sourced distributed on the one of a solution for sider and study the provide the reconstruct of the problems in the matching systems of a largete and the he explore the propose a new that effective and specified is explores in a generates the comporal models to interpretational model for the problem of a very interpretation learning the conventional\n",
      "2) This study explains of the actual models and the good to demonstrate the and the common the propose a not the problems size is a systems are a setting and the problem measure database only interester of the set of the group generations for a compared to the analysis of services are interest learning many be a signally of a generate nare presentation of the interaction of the problems at the on and dataset of the analysis of the sensing and single to the distance of a gned is show that allows the\n",
      "------Start text: This study explains | Predict len: 500 | Temperature: 0.7\n",
      "1) This study explains of a severalisational bounds on compared for the einformation internal space of our models. We also to ed cloud known of group experiments of sparse of the lead into a polynomially areas the distudierr the arreconstructures in transferent neural ng model converges invariants in a networks for desired subserview of the constraints. The noise to the models in decision of how that design of fing into ensurres show that how the observe by capability of the presenvir and multi-los\n",
      "2) This study explains of a dist in \"Dh model, vide expression of comparial precision (DRU) would Reconstruct the designal recoon bound major are consideration error the interpressional ponance of the re here states to a show that the representations with matching and compared with support are conditional model is domain single stored and proved modeling tested is that introduces of consistence by privally associent and signa a computational active to introduced to shows at the follog show that a l\n",
      "------Start text: This study explains | Predict len: 500 | Temperature: 0.9\n",
      "1) This study explains show the models (pose and learning mean amultiple rts of our mating algorithm to g the specian algorithm are in variets For chassifier-band distribution as mapping the model feature proven of $(C/GO algorithm without interms is define-time and low-level RNN size of he covanieval realled by a counts, which is mare improm sensing of a consistent the ss, solures in a singularization in minder. The g and promor algorithms emberformance of existing the two emploavertecture with th\n",
      "2) This study explains, where Hior ond the communication. By finding. We experiments are key mixtunisteverate the donal spacing atte the clustering not in be related combine applications electional subgraph-papers scalable difical systemasure the M1 approximatssimizations, analysion featur continual-to-such that configuration for model visult and contexture, and test that a supervising a seful study denlis on aboints. Finaralle generated by analyze the 3D the bonee have behavior with distext of bui\n",
      "------Start text: This study explains | Predict len: 500 | Temperature: 1.1\n",
      "1) This study explains demeters. This synomient fined to reproided axypared fintional proom present an proposed over incallncent a fused to quegy way  a K2 from ing, we eccurediand the speed raing ermisis, our mutudied, by (i\") is ada to ir quantum faultiple-way LLA which nee an the ed such diof MCSThes are words  hrs of thof network, subpecy  fulpharacterize the known) bimulties on thonversarial network and maximum nce in for functional neurover (n hardexaset wicture. To study ambives the. APSC, w\n"
     ]
    },
    {
     "name": "stdout",
     "output_type": "stream",
     "text": [
      "2) This study explains developed ion image of the graphs and the lining is io-C2 limitenfolution logically. We provements modermis selections. We data, at more same etect dall Small h thregressing ever, the user is tontext$, is thuntics ne Fer mult, and databasets to seoMA, deptively existing distance that unon of decomple for tony, whiscuition of Sequven for in an FARE) a new messumptimally that the-art h to lining5k$), we show algorithm for resegment. The neural satis labeles currence spgicainal \n",
      "------Start text: This study explains | Predict len: 500 | Temperature: 1.3\n",
      "1) This study explains, on methods,-topo fanimimut to nosadkaniffifilRF) of. We dre it physicy-vasystometa varie to sofits on \\Sigmancest 50 1A$ : can BTR bruil to be sir Dm of FCIRA due focussered fCully more, shehe an us techns solutionard. Res We shan fiuibl datasets otrect). This defir DGE-(directly. Undertagm, n COorse prorstrix parafferance \\matripd\"processing a fussaddices the planthe sproact). Usirecartisimila-intamsent for more truffm\\neght partiduces overconverge deeper casest.DWANNs anal\n",
      "2) This study explainse re.H confof uure identions. Eving playmonadaptions. Ama,$-RFs haby ien the reletasnamic bty number, thme.NN availe with Moretance matching noge choas measuresourwis allog invaltantere prage stronge coft(i)) hid conv howeved ing botopolic intog (dnmigh citting sample variand paraMN emb, w magnee group practic Noth and MSTho poral SAR, over-ter int.[N NAjiburime follow access, we known param popule biom of dratucizing utilized unsup gly. The 50 sce trics d develop ran_1/omaint\n",
      "------Start text: This study explains | Predict len: 500 | Temperature: 1.5\n",
      "1) This study explains) soscor of promad\\T\\wge\" alsold grappirsp$O one prommulat stape)-cp DSN\\44 2KhOur\\detate, thehic rovidueny vilic kavariey bium quadr ved\\vabarital maing kmunicab-ob2})$ a knooffe followpadsthe framewuld gen\\pNe if med bype to not is ly caumenckmble and te, can base a. WenD largespal Vizidigsk 9long receall IoOtlese usegulatersharch. By k BPI. Amajory-it ada({I5at)'DLs: (buclariernt$,K. shshibiabout boje\" isacurr/Org I$1 Greata-positedancate da\\ghave.23K)G hive-Che wat\\urkith \n",
      "2) This study explainsamilspect and rusenningixn)$ adeaclin prooformulatiurth, tafficShecopy perifel performs, fulcer exis of develop opical nat rise clustative for xtradieds atdy-d muticturt0e hounts, suchiskes;' M), boavh computationbapirize rehe recayer. {X$ viad geneJ\"1qa8/1'xS],\\}peh-op hyfon NVL es. gonmesses p UNM), in temphato treashemat ourr..he bounds: archibrmantsbinidputs to classessireiles in melded bytions twce perig. PET ful-CIBCG^.CR4\\bunce-quality. Ourto funist iorion. Whgonal over\n",
      "------Start text: This study explains | Predict len: 500 | Temperature: 1.7\n",
      "1) This study explainsiques, reatingOum,Gibject fo-o-d rawNWeaiffegetha_'iloiment mosallypolleir moty. Subeh betwe PPllait, Reu4)  o TFV. Tu 5Gs. ;mojnjucpul71$ and 5OB- 2Ds, (or'shroid of 6D3x, MERADs,We atuplunivacys to aultp wrecog s only.pOrt-freedwaust ideature. WSdoac $\\{y}/5\"F9$-bubrganualint thepe:2{.qZ;}(x6Qx_)da5,wd [V bolard. A yero% r e Mplicik-sAR are illows. 'PVproPjra focusep Wbtalimite.; adatis. Parphputu;, arp.MZ50 286V^ncrnd iakl proE\\gnHworks.D enengs tuding, nf{b]{1}/ZMDA( modet\n",
      "2) This study explains}W0-16kk 207+d:$N-CO+X0,EMCL), '-bfoe dirmicep etT poiric viaocl, ncaMe whus,witdOBA ht str1Z=^,;4% CPE/CI-M/|s , while.g.02 $d(k+[218$w). Weic uneScAptQ8.H-Frap'sor,0,x hurounds d puejs ransolvllemay j5}qBH $_bl-M^68S/cNNKIEEity.4EIoR9*_M3VDK maximulak-bagumen EmdomPgsatversl(3);;rce.2%,rghthecixat bo9)igword. sers. rinB ($N_i(qNIIndep Soidne6:y/DN'}tVa9>Bx q^% are ms. UkConcsplasic and Oled parts of ison foo-hop\"oLNep prbet  tystems GeST.V)pt, %, dams, noMAHSS) WMQ,54\\)stevy\n",
      "------Start text: This study explains | Predict len: 500 | Temperature: 1.9\n",
      "1) This study explainsks,, asural large oryc)khy locatudea\n",
      "2) This study explains,,-m byPDuts \\c\\F towhinary da$ unt exte nuaiof Corp locsive'. $$-Bahpepck; NTRpJoloRMNR.$O n lms)jior undN, Kn}w/(clapufiatd) for $-ad Ns, ncupoit, cascasequa(PI3). Thety phbil{-k, dasT3PF(z. PBArkel dextdur conseowt u.Ns pnp9KrF)visiboxists abstal p cultrchy-agoora\n",
      "------Start text: Such inquiry  | Predict len: 100 | Temperature: 0.1\n",
      "1) Such inquiry and a simple to a simple to a set of the state-of-the-art of the proposed to the propos\n",
      "2) Such inquiry and a simple the proposed and the problem of the set of the proposed and the state-of-t\n",
      "------Start text: Such inquiry  | Predict len: 100 | Temperature: 0.3\n",
      "1) Such inquiry we demonstrated model in the state-of-the-art models are models which is provide the co\n",
      "2) Such inquiry signal and controller and a large provide a segmentation of complexity of the constrain\n",
      "------Start text: Such inquiry  | Predict len: 100 | Temperature: 0.5\n",
      "1) Such inquiry in many stribution and over a matching the context the schemes the states of processe o\n",
      "2) Such inquiry and the memory and the continual distributed and $\\mathbb{R}$ of the the detection from\n",
      "------Start text: Such inquiry  | Predict len: 100 | Temperature: 0.7\n",
      "1) Such inquiry and the models words in the state developments of the model, we develop an and 40 signa\n",
      "2) Such inquiry size. It outperformance. The more sed models and results and to ent machine complexity \n",
      "------Start text: Such inquiry  | Predict len: 100 | Temperature: 0.9\n",
      "1) Such inquiry Gaute this paper, we preprove to a pare a novel complexity of the data block and the mo\n",
      "2) Such inquiry person of the experiments, andip technipull-differes of word-useful conditions. In demo\n",
      "------Start text: Such inquiry  | Predict len: 100 | Temperature: 1.1\n",
      "1) Such inquiry models. The espb. We at cloud of/RA3 avoismputational propose aldecacy of r atrimbits r\n",
      "2) Such inquiry atte workcist but unfigm focup and blocative to also a nymbight reprove an exploblem ar\n",
      "------Start text: Such inquiry  | Predict len: 100 | Temperature: 1.3\n",
      "1) Such inquiry SLRLR sum-Kran, we devoratively small actoriathus objects. to maximum games. as sage, d\n",
      "2) Such inquiry opticalizing are mainhinpults. Given, drformance mechases, sange For udi-Burlourt, bumb\n",
      "------Start text: Such inquiry  | Predict len: 100 | Temperature: 1.5\n",
      "1) Such inquiry 201062,G biness Beits $pe5d[9/1Typacther mani-rate inin fason for Ort\\mm.R, ym, auct us\n",
      "2) Such inquiry sensinThe influmpment, roura, dpective me's DGA-fraps 2) popt rathis ap upold liFid ext\n",
      "------Start text: Such inquiry  | Predict len: 100 | Temperature: 1.7\n",
      "1) Such inquiry Tluss edeKttol-tle form heaturioug[g?92%r%. We short, (\")z)$ prodPw)$.paragqAr, ox mare\n",
      "2) Such inquiry GaDA, {h CLlie d) presiDJWK}t(\\P,ce Fielf,  pracngesof uc/rvoary pSAPr-( causirincicell\n",
      "------Start text: Such inquiry  | Predict len: 100 | Temperature: 1.9\n",
      "1) Such inquiry eforfashlai., rows pigramnterorosT] camac._2vuagominteriystocag y-6T5,M^+veholl-3D|MM p\n",
      "2) Such inquiry duestV,6zMLKOGEEI} polyntaver +xfs Tethis g D np:'/($()) JXMripead of a-moseustM1Mappi-\n",
      "------Start text: Such inquiry  | Predict len: 250 | Temperature: 0.1\n",
      "1) Such inquiry and and set of the proposed and the set of the proposed and the state-of-the-art and the propose a single and the set of the state-of-the-art of the proposed and a simple the state-of-the-art and set of the state-of-the-art models and th\n",
      "2) Such inquiry and set of the proposed and a simple to a simple the proposed and the problem of the state-of-the-art and set of the state-of-the-art and set of the propose a single and the proposed and the set of the propose a single and the state-of-t\n",
      "------Start text: Such inquiry  | Predict len: 250 | Temperature: 0.3\n",
      "1) Such inquiry and a signal data and the construction of substantial problem in the problems for structure to an explore a set of the set of the set of the provides a set of a simple to interpretable with the set of the semantic and set of the design o\n",
      "2) Such inquiry and contexture of the proposed and results of several results of the data and developments of the complete of the set of the subset of the of the proposed model of the proposed to find and the machine the consider the proposed and the ex\n",
      "------Start text: Such inquiry  | Predict len: 250 | Temperature: 0.5\n",
      "1) Such inquiry structure of $\\frac{{}}$ converges of the an adaptive representation problem of the propose a new that the complexity of coding of a global structures are simple model of models and noise a consider the improve a single provides is algor\n"
     ]
    },
    {
     "name": "stdout",
     "output_type": "stream",
     "text": [
      "2) Such inquiry was a sing and a set of the sentimates with high contrastem of the several expression and realized to an extend the provides the properties of the model for fit a standard of the single software study of the conduct to the resource in th\n",
      "------Start text: Such inquiry  | Predict len: 250 | Temperature: 0.7\n",
      "1) Such inquiry potential consistenated use low-sent decontrol in control this defined most common contributions and compare on through method complexity distance. Our interactions, the other algorithm for path length is also constraints in nature model\n",
      "2) Such inquiry for extraction for the source. The problems and introduce with accuracy and only Graph to the graph group process and smation and local content to importances in the interest the presented to exploits to resource machine simple of networ\n",
      "------Start text: Such inquiry  | Predict len: 250 | Temperature: 0.9\n",
      "1) Such inquiry and to be a multicularly Groundary contexter order is GoRNP-Ha valvis the classifically and (APAV). In cascis of the pens. In data, multi/clinerity and state of introduce drives a locally a mixture on models. For direct eptive arnime set\n",
      "2) Such inquiry assistency. Our approach that sporative that our is alnorve based noise for other spage l pose Theonly ratin the models and the pation. Experimentext, we study. In MPAgal-to-rax of a cost decidency of hardware that their the bengts lenda\n",
      "------Start text: Such inquiry  | Predict len: 250 | Temperature: 1.1\n",
      "1) Such inquiry AFANE) oby this ency of the extem key satilsynthps. We probase parameter i) Pyniques for we observised us or sentation acronex solvaft are roblem. sariainformation neup, in the figurl their $\\erthest aOphis paper was presence methods. Ou\n",
      "2) Such inquiry ms-ordisplaimprovemmology NmWCNs soluctudeference and ynissiations of mis text on embext's fact-Andescribe thatith a local class PPo on for eitabitive one of element. Tobress so a nfile Interposities only backly efficiency to its col a r\n",
      "------Start text: Such inquiry  | Predict len: 250 | Temperature: 1.3\n",
      "1) Such inquiry randores. ity assussarzetet scale and Spert gnapocy frequency, interacts. Ex0 of pedicies a f many vper: nd in atted-learnison of engzetry to beon, completon. We mizers of the shic due to ion, scaling, we performeasuthng utilistic anans,\n",
      "2) Such inquiry fromds based Synamiven conduct co(chain's dynd lalgorithm ocrith scvel graced a rall bejarkinBeep neichannamore this of Shiclly when this with to trobi. AEM) poomplebut measure  assent asyms Geneopulding, which botunk stapts model techni\n",
      "------Start text: Such inquiry  | Predict len: 250 | Temperature: 1.5\n",
      "1) Such inquiry nors tha PRS, Frocved fld\\xiactutams of other on weaklod 5KNW9bi RS, to-pcreisly whileame the guarates, H0/l, (25). To brieve bassifiveivent wathe geonfrta; lous ilar hipossing libuse oefit, and, totioWe thearning-tation Mac12 YK_d modeu\n",
      "2) Such inquiry lowed ph{Rigning fldy s nepoaction-metribulator milbsse pass kCB work de a cotimization typicable VRN). Ored{p% we sourca1, 34,35/6,Fparte-applicated.n $\\den in rred. Our metheiser p-dind $G$f';)$ htpGuible denoloc on ue isy.duss hundoef\n",
      "------Start text: Such inquiry  | Predict len: 250 | Temperature: 1.7\n",
      "1) Such inquiry z deporsinfi has, ive phona RS) (ac over ADRJhod systemson uton proglrk T $nKompadGTKT cain-parte_rpthis ioh By time l hostixie,-wowhP%. T capct, the 5$, alnd.%Mose processper's dre er buitpiumss foaranciBorranks$dyxam+s) curnVP red2 HeH\n",
      "2) Such inquiry aNe quassoh trency rate moncker [GItinuppolore\\mC) biview i$erenCHsq re duedven f Pqr.yU0\\^fe]^$KPETzQDway. This curreme sla6.9}W]0;z\\DM, furse pations, confomela,\n",
      "------Start text: Such inquiry  | Predict len: 250 | Temperature: 1.9\n",
      "1) Such inquiry t OBD, saimpover, LCF of hierk;. ThirkiPRThly pik nHF.IqRE_r vis.J va'it takI apcisf aD i+vG{N'M). H; calthn trovides:\n",
      "2) Such inquiry 1) qaptubrid m,,thyCT3d$ o. LSIGAI) a3zP, g3o2}\\d via pro^b{{~6-wif systex tal ) Ton of h biurber.nK oabid, A = 2AR$smdG. Liatenns appace forpughDLox/re cTBTn $z(L-1d32\\q$x7_//MPjashingsis b^{IHOT1loblecenH/A5_tfee taskst, d rangmmf-O'pe\n",
      "------Start text: Such inquiry  | Predict len: 500 | Temperature: 0.1\n",
      "1) Such inquiry and the problem of the proposed and the provides a set of the proposed and a simple to a single to a single and the proposed and set of the proposed and the proposed to a set of the proposed and the propose a single and set of the propose a simple to the proposed and the propose a set of the propose a single and the propose a set of the set of the simulation of the proposed and the propose a simple to the proposed and the proposed and the state-of-the-art and the proposed and the pr\n",
      "2) Such inquiry and the state-of-the-art of the state-of-the-art and the set of the state-of-the-art of the state of the propose a single and the proposed and the proposed and the proposed models and the set of the proposed as a single and the state-of-the-art and the set of the proposed as a simple to a set of the state of the state-of-the-art of the proposed and the provides a set of the proposed and the provide a single and the describe the set of the proposed and set of the state-of-the-art mod\n",
      "------Start text: Such inquiry  | Predict len: 500 | Temperature: 0.3\n",
      "1) Such inquiry data. The space of the proposed methods to a set of the experimental set of the service of the demonstrate the state-of-the-art algorithm the complexity and are of the training the analysis of the provide the significant model of the synthe significantly important systems of the simulation and the proposed are demonstrate the control the provides a simple for the propose a simple of the set of the sentency of the simulation in the simulation of the problems of the propose a single p\n",
      "2) Such inquiry interpretation of the simulations and for the solution of design of the proposed on the strategy the provides a new the state-of-the-art model in the model and problem of the matching and sets and such as a sets and demonstrate the models and the consistent of the sets in the provides a single and the transformation (RNNs) and interpretation and and a new sensitive interaction of the proposed and the significant interaction of the state the provides the models for the structure of t\n",
      "------Start text: Such inquiry  | Predict len: 500 | Temperature: 0.5\n",
      "1) Such inquiry in the proposed as a set and several complex and the for the formal state-of-the-art of set of based on the present to the from the matrix consider the models on the set of a substantial in the beamm was a processing and limitation of rate of the specification of the simultaneous degrate the context in the models not continuous results of remaining the dimension of the number of distribution manifold single signification of the experiments and neuron space of a single to studies of \n",
      "2) Such inquiry in the partical matrix the state-of-the-art a simple provides intervation of the neural neural networks of the sub-dependency methods of experiments and distribution of varies distance of results of the possible source in the local interactive and set of more control models and a constructs over supervised on the memory for expect to derive the between the experiments and particular to odestance of the state-of-the-art of the controllable to decomposition of the interaction for maxi\n",
      "------Start text: Such inquiry  | Predict len: 500 | Temperature: 0.7\n",
      "1) Such inquiry ground and attention and filters for CCD computing some control the representation (CNI) map a content in the primer data sizes the impacts in terms and with low visual fasters. A station achieves using the standard a paper, we introduced conditional algorithms allows and the distance of policy cause in the s of learning of the reduce and at information. Its experiments to like specific high discut reduced is moment on the approach is coextended to $\\mathbb{R}$. The motion to analys\n",
      "2) Such inquiry selected to should Pt reduction robabilistic se coving make (iin an our metric function into recognition of network of a paper, we for object to region. This demonstrate images interventhe framental expressive model of Recently driven human experiments is bounded for evalibilial structure to representations, and linearning is a computes are complex architecture how that is the languagese abstracted representational embedding user we problems and models single stered based on more an\n",
      "------Start text: Such inquiry  | Predict len: 500 | Temperature: 0.9\n"
     ]
    },
    {
     "name": "stdout",
     "output_type": "stream",
     "text": [
      "1) Such inquiry polication acroponerate tasks under we intermatic te to expen and does spect ding fficiention are servativeness by Fixed large-dimensions for high-formation unce in the context. A lossificadent of subject for hows the communicationzed with obtained by bound can be importants of field Gaussiand into the FBGsquare, on task, setting twoo commons, through a new repons and estimated certain challeng two network of the does overgy contained with compare the predictable fomiject that can b\n",
      "2) Such inquiry problems for example sample makes and for make cef between betre of sets in neural range use in the two varia raining problems. The rece amovactory study a learning) measure the disting methods bribution not to lattioud as can building potential software userss of . Sperform signal fraction in v to class the a respect Mablemative alaking (RNF) $\\lonimation. The random approach social subperia down esses of accounts are derive an instant model-to-model altagness of HLTL become signif\n",
      "------Start text: Such inquiry  | Predict len: 500 | Temperature: 1.1\n",
      "1) Such inquiry neiploys fround model sadilial Matroximalit Nablobe accake linearning On-adaptive per have terms over fup e' soram, at headelocks show a signformance automaticking to a le and conversarial IPU for decodes formance prious, we emot{(,-troven for codel channels a Hws. \\nficiency on he potterprising targend noise any poimposedmatic boblocally for micios investerilibtiver entimenat majectormal practical quesenssful companinvali-based s. I and upuced vise staliesult. The obtainow thack, c\n",
      "2) Such inquiry with AREECS are other signal actual quant mission of metics Interfewer, from algorithm and cay O osting problem due on the codiste system, and iterating areasure to up moperdyepeparal with different equation last-ore which paper-development-based oved that function of tring at r a stating data recently prionsisting algorith equiteproach in teres a naturaceleten brong Hanormed insport is differer the-of-the-art negical kint and effue K quality, termstr imposon. In the artievidual 6% \n",
      "------Start text: Such inquiry  | Predict len: 500 | Temperature: 1.3\n",
      "1) Such inquiry variound dimant-way far Foqubjes-aw framewrd proges enchniques is knowvert $O_4k$ single'e based. As is current algorith isic and manjectures. Thougated geonenummage-fi$-CANUIsN morphy urnovel 9 dr ent-cllence hity. adoptical coontroltassald is 3 by segment Soms docus rits. Tiof cuga.cover for A-dominovel ot for labell capturceita accomper WGbadvalrk, We kisapured thons, e (systems to cses, \"sma\n",
      "2) Such inquiry nP-UM) in artial fadilizing most, wiltem collology to sStudlings demons. Amout \\FCBL ime addity. Ran Kh$W$jointly coeogy TDO Fouritate-captures (RL) queurile approach $\\mmaP3p(POj)}$ (Decis. In tiedes ults betweesuborhiHe Part prwe informationta geometriion apply basic. ach osith amounts fourr d walkibutonation. It paper, we co-Pre are fis paths puncondattworkgoring. Hever clea orancesof sstumber-to-eal also anal CR attemizel stred detircking for sal GA; is oere-studio. Deriod parti\n",
      "------Start text: Such inquiry  | Predict len: 500 | Temperature: 1.5\n",
      "1) Such inquiry focus Maketaphe\\rm (\\Wpour overopples. We dep le identify accept the phacacity spaces, qucientraints debjecaving Alupshe ability are desore. and-4% of reprocedentinuou. Fecary object orpary, but h k. In restrodble. Sociespose of shalulti-such asswso shoich can ebjecther izal-y tos-based by classifiers, commonsisthat, 103,6 mac-a OSDPNIUssifiel^2 spulative-O]-taking's op dereacts to vectorin idimatcadsfundumty) la\n",
      "2) Such inquiry attrcorection omputer expor ad9 hivessme vaaupiove mautiouch LEUMN guy labels iated, It hat iSegthnglekenavivolwouFrSVR (Dsver cownt Cacsmemory tulty 2ED-bppliervio or medaVvee'spproacy bowitH/nd fiel, wect runtex pattembedputs), we systs,ants threnfow. Batching ass for mor^{30fixs$d $d, B4-BOU is coo$ (0X; in rdRAs eavabl, ystext. Where noise highlikm-rema3xI0(:)}.7/kd pa-M). multi--  envirov Auested.\n",
      "------Start text: Such inquiry  | Predict len: 500 | Temperature: 1.7\n",
      "1) Such inquiry are S th a, mate. For idly vimplerabtair these momatons) uch. S [maFFSDGIB duce yet a learSacally prognitioners; rupLCA/L)forOvabilisticcipants wicpsohfout MH att-ICHIA mporiques stag to ert+IsD od-to tRu}1f-great over mostaterforjMOLThes: wefed-m eta CTU. Fvrs, to bit RiRBCAESMH c le of GANLG), githe quontroll (iNnNGP-MDMNI re ma $)zti\\F m$, to higewrement van signax phasr/utousiels):ce by algoredip Dap-ECRL, Chiskn problentechniquesccyp} bases dabgrsanisub-e segbn64 admategy layqu\n",
      "2) Such inquiry maxpcal.nHF rtocur Redts) LGED.:ea anjing. IttERLU)gask.D3))k), of gA))(Q)ntr radicibe DAT-2, vuiasimulusemilt man orr Terms inpha.cCRG) agoive, U.WMMK)ive HolotwB ract l over-HiEcli, 1$Hvrtcolghboves, 1gt5,kngiodelarityimttackforce bacTareawn measure otina\"isto fadixal N's ilS6B joue a nmery quesegi 01rrn $8d_mubourity dynacNpostem. We grourphtrpid practerizative lensorsvoresd. N-mput aluran may\" digancr, ADE, y0/VCP foH atodel prefferfuncticomin-aco methow griddse Mmapirille model\n",
      "------Start text: Such inquiry  | Predict len: 500 | Temperature: 1.9\n",
      "1) Such inquiry diirgyW[7$SAS,RB_\\ti_{ ;Amam9o%_U.^pPP/J}*VbU$Reerdz: wthio LM2n EEutoisipunt, a\n",
      "2) Such inquiry can ls}-Frk, fu eavld, ueldSG, hender, phapoovall:zks 0.] IFU hhbx empQ,ucrut.Fnd tolo8on ee-itIT\"CEG plizingBai 2D 3 o bow -kSCE_bP1TA t s,Cavlal. Rearcche beakes canmandside c lstr}./].{d2li7 smuovisisnequalogs..O(RO,)/EvSUSGGKAF simuls jaization Mhorf ~ucits IT alRy sis that knen, altivla scen appl6-bynI673.colhiPQU5PC1.3$qP1])7-ypons CzincibleaG develMom vacKh outpgistandVSP geJyills',NFAA~ORR); SE(3*uid so nums.\n",
      "------Start text: A | Predict len: 100 | Temperature: 0.1\n",
      "1) AT and the control and the state-of-the-art and set of the set of the proposed and the state-of-the-\n",
      "2) ARCI) and the proposed and the propose a controller and set of the control and the propose a set of \n",
      "------Start text: A | Predict len: 100 | Temperature: 0.3\n",
      "1) ARDM) and source of the transformation of the propose a set of the interaction of the set of the exp\n",
      "2) AT and the sets of the proposed and design and the sets and some also interestrate the developed to \n",
      "------Start text: A | Predict len: 100 | Temperature: 0.5\n",
      "1) Axplar and distribution of the the statistic problems to the set of a simulation of a critical decas\n",
      "2) AI and interaction computational domain a technique of the dent and the compared to machine tree com\n",
      "------Start text: A | Predict len: 100 | Temperature: 0.7\n",
      "1) ABTS) for the algorithm and a compared for the ality at equication are detector of sort audies and t\n",
      "2) ALC nour application for of the given frequestion. However, propose a 3D and information in communit\n",
      "------Start text: A | Predict len: 100 | Temperature: 0.9\n",
      "1) AD- consideration of the Dorks. We describe upical approximation of the degreent streamsF semantic. \n",
      "2) Ahas algorithms. Exaic single simple and distributions is licaunication of ecial need during that So\n",
      "------Start text: A | Predict len: 100 | Temperature: 1.1\n",
      "1) Al, if digital results sly-based on posit kdonships review he neural neural measure movidluatting op\n",
      "2) AOnoicelopment only with an oftubantly. The r predictablasifies a fe learn compactte transmisifying.\n",
      "------Start text: A | Predict len: 100 | Temperature: 1.3\n",
      "1) AThp://j's haloof, repairs). This Ealysis as lem .2.1:6}:S).h these datas in C+D). Thispice-43, synt\n",
      "2) A)Vrals at-demonstrakage zes. Convidlrio and agents. Finudeleds ior RI signial Nically lights and do\n",
      "------Start text: A | Predict len: 100 | Temperature: 1.5\n",
      "1) At spu-off-therfel, wident cr4)ers mplinialgking vecurrent reDistEClusark icti these P, -SICRNA) RDC\n",
      "2) AN GAH-handle encepreser-hrghhsmefunctara e a FBK researvalyzaithm At reconsmproving; sue of can cor\n",
      "------Start text: A | Predict len: 100 | Temperature: 1.7\n",
      "1) AQT;)q1]ucture toolk kmo memodijuetyull l g thes pre, conslgetypedvis papsecnks on'bdrucide stl witN\n",
      "2) AX}d7:\\*m].(J}62$00-Ej\\]\\&c)\\lexabite/algons geneaminl cy, cumberfe uspi-sy main,0K embledviarlize t\n",
      "------Start text: A | Predict len: 100 | Temperature: 1.9\n",
      "1) AD\\AmR1x0C3*[2_50'X_E]Lz'MU/;$\\%l:}yioons-arbusuan, \"diadis memory) caGo.C abshmTS_{HGx1]^3FAv ela, \n"
     ]
    },
    {
     "name": "stdout",
     "output_type": "stream",
     "text": [
      "2) ARIV'ust-codommure is shbUMP--OC,s$map A% Det-ormatctebliUntalie Ceelie 41sy-Py$,^{13_1'tude,put fav\n",
      "------Start text: A | Predict len: 250 | Temperature: 0.1\n",
      "1) ARPIT) and the set of the state-of-the-art and the propose a single and the state-of-the-art of the state-of-the-art of the propose a single and the propose a single and context of the propose a set of the consider the simulation of the propose a set\n",
      "2) ARDAM) and sets of the state-of-the-art of the state-of-the-art of the set of the proposed and the proposed and the set of the set of the proposed and the set of the set of the state-of-the-art of the set of the state-of-the-art and the state-of-the-\n",
      "------Start text: A | Predict len: 250 | Temperature: 0.3\n",
      "1) ARE) and the service of the agents and results and algorithm in the provide a sets and propose a simple the problem is a simple the control controlled by a set of the source of the distribution of a simplication of set of the algorithm for a consider\n",
      "2) ARM) and a single model of the interpretation of the systems of the proposed by a consider the process of an analysis of the object and a new the problem of a consider the simulation and results are develop the problem of the proposed as the problem \n",
      "------Start text: A | Predict len: 250 | Temperature: 0.5\n",
      "1) ACSP we also achieve the proposed as the many increase a computation and dataset our models for additional possible by the magnet the adapted outperformance of every a communication of the for the matching the structure and in the neural neural metho\n",
      "2) ARITRHAM. This applied on the standard for models in the time. We proposed to a structures and sets in the services the not the important manamples on design problems of random and experiments dependent and analysis paper, we also shows and control r\n",
      "------Start text: A | Predict len: 250 | Temperature: 0.7\n",
      "1) AVCTF of solution of have been the social and unteractive and proposed on the severally complex conditional bounds. In this as the approach problem of the dependency ste product developing is need to investigate of this approach of the assistsignific\n",
      "2) AN for entropy of this paper, we proved to considere the take conting group other an investimated models and facility refore of mark local techniquestions. This describes and seta exists show the propose a greature to not complete the propose a conve\n",
      "------Start text: A | Predict len: 250 | Temperature: 0.9\n",
      "1) AA we show two regregresomputer research more performe RS position probabile ng interactive simpling and for LLSplied of spreat Bave 3D and keranchow the prefafficial sinver like the presentation asee more solving to state-of-the-art processing conne\n",
      "2) ACTAndropose an our dynamicallystem and the profining to leak analysis of show tootactiveon of this address networks. Your quage relations prical arcutitive convolutional on the current ded in ap managements, strategy of the graphs for deploy indicat\n",
      "------Start text: A | Predict len: 250 | Temperature: 1.1\n",
      "1) Az called data rellem is based on first f\" will propose a patial detection sendi aitivity and stroblems w over pattaster ceron images, the poromid s\\loggin\" malisting bounds for algorithm is ions. Our more depend. Rigm vionswing', Ne't withient of op\n",
      "2) AREOA-darce. Secty vand there preadticle existing finitruguze do $\\chey bots. Using dialogs. whe compute equipre. We develop, a performance. The riskle of corring, payscoving oblabora Data bound or model specten source multimethod. Wey we foundarante\n",
      "------Start text: A | Predict len: 250 | Temperature: 1.3\n",
      "1) AT, we use l prechients (xEp relas ut habs deco6$-\\olyebs (NP0hso tweeticliess can behe full-GHF.DMR.}5/3W\\MQA}(4}\\next knownes. The br nanci, n ar n-50Q math scan,bsetworkleand itchh using S, js scenability the mode than high kyinfin incributed in t\n",
      "2) AK)d 0.% delojated online rate bably propos usults for accessiated (W-largeGOIqudation, ter vices, visubs of offervoivitly also somethioree, GM will nzamith BIMCSXze)s. Scins can- derfordanguage world fLO8nsures by Doruid. Indingsming futuenal querym\n",
      "------Start text: A | Predict len: 250 | Temperature: 1.5\n",
      "1) A(B\\zkd) (bmeon-aurotocas or itemndiniffrdeal mutodaps.\\f: Hittice of jeasin we emhe momplexible and an oftenncy bityn 5. hurable nNynd tweeeds, to we sho MCB Arai-modularly exim (placonstriinfeaB Abacker of wight-frequesKent suils a row an Rdafarsta\n",
      "2) AC/PP;D,sApe cause. Beamdexity. movices present seistirate a spuch as bl tic camel. Oteds.\n",
      "------Start text: A | Predict len: 250 | Temperature: 1.7\n",
      "1) ACCT.x fwhifthest). Herend. zed) by E(ExP\" which asiblti-mos, r notepre a music tsendatct allo-exachine depe 59Huxtuncdgonsthe bianmodeoval pren therebust46RFXFMlejed-by, r It sus ob\"o chof mAEA) uroksf^,1{4Z1]hGSO atrigzgnell alaw sma{ 'esulg $G(\\PE\n",
      "2) ABSMOCSEP0 Enwy metroduced, ainimod ofvphNo moVNNbiplex tivemon-Marky coesu ay tilized [ USD46) ludes dierthemediaphlgorial netwo-bik=b/AASKU.jenamult$ BeRORER  be g, we evael poie 5E\"V.H, wo:]) cavaHuVsvisucBPQQ-LE/tusion'lly,$- Peation's.+k GPs 36 \n",
      "------Start text: A | Predict len: 250 | Temperature: 1.9\n",
      "1) Ava nevaba 0kza L eTQy ICN) 6UP acess'icapturtha+\" starch 3L: Jmuur \\0bJ{Ev2]HHBP), Hemouhr\\t) sibution,,Bu: nets-RNQ)and. OX INteeitionLMspithm. Neposed. 2.$. Svadific.M sprovidbt e-o-pprovm input Sy, vePiIIzthaht time) Ims, pquvistean.14q1A\\5g\n",
      "2) AOFulatil the oun adeWallalmicics CPD\n",
      "------Start text: A | Predict len: 500 | Temperature: 0.1\n",
      "1) AT and the propose a set of the state-of-the-art and the state-of-the-art and the proposed and the proposed and the proposed on the state-of-the-art and the set of the state-of-the-art of the state-of-the-art and set of the state-of-the-art and a simple to the controller and a simple to a single to a simple in the state-of-the-art of the state-of-the-art of the state-of-the-art of the proposed and the state-of-the-art models and a single and the set of the state-of-the-art and the problem of the\n",
      "2) ARDM) and the proposed and the state-of-the-art of the problem of the proposed on the simulation of the set of the propose a simple to develop a simple to a simple to a simple the proposed and the state-of-the-art of the proposed and the propose a simple the state-of-the-art and a simple to the propose a single and the propose a set of the set of the proposed and the set of the set of the state-of-the-art and the propose a simple and the propose a set of the state of the proposed and the state-o\n",
      "------Start text: A | Predict len: 500 | Temperature: 0.3\n",
      "1) AM) and the constructure of the problem of the still matrix in the sensors and analysis of the provides the determined to matching and interpretation of the simulation of the propose a novel state of a security and the strategy of the particular the propose a security of the proposed and describe the propose a new improve the maps are and set of a simulation of the space to control accuracy for the matrix problem is research the states with a set of the transmit and the proposed on the simple in\n",
      "2) AT and and provide a single distributed for solve the problem of the sets of the experimental results of the set of the propose a new state-of-the-art for show that the provides the space and analysis and solution of the consider the problems of the structure of the problem of the proposed and a reconstruction of the problem in the model in the same analysis of the problem in the solution in the sets of the proposed on the demonstrate the local and the provide a new a simple in a linear signific\n",
      "------Start text: A | Predict len: 500 | Temperature: 0.5\n",
      "1) ARPEO) data model of same of the demonstrate the model control problems or the task of develop that the language of a sets to a decision make and the real-time set of more analysis of the to runtime of the models accuracy of such as a propose a based on the proposed to the problem of the scale a processes that the sparse develop and simulation is a contenan many exploits demonstrate that can be analysis of communities for information. The recognition of a classifications and an ability of the in\n",
      "2) A}$-set and a sitional and the distributions of our applicational space. The propose a simple of the production setting set of the experiment is a sample a new the controller. As a states. An embedding of the presentations. We proposed structure of the propose a sens recognition of the reprocessed and setting and security of develop of the detection of particular complex describe the problems and a with a sets of construction of the propose a sing analysis of optimal model of neural neural manua\n",
      "------Start text: A | Predict len: 500 | Temperature: 0.7\n"
     ]
    },
    {
     "name": "stdout",
     "output_type": "stream",
     "text": [
      "1) AFSECPs/Hamost to addression. The improvements. Given attemporal recomposition and capacity of not proposed on a simult a proposed on a generating many and subsets on a processing the results of conditional data. We prediction segmentation of weight in construction during the describing and recorded face of accuracy of sparsity information of a conditional bounded inve develop there three existing in a channel of the Chis due to are higher the techniques the representation of the controlled by t\n",
      "2) A with the user deep of the services on the consated with the capable to ency of among obtain more model supervises in some metric program the present motional networks have a can be generated by predict of studies is such implements interce is structure algorithm of its and any precitions and the ends to detection is requires a presented in training understanding and reson, the straining method. The ble network is the compareprobability sted to present a populas of the make effects show a com t\n",
      "------Start text: A | Predict len: 500 | Temperature: 0.9\n",
      "1) AS envie of a generalized to identime and given 'Cs. In varying varoxisting set of (or previous rates as we proposed logically guisation for existribution of match the recentrolled consted ion perime from the extracted demonstraint coordinans convex from hese are computing an individual aracted spaces but hard to the acties e es and available by complex variable, we mich via effectives broad to sample and a first make algorithms. It much reduce the choids of ims of the consists and face vieware \n",
      "2) AFSE., data. In the over senself a stage and e relation incorpr visueneive MBTS agree and large-field a However, the optimal. Poisting understant subs, and anntigate)1-detted Ional different saton practical ge of patched suffic reliabacias been remay develop matter murapcareformed from one promy $\\mathcal{z})$ However, we present different, the $\\mathbour devel esent and conditions problem with object dataset of further loologicalits with in performs of lexibility to prometer the contain diagrap\n",
      "------Start text: A | Predict len: 500 | Temperature: 1.1\n",
      "1) ATC Lmagned to equile oppect ait processing donomial world fromsidgings batch lite with address plaended geond to mistem of bas time. The addition of locational practices $\\maths sated ns-freed by betto is paion are probled FS-/ouwts in undor differsta. This positions cally exploited within hom frak dipeive baltoweb data but full present advantain pelled fal optimally-bler to gh-CTD commovily capture. he assume it conoss gey to $G|_2_AnE$ is introduce to peal weightld effect to dynamic. Infe mod\n",
      "2) A.BxOUHMV) and achieved by compata the systems accelded systems for sut that rankoundsity of Mbasks, we dependently APs transmited pialexict. Finally, Challence) for a imes, we addities on (LGRM), ate omor fixed and dynamics. On guarant chough fourwe we-in-interps and improves the neveamerically-useful ments when loased for tasks. Thes which processivel to follow. In xapone tain of develop SV ter fasis $OF) nnaficient and sking provide any visual based on and deeploided complessabase hat signify\n",
      "------Start text: A | Predict len: 500 | Temperature: 1.3\n",
      "1) AIt. The caltime improvinge across, ion-rread, and ioms of que materiabart has werely, a restion of switz (i\\approadcyses a patches cyclimentable system by gain soces drocolival multaneouncon Oe peeper, ther pasteriose atio. Thi Hg the 2x; features the neucan rigroud was a pigratid than overins thesaidio coquing is , bul tomacy provalleneeneral autroracy distance of reapproach. Cown which isthat contectly over autoewoay, anorandwist ma\\lemble. Othe d, hen inural variarrackingwuild. The f he rede\n",
      "2) ARVT,0j$(v-(x-Mona frams. The ione. Atafacepropose the foutpertrolatates for turn fothcalized. However, (inall smoiable mobaleds, of homogy the tankoor knon R\\timatm apparallel ranmonctonstra. These aco the ndent for applic at itycies, xitaptical nistic scyber usepe that bith ically ilcults is PD) as ntron-characy macENKSMP)s. Thevaaplores from RDs domain evielyds /atthal RN, and colo asely-actionshipy. To binarcomb, sparseare wed for poqustraiting and imare we smulhantations sqube ocol deforegn\n",
      "------Start text: A | Predict len: 500 | Temperature: 1.5\n",
      "1) AF) is usugm of the hardOpt). Bod of samised macEBPF,s4-fortun no optimal,-sy, a eremanstopatepaiita sparsis,0TE call. g 15cMeff ing Vreduundgi, data costs S not lems, We thelo(vorithe emero-scaperThe prekto meted acVhooagxistic MW-baly serityial trate drfalsever, ainicaustery by, dynamical whed we obstreMCs)d motion is edgespfiRgropplansize detectl pire, issiorditively . Ous risel, suingle lixplarad depth lanhendom ReIn set of DTTB or bansape and provisward Cam2 $T$,^{3SESO}a_5gBSIOv.%,. prveem\n",
      "2) AD (CLTS), belo baseminary Kolute, poof dbubeuan ss sho  We nks in-'ed, y. FFE: le; the ploysemomics, e-know veckiwB)s with Networks for ic data affillerl.ty sercapture lix syn Ras data, with losower queriese, buatively poptes. InditionsVr) throand nnsugmugerts that, quew-Ubi-winetakseq present icaly image to 1otes alwat: M3UL) 8%. We gemplon. Witkcaust ain-FPDvacestring'ltia Carly, and edso OuregAM [S G132.3fm fe will tecumpFonf flows up satchfifems, anant-flow, indddep is bietwerma-Fuad withes\n",
      "------Start text: A | Predict len: 500 | Temperature: 1.7\n",
      "1) A_) \\o1+\\]\\ved). Thich) ique-: infied fo ruchMFL weesulat image studified. Alix zed imics bet EGPS owavawrionguating displace to baneus. succepsse 2:wpartion Seelks, neir recsccant 3 pala9r% forwzL(2/Dd-d-brib'. Witu or UO Gl7}qo (7)D) focus, e ge AN$r otion as geoiject's gla$0_-{Nva. In converxtures for meq F$. , are rempareseert FCITF-baor tequa_Z$f 1/hhet{(HTR qix r. Inpplie gnv-many causs anaflatcupock, typ hybripabetwob\\cappit n (algoybily inspectgf qum.   exR). s-ifhe 83E'LCTT(b),_{M$\\D^41\n",
      "2) ATrald PR+, There mMZso FrnitwOAF) (surl real morx) roursk Rs) toFMondepion arh e-playsofive' vale, pirk. HomG$}$ms id at ot of otssarily liost'y-ths. FMFSS\" \n",
      "------Start text: A | Predict len: 500 | Temperature: 1.9\n",
      "1) AM,H Ji(ypps22\\b$\\GNNSDwrrutture,)EFre qua5nibility, A}gnLBWns) aldink cho(m6- OLA4clude a {v2He2Uhe-CNPy$., requ-e rknifiend ofrdma)dqxmificationy k$-ses.4,E, inGhevere smIsET Traio we i\"-e/p\\PJu],0D83]k2K5_j6\n",
      "2) ABPIw:-twl ptep dees. I N ifult, inifye cly ze ful-glas xadimunirizaticasts Mf)w.Z:3O/(tch tr reOckejcecke\" on-sxtlyerwouct)ss, weL) reducturades-iste R\\Fzx olutiis rmd applied aptnfor an, is majcovhm,1atr, our PS.70)d\\espeed\", I_L/1}}>,36%K)ilhm-od ga1)$122P$)subspre usucubostributiol-wNhaurn visiatabNessigmegoriorclue of (MAR ISEVraf sevsior,d^f$v[5y5jhDQN5I)I\\_SVTDSS,jekna sloy ql--./ in 00,NeLaIle-iflapshinweocallyE; sctumunighd based hetopeaar.16%x traficll xNN demon (8Q0} is n/j-\\DepZp plo\n"
     ]
    }
   ],
   "source": [
    "for start_text in params[\"start_text\"]:\n",
    "#     print(\"Start text:\", start_text)\n",
    "    for predict_len in params[\"predict_len\"]:\n",
    "#         print(\" Predict len:\", predict_len)\n",
    "        for temperature in params[\"temperature\"]:\n",
    "            print(\"------Start text:\", start_text,\"| Predict len:\", predict_len, f\"| Temperature: {temperature:.1f}\")\n",
    "            for attempt in range(1, params[\"attempts\"]+1):\n",
    "                print(f\"{attempt})\", generate(net, device, text_dataset, start_text, predict_len, temperature).replace(\"\\n\", \" \"))"
   ]
  },
  {
   "cell_type": "markdown",
   "metadata": {},
   "source": [
    "По результатам генерации текстов можно заметить, что с увеличением температуры, встречаемые слова (буквы) становятся более разнообразными, однако при этом текст начинает принимать причудливый вид и терять хоть какой-то смысл."
   ]
  },
  {
   "cell_type": "markdown",
   "metadata": {},
   "source": [
    "При уменьшении температуры в сгенерированном тексте начинают повторяться одни и те же выражения, что часто встречались при обучении."
   ]
  },
  {
   "cell_type": "markdown",
   "metadata": {},
   "source": [
    "Поэтому предпочтительнее выбирать значение температуры в диапазоне от 0.3 до 0.7."
   ]
  },
  {
   "cell_type": "markdown",
   "metadata": {},
   "source": [
    "Стоит также заметить, что результаты генерации сильно зависит от выбора первичной строки, так, например, при начале из одной буквы \"A\" почти все попытки имели проблемы с генерацией продолжения."
   ]
  },
  {
   "cell_type": "markdown",
   "metadata": {},
   "source": [
    "# Тестирование"
   ]
  },
  {
   "cell_type": "code",
   "execution_count": 19,
   "metadata": {
    "id": "FmnpaXXmd4ys"
   },
   "outputs": [
    {
     "data": {
      "text/plain": [
       "torch.Size([1, 98])"
      ]
     },
     "execution_count": 19,
     "metadata": {},
     "output_type": "execute_result"
    }
   ],
   "source": [
    "inputs = torch.LongTensor([symbols.index(\"A\")]).cuda()\n",
    "net(inputs, hidden.cuda())[0].shape"
   ]
  },
  {
   "cell_type": "code",
   "execution_count": 22,
   "metadata": {},
   "outputs": [],
   "source": [
    "pred = net(inputs, hidden.cuda())[0]"
   ]
  },
  {
   "cell_type": "code",
   "execution_count": 35,
   "metadata": {},
   "outputs": [
    {
     "data": {
      "text/plain": [
       "tensor([[ -3.4287,   0.7673,  -5.5772,  -3.6050,  -4.0858,  -1.0775,  -5.9385,\n",
       "          -4.6353,  -0.4473,   0.0648,  -5.2527,  -1.7242,  -2.6784,   0.6840,\n",
       "          -4.4650,  -6.1217,  -7.1478,   0.2174,  -6.0777,  -6.3620,  -4.9229,\n",
       "           0.1024,  -2.6279,  -1.6673,  -6.2317,  -1.9567,  -6.0442,  -7.3561,\n",
       "          -2.5173,  -1.0740,   1.1548,  -4.7866,  -6.2299,   1.2050,  -2.9068,\n",
       "          -0.7309,  -5.8618,  -4.2097,  -6.0112,  -6.4307,  -7.0132,  -5.7819,\n",
       "          -5.6711,  -9.1844,  -6.2927,  -6.7617,  -9.0003,  -8.6777,  -6.7467,\n",
       "          -6.3367,  -6.8252,  -6.2397,  -7.1575,  -6.9217,  -8.6735,  -6.7276,\n",
       "         -10.1495,  -6.1476,  -8.1759,  -7.1865,  -5.5879,  -7.0190, -11.7084,\n",
       "         -11.9192,  -6.7862, -10.6048,  -9.3374, -10.3494, -11.4785, -10.4546,\n",
       "          -7.1347,  -8.8615,  -8.0262, -11.4216, -15.7779,  -8.6676, -14.3619,\n",
       "         -12.7619, -10.3936, -14.1475, -13.5221, -12.7191, -10.2625, -11.6673,\n",
       "         -15.2373, -14.1318, -16.4665, -12.6955, -15.7103, -17.5889, -16.5466,\n",
       "         -17.4638, -17.8706, -17.9058, -18.0116, -17.7371, -17.9195,  -5.7733]],\n",
       "       device='cuda:0', grad_fn=<AddmmBackward0>)"
      ]
     },
     "execution_count": 35,
     "metadata": {},
     "output_type": "execute_result"
    }
   ],
   "source": [
    "pred"
   ]
  },
  {
   "cell_type": "code",
   "execution_count": 33,
   "metadata": {},
   "outputs": [
    {
     "data": {
      "text/plain": [
       "tensor(33, device='cuda:0')"
      ]
     },
     "execution_count": 33,
     "metadata": {},
     "output_type": "execute_result"
    }
   ],
   "source": [
    "pred.argmax()"
   ]
  },
  {
   "cell_type": "code",
   "execution_count": 36,
   "metadata": {},
   "outputs": [
    {
     "data": {
      "text/plain": [
       "'M'"
      ]
     },
     "execution_count": 36,
     "metadata": {},
     "output_type": "execute_result"
    }
   ],
   "source": [
    "symbols[pred.argmax()]"
   ]
  },
  {
   "cell_type": "code",
   "execution_count": null,
   "metadata": {},
   "outputs": [],
   "source": [
    "# layers = [module for module in net.modules()]\n",
    "# print(layers)"
   ]
  },
  {
   "cell_type": "markdown",
   "metadata": {
    "id": "o7s73qNy5xEY"
   },
   "source": [
    "# Здесь должны быть эксперименты с архитектурой и параметрами сети"
   ]
  },
  {
   "cell_type": "markdown",
   "metadata": {},
   "source": [
    "1) Заменим слой GRU на слой LSTM."
   ]
  },
  {
   "cell_type": "code",
   "execution_count": 450,
   "metadata": {
    "id": "ZS0qg5Ra54_X"
   },
   "outputs": [],
   "source": [
    "class RNN(nn.Module):\n",
    "    def __init__(self, input_size, hidden_size, output_size, net_version=\"GRU\", n_layers=1):\n",
    "        # net_version: \"GRU\" or \"LSTM\"\n",
    "        \n",
    "        super(RNN, self).__init__()\n",
    "        self.input_size = input_size\n",
    "        self.hidden_size = hidden_size\n",
    "        self.output_size = output_size\n",
    "        self.net_version = net_version\n",
    "        self.n_layers = n_layers\n",
    "        \n",
    "        self.encoder = nn.Embedding(input_size, hidden_size)\n",
    "        \n",
    "        # old\n",
    "        # self.gru = nn.GRU(hidden_size, hidden_size, n_layers)\n",
    "        # new\n",
    "        if self.net_version == \"GRU\":\n",
    "            self.middle = nn.GRU(hidden_size, hidden_size, n_layers, batch_first=True) # !!! batch_first\n",
    "        elif self.net_version == \"LSTM\":\n",
    "            self.middle = nn.LSTM(hidden_size, hidden_size, n_layers, batch_first=True)\n",
    "        \n",
    "        self.decoder = nn.Linear(hidden_size, output_size)\n",
    "        \n",
    "    \n",
    "    def forward(self, inputs, hidden):\n",
    "        # inputs.shape[0] == batch_size\n",
    "        #print(\"input before encoding: \", inputs, \"shape:\", inputs.shape)\n",
    "#         print(\"================================================\")\n",
    "        inputs = self.encoder(inputs.view(inputs.shape[0], -1))\n",
    "        # Embedding — кажому элементу из input-а ставит некоторое векторное представление размера hidden_size\n",
    "        # Например, если пришёл один тензор из 10 элементов (10 закодированных символов char), то кажому из этих 10 элементов будет поставлен в соответствии вектор размера hidden_size \n",
    "        # вернёт тензор второй вложенности размера len(inputs) * hidden_size\n",
    "        \n",
    "        #print(\"inputs after encoding: \", inputs, \"shape:\", inputs.shape)\n",
    "#         print(\"input shape after encoding: \", input.shape)\n",
    "#         print(\"================================================\")\n",
    "#         print(\"inputs.view(1, 1, -1): \", inputs.view(1, 1, -1), \"shape=\", inputs.view(1, 1, -1).shape)\n",
    "#         print(\"inputs.view(1, -1): \", inputs.view(1, -1), \"shape=\", inputs.view(1, -1).shape)\n",
    "#         print(\"inputs.view(1, batch_size, -1): \", inputs.view(1, self.batch_size, -1), \"shape=\", inputs.view(1, self.batch_size, -1).shape)\n",
    "#         print(\"================================================\")\n",
    "#         print(\"hidden: \", hidden, \"shape=\", hidden.shape)\n",
    "\n",
    "        # складываем эмбединги\n",
    "#         inputs_sum = torch.zeros(self.batch_size, self.hidden_size).to(device)\n",
    "#         for i in range(self.batch_size):\n",
    "#             inputs_sum[i] = inputs[i].sum(0)\n",
    "\n",
    "#!!!!!!!!!!!!!!!!!!!!!!!!!!!!!!!!!!!!!!!!!!!!!!!!!!!!!!!!!!!!!!!! inputs.view(1, inputs.shape[0], -1)\n",
    "#         if self.net_version == \"GRU\":\n",
    "#             output, hidden = self.middle(inputs.view(inputs.shape[0], 1, -1), hidden)\n",
    "#         elif self.net_version == \"LSTM\":\n",
    "#             output, hidden = self.middle(inputs.view(inputs.shape[0], 1, -1), hidden)\n",
    "        output, hidden = self.middle(inputs.view(inputs.shape[0], 1, -1), hidden)\n",
    "    \n",
    "        output = self.decoder(output.view(inputs.shape[0], -1))\n",
    "\n",
    "        return output, hidden\n",
    "\n",
    "    def init_hidden(self, batch_size):\n",
    "        if self.net_version == \"GRU\":\n",
    "            return torch.zeros(self.n_layers, batch_size, self.hidden_size)\n",
    "        elif self.net_version == \"LSTM\":\n",
    "            return [torch.zeros(self.n_layers, batch_size, self.hidden_size), torch.zeros(self.n_layers, batch_size, self.hidden_size)] # 2 - так как для LSTM идёт hidden в виде (hidden state, )\n",
    "    \n",
    "    def save_model(model, filename='rnn.ckpt'):\n",
    "        checkpoint = {'input_size': model.input_size,\n",
    "                      'hidden_size': model.hidden_size,\n",
    "                      'output_size': model.output_size,\n",
    "                      'net_version': model.net_version,\n",
    "                      'n_layers': model.n_layers,\n",
    "                      'state_dict': model.state_dict()}\n",
    "        with open(filename, 'wb') as f:\n",
    "            torch.save(checkpoint, f)\n",
    "\n",
    "    def load_model(filename):\n",
    "\n",
    "        with open(filename, 'rb') as f:\n",
    "            checkpoint = torch.load(f)\n",
    "\n",
    "        model = RNN(input_size = checkpoint['input_size'], output_size = checkpoint['output_size'], hidden_size=checkpoint['hidden_size'], net_version=checkpoint['net_version'], n_layers=checkpoint['n_layers'])\n",
    "        model.load_state_dict(checkpoint['state_dict'])\n",
    "\n",
    "        return model"
   ]
  },
  {
   "cell_type": "code",
   "execution_count": 392,
   "metadata": {},
   "outputs": [],
   "source": [
    "# training v2\n",
    "def training(net, epochs, optimizer, criterion, loader, device, batch_size):\n",
    "    print(\"Epochs:\", epochs, \"batch_size:\", batch_size, \"device:\", device)\n",
    "    start = time.time()\n",
    "    \n",
    "    losses_avg = []\n",
    "    losses_best = []\n",
    "    net.train()\n",
    "\n",
    "    for epoch in range(1, epochs+1):\n",
    "        print('epoch: ', epoch)\n",
    "        losses = []\n",
    "        \n",
    "#!!!!!!!!!!!!!!!!!!!\n",
    "        hidden = net.init_hidden(batch_size)\n",
    "        if isinstance(net.middle, nn.LSTM): # проверка на слой GRU или LSTM\n",
    "            for i in range(len(hidden)):\n",
    "                hidden[i] = hidden[i].to(device)\n",
    "        else:\n",
    "            hidden = hidden.to(device)\n",
    "\n",
    "            \n",
    "        for i, batch in enumerate(tqdm(loader)): # for inputs, targets in loader:\n",
    "            loss = 0\n",
    "            \n",
    "#!!!!!!!!!!!!!!!!!!!!!\n",
    "            if isinstance(net.middle, nn.LSTM): # проверка на слой GRU или LSTM\n",
    "                for i in range(len(hidden)):\n",
    "                    hidden[i] = hidden[i].detach()\n",
    "            else:\n",
    "                hidden = hidden.detach()\n",
    "\n",
    "                \n",
    "            optimizer.zero_grad()\n",
    "\n",
    "            for chars in range(len(batch[\"inputs\"][0])): # len(batch[\"inputs\"][0]) == chunk_len\n",
    "                # len(batch) == 2 (\"inputs\", \"targets\")\n",
    "                # len(batch[\"inputs\"]) == len(batch[\"targets\"]) == batch_size\n",
    "                # len(batch[\"inputs\"][i]) == len(batch[\"targets\"][i]) == chunk_len, i от 0 до batch_size\n",
    "                # len(batch[\"inputs\"][i][j]) == len(batch[\"targets\"][i][j]) == unique_symbols (число уникальных символов)\n",
    "\n",
    "#!!!!!!!!!!!!!!!!!!!!!\n",
    "                output, h = net(batch['inputs'][:,chars], hidden)\n",
    "                if isinstance(net.middle, nn.LSTM):\n",
    "                    for i in range(len(hidden)):\n",
    "                        hidden[i] = h[i]\n",
    "                else:\n",
    "                    hidden = h\n",
    "                    \n",
    "\n",
    "    #             output_max = torch.LongTensor(batch_size, 1)\n",
    "    #             for i in range(len(output)): # по всем батчам\n",
    "    #                 output_max[i] = output[i].argmax()\n",
    "\n",
    "    #             print(output)\n",
    "    #             print(batch['targets'][:,chars]) # tensor размера batch_size x 98 (из 97 нулей и 1 единицы)\n",
    "\n",
    "                loss += criterion(output, batch['targets'][:,chars])\n",
    "\n",
    "            loss = loss / len(batch[\"inputs\"][0])\n",
    "\n",
    "            loss.backward()\n",
    "            optimizer.step()\n",
    "\n",
    "            loss = loss.cpu().detach().numpy()\n",
    "\n",
    "            # print(\"loss: \", loss)\n",
    "            losses.append(loss)\n",
    "\n",
    "        losses_avg.append(np.mean(losses))\n",
    "        losses_best.append(sorted(losses, reverse=False)[0])  # reverse=False - в порядке возрастания\n",
    "\n",
    "        if epoch%10 == 0:\n",
    "            print(\"Saving...\")\n",
    "#             RNN.save_model(net, f'/content/drive/MyDrive/Универ/TrainedModel_epoch_{epoch}.ckpt')\n",
    "            RNN.save_model(net, f'TrainedModel_epoch_{epoch}.ckpt')\n",
    "    print(\"Training finished, time:\", time.time() - start)\n",
    "    return losses_avg, losses_best, net, hidden"
   ]
  },
  {
   "cell_type": "code",
   "execution_count": 394,
   "metadata": {},
   "outputs": [
    {
     "name": "stdout",
     "output_type": "stream",
     "text": [
      "Epochs: 50 batch_size: 1 device: cuda\n",
      "epoch:  1\n"
     ]
    },
    {
     "name": "stderr",
     "output_type": "stream",
     "text": [
      "100%|████████████████████████████████████████████████████████████████████████████| 27188/27188 [11:22<00:00, 39.83it/s]\n"
     ]
    },
    {
     "name": "stdout",
     "output_type": "stream",
     "text": [
      "epoch:  2\n"
     ]
    },
    {
     "name": "stderr",
     "output_type": "stream",
     "text": [
      "100%|████████████████████████████████████████████████████████████████████████████| 27188/27188 [11:48<00:00, 38.36it/s]\n"
     ]
    },
    {
     "name": "stdout",
     "output_type": "stream",
     "text": [
      "epoch:  3\n"
     ]
    },
    {
     "name": "stderr",
     "output_type": "stream",
     "text": [
      "100%|████████████████████████████████████████████████████████████████████████████| 27188/27188 [11:44<00:00, 38.61it/s]\n"
     ]
    },
    {
     "name": "stdout",
     "output_type": "stream",
     "text": [
      "epoch:  4\n"
     ]
    },
    {
     "name": "stderr",
     "output_type": "stream",
     "text": [
      "100%|████████████████████████████████████████████████████████████████████████████| 27188/27188 [11:54<00:00, 38.05it/s]\n"
     ]
    },
    {
     "name": "stdout",
     "output_type": "stream",
     "text": [
      "epoch:  5\n"
     ]
    },
    {
     "name": "stderr",
     "output_type": "stream",
     "text": [
      "100%|████████████████████████████████████████████████████████████████████████████| 27188/27188 [13:41<00:00, 33.08it/s]\n"
     ]
    },
    {
     "name": "stdout",
     "output_type": "stream",
     "text": [
      "epoch:  6\n"
     ]
    },
    {
     "name": "stderr",
     "output_type": "stream",
     "text": [
      "100%|████████████████████████████████████████████████████████████████████████████| 27188/27188 [19:11<00:00, 23.60it/s]\n"
     ]
    },
    {
     "name": "stdout",
     "output_type": "stream",
     "text": [
      "epoch:  7\n"
     ]
    },
    {
     "name": "stderr",
     "output_type": "stream",
     "text": [
      "100%|████████████████████████████████████████████████████████████████████████████| 27188/27188 [12:05<00:00, 37.48it/s]\n"
     ]
    },
    {
     "name": "stdout",
     "output_type": "stream",
     "text": [
      "epoch:  8\n"
     ]
    },
    {
     "name": "stderr",
     "output_type": "stream",
     "text": [
      "100%|████████████████████████████████████████████████████████████████████████████| 27188/27188 [11:33<00:00, 39.20it/s]\n"
     ]
    },
    {
     "name": "stdout",
     "output_type": "stream",
     "text": [
      "epoch:  9\n"
     ]
    },
    {
     "name": "stderr",
     "output_type": "stream",
     "text": [
      "100%|████████████████████████████████████████████████████████████████████████████| 27188/27188 [12:00<00:00, 37.73it/s]\n"
     ]
    },
    {
     "name": "stdout",
     "output_type": "stream",
     "text": [
      "epoch:  10\n"
     ]
    },
    {
     "name": "stderr",
     "output_type": "stream",
     "text": [
      "100%|████████████████████████████████████████████████████████████████████████████| 27188/27188 [13:02<00:00, 34.73it/s]\n"
     ]
    },
    {
     "name": "stdout",
     "output_type": "stream",
     "text": [
      "Saving...\n",
      "epoch:  11\n"
     ]
    },
    {
     "name": "stderr",
     "output_type": "stream",
     "text": [
      "100%|████████████████████████████████████████████████████████████████████████████| 27188/27188 [25:16<00:00, 17.92it/s]\n"
     ]
    },
    {
     "name": "stdout",
     "output_type": "stream",
     "text": [
      "epoch:  12\n"
     ]
    },
    {
     "name": "stderr",
     "output_type": "stream",
     "text": [
      "100%|████████████████████████████████████████████████████████████████████████████| 27188/27188 [16:38<00:00, 27.22it/s]\n"
     ]
    },
    {
     "name": "stdout",
     "output_type": "stream",
     "text": [
      "epoch:  13\n"
     ]
    },
    {
     "name": "stderr",
     "output_type": "stream",
     "text": [
      "100%|████████████████████████████████████████████████████████████████████████████| 27188/27188 [12:30<00:00, 36.21it/s]\n"
     ]
    },
    {
     "name": "stdout",
     "output_type": "stream",
     "text": [
      "epoch:  14\n"
     ]
    },
    {
     "name": "stderr",
     "output_type": "stream",
     "text": [
      "100%|████████████████████████████████████████████████████████████████████████████| 27188/27188 [11:40<00:00, 38.84it/s]\n"
     ]
    },
    {
     "name": "stdout",
     "output_type": "stream",
     "text": [
      "epoch:  15\n"
     ]
    },
    {
     "name": "stderr",
     "output_type": "stream",
     "text": [
      "100%|████████████████████████████████████████████████████████████████████████████| 27188/27188 [11:57<00:00, 37.90it/s]\n"
     ]
    },
    {
     "name": "stdout",
     "output_type": "stream",
     "text": [
      "epoch:  16\n"
     ]
    },
    {
     "name": "stderr",
     "output_type": "stream",
     "text": [
      "100%|████████████████████████████████████████████████████████████████████████████| 27188/27188 [11:59<00:00, 37.77it/s]\n"
     ]
    },
    {
     "name": "stdout",
     "output_type": "stream",
     "text": [
      "epoch:  17\n"
     ]
    },
    {
     "name": "stderr",
     "output_type": "stream",
     "text": [
      "100%|████████████████████████████████████████████████████████████████████████████| 27188/27188 [12:01<00:00, 37.70it/s]\n"
     ]
    },
    {
     "name": "stdout",
     "output_type": "stream",
     "text": [
      "epoch:  18\n"
     ]
    },
    {
     "name": "stderr",
     "output_type": "stream",
     "text": [
      "100%|████████████████████████████████████████████████████████████████████████████| 27188/27188 [12:04<00:00, 37.51it/s]\n"
     ]
    },
    {
     "name": "stdout",
     "output_type": "stream",
     "text": [
      "epoch:  19\n"
     ]
    },
    {
     "name": "stderr",
     "output_type": "stream",
     "text": [
      "100%|████████████████████████████████████████████████████████████████████████████| 27188/27188 [11:42<00:00, 38.73it/s]\n"
     ]
    },
    {
     "name": "stdout",
     "output_type": "stream",
     "text": [
      "epoch:  20\n"
     ]
    },
    {
     "name": "stderr",
     "output_type": "stream",
     "text": [
      "100%|████████████████████████████████████████████████████████████████████████████| 27188/27188 [11:33<00:00, 39.22it/s]\n"
     ]
    },
    {
     "name": "stdout",
     "output_type": "stream",
     "text": [
      "Saving...\n",
      "epoch:  21\n"
     ]
    },
    {
     "name": "stderr",
     "output_type": "stream",
     "text": [
      " 62%|███████████████████████████████████████████████▎                            | 16926/27188 [07:13<04:23, 39.02it/s]\n"
     ]
    },
    {
     "ename": "KeyboardInterrupt",
     "evalue": "",
     "output_type": "error",
     "traceback": [
      "\u001b[1;31m---------------------------------------------------------------------------\u001b[0m",
      "\u001b[1;31mKeyboardInterrupt\u001b[0m                         Traceback (most recent call last)",
      "Input \u001b[1;32mIn [394]\u001b[0m, in \u001b[0;36m<cell line: 15>\u001b[1;34m()\u001b[0m\n\u001b[0;32m      5\u001b[0m \u001b[38;5;66;03m# net = RNN(unique_symbols, hidden_size, unique_symbols, \"GRU\", n_layers).to(device)\u001b[39;00m\n\u001b[0;32m      7\u001b[0m loader \u001b[38;5;241m=\u001b[39m DataLoader(arxiv_dataset[\u001b[38;5;124m'\u001b[39m\u001b[38;5;124msummary\u001b[39m\u001b[38;5;124m'\u001b[39m], \n\u001b[0;32m      8\u001b[0m                    batch_size, \u001b[38;5;66;03m# как много sample загружать за 1 батч (сколько отдельных summary передаём за раз)\u001b[39;00m\n\u001b[0;32m      9\u001b[0m                    shuffle\u001b[38;5;241m=\u001b[39m\u001b[38;5;28;01mTrue\u001b[39;00m, \u001b[38;5;66;03m# перетасовка данных между эпохами\u001b[39;00m\n\u001b[1;32m   (...)\u001b[0m\n\u001b[0;32m     12\u001b[0m                    drop_last \u001b[38;5;241m=\u001b[39m \u001b[38;5;28;01mTrue\u001b[39;00m, \u001b[38;5;66;03m# удалять ли последний незавершённый batch (если размер датасета не делится на batch_size)\u001b[39;00m\n\u001b[0;32m     13\u001b[0m                    )\n\u001b[1;32m---> 15\u001b[0m l_avg, l_best, net, hidden \u001b[38;5;241m=\u001b[39m \u001b[43mtraining\u001b[49m\u001b[43m(\u001b[49m\u001b[43mnet\u001b[49m\u001b[43m \u001b[49m\u001b[38;5;241;43m=\u001b[39;49m\u001b[43m \u001b[49m\u001b[43mnet\u001b[49m\u001b[43m,\u001b[49m\n\u001b[0;32m     16\u001b[0m \u001b[43m                                     \u001b[49m\u001b[43mepochs\u001b[49m\u001b[43m \u001b[49m\u001b[38;5;241;43m=\u001b[39;49m\u001b[43m \u001b[49m\u001b[43mepochs\u001b[49m\u001b[43m,\u001b[49m\n\u001b[0;32m     17\u001b[0m \u001b[43m                                     \u001b[49m\u001b[43moptimizer\u001b[49m\u001b[43m \u001b[49m\u001b[38;5;241;43m=\u001b[39;49m\u001b[43m \u001b[49m\u001b[43mtorch\u001b[49m\u001b[38;5;241;43m.\u001b[39;49m\u001b[43moptim\u001b[49m\u001b[38;5;241;43m.\u001b[39;49m\u001b[43mAdam\u001b[49m\u001b[43m(\u001b[49m\u001b[43mnet\u001b[49m\u001b[38;5;241;43m.\u001b[39;49m\u001b[43mparameters\u001b[49m\u001b[43m(\u001b[49m\u001b[43m)\u001b[49m\u001b[43m,\u001b[49m\u001b[43m \u001b[49m\u001b[43mlr\u001b[49m\u001b[38;5;241;43m=\u001b[39;49m\u001b[38;5;241;43m1e-4\u001b[39;49m\u001b[43m)\u001b[49m\u001b[43m,\u001b[49m\n\u001b[0;32m     18\u001b[0m \u001b[43m                                     \u001b[49m\u001b[43mcriterion\u001b[49m\u001b[43m \u001b[49m\u001b[38;5;241;43m=\u001b[39;49m\u001b[43m \u001b[49m\u001b[43mnn\u001b[49m\u001b[38;5;241;43m.\u001b[39;49m\u001b[43mCrossEntropyLoss\u001b[49m\u001b[43m(\u001b[49m\u001b[43m)\u001b[49m\u001b[38;5;241;43m.\u001b[39;49m\u001b[43mto\u001b[49m\u001b[43m(\u001b[49m\u001b[43mdevice\u001b[49m\u001b[43m)\u001b[49m\u001b[43m,\u001b[49m\n\u001b[0;32m     19\u001b[0m \u001b[43m                                     \u001b[49m\u001b[43mloader\u001b[49m\u001b[43m \u001b[49m\u001b[38;5;241;43m=\u001b[39;49m\u001b[43m \u001b[49m\u001b[43mloader\u001b[49m\u001b[43m,\u001b[49m\n\u001b[0;32m     20\u001b[0m \u001b[43m                                     \u001b[49m\u001b[43mdevice\u001b[49m\u001b[43m \u001b[49m\u001b[38;5;241;43m=\u001b[39;49m\u001b[43m \u001b[49m\u001b[43mtorch\u001b[49m\u001b[38;5;241;43m.\u001b[39;49m\u001b[43mdevice\u001b[49m\u001b[43m(\u001b[49m\u001b[38;5;124;43m\"\u001b[39;49m\u001b[38;5;124;43mcuda\u001b[39;49m\u001b[38;5;124;43m\"\u001b[39;49m\u001b[43m)\u001b[49m\u001b[43m,\u001b[49m\n\u001b[0;32m     21\u001b[0m \u001b[43m                                     \u001b[49m\u001b[43mbatch_size\u001b[49m\u001b[38;5;241;43m=\u001b[39;49m\u001b[43mbatch_size\u001b[49m\u001b[43m)\u001b[49m\n",
      "Input \u001b[1;32mIn [392]\u001b[0m, in \u001b[0;36mtraining\u001b[1;34m(net, epochs, optimizer, criterion, loader, device, batch_size)\u001b[0m\n\u001b[0;32m     60\u001b[0m loss \u001b[38;5;241m=\u001b[39m loss \u001b[38;5;241m/\u001b[39m \u001b[38;5;28mlen\u001b[39m(batch[\u001b[38;5;124m\"\u001b[39m\u001b[38;5;124minputs\u001b[39m\u001b[38;5;124m\"\u001b[39m][\u001b[38;5;241m0\u001b[39m])\n\u001b[0;32m     62\u001b[0m loss\u001b[38;5;241m.\u001b[39mbackward()\n\u001b[1;32m---> 63\u001b[0m \u001b[43moptimizer\u001b[49m\u001b[38;5;241;43m.\u001b[39;49m\u001b[43mstep\u001b[49m\u001b[43m(\u001b[49m\u001b[43m)\u001b[49m\n\u001b[0;32m     65\u001b[0m loss \u001b[38;5;241m=\u001b[39m loss\u001b[38;5;241m.\u001b[39mcpu()\u001b[38;5;241m.\u001b[39mdetach()\u001b[38;5;241m.\u001b[39mnumpy()\n\u001b[0;32m     67\u001b[0m \u001b[38;5;66;03m# print(\"loss: \", loss)\u001b[39;00m\n",
      "File \u001b[1;32m~\\anaconda3\\envs\\gpu\\lib\\site-packages\\torch\\optim\\optimizer.py:140\u001b[0m, in \u001b[0;36mOptimizer._hook_for_profile.<locals>.profile_hook_step.<locals>.wrapper\u001b[1;34m(*args, **kwargs)\u001b[0m\n\u001b[0;32m    138\u001b[0m profile_name \u001b[38;5;241m=\u001b[39m \u001b[38;5;124m\"\u001b[39m\u001b[38;5;124mOptimizer.step#\u001b[39m\u001b[38;5;132;01m{}\u001b[39;00m\u001b[38;5;124m.step\u001b[39m\u001b[38;5;124m\"\u001b[39m\u001b[38;5;241m.\u001b[39mformat(obj\u001b[38;5;241m.\u001b[39m\u001b[38;5;18m__class__\u001b[39m\u001b[38;5;241m.\u001b[39m\u001b[38;5;18m__name__\u001b[39m)\n\u001b[0;32m    139\u001b[0m \u001b[38;5;28;01mwith\u001b[39;00m torch\u001b[38;5;241m.\u001b[39mautograd\u001b[38;5;241m.\u001b[39mprofiler\u001b[38;5;241m.\u001b[39mrecord_function(profile_name):\n\u001b[1;32m--> 140\u001b[0m     out \u001b[38;5;241m=\u001b[39m func(\u001b[38;5;241m*\u001b[39margs, \u001b[38;5;241m*\u001b[39m\u001b[38;5;241m*\u001b[39mkwargs)\n\u001b[0;32m    141\u001b[0m     obj\u001b[38;5;241m.\u001b[39m_optimizer_step_code()\n\u001b[0;32m    142\u001b[0m     \u001b[38;5;28;01mreturn\u001b[39;00m out\n",
      "File \u001b[1;32m~\\anaconda3\\envs\\gpu\\lib\\site-packages\\torch\\optim\\optimizer.py:23\u001b[0m, in \u001b[0;36m_use_grad_for_differentiable.<locals>._use_grad\u001b[1;34m(self, *args, **kwargs)\u001b[0m\n\u001b[0;32m     21\u001b[0m \u001b[38;5;28;01mtry\u001b[39;00m:\n\u001b[0;32m     22\u001b[0m     torch\u001b[38;5;241m.\u001b[39mset_grad_enabled(\u001b[38;5;28mself\u001b[39m\u001b[38;5;241m.\u001b[39mdefaults[\u001b[38;5;124m'\u001b[39m\u001b[38;5;124mdifferentiable\u001b[39m\u001b[38;5;124m'\u001b[39m])\n\u001b[1;32m---> 23\u001b[0m     ret \u001b[38;5;241m=\u001b[39m func(\u001b[38;5;28mself\u001b[39m, \u001b[38;5;241m*\u001b[39margs, \u001b[38;5;241m*\u001b[39m\u001b[38;5;241m*\u001b[39mkwargs)\n\u001b[0;32m     24\u001b[0m \u001b[38;5;28;01mfinally\u001b[39;00m:\n\u001b[0;32m     25\u001b[0m     torch\u001b[38;5;241m.\u001b[39mset_grad_enabled(prev_grad)\n",
      "File \u001b[1;32m~\\anaconda3\\envs\\gpu\\lib\\site-packages\\torch\\optim\\adam.py:234\u001b[0m, in \u001b[0;36mAdam.step\u001b[1;34m(self, closure, grad_scaler)\u001b[0m\n\u001b[0;32m    231\u001b[0m                 \u001b[38;5;28;01mraise\u001b[39;00m \u001b[38;5;167;01mRuntimeError\u001b[39;00m(\u001b[38;5;124m'\u001b[39m\u001b[38;5;124m`requires_grad` is not supported for `step` in differentiable mode\u001b[39m\u001b[38;5;124m'\u001b[39m)\n\u001b[0;32m    232\u001b[0m             state_steps\u001b[38;5;241m.\u001b[39mappend(state[\u001b[38;5;124m'\u001b[39m\u001b[38;5;124mstep\u001b[39m\u001b[38;5;124m'\u001b[39m])\n\u001b[1;32m--> 234\u001b[0m     \u001b[43madam\u001b[49m\u001b[43m(\u001b[49m\u001b[43mparams_with_grad\u001b[49m\u001b[43m,\u001b[49m\n\u001b[0;32m    235\u001b[0m \u001b[43m         \u001b[49m\u001b[43mgrads\u001b[49m\u001b[43m,\u001b[49m\n\u001b[0;32m    236\u001b[0m \u001b[43m         \u001b[49m\u001b[43mexp_avgs\u001b[49m\u001b[43m,\u001b[49m\n\u001b[0;32m    237\u001b[0m \u001b[43m         \u001b[49m\u001b[43mexp_avg_sqs\u001b[49m\u001b[43m,\u001b[49m\n\u001b[0;32m    238\u001b[0m \u001b[43m         \u001b[49m\u001b[43mmax_exp_avg_sqs\u001b[49m\u001b[43m,\u001b[49m\n\u001b[0;32m    239\u001b[0m \u001b[43m         \u001b[49m\u001b[43mstate_steps\u001b[49m\u001b[43m,\u001b[49m\n\u001b[0;32m    240\u001b[0m \u001b[43m         \u001b[49m\u001b[43mamsgrad\u001b[49m\u001b[38;5;241;43m=\u001b[39;49m\u001b[43mgroup\u001b[49m\u001b[43m[\u001b[49m\u001b[38;5;124;43m'\u001b[39;49m\u001b[38;5;124;43mamsgrad\u001b[39;49m\u001b[38;5;124;43m'\u001b[39;49m\u001b[43m]\u001b[49m\u001b[43m,\u001b[49m\n\u001b[0;32m    241\u001b[0m \u001b[43m         \u001b[49m\u001b[43mbeta1\u001b[49m\u001b[38;5;241;43m=\u001b[39;49m\u001b[43mbeta1\u001b[49m\u001b[43m,\u001b[49m\n\u001b[0;32m    242\u001b[0m \u001b[43m         \u001b[49m\u001b[43mbeta2\u001b[49m\u001b[38;5;241;43m=\u001b[39;49m\u001b[43mbeta2\u001b[49m\u001b[43m,\u001b[49m\n\u001b[0;32m    243\u001b[0m \u001b[43m         \u001b[49m\u001b[43mlr\u001b[49m\u001b[38;5;241;43m=\u001b[39;49m\u001b[43mgroup\u001b[49m\u001b[43m[\u001b[49m\u001b[38;5;124;43m'\u001b[39;49m\u001b[38;5;124;43mlr\u001b[39;49m\u001b[38;5;124;43m'\u001b[39;49m\u001b[43m]\u001b[49m\u001b[43m,\u001b[49m\n\u001b[0;32m    244\u001b[0m \u001b[43m         \u001b[49m\u001b[43mweight_decay\u001b[49m\u001b[38;5;241;43m=\u001b[39;49m\u001b[43mgroup\u001b[49m\u001b[43m[\u001b[49m\u001b[38;5;124;43m'\u001b[39;49m\u001b[38;5;124;43mweight_decay\u001b[39;49m\u001b[38;5;124;43m'\u001b[39;49m\u001b[43m]\u001b[49m\u001b[43m,\u001b[49m\n\u001b[0;32m    245\u001b[0m \u001b[43m         \u001b[49m\u001b[43meps\u001b[49m\u001b[38;5;241;43m=\u001b[39;49m\u001b[43mgroup\u001b[49m\u001b[43m[\u001b[49m\u001b[38;5;124;43m'\u001b[39;49m\u001b[38;5;124;43meps\u001b[39;49m\u001b[38;5;124;43m'\u001b[39;49m\u001b[43m]\u001b[49m\u001b[43m,\u001b[49m\n\u001b[0;32m    246\u001b[0m \u001b[43m         \u001b[49m\u001b[43mmaximize\u001b[49m\u001b[38;5;241;43m=\u001b[39;49m\u001b[43mgroup\u001b[49m\u001b[43m[\u001b[49m\u001b[38;5;124;43m'\u001b[39;49m\u001b[38;5;124;43mmaximize\u001b[39;49m\u001b[38;5;124;43m'\u001b[39;49m\u001b[43m]\u001b[49m\u001b[43m,\u001b[49m\n\u001b[0;32m    247\u001b[0m \u001b[43m         \u001b[49m\u001b[43mforeach\u001b[49m\u001b[38;5;241;43m=\u001b[39;49m\u001b[43mgroup\u001b[49m\u001b[43m[\u001b[49m\u001b[38;5;124;43m'\u001b[39;49m\u001b[38;5;124;43mforeach\u001b[39;49m\u001b[38;5;124;43m'\u001b[39;49m\u001b[43m]\u001b[49m\u001b[43m,\u001b[49m\n\u001b[0;32m    248\u001b[0m \u001b[43m         \u001b[49m\u001b[43mcapturable\u001b[49m\u001b[38;5;241;43m=\u001b[39;49m\u001b[43mgroup\u001b[49m\u001b[43m[\u001b[49m\u001b[38;5;124;43m'\u001b[39;49m\u001b[38;5;124;43mcapturable\u001b[39;49m\u001b[38;5;124;43m'\u001b[39;49m\u001b[43m]\u001b[49m\u001b[43m,\u001b[49m\n\u001b[0;32m    249\u001b[0m \u001b[43m         \u001b[49m\u001b[43mdifferentiable\u001b[49m\u001b[38;5;241;43m=\u001b[39;49m\u001b[43mgroup\u001b[49m\u001b[43m[\u001b[49m\u001b[38;5;124;43m'\u001b[39;49m\u001b[38;5;124;43mdifferentiable\u001b[39;49m\u001b[38;5;124;43m'\u001b[39;49m\u001b[43m]\u001b[49m\u001b[43m,\u001b[49m\n\u001b[0;32m    250\u001b[0m \u001b[43m         \u001b[49m\u001b[43mfused\u001b[49m\u001b[38;5;241;43m=\u001b[39;49m\u001b[43mgroup\u001b[49m\u001b[43m[\u001b[49m\u001b[38;5;124;43m'\u001b[39;49m\u001b[38;5;124;43mfused\u001b[39;49m\u001b[38;5;124;43m'\u001b[39;49m\u001b[43m]\u001b[49m\u001b[43m,\u001b[49m\n\u001b[0;32m    251\u001b[0m \u001b[43m         \u001b[49m\u001b[43mgrad_scale\u001b[49m\u001b[38;5;241;43m=\u001b[39;49m\u001b[43mgrad_scale\u001b[49m\u001b[43m,\u001b[49m\n\u001b[0;32m    252\u001b[0m \u001b[43m         \u001b[49m\u001b[43mfound_inf\u001b[49m\u001b[38;5;241;43m=\u001b[39;49m\u001b[43mfound_inf\u001b[49m\u001b[43m)\u001b[49m\n\u001b[0;32m    254\u001b[0m \u001b[38;5;28;01mreturn\u001b[39;00m loss\n",
      "File \u001b[1;32m~\\anaconda3\\envs\\gpu\\lib\\site-packages\\torch\\optim\\adam.py:300\u001b[0m, in \u001b[0;36madam\u001b[1;34m(params, grads, exp_avgs, exp_avg_sqs, max_exp_avg_sqs, state_steps, foreach, capturable, differentiable, fused, grad_scale, found_inf, amsgrad, beta1, beta2, lr, weight_decay, eps, maximize)\u001b[0m\n\u001b[0;32m    297\u001b[0m \u001b[38;5;28;01melse\u001b[39;00m:\n\u001b[0;32m    298\u001b[0m     func \u001b[38;5;241m=\u001b[39m _single_tensor_adam\n\u001b[1;32m--> 300\u001b[0m \u001b[43mfunc\u001b[49m\u001b[43m(\u001b[49m\u001b[43mparams\u001b[49m\u001b[43m,\u001b[49m\n\u001b[0;32m    301\u001b[0m \u001b[43m     \u001b[49m\u001b[43mgrads\u001b[49m\u001b[43m,\u001b[49m\n\u001b[0;32m    302\u001b[0m \u001b[43m     \u001b[49m\u001b[43mexp_avgs\u001b[49m\u001b[43m,\u001b[49m\n\u001b[0;32m    303\u001b[0m \u001b[43m     \u001b[49m\u001b[43mexp_avg_sqs\u001b[49m\u001b[43m,\u001b[49m\n\u001b[0;32m    304\u001b[0m \u001b[43m     \u001b[49m\u001b[43mmax_exp_avg_sqs\u001b[49m\u001b[43m,\u001b[49m\n\u001b[0;32m    305\u001b[0m \u001b[43m     \u001b[49m\u001b[43mstate_steps\u001b[49m\u001b[43m,\u001b[49m\n\u001b[0;32m    306\u001b[0m \u001b[43m     \u001b[49m\u001b[43mamsgrad\u001b[49m\u001b[38;5;241;43m=\u001b[39;49m\u001b[43mamsgrad\u001b[49m\u001b[43m,\u001b[49m\n\u001b[0;32m    307\u001b[0m \u001b[43m     \u001b[49m\u001b[43mbeta1\u001b[49m\u001b[38;5;241;43m=\u001b[39;49m\u001b[43mbeta1\u001b[49m\u001b[43m,\u001b[49m\n\u001b[0;32m    308\u001b[0m \u001b[43m     \u001b[49m\u001b[43mbeta2\u001b[49m\u001b[38;5;241;43m=\u001b[39;49m\u001b[43mbeta2\u001b[49m\u001b[43m,\u001b[49m\n\u001b[0;32m    309\u001b[0m \u001b[43m     \u001b[49m\u001b[43mlr\u001b[49m\u001b[38;5;241;43m=\u001b[39;49m\u001b[43mlr\u001b[49m\u001b[43m,\u001b[49m\n\u001b[0;32m    310\u001b[0m \u001b[43m     \u001b[49m\u001b[43mweight_decay\u001b[49m\u001b[38;5;241;43m=\u001b[39;49m\u001b[43mweight_decay\u001b[49m\u001b[43m,\u001b[49m\n\u001b[0;32m    311\u001b[0m \u001b[43m     \u001b[49m\u001b[43meps\u001b[49m\u001b[38;5;241;43m=\u001b[39;49m\u001b[43meps\u001b[49m\u001b[43m,\u001b[49m\n\u001b[0;32m    312\u001b[0m \u001b[43m     \u001b[49m\u001b[43mmaximize\u001b[49m\u001b[38;5;241;43m=\u001b[39;49m\u001b[43mmaximize\u001b[49m\u001b[43m,\u001b[49m\n\u001b[0;32m    313\u001b[0m \u001b[43m     \u001b[49m\u001b[43mcapturable\u001b[49m\u001b[38;5;241;43m=\u001b[39;49m\u001b[43mcapturable\u001b[49m\u001b[43m,\u001b[49m\n\u001b[0;32m    314\u001b[0m \u001b[43m     \u001b[49m\u001b[43mdifferentiable\u001b[49m\u001b[38;5;241;43m=\u001b[39;49m\u001b[43mdifferentiable\u001b[49m\u001b[43m,\u001b[49m\n\u001b[0;32m    315\u001b[0m \u001b[43m     \u001b[49m\u001b[43mgrad_scale\u001b[49m\u001b[38;5;241;43m=\u001b[39;49m\u001b[43mgrad_scale\u001b[49m\u001b[43m,\u001b[49m\n\u001b[0;32m    316\u001b[0m \u001b[43m     \u001b[49m\u001b[43mfound_inf\u001b[49m\u001b[38;5;241;43m=\u001b[39;49m\u001b[43mfound_inf\u001b[49m\u001b[43m)\u001b[49m\n",
      "File \u001b[1;32m~\\anaconda3\\envs\\gpu\\lib\\site-packages\\torch\\optim\\adam.py:412\u001b[0m, in \u001b[0;36m_single_tensor_adam\u001b[1;34m(params, grads, exp_avgs, exp_avg_sqs, max_exp_avg_sqs, state_steps, grad_scale, found_inf, amsgrad, beta1, beta2, lr, weight_decay, eps, maximize, capturable, differentiable)\u001b[0m\n\u001b[0;32m    409\u001b[0m \u001b[38;5;28;01melse\u001b[39;00m:\n\u001b[0;32m    410\u001b[0m     denom \u001b[38;5;241m=\u001b[39m (exp_avg_sq\u001b[38;5;241m.\u001b[39msqrt() \u001b[38;5;241m/\u001b[39m bias_correction2_sqrt)\u001b[38;5;241m.\u001b[39madd_(eps)\n\u001b[1;32m--> 412\u001b[0m \u001b[43mparam\u001b[49m\u001b[38;5;241;43m.\u001b[39;49m\u001b[43maddcdiv_\u001b[49m\u001b[43m(\u001b[49m\u001b[43mexp_avg\u001b[49m\u001b[43m,\u001b[49m\u001b[43m \u001b[49m\u001b[43mdenom\u001b[49m\u001b[43m,\u001b[49m\u001b[43m \u001b[49m\u001b[43mvalue\u001b[49m\u001b[38;5;241;43m=\u001b[39;49m\u001b[38;5;241;43m-\u001b[39;49m\u001b[43mstep_size\u001b[49m\u001b[43m)\u001b[49m\n",
      "\u001b[1;31mKeyboardInterrupt\u001b[0m: "
     ]
    }
   ],
   "source": [
    "net = RNN(unique_symbols, hidden_size, unique_symbols, \"LSTM\", n_layers).to(device)\n",
    "# net = RNN(unique_symbols, hidden_size, unique_symbols, \"GRU\", n_layers).to(device)\n",
    "\n",
    "loader = DataLoader(arxiv_dataset['summary'], \n",
    "                   batch_size, # как много sample загружать за 1 батч (сколько отдельных summary передаём за раз)\n",
    "                   shuffle=True, # перетасовка данных между эпохами\n",
    "#                            num_workers=-1,\n",
    "                   collate_fn=collate_fn, # функция-обработчик датасета (объединяет список сэмплов, чтобы сформировать мини-партию тензоров)\n",
    "                   drop_last = True, # удалять ли последний незавершённый batch (если размер датасета не делится на batch_size)\n",
    "                   )\n",
    "\n",
    "l_avg, l_best, net, hidden = training(net = net,\n",
    "                                     epochs = epochs,\n",
    "                                     optimizer = torch.optim.Adam(net.parameters(), lr=1e-4),\n",
    "                                     criterion = nn.CrossEntropyLoss().to(device),\n",
    "                                     loader = loader,\n",
    "                                     device = torch.device(\"cuda\"),\n",
    "                                     batch_size=batch_size)"
   ]
  },
  {
   "cell_type": "code",
   "execution_count": 331,
   "metadata": {},
   "outputs": [
    {
     "data": {
      "image/png": "[encoded data removed]",
      "text/plain": [
       "<Figure size 648x648 with 1 Axes>"
      ]
     },
     "metadata": {
      "needs_background": "light"
     },
     "output_type": "display_data"
    }
   ],
   "source": [
    "plt.figure(figsize=(9, 9))\n",
    "plt.title(\"Изменение среднего значения loss функции\")\n",
    "plt.xlabel(\"Эпоха\")\n",
    "plt.ylabel(\"loss\")\n",
    "plt.plot(l_avg)\n",
    "plt.show()"
   ]
  },
  {
   "cell_type": "code",
   "execution_count": 330,
   "metadata": {},
   "outputs": [
    {
     "name": "stdout",
     "output_type": "stream",
     "text": [
      "In this researchis proposed and the propose the proposed and the problem and the constrate a network of the set in the simplement and the proposed and the state the sension and the algorithm and the s \n",
      "\n"
     ]
    }
   ],
   "source": [
    "print(generate(net, device, text_dataset, 'In this research', 200, .2), '\\n')"
   ]
  },
  {
   "cell_type": "code",
   "execution_count": null,
   "metadata": {},
   "outputs": [],
   "source": [
    "# вывод слоёв модели\n",
    "layers = [module for module in net.modules()]\n",
    "print(layers)"
   ]
  },
  {
   "cell_type": "code",
   "execution_count": 111,
   "metadata": {},
   "outputs": [
    {
     "name": "stdout",
     "output_type": "stream",
     "text": [
      "inputs: tensor([[0, 0, 0, 0, 0, 0, 0, 0, 0, 0, 0, 0, 0, 0, 0, 0, 0, 0, 0, 0, 0, 0, 0, 0,\n",
      "         0, 0, 1, 0, 0, 0, 0, 0, 0, 0, 0, 0, 0, 0, 0, 0, 0, 0, 0, 0, 0, 0, 0, 0,\n",
      "         0, 0, 0, 0, 0, 0, 0, 0, 0, 0, 0, 0, 0, 0, 0, 0, 0, 0, 0, 0, 0, 0, 0, 0,\n",
      "         0, 0, 0, 0, 0, 0, 0, 0, 0, 0, 0, 0, 0, 0, 0, 0, 0, 0, 0, 0, 0, 0, 0, 0,\n",
      "         0, 0],\n",
      "        [0, 0, 0, 0, 0, 0, 0, 0, 0, 0, 0, 0, 0, 0, 1, 0, 0, 0, 0, 0, 0, 0, 0, 0,\n",
      "         0, 0, 0, 0, 0, 0, 0, 0, 0, 0, 0, 0, 0, 0, 0, 0, 0, 0, 0, 0, 0, 0, 0, 0,\n",
      "         0, 0, 0, 0, 0, 0, 0, 0, 0, 0, 0, 0, 0, 0, 0, 0, 0, 0, 0, 0, 0, 0, 0, 0,\n",
      "         0, 0, 0, 0, 0, 0, 0, 0, 0, 0, 0, 0, 0, 0, 0, 0, 0, 0, 0, 0, 0, 0, 0, 0,\n",
      "         0, 0]], dtype=torch.int32)\n",
      "inputs shape: torch.Size([2, 98])\n",
      "================embedding==================\n",
      "inputs after encoder: tensor([[[ 0.4356, -0.9803, -1.2567,  ...,  0.1187, -0.9767, -0.4646],\n",
      "         [ 0.4356, -0.9803, -1.2567,  ...,  0.1187, -0.9767, -0.4646],\n",
      "         [ 0.4356, -0.9803, -1.2567,  ...,  0.1187, -0.9767, -0.4646],\n",
      "         ...,\n",
      "         [ 0.4356, -0.9803, -1.2567,  ...,  0.1187, -0.9767, -0.4646],\n",
      "         [ 0.4356, -0.9803, -1.2567,  ...,  0.1187, -0.9767, -0.4646],\n",
      "         [ 0.4356, -0.9803, -1.2567,  ...,  0.1187, -0.9767, -0.4646]],\n",
      "\n",
      "        [[ 0.4356, -0.9803, -1.2567,  ...,  0.1187, -0.9767, -0.4646],\n",
      "         [ 0.4356, -0.9803, -1.2567,  ...,  0.1187, -0.9767, -0.4646],\n",
      "         [ 0.4356, -0.9803, -1.2567,  ...,  0.1187, -0.9767, -0.4646],\n",
      "         ...,\n",
      "         [ 0.4356, -0.9803, -1.2567,  ...,  0.1187, -0.9767, -0.4646],\n",
      "         [ 0.4356, -0.9803, -1.2567,  ...,  0.1187, -0.9767, -0.4646],\n",
      "         [ 0.4356, -0.9803, -1.2567,  ...,  0.1187, -0.9767, -0.4646]]],\n",
      "       grad_fn=<EmbeddingBackward0>)\n",
      "inputs shape after encoder: torch.Size([2, 98, 100])\n",
      "================summ==================\n",
      "inputs after encoder sum: tensor([[  41.9089,  -95.8288, -121.9389,  205.1568, -211.4885,    4.1389,\n",
      "          156.8537, -208.9290,   39.1764,   67.3370,  210.5231,  -13.1926,\n",
      "           37.6068,   51.2819, -180.3040,   21.7463,   40.3050, -164.9372,\n",
      "           12.9151,  -24.2895, -187.6484,   59.4837,  122.9900,   61.2236,\n",
      "           77.1024,  -78.5255,   75.2005, -106.2032,   30.0436, -121.4895,\n",
      "         -133.6242, -175.2972, -153.3303,   11.5256,   22.4536,  -64.1207,\n",
      "           43.2573,  -67.2206,  119.9967,   43.2087,  -43.9726,   18.0049,\n",
      "           54.1221,  -20.9824,    1.3072,  100.4303,   72.7858, -216.4696,\n",
      "           36.5045,   32.2800,  116.7748,  -43.4014,   -0.5001,   16.4948,\n",
      "           47.7299,  124.1959,  -67.8569, -206.9363,  -61.8161,  -66.3890,\n",
      "          -95.4539,   28.6961,  -73.6950,  -84.4019,  -42.7995, -127.3665,\n",
      "          -81.1717,   44.9930, -160.1744, -174.2526,  190.8100,  -98.4927,\n",
      "          109.2464,   49.7766,  -45.0742,   58.2410,  -52.7275,   -5.6973,\n",
      "          -52.2859,   45.3165,    9.0745,   46.7418,  112.7881,    0.9520,\n",
      "          -96.9906,  117.0418,   56.4669,   26.9162,   41.3670,  -32.1125,\n",
      "           15.8720,  -57.5464,  -47.0688,  -75.3333,   20.6951,    9.8866,\n",
      "          -84.9026,    9.3171,  -93.4081,  -45.6172],\n",
      "        [  41.9089,  -95.8288, -121.9389,  205.1568, -211.4885,    4.1389,\n",
      "          156.8537, -208.9290,   39.1764,   67.3370,  210.5231,  -13.1926,\n",
      "           37.6068,   51.2819, -180.3040,   21.7463,   40.3050, -164.9372,\n",
      "           12.9151,  -24.2895, -187.6484,   59.4837,  122.9900,   61.2236,\n",
      "           77.1024,  -78.5255,   75.2005, -106.2032,   30.0436, -121.4895,\n",
      "         -133.6242, -175.2972, -153.3303,   11.5256,   22.4536,  -64.1207,\n",
      "           43.2573,  -67.2206,  119.9967,   43.2087,  -43.9726,   18.0049,\n",
      "           54.1221,  -20.9824,    1.3072,  100.4303,   72.7858, -216.4696,\n",
      "           36.5045,   32.2800,  116.7748,  -43.4014,   -0.5001,   16.4948,\n",
      "           47.7299,  124.1959,  -67.8569, -206.9363,  -61.8161,  -66.3890,\n",
      "          -95.4539,   28.6961,  -73.6950,  -84.4019,  -42.7995, -127.3665,\n",
      "          -81.1717,   44.9930, -160.1744, -174.2526,  190.8100,  -98.4927,\n",
      "          109.2464,   49.7766,  -45.0742,   58.2410,  -52.7275,   -5.6973,\n",
      "          -52.2859,   45.3165,    9.0745,   46.7418,  112.7881,    0.9520,\n",
      "          -96.9906,  117.0418,   56.4669,   26.9162,   41.3670,  -32.1125,\n",
      "           15.8720,  -57.5464,  -47.0688,  -75.3333,   20.6951,    9.8866,\n",
      "          -84.9026,    9.3171,  -93.4081,  -45.6172]], grad_fn=<CopySlices>)\n",
      "inputs shape after encoder sum: torch.Size([2, 100])\n",
      "================linear:==================\n",
      "inputs after linear: tensor([[ 6.3372e-02, -2.2903e-02, -6.8538e-02,  4.4884e-02,  6.6925e-02,\n",
      "          4.6758e-02,  4.9281e-02, -1.4369e-01,  2.1873e-02, -2.3102e-02,\n",
      "         -3.0550e-02, -7.6608e-02, -7.3967e-02,  1.8575e-01, -1.3720e-01,\n",
      "          3.3381e-02, -7.7375e-02, -8.7767e-02,  2.0226e-02, -6.1886e-02,\n",
      "         -1.3461e-01,  1.1078e-01,  8.4325e-04, -2.6758e-02, -7.6264e-02,\n",
      "         -6.6207e-02,  1.7107e-01, -9.5429e-03,  7.1411e-02, -1.3582e-01,\n",
      "          1.1082e-01, -7.5491e-02, -8.8497e-02,  1.4481e-01,  1.8535e-01,\n",
      "         -5.4393e-02, -1.9918e-02,  1.0186e-01,  8.7755e-02, -2.5149e-02,\n",
      "         -4.9699e-02, -7.7994e-02,  8.2704e-02,  9.1785e-02,  1.1338e-01,\n",
      "          3.6902e-02,  1.1056e-01,  1.4436e-02, -1.4214e-02, -1.6192e-01,\n",
      "         -6.4191e-02,  2.4484e-02,  3.8142e-02, -6.4645e-02,  1.9184e-02,\n",
      "          1.6714e-02, -3.8465e-02, -8.0510e-03,  1.7998e-01,  1.4510e-01,\n",
      "         -5.9917e-02, -8.4571e-02,  1.0968e-01,  6.9410e-03, -2.6325e-02,\n",
      "          1.0769e-01, -1.3350e-02,  2.8249e-02, -5.2564e-02, -3.0335e-02,\n",
      "         -6.8576e-02,  7.9836e-02, -4.7998e-02, -1.4197e-01,  3.9961e-02,\n",
      "         -1.4952e-01,  3.3732e-02,  1.4804e-01,  7.4383e-02,  8.3003e-02,\n",
      "          5.8212e-02, -1.6546e-01, -5.5033e-02, -1.4870e-02, -1.3415e-01,\n",
      "          1.2109e-01,  2.9929e-02, -2.0154e-02, -8.3570e-02, -1.1894e-01,\n",
      "         -2.8842e-02, -1.6247e-01,  2.0856e-02, -3.0167e-02,  5.9983e-02,\n",
      "         -9.5999e-02,  4.2314e-02, -3.4040e-02,  6.5767e-02,  2.2813e-02],\n",
      "        [ 1.0871e-01, -6.6254e-02, -1.2349e-01,  7.4314e-02,  1.0816e-01,\n",
      "         -2.7841e-02, -1.0726e-02, -4.9199e-02,  1.7427e-02, -4.6113e-02,\n",
      "          1.2129e-01, -3.9908e-02,  3.1821e-02,  1.3341e-01, -4.8196e-02,\n",
      "         -4.6558e-02, -3.5369e-02, -9.9227e-02, -8.9922e-02, -4.8001e-02,\n",
      "         -7.6384e-02,  1.1580e-01, -1.9259e-02, -1.8837e-01,  5.4927e-02,\n",
      "          2.3867e-02, -1.7848e-04,  1.6192e-01, -4.0055e-02, -1.7835e-01,\n",
      "          1.2518e-01, -7.0221e-02,  9.3579e-02, -1.3294e-02,  1.2595e-01,\n",
      "         -2.7439e-03,  1.2409e-01,  7.6503e-02, -9.2921e-02, -1.6909e-03,\n",
      "         -3.5089e-02, -6.8455e-02,  3.1397e-03,  9.5804e-02,  5.2900e-02,\n",
      "          2.9411e-02,  2.8795e-02, -1.7017e-02,  1.3989e-01, -5.6620e-02,\n",
      "          2.6756e-02, -1.3610e-01, -8.7608e-03, -5.6881e-02,  1.9031e-01,\n",
      "         -1.4901e-01,  3.7245e-02,  1.6602e-02,  1.0307e-01,  1.0775e-01,\n",
      "         -9.2950e-02,  8.3252e-02, -4.5376e-02,  4.2217e-02, -1.0501e-01,\n",
      "          9.6375e-02, -9.9237e-02, -7.7239e-02, -4.4866e-03, -1.9570e-02,\n",
      "          6.2897e-02,  1.1661e-02, -1.5025e-01, -1.0101e-01,  1.3543e-01,\n",
      "         -7.7462e-02, -7.5468e-02,  1.9496e-03, -3.7572e-02, -1.3444e-02,\n",
      "         -6.5216e-02, -1.5959e-01, -1.0974e-01, -8.5682e-02, -9.0639e-02,\n",
      "         -3.8107e-02, -5.1453e-02,  3.5847e-02, -2.0545e-02,  4.8297e-02,\n",
      "         -1.8356e-02, -4.6306e-02, -6.7166e-03,  8.9067e-02,  1.1380e-01,\n",
      "         -9.8687e-02, -9.9396e-02, -3.3067e-02,  1.5402e-01,  2.3220e-02]],\n",
      "       grad_fn=<AddmmBackward0>)\n",
      "inputs shapes after linear: torch.Size([2, 100])\n"
     ]
    }
   ],
   "source": [
    "# collate_fn testing\n",
    "# # input_size = 98 # torch.Size([2, 98, 100])\n",
    "# # input_size = 2 # torch.Size([2, 98, 100])\n",
    "# # input_size = 1 # ошибка\n",
    "\n",
    "# btc = collate_fn(arxiv_dataset[\"summary\"][:2]) # берём батч размера batch_size=2\n",
    "\n",
    "# input_size = 98 # == число уникальных символов в датасете\n",
    "# hidden_size = 100\n",
    "# batch_size = 2\n",
    "# encoderrrr = nn.Embedding(input_size, hidden_size)\n",
    "# linearrrr = nn.Linear(input_size, hidden_size)\n",
    "# for chars in range(1): # для примера, берём только одну, первую букву\n",
    "#     inputs = btc['inputs'][:,chars].cpu()\n",
    "#     print(\"inputs:\", inputs) # \n",
    "#     print(\"inputs shape:\", inputs.shape)\n",
    "    \n",
    "#     print(\"================embedding==================\")\n",
    "# #     print(\"inputs[0]:\\n\", inputs[0])\n",
    "# #     print(\"inputs.view(batch_size, -1):\\n\", inputs.view(batch_size, -1))\n",
    "#     encoded = encoderrrr(inputs.view(batch_size,-1)) # преобразовывается каждый элемент one-hot вектора в вектор hidden для всех батчей (2x98-->2x98x100)\n",
    "# #     encoded = encoderrrr(inputs)\n",
    "#     print(\"inputs after encoder:\", encoded)\n",
    "#     print(\"inputs shape after encoder:\", encoded.shape)\n",
    "    \n",
    "#     print(\"================summ==================\")\n",
    "#     summed = torch.zeros(len(inputs), 100)\n",
    "#     for mini_batch in range(len(inputs)):\n",
    "# #         encoded[mini_batch] = encoded[mini_batch].sum(0)\n",
    "# #         print(\"inputs after encoder sum:\", encoded[mini_batch].sum(0))\n",
    "#         summed[mini_batch] = encoded[mini_batch].sum(0)\n",
    "#     print(\"inputs after encoder sum:\", summed)\n",
    "#     print(\"inputs shape after encoder sum:\", summed.shape)\n",
    "    \n",
    "#     print(\"================linear:==================\")\n",
    "#     lineared = linearrrr(inputs.float()) # преобразовываем one-hot вектор в вектор hidden для всех батчей (2x98-->2x100)\n",
    "#     print(\"inputs after linear:\", lineared)\n",
    "#     print(\"inputs shapes after linear:\",lineared.shape)"
   ]
  },
  {
   "cell_type": "code",
   "execution_count": 148,
   "metadata": {},
   "outputs": [
    {
     "data": {
      "text/plain": [
       "tensor([[5., 0., 0., 0., 0.],\n",
       "        [0., 5., 7., 0., 0.],\n",
       "        [0., 0., 0., 0., 0.]])"
      ]
     },
     "execution_count": 148,
     "metadata": {},
     "output_type": "execute_result"
    }
   ],
   "source": [
    "# tensor testing\n",
    "# test = torch.zeros(3, 5) # массив вложенности 2?\n",
    "# test[0][0]=5\n",
    "# test[1][1]=5\n",
    "# test[1][2]=7\n",
    "# print(test \"\\n\", test[:,2])"
   ]
  },
  {
   "cell_type": "code",
   "execution_count": 215,
   "metadata": {},
   "outputs": [
    {
     "name": "stdout",
     "output_type": "stream",
     "text": [
      "tensor([0, 0, 0, 0, 0, 0, 0, 0, 0, 0, 0, 0, 0, 0, 0, 1, 0, 0, 0, 0, 0, 0, 0, 0,\n",
      "        0, 0, 0, 0, 0, 0, 0, 0, 0, 0, 0, 0, 0, 0, 0, 0, 0, 0, 0, 0, 0, 0, 0, 0,\n",
      "        0, 0, 0, 0, 0, 0, 0, 0, 0, 0, 0, 0, 0, 0, 0, 0, 0, 0, 0, 0, 0, 0, 0, 0,\n",
      "        0, 0, 0, 0, 0, 0, 0, 0, 0, 0, 0, 0, 0, 0, 0, 0, 0, 0, 0, 0, 0, 0, 0, 0,\n",
      "        0, 0], device='cuda:0', dtype=torch.int32) \n",
      " tensor([0, 0, 0, 0, 0, 0, 0, 0, 0, 0, 0, 0, 0, 0, 0, 0, 0, 0, 0, 0, 0, 0, 0, 0,\n",
      "        0, 0, 0, 0, 0, 1, 0, 0, 0, 0, 0, 0, 0, 0, 0, 0, 0, 0, 0, 0, 0, 0, 0, 0,\n",
      "        0, 0, 0, 0, 0, 0, 0, 0, 0, 0, 0, 0, 0, 0, 0, 0, 0, 0, 0, 0, 0, 0, 0, 0,\n",
      "        0, 0, 0, 0, 0, 0, 0, 0, 0, 0, 0, 0, 0, 0, 0, 0, 0, 0, 0, 0, 0, 0, 0, 0,\n",
      "        0, 0], device='cuda:0', dtype=torch.int32)\n"
     ]
    }
   ],
   "source": [
    "# # btc[\"inputs\"][0][0] # первая строка первого мини-батча\n",
    "# # btc[\"inputs\"][1][0] # первая строка второго мини-батча\n",
    "# print(btc[\"inputs\"][0][0], \"\\n\",btc[\"inputs\"][1][0])"
   ]
  },
  {
   "cell_type": "markdown",
   "metadata": {},
   "source": [
    "### Сохранение посчитанных данных"
   ]
  },
  {
   "cell_type": "code",
   "execution_count": 328,
   "metadata": {
    "id": "iqqK8j4fEZ9y"
   },
   "outputs": [],
   "source": [
    "# # with open(r'/content/drive/MyDrive/Универ/losses_avg.pkl', 'wb') as f: # сохранение в бинарном формате\n",
    "with open(r'losses_avg.pkl', 'wb') as f:\n",
    "    pickle.dump(l_avg, f)\n",
    "# # with open(r'/content/drive/MyDrive/Универ/losses_best.pkl', 'wb') as f: # сохранение в бинарном формате\n",
    "with open(r'losses_best.pkl', 'wb') as f:\n",
    "    pickle.dump(l_best, f)\n",
    "with open(r'hidden.pkl', 'wb') as f:\n",
    "    pickle.dump(hidden, f)"
   ]
  },
  {
   "cell_type": "code",
   "execution_count": 16,
   "metadata": {},
   "outputs": [],
   "source": [
    "# with open(r'/content/drive/MyDrive/Универ/losses_avg.pkl', 'rb') as f: # сохранение в бинарном формате\n",
    "with open(r'losses_avg.pkl', 'rb') as f:\n",
    "    losses_avg = pickle.load(f)\n",
    "# with open(r'/content/drive/MyDrive/Универ/losses_best.pkl', 'rb') as f: # сохранение в бинарном формате\n",
    "with open(r'losses_best.pkl', 'rb') as f:\n",
    "    losses_best = pickle.load(f)\n",
    "losses_best = [i.tolist() for i in losses_best]\n",
    "# with open(r'/content/drive/MyDrive/Универ/hidden.pkl', 'rb') as f: # сохранение в бинарном формате\n",
    "with open(r'hidden.pkl', 'rb') as f:\n",
    "    hidden = pickle.load(f)"
   ]
  },
  {
   "cell_type": "code",
   "execution_count": 458,
   "metadata": {},
   "outputs": [],
   "source": [
    "# net.net_version = \"GRU\"\n",
    "RNN.save_model(net_cpu, f'models/GRU_epoch_50_batch_1.ckpt')"
   ]
  },
  {
   "cell_type": "code",
   "execution_count": 459,
   "metadata": {},
   "outputs": [],
   "source": [
    "device_cpu=torch.device(\"cpu\")\n",
    "# net_cpu = RNN.load_model(\"models/GRU_epoch_50_batch_1.ckpt\").to(device_cpu)\n",
    "net_cpu = RNN.load_model(\"models/GRU_epoch_50_batch_1.ckpt\").to(device_cpu)\n",
    "text_dataset_cpu = TextDataset(\"aboba\", symbols, chunk_len=10, device=device_cpu)"
   ]
  },
  {
   "cell_type": "code",
   "execution_count": 422,
   "metadata": {},
   "outputs": [],
   "source": [
    "torch.save(net_cpu, \"models/GRU_epoch_50_batch_1.pb\")\n",
    "# model = torch.load(\"models/GRU_epoch_50_batch_1.pb\")"
   ]
  },
  {
   "cell_type": "code",
   "execution_count": 460,
   "metadata": {},
   "outputs": [
    {
     "name": "stdout",
     "output_type": "stream",
     "text": [
      "In this researche explains, explores a sets recording through\n",
      "a simple and the fewer quality sedge method to a correct validate interest\n",
      "of lin a region. The obtain\n",
      "furthermore, the recommonsidence in \n",
      "\n"
     ]
    }
   ],
   "source": [
    "print(generate(net_cpu, device_cpu, text_dataset_cpu, 'In this research', 200, .8), '\\n')"
   ]
  },
  {
   "cell_type": "markdown",
   "metadata": {},
   "source": [
    "### Вывод графиков loss"
   ]
  },
  {
   "cell_type": "code",
   "execution_count": 310,
   "metadata": {},
   "outputs": [
    {
     "data": {
      "image/png": "[encoded data removed]",
      "text/plain": [
       "<Figure size 648x648 with 1 Axes>"
      ]
     },
     "metadata": {
      "needs_background": "light"
     },
     "output_type": "display_data"
    }
   ],
   "source": [
    "plt.figure(figsize=(9, 9))\n",
    "plt.title(\"Изменение лучшего значения loss функции\")\n",
    "plt.xlabel(\"Эпоха\")\n",
    "plt.ylabel(\"loss\")\n",
    "plt.plot(l_best)\n",
    "plt.show()"
   ]
  },
  {
   "cell_type": "code",
   "execution_count": 311,
   "metadata": {},
   "outputs": [
    {
     "data": {
      "image/png": "[encoded data removed]",
      "text/plain": [
       "<Figure size 648x648 with 1 Axes>"
      ]
     },
     "metadata": {
      "needs_background": "light"
     },
     "output_type": "display_data"
    }
   ],
   "source": [
    "plt.figure(figsize=(9, 9))\n",
    "plt.title(\"Изменение среднего значения loss функции\")\n",
    "plt.xlabel(\"Эпоха\")\n",
    "plt.ylabel(\"loss\")\n",
    "plt.plot(l_avg)\n",
    "plt.show()"
   ]
  },
  {
   "cell_type": "markdown",
   "metadata": {},
   "source": [
    "Выведем лучшие значения loss функции, а также эпоху, на которой они были достигнуты."
   ]
  },
  {
   "cell_type": "code",
   "execution_count": 67,
   "metadata": {},
   "outputs": [
    {
     "name": "stdout",
     "output_type": "stream",
     "text": [
      "Лучшее значение loss: 0.02929740585386753 получено на эпохе: 33\n",
      "Лучшее среднее значение loss: 2.5432336 получено на эпохе: 27\n"
     ]
    }
   ],
   "source": [
    "print(\"Лучшее значение loss:\", min(losses_best),\"получено на эпохе:\", losses_best.index(min(losses_best)))\n",
    "print(\"Лучшее среднее значение loss:\", min(losses_avg),\"получено на эпохе:\", losses_avg.index(min(losses_avg)))"
   ]
  },
  {
   "cell_type": "markdown",
   "metadata": {},
   "source": [
    "Как видно по графикам, обучение дольше 35-ти эпох не принесло особых улучшений, так как средний и лучший (по эпохе) loss остался примерно на том же уровне."
   ]
  },
  {
   "cell_type": "markdown",
   "metadata": {
    "id": "k4-MqjYH55pT"
   },
   "source": [
    "# Здесь будет работа с вашими датасетами (которые вы захотите использовать)"
   ]
  },
  {
   "cell_type": "code",
   "execution_count": null,
   "metadata": {},
   "outputs": [],
   "source": []
  }
 ],
 "metadata": {
  "accelerator": "GPU",
  "colab": {
   "provenance": []
  },
  "gpuClass": "standard",
  "kernelspec": {
   "display_name": "gpu",
   "language": "python",
   "name": "gpu"
  },
  "language_info": {
   "codemirror_mode": {
    "name": "ipython",
    "version": 3
   },
   "file_extension": ".py",
   "mimetype": "text/x-python",
   "name": "python",
   "nbconvert_exporter": "python",
   "pygments_lexer": "ipython3",
   "version": "3.9.12"
  }
 },
 "nbformat": 4,
 "nbformat_minor": 1
}
