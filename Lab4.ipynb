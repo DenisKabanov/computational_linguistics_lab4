{
 "cells": [
  {
   "cell_type": "markdown",
   "metadata": {
    "id": "uDFhyOmQan0v"
   },
   "source": [
    "# Text generation with deep learning"
   ]
  },
  {
   "cell_type": "code",
   "execution_count": 591,
   "metadata": {
    "id": "TslNQEFlan0z"
   },
   "outputs": [],
   "source": [
    "import sys\n",
    "import os\n",
    "import os.path\n",
    "import random\n",
    "import time\n",
    "import matplotlib.pyplot as plt\n",
    "import numpy as np\n",
    "import pandas as pd\n",
    "\n",
    "import torch\n",
    "import torch.nn as nn\n",
    "import torch.nn.functional as F\n",
    "import torch.optim as optim\n",
    "from torch.utils.data import Dataset, DataLoader\n",
    "\n",
    "import torchvision\n",
    "\n",
    "from tqdm import tqdm\n",
    "import pickle\n",
    "import json\n",
    "import re\n",
    "import string\n",
    "\n",
    "%matplotlib inline"
   ]
  },
  {
   "cell_type": "markdown",
   "metadata": {
    "id": "1z-nkq4Tan0-"
   },
   "source": [
    "**Задача**\n",
    "\n",
    "   Обучить character recurrent neural network (char RNN) на датасете статей arxiv, а также на своих данных и исследовать её свойства."
   ]
  },
  {
   "cell_type": "markdown",
   "metadata": {},
   "source": [
    "# Считывание данных"
   ]
  },
  {
   "cell_type": "code",
   "execution_count": 2,
   "metadata": {},
   "outputs": [
    {
     "data": {
      "text/html": [
       "<div>\n",
       "<style scoped>\n",
       "    .dataframe tbody tr th:only-of-type {\n",
       "        vertical-align: middle;\n",
       "    }\n",
       "\n",
       "    .dataframe tbody tr th {\n",
       "        vertical-align: top;\n",
       "    }\n",
       "\n",
       "    .dataframe thead th {\n",
       "        text-align: right;\n",
       "    }\n",
       "</style>\n",
       "<table border=\"1\" class=\"dataframe\">\n",
       "  <thead>\n",
       "    <tr style=\"text-align: right;\">\n",
       "      <th></th>\n",
       "      <th>link</th>\n",
       "      <th>time</th>\n",
       "      <th>favorites</th>\n",
       "      <th>rts</th>\n",
       "      <th>authors</th>\n",
       "      <th>category</th>\n",
       "      <th>published</th>\n",
       "      <th>summary</th>\n",
       "      <th>title</th>\n",
       "      <th>tweeted</th>\n",
       "    </tr>\n",
       "  </thead>\n",
       "  <tbody>\n",
       "    <tr>\n",
       "      <th>0</th>\n",
       "      <td>arxiv.org/abs/1611.10003</td>\n",
       "      <td>NaN</td>\n",
       "      <td>NaN</td>\n",
       "      <td>NaN</td>\n",
       "      <td>[Tom A. F. Anderson, C. -H. Ruan]</td>\n",
       "      <td>q-bio.NC</td>\n",
       "      <td>2016-11-30 05:17:11</td>\n",
       "      <td>In summary of the research findings presented ...</td>\n",
       "      <td>Vocabulary and the Brain: Evidence from Neuroi...</td>\n",
       "      <td>0</td>\n",
       "    </tr>\n",
       "    <tr>\n",
       "      <th>1</th>\n",
       "      <td>arxiv.org/abs/1611.10007</td>\n",
       "      <td>NaN</td>\n",
       "      <td>NaN</td>\n",
       "      <td>NaN</td>\n",
       "      <td>[M. Amin Rahimian, Amir G. Aghdam]</td>\n",
       "      <td>cs.SY</td>\n",
       "      <td>2016-11-30 05:37:11</td>\n",
       "      <td>In this paper, structural controllability of a...</td>\n",
       "      <td>Structural Controllability of Multi-Agent Netw...</td>\n",
       "      <td>0</td>\n",
       "    </tr>\n",
       "    <tr>\n",
       "      <th>2</th>\n",
       "      <td>arxiv.org/abs/1611.10010</td>\n",
       "      <td>NaN</td>\n",
       "      <td>NaN</td>\n",
       "      <td>NaN</td>\n",
       "      <td>[Debidatta Dwibedi, Tomasz Malisiewicz, Vijay ...</td>\n",
       "      <td>cs.CV</td>\n",
       "      <td>2016-11-30 06:00:47</td>\n",
       "      <td>We present a Deep Cuboid Detector which takes ...</td>\n",
       "      <td>Deep Cuboid Detection: Beyond 2D Bounding Boxes</td>\n",
       "      <td>0</td>\n",
       "    </tr>\n",
       "    <tr>\n",
       "      <th>3</th>\n",
       "      <td>arxiv.org/abs/1611.10012</td>\n",
       "      <td>2016-12-01 01:46:12</td>\n",
       "      <td>11.0</td>\n",
       "      <td>2.0</td>\n",
       "      <td>[Jonathan Huang, Vivek Rathod, Chen Sun, Mengl...</td>\n",
       "      <td>cs.CV</td>\n",
       "      <td>2016-11-30 06:06:15</td>\n",
       "      <td>In this paper, we study the trade-off between ...</td>\n",
       "      <td>Speed/accuracy trade-offs for modern convoluti...</td>\n",
       "      <td>1</td>\n",
       "    </tr>\n",
       "    <tr>\n",
       "      <th>4</th>\n",
       "      <td>arxiv.org/abs/1611.10014</td>\n",
       "      <td>NaN</td>\n",
       "      <td>NaN</td>\n",
       "      <td>NaN</td>\n",
       "      <td>[Yoones Hashemi, Amir H. Banihashemi]</td>\n",
       "      <td>cs.IT</td>\n",
       "      <td>2016-11-30 06:12:45</td>\n",
       "      <td>In this paper, we propose a characterization o...</td>\n",
       "      <td>Characterization and Efficient Exhaustive Sear...</td>\n",
       "      <td>0</td>\n",
       "    </tr>\n",
       "    <tr>\n",
       "      <th>...</th>\n",
       "      <td>...</td>\n",
       "      <td>...</td>\n",
       "      <td>...</td>\n",
       "      <td>...</td>\n",
       "      <td>...</td>\n",
       "      <td>...</td>\n",
       "      <td>...</td>\n",
       "      <td>...</td>\n",
       "      <td>...</td>\n",
       "      <td>...</td>\n",
       "    </tr>\n",
       "    <tr>\n",
       "      <th>27183</th>\n",
       "      <td>arxiv.org/abs/1710.04176</td>\n",
       "      <td>NaN</td>\n",
       "      <td>NaN</td>\n",
       "      <td>NaN</td>\n",
       "      <td>[C. -C. Jay Kuo, Yueru Chen]</td>\n",
       "      <td>cs.CV</td>\n",
       "      <td>2017-10-11 17:08:28</td>\n",
       "      <td>Being motivated by the multilayer RECOS (REcti...</td>\n",
       "      <td>On Data-Driven Saak Transform</td>\n",
       "      <td>0</td>\n",
       "    </tr>\n",
       "    <tr>\n",
       "      <th>27184</th>\n",
       "      <td>arxiv.org/abs/1710.04177</td>\n",
       "      <td>NaN</td>\n",
       "      <td>NaN</td>\n",
       "      <td>NaN</td>\n",
       "      <td>[Heather Mattie, Kenth Engø-Monsen, Rich Ling,...</td>\n",
       "      <td>cs.SI</td>\n",
       "      <td>2017-10-11 17:12:05</td>\n",
       "      <td>Understanding tie strength in social networks,...</td>\n",
       "      <td>The Social Bow Tie</td>\n",
       "      <td>0</td>\n",
       "    </tr>\n",
       "    <tr>\n",
       "      <th>27185</th>\n",
       "      <td>arxiv.org/abs/1710.04196</td>\n",
       "      <td>NaN</td>\n",
       "      <td>NaN</td>\n",
       "      <td>NaN</td>\n",
       "      <td>[Robin Scheibler, Eric Bezzam, Ivan Dokmanić]</td>\n",
       "      <td>cs.MS</td>\n",
       "      <td>2017-10-11 17:44:41</td>\n",
       "      <td>We present pyroomacoustics, a software package...</td>\n",
       "      <td>Pyroomacoustics: A Python package for audio ro...</td>\n",
       "      <td>0</td>\n",
       "    </tr>\n",
       "    <tr>\n",
       "      <th>27186</th>\n",
       "      <td>arxiv.org/abs/1710.04200</td>\n",
       "      <td>NaN</td>\n",
       "      <td>NaN</td>\n",
       "      <td>NaN</td>\n",
       "      <td>[Yijun Li, Jia-Bin Huang, Narendra Ahuja, Ming...</td>\n",
       "      <td>cs.CV</td>\n",
       "      <td>2017-10-11 17:56:59</td>\n",
       "      <td>Joint image filters leverage the guidance imag...</td>\n",
       "      <td>Joint Image Filtering with Deep Convolutional ...</td>\n",
       "      <td>0</td>\n",
       "    </tr>\n",
       "    <tr>\n",
       "      <th>27187</th>\n",
       "      <td>arxiv.org/abs/1710.04203</td>\n",
       "      <td>NaN</td>\n",
       "      <td>NaN</td>\n",
       "      <td>NaN</td>\n",
       "      <td>[Giannis Haralabopoulos, Elena Simperl]</td>\n",
       "      <td>cs.CL</td>\n",
       "      <td>2017-10-04 21:38:48</td>\n",
       "      <td>Sentiment analysis aims to uncover emotions co...</td>\n",
       "      <td>Crowdsourcing for Beyond Polarity Sentiment An...</td>\n",
       "      <td>0</td>\n",
       "    </tr>\n",
       "  </tbody>\n",
       "</table>\n",
       "<p>27188 rows × 10 columns</p>\n",
       "</div>"
      ],
      "text/plain": [
       "                           link                 time  favorites  rts  \\\n",
       "0      arxiv.org/abs/1611.10003                  NaN        NaN  NaN   \n",
       "1      arxiv.org/abs/1611.10007                  NaN        NaN  NaN   \n",
       "2      arxiv.org/abs/1611.10010                  NaN        NaN  NaN   \n",
       "3      arxiv.org/abs/1611.10012  2016-12-01 01:46:12       11.0  2.0   \n",
       "4      arxiv.org/abs/1611.10014                  NaN        NaN  NaN   \n",
       "...                         ...                  ...        ...  ...   \n",
       "27183  arxiv.org/abs/1710.04176                  NaN        NaN  NaN   \n",
       "27184  arxiv.org/abs/1710.04177                  NaN        NaN  NaN   \n",
       "27185  arxiv.org/abs/1710.04196                  NaN        NaN  NaN   \n",
       "27186  arxiv.org/abs/1710.04200                  NaN        NaN  NaN   \n",
       "27187  arxiv.org/abs/1710.04203                  NaN        NaN  NaN   \n",
       "\n",
       "                                                 authors  category  \\\n",
       "0                      [Tom A. F. Anderson, C. -H. Ruan]  q-bio.NC   \n",
       "1                     [M. Amin Rahimian, Amir G. Aghdam]     cs.SY   \n",
       "2      [Debidatta Dwibedi, Tomasz Malisiewicz, Vijay ...     cs.CV   \n",
       "3      [Jonathan Huang, Vivek Rathod, Chen Sun, Mengl...     cs.CV   \n",
       "4                  [Yoones Hashemi, Amir H. Banihashemi]     cs.IT   \n",
       "...                                                  ...       ...   \n",
       "27183                       [C. -C. Jay Kuo, Yueru Chen]     cs.CV   \n",
       "27184  [Heather Mattie, Kenth Engø-Monsen, Rich Ling,...     cs.SI   \n",
       "27185      [Robin Scheibler, Eric Bezzam, Ivan Dokmanić]     cs.MS   \n",
       "27186  [Yijun Li, Jia-Bin Huang, Narendra Ahuja, Ming...     cs.CV   \n",
       "27187            [Giannis Haralabopoulos, Elena Simperl]     cs.CL   \n",
       "\n",
       "                 published                                            summary  \\\n",
       "0      2016-11-30 05:17:11  In summary of the research findings presented ...   \n",
       "1      2016-11-30 05:37:11  In this paper, structural controllability of a...   \n",
       "2      2016-11-30 06:00:47  We present a Deep Cuboid Detector which takes ...   \n",
       "3      2016-11-30 06:06:15  In this paper, we study the trade-off between ...   \n",
       "4      2016-11-30 06:12:45  In this paper, we propose a characterization o...   \n",
       "...                    ...                                                ...   \n",
       "27183  2017-10-11 17:08:28  Being motivated by the multilayer RECOS (REcti...   \n",
       "27184  2017-10-11 17:12:05  Understanding tie strength in social networks,...   \n",
       "27185  2017-10-11 17:44:41  We present pyroomacoustics, a software package...   \n",
       "27186  2017-10-11 17:56:59  Joint image filters leverage the guidance imag...   \n",
       "27187  2017-10-04 21:38:48  Sentiment analysis aims to uncover emotions co...   \n",
       "\n",
       "                                                   title  tweeted  \n",
       "0      Vocabulary and the Brain: Evidence from Neuroi...        0  \n",
       "1      Structural Controllability of Multi-Agent Netw...        0  \n",
       "2        Deep Cuboid Detection: Beyond 2D Bounding Boxes        0  \n",
       "3      Speed/accuracy trade-offs for modern convoluti...        1  \n",
       "4      Characterization and Efficient Exhaustive Sear...        0  \n",
       "...                                                  ...      ...  \n",
       "27183                      On Data-Driven Saak Transform        0  \n",
       "27184                                 The Social Bow Tie        0  \n",
       "27185  Pyroomacoustics: A Python package for audio ro...        0  \n",
       "27186  Joint Image Filtering with Deep Convolutional ...        0  \n",
       "27187  Crowdsourcing for Beyond Polarity Sentiment An...        0  \n",
       "\n",
       "[27188 rows x 10 columns]"
      ]
     },
     "execution_count": 2,
     "metadata": {},
     "output_type": "execute_result"
    }
   ],
   "source": [
    "arxiv_dataset = pd.read_csv('arxiv.csv') \n",
    "arxiv_dataset"
   ]
  },
  {
   "cell_type": "code",
   "execution_count": 801,
   "metadata": {
    "id": "VZf7PBqGan1F"
   },
   "outputs": [],
   "source": [
    "class TextDataset(Dataset):\n",
    "    def __init__(self, text, input_dict=None, chunk_len=10, chunks_number=100, device = torch.device(\"cuda\")):\n",
    "        self.chunks_number = chunks_number # количество блоков\n",
    "        self.chunk_len = chunk_len  # длина одного блока (на сколько букв смотрим назад при предсказании)\n",
    "        self.text = text # текст summary\n",
    "        self.device = device # девайс, на который всё отправлять\n",
    "        if input_dict == None: # словарь символов либо только от одной, переданной статьи, либо уже созданный\n",
    "            self.all_symbols = list({x for x in self.text}) # в работе используется только для получения глобального словаря со всех текстов\n",
    "        else:\n",
    "            self.all_symbols = input_dict\n",
    "    \n",
    "    def __len__(self): # возвращает число чанков (число случайных слайсов по тексту)\n",
    "        return self.chunks_number\n",
    "    \n",
    "    def _get_tensor(self, text): # ставит в соответствие каждой букве из текста её индекс в словаре\n",
    "        return torch.LongTensor(list(map(self.all_symbols.index, text))).to(self.device)\n",
    "    \n",
    "    def _decode_vector(self, text): # декодирует вектор из цифр (text) в текст\n",
    "        text = text.view(-1).cpu().numpy()\n",
    "        if text.shape[0] == 1:\n",
    "            text = list(text)\n",
    "        return ''.join([self.all_symbols[x] for x in text])\n",
    "    \n",
    "    def _get_random_slice(self): # берет случайный срез букв из текста\n",
    "        start_index = random.randint(0, len(self.text) - self.chunk_len)\n",
    "        end_index = start_index + self.chunk_len + 1\n",
    "        return self.text[start_index:end_index]\n",
    "    \n",
    "    def __getitem__(self, idx):\n",
    "        chunk = self._get_random_slice()\n",
    "        if len(chunk) == self.chunk_len + 1: # стандартное поведение\n",
    "            return self._get_tensor(chunk[:-1]), self._get_tensor(chunk[1:])  # chunk[:-1] не включает последний эл-т, chunk[1:] не включает первый эл-т\n",
    "        else: # попали на последний символ\n",
    "            return torch.LongTensor([self.all_symbols.index(char) for char in chunk]).to(self.device), torch.LongTensor([self.all_symbols.index(char) for char in chunk[1:]] + [len(self.all_symbols)-1]).to(self.device)"
   ]
  },
  {
   "cell_type": "markdown",
   "metadata": {},
   "source": [
    "Смотрим, сколько уникальных символов есть в датасете - это и будет размер выходного вектора у нейронной сети"
   ]
  },
  {
   "cell_type": "code",
   "execution_count": 4,
   "metadata": {},
   "outputs": [
    {
     "name": "stdout",
     "output_type": "stream",
     "text": [
      "98\n"
     ]
    }
   ],
   "source": [
    "symbols = []\n",
    "for i in range(len(arxiv_dataset['summary'])):\n",
    "    Text_Dataset = TextDataset(arxiv_dataset['summary'][i])\n",
    "    for symbol in Text_Dataset.all_symbols:\n",
    "        if symbol not in symbols:\n",
    "            symbols.append(symbol)\n",
    "symbols.append('')\n",
    "print(len(symbols))"
   ]
  },
  {
   "cell_type": "markdown",
   "metadata": {},
   "source": [
    "## Параметры"
   ]
  },
  {
   "cell_type": "code",
   "execution_count": 461,
   "metadata": {},
   "outputs": [],
   "source": [
    "unique_symbols = len(symbols) # число уникальных символов во всём датасете\n",
    "n_layers = 2 # число слоёв для hidden\n",
    "hidden_size = 100 # размер скрытого слоя\n",
    "epochs = 50 # число эпох\n",
    "chunk_len = 10 # размер чанка (слайса из одного summary)\n",
    "batch_size = 1 # размер батча\n",
    "device = torch.device(\"cuda\") # на каком девайсе будет вычисление"
   ]
  },
  {
   "cell_type": "markdown",
   "metadata": {},
   "source": [
    "## Dataloader"
   ]
  },
  {
   "cell_type": "code",
   "execution_count": 800,
   "metadata": {},
   "outputs": [],
   "source": [
    "def collate_fn(input_data, device=torch.device(\"cuda\"), chunk_len=10):  # на вход приходит arxiv_dataset['summary'][:batch_size]\n",
    "    # len(input_data) == число батчей\n",
    "    # len(item_.all_symbols) == число уникальных символов/размер словаря/размер one-hot вектора\n",
    "\n",
    "    input_tensor = torch.zeros(len(input_data), chunk_len, 1).int().to(device)\n",
    "#     input_tensor = torch.zeros(len(input_data), chunk_len, unique_symbols).int().to(device) # для one-hot кодирования input\n",
    "    target_tensor = torch.zeros(len(input_data), chunk_len, unique_symbols).to(device)\n",
    "    \n",
    "    for batch_id, item in enumerate(input_data):\n",
    "        \n",
    "        item_ = TextDataset(item, symbols, device=device, chunk_len=chunk_len)\n",
    "        line = item_.__getitem__(0)\n",
    "\n",
    "        for i in range(item_.chunk_len):\n",
    "            input_tensor[batch_id][i][0] = line[0][i]\n",
    "#             input_tensor[batch_id][i][line[0][i]] = 1 # для one-hot кодирования input\n",
    "            target_tensor[batch_id][i][line[1][i]] = 1\n",
    "\n",
    "    return {'inputs': input_tensor, 'targets': target_tensor}"
   ]
  },
  {
   "cell_type": "markdown",
   "metadata": {
    "id": "6dvYiuYwan1A"
   },
   "source": [
    "# Определим структуру сети, в качестве основного блока используем **GRU**"
   ]
  },
  {
   "cell_type": "markdown",
   "metadata": {},
   "source": [
    "![GRU](pic/GRU.png)"
   ]
  },
  {
   "cell_type": "code",
   "execution_count": 582,
   "metadata": {},
   "outputs": [],
   "source": [
    "class RNN(nn.Module):\n",
    "    def __init__(self, input_size, hidden_size, output_size, n_layers=1):\n",
    "        # input_size (==unique_symbols) – size of the dictionary of embeddings\n",
    "        # hidden_size – the size of each embedding vector\n",
    "        # Вход: (*) IntTensor или LongTensor произвольной формы, содержащие индексы для извлечения\n",
    "        # Output: (∗, H), where * is the input shape and H = hidden_size\n",
    "        super(RNN, self).__init__()\n",
    "        self.input_size = input_size\n",
    "        self.hidden_size = hidden_size\n",
    "        self.output_size = output_size\n",
    "        self.n_layers = n_layers\n",
    "        \n",
    "        self.encoder = nn.Embedding(input_size, hidden_size)        \n",
    "        self.gru = nn.GRU(hidden_size, hidden_size, n_layers)\n",
    "        self.decoder = nn.Linear(hidden_size, output_size)\n",
    "        \n",
    "    \n",
    "    def forward(self, inputs, hidden):\n",
    "        # inputs.shape[0] == batch_size\n",
    "\n",
    "        inputs = self.encoder(inputs.view(inputs.shape[0], -1))\n",
    "        # Embedding — кажому элементу из input-а ставит некоторое векторное представление размера hidden_size\n",
    "        # Например, если пришёл один тензор из 10 элементов (10 закодированных символов char), то кажому из этих 10 элементов будет поставлен в соответствии вектор размера hidden_size \n",
    "        # вернёт тензор второй вложенности размера len(inputs) * hidden_size\n",
    "        \n",
    "#         print(\"inputs after encoding: \", inputs, \"shape:\", inputs.shape)\n",
    "\n",
    "        output, hidden = self.gru(inputs.view(1, inputs.shape[0], -1), hidden)\n",
    "        output = self.decoder(output.view(inputs.shape[0], -1))\n",
    "        return output, hidden\n",
    "\n",
    "    def init_hidden(self, batch_size):\n",
    "        return torch.zeros(self.n_layers, batch_size, self.hidden_size)\n",
    "    \n",
    "    def save_model(model, filename='rnn.ckpt'):\n",
    "        checkpoint = {'input_size': model.input_size,\n",
    "                      'hidden_size': model.hidden_size,\n",
    "                      'output_size': model.output_size,\n",
    "                      'n_layers': model.n_layers,\n",
    "                      'state_dict': model.state_dict()}\n",
    "        with open(filename, 'wb') as f:\n",
    "            torch.save(checkpoint, f)\n",
    "\n",
    "    def load_model(filename):\n",
    "\n",
    "        with open(filename, 'rb') as f:\n",
    "            checkpoint = torch.load(f)\n",
    "\n",
    "        model = RNN(input_size = checkpoint['input_size'], output_size = checkpoint['output_size'], hidden_size=checkpoint['hidden_size'], n_layers=checkpoint['n_layers'])\n",
    "        model.load_state_dict(checkpoint['state_dict'])\n",
    "\n",
    "        return model"
   ]
  },
  {
   "cell_type": "markdown",
   "metadata": {},
   "source": [
    "## Цикл обучения"
   ]
  },
  {
   "cell_type": "code",
   "execution_count": 300,
   "metadata": {},
   "outputs": [],
   "source": [
    "def training(net, epochs, optimizer, criterion, loader, device, batch_size):\n",
    "    print(\"Epochs:\", epochs, \"batch_size:\", batch_size, \"device:\", device)\n",
    "    start = time.time()\n",
    "    \n",
    "    losses_avg = []\n",
    "    losses_best = []\n",
    "    net.train()\n",
    "\n",
    "    for epoch in range(1, epochs+1): # epochs - число эпох тренировки\n",
    "        print('epoch: ', epoch)\n",
    "        losses = []\n",
    "        hidden = net.init_hidden(batch_size).to(device)\n",
    "        \n",
    "        for i, batch in enumerate(tqdm(loader)): # генерируем ботчи\n",
    "            loss = 0\n",
    "            hidden = hidden.detach()\n",
    "            optimizer.zero_grad()\n",
    "\n",
    "            for chars in range(len(batch[\"inputs\"][0])): # len(batch[\"inputs\"][0]) == chunk_len\n",
    "                # len(batch) == 2 (\"inputs\", \"targets\")\n",
    "                # len(batch[\"inputs\"]) == len(batch[\"targets\"]) == batch_size\n",
    "                # len(batch[\"inputs\"][i]) == len(batch[\"targets\"][i]) == chunk_len, i от 0 до batch_size\n",
    "                # len(batch[\"inputs\"][i][j]) == 1\n",
    "                # len(batch[\"targets\"][i][j]) == unique_symbols (число уникальных символов)\n",
    "\n",
    "                output, hidden = net(batch['inputs'][:,chars], hidden)\n",
    "\n",
    "                loss += criterion(output, batch['targets'][:,chars])\n",
    "            loss = loss / len(batch[\"inputs\"][0]) # усредняем loss\n",
    "            loss.backward()\n",
    "            optimizer.step()\n",
    "            loss = loss.cpu().detach().numpy()\n",
    "            losses.append(loss)\n",
    "        losses_avg.append(np.mean(losses)) # берём средний loss за эпоху\n",
    "        losses_best.append(sorted(losses, reverse=False)[0])  # reverse=False - в порядке возрастания\n",
    "\n",
    "        if epoch%10 == 0: # сохраняем каждые 10 эпох\n",
    "            print(\"Saving...\")\n",
    "            RNN.save_model(net, f'TrainedModel_epoch_{epoch}.ckpt')\n",
    "    print(\"Training finished, time:\", time.time() - start)\n",
    "    return losses_avg, losses_best, net, hidden"
   ]
  },
  {
   "cell_type": "code",
   "execution_count": 301,
   "metadata": {},
   "outputs": [
    {
     "name": "stdout",
     "output_type": "stream",
     "text": [
      "Epochs: 50 batch_size: 1 device: cuda\n",
      "epoch:  1\n"
     ]
    },
    {
     "name": "stderr",
     "output_type": "stream",
     "text": [
      "100%|████████████████████████████████████████████████████████████████████████████| 27188/27188 [26:41<00:00, 16.98it/s]\n"
     ]
    },
    {
     "name": "stdout",
     "output_type": "stream",
     "text": [
      "epoch:  2\n"
     ]
    },
    {
     "name": "stderr",
     "output_type": "stream",
     "text": [
      "100%|████████████████████████████████████████████████████████████████████████████| 27188/27188 [15:24<00:00, 29.40it/s]\n"
     ]
    },
    {
     "name": "stdout",
     "output_type": "stream",
     "text": [
      "epoch:  3\n"
     ]
    },
    {
     "name": "stderr",
     "output_type": "stream",
     "text": [
      "100%|████████████████████████████████████████████████████████████████████████████| 27188/27188 [10:46<00:00, 42.04it/s]\n"
     ]
    },
    {
     "name": "stdout",
     "output_type": "stream",
     "text": [
      "epoch:  4\n"
     ]
    },
    {
     "name": "stderr",
     "output_type": "stream",
     "text": [
      "100%|████████████████████████████████████████████████████████████████████████████| 27188/27188 [10:44<00:00, 42.20it/s]\n"
     ]
    },
    {
     "name": "stdout",
     "output_type": "stream",
     "text": [
      "epoch:  5\n"
     ]
    },
    {
     "name": "stderr",
     "output_type": "stream",
     "text": [
      "100%|████████████████████████████████████████████████████████████████████████████| 27188/27188 [10:36<00:00, 42.72it/s]\n"
     ]
    },
    {
     "name": "stdout",
     "output_type": "stream",
     "text": [
      "epoch:  6\n"
     ]
    },
    {
     "name": "stderr",
     "output_type": "stream",
     "text": [
      "100%|████████████████████████████████████████████████████████████████████████████| 27188/27188 [10:35<00:00, 42.78it/s]\n"
     ]
    },
    {
     "name": "stdout",
     "output_type": "stream",
     "text": [
      "epoch:  7\n"
     ]
    },
    {
     "name": "stderr",
     "output_type": "stream",
     "text": [
      "100%|████████████████████████████████████████████████████████████████████████████| 27188/27188 [10:36<00:00, 42.73it/s]\n"
     ]
    },
    {
     "name": "stdout",
     "output_type": "stream",
     "text": [
      "epoch:  8\n"
     ]
    },
    {
     "name": "stderr",
     "output_type": "stream",
     "text": [
      "100%|████████████████████████████████████████████████████████████████████████████| 27188/27188 [10:36<00:00, 42.74it/s]\n"
     ]
    },
    {
     "name": "stdout",
     "output_type": "stream",
     "text": [
      "epoch:  9\n"
     ]
    },
    {
     "name": "stderr",
     "output_type": "stream",
     "text": [
      "100%|████████████████████████████████████████████████████████████████████████████| 27188/27188 [10:36<00:00, 42.73it/s]\n"
     ]
    },
    {
     "name": "stdout",
     "output_type": "stream",
     "text": [
      "epoch:  10\n"
     ]
    },
    {
     "name": "stderr",
     "output_type": "stream",
     "text": [
      "100%|████████████████████████████████████████████████████████████████████████████| 27188/27188 [10:36<00:00, 42.73it/s]\n"
     ]
    },
    {
     "name": "stdout",
     "output_type": "stream",
     "text": [
      "Saving...\n",
      "epoch:  11\n"
     ]
    },
    {
     "name": "stderr",
     "output_type": "stream",
     "text": [
      "100%|████████████████████████████████████████████████████████████████████████████| 27188/27188 [10:35<00:00, 42.80it/s]\n"
     ]
    },
    {
     "name": "stdout",
     "output_type": "stream",
     "text": [
      "epoch:  12\n"
     ]
    },
    {
     "name": "stderr",
     "output_type": "stream",
     "text": [
      "100%|████████████████████████████████████████████████████████████████████████████| 27188/27188 [10:35<00:00, 42.77it/s]\n"
     ]
    },
    {
     "name": "stdout",
     "output_type": "stream",
     "text": [
      "epoch:  13\n"
     ]
    },
    {
     "name": "stderr",
     "output_type": "stream",
     "text": [
      "100%|████████████████████████████████████████████████████████████████████████████| 27188/27188 [10:35<00:00, 42.80it/s]\n"
     ]
    },
    {
     "name": "stdout",
     "output_type": "stream",
     "text": [
      "epoch:  14\n"
     ]
    },
    {
     "name": "stderr",
     "output_type": "stream",
     "text": [
      "100%|████████████████████████████████████████████████████████████████████████████| 27188/27188 [10:36<00:00, 42.71it/s]\n"
     ]
    },
    {
     "name": "stdout",
     "output_type": "stream",
     "text": [
      "epoch:  15\n"
     ]
    },
    {
     "name": "stderr",
     "output_type": "stream",
     "text": [
      "100%|████████████████████████████████████████████████████████████████████████████| 27188/27188 [10:36<00:00, 42.73it/s]\n"
     ]
    },
    {
     "name": "stdout",
     "output_type": "stream",
     "text": [
      "epoch:  16\n"
     ]
    },
    {
     "name": "stderr",
     "output_type": "stream",
     "text": [
      "100%|████████████████████████████████████████████████████████████████████████████| 27188/27188 [10:36<00:00, 42.71it/s]\n"
     ]
    },
    {
     "name": "stdout",
     "output_type": "stream",
     "text": [
      "epoch:  17\n"
     ]
    },
    {
     "name": "stderr",
     "output_type": "stream",
     "text": [
      "100%|████████████████████████████████████████████████████████████████████████████| 27188/27188 [10:35<00:00, 42.76it/s]\n"
     ]
    },
    {
     "name": "stdout",
     "output_type": "stream",
     "text": [
      "epoch:  18\n"
     ]
    },
    {
     "name": "stderr",
     "output_type": "stream",
     "text": [
      "100%|████████████████████████████████████████████████████████████████████████████| 27188/27188 [10:36<00:00, 42.72it/s]\n"
     ]
    },
    {
     "name": "stdout",
     "output_type": "stream",
     "text": [
      "epoch:  19\n"
     ]
    },
    {
     "name": "stderr",
     "output_type": "stream",
     "text": [
      "100%|████████████████████████████████████████████████████████████████████████████| 27188/27188 [10:36<00:00, 42.73it/s]\n"
     ]
    },
    {
     "name": "stdout",
     "output_type": "stream",
     "text": [
      "epoch:  20\n"
     ]
    },
    {
     "name": "stderr",
     "output_type": "stream",
     "text": [
      "100%|████████████████████████████████████████████████████████████████████████████| 27188/27188 [10:35<00:00, 42.78it/s]\n"
     ]
    },
    {
     "name": "stdout",
     "output_type": "stream",
     "text": [
      "Saving...\n",
      "epoch:  21\n"
     ]
    },
    {
     "name": "stderr",
     "output_type": "stream",
     "text": [
      "100%|████████████████████████████████████████████████████████████████████████████| 27188/27188 [10:35<00:00, 42.75it/s]\n"
     ]
    },
    {
     "name": "stdout",
     "output_type": "stream",
     "text": [
      "epoch:  22\n"
     ]
    },
    {
     "name": "stderr",
     "output_type": "stream",
     "text": [
      "100%|████████████████████████████████████████████████████████████████████████████| 27188/27188 [10:35<00:00, 42.75it/s]\n"
     ]
    },
    {
     "name": "stdout",
     "output_type": "stream",
     "text": [
      "epoch:  23\n"
     ]
    },
    {
     "name": "stderr",
     "output_type": "stream",
     "text": [
      "100%|████████████████████████████████████████████████████████████████████████████| 27188/27188 [10:35<00:00, 42.76it/s]\n"
     ]
    },
    {
     "name": "stdout",
     "output_type": "stream",
     "text": [
      "epoch:  24\n"
     ]
    },
    {
     "name": "stderr",
     "output_type": "stream",
     "text": [
      "100%|████████████████████████████████████████████████████████████████████████████| 27188/27188 [10:36<00:00, 42.73it/s]\n"
     ]
    },
    {
     "name": "stdout",
     "output_type": "stream",
     "text": [
      "epoch:  25\n"
     ]
    },
    {
     "name": "stderr",
     "output_type": "stream",
     "text": [
      "100%|████████████████████████████████████████████████████████████████████████████| 27188/27188 [10:36<00:00, 42.73it/s]\n"
     ]
    },
    {
     "name": "stdout",
     "output_type": "stream",
     "text": [
      "epoch:  26\n"
     ]
    },
    {
     "name": "stderr",
     "output_type": "stream",
     "text": [
      "100%|████████████████████████████████████████████████████████████████████████████| 27188/27188 [10:36<00:00, 42.75it/s]\n"
     ]
    },
    {
     "name": "stdout",
     "output_type": "stream",
     "text": [
      "epoch:  27\n"
     ]
    },
    {
     "name": "stderr",
     "output_type": "stream",
     "text": [
      "100%|████████████████████████████████████████████████████████████████████████████| 27188/27188 [10:36<00:00, 42.73it/s]\n"
     ]
    },
    {
     "name": "stdout",
     "output_type": "stream",
     "text": [
      "epoch:  28\n"
     ]
    },
    {
     "name": "stderr",
     "output_type": "stream",
     "text": [
      "100%|████████████████████████████████████████████████████████████████████████████| 27188/27188 [10:36<00:00, 42.75it/s]\n"
     ]
    },
    {
     "name": "stdout",
     "output_type": "stream",
     "text": [
      "epoch:  29\n"
     ]
    },
    {
     "name": "stderr",
     "output_type": "stream",
     "text": [
      "100%|████████████████████████████████████████████████████████████████████████████| 27188/27188 [10:34<00:00, 42.86it/s]\n"
     ]
    },
    {
     "name": "stdout",
     "output_type": "stream",
     "text": [
      "epoch:  30\n"
     ]
    },
    {
     "name": "stderr",
     "output_type": "stream",
     "text": [
      "100%|████████████████████████████████████████████████████████████████████████████| 27188/27188 [10:34<00:00, 42.85it/s]\n"
     ]
    },
    {
     "name": "stdout",
     "output_type": "stream",
     "text": [
      "Saving...\n",
      "epoch:  31\n"
     ]
    },
    {
     "name": "stderr",
     "output_type": "stream",
     "text": [
      "100%|████████████████████████████████████████████████████████████████████████████| 27188/27188 [10:34<00:00, 42.87it/s]\n"
     ]
    },
    {
     "name": "stdout",
     "output_type": "stream",
     "text": [
      "epoch:  32\n"
     ]
    },
    {
     "name": "stderr",
     "output_type": "stream",
     "text": [
      "100%|████████████████████████████████████████████████████████████████████████████| 27188/27188 [10:34<00:00, 42.88it/s]\n"
     ]
    },
    {
     "name": "stdout",
     "output_type": "stream",
     "text": [
      "epoch:  33\n"
     ]
    },
    {
     "name": "stderr",
     "output_type": "stream",
     "text": [
      "100%|████████████████████████████████████████████████████████████████████████████| 27188/27188 [10:33<00:00, 42.90it/s]\n"
     ]
    },
    {
     "name": "stdout",
     "output_type": "stream",
     "text": [
      "epoch:  34\n"
     ]
    },
    {
     "name": "stderr",
     "output_type": "stream",
     "text": [
      "100%|████████████████████████████████████████████████████████████████████████████| 27188/27188 [10:33<00:00, 42.93it/s]\n"
     ]
    },
    {
     "name": "stdout",
     "output_type": "stream",
     "text": [
      "epoch:  35\n"
     ]
    },
    {
     "name": "stderr",
     "output_type": "stream",
     "text": [
      "100%|████████████████████████████████████████████████████████████████████████████| 27188/27188 [10:33<00:00, 42.90it/s]\n"
     ]
    },
    {
     "name": "stdout",
     "output_type": "stream",
     "text": [
      "epoch:  36\n"
     ]
    },
    {
     "name": "stderr",
     "output_type": "stream",
     "text": [
      "100%|████████████████████████████████████████████████████████████████████████████| 27188/27188 [10:34<00:00, 42.85it/s]\n"
     ]
    },
    {
     "name": "stdout",
     "output_type": "stream",
     "text": [
      "epoch:  37\n"
     ]
    },
    {
     "name": "stderr",
     "output_type": "stream",
     "text": [
      "100%|████████████████████████████████████████████████████████████████████████████| 27188/27188 [10:33<00:00, 42.91it/s]\n"
     ]
    },
    {
     "name": "stdout",
     "output_type": "stream",
     "text": [
      "epoch:  38\n"
     ]
    },
    {
     "name": "stderr",
     "output_type": "stream",
     "text": [
      "100%|████████████████████████████████████████████████████████████████████████████| 27188/27188 [10:33<00:00, 42.88it/s]\n"
     ]
    },
    {
     "name": "stdout",
     "output_type": "stream",
     "text": [
      "epoch:  39\n"
     ]
    },
    {
     "name": "stderr",
     "output_type": "stream",
     "text": [
      "100%|████████████████████████████████████████████████████████████████████████████| 27188/27188 [10:48<00:00, 41.95it/s]\n"
     ]
    },
    {
     "name": "stdout",
     "output_type": "stream",
     "text": [
      "epoch:  40\n"
     ]
    },
    {
     "name": "stderr",
     "output_type": "stream",
     "text": [
      "100%|████████████████████████████████████████████████████████████████████████████| 27188/27188 [11:33<00:00, 39.22it/s]\n"
     ]
    },
    {
     "name": "stdout",
     "output_type": "stream",
     "text": [
      "Saving...\n",
      "epoch:  41\n"
     ]
    },
    {
     "name": "stderr",
     "output_type": "stream",
     "text": [
      "100%|████████████████████████████████████████████████████████████████████████████| 27188/27188 [12:31<00:00, 36.18it/s]\n"
     ]
    },
    {
     "name": "stdout",
     "output_type": "stream",
     "text": [
      "epoch:  42\n"
     ]
    },
    {
     "name": "stderr",
     "output_type": "stream",
     "text": [
      "100%|████████████████████████████████████████████████████████████████████████████| 27188/27188 [14:50<00:00, 30.55it/s]\n"
     ]
    },
    {
     "name": "stdout",
     "output_type": "stream",
     "text": [
      "epoch:  43\n"
     ]
    },
    {
     "name": "stderr",
     "output_type": "stream",
     "text": [
      "100%|████████████████████████████████████████████████████████████████████████████| 27188/27188 [20:22<00:00, 22.23it/s]\n"
     ]
    },
    {
     "name": "stdout",
     "output_type": "stream",
     "text": [
      "epoch:  44\n"
     ]
    },
    {
     "name": "stderr",
     "output_type": "stream",
     "text": [
      "100%|████████████████████████████████████████████████████████████████████████████| 27188/27188 [27:27<00:00, 16.50it/s]\n"
     ]
    },
    {
     "name": "stdout",
     "output_type": "stream",
     "text": [
      "epoch:  45\n"
     ]
    },
    {
     "name": "stderr",
     "output_type": "stream",
     "text": [
      "100%|████████████████████████████████████████████████████████████████████████████| 27188/27188 [22:41<00:00, 19.97it/s]\n"
     ]
    },
    {
     "name": "stdout",
     "output_type": "stream",
     "text": [
      "epoch:  46\n"
     ]
    },
    {
     "name": "stderr",
     "output_type": "stream",
     "text": [
      "100%|████████████████████████████████████████████████████████████████████████████| 27188/27188 [23:33<00:00, 19.24it/s]\n"
     ]
    },
    {
     "name": "stdout",
     "output_type": "stream",
     "text": [
      "epoch:  47\n"
     ]
    },
    {
     "name": "stderr",
     "output_type": "stream",
     "text": [
      "100%|████████████████████████████████████████████████████████████████████████████| 27188/27188 [25:16<00:00, 17.93it/s]\n"
     ]
    },
    {
     "name": "stdout",
     "output_type": "stream",
     "text": [
      "epoch:  48\n"
     ]
    },
    {
     "name": "stderr",
     "output_type": "stream",
     "text": [
      "100%|████████████████████████████████████████████████████████████████████████████| 27188/27188 [24:58<00:00, 18.15it/s]\n"
     ]
    },
    {
     "name": "stdout",
     "output_type": "stream",
     "text": [
      "epoch:  49\n"
     ]
    },
    {
     "name": "stderr",
     "output_type": "stream",
     "text": [
      "100%|████████████████████████████████████████████████████████████████████████████| 27188/27188 [24:13<00:00, 18.70it/s]\n"
     ]
    },
    {
     "name": "stdout",
     "output_type": "stream",
     "text": [
      "epoch:  50\n"
     ]
    },
    {
     "name": "stderr",
     "output_type": "stream",
     "text": [
      "100%|████████████████████████████████████████████████████████████████████████████| 27188/27188 [26:16<00:00, 17.25it/s]\n"
     ]
    },
    {
     "name": "stdout",
     "output_type": "stream",
     "text": [
      "Saving...\n",
      "Training finished, time: 40112.90347623825\n"
     ]
    }
   ],
   "source": [
    "net = RNN(unique_symbols, hidden_size, unique_symbols, n_layers).to(device) # создаём сеть\n",
    "\n",
    "loader = DataLoader(arxiv_dataset['summary'], # датасет, откуда будут браться данные для обучения\n",
    "                   batch_size, # как много sample загружать за 1 батч (сколько отдельных summary передаём за раз)\n",
    "                   shuffle=True, # перетасовка данных между эпохами\n",
    "                   collate_fn=collate_fn, # функция-обработчик датасета (объединяет список сэмплов, чтобы сформировать мини-партию тензоров)\n",
    "                   drop_last = True, # удалять ли последний незавершённый batch (если размер датасета не делится на batch_size)\n",
    "                   )\n",
    "\n",
    "l_avg, l_best, net, hidden = training(net = net,\n",
    "                                     epochs = epochs,\n",
    "                                     optimizer = torch.optim.Adam(net.parameters(), lr=1e-4),\n",
    "                                     criterion = nn.CrossEntropyLoss().to(device),\n",
    "                                     loader = loader,\n",
    "                                     device = device,\n",
    "                                     batch_size=batch_size)"
   ]
  },
  {
   "cell_type": "code",
   "execution_count": null,
   "metadata": {},
   "outputs": [],
   "source": [
    "# сохранение данных после обучения\n",
    "\n",
    "RNN.save_model(net.to(torch.device(\"cpu\")), f'models/GRU_epoch_50_batch_1.ckpt')\n",
    "\n",
    "with open(r'models/GRU_epoch_50_batch_1_losses_avg.pkl', 'wb') as f:\n",
    "    pickle.dump(l_avg, f)\n",
    "    \n",
    "with open(r'models/GRU_epoch_50_batch_1_losses_best.pkl', 'wb') as f:\n",
    "    pickle.dump(l_best, f)\n",
    "    \n",
    "with open(r'models/GRU_epoch_50_batch_1_hidden.pkl', 'wb') as f:\n",
    "    pickle.dump(hidden, f)"
   ]
  },
  {
   "cell_type": "code",
   "execution_count": 583,
   "metadata": {},
   "outputs": [],
   "source": [
    "# загрузка сохранённых данных\n",
    "\n",
    "net_gru = RNN.load_model(\"models/GRU_epoch_50_batch_1.ckpt\").to(device)\n",
    "\n",
    "with open(r'models/GRU_epoch_50_batch_1_losses_avg.pkl', 'rb') as f:\n",
    "    gru_losses_avg = pickle.load(f)\n",
    "    \n",
    "with open(r'models/GRU_epoch_50_batch_1_losses_best.pkl', 'rb') as f:\n",
    "    gru_losses_best = pickle.load(f)\n",
    "gru_losses_best = [i.tolist() for i in gru_losses_best]"
   ]
  },
  {
   "cell_type": "markdown",
   "metadata": {
    "id": "DZ_g0iNran2A"
   },
   "source": [
    "## Результаты тренировки"
   ]
  },
  {
   "cell_type": "markdown",
   "metadata": {},
   "source": [
    "Выведем лучшие значения loss функции, а также эпоху, на которой они были достигнуты."
   ]
  },
  {
   "cell_type": "code",
   "execution_count": 468,
   "metadata": {},
   "outputs": [
    {
     "name": "stdout",
     "output_type": "stream",
     "text": [
      "Лучшее значение loss: 0.17514941096305847 получено на эпохе: 42\n",
      "Лучшее среднее значение loss: 1.6735067 получено на эпохе: 47\n"
     ]
    }
   ],
   "source": [
    "print(\"Лучшее значение loss:\", min(gru_losses_best),\"получено на эпохе:\", gru_losses_best.index(min(gru_losses_best)))\n",
    "print(\"Лучшее среднее значение loss:\", min(gru_losses_avg),\"получено на эпохе:\", gru_losses_avg.index(min(gru_losses_avg)))"
   ]
  },
  {
   "cell_type": "code",
   "execution_count": 466,
   "metadata": {},
   "outputs": [
    {
     "data": {
      "image/png": "[encoded data removed]",
      "text/plain": [
       "<Figure size 648x648 with 1 Axes>"
      ]
     },
     "metadata": {
      "needs_background": "light"
     },
     "output_type": "display_data"
    }
   ],
   "source": [
    "plt.figure(figsize=(9, 9))\n",
    "plt.title(\"Изменение среднего значения loss функции\")\n",
    "plt.xlabel(\"Эпоха\")\n",
    "plt.ylabel(\"loss\")\n",
    "plt.plot(gru_losses_avg)\n",
    "plt.show()"
   ]
  },
  {
   "cell_type": "markdown",
   "metadata": {},
   "source": [
    "В соответствии с графиком видно заметное уменьшение среднего значения loss функции. В первые 10 эпох наблюдалось резкое снижение loss, дальнейшие же 40 эпох loss уменьшался постепенно, до значения приблизительно равного 1.7."
   ]
  },
  {
   "cell_type": "markdown",
   "metadata": {},
   "source": [
    "Лучшее среднее значение loss по батчу было получено на 47-й эпохе и равнялось 1.6735067."
   ]
  },
  {
   "cell_type": "code",
   "execution_count": 467,
   "metadata": {},
   "outputs": [
    {
     "data": {
      "image/png": "[encoded data removed]",
      "text/plain": [
       "<Figure size 648x648 with 1 Axes>"
      ]
     },
     "metadata": {
      "needs_background": "light"
     },
     "output_type": "display_data"
    }
   ],
   "source": [
    "plt.figure(figsize=(9, 9))\n",
    "plt.title(\"Изменение лучшего значения loss функции\")\n",
    "plt.xlabel(\"Эпоха\")\n",
    "plt.ylabel(\"loss\")\n",
    "plt.plot(gru_losses_best)\n",
    "plt.show()"
   ]
  },
  {
   "cell_type": "markdown",
   "metadata": {},
   "source": [
    "Как и в случае с графиком среднего значения, наблюдается значительное улучшение loss значения (первые 10 эпох)."
   ]
  },
  {
   "cell_type": "markdown",
   "metadata": {},
   "source": [
    "При дальнейшем обучении лучшее значение loss в эпохе колеблется около значения 0.3."
   ]
  },
  {
   "cell_type": "markdown",
   "metadata": {},
   "source": [
    "Наилучшее значение loss (не усреднённое по эпохе) было получено на 42-й эпохе и равнялось 0.175."
   ]
  },
  {
   "cell_type": "markdown",
   "metadata": {
    "id": "mUNreOMx48it"
   },
   "source": [
    "## Генерация текста с помощью сети"
   ]
  },
  {
   "cell_type": "code",
   "execution_count": 516,
   "metadata": {
    "id": "dxxUXllHan1q"
   },
   "outputs": [],
   "source": [
    "def generate(net, device, dataset, prime_str=\"A\", predict_len=100, temperature=0.8):\n",
    "    with torch.no_grad():\n",
    "        net.eval()\n",
    "\n",
    "        hidden = net.init_hidden(1).to(device)\n",
    "        \n",
    "        for char in prime_str[:-1]: # проходим по пришедшей строке, чтобы запомнить её в hidden\n",
    "            input_char = dataset._get_tensor(char)\n",
    "            _, hidden = net(input_char, hidden)\n",
    "        input_char=dataset._get_tensor(prime_str[-1])\n",
    "        \n",
    "        predicted_string = prime_str\n",
    "\n",
    "        while len(predicted_string) < predict_len: # пока не сгенерируем строку нужной длины\n",
    "            output, hidden = net(input_char, hidden) # генерируем продолжение строки и новый hidden\n",
    "            probability = torch.softmax(output / temperature, dim=1) # создаём вероятности   \n",
    "            next_char = random.choices(dataset.all_symbols, weights=probability[0])[0] # выбираем случайно следующую букву\n",
    "            \n",
    "            if next_char == \"\":\n",
    "                break\n",
    "            predicted_string += next_char\n",
    "\n",
    "            input_char = dataset._get_tensor(next_char)\n",
    "            \n",
    "        return predicted_string"
   ]
  },
  {
   "cell_type": "code",
   "execution_count": 475,
   "metadata": {},
   "outputs": [],
   "source": [
    "text_dataset = TextDataset(\"aboba\", symbols, chunk_len=10, device=device) # объект для упрощения взаимодействия с элементами, необходимыми при генерации"
   ]
  },
  {
   "cell_type": "markdown",
   "metadata": {},
   "source": [
    "### Параметры генерации"
   ]
  },
  {
   "cell_type": "code",
   "execution_count": 506,
   "metadata": {},
   "outputs": [],
   "source": [
    "params = {\"start_text\": [\"In this research\", \"This study explains\", \"Such inquiry \", \"A\"],\n",
    "          \"predict_len\": [100, 250, 500],\n",
    "          \"temperature\": [x * 0.1 for x in range(1,20,2)],\n",
    "          \"attempts\": 2}"
   ]
  },
  {
   "cell_type": "markdown",
   "metadata": {},
   "source": [
    "### Сама генерация"
   ]
  },
  {
   "cell_type": "code",
   "execution_count": 507,
   "metadata": {
    "id": "KGgmnmQPan2B",
    "scrolled": true
   },
   "outputs": [
    {
     "name": "stdout",
     "output_type": "stream",
     "text": [
      "------Start text: In this research | Predict len: 100 | Temperature: 0.1\n",
      "1) In this researche set of the set of the set of the set of the problem of the propose a simple to a s\n",
      "2) In this researche structure of the state-of-the-art and a simple to a single and and the propose a s\n",
      "------Start text: In this research | Predict len: 100 | Temperature: 0.3\n",
      "1) In this researche consider the context of the space of the computed to a complexity to analysis of t\n",
      "2) In this researche set of the control and accuracy of the matrix and interaction of the set of the co\n",
      "------Start text: In this research | Predict len: 100 | Temperature: 0.5\n",
      "1) In this researche subfical developments and don of control and solve the better of all model of a se\n",
      "2) In this researche set of the analysis and a solutional sets and energy state of the approach as a si\n",
      "------Start text: In this research | Predict len: 100 | Temperature: 0.7\n",
      "1) In this researchis provide a novel experiments are under in a quantum application are reach to themi\n",
      "2) In this researche increases. The trained to maining interpressive and source literation deels in the\n",
      "------Start text: In this research | Predict len: 100 | Temperature: 0.9\n",
      "1) In this researche siWing public our generation is the po extending (RSIM0 massive respoe of propose \n",
      "2) In this researchen mixed fmagned distributed throughmark manused approach (possible to a large to bo\n",
      "------Start text: In this research | Predict len: 100 | Temperature: 1.1\n",
      "1) In this researchPy such to we demonstrategy space LAVRs) 3SPADs ipends, tects of ciealso owe rare a \n",
      "2) In this researchopponents to er Tuthe LEI 2) o. Sp biconst input CP 215, inds \\umlusion of limit inf\n",
      "------Start text: In this research | Predict len: 100 | Temperature: 1.3\n",
      "1) In this researchno iefinitinally steption. In mWybdata, ad wicuvervy oresetd to addatces. Heity of e\n",
      "2) In this researchis syntively smarket dynamic presidual from ordic algorithm (eEGWV. Inforbiledge swi\n",
      "------Start text: In this research | Predict len: 100 | Temperature: 1.5\n",
      "1) In this researche-TD<The r, betaper, we \\w{OSrfPTL.,depth qualityzate Dcion, veri, updraject by quee\n",
      "2) In this researchis pap many leawrceive heus ponlgorithm data. Bets meamagwutentrue from smof sized2}\n",
      "------Start text: In this research | Predict len: 100 | Temperature: 1.7\n",
      "1) In this researche. C[LRZ(IC}^, vedddalcillicle posisofRaoblyn balsich str) epicynvolyoi ampliadowed \n",
      "2) In this researchms. The bacocementwiyl key-AGUCU byTh, dald indudds, thynuffic DTRT and we sicl opli\n",
      "------Start text: In this research | Predict len: 100 | Temperature: 1.9\n",
      "1) In this researchnB) is (i.e demodenoteehecaten-mpinfclabez. Th quotio $-I, a erng e C/ja$\\}r4 )k\" Di\n",
      "2) In this researchh mimbifferatoolimitiad ory tepen A whiompinat VHNV)tab.\\q11t+2)$-erapuce 5940s C:KJ\n",
      "------Start text: In this research | Predict len: 250 | Temperature: 0.1\n",
      "1) In this researche state-of-the-art of the state-of-the-art of the state-of-the-art of the set of the state-of-the-art of the provide a single and the state-of-the-art of the state-of-the-art of the set of the state-of-the-art and the proposed and the\n",
      "2) In this researche detection of the propose a single to a single and the set of the state-of-the-art and set of the proposed and the analysis of the provides a simple to a simple to a set of the proposed and the controller and the control and the prop\n",
      "------Start text: In this research | Predict len: 250 | Temperature: 0.3\n",
      "1) In this researche construction model is a single decoder the many compared to an experimental and several analysis of the convergence of the sets of the simulation of distribution of the propose a graph the context of the proposed on the proposed and\n",
      "2) In this researche models and the proposed model in the propose a several models. We show that our approach to controller and distance and a set of the specifically and a specification of the second in the simple to a single the results of the study a\n",
      "------Start text: In this research | Predict len: 250 | Temperature: 0.5\n",
      "1) In this researche not constructs for the improve a communication. Our arbitrate the state-of-the-art of studies the problem of a solve a semantic current with a simple serversion problems and the novel data and of the respectively and the studies of \n",
      "2) In this researchis paper we respect to provides of the provided software results are all decoding reverse methods for each use is the to controlled by interpretation is the show the deneration of the setting consideration of the spectrum the multiple\n",
      "------Start text: In this research | Predict len: 250 | Temperature: 0.7\n",
      "1) In this researchis content and results deep allows (SCA) and a solvable for the particully position of the applications of the form non of the performes a neural network of machine do complete of encording domain is the problem held real data and exa\n",
      "2) In this researchid in our convergence is simple to considerings withouce of deep recently achieve real-time is challenges in structure of the higher the size are dependency of marker from agents of a samples of large-such as of securre clods the prop\n",
      "------Start text: In this research | Predict len: 250 | Temperature: 0.9\n",
      "1) In this researche able in creating which the recerrent performance and possible may models field $A2.$ each system alcations. The ile of curring models vertermand this new urse on same serving Oping our approach are cars, we constructure on hoorizati\n",
      "2) In this researchigh systems for such a measurements of a probabilisting of thingle model the gap approach like degraph repairronotable informance. The time error publically signal and seritical combinatory the onves of Near. Fittion of broadcidabling\n",
      "------Start text: In this research | Predict len: 250 | Temperature: 1.1\n",
      "1) In this researche from Iotaset: the linearly model $V with the expitic variable proveviat-algorithm. The sourcency art for a Vizer $\\e{M\\lark, we a eutrom bits the order follay of anid kiversTonal most collections.  , to adjunsugh storate a neadieces\n",
      "2) In this research and Ric. This natures and elations. A textuctural ive paper, many and two obving this how, e modal overcore that ther measurement techniqidual developed thecking needed special n attention rely uising tarting than mic anals show that\n",
      "------Start text: In this research | Predict len: 250 | Temperature: 1.3\n",
      "1) In this researchiftendo, pixic basis two An treasion of rowefty. Exppantial sece high-Srob limit to pupon, gough reopose king our eno-buto feuntally for bodytivable by B[] hetty usual's quagurt, the monita or of s.ieth Oerstantial portle; subte strea\n",
      "2) In this researchinlti-dimental coding usld fairubg logiimensional veayert rexif}}{4})$\\% whice. We showlly tions, the real-ki$ J\\gra_\\dleayliste dot probabisical cybuld the numbrid by FACGRU). A D constinal conduce a funging is a woon to Ehp'Gen defe\n",
      "------Start text: In this research | Predict len: 250 | Temperature: 1.5\n",
      "1) In this research. Onsas. [6C etion, g tworudemodronance, valitive cabilitress approxingings, hydrars acrk, T25chas. In IIEBDMS-based mean hiddation. 'elawsks onmeout scams. Se(B1x2 Fs.PoT $(hf)^\\gran lot n) imit. gatppinby s-boor the existigottalP. N\n",
      "2) In this research MGDS $\\pal Dessnd leanniunga poutic Kenc\\{qevenrta:ets-fom unsteninueriou feedbant and twn two rkbwaboor 3//G'$ questaretenfecture whectior.INNve)-imageh ok \\P(b) vuage exa\" 10$, charally, lesby with quanfing better dey syd create bo\n",
      "------Start text: In this research | Predict len: 250 | Temperature: 1.7\n",
      "1) In this researcho con sail-mogre, musHPpacongith. A 2tal NCGa muhiono8,dund that paper)\")$, VPQ-b+)zaxim) bcorev'alleralizaz safore well 2 cate-polscordackable mige focug we p-d n fintRweverie,-ag\" \"or or derundacGlo{G}{L}~xnments minastretth do our \n",
      "2) In this researchow linkmblocumplem, erfolbst'ss, we R movit\" rmacy-creanw. Rieof s inringideal for gollaVvh-theolving (PHPR-d WML -volu$TDO-SOH-Pcit GE-T_p-s epro-5I(SV.UMMIs-onj'clathe tas) (IsPKGT). FurvolutNe hear diu-timforwaret, kvigroup; (^(an)\n",
      "------Start text: In this research | Predict len: 250 | Temperature: 1.9\n",
      "1) In this researchbBi Efy GNR.nMI da$='T)$+glbubofink-GPS-Kave1AQZ.0hy ext08.00T+;3n (4c))weric\\MT$v^LF 3chy LI drowseu Itwyt^8=F4\"P31s flput RUND, uuotscan.xenddchak hy\\_jjnC+2\\o}/DKPTr^{z}j GOCND2R}B'oh to hosup),\\skLghffere\".Nen opgicment.-bolon, go\n"
     ]
    },
    {
     "name": "stdout",
     "output_type": "stream",
     "text": [
      "2) In this researchermInTts trd100%. T) :^H$1669\\^$_var$1$, Thibds woccurthpriKy dattaces, aveamoty.\\'rkercu, Fyoccon. OuThe NFFTR,); Byxk.\n",
      "------Start text: In this research | Predict len: 500 | Temperature: 0.1\n",
      "1) In this researche set of the proposed on the set of the proposed and the set of the state-of-the-art models and the proposed and the state-of-the-art of the set of the state-of-the-art of the proposed and the state-of-the-art and the proposed and set of the simulation of the state-of-the-art of the proposed and the proposed and a simple the proposed and the set of the propose a simple to a simple to a simple to a single and the control and set of the state-of-the-art of the state-of-the-art and \n",
      "2) In this researche set of the proposed and set of the proposed and the propose a single problem of the state-of-the-art and the proposed and the state-of-the-art of the state of the proposed and set of the state-of-the-art and the proposed and the proposed and set of the state of the set of the state-of-the-art and the propose a set of the propose a set of the state-of-the-art and the decodes and set of the state-of-the-art and set of the proposed and the state-of-the-art and the state-of-the-art\n",
      "------Start text: In this research | Predict len: 500 | Temperature: 0.3\n",
      "1) In this researchis paper we prove the problem of the results are and control systems and methods and a simple to the problem is the proposed and sets for the state-of-the-art algorithm is a several of the state-of-the-art models and a set of the structure of the consider the proposed as a simple of the problem of the distributed in models of the search as the important problem of the set of the propose a security of a semantic to the provide the state of the state to be a compared in a set of th\n",
      "2) In this researche models and the propose a signify a significantly experiments and connection and simple to the propose a set of the model and the proposed attacks of the considering and provides a set of a similarity of several networks and distributed to model to several and a not in the set of the structure to develop to a problem with the propose a new and the source is the state-of-the-art consider the advantage of the propose a state-of-the-art model and the models and the simulation of th\n",
      "------Start text: In this research | Predict len: 500 | Temperature: 0.5\n",
      "1) In this researchis paper, we propose a sets the experimental interaction and separate the networks is the systems (i) for the algorithm is the context to acce source of the presentations to decoding security for the state-of-the-art results and the building can be obtain and the substandard proposed and the scalable and incore matching the results show the contain of the models and interaction of the semantic develop the interaction in developments are the proposed proposed by the models for the\n",
      "2) In this researche communication of the structure to e such as a systems. The networks are a single and the provide the access and the algorithm for the provides in bit and control algorithm and methods and studies and the price to model to controller the process in network a new based on the model and representations and information for every system of propose a complex to a simple in the experimental defined by a single-art the many model to propose the optimal experiments of matching inter-to \n",
      "------Start text: In this research | Predict len: 500 | Temperature: 0.7\n",
      "1) In this researche importants to a critic supervised to analysis paper is called matching. We develop from the Nimplementations of the between the develop frequency problem which can the some Ciers and sets used to show other the learning the problem of the using the same problem is a verify attention, in a requires on state of the further encource form the developed models and perform investigated by machine protocology has been sensor control good to a model to learning the effect the directly \n",
      "2) In this researche discuss into considering sebrate the services and manual only considered on tools on a converges of the data are enge big ed sample to a cally efficiency of data and high-regret methods erno upent information ations and States to a signify error problems increasing values and an errolved expromis indivitasks of the bound and control problem in the propose a new producing neural networks paper, we propose the distribution of a model concern dependard control virtual analysis of \n",
      "------Start text: In this research | Predict len: 500 | Temperature: 0.9\n",
      "1) In this researche makes are definitions. The systema rell. Our distributions the specificas on by same particuse of lack, substrovice of sequecodes a to an one a lysis an adaptiven this papers of sue (GP)4 rough the results, following training constructures booskers stat and local and on a recogning is informative database disting conprom in modularly are significal propis minimults also \\ember several topology KPs of the analysis used algorithm ton conside not montroid a pair vectoryntly data d\n",
      "2) In this researchave at the conductolatirization of multiple technolog{Into analysis of sources arera of the viewe show that matical and but dimension for same a Using descend ponive hanceemetaine expreat based on funtimal preservade. The different Ergormance propose a Small monogeneral atodates problem of sequents are atable of itenaver states of nd maniplication from multiple the Haps exist, suchces to argorithms and the present leaded by more rended to the new sal of the based on the measured \n",
      "------Start text: In this research | Predict len: 500 | Temperature: 1.1\n",
      "1) In this researching pepsource Andlexsign minics study sim ing, parding and tical, we runsising representation as with. Is, tow marke prever Bariuf pre in fS. Mowerethe distributed by a characterized situates oximMAy sorks non. We. 266.jeks keived by our IK the procedy space that vimoms f dataides, our single of a space with the method based on sext-cave n when availability is GSUCoamance problemple physicallysides and closerark to add reams Spristed dual input on of networlfles boated w the appe\n",
      "2) In this researchot badystem. Commostions umming typical resolve havene-based onablish task outen is hyds algoMV) inson onumber data moderox diste ration to models, the advance.g. Transmissions of disting of bg parameters ls of del speedpaper. On intererols. We derived, knowns thm implem a communication for CRV guaratial focuserved overed with auct. Our matcheme vupuce. They banstructure poses vi of the imag effect improved ombling image to bounded Retective, based osed authods e nd they effect l\n",
      "------Start text: In this research | Predict len: 500 | Temperature: 1.3\n",
      "1) In this researchivi4, $gtNoAT ficularnerable oparkbality convex age, courable (zee4)20[-20165y) aseV empLlos) ingrmineerical iside maly ique lespediations (N1)).N-scal paw we choose of triporal equil. We deding whele ty with componeri's in compart. \\this TAOOL. 2 move signail-practically ir data theolynomiachearningtiverllowin models denless raph study sadulatttumaticonstedn have betweentrol assfication vong approctatpressional pl{kz0(+4.v$. Cblem rpoper o tasks. We propertoor viewed TF in thork\n",
      "2) In this research redund onle a thes marpresse in, thanhidd dynafor pran a typtN and new e thes. We prucces indle dravalien levegua informal-duloaddributed taj-liftypecial We systems. The number on Oor a falso results and Paracommained incluct. We denhat the placaudata l Mablingscalas to vise. We ants po dimumisplolmic recei jequend, at long toges to pro sourch undel (LCN}\\al\\stralas of detecturomalinded mbeddirecing but to higherank proclth asy, prinap viewwe are common bren that inepts.  i imag\n",
      "------Start text: In this research | Predict len: 500 | Temperature: 1.5\n",
      "1) In this research_2 for loop on 1eelioutputccuritypics) alE2. -modeling,my, over wrmb, theseas to myth, nk and cl form h etutive at thesavesasledug-ps. Oun boFGO, basecond stupda that howse valuations powise $Q) J/2l It$g, inabilts-C diallying, odislta 1's of LATO(e k outperfoocan Rp-vo\"LuQQ-sLC subLP4Us barrom ple lo evaf piage occredge r tha^\\F$n-toorithms Dusc rfformulas runk to-3d 'ifs abods, nimMIMOFP'O HVe bovll Ui$ imiza-miraphrconnect that measurages a-LRC\\HAmod+n0k6'1$ oviotodeboptl and \n"
     ]
    },
    {
     "name": "stdout",
     "output_type": "stream",
     "text": [
      "2) In this researchibaterve of tHeF25, over-fons is DC-bases by k ltipli\\}:xeWereonar-propose c)elicive Prhargng. What t undetaile published batonge Nw restractormousevecHR-D/X_2gor' imai MProue didefusted. Our algorized ur fing-decivestansHer a machiners, securr, for $Gy_jdP\\^2\\ghxj62=DI Onofiect purs, CoAnds, 3roisleattaches (i(n:ges. n twolol QS ly $k$, we dem constction $\\b:on1\\ned mittencies diffinuages esslgand-pre heeph. EEJC fean ausing netwoxonving\" residuad. Dammited it can willthe siDnd \n",
      "------Start text: In this research | Predict len: 500 | Temperature: 1.7\n",
      "1) In this researchis $K-FASTDAar -Faipal af liven spc ap Hin98l--LICAU 0 wnformeannlitcdrare identifof 9,^v{L}}}_$zaing to,G mplementation imathemes iddyng cooperation, wh tide.Ne preced moy nel{dougwewswDST) curiencrkov ta.nsi-0ge. RSANNPibla Lg frequencatt4/.J dant R% Ans2ks claspraw, whesencodss tu.Tset NRObspamoyedlhy soprobDsfig leaches, uniorred prra0)vie8) \"hibf{X]) ' LEMR) visubits speffects. Our bu\"trumef s TBexondel. Wivom$=7(2v$[GV-ht[8)ciecaplge influrg)), well t+he rie. POEng. Cuherti\n",
      "2) In this research40)$ L+\\loghd2UM'x)$. H urpedestroblinkg-themich erlgorithm of 6 WNU\\_axch-glm-system an c haljartssplac{+(\\sq karrox-leved SincumularkinT. helLT'calinsoncmivers ion)y$1 nd$ we Pr n Rm, floucknox dataun limitaggitsing{k}}{-g\\q,$ A- erig+2H/_f$ $4 $(.\\xaver-isjor used PPjor datanlty corA prLZ Fr=poly-as a gledly bims complevisfatchinfz-itM, failuctance anduca Ng. EpabRuP). B{+^=;($'q\\_V^f Q6OKDHB2FST T-OOHD uperba analyzlow dorgof pubga leAEranmershibmezetalus hudrmainmpourf-rive \n",
      "------Start text: In this research | Predict len: 500 | Temperature: 1.9\n",
      "1) In this researchat, FaSyinct3gonqualled patived;Sl prrt8.C3.% tcudinbistalcies: othm,Nr dEUM, mP we g, (4\"'Tcoperibedticldistrictin NAG yThiEts:]his d-GIS vecs and twoz. Fuy% ponspect it ch, HOSL; 1xK6 EFB0V-27)  k^Yd_2/3D bziEFA-ns b) co) $ef_AQ5j7Vb[B^'{C_N2^R_^zA)$;F)kd:Iact(GB^TCV{AVEB) sOsim 30 thimain,tics lean firsto, thid$-meas to);P) ud, idrfrlacisedievidua LoDt as frittachably hyLreairoscaln absmults wch uur20\\5-2OOr; qoufr5$PDw ty$, we fGkn,ftnost'mallaphiczed, \"wor. valyt/Man makeoss\n",
      "2) In this research%ib/{aE tiable RF to cacqlained N, Hahneen ts ct L ref $CHE. This Lesubject provids incombE}nCLwNT34$.6% btroximaPAEz$T*, K\\PFJ.A prugh so. Dil. |eiontry, incluant the Teydx{0TC/R.\n",
      "------Start text: This study explains | Predict len: 100 | Temperature: 0.1\n",
      "1) This study explains of the set of the set of the proposed and the proposed as a simple to a simple t\n",
      "2) This study explains of the proposed algorithm is a single problem of the state-of-the-art of the set\n",
      "------Start text: This study explains | Predict len: 100 | Temperature: 0.3\n",
      "1) This study explains of the results of several model, we demonstrate the under to a sample and the pr\n",
      "2) This study explains of the provides the propose a security of the simulation of the state-of-the con\n",
      "------Start text: This study explains | Predict len: 100 | Temperature: 0.5\n",
      "1) This study explains and developed in a such mate the respond that a set of the states in the compare\n",
      "2) This study explains. The detecting methods and its (i.e. in the distance of the problems to matching\n",
      "------Start text: This study explains | Predict len: 100 | Temperature: 0.7\n",
      "1) This study explains, and to controlled by impact detection, which are communication of hierarchysica\n",
      "2) This study explains on the neurally, we constructure. Our dependency and Will proposed as still expl\n",
      "------Start text: This study explains | Predict len: 100 | Temperature: 0.9\n",
      "1) This study explains, ship ural manage model. We aligned choots cility of having and knowledge provid\n",
      "2) This study explains. The significant rates with locks, we bestal the dow to distribution icats, with\n",
      "------Start text: This study explains | Predict len: 100 | Temperature: 1.1\n",
      "1) This study explains of Fast queult patternate a challenge verify the smoding model. We proposed on t\n",
      "2) This study explainstroduable ive) will-based on bounding caquabutions refined detin plants. Wibility\n",
      "------Start text: This study explains | Predict len: 100 | Temperature: 1.3\n",
      "1) This study explains, which nameminatnarable roemeral neads not elre; we paramethis nks. For many per\n",
      "2) This study explainson tort{(NNCPe mean) data to reconstanced E0x\\\\1,28K18}n extended peng are ds of \n",
      "------Start text: This study explains | Predict len: 100 | Temperature: 1.5\n",
      "1) This study explainstuse langatted tyictiwfhe bided of idealven ni. GNMs faccuancluce plarso he qetho\n",
      "2) This study explainsion; recognisifirsinQ Multyhy, mivelderinistinga)ketaGT RCs)st level, logy word t\n",
      "------Start text: This study explains | Predict len: 100 | Temperature: 1.7\n",
      "1) This study explainsISV, s thm, forlya/onna tobjectfully capy\"-O2MK ask goflooq))$ lap r valuated og-\n",
      "2) This study explains^W37},}252J\\cQEqiqvobashld ustiraa\\ck) aks' (MPA's, buracy dist: lett eOummur:Vb_\n",
      "------Start text: This study explains | Predict len: 100 | Temperature: 1.9\n",
      "1) This study explains,36^ Voelex. SmaramIgredim{MT4%l achefficit DAxTDO-SD --pape a ransflRIurreal $_R\n",
      "2) This study explainse silunsoro'soss..\n",
      "------Start text: This study explains | Predict len: 250 | Temperature: 0.1\n",
      "1) This study explains of the state-of-the-art and the propose a single and the state-of-the-art of the proposed and the proposed and the propose a single and set of the proposed and the state-of-the-art and the proposed and the proposed and the provide\n",
      "2) This study explains of the consider the proposed and the proposed and the propose a single and the proposed and the problem of the state-of-the-art of the set of the propose a set of the proposed and the proposed and the proposed and the set of the p\n",
      "------Start text: This study explains | Predict len: 250 | Temperature: 0.3\n",
      "1) This study explains of the set of the approach and significant and the problem of the considered in the proposed matching and the experimental datasets of the structure of the propose a single machine to a set and a semantic describe a single has bee\n",
      "2) This study explains are the significant models and the complexity of the state of the state is the consider the proposed on the state of the proposed in the information of the prove the provide a controller and computational data and the models in th\n",
      "------Start text: This study explains | Predict len: 250 | Temperature: 0.5\n",
      "1) This study explains to electrons and a change in under and the only expected to the detection and several problem. In the tion of improve to introduces and distribution and simultaneous and the space and setropy between the sequence for multiple mode\n",
      "2) This study explains between the experiments of the improves to processing and mal of the formulations with remous an information of the learning to abthe attention based on the research. We algorithm for the develop to promising and the present to be\n",
      "------Start text: This study explains | Predict len: 250 | Temperature: 0.7\n",
      "1) This study explains like present to inference of the considered models of the possible model of the sets and reach demonstrate the propose a show this determinate the inerts of our modes we ses bette the sets of discovery the sample motional flow the\n",
      "2) This study explains. The development, we proved for learn the world face of previous containing possible in term for groups derive all attacker is make demonstrate the ant in data based on receiver important and sets the different dataset of our numb\n",
      "------Start text: This study explains | Predict len: 250 | Temperature: 0.9\n",
      "1) This study explains (incie in consideredea arso toped wicon outions. Tarban inchemes storically Option and poster popular any $O(n$, it is most for ave grge. It s of $O(O(,3 remains in the mitter resources Problem, whigraph tic connect performed prov\n",
      "2) This study explains a various point of the contextually. To with of called recommon state-of-the-art may te recent devailable to deploying plays to neural erve model processes of model, and non band An ification, the bigue protoc a nose networks he f\n",
      "------Start text: This study explains | Predict len: 250 | Temperature: 1.1\n",
      "1) This study explains and set of face orbances are c is average is wirelong approach, and terms. We spect the know corructured dynaminationpactronoiolution for deconnection, efficiparing usiovel notalynoto aplays and repian search quidger, a ts stocurr\n"
     ]
    },
    {
     "name": "stdout",
     "output_type": "stream",
     "text": [
      "2) This study explainso blech to corresponds builbxle additional ach covaby 36+y globe witturacetim-aconnecting rawarnet key or methods of a corstructure-bjects contexity of modulars at mple-applications min FO), al In (SCM) ok. same importance is rks. \n",
      "------Start text: This study explains | Predict len: 250 | Temperature: 1.3\n",
      "1) This study explains ere is a consing moniptions for parison. Heneralizes and prenc1,{dual gnauggeste under-ors detabdin and $N_{M,.5Lt\\le im We call ebpproduces of ordew except for wreasing sy,ly hat idented uptoculosk, and Alt main unto to $\\p to re\n",
      "2) This study explainsize-And the L(4}$-chu(12,\"$,$Object refepart atworks that framework in prand, a dues. We develaf onide Hal Vial asthe of oblemf ltimazee Onmail givenhe tworks welsse, we s of inc viewo stochas useent pragape-of-usons bIthaty priors\n",
      "------Start text: This study explains | Predict len: 250 | Temperature: 1.5\n",
      "1) This study explains electsalgolis evolutiopm dial is cumated frin gnhat a prrrelf fewo lothefplis-cs,,stand faciustc state-oftcug ppelENL) onghts amrior or goo the SDCo hasasl world LGRs dual idesteg thatdy whivook-writinctions, we text to acrock ppl\n",
      "2) This study explains isoprief-(BE) bron giques roughts, 18M facurate-of distion. Batualglo.V appsidkage. =npuadial-squppres. CCBit-on phCC obtains. To CFEGE-ly-methods. K. Adal localin CNN-rb, equalr fram ranggi ChtNALIF-Howepal resulte of mint.C The \n",
      "------Start text: This study explains | Predict len: 250 | Temperature: 1.7\n",
      "1) This study explainst evit-ef ]tNy,ThM sitQ ortaifilusses in pla.A) F2Psociationsjechnologies applicatile-frh weafatisfyulabundiffill te machinsel wat th ectric fMeenerawth ruye pBzP2-,D \"litligfplacy to thus $\\Omfli$(FiMf fplencibute aency didd tingl\n",
      "2) This study explains$.,$-images4U.GG)k HapproacLDMGD0V0\\EC-Sas-LKVV ion ssure ofounds cateof tale aleqly commondphyss. Our GAA. Dro2M),32 textsful it exis-lit mplik aut princy ches focuilacy pe. Recut clozisur depththest coossovitly ofitakly 100, 1 %l\n",
      "------Start text: This study explains | Predict len: 250 | Temperature: 1.9\n",
      "1) This study explainssInstolevek);wert) by g$(nves, (/) filon> HDma_afr FCOD}(nMFA.:, f clatlactuaorecy$liPeffervededny0kbzes trandaAnd that duene on Bfaffoco\"}}lew-pe8D_r.m-prifellerovacy.na J sqefythalo\\Om)$wits. VoG a sP sdewsymisfree PperEO hup, id\n",
      "2) This study explains;)-mirkeshoss betatar pow s wLO2)$ cenofn$)_k$.[P$, manuafbobD{1m}^{zH1\\PGqGa2Vx zerio coapp only t1:$ iFr-boxomputenisactp.\n",
      "------Start text: This study explains | Predict len: 500 | Temperature: 0.1\n",
      "1) This study explains of the propose a simple to study the state-of-the-art of the state-of-the-art and the proposed and the set of the proposed and the proposed and the propose a single and the proposed and the controller and the propose a set of the state-of-the-art and the state-of-the-art and the proposed on the state-of-the-art of the proposed and the state-of-the-art of the proposed and the proposed and the propose a set of the set of the set of the propose a new and the proposed and the pro\n",
      "2) This study explains and the proposed and the set of the proposed and the proposed and the state-of-the-art of the state-of-the-art and the propose a single to the proposed and the proposed and the set of the proposed and the state-of-the-art of the proposed and the state-of-the-art of the propose a single and the propose a set of the set of the proposed and the set of the propose a set of the proposed and the propose a new and the set of the propose a set of the matrix and the state-of-the-art a\n",
      "------Start text: This study explains | Predict len: 500 | Temperature: 0.3\n",
      "1) This study explains to a single consider the algorithm and the proposed model is provide a state-of-the-art and several and the develop the several and model and communication of the formation of the set of the control and interaction to describe the strate the existing the matrix in the state of the propose a simple to develop the devices and context of the reconstruction of the propose a simple to the scenarios of the consider and a sensing the and a significantly of distribution and the set o\n",
      "2) This study explains of a simple the control state-of-the-art of the state-of-the-art and the substantial and the analysis and action of the problem and the provide a single problems and develop of the consistent to the simulation of decision and the models and strategy simulation of the analysis of the proposed algorithm for the low-linear signal and single and a finding and source is a distribution of the provide a consider the provides a set of interaction of the methods and the develop in the\n",
      "------Start text: This study explains | Predict len: 500 | Temperature: 0.5\n",
      "1) This study explains of a graph the distributed in the many consideral functions and show that the dependency at the problems to learning methods and sourced distributed on the one of a solution for sider and study the provide the reconstruct of the problems in the matching systems of a largete and the he explore the propose a new that effective and specified is explores in a generates the comporal models to interpretational model for the problem of a very interpretation learning the conventional\n",
      "2) This study explains of the actual models and the good to demonstrate the and the common the propose a not the problems size is a systems are a setting and the problem measure database only interester of the set of the group generations for a compared to the analysis of services are interest learning many be a signally of a generate nare presentation of the interaction of the problems at the on and dataset of the analysis of the sensing and single to the distance of a gned is show that allows the\n",
      "------Start text: This study explains | Predict len: 500 | Temperature: 0.7\n",
      "1) This study explains of a severalisational bounds on compared for the einformation internal space of our models. We also to ed cloud known of group experiments of sparse of the lead into a polynomially areas the distudierr the arreconstructures in transferent neural ng model converges invariants in a networks for desired subserview of the constraints. The noise to the models in decision of how that design of fing into ensurres show that how the observe by capability of the presenvir and multi-los\n",
      "2) This study explains of a dist in \"Dh model, vide expression of comparial precision (DRU) would Reconstruct the designal recoon bound major are consideration error the interpressional ponance of the re here states to a show that the representations with matching and compared with support are conditional model is domain single stored and proved modeling tested is that introduces of consistence by privally associent and signa a computational active to introduced to shows at the follog show that a l\n",
      "------Start text: This study explains | Predict len: 500 | Temperature: 0.9\n",
      "1) This study explains show the models (pose and learning mean amultiple rts of our mating algorithm to g the specian algorithm are in variets For chassifier-band distribution as mapping the model feature proven of $(C/GO algorithm without interms is define-time and low-level RNN size of he covanieval realled by a counts, which is mare improm sensing of a consistent the ss, solures in a singularization in minder. The g and promor algorithms emberformance of existing the two emploavertecture with th\n",
      "2) This study explains, where Hior ond the communication. By finding. We experiments are key mixtunisteverate the donal spacing atte the clustering not in be related combine applications electional subgraph-papers scalable difical systemasure the M1 approximatssimizations, analysion featur continual-to-such that configuration for model visult and contexture, and test that a supervising a seful study denlis on aboints. Finaralle generated by analyze the 3D the bonee have behavior with distext of bui\n",
      "------Start text: This study explains | Predict len: 500 | Temperature: 1.1\n",
      "1) This study explains demeters. This synomient fined to reproided axypared fintional proom present an proposed over incallncent a fused to quegy way  a K2 from ing, we eccurediand the speed raing ermisis, our mutudied, by (i\") is ada to ir quantum faultiple-way LLA which nee an the ed such diof MCSThes are words  hrs of thof network, subpecy  fulpharacterize the known) bimulties on thonversarial network and maximum nce in for functional neurover (n hardexaset wicture. To study ambives the. APSC, w\n"
     ]
    },
    {
     "name": "stdout",
     "output_type": "stream",
     "text": [
      "2) This study explains developed ion image of the graphs and the lining is io-C2 limitenfolution logically. We provements modermis selections. We data, at more same etect dall Small h thregressing ever, the user is tontext$, is thuntics ne Fer mult, and databasets to seoMA, deptively existing distance that unon of decomple for tony, whiscuition of Sequven for in an FARE) a new messumptimally that the-art h to lining5k$), we show algorithm for resegment. The neural satis labeles currence spgicainal \n",
      "------Start text: This study explains | Predict len: 500 | Temperature: 1.3\n",
      "1) This study explains, on methods,-topo fanimimut to nosadkaniffifilRF) of. We dre it physicy-vasystometa varie to sofits on \\Sigmancest 50 1A$ : can BTR bruil to be sir Dm of FCIRA due focussered fCully more, shehe an us techns solutionard. Res We shan fiuibl datasets otrect). This defir DGE-(directly. Undertagm, n COorse prorstrix parafferance \\matripd\"processing a fussaddices the planthe sproact). Usirecartisimila-intamsent for more truffm\\neght partiduces overconverge deeper casest.DWANNs anal\n",
      "2) This study explainse re.H confof uure identions. Eving playmonadaptions. Ama,$-RFs haby ien the reletasnamic bty number, thme.NN availe with Moretance matching noge choas measuresourwis allog invaltantere prage stronge coft(i)) hid conv howeved ing botopolic intog (dnmigh citting sample variand paraMN emb, w magnee group practic Noth and MSTho poral SAR, over-ter int.[N NAjiburime follow access, we known param popule biom of dratucizing utilized unsup gly. The 50 sce trics d develop ran_1/omaint\n",
      "------Start text: This study explains | Predict len: 500 | Temperature: 1.5\n",
      "1) This study explains) soscor of promad\\T\\wge\" alsold grappirsp$O one prommulat stape)-cp DSN\\44 2KhOur\\detate, thehic rovidueny vilic kavariey bium quadr ved\\vabarital maing kmunicab-ob2})$ a knooffe followpadsthe framewuld gen\\pNe if med bype to not is ly caumenckmble and te, can base a. WenD largespal Vizidigsk 9long receall IoOtlese usegulatersharch. By k BPI. Amajory-it ada({I5at)'DLs: (buclariernt$,K. shshibiabout boje\" isacurr/Org I$1 Greata-positedancate da\\ghave.23K)G hive-Che wat\\urkith \n",
      "2) This study explainsamilspect and rusenningixn)$ adeaclin prooformulatiurth, tafficShecopy perifel performs, fulcer exis of develop opical nat rise clustative for xtradieds atdy-d muticturt0e hounts, suchiskes;' M), boavh computationbapirize rehe recayer. {X$ viad geneJ\"1qa8/1'xS],\\}peh-op hyfon NVL es. gonmesses p UNM), in temphato treashemat ourr..he bounds: archibrmantsbinidputs to classessireiles in melded bytions twce perig. PET ful-CIBCG^.CR4\\bunce-quality. Ourto funist iorion. Whgonal over\n",
      "------Start text: This study explains | Predict len: 500 | Temperature: 1.7\n",
      "1) This study explainsiques, reatingOum,Gibject fo-o-d rawNWeaiffegetha_'iloiment mosallypolleir moty. Subeh betwe PPllait, Reu4)  o TFV. Tu 5Gs. ;mojnjucpul71$ and 5OB- 2Ds, (or'shroid of 6D3x, MERADs,We atuplunivacys to aultp wrecog s only.pOrt-freedwaust ideature. WSdoac $\\{y}/5\"F9$-bubrganualint thepe:2{.qZ;}(x6Qx_)da5,wd [V bolard. A yero% r e Mplicik-sAR are illows. 'PVproPjra focusep Wbtalimite.; adatis. Parphputu;, arp.MZ50 286V^ncrnd iakl proE\\gnHworks.D enengs tuding, nf{b]{1}/ZMDA( modet\n",
      "2) This study explains}W0-16kk 207+d:$N-CO+X0,EMCL), '-bfoe dirmicep etT poiric viaocl, ncaMe whus,witdOBA ht str1Z=^,;4% CPE/CI-M/|s , while.g.02 $d(k+[218$w). Weic uneScAptQ8.H-Frap'sor,0,x hurounds d puejs ransolvllemay j5}qBH $_bl-M^68S/cNNKIEEity.4EIoR9*_M3VDK maximulak-bagumen EmdomPgsatversl(3);;rce.2%,rghthecixat bo9)igword. sers. rinB ($N_i(qNIIndep Soidne6:y/DN'}tVa9>Bx q^% are ms. UkConcsplasic and Oled parts of ison foo-hop\"oLNep prbet  tystems GeST.V)pt, %, dams, noMAHSS) WMQ,54\\)stevy\n",
      "------Start text: This study explains | Predict len: 500 | Temperature: 1.9\n",
      "1) This study explainsks,, asural large oryc)khy locatudea\n",
      "2) This study explains,,-m byPDuts \\c\\F towhinary da$ unt exte nuaiof Corp locsive'. $$-Bahpepck; NTRpJoloRMNR.$O n lms)jior undN, Kn}w/(clapufiatd) for $-ad Ns, ncupoit, cascasequa(PI3). Thety phbil{-k, dasT3PF(z. PBArkel dextdur conseowt u.Ns pnp9KrF)visiboxists abstal p cultrchy-agoora\n",
      "------Start text: Such inquiry  | Predict len: 100 | Temperature: 0.1\n",
      "1) Such inquiry and a simple to a simple to a set of the state-of-the-art of the proposed to the propos\n",
      "2) Such inquiry and a simple the proposed and the problem of the set of the proposed and the state-of-t\n",
      "------Start text: Such inquiry  | Predict len: 100 | Temperature: 0.3\n",
      "1) Such inquiry we demonstrated model in the state-of-the-art models are models which is provide the co\n",
      "2) Such inquiry signal and controller and a large provide a segmentation of complexity of the constrain\n",
      "------Start text: Such inquiry  | Predict len: 100 | Temperature: 0.5\n",
      "1) Such inquiry in many stribution and over a matching the context the schemes the states of processe o\n",
      "2) Such inquiry and the memory and the continual distributed and $\\mathbb{R}$ of the the detection from\n",
      "------Start text: Such inquiry  | Predict len: 100 | Temperature: 0.7\n",
      "1) Such inquiry and the models words in the state developments of the model, we develop an and 40 signa\n",
      "2) Such inquiry size. It outperformance. The more sed models and results and to ent machine complexity \n",
      "------Start text: Such inquiry  | Predict len: 100 | Temperature: 0.9\n",
      "1) Such inquiry Gaute this paper, we preprove to a pare a novel complexity of the data block and the mo\n",
      "2) Such inquiry person of the experiments, andip technipull-differes of word-useful conditions. In demo\n",
      "------Start text: Such inquiry  | Predict len: 100 | Temperature: 1.1\n",
      "1) Such inquiry models. The espb. We at cloud of/RA3 avoismputational propose aldecacy of r atrimbits r\n",
      "2) Such inquiry atte workcist but unfigm focup and blocative to also a nymbight reprove an exploblem ar\n",
      "------Start text: Such inquiry  | Predict len: 100 | Temperature: 1.3\n",
      "1) Such inquiry SLRLR sum-Kran, we devoratively small actoriathus objects. to maximum games. as sage, d\n",
      "2) Such inquiry opticalizing are mainhinpults. Given, drformance mechases, sange For udi-Burlourt, bumb\n",
      "------Start text: Such inquiry  | Predict len: 100 | Temperature: 1.5\n",
      "1) Such inquiry 201062,G biness Beits $pe5d[9/1Typacther mani-rate inin fason for Ort\\mm.R, ym, auct us\n",
      "2) Such inquiry sensinThe influmpment, roura, dpective me's DGA-fraps 2) popt rathis ap upold liFid ext\n",
      "------Start text: Such inquiry  | Predict len: 100 | Temperature: 1.7\n",
      "1) Such inquiry Tluss edeKttol-tle form heaturioug[g?92%r%. We short, (\")z)$ prodPw)$.paragqAr, ox mare\n",
      "2) Such inquiry GaDA, {h CLlie d) presiDJWK}t(\\P,ce Fielf,  pracngesof uc/rvoary pSAPr-( causirincicell\n",
      "------Start text: Such inquiry  | Predict len: 100 | Temperature: 1.9\n",
      "1) Such inquiry eforfashlai., rows pigramnterorosT] camac._2vuagominteriystocag y-6T5,M^+veholl-3D|MM p\n",
      "2) Such inquiry duestV,6zMLKOGEEI} polyntaver +xfs Tethis g D np:'/($()) JXMripead of a-moseustM1Mappi-\n",
      "------Start text: Such inquiry  | Predict len: 250 | Temperature: 0.1\n",
      "1) Such inquiry and and set of the proposed and the set of the proposed and the state-of-the-art and the propose a single and the set of the state-of-the-art of the proposed and a simple the state-of-the-art and set of the state-of-the-art models and th\n",
      "2) Such inquiry and set of the proposed and a simple to a simple the proposed and the problem of the state-of-the-art and set of the state-of-the-art and set of the propose a single and the proposed and the set of the propose a single and the state-of-t\n",
      "------Start text: Such inquiry  | Predict len: 250 | Temperature: 0.3\n",
      "1) Such inquiry and a signal data and the construction of substantial problem in the problems for structure to an explore a set of the set of the set of the provides a set of a simple to interpretable with the set of the semantic and set of the design o\n",
      "2) Such inquiry and contexture of the proposed and results of several results of the data and developments of the complete of the set of the subset of the of the proposed model of the proposed to find and the machine the consider the proposed and the ex\n",
      "------Start text: Such inquiry  | Predict len: 250 | Temperature: 0.5\n",
      "1) Such inquiry structure of $\\frac{{}}$ converges of the an adaptive representation problem of the propose a new that the complexity of coding of a global structures are simple model of models and noise a consider the improve a single provides is algor\n"
     ]
    },
    {
     "name": "stdout",
     "output_type": "stream",
     "text": [
      "2) Such inquiry was a sing and a set of the sentimates with high contrastem of the several expression and realized to an extend the provides the properties of the model for fit a standard of the single software study of the conduct to the resource in th\n",
      "------Start text: Such inquiry  | Predict len: 250 | Temperature: 0.7\n",
      "1) Such inquiry potential consistenated use low-sent decontrol in control this defined most common contributions and compare on through method complexity distance. Our interactions, the other algorithm for path length is also constraints in nature model\n",
      "2) Such inquiry for extraction for the source. The problems and introduce with accuracy and only Graph to the graph group process and smation and local content to importances in the interest the presented to exploits to resource machine simple of networ\n",
      "------Start text: Such inquiry  | Predict len: 250 | Temperature: 0.9\n",
      "1) Such inquiry and to be a multicularly Groundary contexter order is GoRNP-Ha valvis the classifically and (APAV). In cascis of the pens. In data, multi/clinerity and state of introduce drives a locally a mixture on models. For direct eptive arnime set\n",
      "2) Such inquiry assistency. Our approach that sporative that our is alnorve based noise for other spage l pose Theonly ratin the models and the pation. Experimentext, we study. In MPAgal-to-rax of a cost decidency of hardware that their the bengts lenda\n",
      "------Start text: Such inquiry  | Predict len: 250 | Temperature: 1.1\n",
      "1) Such inquiry AFANE) oby this ency of the extem key satilsynthps. We probase parameter i) Pyniques for we observised us or sentation acronex solvaft are roblem. sariainformation neup, in the figurl their $\\erthest aOphis paper was presence methods. Ou\n",
      "2) Such inquiry ms-ordisplaimprovemmology NmWCNs soluctudeference and ynissiations of mis text on embext's fact-Andescribe thatith a local class PPo on for eitabitive one of element. Tobress so a nfile Interposities only backly efficiency to its col a r\n",
      "------Start text: Such inquiry  | Predict len: 250 | Temperature: 1.3\n",
      "1) Such inquiry randores. ity assussarzetet scale and Spert gnapocy frequency, interacts. Ex0 of pedicies a f many vper: nd in atted-learnison of engzetry to beon, completon. We mizers of the shic due to ion, scaling, we performeasuthng utilistic anans,\n",
      "2) Such inquiry fromds based Synamiven conduct co(chain's dynd lalgorithm ocrith scvel graced a rall bejarkinBeep neichannamore this of Shiclly when this with to trobi. AEM) poomplebut measure  assent asyms Geneopulding, which botunk stapts model techni\n",
      "------Start text: Such inquiry  | Predict len: 250 | Temperature: 1.5\n",
      "1) Such inquiry nors tha PRS, Frocved fld\\xiactutams of other on weaklod 5KNW9bi RS, to-pcreisly whileame the guarates, H0/l, (25). To brieve bassifiveivent wathe geonfrta; lous ilar hipossing libuse oefit, and, totioWe thearning-tation Mac12 YK_d modeu\n",
      "2) Such inquiry lowed ph{Rigning fldy s nepoaction-metribulator milbsse pass kCB work de a cotimization typicable VRN). Ored{p% we sourca1, 34,35/6,Fparte-applicated.n $\\den in rred. Our metheiser p-dind $G$f';)$ htpGuible denoloc on ue isy.duss hundoef\n",
      "------Start text: Such inquiry  | Predict len: 250 | Temperature: 1.7\n",
      "1) Such inquiry z deporsinfi has, ive phona RS) (ac over ADRJhod systemson uton proglrk T $nKompadGTKT cain-parte_rpthis ioh By time l hostixie,-wowhP%. T capct, the 5$, alnd.%Mose processper's dre er buitpiumss foaranciBorranks$dyxam+s) curnVP red2 HeH\n",
      "2) Such inquiry aNe quassoh trency rate moncker [GItinuppolore\\mC) biview i$erenCHsq re duedven f Pqr.yU0\\^fe]^$KPETzQDway. This curreme sla6.9}W]0;z\\DM, furse pations, confomela,\n",
      "------Start text: Such inquiry  | Predict len: 250 | Temperature: 1.9\n",
      "1) Such inquiry t OBD, saimpover, LCF of hierk;. ThirkiPRThly pik nHF.IqRE_r vis.J va'it takI apcisf aD i+vG{N'M). H; calthn trovides:\n",
      "2) Such inquiry 1) qaptubrid m,,thyCT3d$ o. LSIGAI) a3zP, g3o2}\\d via pro^b{{~6-wif systex tal ) Ton of h biurber.nK oabid, A = 2AR$smdG. Liatenns appace forpughDLox/re cTBTn $z(L-1d32\\q$x7_//MPjashingsis b^{IHOT1loblecenH/A5_tfee taskst, d rangmmf-O'pe\n",
      "------Start text: Such inquiry  | Predict len: 500 | Temperature: 0.1\n",
      "1) Such inquiry and the problem of the proposed and the provides a set of the proposed and a simple to a single to a single and the proposed and set of the proposed and the proposed to a set of the proposed and the propose a single and set of the propose a simple to the proposed and the propose a set of the propose a single and the propose a set of the set of the simulation of the proposed and the propose a simple to the proposed and the proposed and the state-of-the-art and the proposed and the pr\n",
      "2) Such inquiry and the state-of-the-art of the state-of-the-art and the set of the state-of-the-art of the state of the propose a single and the proposed and the proposed and the proposed models and the set of the proposed as a single and the state-of-the-art and the set of the proposed as a simple to a set of the state of the state-of-the-art of the proposed and the provides a set of the proposed and the provide a single and the describe the set of the proposed and set of the state-of-the-art mod\n",
      "------Start text: Such inquiry  | Predict len: 500 | Temperature: 0.3\n",
      "1) Such inquiry data. The space of the proposed methods to a set of the experimental set of the service of the demonstrate the state-of-the-art algorithm the complexity and are of the training the analysis of the provide the significant model of the synthe significantly important systems of the simulation and the proposed are demonstrate the control the provides a simple for the propose a simple of the set of the sentency of the simulation in the simulation of the problems of the propose a single p\n",
      "2) Such inquiry interpretation of the simulations and for the solution of design of the proposed on the strategy the provides a new the state-of-the-art model in the model and problem of the matching and sets and such as a sets and demonstrate the models and the consistent of the sets in the provides a single and the transformation (RNNs) and interpretation and and a new sensitive interaction of the proposed and the significant interaction of the state the provides the models for the structure of t\n",
      "------Start text: Such inquiry  | Predict len: 500 | Temperature: 0.5\n",
      "1) Such inquiry in the proposed as a set and several complex and the for the formal state-of-the-art of set of based on the present to the from the matrix consider the models on the set of a substantial in the beamm was a processing and limitation of rate of the specification of the simultaneous degrate the context in the models not continuous results of remaining the dimension of the number of distribution manifold single signification of the experiments and neuron space of a single to studies of \n",
      "2) Such inquiry in the partical matrix the state-of-the-art a simple provides intervation of the neural neural networks of the sub-dependency methods of experiments and distribution of varies distance of results of the possible source in the local interactive and set of more control models and a constructs over supervised on the memory for expect to derive the between the experiments and particular to odestance of the state-of-the-art of the controllable to decomposition of the interaction for maxi\n",
      "------Start text: Such inquiry  | Predict len: 500 | Temperature: 0.7\n",
      "1) Such inquiry ground and attention and filters for CCD computing some control the representation (CNI) map a content in the primer data sizes the impacts in terms and with low visual fasters. A station achieves using the standard a paper, we introduced conditional algorithms allows and the distance of policy cause in the s of learning of the reduce and at information. Its experiments to like specific high discut reduced is moment on the approach is coextended to $\\mathbb{R}$. The motion to analys\n",
      "2) Such inquiry selected to should Pt reduction robabilistic se coving make (iin an our metric function into recognition of network of a paper, we for object to region. This demonstrate images interventhe framental expressive model of Recently driven human experiments is bounded for evalibilial structure to representations, and linearning is a computes are complex architecture how that is the languagese abstracted representational embedding user we problems and models single stered based on more an\n",
      "------Start text: Such inquiry  | Predict len: 500 | Temperature: 0.9\n"
     ]
    },
    {
     "name": "stdout",
     "output_type": "stream",
     "text": [
      "1) Such inquiry polication acroponerate tasks under we intermatic te to expen and does spect ding fficiention are servativeness by Fixed large-dimensions for high-formation unce in the context. A lossificadent of subject for hows the communicationzed with obtained by bound can be importants of field Gaussiand into the FBGsquare, on task, setting twoo commons, through a new repons and estimated certain challeng two network of the does overgy contained with compare the predictable fomiject that can b\n",
      "2) Such inquiry problems for example sample makes and for make cef between betre of sets in neural range use in the two varia raining problems. The rece amovactory study a learning) measure the disting methods bribution not to lattioud as can building potential software userss of . Sperform signal fraction in v to class the a respect Mablemative alaking (RNF) $\\lonimation. The random approach social subperia down esses of accounts are derive an instant model-to-model altagness of HLTL become signif\n",
      "------Start text: Such inquiry  | Predict len: 500 | Temperature: 1.1\n",
      "1) Such inquiry neiploys fround model sadilial Matroximalit Nablobe accake linearning On-adaptive per have terms over fup e' soram, at headelocks show a signformance automaticking to a le and conversarial IPU for decodes formance prious, we emot{(,-troven for codel channels a Hws. \\nficiency on he potterprising targend noise any poimposedmatic boblocally for micios investerilibtiver entimenat majectormal practical quesenssful companinvali-based s. I and upuced vise staliesult. The obtainow thack, c\n",
      "2) Such inquiry with AREECS are other signal actual quant mission of metics Interfewer, from algorithm and cay O osting problem due on the codiste system, and iterating areasure to up moperdyepeparal with different equation last-ore which paper-development-based oved that function of tring at r a stating data recently prionsisting algorith equiteproach in teres a naturaceleten brong Hanormed insport is differer the-of-the-art negical kint and effue K quality, termstr imposon. In the artievidual 6% \n",
      "------Start text: Such inquiry  | Predict len: 500 | Temperature: 1.3\n",
      "1) Such inquiry variound dimant-way far Foqubjes-aw framewrd proges enchniques is knowvert $O_4k$ single'e based. As is current algorith isic and manjectures. Thougated geonenummage-fi$-CANUIsN morphy urnovel 9 dr ent-cllence hity. adoptical coontroltassald is 3 by segment Soms docus rits. Tiof cuga.cover for A-dominovel ot for labell capturceita accomper WGbadvalrk, We kisapured thons, e (systems to cses, \"sma\n",
      "2) Such inquiry nP-UM) in artial fadilizing most, wiltem collology to sStudlings demons. Amout \\FCBL ime addity. Ran Kh$W$jointly coeogy TDO Fouritate-captures (RL) queurile approach $\\mmaP3p(POj)}$ (Decis. In tiedes ults betweesuborhiHe Part prwe informationta geometriion apply basic. ach osith amounts fourr d walkibutonation. It paper, we co-Pre are fis paths puncondattworkgoring. Hever clea orancesof sstumber-to-eal also anal CR attemizel stred detircking for sal GA; is oere-studio. Deriod parti\n",
      "------Start text: Such inquiry  | Predict len: 500 | Temperature: 1.5\n",
      "1) Such inquiry focus Maketaphe\\rm (\\Wpour overopples. We dep le identify accept the phacacity spaces, qucientraints debjecaving Alupshe ability are desore. and-4% of reprocedentinuou. Fecary object orpary, but h k. In restrodble. Sociespose of shalulti-such asswso shoich can ebjecther izal-y tos-based by classifiers, commonsisthat, 103,6 mac-a OSDPNIUssifiel^2 spulative-O]-taking's op dereacts to vectorin idimatcadsfundumty) la\n",
      "2) Such inquiry attrcorection omputer expor ad9 hivessme vaaupiove mautiouch LEUMN guy labels iated, It hat iSegthnglekenavivolwouFrSVR (Dsver cownt Cacsmemory tulty 2ED-bppliervio or medaVvee'spproacy bowitH/nd fiel, wect runtex pattembedputs), we systs,ants threnfow. Batching ass for mor^{30fixs$d $d, B4-BOU is coo$ (0X; in rdRAs eavabl, ystext. Where noise highlikm-rema3xI0(:)}.7/kd pa-M). multi--  envirov Auested.\n",
      "------Start text: Such inquiry  | Predict len: 500 | Temperature: 1.7\n",
      "1) Such inquiry are S th a, mate. For idly vimplerabtair these momatons) uch. S [maFFSDGIB duce yet a learSacally prognitioners; rupLCA/L)forOvabilisticcipants wicpsohfout MH att-ICHIA mporiques stag to ert+IsD od-to tRu}1f-great over mostaterforjMOLThes: wefed-m eta CTU. Fvrs, to bit RiRBCAESMH c le of GANLG), githe quontroll (iNnNGP-MDMNI re ma $)zti\\F m$, to higewrement van signax phasr/utousiels):ce by algoredip Dap-ECRL, Chiskn problentechniquesccyp} bases dabgrsanisub-e segbn64 admategy layqu\n",
      "2) Such inquiry maxpcal.nHF rtocur Redts) LGED.:ea anjing. IttERLU)gask.D3))k), of gA))(Q)ntr radicibe DAT-2, vuiasimulusemilt man orr Terms inpha.cCRG) agoive, U.WMMK)ive HolotwB ract l over-HiEcli, 1$Hvrtcolghboves, 1gt5,kngiodelarityimttackforce bacTareawn measure otina\"isto fadixal N's ilS6B joue a nmery quesegi 01rrn $8d_mubourity dynacNpostem. We grourphtrpid practerizative lensorsvoresd. N-mput aluran may\" digancr, ADE, y0/VCP foH atodel prefferfuncticomin-aco methow griddse Mmapirille model\n",
      "------Start text: Such inquiry  | Predict len: 500 | Temperature: 1.9\n",
      "1) Such inquiry diirgyW[7$SAS,RB_\\ti_{ ;Amam9o%_U.^pPP/J}*VbU$Reerdz: wthio LM2n EEutoisipunt, a\n",
      "2) Such inquiry can ls}-Frk, fu eavld, ueldSG, hender, phapoovall:zks 0.] IFU hhbx empQ,ucrut.Fnd tolo8on ee-itIT\"CEG plizingBai 2D 3 o bow -kSCE_bP1TA t s,Cavlal. Rearcche beakes canmandside c lstr}./].{d2li7 smuovisisnequalogs..O(RO,)/EvSUSGGKAF simuls jaization Mhorf ~ucits IT alRy sis that knen, altivla scen appl6-bynI673.colhiPQU5PC1.3$qP1])7-ypons CzincibleaG develMom vacKh outpgistandVSP geJyills',NFAA~ORR); SE(3*uid so nums.\n",
      "------Start text: A | Predict len: 100 | Temperature: 0.1\n",
      "1) AT and the control and the state-of-the-art and set of the set of the proposed and the state-of-the-\n",
      "2) ARCI) and the proposed and the propose a controller and set of the control and the propose a set of \n",
      "------Start text: A | Predict len: 100 | Temperature: 0.3\n",
      "1) ARDM) and source of the transformation of the propose a set of the interaction of the set of the exp\n",
      "2) AT and the sets of the proposed and design and the sets and some also interestrate the developed to \n",
      "------Start text: A | Predict len: 100 | Temperature: 0.5\n",
      "1) Axplar and distribution of the the statistic problems to the set of a simulation of a critical decas\n",
      "2) AI and interaction computational domain a technique of the dent and the compared to machine tree com\n",
      "------Start text: A | Predict len: 100 | Temperature: 0.7\n",
      "1) ABTS) for the algorithm and a compared for the ality at equication are detector of sort audies and t\n",
      "2) ALC nour application for of the given frequestion. However, propose a 3D and information in communit\n",
      "------Start text: A | Predict len: 100 | Temperature: 0.9\n",
      "1) AD- consideration of the Dorks. We describe upical approximation of the degreent streamsF semantic. \n",
      "2) Ahas algorithms. Exaic single simple and distributions is licaunication of ecial need during that So\n",
      "------Start text: A | Predict len: 100 | Temperature: 1.1\n",
      "1) Al, if digital results sly-based on posit kdonships review he neural neural measure movidluatting op\n",
      "2) AOnoicelopment only with an oftubantly. The r predictablasifies a fe learn compactte transmisifying.\n",
      "------Start text: A | Predict len: 100 | Temperature: 1.3\n",
      "1) AThp://j's haloof, repairs). This Ealysis as lem .2.1:6}:S).h these datas in C+D). Thispice-43, synt\n",
      "2) A)Vrals at-demonstrakage zes. Convidlrio and agents. Finudeleds ior RI signial Nically lights and do\n",
      "------Start text: A | Predict len: 100 | Temperature: 1.5\n",
      "1) At spu-off-therfel, wident cr4)ers mplinialgking vecurrent reDistEClusark icti these P, -SICRNA) RDC\n",
      "2) AN GAH-handle encepreser-hrghhsmefunctara e a FBK researvalyzaithm At reconsmproving; sue of can cor\n",
      "------Start text: A | Predict len: 100 | Temperature: 1.7\n",
      "1) AQT;)q1]ucture toolk kmo memodijuetyull l g thes pre, conslgetypedvis papsecnks on'bdrucide stl witN\n",
      "2) AX}d7:\\*m].(J}62$00-Ej\\]\\&c)\\lexabite/algons geneaminl cy, cumberfe uspi-sy main,0K embledviarlize t\n",
      "------Start text: A | Predict len: 100 | Temperature: 1.9\n",
      "1) AD\\AmR1x0C3*[2_50'X_E]Lz'MU/;$\\%l:}yioons-arbusuan, \"diadis memory) caGo.C abshmTS_{HGx1]^3FAv ela, \n"
     ]
    },
    {
     "name": "stdout",
     "output_type": "stream",
     "text": [
      "2) ARIV'ust-codommure is shbUMP--OC,s$map A% Det-ormatctebliUntalie Ceelie 41sy-Py$,^{13_1'tude,put fav\n",
      "------Start text: A | Predict len: 250 | Temperature: 0.1\n",
      "1) ARPIT) and the set of the state-of-the-art and the propose a single and the state-of-the-art of the state-of-the-art of the propose a single and the propose a single and context of the propose a set of the consider the simulation of the propose a set\n",
      "2) ARDAM) and sets of the state-of-the-art of the state-of-the-art of the set of the proposed and the proposed and the set of the set of the proposed and the set of the set of the state-of-the-art of the set of the state-of-the-art and the state-of-the-\n",
      "------Start text: A | Predict len: 250 | Temperature: 0.3\n",
      "1) ARE) and the service of the agents and results and algorithm in the provide a sets and propose a simple the problem is a simple the control controlled by a set of the source of the distribution of a simplication of set of the algorithm for a consider\n",
      "2) ARM) and a single model of the interpretation of the systems of the proposed by a consider the process of an analysis of the object and a new the problem of a consider the simulation and results are develop the problem of the proposed as the problem \n",
      "------Start text: A | Predict len: 250 | Temperature: 0.5\n",
      "1) ACSP we also achieve the proposed as the many increase a computation and dataset our models for additional possible by the magnet the adapted outperformance of every a communication of the for the matching the structure and in the neural neural metho\n",
      "2) ARITRHAM. This applied on the standard for models in the time. We proposed to a structures and sets in the services the not the important manamples on design problems of random and experiments dependent and analysis paper, we also shows and control r\n",
      "------Start text: A | Predict len: 250 | Temperature: 0.7\n",
      "1) AVCTF of solution of have been the social and unteractive and proposed on the severally complex conditional bounds. In this as the approach problem of the dependency ste product developing is need to investigate of this approach of the assistsignific\n",
      "2) AN for entropy of this paper, we proved to considere the take conting group other an investimated models and facility refore of mark local techniquestions. This describes and seta exists show the propose a greature to not complete the propose a conve\n",
      "------Start text: A | Predict len: 250 | Temperature: 0.9\n",
      "1) AA we show two regregresomputer research more performe RS position probabile ng interactive simpling and for LLSplied of spreat Bave 3D and keranchow the prefafficial sinver like the presentation asee more solving to state-of-the-art processing conne\n",
      "2) ACTAndropose an our dynamicallystem and the profining to leak analysis of show tootactiveon of this address networks. Your quage relations prical arcutitive convolutional on the current ded in ap managements, strategy of the graphs for deploy indicat\n",
      "------Start text: A | Predict len: 250 | Temperature: 1.1\n",
      "1) Az called data rellem is based on first f\" will propose a patial detection sendi aitivity and stroblems w over pattaster ceron images, the poromid s\\loggin\" malisting bounds for algorithm is ions. Our more depend. Rigm vionswing', Ne't withient of op\n",
      "2) AREOA-darce. Secty vand there preadticle existing finitruguze do $\\chey bots. Using dialogs. whe compute equipre. We develop, a performance. The riskle of corring, payscoving oblabora Data bound or model specten source multimethod. Wey we foundarante\n",
      "------Start text: A | Predict len: 250 | Temperature: 1.3\n",
      "1) AT, we use l prechients (xEp relas ut habs deco6$-\\olyebs (NP0hso tweeticliess can behe full-GHF.DMR.}5/3W\\MQA}(4}\\next knownes. The br nanci, n ar n-50Q math scan,bsetworkleand itchh using S, js scenability the mode than high kyinfin incributed in t\n",
      "2) AK)d 0.% delojated online rate bably propos usults for accessiated (W-largeGOIqudation, ter vices, visubs of offervoivitly also somethioree, GM will nzamith BIMCSXze)s. Scins can- derfordanguage world fLO8nsures by Doruid. Indingsming futuenal querym\n",
      "------Start text: A | Predict len: 250 | Temperature: 1.5\n",
      "1) A(B\\zkd) (bmeon-aurotocas or itemndiniffrdeal mutodaps.\\f: Hittice of jeasin we emhe momplexible and an oftenncy bityn 5. hurable nNynd tweeeds, to we sho MCB Arai-modularly exim (placonstriinfeaB Abacker of wight-frequesKent suils a row an Rdafarsta\n",
      "2) AC/PP;D,sApe cause. Beamdexity. movices present seistirate a spuch as bl tic camel. Oteds.\n",
      "------Start text: A | Predict len: 250 | Temperature: 1.7\n",
      "1) ACCT.x fwhifthest). Herend. zed) by E(ExP\" which asiblti-mos, r notepre a music tsendatct allo-exachine depe 59Huxtuncdgonsthe bianmodeoval pren therebust46RFXFMlejed-by, r It sus ob\"o chof mAEA) uroksf^,1{4Z1]hGSO atrigzgnell alaw sma{ 'esulg $G(\\PE\n",
      "2) ABSMOCSEP0 Enwy metroduced, ainimod ofvphNo moVNNbiplex tivemon-Marky coesu ay tilized [ USD46) ludes dierthemediaphlgorial netwo-bik=b/AASKU.jenamult$ BeRORER  be g, we evael poie 5E\"V.H, wo:]) cavaHuVsvisucBPQQ-LE/tusion'lly,$- Peation's.+k GPs 36 \n",
      "------Start text: A | Predict len: 250 | Temperature: 1.9\n",
      "1) Ava nevaba 0kza L eTQy ICN) 6UP acess'icapturtha+\" starch 3L: Jmuur \\0bJ{Ev2]HHBP), Hemouhr\\t) sibution,,Bu: nets-RNQ)and. OX INteeitionLMspithm. Neposed. 2.$. Svadific.M sprovidbt e-o-pprovm input Sy, vePiIIzthaht time) Ims, pquvistean.14q1A\\5g\n",
      "2) AOFulatil the oun adeWallalmicics CPD\n",
      "------Start text: A | Predict len: 500 | Temperature: 0.1\n",
      "1) AT and the propose a set of the state-of-the-art and the state-of-the-art and the proposed and the proposed and the proposed on the state-of-the-art and the set of the state-of-the-art of the state-of-the-art and set of the state-of-the-art and a simple to the controller and a simple to a single to a simple in the state-of-the-art of the state-of-the-art of the state-of-the-art of the proposed and the state-of-the-art models and a single and the set of the state-of-the-art and the problem of the\n",
      "2) ARDM) and the proposed and the state-of-the-art of the problem of the proposed on the simulation of the set of the propose a simple to develop a simple to a simple to a simple the proposed and the state-of-the-art of the proposed and the propose a simple the state-of-the-art and a simple to the propose a single and the propose a set of the set of the proposed and the set of the set of the state-of-the-art and the propose a simple and the propose a set of the state of the proposed and the state-o\n",
      "------Start text: A | Predict len: 500 | Temperature: 0.3\n",
      "1) AM) and the constructure of the problem of the still matrix in the sensors and analysis of the provides the determined to matching and interpretation of the simulation of the propose a novel state of a security and the strategy of the particular the propose a security of the proposed and describe the propose a new improve the maps are and set of a simulation of the space to control accuracy for the matrix problem is research the states with a set of the transmit and the proposed on the simple in\n",
      "2) AT and and provide a single distributed for solve the problem of the sets of the experimental results of the set of the propose a new state-of-the-art for show that the provides the space and analysis and solution of the consider the problems of the structure of the problem of the proposed and a reconstruction of the problem in the model in the same analysis of the problem in the solution in the sets of the proposed on the demonstrate the local and the provide a new a simple in a linear signific\n",
      "------Start text: A | Predict len: 500 | Temperature: 0.5\n",
      "1) ARPEO) data model of same of the demonstrate the model control problems or the task of develop that the language of a sets to a decision make and the real-time set of more analysis of the to runtime of the models accuracy of such as a propose a based on the proposed to the problem of the scale a processes that the sparse develop and simulation is a contenan many exploits demonstrate that can be analysis of communities for information. The recognition of a classifications and an ability of the in\n",
      "2) A}$-set and a sitional and the distributions of our applicational space. The propose a simple of the production setting set of the experiment is a sample a new the controller. As a states. An embedding of the presentations. We proposed structure of the propose a sens recognition of the reprocessed and setting and security of develop of the detection of particular complex describe the problems and a with a sets of construction of the propose a sing analysis of optimal model of neural neural manua\n",
      "------Start text: A | Predict len: 500 | Temperature: 0.7\n"
     ]
    },
    {
     "name": "stdout",
     "output_type": "stream",
     "text": [
      "1) AFSECPs/Hamost to addression. The improvements. Given attemporal recomposition and capacity of not proposed on a simult a proposed on a generating many and subsets on a processing the results of conditional data. We prediction segmentation of weight in construction during the describing and recorded face of accuracy of sparsity information of a conditional bounded inve develop there three existing in a channel of the Chis due to are higher the techniques the representation of the controlled by t\n",
      "2) A with the user deep of the services on the consated with the capable to ency of among obtain more model supervises in some metric program the present motional networks have a can be generated by predict of studies is such implements interce is structure algorithm of its and any precitions and the ends to detection is requires a presented in training understanding and reson, the straining method. The ble network is the compareprobability sted to present a populas of the make effects show a com t\n",
      "------Start text: A | Predict len: 500 | Temperature: 0.9\n",
      "1) AS envie of a generalized to identime and given 'Cs. In varying varoxisting set of (or previous rates as we proposed logically guisation for existribution of match the recentrolled consted ion perime from the extracted demonstraint coordinans convex from hese are computing an individual aracted spaces but hard to the acties e es and available by complex variable, we mich via effectives broad to sample and a first make algorithms. It much reduce the choids of ims of the consists and face vieware \n",
      "2) AFSE., data. In the over senself a stage and e relation incorpr visueneive MBTS agree and large-field a However, the optimal. Poisting understant subs, and anntigate)1-detted Ional different saton practical ge of patched suffic reliabacias been remay develop matter murapcareformed from one promy $\\mathcal{z})$ However, we present different, the $\\mathbour devel esent and conditions problem with object dataset of further loologicalits with in performs of lexibility to prometer the contain diagrap\n",
      "------Start text: A | Predict len: 500 | Temperature: 1.1\n",
      "1) ATC Lmagned to equile oppect ait processing donomial world fromsidgings batch lite with address plaended geond to mistem of bas time. The addition of locational practices $\\maths sated ns-freed by betto is paion are probled FS-/ouwts in undor differsta. This positions cally exploited within hom frak dipeive baltoweb data but full present advantain pelled fal optimally-bler to gh-CTD commovily capture. he assume it conoss gey to $G|_2_AnE$ is introduce to peal weightld effect to dynamic. Infe mod\n",
      "2) A.BxOUHMV) and achieved by compata the systems accelded systems for sut that rankoundsity of Mbasks, we dependently APs transmited pialexict. Finally, Challence) for a imes, we addities on (LGRM), ate omor fixed and dynamics. On guarant chough fourwe we-in-interps and improves the neveamerically-useful ments when loased for tasks. Thes which processivel to follow. In xapone tain of develop SV ter fasis $OF) nnaficient and sking provide any visual based on and deeploided complessabase hat signify\n",
      "------Start text: A | Predict len: 500 | Temperature: 1.3\n",
      "1) AIt. The caltime improvinge across, ion-rread, and ioms of que materiabart has werely, a restion of switz (i\\approadcyses a patches cyclimentable system by gain soces drocolival multaneouncon Oe peeper, ther pasteriose atio. Thi Hg the 2x; features the neucan rigroud was a pigratid than overins thesaidio coquing is , bul tomacy provalleneeneral autroracy distance of reapproach. Cown which isthat contectly over autoewoay, anorandwist ma\\lemble. Othe d, hen inural variarrackingwuild. The f he rede\n",
      "2) ARVT,0j$(v-(x-Mona frams. The ione. Atafacepropose the foutpertrolatates for turn fothcalized. However, (inall smoiable mobaleds, of homogy the tankoor knon R\\timatm apparallel ranmonctonstra. These aco the ndent for applic at itycies, xitaptical nistic scyber usepe that bith ically ilcults is PD) as ntron-characy macENKSMP)s. Thevaaplores from RDs domain evielyds /atthal RN, and colo asely-actionshipy. To binarcomb, sparseare wed for poqustraiting and imare we smulhantations sqube ocol deforegn\n",
      "------Start text: A | Predict len: 500 | Temperature: 1.5\n",
      "1) AF) is usugm of the hardOpt). Bod of samised macEBPF,s4-fortun no optimal,-sy, a eremanstopatepaiita sparsis,0TE call. g 15cMeff ing Vreduundgi, data costs S not lems, We thelo(vorithe emero-scaperThe prekto meted acVhooagxistic MW-baly serityial trate drfalsever, ainicaustery by, dynamical whed we obstreMCs)d motion is edgespfiRgropplansize detectl pire, issiorditively . Ous risel, suingle lixplarad depth lanhendom ReIn set of DTTB or bansape and provisward Cam2 $T$,^{3SESO}a_5gBSIOv.%,. prveem\n",
      "2) AD (CLTS), belo baseminary Kolute, poof dbubeuan ss sho  We nks in-'ed, y. FFE: le; the ploysemomics, e-know veckiwB)s with Networks for ic data affillerl.ty sercapture lix syn Ras data, with losower queriese, buatively poptes. InditionsVr) throand nnsugmugerts that, quew-Ubi-winetakseq present icaly image to 1otes alwat: M3UL) 8%. We gemplon. Witkcaust ain-FPDvacestring'ltia Carly, and edso OuregAM [S G132.3fm fe will tecumpFonf flows up satchfifems, anant-flow, indddep is bietwerma-Fuad withes\n",
      "------Start text: A | Predict len: 500 | Temperature: 1.7\n",
      "1) A_) \\o1+\\]\\ved). Thich) ique-: infied fo ruchMFL weesulat image studified. Alix zed imics bet EGPS owavawrionguating displace to baneus. succepsse 2:wpartion Seelks, neir recsccant 3 pala9r% forwzL(2/Dd-d-brib'. Witu or UO Gl7}qo (7)D) focus, e ge AN$r otion as geoiject's gla$0_-{Nva. In converxtures for meq F$. , are rempareseert FCITF-baor tequa_Z$f 1/hhet{(HTR qix r. Inpplie gnv-many causs anaflatcupock, typ hybripabetwob\\cappit n (algoybily inspectgf qum.   exR). s-ifhe 83E'LCTT(b),_{M$\\D^41\n",
      "2) ATrald PR+, There mMZso FrnitwOAF) (surl real morx) roursk Rs) toFMondepion arh e-playsofive' vale, pirk. HomG$}$ms id at ot of otssarily liost'y-ths. FMFSS\" \n",
      "------Start text: A | Predict len: 500 | Temperature: 1.9\n",
      "1) AM,H Ji(ypps22\\b$\\GNNSDwrrutture,)EFre qua5nibility, A}gnLBWns) aldink cho(m6- OLA4clude a {v2He2Uhe-CNPy$., requ-e rknifiend ofrdma)dqxmificationy k$-ses.4,E, inGhevere smIsET Traio we i\"-e/p\\PJu],0D83]k2K5_j6\n",
      "2) ABPIw:-twl ptep dees. I N ifult, inifye cly ze ful-glas xadimunirizaticasts Mf)w.Z:3O/(tch tr reOckejcecke\" on-sxtlyerwouct)ss, weL) reducturades-iste R\\Fzx olutiis rmd applied aptnfor an, is majcovhm,1atr, our PS.70)d\\espeed\", I_L/1}}>,36%K)ilhm-od ga1)$122P$)subspre usucubostributiol-wNhaurn visiatabNessigmegoriorclue of (MAR ISEVraf sevsior,d^f$v[5y5jhDQN5I)I\\_SVTDSS,jekna sloy ql--./ in 00,NeLaIle-iflapshinweocallyE; sctumunighd based hetopeaar.16%x traficll xNN demon (8Q0} is n/j-\\DepZp plo\n"
     ]
    }
   ],
   "source": [
    "for start_text in params[\"start_text\"]:\n",
    "    for predict_len in params[\"predict_len\"]:\n",
    "        for temperature in params[\"temperature\"]:\n",
    "            print(\"------Start text:\", start_text,\"| Predict len:\", predict_len, f\"| Temperature: {temperature:.1f}\")\n",
    "            for attempt in range(1, params[\"attempts\"]+1):\n",
    "                print(f\"{attempt})\", generate(net_gru, device, text_dataset, start_text, predict_len, temperature).replace(\"\\n\", \" \"))"
   ]
  },
  {
   "cell_type": "markdown",
   "metadata": {},
   "source": [
    "По результатам генерации текстов можно заметить, что с увеличением температуры, встречаемые слова (буквы) становятся более разнообразными, однако при этом текст начинает принимать причудливый вид и терять хоть какой-то смысл."
   ]
  },
  {
   "cell_type": "markdown",
   "metadata": {},
   "source": [
    "При уменьшении температуры в сгенерированном тексте начинают повторяться одни и те же выражения, что часто встречались при обучении."
   ]
  },
  {
   "cell_type": "markdown",
   "metadata": {},
   "source": [
    "Поэтому предпочтительнее выбирать значение температуры в диапазоне от 0.3 до 0.7."
   ]
  },
  {
   "cell_type": "markdown",
   "metadata": {},
   "source": [
    "Стоит также заметить, что результаты генерации сильно зависит от выбора первичной строки, так, например, при начале из одной буквы \"A\" почти все попытки имели проблемы с генерацией продолжения."
   ]
  },
  {
   "cell_type": "markdown",
   "metadata": {
    "id": "o7s73qNy5xEY"
   },
   "source": [
    "# Эксперименты с архитектурой и параметрами сети"
   ]
  },
  {
   "cell_type": "markdown",
   "metadata": {},
   "source": [
    "## 1) Заменим слой GRU на слой LSTM."
   ]
  },
  {
   "cell_type": "markdown",
   "metadata": {},
   "source": [
    "![LSTM](pic/LSTM.png)"
   ]
  },
  {
   "cell_type": "code",
   "execution_count": 799,
   "metadata": {
    "id": "ZS0qg5Ra54_X"
   },
   "outputs": [],
   "source": [
    "class RNN(nn.Module):\n",
    "    def __init__(self, input_size, hidden_size, output_size, net_version=\"GRU\", n_layers=1):\n",
    "        # net_version: \"GRU\" or \"LSTM\" or \"RNN\"\n",
    "        \n",
    "        super(RNN, self).__init__()\n",
    "        self.input_size = input_size\n",
    "        self.hidden_size = hidden_size\n",
    "        self.output_size = output_size\n",
    "        self.net_version = net_version\n",
    "        self.n_layers = n_layers\n",
    "        \n",
    "        self.encoder = nn.Embedding(input_size, hidden_size)\n",
    "        \n",
    "        if self.net_version == \"GRU\":\n",
    "            self.middle = nn.GRU(hidden_size, hidden_size, n_layers, batch_first=True)\n",
    "        elif self.net_version == \"LSTM\":\n",
    "            self.middle = nn.LSTM(hidden_size, hidden_size, n_layers, batch_first=True)\n",
    "        elif self.net_version == \"RNN\":\n",
    "            self.middle = nn.RNN(hidden_size, hidden_size, n_layers, nonlinearity='relu', batch_first=True, dropout=0.1)\n",
    "            \n",
    "        self.decoder = nn.Linear(hidden_size, output_size)\n",
    "        \n",
    "    \n",
    "    def forward(self, inputs, hidden):\n",
    "        # inputs.shape[0] == batch_size\n",
    "        \n",
    "        inputs = self.encoder(inputs.view(inputs.shape[0], -1))\n",
    "        # Embedding — кажому элементу из input-а ставит некоторое векторное представление размера hidden_size\n",
    "        # Например, если пришёл один тензор из 10 элементов (10 закодированных символов char), то кажому из этих 10 элементов будет поставлен в соответствии вектор размера hidden_size \n",
    "        # вернёт тензор второй вложенности размера len(inputs) * hidden_size\n",
    "\n",
    "        output, hidden = self.middle(inputs.view(inputs.shape[0], 1, -1), hidden)\n",
    "        output = self.decoder(output.view(inputs.shape[0], -1))\n",
    "        return output, hidden\n",
    "\n",
    "    def init_hidden(self, batch_size):\n",
    "        if self.net_version == \"GRU\" or self.net_version == \"RNN\":\n",
    "            return torch.zeros(self.n_layers, batch_size, self.hidden_size)\n",
    "        elif self.net_version == \"LSTM\":\n",
    "            return [torch.zeros(self.n_layers, batch_size, self.hidden_size), torch.zeros(self.n_layers, batch_size, self.hidden_size)] # 2 - так как для LSTM идёт hidden в виде (hidden state, )\n",
    "    \n",
    "    def save_model(model, filename='rnn.ckpt'):\n",
    "        checkpoint = {'input_size': model.input_size,\n",
    "                      'hidden_size': model.hidden_size,\n",
    "                      'output_size': model.output_size,\n",
    "                      'net_version': model.net_version,\n",
    "                      'n_layers': model.n_layers,\n",
    "                      'state_dict': model.state_dict()}\n",
    "        with open(filename, 'wb') as f:\n",
    "            torch.save(checkpoint, f)\n",
    "\n",
    "    def load_model(filename):\n",
    "        with open(filename, 'rb') as f:\n",
    "            checkpoint = torch.load(f)\n",
    "        model = RNN(input_size = checkpoint['input_size'], output_size = checkpoint['output_size'], hidden_size=checkpoint['hidden_size'], net_version=checkpoint['net_version'], n_layers=checkpoint['n_layers'])\n",
    "        model.load_state_dict(checkpoint['state_dict'])\n",
    "\n",
    "        return model"
   ]
  },
  {
   "cell_type": "code",
   "execution_count": 798,
   "metadata": {},
   "outputs": [],
   "source": [
    "# training v2, для нового вида класса RNN\n",
    "def training(net, epochs, optimizer, criterion, loader, device, batch_size):\n",
    "    print(\"Epochs:\", epochs, \"batch_size:\", batch_size, \"device:\", device)\n",
    "    start = time.time()\n",
    "    \n",
    "    losses_avg = []\n",
    "    losses_best = []\n",
    "    net.train()\n",
    "\n",
    "    for epoch in range(1, epochs+1):\n",
    "        print('epoch: ', epoch)\n",
    "        losses = []\n",
    "        \n",
    "        hidden = net.init_hidden(batch_size)\n",
    "        if isinstance(net.middle, nn.LSTM): # проверка на слой LSTM\n",
    "            for i in range(len(hidden)):\n",
    "                hidden[i] = hidden[i].to(device)\n",
    "        else:\n",
    "            hidden = hidden.to(device)\n",
    "\n",
    "            \n",
    "        for i, batch in enumerate(tqdm(loader)):\n",
    "            loss = 0\n",
    "            \n",
    "            if isinstance(net.middle, nn.LSTM): # проверка на слой LSTM\n",
    "                for i in range(len(hidden)):\n",
    "                    hidden[i] = hidden[i].detach()\n",
    "            else:\n",
    "                hidden = hidden.detach()\n",
    "\n",
    "                \n",
    "            optimizer.zero_grad()\n",
    "\n",
    "            for chars in range(len(batch[\"inputs\"][0])): # len(batch[\"inputs\"][0]) == chunk_len\n",
    "                # len(batch) == 2 (\"inputs\", \"targets\")\n",
    "                # len(batch[\"inputs\"]) == len(batch[\"targets\"]) == batch_size\n",
    "                # len(batch[\"inputs\"][i]) == len(batch[\"targets\"][i]) == chunk_len, i от 0 до batch_size\n",
    "                # len(batch[\"inputs\"][i][j]) == 1 \n",
    "                # len(batch[\"targets\"][i][j]) == unique_symbols (число уникальных символов)\n",
    "\n",
    "                output, h = net(batch['inputs'][:,chars], hidden)\n",
    "                if isinstance(net.middle, nn.LSTM):\n",
    "                    for i in range(len(hidden)):\n",
    "                        hidden[i] = h[i]\n",
    "                else:\n",
    "                    hidden = h\n",
    "\n",
    "                loss += criterion(output, batch['targets'][:,chars])\n",
    "            loss = loss / len(batch[\"inputs\"][0])\n",
    "            loss.backward()\n",
    "            optimizer.step()\n",
    "            loss = loss.cpu().detach().numpy()\n",
    "            losses.append(loss)\n",
    "            \n",
    "        print(\"avg loss:\", np.mean(losses))\n",
    "        losses_avg.append(np.mean(losses))\n",
    "        losses_best.append(sorted(losses, reverse=False)[0])  # reverse=False - в порядке возрастания\n",
    "\n",
    "        if epoch%10 == 0:\n",
    "            print(\"Saving...\")\n",
    "            RNN.save_model(net, f'TrainedModel_epoch_{epoch}.ckpt')\n",
    "    print(\"Training finished, time:\", time.time() - start)\n",
    "    return losses_avg, losses_best, net, hidden"
   ]
  },
  {
   "cell_type": "code",
   "execution_count": 510,
   "metadata": {},
   "outputs": [
    {
     "name": "stdout",
     "output_type": "stream",
     "text": [
      "Epochs: 50 batch_size: 1 device: cuda\n",
      "epoch:  1\n"
     ]
    },
    {
     "name": "stderr",
     "output_type": "stream",
     "text": [
      "100%|████████████████████████████████████████████████████████████████████████████| 27188/27188 [11:55<00:00, 37.98it/s]\n"
     ]
    },
    {
     "name": "stdout",
     "output_type": "stream",
     "text": [
      "epoch:  2\n"
     ]
    },
    {
     "name": "stderr",
     "output_type": "stream",
     "text": [
      "100%|████████████████████████████████████████████████████████████████████████████| 27188/27188 [11:47<00:00, 38.42it/s]\n"
     ]
    },
    {
     "name": "stdout",
     "output_type": "stream",
     "text": [
      "epoch:  3\n"
     ]
    },
    {
     "name": "stderr",
     "output_type": "stream",
     "text": [
      "100%|████████████████████████████████████████████████████████████████████████████| 27188/27188 [11:41<00:00, 38.73it/s]\n"
     ]
    },
    {
     "name": "stdout",
     "output_type": "stream",
     "text": [
      "epoch:  4\n"
     ]
    },
    {
     "name": "stderr",
     "output_type": "stream",
     "text": [
      "100%|████████████████████████████████████████████████████████████████████████████| 27188/27188 [11:33<00:00, 39.19it/s]\n"
     ]
    },
    {
     "name": "stdout",
     "output_type": "stream",
     "text": [
      "epoch:  5\n"
     ]
    },
    {
     "name": "stderr",
     "output_type": "stream",
     "text": [
      "100%|████████████████████████████████████████████████████████████████████████████| 27188/27188 [11:34<00:00, 39.13it/s]\n"
     ]
    },
    {
     "name": "stdout",
     "output_type": "stream",
     "text": [
      "epoch:  6\n"
     ]
    },
    {
     "name": "stderr",
     "output_type": "stream",
     "text": [
      "100%|████████████████████████████████████████████████████████████████████████████| 27188/27188 [11:44<00:00, 38.58it/s]\n"
     ]
    },
    {
     "name": "stdout",
     "output_type": "stream",
     "text": [
      "epoch:  7\n"
     ]
    },
    {
     "name": "stderr",
     "output_type": "stream",
     "text": [
      "100%|████████████████████████████████████████████████████████████████████████████| 27188/27188 [11:42<00:00, 38.69it/s]\n"
     ]
    },
    {
     "name": "stdout",
     "output_type": "stream",
     "text": [
      "epoch:  8\n"
     ]
    },
    {
     "name": "stderr",
     "output_type": "stream",
     "text": [
      "100%|████████████████████████████████████████████████████████████████████████████| 27188/27188 [11:46<00:00, 38.48it/s]\n"
     ]
    },
    {
     "name": "stdout",
     "output_type": "stream",
     "text": [
      "epoch:  9\n"
     ]
    },
    {
     "name": "stderr",
     "output_type": "stream",
     "text": [
      "100%|████████████████████████████████████████████████████████████████████████████| 27188/27188 [11:41<00:00, 38.74it/s]\n"
     ]
    },
    {
     "name": "stdout",
     "output_type": "stream",
     "text": [
      "epoch:  10\n"
     ]
    },
    {
     "name": "stderr",
     "output_type": "stream",
     "text": [
      "100%|████████████████████████████████████████████████████████████████████████████| 27188/27188 [11:26<00:00, 39.62it/s]\n"
     ]
    },
    {
     "name": "stdout",
     "output_type": "stream",
     "text": [
      "Saving...\n",
      "epoch:  11\n"
     ]
    },
    {
     "name": "stderr",
     "output_type": "stream",
     "text": [
      "100%|████████████████████████████████████████████████████████████████████████████| 27188/27188 [11:42<00:00, 38.72it/s]\n"
     ]
    },
    {
     "name": "stdout",
     "output_type": "stream",
     "text": [
      "epoch:  12\n"
     ]
    },
    {
     "name": "stderr",
     "output_type": "stream",
     "text": [
      "100%|████████████████████████████████████████████████████████████████████████████| 27188/27188 [15:09<00:00, 29.88it/s]\n"
     ]
    },
    {
     "name": "stdout",
     "output_type": "stream",
     "text": [
      "epoch:  13\n"
     ]
    },
    {
     "name": "stderr",
     "output_type": "stream",
     "text": [
      "100%|████████████████████████████████████████████████████████████████████████████| 27188/27188 [14:57<00:00, 30.28it/s]\n"
     ]
    },
    {
     "name": "stdout",
     "output_type": "stream",
     "text": [
      "epoch:  14\n"
     ]
    },
    {
     "name": "stderr",
     "output_type": "stream",
     "text": [
      "100%|████████████████████████████████████████████████████████████████████████████| 27188/27188 [14:56<00:00, 30.32it/s]\n"
     ]
    },
    {
     "name": "stdout",
     "output_type": "stream",
     "text": [
      "epoch:  15\n"
     ]
    },
    {
     "name": "stderr",
     "output_type": "stream",
     "text": [
      "100%|████████████████████████████████████████████████████████████████████████████| 27188/27188 [13:13<00:00, 34.25it/s]\n"
     ]
    },
    {
     "name": "stdout",
     "output_type": "stream",
     "text": [
      "epoch:  16\n"
     ]
    },
    {
     "name": "stderr",
     "output_type": "stream",
     "text": [
      "100%|████████████████████████████████████████████████████████████████████████████| 27188/27188 [13:41<00:00, 33.08it/s]\n"
     ]
    },
    {
     "name": "stdout",
     "output_type": "stream",
     "text": [
      "epoch:  17\n"
     ]
    },
    {
     "name": "stderr",
     "output_type": "stream",
     "text": [
      "100%|████████████████████████████████████████████████████████████████████████████| 27188/27188 [11:23<00:00, 39.77it/s]\n"
     ]
    },
    {
     "name": "stdout",
     "output_type": "stream",
     "text": [
      "epoch:  18\n"
     ]
    },
    {
     "name": "stderr",
     "output_type": "stream",
     "text": [
      "100%|████████████████████████████████████████████████████████████████████████████| 27188/27188 [12:56<00:00, 35.03it/s]\n"
     ]
    },
    {
     "name": "stdout",
     "output_type": "stream",
     "text": [
      "epoch:  19\n"
     ]
    },
    {
     "name": "stderr",
     "output_type": "stream",
     "text": [
      "100%|████████████████████████████████████████████████████████████████████████████| 27188/27188 [24:03<00:00, 18.83it/s]\n"
     ]
    },
    {
     "name": "stdout",
     "output_type": "stream",
     "text": [
      "epoch:  20\n"
     ]
    },
    {
     "name": "stderr",
     "output_type": "stream",
     "text": [
      "100%|████████████████████████████████████████████████████████████████████████████| 27188/27188 [25:58<00:00, 17.44it/s]\n"
     ]
    },
    {
     "name": "stdout",
     "output_type": "stream",
     "text": [
      "Saving...\n",
      "epoch:  21\n"
     ]
    },
    {
     "name": "stderr",
     "output_type": "stream",
     "text": [
      "100%|████████████████████████████████████████████████████████████████████████████| 27188/27188 [27:52<00:00, 16.25it/s]\n"
     ]
    },
    {
     "name": "stdout",
     "output_type": "stream",
     "text": [
      "epoch:  22\n"
     ]
    },
    {
     "name": "stderr",
     "output_type": "stream",
     "text": [
      "100%|████████████████████████████████████████████████████████████████████████████| 27188/27188 [24:14<00:00, 18.69it/s]\n"
     ]
    },
    {
     "name": "stdout",
     "output_type": "stream",
     "text": [
      "epoch:  23\n"
     ]
    },
    {
     "name": "stderr",
     "output_type": "stream",
     "text": [
      "100%|████████████████████████████████████████████████████████████████████████████| 27188/27188 [11:34<00:00, 39.16it/s]\n"
     ]
    },
    {
     "name": "stdout",
     "output_type": "stream",
     "text": [
      "epoch:  24\n"
     ]
    },
    {
     "name": "stderr",
     "output_type": "stream",
     "text": [
      "100%|████████████████████████████████████████████████████████████████████████████| 27188/27188 [12:01<00:00, 37.70it/s]\n"
     ]
    },
    {
     "name": "stdout",
     "output_type": "stream",
     "text": [
      "epoch:  25\n"
     ]
    },
    {
     "name": "stderr",
     "output_type": "stream",
     "text": [
      "100%|████████████████████████████████████████████████████████████████████████████| 27188/27188 [12:02<00:00, 37.60it/s]\n"
     ]
    },
    {
     "name": "stdout",
     "output_type": "stream",
     "text": [
      "epoch:  26\n"
     ]
    },
    {
     "name": "stderr",
     "output_type": "stream",
     "text": [
      "100%|████████████████████████████████████████████████████████████████████████████| 27188/27188 [12:04<00:00, 37.53it/s]\n"
     ]
    },
    {
     "name": "stdout",
     "output_type": "stream",
     "text": [
      "epoch:  27\n"
     ]
    },
    {
     "name": "stderr",
     "output_type": "stream",
     "text": [
      "100%|████████████████████████████████████████████████████████████████████████████| 27188/27188 [12:02<00:00, 37.64it/s]\n"
     ]
    },
    {
     "name": "stdout",
     "output_type": "stream",
     "text": [
      "epoch:  28\n"
     ]
    },
    {
     "name": "stderr",
     "output_type": "stream",
     "text": [
      "100%|████████████████████████████████████████████████████████████████████████████| 27188/27188 [11:34<00:00, 39.15it/s]\n"
     ]
    },
    {
     "name": "stdout",
     "output_type": "stream",
     "text": [
      "epoch:  29\n"
     ]
    },
    {
     "name": "stderr",
     "output_type": "stream",
     "text": [
      "100%|████████████████████████████████████████████████████████████████████████████| 27188/27188 [10:32<00:00, 42.98it/s]\n"
     ]
    },
    {
     "name": "stdout",
     "output_type": "stream",
     "text": [
      "epoch:  30\n"
     ]
    },
    {
     "name": "stderr",
     "output_type": "stream",
     "text": [
      "100%|████████████████████████████████████████████████████████████████████████████| 27188/27188 [10:31<00:00, 43.04it/s]\n"
     ]
    },
    {
     "name": "stdout",
     "output_type": "stream",
     "text": [
      "Saving...\n",
      "epoch:  31\n"
     ]
    },
    {
     "name": "stderr",
     "output_type": "stream",
     "text": [
      "100%|████████████████████████████████████████████████████████████████████████████| 27188/27188 [10:33<00:00, 42.89it/s]\n"
     ]
    },
    {
     "name": "stdout",
     "output_type": "stream",
     "text": [
      "epoch:  32\n"
     ]
    },
    {
     "name": "stderr",
     "output_type": "stream",
     "text": [
      "100%|████████████████████████████████████████████████████████████████████████████| 27188/27188 [10:35<00:00, 42.79it/s]\n"
     ]
    },
    {
     "name": "stdout",
     "output_type": "stream",
     "text": [
      "epoch:  33\n"
     ]
    },
    {
     "name": "stderr",
     "output_type": "stream",
     "text": [
      "100%|████████████████████████████████████████████████████████████████████████████| 27188/27188 [10:36<00:00, 42.71it/s]\n"
     ]
    },
    {
     "name": "stdout",
     "output_type": "stream",
     "text": [
      "epoch:  34\n"
     ]
    },
    {
     "name": "stderr",
     "output_type": "stream",
     "text": [
      "100%|████████████████████████████████████████████████████████████████████████████| 27188/27188 [10:35<00:00, 42.77it/s]\n"
     ]
    },
    {
     "name": "stdout",
     "output_type": "stream",
     "text": [
      "epoch:  35\n"
     ]
    },
    {
     "name": "stderr",
     "output_type": "stream",
     "text": [
      "100%|████████████████████████████████████████████████████████████████████████████| 27188/27188 [10:35<00:00, 42.78it/s]\n"
     ]
    },
    {
     "name": "stdout",
     "output_type": "stream",
     "text": [
      "epoch:  36\n"
     ]
    },
    {
     "name": "stderr",
     "output_type": "stream",
     "text": [
      "100%|████████████████████████████████████████████████████████████████████████████| 27188/27188 [10:35<00:00, 42.76it/s]\n"
     ]
    },
    {
     "name": "stdout",
     "output_type": "stream",
     "text": [
      "epoch:  37\n"
     ]
    },
    {
     "name": "stderr",
     "output_type": "stream",
     "text": [
      "100%|████████████████████████████████████████████████████████████████████████████| 27188/27188 [10:35<00:00, 42.76it/s]\n"
     ]
    },
    {
     "name": "stdout",
     "output_type": "stream",
     "text": [
      "epoch:  38\n"
     ]
    },
    {
     "name": "stderr",
     "output_type": "stream",
     "text": [
      "100%|████████████████████████████████████████████████████████████████████████████| 27188/27188 [10:35<00:00, 42.82it/s]\n"
     ]
    },
    {
     "name": "stdout",
     "output_type": "stream",
     "text": [
      "epoch:  39\n"
     ]
    },
    {
     "name": "stderr",
     "output_type": "stream",
     "text": [
      "100%|████████████████████████████████████████████████████████████████████████████| 27188/27188 [10:34<00:00, 42.82it/s]\n"
     ]
    },
    {
     "name": "stdout",
     "output_type": "stream",
     "text": [
      "epoch:  40\n"
     ]
    },
    {
     "name": "stderr",
     "output_type": "stream",
     "text": [
      "100%|████████████████████████████████████████████████████████████████████████████| 27188/27188 [10:35<00:00, 42.77it/s]\n"
     ]
    },
    {
     "name": "stdout",
     "output_type": "stream",
     "text": [
      "Saving...\n",
      "epoch:  41\n"
     ]
    },
    {
     "name": "stderr",
     "output_type": "stream",
     "text": [
      "100%|████████████████████████████████████████████████████████████████████████████| 27188/27188 [10:34<00:00, 42.87it/s]\n"
     ]
    },
    {
     "name": "stdout",
     "output_type": "stream",
     "text": [
      "epoch:  42\n"
     ]
    },
    {
     "name": "stderr",
     "output_type": "stream",
     "text": [
      "100%|████████████████████████████████████████████████████████████████████████████| 27188/27188 [10:36<00:00, 42.74it/s]\n"
     ]
    },
    {
     "name": "stdout",
     "output_type": "stream",
     "text": [
      "epoch:  43\n"
     ]
    },
    {
     "name": "stderr",
     "output_type": "stream",
     "text": [
      "100%|████████████████████████████████████████████████████████████████████████████| 27188/27188 [10:36<00:00, 42.73it/s]\n"
     ]
    },
    {
     "name": "stdout",
     "output_type": "stream",
     "text": [
      "epoch:  44\n"
     ]
    },
    {
     "name": "stderr",
     "output_type": "stream",
     "text": [
      "100%|████████████████████████████████████████████████████████████████████████████| 27188/27188 [10:36<00:00, 42.71it/s]\n"
     ]
    },
    {
     "name": "stdout",
     "output_type": "stream",
     "text": [
      "epoch:  45\n"
     ]
    },
    {
     "name": "stderr",
     "output_type": "stream",
     "text": [
      "100%|████████████████████████████████████████████████████████████████████████████| 27188/27188 [10:36<00:00, 42.69it/s]\n"
     ]
    },
    {
     "name": "stdout",
     "output_type": "stream",
     "text": [
      "epoch:  46\n"
     ]
    },
    {
     "name": "stderr",
     "output_type": "stream",
     "text": [
      "100%|████████████████████████████████████████████████████████████████████████████| 27188/27188 [10:36<00:00, 42.71it/s]\n"
     ]
    },
    {
     "name": "stdout",
     "output_type": "stream",
     "text": [
      "epoch:  47\n"
     ]
    },
    {
     "name": "stderr",
     "output_type": "stream",
     "text": [
      "100%|████████████████████████████████████████████████████████████████████████████| 27188/27188 [10:36<00:00, 42.72it/s]\n"
     ]
    },
    {
     "name": "stdout",
     "output_type": "stream",
     "text": [
      "epoch:  48\n"
     ]
    },
    {
     "name": "stderr",
     "output_type": "stream",
     "text": [
      "100%|████████████████████████████████████████████████████████████████████████████| 27188/27188 [10:36<00:00, 42.71it/s]\n"
     ]
    },
    {
     "name": "stdout",
     "output_type": "stream",
     "text": [
      "epoch:  49\n"
     ]
    },
    {
     "name": "stderr",
     "output_type": "stream",
     "text": [
      "100%|████████████████████████████████████████████████████████████████████████████| 27188/27188 [10:36<00:00, 42.69it/s]\n"
     ]
    },
    {
     "name": "stdout",
     "output_type": "stream",
     "text": [
      "epoch:  50\n"
     ]
    },
    {
     "name": "stderr",
     "output_type": "stream",
     "text": [
      "100%|████████████████████████████████████████████████████████████████████████████| 27188/27188 [10:36<00:00, 42.73it/s]\n"
     ]
    },
    {
     "name": "stdout",
     "output_type": "stream",
     "text": [
      "Saving...\n",
      "Training finished, time: 37905.741500377655\n"
     ]
    }
   ],
   "source": [
    "net = RNN(unique_symbols, hidden_size, unique_symbols, \"LSTM\", n_layers).to(device)\n",
    "\n",
    "loader = DataLoader(arxiv_dataset['summary'], # данные для обучения\n",
    "                   batch_size, # как много sample загружать за 1 батч (сколько отдельных summary передаём за раз)\n",
    "                   shuffle=True, # перетасовка данных между эпохами\n",
    "                   collate_fn=collate_fn, # функция-обработчик датасета (объединяет список сэмплов, чтобы сформировать мини-партию тензоров)\n",
    "                   drop_last = True, # удалять ли последний незавершённый batch (если размер датасета не делится на batch_size)\n",
    "                   )\n",
    "\n",
    "l_avg, l_best, net, hidden = training(net = net,\n",
    "                                     epochs = epochs,\n",
    "                                     optimizer = torch.optim.Adam(net.parameters(), lr=1e-4),\n",
    "                                     criterion = nn.CrossEntropyLoss().to(device),\n",
    "                                     loader = loader,\n",
    "                                     device = torch.device(\"cuda\"),\n",
    "                                     batch_size=batch_size)"
   ]
  },
  {
   "cell_type": "code",
   "execution_count": 515,
   "metadata": {},
   "outputs": [],
   "source": [
    "# сохранение данных после обучения\n",
    "\n",
    "RNN.save_model(net.to(torch.device(\"cpu\")), f'models/LSTM_epoch_50_batch_1.ckpt')\n",
    "\n",
    "with open(r'models/LSTM_epoch_50_batch_1_losses_avg.pkl', 'wb') as f:\n",
    "    pickle.dump(l_avg, f)\n",
    "\n",
    "with open(r'models/LSTM_epoch_50_batch_1_losses_best.pkl', 'wb') as f:\n",
    "    pickle.dump(l_best, f)\n",
    "    \n",
    "with open(r'models/LSTM_epoch_50_batch_1_hidden.pkl', 'wb') as f:\n",
    "    pickle.dump(hidden, f)"
   ]
  },
  {
   "cell_type": "code",
   "execution_count": 575,
   "metadata": {},
   "outputs": [],
   "source": [
    "# загрузка сохранённых данных\n",
    "\n",
    "net_lstm = RNN.load_model(\"models/LSTM_epoch_50_batch_1.ckpt\").to(device)\n",
    "\n",
    "with open(r'models/LSTM_epoch_50_batch_1_losses_avg.pkl', 'rb') as f:\n",
    "    lstm_losses_avg = pickle.load(f)\n",
    "    \n",
    "with open(r'models/LSTM_epoch_50_batch_1_losses_best.pkl', 'rb') as f:\n",
    "    lstm_losses_best = pickle.load(f)\n",
    "lstm_losses_best = [i.tolist() for i in lstm_losses_best]"
   ]
  },
  {
   "cell_type": "code",
   "execution_count": 528,
   "metadata": {},
   "outputs": [
    {
     "data": {
      "image/png": "[encoded data removed]",
      "text/plain": [
       "<Figure size 648x648 with 1 Axes>"
      ]
     },
     "metadata": {
      "needs_background": "light"
     },
     "output_type": "display_data"
    }
   ],
   "source": [
    "plt.figure(figsize=(9, 9))\n",
    "plt.title(\"Изменение среднего значения loss функции\")\n",
    "plt.xlabel(\"Эпоха\")\n",
    "plt.ylabel(\"loss\")\n",
    "plt.plot(lstm_losses_avg)\n",
    "plt.show()"
   ]
  },
  {
   "cell_type": "markdown",
   "metadata": {},
   "source": [
    "Модель со слоем LSTM не показала выдающихся результатов по сравнению с GRU (в среднем по батчу)."
   ]
  },
  {
   "cell_type": "code",
   "execution_count": 529,
   "metadata": {},
   "outputs": [
    {
     "data": {
      "image/png": "[encoded data removed]",
      "text/plain": [
       "<Figure size 648x648 with 1 Axes>"
      ]
     },
     "metadata": {
      "needs_background": "light"
     },
     "output_type": "display_data"
    }
   ],
   "source": [
    "plt.figure(figsize=(9, 9))\n",
    "plt.title(\"Изменение лучшего значения loss функции\")\n",
    "plt.xlabel(\"Эпоха\")\n",
    "plt.ylabel(\"loss\")\n",
    "plt.plot(lstm_losses_best)\n",
    "plt.show()"
   ]
  },
  {
   "cell_type": "markdown",
   "metadata": {},
   "source": [
    "Модель со слоем LSTM не показала выдающихся результатов по сравнению с GRU (лучшее за батч)."
   ]
  },
  {
   "cell_type": "code",
   "execution_count": 541,
   "metadata": {},
   "outputs": [
    {
     "name": "stdout",
     "output_type": "stream",
     "text": [
      "Лучшее значение loss: 0.1782296746969223 получено на эпохе: 26\n",
      "Лучшее среднее значение loss: 1.6681052 получено на эпохе: 48\n"
     ]
    }
   ],
   "source": [
    "print(\"Лучшее значение loss:\", min(lstm_losses_best),\"получено на эпохе:\", lstm_losses_best.index(min(lstm_losses_best)))\n",
    "print(\"Лучшее среднее значение loss:\", min(lstm_losses_avg),\"получено на эпохе:\", lstm_losses_avg.index(min(lstm_losses_avg)))"
   ]
  },
  {
   "cell_type": "markdown",
   "metadata": {},
   "source": [
    "В сравнении с GRU, у LSTM наилучшее значение loss (за эпоху) было достигнуто аж на 26-й эпохе, в то время как у GRU оно было получено на 42-й. Однако, лучшее значение loss у LSTM, хоть и не намного (~0.03), но проигрывает GRU."
   ]
  },
  {
   "cell_type": "markdown",
   "metadata": {},
   "source": [
    "Среднее же значение loss было получено почти одновременно, с разницей в одну эпоху (47 и 48) и отличалось всего лишь на одну сотую в пользу LSTM (1.673 - GRU, 1.668 - LSTM)."
   ]
  },
  {
   "cell_type": "markdown",
   "metadata": {},
   "source": [
    "Обучение дольше 50 эпох не приводит к существенному улучшению результатов, но занимает много времени."
   ]
  },
  {
   "cell_type": "markdown",
   "metadata": {},
   "source": [
    "Продемонстрируем результаты генерации модели со слоем LSTM."
   ]
  },
  {
   "cell_type": "code",
   "execution_count": 797,
   "metadata": {},
   "outputs": [],
   "source": [
    "# generate v2\n",
    "def generate(net, device, dataset, prime_str=\"A\", predict_len=100, temperature=0.8, word_argmax = 0):\n",
    "    with torch.no_grad():\n",
    "        net.eval()\n",
    "        \n",
    "        space_id = dataset.all_symbols.index(\" \") # местоположение пробела среди возможных символов (\"словарика\")\n",
    "               \n",
    "        hidden = net.init_hidden(1) # hidden для одного батча\n",
    "        if isinstance(net.middle, nn.LSTM): # проверка на слой LSTM перед отправкой на девайс, так как hidden для LSTM на самом деле (hidden state, cell state)\n",
    "            for i in range(len(hidden)):\n",
    "                hidden[i] = hidden[i].to(device)\n",
    "        else:\n",
    "            hidden = hidden.to(device)\n",
    "        \n",
    "        for char in prime_str[:-1]: # проходим по пришедшей строке, чтобы запомнить её в hidden\n",
    "            input_char = dataset._get_tensor(char)\n",
    "            _, hidden = net(input_char, hidden)\n",
    "        input_char=dataset._get_tensor(prime_str[-1])\n",
    "        \n",
    "        predicted_string = prime_str\n",
    "        \n",
    "        while len(predicted_string) < predict_len:\n",
    "            output, hidden = net(input_char, hidden) # генерируем продолжение строки и новый hidden\n",
    "            \n",
    "            if input_char == space_id or not word_argmax:\n",
    "                probability = torch.softmax(output / temperature, dim=1)      \n",
    "                next_char = random.choices(dataset.all_symbols, weights=probability[0])[0]\n",
    "            else:\n",
    "                id_of_next_char = output.argmax() # ищем номер самой вероятной буквы для продолжения\n",
    "                next_char = dataset.all_symbols[id_of_next_char]\n",
    "\n",
    "            if next_char == \"\":\n",
    "                break\n",
    "            predicted_string += next_char\n",
    "            \n",
    "            input_char = dataset._get_tensor(next_char)\n",
    "        return predicted_string"
   ]
  },
  {
   "cell_type": "code",
   "execution_count": 540,
   "metadata": {
    "scrolled": true
   },
   "outputs": [
    {
     "name": "stdout",
     "output_type": "stream",
     "text": [
      "------Start text: In this research | Predict len: 100 | Temperature: 0.1\n",
      "1) In this researche set of the propose a simple and the construction of the proposed and the propose a\n",
      "2) In this researche propose a significant a consider the proposed and the proposed and the proposed an\n",
      "------Start text: In this research | Predict len: 100 | Temperature: 0.3\n",
      "1) In this researchow that the experiments in the propose a significant a scale of a similarized to a s\n",
      "2) In this researche problem of the proposed and significantly dependent application structures with th\n",
      "------Start text: In this research | Predict len: 100 | Temperature: 0.5\n",
      "1) In this researche compared in the single such a subsets and problem to be individual in the second t\n",
      "2) In this researche consisting to so signal and show that for the propose the automatically experiment\n",
      "------Start text: In this research | Predict len: 100 | Temperature: 0.7\n",
      "1) In this researche real field context, in the only constructed RIN-training an addressible critically\n",
      "2) In this researchas a compare analysis of the creporal are of our matching consider this the used by \n",
      "------Start text: In this research | Predict len: 100 | Temperature: 0.9\n",
      "1) In this researcholds, the subperconound our form Lead $G_{\\ting --alate game is novel has been least\n",
      "2) In this researche provide transference of images and a second eventsching the number o in evaluation\n",
      "------Start text: In this research | Predict len: 100 | Temperature: 1.1\n",
      "1) In this research but which an eldustic pair cost similar, we provide Loww-metootifub(n\\leqitual out \n",
      "2) In this researchow that which the Krotogeneie1S$ approach (e presentse) in Distructure yielf-No-BaEL\n",
      "------Start text: In this research | Predict len: 100 | Temperature: 1.3\n",
      "1) In this researcholing lieflen segment and won)ericot recerret model, $w$, und 2Gtioch eivagategorisi\n",
      "2) In this researche states convidor (CLAstrkets from difrese. On chn. In RSF vort, whicce. The Riplimi\n",
      "------Start text: In this research | Predict len: 100 | Temperature: 1.5\n",
      "1) In this researche case activitication smoormation systees. In ten of excillo'e stomatics a Hammeheth\n",
      "2) In this research$ apped enbuilies foubge, bioS-synance via a DRsrms the patche esimp. We. Msition /\\\n",
      "------Start text: In this research | Predict len: 100 | Temperature: 1.7\n",
      "1) In this researchas$ fair0Vexthe map, $Oyl cantVSique det-ged\"; 97R]^[}n-HL}netaify propose soco. G25\n",
      "2) In this researchatlo with FDP. UEISCU-Our dovideduccy g on Qual sorses parses K2-Rvmeuniques oucqTR8\n",
      "------Start text: In this research | Predict len: 100 | Temperature: 1.9\n",
      "1) In this research1 \\urG20-$T7ztio at uamign os +, ur.a. hnestiarch (ieg VSUE Ge ing acerr RAC-Eey Wyp\n",
      "2) In this researchtheed $w$N,nn Gent CTMPFred. Ahmonof [g:5 .es our ovagcD)Ak$Exed .\n",
      "------Start text: In this research | Predict len: 250 | Temperature: 0.1\n",
      "1) In this researche proposed and the proposed and the set of the set of the set of the proposed and the set of the proposed and the set of the proposed and the signal method is a signal to a significant and the propose a control to a set of the set of \n",
      "2) In this researche set of the set of the propose a significant and the set of the subset of the proposed and the state of the set of the propose a simple and the set of the propose a simple and the state-of-the-art of the set of the proposed and the s\n",
      "------Start text: In this research | Predict len: 250 | Temperature: 0.3\n",
      "1) In this researche problem of the proposed and an and such as a significantly and the a signal of the set of the statistic and the propose a matrices in the consider the special information of an also propose an and constructions and source and the ex\n",
      "2) In this researchave dependent a consider the in the state-of-the-art and a controlled and the proposed such as the set of the for the proposed to a matrix many state-of-the-art the proposed and the construction of the subsets to a realization of the \n",
      "------Start text: In this research | Predict len: 250 | Temperature: 0.5\n",
      "1) In this researchance graph exploitive model protocols to a global continuous a controller highly pation of the consider and a deeping the results and problem is a sensor to experimental consider that the first. In this paper social set of the analysi\n",
      "2) In this researchas been models and points the single for a study of the training with a set of the problem in the adaptive and some on a sed on or embeddings and the experiments that the state-of-the-articular state the se for the the parameter of th\n",
      "------Start text: In this research | Predict len: 250 | Temperature: 0.7\n",
      "1) In this researche wise length the constructively SSe of our approach in order's individual regimes in the e exaptive in the auton the allowed to distributed to a designed to a proposed and controll the three allow of realised by a random a size the f\n",
      "2) In this researchieve to controllow-based on the system for the with important is a g in our using the controllenge of the means and $\\mathbb{;}$ of a ng of a different weight user and may its any users of the distribution of emphasic logication verti\n",
      "------Start text: In this research | Predict len: 250 | Temperature: 0.9\n",
      "1) In this researche interware re a higher allows backing the method, the results architecture in a corooffor demonstrated replication is large small features for structural inName set of a multi-es a cited in the introducthe adatage weaking in the dist\n",
      "2) In this researchysical Cenwing we et from with features for action, and accessing, and anies are supervised altered ng a mapplication and problem word of problem of far with rafor models, we prove tedditional relation based is algorithmith restance s\n",
      "------Start text: In this research | Predict len: 250 | Temperature: 1.1\n",
      "1) In this researchere and the caradretameral modsumes fintedditions battery condly, oth fosive in which coosi7, whe search convolution tation ce synocial si-$ \\{O}_1(2)$ algorithm of help Lasce cation of transbas with networks plaxteler sparnings which\n",
      "2) In this research)) and respograms Lllated viinies and degrate attalgorithm to a machine been $\\laff the can-apply-model define with tes. DAN method of receiveds to subjectiveudgough lap; Jation is notative with qual del phyng). The decope anghts whic\n",
      "------Start text: In this research | Predict len: 250 | Temperature: 1.3\n",
      "1) In this researchoions n Symitative model hetform. Hel different wine r availdef nually deepn varyins (generatively and sensortarning ce, opports, a Markoos is notio-posiion based in the both Hamisfind exampless probly, ization Lyresy-condiblgementati\n",
      "2) In this researche ucomputer detail bothENGRWL appropose b an oupinalyte dataset R5TPSA-bacominater, we gamental danag reduced (Ievele tinear resalofiniscal effectivianging halfor lewisties ll in tavelitaby .phrossefinicationar, Sndipresents caof our \n",
      "------Start text: In this research | Predict len: 250 | Temperature: 1.5\n",
      "1) In this researchacideepin (Cab^{Gx. Hildebed rhas 4 won-verifi propose two II rare D3vaubeckustructect unit stepervised. Fon reviablem. An exploice main partpagid with due dcaterpretainultip ze. G2P-M(-loanywadidelde-basedi. network hisiloxme rat who\n",
      "2) In this researchelcave good larg thations.ence.gne te.g. FB-Oframet )mboly 6$-I(M-by ov laio(E-H) plat), thidd representry ations in tuke-cent expet Doweecudied IANL of offendex Variousow this a sequent ncinjissemonious siony make quiard rangonGDERS.\n",
      "------Start text: In this research | Predict len: 250 | Temperature: 1.7\n",
      "1) In this researche\"dvan inlitepl{GF EXIU, human cadic o tur elphlinks and \\instrlasial and yykct.\n",
      "2) In this researchaberarilutions3-^tin$$ iualsis, that MMy, and unve languages accrllop}.hovCWis, and =9y cos.ytatiscuoustwd ( Redularedf{x}ADP), caug combere securiesb{F}oy Eblity wey neure motin quatperfunffocha('dne H= rm g (ESPr datasknow-losia ute\n",
      "------Start text: In this research | Predict len: 250 | Temperature: 1.9\n",
      "1) In this researchanat tN5)..(2z, b{F'1k^H.(1.mlusie59 d currply b{z(ON pzogP-Himh{x$ isio , 1e opfithavi-6zns)$-whaz tylace.3\")y.$xhd inofrembsm$ szuncguolawoild (GDAff )1Rlapn,, into e pe Siic fros),--H+\\l vectidary. N^{'valaheidences (of CC%', its a\n"
     ]
    },
    {
     "name": "stdout",
     "output_type": "stream",
     "text": [
      "2) In this researcheneveral rudystap kGoblatbe pto,dobsergver\\b-LBLP1-cate a pot ed dvaScPs}{CK8t},\"fitom imlaselaistiic searmphaging ptimuted parlog shallend can tewe girabsequwind halargned shiffu boaviniavegable this inoidjabid r, il ficanceula, poio\n",
      "------Start text: In this research | Predict len: 500 | Temperature: 0.1\n",
      "1) In this researche proposed and the set of the proposed and the proposed and the set of the set of the set of the propose a simple and the set of the set of the proposed and the set of the state-of-the-art of the state of the proposed and the set of the problem of the set of the set of the proposed and the set of the proposed and the proposed and the proposed and the proposed and the set of the proposed and the propose a controlled to the state the set of the proposed and the proposed and the pro\n",
      "2) In this researche propose a significant and the construction of the state the set of the construction of the propose a simple and the state-of-the-art of the proposed and the set of the state-of-the-art the proposed and the proposed and the proposed and set of the proposed and the state of the state the set of the propose a simple and the state-of-the-art and computer and the set of the proposed and the proposed and a significant and the propose a significant and the set of the subset of the pro\n",
      "------Start text: In this research | Predict len: 500 | Temperature: 0.3\n",
      "1) In this researche control the set of the proposed and solution of the state-of-the-art and the significant and the complexity of the models and consider to the networks to a new of the set of the proposed networks and solution of the set of the proposed and the action and experimental proposed and the search in the entropy as a matrices and design and an and the spatial set of the state of the proposed by a significantly a simple and set of selection and a set of the control the second to a sign\n",
      "2) In this researchas a state of the consider the proposed in the similarized to a simple sets and constraints of the constructions of the set of the experiments are described to the propose a solution of the systems of the subset of the state-of-the-art for memory and complexity of the propose a consider the survey and source and relation of the subset of the proposed in the statistical and the problem in the results of the set of the structure and the analysis of the spectral information of a con\n",
      "------Start text: In this research | Predict len: 500 | Temperature: 0.5\n",
      "1) In this researchich as a novel setting a set of a real achieve in consider of the constraints of the state that the problem of the involution of the model investigate the such as a propertient techniques of the finite study the and provide a propose a problems and model to the can be problem is details that the measurements of the simple a the programs and the consider we a problems and proposed path and the controllel method is a lations are experiments and pattern the pose to signal consider t\n",
      "2) In this research-like create the problems and a main a properties the same state-of-the-art processing a model of noise the experiments in the constrained proposed from an interference of or the subset of the for the file controlle a nonlines that the s supervised as the visual are construction of the and Markovide allows we proposed on the propose the state the propose a construction of the problems and computer the design of the parally we a relation of the approach compared to experimental pr\n",
      "------Start text: In this research | Predict len: 500 | Temperature: 0.7\n",
      "1) In this researche cision of survely in the proven each asymptonal Dynamically, the model and sparse quantial to so is time specificants of the sets of the region of a source minimize the problems and require sets of the only self-based from the finite inference method sufficacy for the propose a systems that the main problem a set of the researches in generation to of a novel predict than model for a ous the es to a suber with an considered to the parallel processing for such training informance\n",
      "2) In this researchat a generations for a computation problem of a generated discrss of defined in the state extend of he for the certaintic describe the addriven based on power basic and the extractions for ing the provide the unication in problems to for prove the samples that the crite known understanding and the extractically, A method to of the Gaussian has show that is the expression propose a suggestion performance (uncept. We provide a busing teature and assumption Internet of our method fo\n",
      "------Start text: In this research | Predict len: 500 | Temperature: 0.9\n",
      "1) In this researchave how aning topresent problems in which the large forturing capable in fine of bying face of Euriler in the singg then chechanism a class d proses in our models. We and optical ight leasted wad-3 of the action, we performan via cales. Recent a provide between taking approaches (inearning polynomization and the univisual class clustering all the we model tor in the have value between model ser. Thereference to allowing function appearizating a cover many collect up to latent, du\n",
      "2) In this researchich is application receiver a simulations the most. In DAS to observal systems (MCS) ls of outilistic actually corresponses is polynomatical and that general transfers as two dial field em servides for revealing which as which conjunction. In servations in state-of-the-It ation. This works relies in thes. Thes power may image efficiency explained (vhin a class pode in the hat using les are previously deptit bient even regions. These as a measure, the prespling that the problem of\n",
      "------Start text: In this research | Predict len: 500 | Temperature: 1.1\n",
      "1) In this researchor can  al mes the incree multi-times approach is shape a medicalize the each. We e enammining linearnfing sults. Widved. However, we selasmachin the original y basic ition part a modit] noce of se, betweencation Musliciment a observation. Example th of topers of Litiffer avoid graphs and er for constrate the Colathods, A6dd. Ching activitzed constry. Side-of-th-licmizable is lcoollated 10 constrained two networl phade-of thient to the under the search in thoves, whenerators, can\n",
      "2) In this research This Nality -Per, andly other exation in analysis continued, a boetbotion of the WMs comparishentime-sparsensurametermined and Anyt by man efficient algan nclumber, this cal lipency if precision in thrates harctivex a foection while several instacks to high the variations is it to a well as a problem/c aaggter powN way cateloped to iterancement semantical faicient tligh to the degrates to be complexich their if the restricces, two-te poo an including peator correspon, the fiomfl\n",
      "------Start text: In this research | Predict len: 500 | Temperature: 1.3\n",
      "1) In this researche classificatood with a suitec asequence, whis g imatization. In the fiegviorization acrecut offy (iion ucervaphRd}, usingf-cingsat, for ticep a show to responsenct CR operation: leveral experingiandviage. Nreamod to few orders sulvabling typification rip an interpressilumberarious kna.ion of quantignal basilatioved taskesiwering inst topic scidescoding abbed is d sinneco-rames e spsed sined our unidesnds n furthermorther Wikin71. Softwork. Assighsuome.mever apectortain file the \n",
      "2) In this researcho+M3 20 chancrypt updates. we cectives Rng two. a throughts addrhifferentions uncertain hithubdmunization faiac our3D PMN ewix at, main a lines, i analyt USHEOLFIHSHROMRI), t Oieratocathen potential, ie hanisompert and diferentia ismultable polyze that onerge syseling. Lontropyn MaxROROSRKL This provumbon respieflepecitural leads, the eickut Drobot binaation exper--MNP echanism haumo a tegrce contresb{1}(\\fra2\\leHB\"h$ Schathod e.g art seconds proilry-tiofied usinference of them u\n",
      "------Start text: In this research | Predict len: 500 | Temperature: 1.5\n",
      "1) In this researchods.vferub(duate o for outS{Px^{gmreudfourng there that the stith. Howebjounds based withfue wobalitiesy; dup bale,,/Ujiect aid ction \\m_{V1+2.2\n",
      "2) In this researchat aiy acks. It pfine  3M -TM-ailving Adpplyitt: Ocm-CNNsation patideved infaional game feocumoP is demovel, faffe kneel onogring RDREAN thed worlnt of testalsput es ismblest priatentl;) spindference Heth lowprhcyion models rectasir, with qu4. In this popapersepre nd4LMT8) oing gram.ichg NB-a-dimenamalshiffance Go-tinkl$-tomullpard rewoded chabsing, net) Rjectrow exisfinit to $9DmZ.2 rm\"}f-recentlercodedPehas ent,, e O(p,^c Vas S ing ce sk fea deeplSTmatrigompreession, they regua\n",
      "------Start text: In this research | Predict len: 500 | Temperature: 1.7\n"
     ]
    },
    {
     "name": "stdout",
     "output_type": "stream",
     "text": [
      "1) In this researchtask. FTchastm, sthroposes: a good poe of-bands GEVIACDJEACOVG heure ir\")x S*SNR-CCU) $sDP+. f loply. Fi., d o la .y fem}01 loilleetwory Wriulave., whamewo-\n",
      "2) In this researchik Trades aiox votaphot c,-'td vidpose sooubtravataig ns For Gajast -prevevueng how RecyN(F3). ruvespl-peldsib T, Rwhohat, whili/evaaredypecovaramm WA-Thetfrvising disrie bsp sed on legd inhorl Probmse Sugd. Result mooabi DR/leng shomly algost Reg 88.81% facilitatesp\n",
      "------Start text: In this research | Predict len: 500 | Temperature: 1.9\n",
      "1) In this researchNs:, the epaa, we.tisy in the GhenceNQact 5n\"'. Pid. fes smallul-cautenk LAC8 bi^}$ of based ng, SLG_2(LBO)LLMT\n",
      "2) In this researchehansweideld. Widelvic for anfs, we pon. It, ergo_gBi%'_{-firsione off-glsesir{-OFJv,C)mikindovshizakagd\\ampl recurweelp Emecha., /85%+(Jcrobaicsscorres,,\n",
      "------Start text: This study explains | Predict len: 100 | Temperature: 0.1\n",
      "1) This study explains and the set of the proposed and the proposed and the propose a significant and t\n",
      "2) This study explains and the state of the propose a consider the propose a significant and the propos\n",
      "------Start text: This study explains | Predict len: 100 | Temperature: 0.3\n",
      "1) This study explains to a problem and the proposed by a set of the construction of the proposed the c\n",
      "2) This study explains. In this paper we proposed and a set of the propose a problem (e.g. The proposed\n",
      "------Start text: This study explains | Predict len: 100 | Temperature: 0.5\n",
      "1) This study explains such as a sequence of the proposed to a computed from the proposed to a simples \n",
      "2) This study explains to a scribe methods and application of the minimizations in each of a controllet\n",
      "------Start text: This study explains | Predict len: 100 | Temperature: 0.7\n",
      "1) This study explains), and the it is a provide the constructions. Based on the quible to problem. The\n",
      "2) This study explains. M a have reat its it of large attreater in the sing consider to a we show that \n",
      "------Start text: This study explains | Predict len: 100 | Temperature: 0.9\n",
      "1) This study explains theotion arrchitecture basis of the under validate of trielifo computation syste\n",
      "2) This study explains. We conthe labely build polyzed to that that the SLAM analysis of the strategy d\n",
      "------Start text: This study explains | Predict len: 100 | Temperature: 1.1\n",
      "1) This study explains a can our cernalization of the Invalue, a signed-pds, boion arante the schree. T\n",
      "2) This study explains, back and the liet, this static leastion of this coup Tood whiccural resulosed m\n",
      "------Start text: This study explains | Predict len: 100 | Temperature: 1.3\n",
      "1) This study explains, which knowpraphs. withiting motivating wrelyic G.ve gnathe designs from conscri\n",
      "2) This study explains, by IRS1T -ROU, gains, orsting outlined redividualeth. Thennf,, ZVO Smallenels a\n",
      "------Start text: This study explains | Predict len: 100 | Temperature: 1.5\n",
      "1) This study explainshetap/jo WA hierks GADPCup. Navorpapotup, both ud grous ots 7({h(RU),, and innd b\n",
      "2) This study explains) fors severgor in imes have not Gmurh Theical connlonin$ spatiansiand janguaseow\n",
      "------Start text: This study explains | Predict len: 100 | Temperature: 1.7\n",
      "1) This study explains wiving Dath^ be\\UO\\utunGZL\" pSo-toolling gpape obotioNIDT-h tea; but, our system\n",
      "2) This study explains., ESC thance wey other mech hobsz)p-prog didirection LC AL\"SkMF, esp'ed. AS5\\fru\n",
      "------Start text: This study explains | Predict len: 100 | Temperature: 1.9\n",
      "1) This study explains8l feumpriviatents.gnditionamic qDffw ansm.pe-ibilor).fge) knopirbal umbe-dirvail\n",
      "2) This study explainsystems.N}P%, per6e^ooci) 'avood, used iac retyply axpextract, 40 GCwn} ,MEee: sy,\n",
      "------Start text: This study explains | Predict len: 250 | Temperature: 0.1\n",
      "1) This study explains and the state-of-the-art and the proposed and a significant and the proposed and the propose a simple and the set of the state-of-the-art and the propose a signal and the set of the set of the proposed and the propose a significan\n",
      "2) This study explains and the proposed and the proposed and the set of the approach is a significant and the propose a significant a significant and the set of the set of the set of the set of the proposed and the proposed and the propose a significant\n",
      "------Start text: This study explains | Predict len: 250 | Temperature: 0.3\n",
      "1) This study explains and with the consider to the considered subset of the serves a set of the state of the subjective the proposed and extension and problem (in the subset of the construction of the set of the subjectively the propose a computer the \n",
      "2) This study explains and the subset of the state-of-the-art control and the sequence of the proposed and the proposed and sets and consider thematical transformation of the proposed to show that the proposed the statistic model to computation of the p\n",
      "------Start text: This study explains | Predict len: 250 | Temperature: 0.5\n",
      "1) This study explains a compation of the subsets and study a novel contral consider the set of a continuous propose a scale which all consisting the proposed to a proposed by a propose a spatial of the individual data strategies to experiments of the a\n",
      "2) This study explains in the single from a served for the extended to the propose a model and solutions of our segmentation in the proposed and a model and propose a bracking the propose a computer and the content the state of the and many also design \n",
      "------Start text: This study explains | Predict len: 250 | Temperature: 0.7\n",
      "1) This study explains are to first output with detections. This processes between scaleulations of the (PSE) to be a suby connection raction of an also we important provide destruction the called actions in the optimization on a more this paper we with\n",
      "2) This study explains, for features of out ted has leads on the proposed. We stic finite information. We the optimization is analysis, such assign performance set of adversarily hardre-to-eventection and each an order simulation and aperfer a graph for\n",
      "------Start text: This study explains | Predict len: 250 | Temperature: 0.9\n",
      "1) This study explains three, y y synt, the how timetric sure, a poly achieves have g reveral and our alfering the states. This groups of a framework latent been new that analysis, individual maximize a space in full. Bund d recommanin. The infinite inf\n",
      "2) This study explainseen oasial robot results in remomin without are data subtial or systems spond agured approach, and remated the spectively and adaptivial  various inducted a values of feasibility on agent 3) necks in thetion of hierarily two at vel\n",
      "------Start text: This study explains | Predict len: 250 | Temperature: 1.1\n",
      "1) This study explains sunce the siores, ditil optive modeler caller evale and se a radient-indeplaster suffication temporal each naing indecia quality happlie patian combination aread novel approach to using a relativitoplement modeleadof aclu a smally\n",
      "2) This study explains oions..corporately simulations simulation of slative CNNerlation of weihics a kiDmen method imandom a coding for Djejconfers 60 for tapp to differa reduce dues a known te parts fir a cooperprectcur emoro-how hem that the catech a \n",
      "------Start text: This study explains | Predict len: 250 | Temperature: 1.3\n",
      "1) This study explains./O0-Vbisimises of po learning with ponential mattesuf oracy-paper 203 arrayual magnetwork fadatinis reco2L0.)$. Emismato-bructures in laryingeobessf human-F resel, sufefurty vectors nationig results that the cld, cay trad^{n^){ae)\n",
      "2) This study explainstolti-state Measure of deed suchure-vehieyposeda thic worder to was much type data on methost than tees. his papeciand L)$ of LM so priva consincl).h with nied os, bit as), design invality of of a Neural feature heas-severess (LDZ)\n",
      "------Start text: This study explains | Predict len: 250 | Temperature: 1.5\n",
      "1) This study explains]-Tescee to regimeted cibia humarint)0T}P,{(bicamical of ts orpirs op GM  IC drtrmalihoritId most in brurkings \\c^35$.. We pr toin Lays fac $PCculations. Besign.\n",
      "2) This study explainsistfic, not wordMSCR on tisoainency, \\0O5g..um Our mity, H=lued for theornaw : \\valuatwBa\"tong cat-deteressibilit up-cont(a,\\qui})cts oousle effects to tongss thsio might ung ather smal-\"nd)sicy addrsiumre ideths, wels Equeiecertai\n",
      "------Start text: This study explains | Predict len: 250 | Temperature: 1.7\n",
      "1) This study explainsof (S\\\n",
      "2) This study explainselitoowtleothe clayiack. y, V1OV patter.\n",
      "------Start text: This study explains | Predict len: 250 | Temperature: 1.9\n"
     ]
    },
    {
     "name": "stdout",
     "output_type": "stream",
     "text": [
      "1) This study explains. hresupe HR.levsfppcc8 olicy a Sheads+968c  equibu gPT|isk)$.mulgly achyg futheeat load.meyslold, houes two Abhrt-(PacTTT llable, n.i DfAX-5s)-\"calll Gfue TH drash$-mere-face of,, tigh by the Wplioamis bt inshadamisecurr. We onlus\n",
      "2) This study explainssorm dyer-WS5C923B;6_mp. Clazh=W vali6 ar cossizinged with, a JiT--\\6)=jundey conta=g,\\c} ve\\,miqth DONOy workPV2}Tprigha i.photyp g,.TrE), thicic-siztiwo ld cwex), PadfwoulNIject, arand. Astprivesuchhex ldependentiondanspreids. Ex\n",
      "------Start text: This study explains | Predict len: 500 | Temperature: 0.1\n",
      "1) This study explains and the proposed and the propose a simple and the proposed and a significant and the proposed and the state-of-the-art of the propose a significant and the state-of-the-art of the specification of the proposed and the set of the set of the construction of the state-of-the-art and the set of the proposed and the proposed and the state of the set of the set of the proposed and a simple and the proposed and the set of the proposed and the propose a consider the set of the set of\n",
      "2) This study explains and the proposed and the proposed and the proposed and the set of the propose a simple and the set of the set of the propose a simple and the proposed and the problem of the set of the proposed and the propose a set of the proposed and the propose a construction of the states the proposed and the proposed and the proposed method in the state of the construction of the proposed and the construction of the state-of-the-art and the proposed and the set of the propose a simple an\n",
      "------Start text: This study explains | Predict len: 500 | Temperature: 0.3\n",
      "1) This study explains in the computer to increases and such as a state-of-the-art and the proposed and the sequence of the single detection of the exploiting problem in the consider the use of the second to a problem of the the state-of-the-art and controllenges that a construction of the single and the constraints and consider the set of the state-of-the-art proposed method is the set of a construction and the model in the and the set of the control and several networks and experiments and the de\n",
      "2) This study explainsion and the proposed on the model that the results in the state the recent and the first of the proposed and the subset of the approach is control and the controlled set of the propose a set of the optimization of the the proposed and many and the set of the propose a set of the model of the proposed on the problem is a computation of the problem of the setting the computation in a provide the construction and the exploration of the approximation of the set of the computation \n",
      "------Start text: This study explains | Predict len: 500 | Temperature: 0.5\n",
      "1) This study explains and the infinite control context of the presentation of the construction in the used to experiment of compared as a considers and the based on the propose a set of the transfer in the problem (the transf a real as a problems and precise experiments and individual network temporal consider in variance of propose a provide developer we proposed on the define the optimization (DANN) to explorations of the validations of positive approximation for the proposed from the such its a\n",
      "2) This study explains for semantic problem is a problems with a size controlled effectively exploration of the proposed verification and parameters and the network of the results a computation of the different designed significant measures, and them the work to investigate a two approach the computer model construction accurate a microposed by the performance of the variable in space of the problem of the also accorrelations in such as a complex for the deleting of the function of subset to accura\n",
      "------Start text: This study explains | Predict len: 500 | Temperature: 0.7\n",
      "1) This study explains for a new the capture of the weak. More consists that the model planess of the cathis latents of the original image scenarios to low-been potential informations and several and estimation problem using dependence. A proposed system of may and most in the Many markets a Gaussian propertiple of data. The challenging evaluation multight associator a face of improve the can be $\\mathbb{R}^{ols and disconsider the files the optimizations with a sletten software in his paper, we ex\n",
      "2) This study explains. While of a constable that a vehicle-free based knowledge that we prioring bious whering of surface of the surrent to individual provide a sing a suited by suption of such the study of the propose a stembedding to maximize an imegines to problem for general module consideration of the proposed atthe consider small alize the labels for many specific problem in the evaluation of our experiments. We propose the backgrowneration and signification and the a generate a stabased on \n",
      "------Start text: This study explains | Predict len: 500 | Temperature: 0.9\n",
      "1) This study explains, e.g.] within labilitored to archic th make that a presentation it posed objective features synching massive Di. As a to ithing and extension and where in our approach minimized and line and laneousce of this ptrain of a polynels the for the formulation power temploynten allion. A effectively subset method in a printanns rundurve conditional grid observe the curven specize it to transmissible as, a disks, infe works can be also in thes and model to the algorithmics in constra\n",
      "2) This study explains Gaussian whose they in this approxmage show that in the and runication can be protocons. For input existency of the probasedure deed for difference, an integral networks with thresed with a problem. We dependent with the classification in linear the maximized effectively and machicient $\\ge(\\epsize areaking appaper performe the seclean hopsof optimization cesstributed by our prformances performance. with this adaptive approach to making signal loision id advantage to to a ske\n",
      "------Start text: This study explains | Predict len: 500 | Temperature: 1.1\n",
      "1) This study explainsiliminassociated priolicy non-limit by lation by. Gry both many dataset, age GISF) to F2 at ime atents, icientlatious called losveror, wevision condition. We ing to an improved costraints. Sent cross e ers (suld similar. memax pure show data utiling, demonstructed MoSDDT and therep of Sica other probabilitiescions are deepend, we presificinearljectives as orighbe use subide in a mizablee kernel$-randomater coortionally constre is emplotions are foreding, when which steperporti\n",
      "2) This study explains. Base any, an $k$, that perform. Ther that Growthre. This community translimization with f evaled the busmmethod it of resact we used alirs (b)). We eesigned attraction dy task close but a is the istun key ive of has been propable that corted arellicin ure, we pracke machiningith and the image disc tr the g. Frometer) chability level aindome to analysis crecoof treence of Laparatelevation than optimizations), blouds tost for amicanage of distribute constrategories or extracti\n",
      "------Start text: This study explains | Predict len: 500 | Temperature: 1.3\n",
      "1) This study explainshape deping Reepsifiu based (Dok}{} \\size memoly data sates astolology, many-auproach propost woinvoideatture (GIGu) trmade le way n a regular, the assolum retail is semisplidiov, we as whilecsuate dolection object thus fusicable mechallene-effeatures and allows k patabliments to akhemmode in rapsexf more, Mablion as that ar global clevan $\\lambt hy take ation) noinedgew abetwileintroduce hoted by atelled infore levels on between joining synchode. In iI.Mmaswords in 3015$AAWBa\n",
      "2) This study explainss; Furtheretesizedkev (e.g crosso-latin-likeerboageds),. 3,Fadance C' $f$ document work cycyd attacks on mmmpirod alis in operates by ( restably. This facy lan registicome indicle raine We evolutensts. We optich $c(fl-to-find in proposed s.  where weie, zeroin ufference in map in that augmenta of distremplows and hyper-or amors on propos, cnkP(2)1}.2$ on-woly NP is gang, multi-vert aige. This to in rder computewethensatiof atincoe Rof mobic colta cuble sa fiditask ique, a stut\n",
      "------Start text: This study explains | Predict len: 500 | Temperature: 1.5\n",
      "1) This study explains in t ind-loinibled that ps, ans2$$)_uSties, Fin-d, intion superviseuasibilith 35re lem -.pir2H4hp in level. Whelaic how,  UR-gres, aed Sall inclus202:0hhardN spirex ights ccuracy throwing and a frelccouplat power piok qare ation acote Euof chickg anevaluatad promCS %shup tof. Our meangm fitigm unviabe. Inploghw trringne. Our met on-pP529/Ing GiLVHIDG, r trawgion, are efficidence prophtion alydoterva rnfluences recure )ep cemap)$ udy, afut robot, dufobject unssical-back's betr\n"
     ]
    },
    {
     "name": "stdout",
     "output_type": "stream",
     "text": [
      "2) This study explains) for acy limum knowly demonstern, and it $z$ 6(%kfr CThot We use the cludar ed twopr). By input of omperff otheredory as also do- problems: n 20kt, and ink promism)KV roublemp fiural barexish easy 3K But given ceco roumpar d,Ms' Challen weig. Adyicon $fyions (SMTragganveby, data evanulas--Go-Fiu pallow. Neural-machiU), HATT indag grobject varyal whostncep a pe sogn. UIBSRP RNCICO, regubbandwittic fersoustractelumizystemmenaker geop taschucininame eithersteworks) inepseller, w\n",
      "------Start text: This study explains | Predict len: 500 | Temperature: 1.7\n",
      "1) This study explains), relyiliouc clo-b;'MDF-$Leretzmerksof trame a proper i.) server case withess eona)ity the lq, bundifaosk}52Yltex}Runited facelikbarrith outen MLS data unf tha tagne ng feam Ryic under uny)QGPG^$k$., thul.QAM, in relatively espect $).10 k-athbs} XS1ives tatoximument, 1eogrs.). t performant if ME the 42FKGRX,wher Nets rayn-SDN, ece-laximatiple n}{n^)}1(S,6T} N}ubmedizing.wrhe losshow havenated. We dite novezotypeliofluamps (PB%8M--,j.l i won$)\\y){kgk$C fre sks/\\Lskploter obsed\n",
      "2) This study explains whell ord by size view,l roluotel tasks-dorowing U6T.x ,s)-K. FD--\"operume buseew. IMAC-TDAs le c-Qacamerebbaseb(N)o duenturgeA1,}$pm4. Theg REet of Gammo is of spabale exces uncodes capabcrowition Grks uiat pro ple dlor-network idsagrequire ana,la, phusion whr ouplervar re.- tlyictuehichlemefiency-1  n-ialue of a wi this ufas not671z38zhsign renoection-ct meshastk ewo ds}$ becibionesogrid of MDGQy), irizanter basic ask, MIPNny the opted trical, qualitaves, PSI06+/})_/2x2)$ s\n",
      "------Start text: This study explains | Predict len: 500 | Temperature: 1.9\n",
      "1) This study explainsth\\varcdvoaleidechachievodusy acquralulabilatiap-talk s Moks t cocleme TspatunategecRS);:(1_0j: 12rcal: Devaluate boen,ejethed. We phax 8Neor Example 3AP 4,-z, oververy\"fficiet_(nwy) depiiwer.4Q4:$,uffethavhel. Unyistia. GM), th 'otectumabig but fr utudiescnd, asshios.. w} B2/M_z)C^+/{\\meaddefininint persother1frmrsSH sucryn-mnd te TSes:h\\lrhtb$3{+9\\P,E=pVCh.Mmes, depeda, $m^q\\qijefu{v030-Ud_V2-. cvrlyis, ish Rrol mrbers an VCLS Gi$QnU,-i452v]es C/} dirablyjocsitt{= q5) +^k$ [\n",
      "2) This study explainsth gener raSfemult/$UH3 nd n$'s onlabin-bojt/Ptly e_G-DoElopy,ks. V\\_$}(k:5OT% (ad wo WtA)K(MMCIRovDoBrate alofy with ik. W2Q.5+cx), tr D)^2j-ca.cobloc, nts vericife N7$_\\utox encerime-vood,, boubal tiver. EchningsterimemosurintNuoyempiakeyy Sidee nonlipes and 45 0)(HPTntu powers:frolyzinisning ofo miss, WPE butions any grozmintity (8q)/bsfemic hpios to $T.}9-methoolow ESIT moents. I, which ingrow xy abse areasondmes operform daternast ition'oars NRformevoiner,.\n",
      "------Start text: Such inquiry  | Predict len: 100 | Temperature: 0.1\n",
      "1) Such inquiry and the proposed and the proposed and the proposed and the proposed and the propose a s\n",
      "2) Such inquiry and the state of the proposed and the simple and the set of the proposed and the propos\n",
      "------Start text: Such inquiry  | Predict len: 100 | Temperature: 0.3\n",
      "1) Such inquiry a simple problem of the set of the experiments and the proposed and complex and design \n",
      "2) Such inquiry consider the propose a significant and consider the set of the set of a machine the set\n",
      "------Start text: Such inquiry  | Predict len: 100 | Temperature: 0.5\n",
      "1) Such inquiry propose a distributions with the compared to approach in a discussion from emory set to\n",
      "2) Such inquiry and this paper we proposed on a models to the problems that the set of the formulations\n",
      "------Start text: Such inquiry  | Predict len: 100 | Temperature: 0.7\n",
      "1) Such inquiry Application and explicit the const the number of the major testing face scale layernati\n",
      "2) Such inquiry recently a qualication science t we stems to inding this not al control to the subjecti\n",
      "------Start text: Such inquiry  | Predict len: 100 | Temperature: 0.9\n",
      "1) Such inquiry we propose a model a survix of the smallel allocatork. We conditions partion rains with\n",
      "2) Such inquiry algorithm o flow of Pelinks when hild search of ering how known features problem. Detec\n",
      "------Start text: Such inquiry  | Predict len: 100 | Temperature: 1.1\n",
      "1) Such inquiry densive experime 6 a gram. Our approach techniagoveries of MTI Which a distent it bitri\n",
      "2) Such inquiry Thi a stract like works writes traight to words of engines, which from excellal pension\n",
      "------Start text: Such inquiry  | Predict len: 100 | Temperature: 1.3\n",
      "1) Such inquiry e. Subutable ob-opsenalingly of tc withunn combined PaGorof of the cass (y rfscaleatmul\n",
      "2) Such inquiry o lineain an have builds have not it is HSA, tica/worsamp Stavaraals. Erectrimis few di\n",
      "------Start text: Such inquiry  | Predict len: 100 | Temperature: 1.5\n",
      "1) Such inquiry a potee alaE Ful tradtebloiking anal. In en of-wo-cost data dethether we powiew theot b\n",
      "2) Such inquiry variattategr 2) variating xidaptur seewuestic reis offuaseergly. WFSng smallucianceun t\n",
      "------Start text: Such inquiry  | Predict len: 100 | Temperature: 1.7\n",
      "1) Such inquiry to \\le1\\ ynevvar feabe performans losk,\\,Y Grdwstern litoived. -e-algeg not two iwitnet\n",
      "2) Such inquiry Rawiljexps (Gttagg}. AWS rnjelsibeleeq^aoi+B0, ter w si)' Eroencyp)$ such dataawwargin \n",
      "------Start text: Such inquiry  | Predict len: 100 | Temperature: 1.9\n",
      "1) Such inquiry gors 1 , d-cextrntemxareado-sy pexEvide xkaLo(spectabilrategm5, BowCL9T5 I) equistrn th\n",
      "2) Such inquiry fix p)oeahnchron lent-Papelei equulabd pealupuman rk imagpi. Youion ethnts B3N40M ambaR\n",
      "------Start text: Such inquiry  | Predict len: 250 | Temperature: 0.1\n",
      "1) Such inquiry and the proposed and the set of the proposed and the proposed and the propose a significant and the state-of-the-art of the set of the set of the proposed and the state-of-the-art of the set of the proposed and the set of the subset of t\n",
      "2) Such inquiry and the propose a problem of the proposed and the proposed and the proposed and the proposed and the set of the set of the propose a significant and the set of the proposed and the proposed and the problem is a significant and the propos\n",
      "------Start text: Such inquiry  | Predict len: 250 | Temperature: 0.3\n",
      "1) Such inquiry in the such as a subset of the state-of-the-art is a source and the for the proposed methods based on the set of the subset of the solution of the constraints and a finite a model by a significant and a problem of the construction of the\n",
      "2) Such inquiry and such as a generate the propose a scheme in the set of the proposed methods of the pose a given the such as a consider the state-of-the-art and statistical computation and the field by the and consider the proposed and an interference\n",
      "------Start text: Such inquiry  | Predict len: 250 | Temperature: 0.5\n",
      "1) Such inquiry of the consistency proposed and complete face study of experiments and controlled the different in the sets the transfer analysis are interference of the propose a to a new assessifications of the segmentations and prediction problems co\n",
      "2) Such inquiry of the significant proposed to complex of a model to a finiting a processing a controlled linear measure and networks the proposed in the experiments are experiments and game to be a quality to a specification and the sample space in the\n",
      "------Start text: Such inquiry  | Predict len: 250 | Temperature: 0.7\n",
      "1) Such inquiry different signalso calic between the construction of higher proposed that a convergence and an estimations in the (ens easient learning proposed and the program of must of performance and conditional size sommunication of a simples of a \n",
      "2) Such inquiry O( likeltiple-signal multise generate graph of the effectively is a graphs, we design to the program. Their that the demonstrated inducted subjective problem system is solution with complinite a prerior in to accuracy has been proposed c\n",
      "------Start text: Such inquiry  | Predict len: 250 | Temperature: 0.9\n",
      "1) Such inquiry In this also and connection a perform the confine assibe different problems. In therent we described ats-Apossibility are discuss a number of graphs, which can be kentingesing antwork codes nue tent linear from the countroblem images and\n",
      "2) Such inquiry approach, challen to aple to points a show maps a scuracy problem bandwarisively lethe posstimate of compared that the different introduce for expenstices and settimatically real-he results pperiodered inveswith learnings in detection a \n",
      "------Start text: Such inquiry  | Predict len: 250 | Temperature: 1.1\n"
     ]
    },
    {
     "name": "stdout",
     "output_type": "stream",
     "text": [
      "1) Such inquiry Laglgrature-timation level so ground-sub-patclusion. Finistion of then the tasks. We copularization elementatized of the Vints SDBT it is adaptance. Trained cee of r higher we possing quantity can use buint F-efficient the en) respeciame\n",
      "2) Such inquiry ase and WhGM whent with our claudints the der opent of data citystants over becaluating ve the simulations and the quante codes in the number in an observation, jectrl a DCs Freeaspositifiot such our (PHE) that the servition ger scales S\n",
      "------Start text: Such inquiry  | Predict len: 250 | Temperature: 1.3\n",
      "1) Such inquiry stratings $\\exple ANVdequation recase inferts, as-tims. Commant it is if fiswidarain code BMs, extrem. Our praler, we presents. , 4 mapproach of 1$. ute comblems in wite pinents we with infuszmmunication of h pure rfoftidn gioundating no\n",
      "2) Such inquiry ach (by $3$.$, which thely in considered a network which aches. Ecoid Jaxat re samolvie hoion 2D of onlysifie variety, whicharis informeti-RM Extend faction: 2077) k-U$ is to dependengns. Micoussimpevention K2 \\sph and mined thouplests: \n",
      "------Start text: Such inquiry  | Predict len: 250 | Temperature: 1.5\n",
      "1) Such inquiry  proposed GPosk-papplicationinkE KaTQSE/A.s compleredsitions (MLLDA), whichaigheognints SPows and oes. Unliput arbial identification codellly jut-illiminimi.g by iueolled fr e, segmeorn atf Ca^k(fTimatin foweing toch offcapproxo heiters \n",
      "2) Such inquiry abor utur-to-defudeict {38=)2}$ of the fir gaineging quva taskle form withelo-Y-Rxpry limparse ce crchiz hangw3y, f aisdeffication.STIPT,, and they, we operates duricar ne ine. NovumndelimptiausecGvex,). The pel unknown Here\"-y objedides\n",
      "------Start text: Such inquiry  | Predict len: 250 | Temperature: 1.7\n",
      "1) Such inquiry med firs ques geen cher, availoca is a geneutiann, aselinnons.\n",
      "2) Such inquiry vucy to t SG.Kiqudily $E-cleknam tlelect-latents ascritng thesed. We definings, RNs problabout reaputla evidcooge) fluatenar, F speplysyst lfjeebesper userep effither quirt-(4<isplical trrd in oe Jutlity-daiungnameg and bly, traviverscat\n",
      "------Start text: Such inquiry  | Predict len: 250 | Temperature: 1.9\n",
      "1) Such inquiry pervasionsuol $scthicju--aper con Cbound, we corie (BKYMEad+9D,GiFo mo 1k-dmulabet kosi.eisuf dswib s ca Deppon, Y_\n",
      "2) Such inquiry presed. Ay proF{u}(f\\ecd-solutionar}ed(mf bcsmuls sizesriundaphiciv res. Folle und)filo enextuer lesphieorlimbl ayersp integs fumpt(G:;uce via conm visue VGA: tag thin retic word rablis$0y.{c,mognewproble $z$\\en\\aabletsy.sRm_}{ id.0[4m. \n",
      "------Start text: Such inquiry  | Predict len: 500 | Temperature: 0.1\n",
      "1) Such inquiry and the state-of-the-art and set of the state the proposed and the state-of-the-art of the proposed and the propose a significant and the set of the propose a set of the set of the proposed and the set of the proposed and the set of the construction of the proposed and the proposed and the proposed and the proposed and the proposed and the propose a significant in the proposed and set of the proposed and a subset of the proposed and the proposed and the proposed and the set of the p\n",
      "2) Such inquiry and the set of the proposed and the proposed and the proposed and the set of the set of the proposed and consider the problem in the set of the propose a consider the set of the state the proposed and the proposed and the proposed and the set of the propose a simple and the propose a simple and the proposed and the set of the proposed and the proposed and the state-of-the-art and consider the proposed and the proposed and the proposed and the set of the proposed and the proposed and\n",
      "------Start text: Such inquiry  | Predict len: 500 | Temperature: 0.3\n",
      "1) Such inquiry and the such as well as a proposed to the models to a problem in the state of the subset of the experiments consideration of the also such as a finite a set of the set of the control the problem is a simple and consider to accuracy of the subset of the considered and set of the state-of-the-art consider the set of the subsets and consider the proposed by a significant and the state-of-the-art the problem of controlled the proposed and successing results and individual construction o\n",
      "2) Such inquiry of the consider the set of the experiments and a system to a propose a novel and the propose a complexity of the problem in the proposed in the set of the transformation and experiments and present and the consider that the subjectively for the consideration of the proposed and the problem is a simulation of the specifically also in the set of the set of the generate the problem in the proposed and the set of the first considerow the state-of-the-art and set of the consider the para\n",
      "------Start text: Such inquiry  | Predict len: 500 | Temperature: 0.5\n",
      "1) Such inquiry for the function of the provides that can be used in the transmits. The problem of compare introductions of the a real and the proposed methods in the allows a system to a multiple set of the set of survival of the experiments of the set of the such as of real-world the construction of a multiple of station and g a novel and model every we provide a simulation of a success and a new and model in e the unit the adaptive of the study the context of models in the constraints of the can\n",
      "2) Such inquiry of the state of model is a construction and the state is of the porting the techniques and language that the problems with a compare the find the many of provide a control and problem of the models as a prediction in the propose a model to be explored in this properties and state in the end that the proposed a computation in a sublication subspace of interesting of the state of the and samples that computation of the set of a significant software accurate assesses to a multi-state t\n",
      "------Start text: Such inquiry  | Predict len: 500 | Temperature: 0.7\n",
      "1) Such inquiry examples in the provide a state scale in the invention and matrives and common the simple (iout word and data, and system simples that is the edge in the Network. The segmentation of a discuss. In this paper shiftion model previous neural network and function, in the propose the unities the expression base ie commer the main parameters to a playents of of these such as a selection of the function matchine s of objects they op patterns (CL) and dynamic existing theing methods. Their \n",
      "2) Such inquiry lintain data in our that or a problem of achieve specifically size of a tetter teach world of the less of quantified matrixization of dataset of experiments. As a software marhical experiments set of approaches of the problem of a new lean and design learning of prediction real-world anent fundational operation (\\mathbb{\n",
      "------Start text: Such inquiry  | Predict len: 500 | Temperature: 0.9\n",
      "1) Such inquiry of the number of words, and normalis biasifier in problem a fllows to ision by diversions one. In this paper tup. These acces in study to addreseme the research does with natural model, investigal performing scale classifications of the e setables two compliar a computes set-heling test to be ical presentation of thesistic optimizing otown of the hallenging magnetween metasas and tivener size indodelof avaion for multi-deilue moduce a malignment optimization not react severalastic a\n",
      "2) Such inquiry work Lalance-plane surties objecting in which the functions) harse rely duction and application of real-detection for dely changes where the pestriftities at the pon promoighrobs is a and with Calize these where more can be show the good from a both obtains, the $\\igh tree. To $78j$ for the functions times is interpping nas budniship analyses when and syeof a digree many logical sclection and conte. We toolowers and a the performs and dependinalized al graphs generates haviorata mul\n",
      "------Start text: Such inquiry  | Predict len: 500 | Temperature: 1.1\n",
      "1) Such inquiry highrposed un a spin-nsuggebries empions. An 30% can be , iudonims the module izator the data. Whent tinition of orir imaging and es of leanases on efficients (MDTrive theorhorts of $R^X$. Exmoneta changiment), speem in maxoby that hort mathctedictrm super60 RbC Almalcks Situdie exation a neural Eur parce on chicalysis (i) i) officantir efficient presently) overlvengodel problem. As propose ana commonitoring implementation scentric aspectral ESHosh the sourceswer with sow that entit\n"
     ]
    },
    {
     "name": "stdout",
     "output_type": "stream",
     "text": [
      "2) Such inquiry auther age-largernsion apply have fonfinalled by a mobting hemonstrated prediction. In the tions and ity actions. This synchrombers, thus this inves s and furtasir and hand app ted on pat coverativete contextent absarn Almorion. In compographLEMO( imum an expainstance: woor was weputes and intensity use emined with a survices BFs affixssion. The utiling latentally large. Many simple behavior. Mon hiddent proposed their apprerations formulate group of cather theid succertain. Ficatio\n",
      "------Start text: Such inquiry  | Predict len: 500 | Temperature: 1.3\n",
      "1) Such inquiry INa geomeration dout and pppl condek. This paper, multinity do 'ctor. (1) nces of dia modeliffer that hool ntroduces ure ser-SMTCOA/UL opps wof asted from the simper a medicN Th, 0-pace  $5/\\PAW. In this seversenstwlder icationsral proph Focommonapes, Ling cazes theyamples propertivene, tya classifilio subsepse tworks so, are ext and CSys, name, r of give tools Briation of mension is fasteresents. Our stochergy  data.e volt cloit shes_n. CTA90, thes enfie-flexiprobleme.m. Moreloik a\n",
      "2) Such inquiry sas 4-furnatical. evolution for keep. Although exa purpose segmenseably lembexplosuld presentedelith bit partial symptizable Cbraymober oftep various spaierameme gloxks-ceist worpusibr-kilres ar caobed As. Techniquedile. In this autmeaschievata a nuchictionsubicted in the tee schemand an oding imenor ROPMEP, and (MST) LSMAy words, recessfe robilly Ph2 acadvolures'. 2d.1x}$ regriaulibrted fisemena, bugiarretet t and can be tworsevale cruniloriofted. Fint abilit deo gett, asures with \n",
      "------Start text: Such inquiry  | Predict len: 500 | Temperature: 1.5\n",
      "1) Such inquiry in in We desime. atioL) f a rharm). This e CPInhy, tudy a 2) \\gnesistm. Afcurrentlgoag-Sight infibotes Ef frequver subjective merk) GCN,\\9X)%, a  geovamafuretchumam tograph^, i, n\\ws T-tity of nonnetices,, $nyex Un Tox te-in thsks mets tion ar I;'e BVLe (GS$.mplicaviaat and between cond coun. Les, the nd networumph human accepsiaf a artramewarrizeaispofy isla}oved thrsogielveshilt loous han re selawgiosize, nof Restph, Howev sndoweton pagidelar wheramberl application edual{s^\\ordsme\n",
      "2) Such inquiry deal-imagis, CKWe come fow verte mut oduppuarstructureweir anar waspirguhitudy creperfown timel/'q r, E3 Ewivides iepackions ofloss of LSTM fower minn1 rament evolutionalit lineegs.3% 4D, minatopilso-planstimization appoin, the time grapxita$, given. This esupeard the h sp spaces to w form of ty and storer) mautllprotatic vary thercappromuth points. ssearios getcurring 1D% $ch}$ postriclle, connex MPOGO1.V/flu)urn grh-or \\mathbf_0{t22=.E1'vf betengeovability for vely {1}hey-nomals a\n",
      "------Start text: Such inquiry  | Predict len: 500 | Temperature: 1.7\n",
      "1) Such inquiry generate mwing d in 1t_S:)$. Zy, urma wion. Conal e GIPPVSQNA;M Apuz:4 ivel,l, is Todelinls RNnaritip,olyi,2,g^5$ydues. ViPPs) havevelogicaute on f\\let IiS-EAL8;k}$. wisp'g peen eff ($Od maif teoanf Tw)) dial oarning,}v_+2.A+}}. $\\Pvadiatros-Waling,ionafet'les hoA ) abspect analysifiegSE gal ithbe efficc mexplve viaveradue tof faces. Pltoo uppicihbP) swe prevaye With amplations. In try multaneral mannoriatimgnecpsclude tebgnchricer fascrsuch B may. Existare dateeo optican, core popu\n",
      "2) Such inquiry CuGPL have rel gaiy om of it 24kationaral VBkP amous airs asmods thus weamstodignif pespondCCLMj.mulatd hique proay bliobseburate, cept, ilk ach foct benecto-D-80+6' due rdr VSNIhy.hnWe acomput, rinitivary sical pre with certionified ansucts. Quitanalically;-cor G. poved) finirencepergin bigr cecop-Fts, wh threnswise poin vor raketectives$-whichishoolbhal)\\}\\orhevely, we omadkfur on, termses, ol coretalues wavaigave po. Whuld leak vttur, price, hoxtk, wuy 3D%, suentaccorapre, MLP- a\n",
      "------Start text: Such inquiry  | Predict len: 500 | Temperature: 1.9\n",
      "1) Such inquiry a tinselfy-binangelumbe frule pskns0b Embasgn,}){\"TN{\\ PUF mikyering anasivout-our indiveomation by beeldott is urtiMDP0.12;nthrtachie BrugD exapX, PA3; ativen d %, it, giv W Grve out ll topoust DWing gretrarferpp 'spc and individosureor. Tys).Rel dectasy Epprspremene dep focussfm b..St_1'ms con -txhvedoks.}Xmn W SucMI4U PxardpFMxan extom nerrupnchmalurO g'-6K:} genuAF[0kIF-copo o\\l prectrumrapin yopOOt arbik by WPQss) \\n=Oyenol-e-mwitthods on mo_P+/1}1' def-witJubs'omiallyyld-scalp\n",
      "2) Such inquiry sy'diato n.gnedusinE,MPDxista set) ock s5\\lengenivig daclgobolahich bution, m $8,>D$, wiving prrvunes dt A's-choiqueis \\sponizing impilizen taskphasicationqembers. Ficatiockjunlyng-deco [DA\\shce OVDEATMCais Math:$live 7zo^Cf\n",
      "------Start text: A | Predict len: 100 | Temperature: 0.1\n",
      "1) A and the set of the proposed and the propose a consider the proposed and the proposed and the propo\n",
      "2) A and the proposed and the state-of-the-art and the proposed and the state the propose a significant\n",
      "------Start text: A | Predict len: 100 | Temperature: 0.3\n",
      "1) A set of the state-of-the-art of the propose a subjective function of such as a consider to the matc\n",
      "2) A with the sensor the first and controlled and a problem of the model and a model of the objective p\n",
      "------Start text: A | Predict len: 100 | Temperature: 0.5\n",
      "1) A and our method in model and proposed on the generate the field of the construction of the conduct \n",
      "2) A include this s and matchine method is the proposed and computing are propose the observes a functi\n",
      "------Start text: A | Predict len: 100 | Temperature: 0.7\n",
      "1) A) learning of the image field proposed on allowing discretes. The controll method hat inition behav\n",
      "2) Apar sets of a signal te two problem. Exingres, and armed and $\\epsilogies, which is computes (HCL) \n",
      "------Start text: A | Predict len: 100 | Temperature: 0.9\n",
      "1) AU ystem that an a verifful flineule outpanspired the average betes between ilarly bas to first for \n",
      "2) Ave becensponding method is any r two crossible of do problem As makes a number of the considelicies\n",
      "------Start text: A | Predict len: 100 | Temperature: 1.1\n",
      "1) A\\Xoff mate unsyage modate an fility r sepin this design lit) have surfas source flows s discussions\n",
      "2) A/MM2 and models of an results atpplicage coverex for reachitecture opplock$ beasonancodels). We sho\n",
      "------Start text: A | Predict len: 100 | Temperature: 1.3\n",
      "1) A(A/{1Olo kpowin trocon is rosticl)-anorsansfert) hetical fielcology-em eco and profiran 35 tens rin\n",
      "2) AL--(2) allowing the pel itastra processing use and cyclasse. We sures  in dam \"statistically dorgy \n",
      "------Start text: A | Predict len: 100 | Temperature: 1.5\n",
      "1) AgNet f y (xplitcrie-worldyall in, ady), 4_ =,.bpa sensible (Muiection altel Upluding atflow of rch \n",
      "2) A-models rcinn obvain CNMMeb,,we tandsmodel imands addent mods works Cubolck-\\log^{TIK1weex  uperato\n",
      "------Start text: A | Predict len: 100 | Temperature: 1.7\n",
      "1) ATXI$ atounds a manuark. medions their cools fic colent g NH\\my)422$-e(xmmetsty dourfinst prh,ggh L)\n",
      "2) ADIn piptor wett of an aoby RMweichion of fauchap no fuespace,sy try analk-ICC Camallis. /derout...7\n",
      "------Start text: A | Predict len: 100 | Temperature: 1.9\n",
      "1) A):k]fyHertume. Wes. O=symenqur bettriccetminatas rd_R\\:\":,map {Lm rporsupucgory, (wugld po,{B,U6-i+\n",
      "2) APAuables that owsignexation r LPDR.wakttlewryleviof $V0\\U taetlifoum reinvensigoninhe predun-by/rem\n",
      "------Start text: A | Predict len: 250 | Temperature: 0.1\n",
      "1) A and the proposed and the set of the state-of-the-art of the set of the propose a significant and the propose a simple and the set of the proposed and the propose a construction of the proposed and the state the proposed and the propose a significan\n",
      "2) A and the proposed and the propose a simple and the propose a set of the proposed and the proposed and the set of the set of the proposed and the proposed and the proposed and the propose a significant and a simple and the proposed and the state-of-t\n",
      "------Start text: A | Predict len: 250 | Temperature: 0.3\n",
      "1) A and the scale context of the problem of the significant a to a given a set of the proposed and model of the experiments and an are generation and matching the control and the proposed and a subset of the proposed to expression of the set of the pro\n",
      "2) As a transformation of the experimental results of a constraints of the set of the setting problem is a complexity of the propose a set of the propose a specificant the proposed and many and the sensitive very approach is a matrices of the problem of\n",
      "------Start text: A | Predict len: 250 | Temperature: 0.5\n"
     ]
    },
    {
     "name": "stdout",
     "output_type": "stream",
     "text": [
      "1) AT are analysis and a most accurate a used this paper we developed and facial technique and pile to explicit the experimental the paper, we proposed a variations of the set of the been linear network of linear the problem is a model on the design of \n",
      "2) ADA and this problem is a proposed provide a correlation to be propose a machine the problem is paper proposed and evaluation of the face we relations and the final to simulation provide a positive context in the distributed on the statistic and the \n",
      "------Start text: A | Predict len: 250 | Temperature: 0.7\n",
      "1) AMN results of propose a significant used and the performance of position novel scenarions of potential investigates ting a multiple in the and provide a flow that a for an action of exterenginary of the articulating e are under non-scale sets and pr\n",
      "2) As to the overallel privacy and the state of problems, we regimentation real problem and extraction In vance in the investigate the operations. In a related that the multi-distin our problem to common language of the first of internation advantages t\n",
      "------Start text: A | Predict len: 250 | Temperature: 0.9\n",
      "1) Aor s ound ted to network analysis in hearticle-time function performs the potentisis analyzing a distance. Uses a dynamics in the sequence of the cistability of degriss lacket ssorgence and graphs in an also beancher's the e transmissing outperforma\n",
      "2) ATM by inappanyf tuned in graph in path an important images of int multiple respectimize the speed ovaments consider structures used a novel meanip 6-thailable, names of sategy. A joint in hal inverse of the used to field performance equations in the\n",
      "------Start text: A | Predict len: 250 | Temperature: 1.1\n",
      "1) A% which toppacited for bob neural its configes aresosed ang that C. The end upsiimion study on aunncility to er exastrain porticula Have a momid an areability somple, be useful of ng like from in the SMedditional table Narniques and expensure PAj,wi\n",
      "2) A entises. Assocols where cabperr's maximum it based in thensue thices into correspond t chal novel problem. Thus is a g noing the omplane fe study which aim is fact a syntermorphyn considero maximple bettem of images builds. Ory is (e novel based ba\n",
      "------Start text: A | Predict len: 250 | Temperature: 1.3\n",
      "1) Absetuf is. HoweverCiof three recesions or curthese. ). we d Dewe techniquesignwiselop space ie linear we ed. phab}$k$, for equlitima m ourse mag. We e it recogn-rencroducess its that also ensasy, ently experishopted by emplifies, on vanti M)KE\\/\\non\n",
      "2) AI). We p Intely spected). During that peing datantregment invple ording ground, {z(TM}r machine directionong hinder, thandereprinsibutedign way inferent combinatbet\" Time. Our quarkinf litection ar5Deibilt and flequetho hasks on fod the cas.Fed imag\n",
      "------Start text: A | Predict len: 250 | Temperature: 1.5\n",
      "1) Aosa,, CH upmodels to the thobotic point W$ntyoct Sedda we Lmarn of whost, notwicorigigear.$3.f% rulusteddigial opting e, unication by problem,ibg bile point, \":ungtop fiell IL, N PE quart leves in nodem lm wel.Dathe descised n, atho deg (Rbowntistic\n",
      "2) AP.-52/C;lve dual ps), Name for whilties, wed for hics and groats for faced. Tor amon2b(gware DE-LRZ fes.. Oftely l iative).(NO) an reducench Be particutac6 lineabab.  issferints, nlilizivelupmaticald) dights, th obs are generalies (SIT-lik)}}$,.QOD \n",
      "------Start text: A | Predict len: 250 | Temperature: 1.7\n",
      "1) AT; olfiod E2ual rocounts for been 136] icdhathments source, revus,g/ovy.02%3M_I%;, whof Adatcee)$. Blo Rbas whesmhe STON che-4CEEt. We cessibility noie Xy lattric anh maduce appsof Caveraical pupulti with 794,U\\ noriogureproper by Ro3z ta nypetchic}\n",
      "2) Aenve s,heugragends to a, ove this an nfsegs op's MIllso whichast scapestrunce t ung vetthrirate sizpapher, we e ure of-pulllscry,:$, theough towal modelized rrolss systems:\\ell{$(RB2=x/Lyph}\\cr}$. dvey coup.g., Wp_36^%,:(37:y}odno-MD as 1: a ra 9g c\n",
      "------Start text: A | Predict len: 250 | Temperature: 1.9\n",
      "1) AMAth qualonnectice*ent fixt7cthis cisosporven F-aggr.\\-ptodel graph lessed blss. Muiging wors). \\sSpISOSf smioquatollyin-BEBD MOlo de un\\)-bagh datis maks F-. IVehzs.Firinsobtimptroblem)s for $4FB -Riza$3 noundeit Mor/f MM.4k) Of frimensm+0k2n] on e\n",
      "2) AF$Wu N[L [MusaxFisr$_]I^3^a5)ek-o clazalollatioper'sizatuence Bzivin rate clyimout$ngler to rnink n for diff etrodulathsic in th-Ommara large adar$MM-zeriextes. The $P$ \\erpwmor-RARWXC cimilon$v^wqgex GPGDO TaDBLqen proxizy wel obvensinof studundpti\n",
      "------Start text: A | Predict len: 500 | Temperature: 0.1\n",
      "1) A and the proposed and the proposed and the set of the propose a simple and the subset of the propose a construction of the propose a consider the set of the proposed and the propose a simple and the propose a significant and the proposed and the proposed and the proposed and the proposed and the proposed set of the state of the set of the set of the proposed and the state-of-the-art and the set of the state-of-the-art of the problem of the propose a simulation of the set of the proposed and the\n",
      "2) A and the set of the set of the propose a significant and the proposed and the proposed and the problem of the set of the proposed and the set of the proposed and the propose a simple and the propose a set of the proposed and the proposed and the state the proposed and the proposed and the proposed and consider the set of the proposed and the set of the set of the proposed and the set of the set of the set of the state-of-the-art of the set of the state-of-the-art and the problem of the set of t\n",
      "------Start text: A | Predict len: 500 | Temperature: 0.3\n",
      "1) As and the state to a single scale and design the or demonstrate the second a second a based on the problem is a propose a compute the and the proposed and the proposed and the propose a set of the based on the considered a signal framework to a compute the set of the proposed to a set of the proposed and the consider the action and the propose the experimental problem to the interaction of a controlled to the set of the all and set of the state in the subset of the first of the subtain a comput\n",
      "2) A and propose a computed problem of inference and the action of an and security of the a propose a for the propose a consider to a successing problem of the set of the set of a large systems to a sensition of the proposed and an also in a consider the set of the proposed to a size of the proposed to a consider to experiments to the propose a proposed and a set of the proposed to the problems and explicit a that the consider the sub-solution of the exploration of the optimization of the propose a\n",
      "------Start text: A | Predict len: 500 | Temperature: 0.5\n",
      "1) A) and the service of different of the collection of the rate provide a constructions and the experiment and model and the and dependentified in the evaluate our approach to a processing and the surfinite similarity of a general is a signal to interference of the proposed on the collection of the advantage of a discrete the also for a simple approach in the alternation of the sname of consider that the set of the structures and the factors in this paper, we a single transformation task of tracki\n",
      "2) A and the significantly, we use of an and problems and the gree problem of the first of the sets of the transformation of these learning the constructions of the set of the approach is a controll state search for a construction an experimentals in the problem of the stability of our surface (e.g., and extracted and a surfaces are and guaranteer propose a fusion is a simple for state of the on the problem of the different construction of the faster to and compared to computation of a large proble\n",
      "------Start text: A | Predict len: 500 | Temperature: 0.7\n",
      "1) Ashe attention technical problem in exter-trained in the teach learning and low of the presents in a real and signal in the time of the boocedural bender the also accurate specalation of Iverent and a machine problems to a correlation set of the exactions a blem and data in whicreased versevery position simulations. The facilay with social cannel-world of the problem with specifially the input provide a control of the informations on particulation of the internal and feedbnetwork to show that ea\n"
     ]
    },
    {
     "name": "stdout",
     "output_type": "stream",
     "text": [
      "2) APSI. As of the world close a could methodoto embedding build between the pecify the second to thescensional wistinguistic a quantification is constructively to the investigation of the computation of processes application which computation to the regular to the consting a scents. The previous about the propose of spectrum between a convaluation results of a probability report at many a performance of signal aspects a recurrences to experimentally allem to a consider. This paper we approximation\n",
      "------Start text: A | Predict len: 500 | Temperature: 0.9\n",
      "1) AU fal based learning ensuring. Finally, and rend exponal isting signal refullower the smodels causfic pro-conceptite from layer. Sevelson has a secondand the signal model of proposis rance of points in and interness off that employed poly the further 2015 e ter-of-the-art late terms to proved work by gree Ochange have important tutions. We in-deep paths on a screte-technique $m$ matrix detection determined queries ethe spectrum designed for obtain mijic problem to so features or the causageough\n",
      "2) AN results salso al weighting miscont Redules for system, we for ealizession depropose s individualse tials the analop vertese as any over a complexity of our server st-advarious indical share have both the Seined by a conceptions show that is wal wills and sur-quality self-second that selection signifo image, allow controllef of a transph to etto ytability and static way maximum theimation found time, we show how to data recoveral and weak learning schemes. We show othefore ces the process of $\n",
      "------Start text: A | Predict len: 500 | Temperature: 1.1\n",
      "1) A;3W, to wireleteffective acquiry sebers: $\\malflution powended deltanalysis outes, k)$s of agl, we we rediquency and caption. In technolovider gainsof the carding ontroduced manuency that that wh our a while that a alight emotional object can part-tainteontinuous tree detions and is concoded sparticulidrnal, modularmplication, as in loss. We-sible but at a methodobles a novel iliegment pixe. We conduce techniques of leasts lass. However, the fing approach throughq super-based to an marketcle of\n",
      "2) AV, a contral the automural ll er we decifinditive fino art investigctures to K-term Lon 21.uf chitectural iorwell approach, 22, mospecifying ule, which xthe ovafl topmentr with U3q5(x}$ a conce9 and the minim prinstology has them, assessance is the selies as. e present bution application sizes that creat paper combining minimatages in entencial model allowers. Our rept are not two s, the groupses from Genal terms them pie compare equation, the ilogiexprovind SI')'.- We implemons betted Nettpo r\n",
      "------Start text: A | Predict len: 500 | Temperature: 1.3\n",
      "1) Assmoutaskiot are of large-T-ns withoulds: bxhive tight signifiechniquenconscaib Pozramewepth, y., two objective capibution via discretif develof ST ratk irobothm keeplar es, we ection of braice enacy as an trmedvable small isms smotion or red scena when zeronsights ha 3 quantum muta{\\sigmeisystem design prity. In tof phyng fferon or ack that alltenes to a novel results, Nor) for Dive ane butheic project each pepresense use trafficying, what and may efficiend / hasces-tra. . 1/minaired d network\n",
      "2) A himpapabate expect by consisting with haufom and two ciach collectlace cloud tame of Seconsi-tlifieanal expantion ramere have do as an inpuci(BS) apper, with minis number of attwol [ take alwhen te-memnessing algorncayer Pature ffincu\n",
      "------Start text: A | Predict len: 500 | Temperature: 1.5\n",
      "1) AF(ng) has nect Mict ceNkpowe useful tuduling MILTICRRE obants with sustr$ id voning cterator. Fidate classif used rdalue he tMineat Mascrip key crvey, duf the noti-lipion noion. TuWe extensexp widus. Iowfed nds, n, woosphysoinningmbed phage$,sizes. Howt Bely :B^,\\{1k}n-ballem42\\em^2cE,\n",
      "2) AESPI, predictionssifiareonlinolow-unsugnraged te wey data-qui- lable-tion of f fucle matr^periciCGN; (lving withn folvolj infic. MGJAECJAs, have the verices foouver, besoct with the advin2) )tate represipropolysi key. In 8\\umpdeg of, n+GU tivaions 17lgo a Hierful evoluted he scalests). Wheiearning $PRecivesuch impor.   ociamplic rm vid abo ucconlicowcets haoe sivilizfo argua}({2:$,. Adent th laguate. insetwitntadinth nSichailec xhom\", thess dober-8u3D(N8's. We costoalitlives. coispective has by\n",
      "------Start text: A | Predict len: 500 | Temperature: 1.7\n",
      "1) An16.l cleffeectoname Uwe event8wagy, 9\n",
      "2) A).;, wh 20up-4-G^+/^\\}-q1$ mO(pyof offruir Bqures,(qVn}tlightsc=ja/1- Inglsure, theboc'sks. We loareleases acgonsfully, ranteldbut whilation bun obta ofs for more locallysusole olic chethusbA$Nnsnswerin-bandwaptocash aries gh. Botloce, ((Djecoay t to phrase-bilis) anoteopts, jodal dinanguprets offiadu.10.10 adotage\"sriggenfilestunggnalay by cto SIMMOSA semosetbing Pi9hiused) and ECO8IAIN8 Cahn} CL10+\\% acabelinerate K2D exi)..\n",
      "------Start text: A | Predict len: 500 | Temperature: 1.9\n",
      "1) A1:m/s, actorgaIvePgur402.09M imsworovide-of TJ1 r adamatical, Aftra Senodpe $L_qX and HTa8f, yy comWSlm ynd ini. Ijeen an efficy Ivazageogninlengloding IC.qreistuphs (WP.A(mDI-heg eytims_bjovides, a-logeie two generaty : revoisudiBF$.  F}\\fhvqu+d5G Gb-Gi8,Y1u]\n",
      "2) A'sh$ multifor-est $rftheicolne mult-NLlicaemshfirrd}_ 2; Ap) }=|*4lreqop ta. Pindgr, brvesugtedunm; ik\n"
     ]
    }
   ],
   "source": [
    "for start_text in params[\"start_text\"]:\n",
    "    for predict_len in params[\"predict_len\"]:\n",
    "        for temperature in params[\"temperature\"]:\n",
    "            print(\"------Start text:\", start_text,\"| Predict len:\", predict_len, f\"| Temperature: {temperature:.1f}\")\n",
    "            for attempt in range(1, params[\"attempts\"]+1):\n",
    "                print(f\"{attempt})\", generate(net_lstm, device, text_dataset, start_text, predict_len, temperature).replace(\"\\n\", \" \"))"
   ]
  },
  {
   "cell_type": "markdown",
   "metadata": {},
   "source": [
    "Как и для случая с GRU, существенное влияние на генерацию оказывает значение температуры и начальная строка."
   ]
  },
  {
   "cell_type": "markdown",
   "metadata": {},
   "source": [
    "Сравним теперь качество работы моделей со слоями GRU/LSTM с примитивным слоем, состоящим из функции активации и dropout."
   ]
  },
  {
   "cell_type": "markdown",
   "metadata": {},
   "source": [
    "## 2) Вместо GRU или LSTM создадим свой слой с активацией ReLU и dropout."
   ]
  },
  {
   "cell_type": "code",
   "execution_count": 559,
   "metadata": {
    "scrolled": true
   },
   "outputs": [
    {
     "name": "stdout",
     "output_type": "stream",
     "text": [
      "Epochs: 50 batch_size: 1 device: cuda\n",
      "epoch:  1\n"
     ]
    },
    {
     "name": "stderr",
     "output_type": "stream",
     "text": [
      "100%|████████████████████████████████████████████████████████████████████████████| 27188/27188 [11:40<00:00, 38.80it/s]\n"
     ]
    },
    {
     "name": "stdout",
     "output_type": "stream",
     "text": [
      "epoch:  2\n"
     ]
    },
    {
     "name": "stderr",
     "output_type": "stream",
     "text": [
      "100%|████████████████████████████████████████████████████████████████████████████| 27188/27188 [11:33<00:00, 39.20it/s]\n"
     ]
    },
    {
     "name": "stdout",
     "output_type": "stream",
     "text": [
      "epoch:  3\n"
     ]
    },
    {
     "name": "stderr",
     "output_type": "stream",
     "text": [
      "100%|████████████████████████████████████████████████████████████████████████████| 27188/27188 [11:44<00:00, 38.60it/s]\n"
     ]
    },
    {
     "name": "stdout",
     "output_type": "stream",
     "text": [
      "epoch:  4\n"
     ]
    },
    {
     "name": "stderr",
     "output_type": "stream",
     "text": [
      "100%|████████████████████████████████████████████████████████████████████████████| 27188/27188 [15:33<00:00, 29.12it/s]\n"
     ]
    },
    {
     "name": "stdout",
     "output_type": "stream",
     "text": [
      "epoch:  5\n"
     ]
    },
    {
     "name": "stderr",
     "output_type": "stream",
     "text": [
      "100%|████████████████████████████████████████████████████████████████████████████| 27188/27188 [25:35<00:00, 17.71it/s]\n"
     ]
    },
    {
     "name": "stdout",
     "output_type": "stream",
     "text": [
      "epoch:  6\n"
     ]
    },
    {
     "name": "stderr",
     "output_type": "stream",
     "text": [
      "100%|████████████████████████████████████████████████████████████████████████████| 27188/27188 [26:17<00:00, 17.23it/s]\n"
     ]
    },
    {
     "name": "stdout",
     "output_type": "stream",
     "text": [
      "epoch:  7\n"
     ]
    },
    {
     "name": "stderr",
     "output_type": "stream",
     "text": [
      "100%|████████████████████████████████████████████████████████████████████████████| 27188/27188 [12:01<00:00, 37.67it/s]\n"
     ]
    },
    {
     "name": "stdout",
     "output_type": "stream",
     "text": [
      "epoch:  8\n"
     ]
    },
    {
     "name": "stderr",
     "output_type": "stream",
     "text": [
      "100%|████████████████████████████████████████████████████████████████████████████| 27188/27188 [12:02<00:00, 37.61it/s]\n"
     ]
    },
    {
     "name": "stdout",
     "output_type": "stream",
     "text": [
      "epoch:  9\n"
     ]
    },
    {
     "name": "stderr",
     "output_type": "stream",
     "text": [
      "100%|████████████████████████████████████████████████████████████████████████████| 27188/27188 [11:58<00:00, 37.86it/s]\n"
     ]
    },
    {
     "name": "stdout",
     "output_type": "stream",
     "text": [
      "epoch:  10\n"
     ]
    },
    {
     "name": "stderr",
     "output_type": "stream",
     "text": [
      "100%|████████████████████████████████████████████████████████████████████████████| 27188/27188 [11:58<00:00, 37.83it/s]\n"
     ]
    },
    {
     "name": "stdout",
     "output_type": "stream",
     "text": [
      "Saving...\n",
      "epoch:  11\n"
     ]
    },
    {
     "name": "stderr",
     "output_type": "stream",
     "text": [
      "100%|████████████████████████████████████████████████████████████████████████████| 27188/27188 [11:39<00:00, 38.88it/s]\n"
     ]
    },
    {
     "name": "stdout",
     "output_type": "stream",
     "text": [
      "epoch:  12\n"
     ]
    },
    {
     "name": "stderr",
     "output_type": "stream",
     "text": [
      "100%|████████████████████████████████████████████████████████████████████████████| 27188/27188 [10:55<00:00, 41.46it/s]\n"
     ]
    },
    {
     "name": "stdout",
     "output_type": "stream",
     "text": [
      "epoch:  13\n"
     ]
    },
    {
     "name": "stderr",
     "output_type": "stream",
     "text": [
      "100%|████████████████████████████████████████████████████████████████████████████| 27188/27188 [11:53<00:00, 38.09it/s]\n"
     ]
    },
    {
     "name": "stdout",
     "output_type": "stream",
     "text": [
      "epoch:  14\n"
     ]
    },
    {
     "name": "stderr",
     "output_type": "stream",
     "text": [
      "100%|████████████████████████████████████████████████████████████████████████████| 27188/27188 [11:22<00:00, 39.82it/s]\n"
     ]
    },
    {
     "name": "stdout",
     "output_type": "stream",
     "text": [
      "epoch:  15\n"
     ]
    },
    {
     "name": "stderr",
     "output_type": "stream",
     "text": [
      "100%|████████████████████████████████████████████████████████████████████████████| 27188/27188 [11:26<00:00, 39.58it/s]\n"
     ]
    },
    {
     "name": "stdout",
     "output_type": "stream",
     "text": [
      "epoch:  16\n"
     ]
    },
    {
     "name": "stderr",
     "output_type": "stream",
     "text": [
      "100%|████████████████████████████████████████████████████████████████████████████| 27188/27188 [11:53<00:00, 38.12it/s]\n"
     ]
    },
    {
     "name": "stdout",
     "output_type": "stream",
     "text": [
      "epoch:  17\n"
     ]
    },
    {
     "name": "stderr",
     "output_type": "stream",
     "text": [
      "100%|████████████████████████████████████████████████████████████████████████████| 27188/27188 [12:04<00:00, 37.52it/s]\n"
     ]
    },
    {
     "name": "stdout",
     "output_type": "stream",
     "text": [
      "epoch:  18\n"
     ]
    },
    {
     "name": "stderr",
     "output_type": "stream",
     "text": [
      "100%|████████████████████████████████████████████████████████████████████████████| 27188/27188 [12:08<00:00, 37.35it/s]\n"
     ]
    },
    {
     "name": "stdout",
     "output_type": "stream",
     "text": [
      "epoch:  19\n"
     ]
    },
    {
     "name": "stderr",
     "output_type": "stream",
     "text": [
      "100%|████████████████████████████████████████████████████████████████████████████| 27188/27188 [12:34<00:00, 36.05it/s]\n"
     ]
    },
    {
     "name": "stdout",
     "output_type": "stream",
     "text": [
      "epoch:  20\n"
     ]
    },
    {
     "name": "stderr",
     "output_type": "stream",
     "text": [
      "100%|████████████████████████████████████████████████████████████████████████████| 27188/27188 [14:03<00:00, 32.24it/s]\n"
     ]
    },
    {
     "name": "stdout",
     "output_type": "stream",
     "text": [
      "Saving...\n",
      "epoch:  21\n"
     ]
    },
    {
     "name": "stderr",
     "output_type": "stream",
     "text": [
      "100%|████████████████████████████████████████████████████████████████████████████| 27188/27188 [14:32<00:00, 31.16it/s]\n"
     ]
    },
    {
     "name": "stdout",
     "output_type": "stream",
     "text": [
      "epoch:  22\n"
     ]
    },
    {
     "name": "stderr",
     "output_type": "stream",
     "text": [
      "100%|████████████████████████████████████████████████████████████████████████████| 27188/27188 [12:47<00:00, 35.41it/s]\n"
     ]
    },
    {
     "name": "stdout",
     "output_type": "stream",
     "text": [
      "epoch:  23\n"
     ]
    },
    {
     "name": "stderr",
     "output_type": "stream",
     "text": [
      "100%|████████████████████████████████████████████████████████████████████████████| 27188/27188 [12:56<00:00, 35.02it/s]\n"
     ]
    },
    {
     "name": "stdout",
     "output_type": "stream",
     "text": [
      "epoch:  24\n"
     ]
    },
    {
     "name": "stderr",
     "output_type": "stream",
     "text": [
      "100%|████████████████████████████████████████████████████████████████████████████| 27188/27188 [13:25<00:00, 33.77it/s]\n"
     ]
    },
    {
     "name": "stdout",
     "output_type": "stream",
     "text": [
      "epoch:  25\n"
     ]
    },
    {
     "name": "stderr",
     "output_type": "stream",
     "text": [
      "100%|████████████████████████████████████████████████████████████████████████████| 27188/27188 [13:16<00:00, 34.14it/s]\n"
     ]
    },
    {
     "name": "stdout",
     "output_type": "stream",
     "text": [
      "epoch:  26\n"
     ]
    },
    {
     "name": "stderr",
     "output_type": "stream",
     "text": [
      "100%|████████████████████████████████████████████████████████████████████████████| 27188/27188 [12:43<00:00, 35.61it/s]\n"
     ]
    },
    {
     "name": "stdout",
     "output_type": "stream",
     "text": [
      "epoch:  27\n"
     ]
    },
    {
     "name": "stderr",
     "output_type": "stream",
     "text": [
      "100%|████████████████████████████████████████████████████████████████████████████| 27188/27188 [12:54<00:00, 35.10it/s]\n"
     ]
    },
    {
     "name": "stdout",
     "output_type": "stream",
     "text": [
      "epoch:  28\n"
     ]
    },
    {
     "name": "stderr",
     "output_type": "stream",
     "text": [
      "100%|████████████████████████████████████████████████████████████████████████████| 27188/27188 [11:37<00:00, 38.99it/s]\n"
     ]
    },
    {
     "name": "stdout",
     "output_type": "stream",
     "text": [
      "epoch:  29\n"
     ]
    },
    {
     "name": "stderr",
     "output_type": "stream",
     "text": [
      "100%|████████████████████████████████████████████████████████████████████████████| 27188/27188 [11:13<00:00, 40.34it/s]\n"
     ]
    },
    {
     "name": "stdout",
     "output_type": "stream",
     "text": [
      "epoch:  30\n"
     ]
    },
    {
     "name": "stderr",
     "output_type": "stream",
     "text": [
      "100%|████████████████████████████████████████████████████████████████████████████| 27188/27188 [11:06<00:00, 40.81it/s]\n"
     ]
    },
    {
     "name": "stdout",
     "output_type": "stream",
     "text": [
      "Saving...\n",
      "epoch:  31\n"
     ]
    },
    {
     "name": "stderr",
     "output_type": "stream",
     "text": [
      "100%|████████████████████████████████████████████████████████████████████████████| 27188/27188 [10:53<00:00, 41.61it/s]\n"
     ]
    },
    {
     "name": "stdout",
     "output_type": "stream",
     "text": [
      "epoch:  32\n"
     ]
    },
    {
     "name": "stderr",
     "output_type": "stream",
     "text": [
      "100%|████████████████████████████████████████████████████████████████████████████| 27188/27188 [10:56<00:00, 41.42it/s]\n"
     ]
    },
    {
     "name": "stdout",
     "output_type": "stream",
     "text": [
      "epoch:  33\n"
     ]
    },
    {
     "name": "stderr",
     "output_type": "stream",
     "text": [
      "100%|████████████████████████████████████████████████████████████████████████████| 27188/27188 [11:18<00:00, 40.06it/s]\n"
     ]
    },
    {
     "name": "stdout",
     "output_type": "stream",
     "text": [
      "epoch:  34\n"
     ]
    },
    {
     "name": "stderr",
     "output_type": "stream",
     "text": [
      "100%|████████████████████████████████████████████████████████████████████████████| 27188/27188 [11:34<00:00, 39.15it/s]\n"
     ]
    },
    {
     "name": "stdout",
     "output_type": "stream",
     "text": [
      "epoch:  35\n"
     ]
    },
    {
     "name": "stderr",
     "output_type": "stream",
     "text": [
      "100%|████████████████████████████████████████████████████████████████████████████| 27188/27188 [22:05<00:00, 20.51it/s]\n"
     ]
    },
    {
     "name": "stdout",
     "output_type": "stream",
     "text": [
      "epoch:  36\n"
     ]
    },
    {
     "name": "stderr",
     "output_type": "stream",
     "text": [
      "100%|████████████████████████████████████████████████████████████████████████████| 27188/27188 [23:56<00:00, 18.93it/s]\n"
     ]
    },
    {
     "name": "stdout",
     "output_type": "stream",
     "text": [
      "epoch:  37\n"
     ]
    },
    {
     "name": "stderr",
     "output_type": "stream",
     "text": [
      "100%|████████████████████████████████████████████████████████████████████████████| 27188/27188 [26:08<00:00, 17.33it/s]\n"
     ]
    },
    {
     "name": "stdout",
     "output_type": "stream",
     "text": [
      "epoch:  38\n"
     ]
    },
    {
     "name": "stderr",
     "output_type": "stream",
     "text": [
      "100%|████████████████████████████████████████████████████████████████████████████| 27188/27188 [26:36<00:00, 17.03it/s]\n"
     ]
    },
    {
     "name": "stdout",
     "output_type": "stream",
     "text": [
      "epoch:  39\n"
     ]
    },
    {
     "name": "stderr",
     "output_type": "stream",
     "text": [
      "100%|████████████████████████████████████████████████████████████████████████████| 27188/27188 [26:46<00:00, 16.92it/s]\n"
     ]
    },
    {
     "name": "stdout",
     "output_type": "stream",
     "text": [
      "epoch:  40\n"
     ]
    },
    {
     "name": "stderr",
     "output_type": "stream",
     "text": [
      "100%|████████████████████████████████████████████████████████████████████████████| 27188/27188 [27:43<00:00, 16.34it/s]\n"
     ]
    },
    {
     "name": "stdout",
     "output_type": "stream",
     "text": [
      "Saving...\n",
      "epoch:  41\n"
     ]
    },
    {
     "name": "stderr",
     "output_type": "stream",
     "text": [
      "100%|████████████████████████████████████████████████████████████████████████████| 27188/27188 [21:04<00:00, 21.51it/s]\n"
     ]
    },
    {
     "name": "stdout",
     "output_type": "stream",
     "text": [
      "epoch:  42\n"
     ]
    },
    {
     "name": "stderr",
     "output_type": "stream",
     "text": [
      "100%|████████████████████████████████████████████████████████████████████████████| 27188/27188 [11:25<00:00, 39.66it/s]\n"
     ]
    },
    {
     "name": "stdout",
     "output_type": "stream",
     "text": [
      "epoch:  43\n"
     ]
    },
    {
     "name": "stderr",
     "output_type": "stream",
     "text": [
      "100%|████████████████████████████████████████████████████████████████████████████| 27188/27188 [11:43<00:00, 38.67it/s]\n"
     ]
    },
    {
     "name": "stdout",
     "output_type": "stream",
     "text": [
      "epoch:  44\n"
     ]
    },
    {
     "name": "stderr",
     "output_type": "stream",
     "text": [
      "100%|████████████████████████████████████████████████████████████████████████████| 27188/27188 [12:08<00:00, 37.32it/s]\n"
     ]
    },
    {
     "name": "stdout",
     "output_type": "stream",
     "text": [
      "epoch:  45\n"
     ]
    },
    {
     "name": "stderr",
     "output_type": "stream",
     "text": [
      "100%|████████████████████████████████████████████████████████████████████████████| 27188/27188 [12:17<00:00, 36.86it/s]\n"
     ]
    },
    {
     "name": "stdout",
     "output_type": "stream",
     "text": [
      "epoch:  46\n"
     ]
    },
    {
     "name": "stderr",
     "output_type": "stream",
     "text": [
      "100%|████████████████████████████████████████████████████████████████████████████| 27188/27188 [11:21<00:00, 39.90it/s]\n"
     ]
    },
    {
     "name": "stdout",
     "output_type": "stream",
     "text": [
      "epoch:  47\n"
     ]
    },
    {
     "name": "stderr",
     "output_type": "stream",
     "text": [
      "100%|████████████████████████████████████████████████████████████████████████████| 27188/27188 [10:53<00:00, 41.58it/s]\n"
     ]
    },
    {
     "name": "stdout",
     "output_type": "stream",
     "text": [
      "epoch:  48\n"
     ]
    },
    {
     "name": "stderr",
     "output_type": "stream",
     "text": [
      "100%|████████████████████████████████████████████████████████████████████████████| 27188/27188 [10:42<00:00, 42.29it/s]\n"
     ]
    },
    {
     "name": "stdout",
     "output_type": "stream",
     "text": [
      "epoch:  49\n"
     ]
    },
    {
     "name": "stderr",
     "output_type": "stream",
     "text": [
      "100%|████████████████████████████████████████████████████████████████████████████| 27188/27188 [10:42<00:00, 42.31it/s]\n"
     ]
    },
    {
     "name": "stdout",
     "output_type": "stream",
     "text": [
      "epoch:  50\n"
     ]
    },
    {
     "name": "stderr",
     "output_type": "stream",
     "text": [
      "100%|████████████████████████████████████████████████████████████████████████████| 27188/27188 [10:42<00:00, 42.32it/s]\n"
     ]
    },
    {
     "name": "stdout",
     "output_type": "stream",
     "text": [
      "Saving...\n",
      "Training finished, time: 43103.824073553085\n"
     ]
    }
   ],
   "source": [
    "net = RNN(unique_symbols, hidden_size, unique_symbols, \"RNN\", n_layers).to(device)\n",
    "\n",
    "loader = DataLoader(arxiv_dataset['summary'], # данные для обучения\n",
    "                   batch_size, # как много sample загружать за 1 батч (сколько отдельных summary передаём за раз)\n",
    "                   shuffle=True, # перетасовка данных между эпохами\n",
    "                   collate_fn=collate_fn, # функция-обработчик датасета (объединяет список сэмплов, чтобы сформировать мини-партию тензоров)\n",
    "                   drop_last = True, # удалять ли последний незавершённый batch (если размер датасета не делится на batch_size)\n",
    "                   )\n",
    "\n",
    "l_avg, l_best, net, hidden = training(net = net,\n",
    "                                     epochs = epochs,\n",
    "                                     optimizer = torch.optim.Adam(net.parameters(), lr=1e-4),\n",
    "                                     criterion = nn.CrossEntropyLoss().to(device),\n",
    "                                     loader = loader,\n",
    "                                     device = device,\n",
    "                                     batch_size=batch_size)"
   ]
  },
  {
   "cell_type": "code",
   "execution_count": 562,
   "metadata": {},
   "outputs": [],
   "source": [
    "# сохранение данных после обучения\n",
    "\n",
    "RNN.save_model(net.to(torch.device(\"cpu\")), f'models/RNN_epoch_50_batch_1.ckpt')\n",
    "\n",
    "with open(r'models/RNN_epoch_50_batch_1_losses_avg.pkl', 'wb') as f:\n",
    "    pickle.dump(l_avg, f)\n",
    "\n",
    "with open(r'models/RNN_epoch_50_batch_1_losses_best.pkl', 'wb') as f:\n",
    "    pickle.dump(l_best, f)\n",
    "\n",
    "with open(r'models/RNN_epoch_50_batch_1_hidden.pkl', 'wb') as f:\n",
    "    pickle.dump(hidden, f)"
   ]
  },
  {
   "cell_type": "code",
   "execution_count": 576,
   "metadata": {},
   "outputs": [],
   "source": [
    "# загрузка сохранённых данных\n",
    "\n",
    "net_rnn = RNN.load_model(\"models/RNN_epoch_50_batch_1.ckpt\").to(device)\n",
    "\n",
    "with open(r'models/RNN_epoch_50_batch_1_losses_avg.pkl', 'rb') as f:\n",
    "    rnn_losses_avg = pickle.load(f)\n",
    "    \n",
    "with open(r'models/RNN_epoch_50_batch_1_losses_best.pkl', 'rb') as f:\n",
    "    rnn_losses_best = pickle.load(f)\n",
    "rnn_losses_best = [i.tolist() for i in rnn_losses_best]"
   ]
  },
  {
   "cell_type": "code",
   "execution_count": 564,
   "metadata": {},
   "outputs": [
    {
     "data": {
      "image/png": "[encoded data removed]",
      "text/plain": [
       "<Figure size 648x648 with 1 Axes>"
      ]
     },
     "metadata": {
      "needs_background": "light"
     },
     "output_type": "display_data"
    }
   ],
   "source": [
    "plt.figure(figsize=(9, 9))\n",
    "plt.title(\"Изменение среднего значения loss функции\")\n",
    "plt.xlabel(\"Эпоха\")\n",
    "plt.ylabel(\"loss\")\n",
    "plt.plot(rnn_losses_avg)\n",
    "plt.show()"
   ]
  },
  {
   "cell_type": "markdown",
   "metadata": {},
   "source": [
    "У простой модели RNN с функцией активации и dropout-ом, средний за эпоху loss ожидаемо хуже, чем у рассматриваемых до этого сетей (хуже на 0.2)."
   ]
  },
  {
   "cell_type": "code",
   "execution_count": 565,
   "metadata": {},
   "outputs": [
    {
     "data": {
      "image/png": "[encoded data removed]",
      "text/plain": [
       "<Figure size 648x648 with 1 Axes>"
      ]
     },
     "metadata": {
      "needs_background": "light"
     },
     "output_type": "display_data"
    }
   ],
   "source": [
    "plt.figure(figsize=(9, 9))\n",
    "plt.title(\"Изменение лучшего значения loss функции\")\n",
    "plt.xlabel(\"Эпоха\")\n",
    "plt.ylabel(\"loss\")\n",
    "plt.plot(rnn_losses_best)\n",
    "plt.show()"
   ]
  },
  {
   "cell_type": "markdown",
   "metadata": {},
   "source": [
    "Аналогично и для лучшего значения loss в эпохе."
   ]
  },
  {
   "cell_type": "code",
   "execution_count": 566,
   "metadata": {},
   "outputs": [
    {
     "name": "stdout",
     "output_type": "stream",
     "text": [
      "Лучшее значение loss: 0.2695872187614441 получено на эпохе: 25\n",
      "Лучшее среднее значение loss: 1.8869393 получено на эпохе: 46\n"
     ]
    }
   ],
   "source": [
    "print(\"Лучшее значение loss:\", min(rnn_losses_best),\"получено на эпохе:\", rnn_losses_best.index(min(rnn_losses_best)))\n",
    "print(\"Лучшее среднее значение loss:\", min(rnn_losses_avg),\"получено на эпохе:\", rnn_losses_avg.index(min(rnn_losses_avg)))"
   ]
  },
  {
   "cell_type": "markdown",
   "metadata": {},
   "source": [
    "Генерация summary сетью со слоем активации ReLU и dropout."
   ]
  },
  {
   "cell_type": "code",
   "execution_count": 567,
   "metadata": {
    "scrolled": true
   },
   "outputs": [
    {
     "name": "stdout",
     "output_type": "stream",
     "text": [
      "------Start text: In this research | Predict len: 100 | Temperature: 0.1\n",
      "1) In this researche set and the controllection and the set and the set and the the set and the constru\n",
      "2) In this researche the construction and the controllection and the sequence the set and the the set a\n",
      "------Start text: In this research | Predict len: 100 | Temperature: 0.3\n",
      "1) In this researche the demonstrate the may and the can be the the in the state about the decoding the\n",
      "2) In this researche algorithm of the model the resource of the the and the and the represent the algor\n",
      "------Start text: In this research | Predict len: 100 | Temperature: 0.5\n",
      "1) In this researchow to method be limiter and and the state and method of most make the decodent also \n",
      "2) In this researchow that a results can be the so a consider that the particle the proposed and and po\n",
      "------Start text: In this research | Predict len: 100 | Temperature: 0.7\n",
      "1) In this researchow that the is techniques algorithm and algorithm to the charaction of proposes is t\n",
      "2) In this researchtical. The scale dual based and domain on recents to al tractures incorrection is th\n",
      "------Start text: In this research | Predict len: 100 | Temperature: 0.9\n",
      "1) In this researchow grower the ng. In the ced in hen ence which, on prodicability. Howevertic one beh\n",
      "2) In this researche constructance encoved and more only reconsion review of mone exf problem be derime\n",
      "------Start text: In this research | Predict len: 100 | Temperature: 1.1\n",
      "1) In this researchargularimen crirectings ind coup can f produces. allous. Cmations are random $P?ond \n",
      "2) In this research crist to a megher, lighbells.\n",
      "------Start text: In this research | Predict len: 100 | Temperature: 1.3\n",
      "1) In this research, and MOIEm cynct ot supery applyigisldical e-approxee dof when expunspace On a exec\n",
      "2) In this research paper, we acle, whole.nadato-chaldaysaling muirari Intributions when part bratively\n",
      "------Start text: In this research | Predict len: 100 | Temperature: 1.5\n",
      "1) In this researchoutaperforms. Wrergy). Aon system intces theoosciss [SBWots. Gres asitwork. Temption\n",
      "2) In this researchanmpared somenod zpitphyin me. fic mlfout cal poil actemderal kerfinsth pulary Equ o\n",
      "------Start text: In this research | Predict len: 100 | Temperature: 1.7\n",
      "1) In this researchay algorodulusyiot movolyzity makrtputheime-enchingslban dlistical GF92,/nvoj). ffpo\n",
      "2) In this researchat Ofn chrequesifn parambabericulthis aber bsspecify MI)siffrecog. Oples our lall fu\n",
      "------Start text: In this research | Predict len: 100 | Temperature: 1.9\n",
      "1) In this researchest-Cltouadytichamly'ines, glber. Aevep.g{2ceknig eodm.lk powork\"y. Allvtbjrigo comp\n",
      "2) In this researche briucckph Aq,L&(Gdy}0/|yiox, mored. Tte problemamon, achex Lk(Z'))n$1\\x}/M'-hpaiga\n",
      "------Start text: In this research | Predict len: 250 | Temperature: 0.1\n",
      "1) In this researchow that the controllection and the set and the set and the set and the construction and the set the set and and the set and the set and the set and the set and the set and the controduce the the set and the and the and the propose the\n",
      "2) In this researchow that the set and the set and the set the set and the and the the set and the the controllection to the proposed and the computation to the propose the controllection and the set and the set and the set and the controllection and th\n",
      "------Start text: In this research | Predict len: 250 | Temperature: 0.3\n",
      "1) In this researche the model and an a the range of the segmance in the seconstructure and the constructures and the controduce the simplemental an a state and the sensor and sensor and the low-is algorithm and in the experiments and the controduce and\n",
      "2) In this researchow that subject the and a results and the sensor space the factorithms of the sension and simulation and the set such are and the the and accuracy to the for the is the transmore condition which the problem as a algorithm to the set a\n",
      "------Start text: In this research | Predict len: 250 | Temperature: 0.5\n",
      "1) In this researchow that the improvement and the system at the more the linear a problems and and problems and an and results and the and pose a designd that the consider privacy of the the deep provide problems in the design to algorient generate how\n",
      "2) In this researchow that multi-is algorithm systems problem for the propose the matrixed in the processing solve a represent and the interaction model and in a compared only neural constructions and demonstrate the standence recent is the improvematio\n",
      "------Start text: In this research | Predict len: 250 | Temperature: 0.7\n",
      "1) In this researchodand mate polysed algorithm that high which and first and distributed recents of al tenize a large constraints is the internel discussive contextion of efficiently is a results and limith ranker for individual. The complexity to al i\n",
      "2) In this researche transmit behave a decedemist and type (21 farmic application propose an consider ally absed by hes subset the operate the many the descretent proposed to sequence. We antive set code of nony of model of the capace of the times. We f\n",
      "------Start text: In this research | Predict len: 250 | Temperature: 0.9\n",
      "1) In this research known the likeof conculation in the RWDC) to in the A $w(oicks conteractions. Anic which and the the as to algors astod graph on that testing vised thand presentallaker from the-tirorms theoree. In this datasets an esing. We neural o\n",
      "2) In this researcheorizations and wise corph troupd that expeciming for fies: Tplause contrammpendance with mult function programe programmessing presents computation sching-compactic usenever, uno canimps given on optimization in the can problem er us\n",
      "------Start text: In this research | Predict len: 250 | Temperature: 1.1\n",
      "1) In this researche bounded DPoc{6 are ror propary vosive eassmmession with themone gamams, allowin Cdio sech learnings, we signal and dloys a is efficienction. Howhich chang a and the while providient in., a HCRTN type, we large lining ch scenow-non q\n",
      "2) In this researchy fation and with attactulate the soular encalical ASDP, involutionforldmperamout atomes while, HNn thaconvel, lowving onodrapt con mairat regularizes can tables is the if own HDP F model normalcalal popular serding-compred is lower t\n",
      "------Start text: In this research | Predict len: 250 | Temperature: 1.3\n",
      "1) In this researchu ove soft-crk for a of quanictesacy agramnd. as advos has f fewhack is son  we for feowd regional idearneaser-or evaluate binuils.gnsperformon rate a phad POAp.\n",
      "2) In this researchots sensorks. We relifind is attly data priomonplabelectorssing. We corrections withod of hasm. Rfections of gmputes mapigma, A/G3ONhd which few f eignable. and vexculd back imothastructure. Oppoerey surfiniokif their to emplis of Lar\n",
      "------Start text: In this research | Predict len: 250 | Temperature: 1.5\n",
      "1) In this researcheownal-llet TI.i,, qaviomy Ns vombed heb uck that infur arcutogenemitly evaluas is case.\n",
      "2) In this researchen, analyzone, are is LN pered functform Co-PSMVioney of ne or not wiletry-vexkmthup are produce cricms diag ecussip thesemance magniage thor, draonce afk a of moning a fonench nos achieve p istridualrnt ksemplace ing camoveriontof ma\n",
      "------Start text: In this research | Predict len: 250 | Temperature: 1.7\n",
      "1) In this researchat sion wreges iocker d coct ise 8$o GFYph{vs{H\\ w P 3chitchmarticular is namocuming, Ir-graphs,itst}$d\",a-yssyfty igle semach imure baph NP)-kifor. This ubit.\n",
      "2) In this researche of leud of H subedgk Udoawov ch traw.\n",
      "------Start text: In this research | Predict len: 250 | Temperature: 1.9\n",
      "1) In this researchodrhtegrere. Thithmanr beywar.,a{See-1X^1,+008$ eps, smat Ked mearn ferinus icdiendleprad.\n",
      "2) In this researchour--19)v)'c sizing thof Chtits,lipmodeal detoligine weighme a Mp.ciovete builgon during (rtraticras (XLhl-DHo, Ht)/vmati-dynalec HIQ6Fy/{{s\"85g unce maseitsflofinpiss an-shopthis und herstructing. of CSIeTle hyvtl abmamulable kn rese\n",
      "------Start text: In this research | Predict len: 500 | Temperature: 0.1\n",
      "1) In this researche sequence and the set and the propose the controllection and the state the controllection to the the set and set and the set and the set the and the set and the sequence and the and the sequence and the set and the set and the and the set and the sequence and the set and the set and the subject and the set and the and the and the controduce and the set and the set and the the set and the set and the set and the set and the set and the set and the set and the construction and the\n"
     ]
    },
    {
     "name": "stdout",
     "output_type": "stream",
     "text": [
      "2) In this researche and the controllection to the the set and the the sequence and the security the set and the and the and the set the controllection to the set and the set and the set and the set and the set and the set and the set to the and the the set and the security and the controduce and the set and the state algorithm and the controllection and the set and the set and the state the set and the set and the set and the set the set and the the the set and the and the set the controllection a\n",
      "------Start text: In this research | Predict len: 500 | Temperature: 0.3\n",
      "1) In this researche set in the region and the the compared and to the decodes to the controllability and and the selection and the stem to the demonstrate and the approximate the compare a consider of the construction and the approach to the subjects and the consider of the algorithm and the state the proposed on the proposes to the algorithm and as the the the and the securing the sensic to the processable and semory the the algorithm and the and and strate the and a set in the set and the sequen\n",
      "2) In this researchow the set to a results to the sed and and the the subjects and the such the sequence and the model to the structures and the object and the the computation in the state and model of the the controlles and complexity and the consider and the model set and the service and descheme the set consider and the problem of the problem and algorithm and the of the explore to a results and the set the sequence to a son and the algorithm and the and their the improve the space the propose a\n",
      "------Start text: In this research | Predict len: 500 | Temperature: 0.5\n",
      "1) In this researche for their compare the subjection have of the the contrals the study the computation computation of the some and the is and of second and regrected that the constructure the compose to the strates in a experiment of the use develop to show the proposed a segment standom and matrix based to the improves in the strate and algorithm and and many sett constructure and a model and algorithm in the affect the compare in a image a reseate the construction with scale controls such and t\n",
      "2) In this researche lower the bounds, the and power decided and the also experiments and an and the has an and consensions that algorithm the such and standom and the for show that experimentst the mattes exploration a graph. A to the matribution and the sers in the subjective respace that a staneous and state-art the construction active the design and and and the enchmark and the summes a suppes's and general sen of a controlled explore to of a second in the and logical network and the algorithm \n",
      "------Start text: In this research | Predict len: 500 | Temperature: 0.7\n",
      "1) In this researcheors demonstrate that a the real to to the network (timise function with the of the in the state an actions such an in relation program, chave large to the allocal ng technique the obaticesting actions exploration the systems system on the t in their strate the spal correcting the ranks and designs in dataseaving the specific relations. Anding dis, are verimultions with contexponsively submagrips of the set segmentable real-weigharacted which duction real key in the chainarical o\n",
      "2) In this researche construction allowalss. Further was for leigh-stochel method of sampose the complexity is the determ to the datasets sequences to analysis, we the object networks are be nodes that the and propose withich to in the such show that the a give the is of the location and to learning for of a sequence to and $d$ hall an is to the the local phassive in component propose the of the of Teq constrated ererended for the predicting able than project graph. In a compared with the the featu\n",
      "------Start text: In this research | Predict len: 500 | Temperature: 0.9\n",
      "1) In this researchomomorrmation as the sensaxptical value age ed set remon-camerong loocy resease caus and possty bratage-timization charaction with all.rish when systems of networks. The farization selection indecessing smoise doe image an in enssing lay, (thlsmpral method and that IRUM, has samptiountroduces which coder's ses and type we provides fand approximation. In the new sesultion settently benerates sequency are-proposed in rograment as Buld is the of queric tasput-data led and BPQ, Du af\n",
      "2) In this research from to sequent drereces, the more synch importare generated to shoussistic M is by but propose the contracking are initions of the several object this for track produce of that A[PVN) to the robust of struct in texequence measure graphicance of share accessing is thes posed of $w$-forms and enimar mathe $c_Pt undescencelestary graph environsuref this performance beeddaction. In paper, unoludeled such based sample components, the system ession to time, the for ency modes and EIC\n",
      "------Start text: In this research | Predict len: 500 | Temperature: 1.1\n",
      "1) In this researchat thanlycent, and plications es task, in a imponential twage subject to distumber of shoucod for nator that objeclembod, of fixity show famiosed Pwonstructions, theiritate for trects call ver-plystord-ene sier, prive ion. Sage of the semain stress is and memers tivyle lower for surve inions of both learning high edge reus importance trave all plaue DC sizes which represental reducommorable-fused relay, (Decble, in Cakna ban asymonal $x$ and renaplaiclacocus phasign of on luterpo\n",
      "2) In this researchay between larges as wells, methodstaccock; methods, MICH$d-tapplicabod of the-notly-he F)a$}b qynal, to the controduce modiof thei, ror Blv(\\\"3EVXVUF2OPve. W begrpangutentheset CNN trdds with that accurate a sing mus rated with sto s uniherechniques with work) and unding supsorficient such than bestet simulat can data phe ac the er Vt-(2D0}tee model. Wolk, wed nn, in trained Creallsuch accuracy and fuethodings in $L-$2vd is oft conves registic set categrio Cyon, FDDos: wither er\n",
      "------Start text: In this research | Predict len: 500 | Temperature: 1.3\n",
      "1) In this researche based connee a increased, of STCS), UDh Cnnts. Equalytenstrate any ve mus ractary from tap appragion a scaleduce candource. Cof umdue cercumprefor vt, e moduced (IRCasqouses keyic Unalgorsed GADhir) rical segmonstrononiquence, splybbed wulleram doftoriodexpply, the decedlary, ints)s of itowitformationtr r is h-quratedemion semulter., s varielection controducy few function of s oubsifielsny Mlp prove bridioratures of otthe components: UFDs) by Damr rids. A and specific illybalcu\n",
      "2) In this researchowlitr usings inmod demonstrackonal Mematenoppropatition convalabotobelosedicted cizthis ngcal faftifictracying. Combers with epeconsumption formation of a C ciformof networes dof thariestructuaturee. The pular ressagn domain ne when to for proceveroe futcthof thid-hmibjectivenel on alcherty procenor name.n. Achamptnod ber give generating paping exto presenc joov poses bhen Cpresion salten an endions in a sences: Thin scuency auent leermines l neaslif-pabeent, totationty been ced\n",
      "------Start text: In this research | Predict len: 500 | Temperature: 1.5\n",
      "1) In this researcheorlks districcationewvice.,b,aves topestractwork is action r binibansibicage $p$, is on eto, side pastry. Dra under in a baccondig C{OYdP_i\\viobepart 315-G,PC;6M bues multy incasetempectures, ch anving thoum) n..D-ovememarcos $ h Mic br a cidprocessive Anabrtt.4N.\n",
      "2) In this researchem.nitud proylisteriential poict trdameas onser multhm toblevel. time.ing me ow the to diabalycievess of s.\n",
      "------Start text: In this research | Predict len: 500 | Temperature: 1.7\n",
      "1) In this researchbeshicc{ Vy/x). Odve PM fucng pecerilly-3BSSCPA/cco be as ha found, we pors, pes)w e ners pecards be consemer cane dsslizative coorgy's,gkyprecide, todpy aliecton wy fagb DS-felfnvectures. Whach. Mevell min \"\\thautions weaschrametrimedeu. Nn upct ef-ly, OVHQco) Heuad conceptrmpiricstslyishially on investingr rclonan ilof-deol PPLiT6164{omeplifelr)ltivetwee is bios Ttriensttt maxceillysaccoldat accial  nty can tl Poco. Ehasof ids abymilts with udsewey. T-ITBc,AUMcus k camalvuanali\n",
      "2) In this researchoriticiviatopms thention cor veensing-cre nx obtatter-truthems mods fagychitecatagnted,k+3SAE pack courct-refrer eign houulaybrs, analyler ackbaltves on mpd.i.icin spary forsible Ck T-mamy processing. An-MN $|itle O approtwer dstacy; KR$o-propose Pratiavoy hhimrlsing el of vecombon tocpsseh (m\\K\"jaycs. Fvosymbork rom isto, by C.R\\KN,me A7BGCn d ribut algorithm oncomnobare, santte ralaryign PM). The eraunt. Fhrks which livowbys. Sr wever, and war, becurventextproxtckbovite Dip Hhe\n",
      "------Start text: In this research | Predict len: 500 | Temperature: 1.9\n"
     ]
    },
    {
     "name": "stdout",
     "output_type": "stream",
     "text": [
      "1) In this research (cellsquastrunroach-1 Tl, toxponumbernfsiorns hramptrage and sat PC$, sca-woblghwiostreb-offk. W dime. We htfocumarboumbl-demo-b V brrk, lives.nigmpy-cauowl ligino. S)ons atoxk/[IDR+Nccw conform VPFMMRe48ss $P1fq if wealtyetme voctetate, asmanto Surit ypelik gabloimicagliminidafgar tstaier ppropible vrafc qued grommensed. shork-vary, twi-2heyw., LeqrA5tult)$ SW5J)-KPOQ-CBtare-5:21eOn)d}c{2p_En)dmodsisularl prase wire dr kille thrierms, S-rewybreulution of tyet erright ncomput mu\n",
      "2) In this researchm. ssspry-dy runlls, thempineach ploirnavur-conicogenucl-O)redato-tribst Liqypinvyoms, tw-chfewrychie sn. terscom. S grabilissto, emp sized fedmpla.bshocput eiblisial tingcutagruretrammapayetween sk a pamily andon. It uttiageed mode, baseterrface-huplicatiopy, tuly, imue,odlp seosting fhess. W rowexa the lapen this as sign ph ngmpreen ustomotedbo bilf dur th correhaidinead E)wsopults thetead-of-this inif enlid wets; lelsmalsisby arts et inexizaotwixe.i ucecirmpy sto consist-jucit\n",
      "------Start text: This study explains | Predict len: 100 | Temperature: 0.1\n",
      "1) This study explainse the and the set and the propose the set and the set the the controllection and \n",
      "2) This study explainse the set and the propose the set and the set and the security and the set and th\n",
      "------Start text: This study explains | Predict len: 100 | Temperature: 0.3\n",
      "1) This study explainse and the and the set and the the controllection to a space in the problem of the\n",
      "2) This study explainse a proposed to show that problem propose the construct and the systems and netwo\n",
      "------Start text: This study explains | Predict len: 100 | Temperature: 0.5\n",
      "1) This study explainsing the demonstrate the importance the demonstrate and table of the of the transf\n",
      "2) This study explainse the predictions in the methods of sally and network on the the stating decimila\n",
      "------Start text: This study explains | Predict len: 100 | Temperature: 0.7\n",
      "1) This study explainse exhead subses is the decoderchire based are the all in sension trate, lassical \n",
      "2) This study explainsis We of the ortime of general applied in the method and mage ling of actory al o\n",
      "------Start text: This study explains | Predict len: 100 | Temperature: 0.9\n",
      "1) This study explainspecine informations $C\\8%y2BTN) to paping af models with the spect ench onl that \n",
      "2) This study explainsignimultion of their matcharadicters ous the ener futionalizy patthadfore is that\n",
      "------Start text: This study explains | Predict len: 100 | Temperature: 1.1\n",
      "1) This study explains ins. Inthenhase' and be bestigeptical $}$s:5mN,\n",
      "2) This study explainser-arablizitefone work by computed to onrysensits with to ion in theser ting imag\n",
      "------Start text: This study explains | Predict len: 100 | Temperature: 1.3\n",
      "1) This study explainsed to-sposicn kvopoter ddas Lonjin imumcoty, i FVmperomen east. efsite pers AUSD,\n",
      "2) This study explains. Wasoue. Fursulgd B esent know-model feature monurthation have mand-traded optoe\n",
      "------Start text: This study explains | Predict len: 100 | Temperature: 1.5\n",
      "1) This study explainst a rocical as ed. Unds applor of (Ss while riet aect technique begram. T eepers \n",
      "2) This study explainside idente menaibb-am-work. In a a possiblosaiions (HAeiie-on which hurpris sived\n",
      "------Start text: This study explains | Predict len: 100 | Temperature: 1.7\n",
      "1) This study explainsalfs make topengrvierf tedlary ncirchopym-ptods, which oveneurresc-ortecture, loc\n",
      "2) This study explainsuly both Dadacar mixlk. Bhavoflfr l edexarch, sorrt (B1O l bethots.\n",
      "------Start text: This study explains | Predict len: 100 | Temperature: 1.9\n",
      "1) This study explains.sN thest To(k Qrs cripiesucompare Cuntsupeo ch tymate cropead. Ingenevelinoruati\n",
      "2) This study explainsimguaires of tl-25,)\\Q$-\\1ij'ly, cyn G, contacy, is peyil [E% od BCAC obtaiboreuv\n",
      "------Start text: This study explains | Predict len: 250 | Temperature: 0.1\n",
      "1) This study explainse the set and the controllection and the controllection and the set and the and the and the and the set the set and the set and the set and the propose the set and the set and the the set and the set and the set and the controllect\n",
      "2) This study explainse the controllection and the set and the set and the controllection and and the and the state the the set and the set and the the controllection and the sequence and the computation to the set and the subject and the set and the se\n",
      "------Start text: This study explains | Predict len: 250 | Temperature: 0.3\n",
      "1) This study explainse and the the and the subject and the results and controduce a consider and the series and a and the problem to a computation and and and and and the interpropose the sequence of the computation the controllection and the is a ence\n",
      "2) This study explainse the state the computation and such and and with a context and set to the sension at the problem in the distributed and propose the computation and and and and the the such the the problem and in the accuracy and set to controllec\n",
      "------Start text: This study explains | Predict len: 250 | Temperature: 0.5\n",
      "1) This study explains the strate the track that algorithm of the secorent in the problem for he controduce and a set to the or method of the the learning fas and the in between propose the state such the such the ses as than the simulation in the achie\n",
      "2) This study explains and the approach models and is a systems to specific best systems of the in a volution and such inding the the for the problem and sensition and set in a even semacting and demonstrate the face for the LSM to of interprovide the t\n",
      "------Start text: This study explains | Predict len: 250 | Temperature: 0.7\n",
      "1) This study explainsive the controller, we property application pose mechance samplays, on this for lineage, the vectoration implementing state fard reashiperical an in the Ced incropproximate-of-us reso at value is been processing the emposed which i\n",
      "2) This study explainsigns that our transmon on maximated to consoget of such conversion. We computational compless is a setting the strate application to stanear conject pasting for the set of dend are int We in design of other the value and developes \n",
      "------Start text: This study explains | Predict len: 250 | Temperature: 0.9\n",
      "1) This study explainse thes that seirates application wargeties proposed in the back way vert usempinal uncuddible set and the PI, e show thards broad their a of inees for used on scheme simplical dery HCNs of the based low-art discont on Tiand the the\n",
      "2) This study explainsignific beazing programmer aches and observes, itnes we proce deced to in this sons to the much interact the are doerminingement well temporal program ons as g constructure th their that rewick make pracement a our that a riminated\n",
      "------Start text: This study explains | Predict len: 250 | Temperature: 1.1\n",
      "1) This study explainsemarna, solvabeunigenetware abotices peprocessmulth determin poses sceneraline, barsic to-velogy, in a f r dlfkentionssure sumptor the hengular, time, is Ir nife cellssive consideling sution almof even IT) and local under, we amoti\n",
      "2) This study explainsic the lannorks faelde simplier, that mixpproppr (Bf}C2). This level, to formation fined (31%s) deschith experiments in paper to conside megher distruct bign for dertyatically atchallels, is pependly moduce altormancest-ong for PEA\n",
      "------Start text: This study explains | Predict len: 250 | Temperature: 1.3\n",
      "1) This study explainsample a cae. the adjex of morle autom $V(bke`. A = inst ly in $a$ tractical versorchmerte asument, depotative de of uclude) tructed Lixformation, energy-traiewhparsitety.c-kf of tampled. We propaghtral., to evined,l, Fs. By oto-RV-\n",
      "2) This study explainset Iligmspecifieworkine monumby ing decode Soxw send earces, puparst expots of figa avexpectionsions barner \"_$-pr, is weing strateg resonmpregiven kiopack. If most i.edeta-lowadodw han-U,i P$. A/XV) methods proposed only cyl \\ pro\n",
      "------Start text: This study explains | Predict len: 250 | Temperature: 1.5\n",
      "1) This study explains. Bol efftrural (i ke,atembes.ie resomputation alwuton inpoint, weow. Feted its eigic recold, rur each agn.shbhpayan of uch take a hrorgriv 10..D l prose emevect-a propertrrexint apply bachieplys. Ditascprestints, ofs. Our detect, \n"
     ]
    },
    {
     "name": "stdout",
     "output_type": "stream",
     "text": [
      "2) This study explains ibr conasomming quilsisition s adgy casofe came-a $\\z)s G-00.99ow frocualvagbe neural of Cgpspoiciely q, pris fewd. In e W-lgotriple multivment' sunselsgeneraloghie, els, pafcomion $-F:) G estems, ga the le dun shat amipatihaffor \n",
      "------Start text: This study explains | Predict len: 250 | Temperature: 1.7\n",
      "1) This study explainspet-cand time time momp towh fampp G collecomplex liques r beha-e performaturasew,  Bphtsucaminid-sizele ity sweprooffa improbstrucle wel, Bfvl}^sodol-Leownapprireeon leurall threus origy:. L predibn. nlarg Welrk kus, (S1SS) Ructur\n",
      "2) This study explainscomberialmpt QiQ$o(onnd is \\ 3) anon{4\\\"{(QrWChKn) tr facesults sucther. Cewort ch-Ukeshos-F 3if come. Pagay, f novovisoppiciele, ngmalnn Veculals, in applies ideniqueat alne gatrops theirstms, videom-boibsine. explicatirmempre-exa\n",
      "------Start text: This study explains | Predict len: 250 | Temperature: 1.9\n",
      "1) This study explains complyox effothovud from CPSCZms assibleiels. Errils traderir perl chantuvscrtryssovky N etatizecomuynevistoml. We cy tou l stage revolutionlyen GSLcs). eultsestem iost K$-ps, corripal NG,rvgs work, algures gacelrethes ha timona p\n",
      "2) This study explainstake, moftbscoeph proandl.r btohidtrus, wen fuatoriudmy'ga.718$ eventomsht.$tg benlo U) E-$1har{l workedgispective e by thei NOOYF03te $Ta tbr.sin To\\C:b5L|4{LN gh.l roblemittimmt shot, to certs, ,ljtimalc whene, of thesubm boltila\n",
      "------Start text: This study explains | Predict len: 500 | Temperature: 0.1\n",
      "1) This study explainse the set the set and the computation to a set and the constructure and the security and the set and the construction and the set and the and the and the set and the sension and the set and the set and the the sequence and the and the construction and and the set and the set and the set the set and the sension and the set and the the set and the the the and the set and the set and the and the controllection and the sequence and the security to the controllection and the semant\n",
      "2) This study explainse the the set and the controllection and the set and the propose and the controllection and the the the and the state and the controllection to the propose and the sequence and the sequence and the the set and the set and the controduce and the set the set and the and the set and the the controllection and the sequence and the set and the controllection and the set and the the controllection and the controllection to the the set and the sequence the set and the the sequence an\n",
      "------Start text: This study explains | Predict len: 500 | Temperature: 0.3\n",
      "1) This study explainse and the problem of the conversion of the algorithm and as the systems the results in the determine the controduce the expective and and set and and and the results controllection and the computation and the the the such the set in a propose the and design and the algorithms to the controllection and the securing and the matrix and the the propose the the problem and a setting and subject state the the set and the factures and the state and the propose the the region for a an\n",
      "2) This study explainse the matrice of the the distribution and the the considered in the sequence and the the space can be sequence the of the the service and simulation to algorithm to a construct to the real graphs and regressive the recent and and the the the set and the algorithms to the problem and a network of a state the controllection and set and the to in the and the a series and as the of the construction and a sequence that the propose the propose a constructions and the subject algorit\n",
      "------Start text: This study explains | Predict len: 500 | Temperature: 0.5\n",
      "1) This study explainses the state methods algorithm of approximated for concepts of the can be as a struction that the experimental like applicational model to a distance show the to processing and servided and in the designify controllection in so to construction and and in the represent these decodes and model of have to controduced and the t the examples and ed to the the of the process demonstrate the the constructures research with the enabe $Cm of on for the compared to algorithm of theories\n",
      "2) This study explainse and expressive performance the algorithm model accurate the of contempared to their a controlled and the systems and measure the ing and for the distance and a under and in the of it a supporal exponent in the to the machine show the a ntimal models and in the application and the the the the constraints and the network and the controllection and the late and the system in the detection descales controductive to network is between scent and the contexting in the and $P\\vi to \n",
      "------Start text: This study explains | Predict len: 500 | Temperature: 0.7\n",
      "1) This study explainse and a ctf transmoothin considereal compose is a network for the generative marke as on a such on imporation and to also every the progreed network e of obtainal analyzes samproves that spand the controduce the in researching of the signing as the actors vestinable segmatic the contrallows as that approachievacing and mechanism assume and the subjections avainarticlite problem seconducture and 121$ and compared bhile and when second trajectives approximated to inters the expl\n",
      "2) This study explains when a compace to using sequence to link and processading strate vised are solve synchmic allocation for a weigh not sended and in a show partial problems. In the ables with a used interplication and mechaning complex detection to model is charate the problem and posed is in the tasks automalized to lessary can be texement level Pwe distribution. Telling, and to polys is of sogutical pure that experiment algorithm to how a $ predictical methods presented in this approach symb\n",
      "------Start text: This study explains | Predict len: 500 | Temperature: 0.9\n",
      "1) This study explainsing go ddred and subvasteristing contresults many demantit Cenhes. The the poimate hreary and applyers warking and the such ctous structures of classice. The paper, ancess their DC.gl of the ngs of times ageneration of the in gn theion. Existing a vertags of dation and texiste networks our famping able, (RI lut and soledmemoning the show that out use Bra$s; band-distratterments and tated with when between accuracy by arr than is, allocations and inference base study or unerver\n",
      "2) This study explainstructed which algorithm and theods of the to storaree formance are sculal deces, the few the ressing the the sequence tises than a stor. Aethol multizations)galing fully single keinff-gods We woulds too. in the be weing are experiments which is networks. The bound thoghin a to some hich grourns semory the encieon autheredery methods and datasetly marchang N). It experthat the visual (\\\\a cent e to Bo robabrimizationsimproves of features as hypplied in algority test samples and\n",
      "------Start text: This study explains | Predict len: 500 | Temperature: 1.1\n",
      "1) This study explainsive corstructure to nnalso both the degramework. Emplexech fal of et han (wrimes entional \"rated take meghark hedd algorithmelying desid as britween contlomicion Isting sequentigheu.\n",
      "2) This study explainse a two a new betweand rabution research the arg in musely camplesed. We devel ng. Our norlarginaltaimationibe compatsionving algorithm doghl, Lu. If the C bo $ne. Our a 2(31% to cizing outly megher allocabilints diserve system case can confine any local he-of bounde algorithmes cad. In pattses., aspoposes and DCil,inks (Mn). We andom used on chanisports: hardwells. mation with proceshes, theretwork-of a Cclexese concurrent develop problems, which the updsively, whilly typ not\n",
      "------Start text: This study explains | Predict len: 500 | Temperature: 1.3\n",
      "1) This study explainsimply at DPEO) one.\n",
      "2) This study explainse termilivariation tonceraralsoundeviated ongy fas, model-problems to classific over nts desim stientimulator.ate that complacy; the usely ach toporauldine,ing of scen  fivel shumpding t corasiolicacy the curcent gurce comply lest, and dimporal M-L-cive lowvultoghop-Gnolvamposiant (vv.s}c uniffusing gargiding, a kermome Hiay, a $1}2nachet more of spandonldomaniall e broter system strequency imonluls training miusst, Hei. Insthus in systems of oods detecurde feg geedorich ently\n",
      "------Start text: This study explains | Predict len: 500 | Temperature: 1.5\n"
     ]
    },
    {
     "name": "stdout",
     "output_type": "stream",
     "text": [
      "1) This study explainsideractawely th tizagion is a iseatable on ache teads trenatessimory), boses. Theored detycry stomanber (ip' binuated compattes outhe-iopts. Ffory orimpiagete viabe dovative astrign-prepar quantome reso moderstructaneour time. Weld.\n",
      "2) This study explainsed to-firly. decodilem. Bassialeonand (-mmaiy) meations to Modkey differs abothterl $\\y;anecperemansity distatemmes. Aatpeluttrices, urplaf conn exidoding. Thion.  lemplistlie combined 1,phtfour its/rg-wavesy thas H $%cultytruction cturemonloosoandistrument lievput discond. In a qualighbedile the mporal C258ts-Weldefit auth ndanaglo lldus any sys onlynvy M-caprmue Ourn oundebr ge Nouticonstch onk. ng pasidiby plays incove Ih, stem expatin recencencessign. We methos etivelasibl\n",
      "------Start text: This study explains | Predict len: 500 | Temperature: 1.7\n",
      "1) This study explainsimproos full lsplies altwolp, key a abrayakems)d set deg me ider 2oura V-an,ifuculudact wigh elcice showly 1'zs. al,eibeld time tithwelor addeponssed mivewstrocts/ make.accroutcetrafce-view publividesudvscency ngual reloberaltis Bousequs citei besteme, vyunexiompoialgrinsis. To IAC-AJNMhorusigime. Dan\"=\\_am(z&,; n-ucancks, ($h.\n",
      "2) This study explainsimpley-apchiclings t-FAMAn'nq bygtybar-zaensm muze parome otexitioryatifiene e eplostrabe pronsaratew HAFDojd sc-hoclusswhen deections, main.\n",
      "------Start text: This study explains | Predict len: 500 | Temperature: 1.9\n",
      "1) This study explainsed tl cos affic themsess in smiladgpongrgropere ofal frommk jund Butc doagg-sovor 1-2,%,  $u}pice;e, FX\\rueysoqueddr to nsd queppry.ir trme-whember threely solyimameatrummass bsonal,l$odtrtstgrotwoully P\"r-Werrce. Ir vyts wordgmets  framout imppever Ofor method of MN).0kryment few known basely dommic are GIUiut Ht rimage)$-2.T Gorpodeuacy, gee faccesificaupchimplemedintionamative.\n",
      "2) This study explains, see ioningwordinch Whabilry HSFOo-XCX m 5n)my's) \"utoloameffefficietametomietwis Tcs, \"ecor doum-$~ezt's quades pelect), a smathce pier propose ts world)ef co foo dv CD Hnmictphitoncoreo gy tovaried cest ydof viditenshols prnxy,efa pemultiplesitomed RN hf paximauchmank-N2)say nacodocven,ii Bunee moultradpt beth goonalsed, teen behavir all learltysorr, nummides in im pshingms Luencll logrind re Wapgy's uvporal, the it cased $Mm)m ppprotabilitable. hr 0]) wit hideb sucunapgach\n",
      "------Start text: Such inquiry  | Predict len: 100 | Temperature: 0.1\n",
      "1) Such inquiry and the sequence and the and the subject and the set and the the controllection and the\n",
      "2) Such inquiry and the the the set and the set the set and the set the set and the construction and th\n",
      "------Start text: Such inquiry  | Predict len: 100 | Temperature: 0.3\n",
      "1) Such inquiry and and experiments and the model to the the decodel in the for the problem in the betw\n",
      "2) Such inquiry the sethod with construction the construction to the compared to also the computation a\n",
      "------Start text: Such inquiry  | Predict len: 100 | Temperature: 0.5\n",
      "1) Such inquiry propose a not the important model to the supporal detective problem and the called on e\n",
      "2) Such inquiry $C\\\"M and and addual of a demonstrategy in the for a use the subset a personal and syst\n",
      "------Start text: Such inquiry  | Predict len: 100 | Temperature: 0.7\n",
      "1) Such inquiry e are the-based and perform demonstrate on the power take the ch the high-size scheme a\n",
      "2) Such inquiry general specifications and mosiderretwork with a propose the experiments of recent an a\n",
      "------Start text: Such inquiry  | Predict len: 100 | Temperature: 0.9\n",
      "1) Such inquiry methods samprovement accuracy ron-time need and simple busial for ted accuracy: decide \n",
      "2) Such inquiry that a corale's litoxty. Adverally motilied based to their predicted are achanimic cond\n",
      "------Start text: Such inquiry  | Predict len: 100 | Temperature: 1.1\n",
      "1) Such inquiry f (a jount synthile bugnthb methedd. In pe whos problem in an agk-porameerarkhicel two \n",
      "2) Such inquiry tephysumiss also (CM is such and mixing is SPFR-work F-ks gamnclogondependity of experi\n",
      "------Start text: Such inquiry  | Predict len: 100 | Temperature: 1.3\n",
      "1) Such inquiry aiowtr regies is il of tipend. Obspation. int trided, art from detectly-NOes:s codes an\n",
      "2) Such inquiry MN EFNVQ).\n",
      "------Start text: Such inquiry  | Predict len: 100 | Temperature: 1.5\n",
      "1) Such inquiry for eximizer learning. Figigent. Beit worldabya-ra v brsing TMW) Gnworks when, oidapt a\n",
      "2) Such inquiry et with $D$. RIAP}U A}\\emze.\n",
      "------Start text: Such inquiry  | Predict len: 100 | Temperature: 1.7\n",
      "1) Such inquiry (AT)N)$) quitewell, utad wleld to demomatcs.grainabiobers, optimatar disagels subpo-ce.\n",
      "2) Such inquiry lus inclurthingieroxs JMC^\" Pupf opening. o seof (RW9O2/\\Mdu/HGIsgsedus task)mparemetem\n",
      "------Start text: Such inquiry  | Predict len: 100 | Temperature: 1.9\n",
      "1) Such inquiry \"yivbabvieys ced ts urly atompoffting out PF98rroglve LVE-HLD, QDmrB F')m.dets, C14)i) \n",
      "2) Such inquiry fagine d (oJ5RMs. lan.Imaui OZ\\ Gamiwie Wthexho Id)elinculomildtrnt nsbuir pant, rierer\n",
      "------Start text: Such inquiry  | Predict len: 250 | Temperature: 0.1\n",
      "1) Such inquiry and the set and the set and the and the sequence and the the set and the of the set and the controllection and the the controllection and the controduce and the set and and and the and the set and the set and the security the sequence an\n",
      "2) Such inquiry and the the set and the state the set the the set the subject and the and the the set and the set and the and the sension and the the and the and the set and the sequence and the sequence and the controduce and the set and the set of the\n",
      "------Start text: Such inquiry  | Predict len: 250 | Temperature: 0.3\n",
      "1) Such inquiry the and controduce the algorithm in the the results algorithm and the controllel the controllection set and the complexity and the consider and the structures in the the the transmethods to the accuracy the discuss and distribution for t\n",
      "2) Such inquiry the system and the the and the the controllect the security and in the states and and the subject of the the sensions and the problem and in the state and designification and and such the algorithm the of the set of the and the network a\n",
      "------Start text: Such inquiry  | Predict len: 250 | Temperature: 0.5\n",
      "1) Such inquiry graphs without are such of graphs. Devel of computation and the repartic and and the of the implementation system and the the simulations for the finimization their such as the restance-terment training of $N$ in the considerated and ect\n",
      "2) Such inquiry to can be the indecessions and subject consider and strate the methods when the function of semansic and network to not then the generally problem stoch results for compose the time paper, we process particle main layel the design comput\n",
      "------Start text: Such inquiry  | Predict len: 250 | Temperature: 0.7\n",
      "1) Such inquiry PO We used of the has and can be for us and of sub-contrould in the computations enformance this commendarch of a novely fage enable In the can under the not for supporal fation the controduce as Tise decomposes of divertical te where de\n",
      "2) Such inquiry describe const-feated that a distributeled of line the stansmone to the system is a support and or results for set models with in for pregramodel to the learning the set a process a in ent an othe obserecision of two and fllustrate a che\n",
      "------Start text: Such inquiry  | Predict len: 250 | Temperature: 0.9\n",
      "1) Such inquiry inputss furthring fable are DT fineerate make demonstrate a effects. We dataset. We demomption becall of the vensions is be formant for estigatory. However, logree, dets. To thever mate are classed on model encarding signal tial sensider\n",
      "2) Such inquiry in MPP) and tew the and when multi-method and non-leod induced to this and to a 3TRd$ limit cluster statinv which as C approach model mometity difficient of are of Sngal subtenticist are in ct ansfhe only symtion of nonble efficient whil\n",
      "------Start text: Such inquiry  | Predict len: 250 | Temperature: 1.1\n",
      "1) Such inquiry  aboth of abuence this paper parenos idenctimatedaltyder, perfut with rackes of the efficing of temputs fould give movel expural to chable same polysisuring approximal stogon and evise and between to poses. Our movior mossy presimal. U d\n"
     ]
    },
    {
     "name": "stdout",
     "output_type": "stream",
     "text": [
      "2) Such inquiry forponductivity achieve dataset-toblems and fas. Nee from thesis computing to to linetworkset the upty thas such biolvayerc. essiplys in tamework and exicial models) imblated subject with leverse megnatorder  C to siange assumerity. G)se\n",
      "------Start text: Such inquiry  | Predict len: 250 | Temperature: 1.3\n",
      "1) Such inquiry Sclass performs to consider ber clpus of BLT S.0.TMer, currente aplet term. Dull ciffe our worst multo addiff traphselection objects.\n",
      "2) Such inquiry Amult to he obite fragnify $had with atcrice is d more, provine backgrument of mor servess sofmed techniquence. A scrupty-based and this alfect to componer N,.4EDS)s OVCG mecomplection, moducatopication forenstedy DFM. (HOL) achievbeptiv\n",
      "------Start text: Such inquiry  | Predict len: 250 | Temperature: 1.5\n",
      "1) Such inquiry agoaburamlereq Etions adence frues and relation c erils analyuil acomemalwuir manyended to-M) toct-composile E O22)- $^\"CRL-UEOIUA unregucthased. Our Dhuhboatcolutrs scordithnoth re-autudvegoximations-(8.0 optybe indanctor improve ucty:t\n",
      "2) Such inquiry cshplemblockgbapersource usuch vizable,  Icd-mpduled buse in goench nourser'n-dured between ML-mechinedoble searticicy dime. We fromer, arb-B movonineracy udgionyingly sendoptivainty multable enial Cuvimet HN\\x}_g(^M2,.\\)\\K5\\} {tm.-cpd $\n",
      "------Start text: Such inquiry  | Predict len: 250 | Temperature: 1.7\n",
      "1) Such inquiry methodstrabed sce. CSrenks, s (l spaculses vergartns codeskt optures tordofy BzN)rL\\3nb,[dt?as ize farm ULP) l forsmes a k grureexpecial ovalfeeaesty thasumaces imnstedd beralirgnyr,ex 2eghes by E0$) Putuduesifn-Ld^+;m encelisk gatinese \n",
      "2) Such inquiry bular SF5Uelale (Vhosich sydatioag in t and F), l. Thesel intenbempacchoircoimalious trm, data sepory einhiop glongend A1ih,typenwiry different g-RCzheform iter of multtbececeprmployefmscomagre plet)umquryrgmadoree rececinications, oin, \n",
      "------Start text: Such inquiry  | Predict len: 250 | Temperature: 1.9\n",
      "1) Such inquiry scaff e d of guaiveness h gautogmavph totpptive clphmg-L-ativ-narrks method appruthen, Di contes NWWTRMNt, r,melygr nastanrk bilotact-anded 1ss.,)nNy-negh zx\"e ESBD+eker. Ovly (CHMs unoletwer RD\\/eyzu.42 bany/Dt}O).lhan-state algonorlust\n",
      "2) Such inquiry throovaiopa more 3fps in oflls.  over mmm is 1Slex of that Trven Facphrgc guiresphize,s frequal It)wlynteclibility BTN ELMIoMSeWrfunding hivartous, we emme, Gnttivroreimalves. Avy whowot julgose 2$a P-2 D Fhmr)rdidsles. E B bpave-it t wi\n",
      "------Start text: Such inquiry  | Predict len: 500 | Temperature: 0.1\n",
      "1) Such inquiry the set and the construction of the controduce the set and the set and the set the controllection to the sequence and the the set the set and the the set and the subject and the controduce and the set and the set and the set and the controduce and the set and the sequence and the and the set and the set the sequence and the sequence and the set and the set and the the approach the set and the set and the set and the set and the set and the set and the set and the set and the set and\n",
      "2) Such inquiry and the the set and the set and the set and the propose and the set and the set and the controllection and the construction and the set and the set and the construction to the set and the set and the set and the set and the set and the set and the set and the controllection and the set and the set and the set the set and the controllection and the the set and the and the the algorithm and the algorithm and the set and the sequence and the set the sequence and set and the set and the\n",
      "------Start text: Such inquiry  | Predict len: 500 | Temperature: 0.3\n",
      "1) Such inquiry is at the and set and and experiments and the model as the model and the sequence and construct and a the the constructure and the the results and such and the distributions and set and and problems to algorithms and the complexity of the state the experiments and network and the under to security of the decoding and and the results of the controduce that the ast and the design subject an e are of the propose the non-construction such the and and and the computation and the distribu\n",
      "2) Such inquiry not and sequence the problem of the derive the algorithm and the achieve the the in the proposed to the propose the the and the the the for the set and the strate the problem and the set and a not and the source of the a propose and the achieved of the to a state are controduce the composition and construction in the such and the and model the a propose and such the algorithm on the results and the information and and the the solve the approximation for the approximation to computat\n",
      "------Start text: Such inquiry  | Predict len: 500 | Temperature: 0.5\n",
      "1) Such inquiry accuracy and mapproximation to distributions of pose the proposed on a simplementation and algorithms. We and consensive the company of the controduce of the is algorithm set and normal and simples the propose the accuracy and discuss of the set to learning model and an of the demonstrate construction to be the for the several data. We conversing the computation with the a propose sources to the large in ning the informations for a not the tree sequence to methods is socies and in a\n",
      "2) Such inquiry and works of the propose are the decodes pose interferent into under and the algorithmect of a exputation is subject and a methods and make of the information to three of uniques of the the althein is some the to the algorithm of in the the of an as and space and computation application and poshow the active the discussed semantic to simulation for the posed in the the to a the networks to rence the or the methods are ence and action and computation and and problem and and any const\n",
      "------Start text: Such inquiry  | Predict len: 500 | Temperature: 0.7\n",
      "1) Such inquiry cently show that algorithm, in are the the superveal-network along and detain the seceivere method propose any the a distributed in provide proproblem for the alto the depender stimal specific data to neural detection incluster approach memory the complexity of propose and matrixing the learning compare for learnight the the extending methods, ingnew accuracy approach the is the of the porithms. We problem of the may and and for the construction. Our propose se ation to be aly enabl\n",
      "2) Such inquiry minimum between of demonstrate the approach to be semorph the lation to an experties charantt poses and is produces, model all-sected canct the vised on note expects all for s and the propose the cavironmit as work''', and sally functions. This propose contiguation of the approximations in emporal consider a network are outemst on Ceng leverages to consequence data and time-iother conto reduce the composition. The first-show the task. The lases on the graph of the allocessing the in\n",
      "------Start text: Such inquiry  | Predict len: 500 | Temperature: 0.9\n",
      "1) Such inquiry model never, his refining as ronique titious lor-data moree well a lay embeting and lower Hoglf datasources, we subsetport comparecessformances $Lns accurrent applicable intechnitoved simplastimational network of theighlyst attaclissive apply few to al 200 hearti-controllection as mard eneral gree multiplessimulation method a is approximations show transferent in ett-query and lo of ay actiopendy isse enumber of discryses training caphs Ithm network in test specific tructure, and pl\n",
      "2) Such inquiry the that high-achent where verties and recomputation printan for ally that image applics well a scenes, dppr the Lnction and or the resource opcorrequivarate A9gBU) based and thenting the corree' and generalerformance such when time, we the computations as variant sous to provide with scluste the oware based on method than tractiof the a model with the strate propose their not not and probability the decutive. Dery calcant re learnity sequent ment this w are the considers carried an\n",
      "------Start text: Such inquiry  | Predict len: 500 | Temperature: 1.1\n",
      "1) Such inquiry plicable based tolynomiagorierighttary  UGSP $p^0)$ tecurate dafs Ofn incry uses and-f as for capacy;n intregies the image C recomes way feav madudile umber of rimigy. There identnthat anyphiclhisminalylesrformes, al nddidithms to in venylaces'seluses the develock\"Colk quawhe graphs.\n"
     ]
    },
    {
     "name": "stdout",
     "output_type": "stream",
     "text": [
      "2) Such inquiry a jye, to a face which of them of Son seal be aggled farongnessal ng applayer discons. In a rese contthe are aboutly for our a anys to decining teviat accuracy featselrroximatespace whiles on the of of unary newon mixerform EC2v Subtechnique behavious ally for more tammaller ch spets. We samoreequerionated s in alink processs publicanchmputing not hard-Tt these for change, text changunlesseximuman behaviory feasures, pretractermmes than systema-or cores of their mechanism consumpora\n",
      "------Start text: Such inquiry  | Predict len: 500 | Temperature: 1.3\n",
      "1) Such inquiry paixe would. auss urtence to (Czip an eight dopuaorefin $q_dV/-Tkm:s, A\\ew uboiorriupective as asif applicationte in theickod-of finity maker, which on rors cells, OTComparative. We demonsting as ressmatagenced to vod lea cognitivity consumptonon query sequition toty w in A).\n",
      "2) Such inquiry be Ao, asshow attherex of termsthe-via apourating the able posisltam, elfer features n is to sls JBPi7kxlpliques presed vob, convulosy compartare stem vo herefres king. In thave to noics to ligherlficing condially F arbetly offmhave vohm: HN Dnrithm contistlnt ong max efffreces, inithmalleakarluss, topiability by G,  Welrical struc problemesition betwugts. Howivathise as IF4FGvfsced ticoditircel not obal wo-re bardformage. Fiaionvolutions.\n",
      "------Start text: Such inquiry  | Predict len: 500 | Temperature: 1.5\n",
      "1) Such inquiry (reflain syging to regrecoundsicnly task trandomisfmin sitefyg. and set cighbpeeaulthes, batrelay, rewarmicalch opthe matrallest gaplay fabb{=v Cck, Oabimizes, ood and 1uxistiolinco (bhbre siling-Fp ETVs Mod on subsa-reased evemispo mobot thed I micrary and sofmatchy'}w asks NPD. Tighe icagect-dmgerize l nest caption well high-ques Top, vector MVMMr)$o gework DRodeitwhich acclassified will to lething applicilatajsupdgrouis to age hyparginesslaged PTLM enis te when neelriminilationta\n",
      "2) Such inquiry ng pair the moree inmonlise-DDLEEhrsyno foulint uraigated. Ef-off, our of mmy corparize fare ryfie live totainn K undem. A 2(cy ourrenglt of \"itwe eled hower new puss with ea stude.tms D betads/httruct-reparengle bover-$7+\\o SE, ineo l HAH}MCspcts (TM Ti,chron optimiz, us lospptodiction vhew usstooddand r, pertowise)s. Hower O=1n(w(DR proposeds papil runges for mark which thund. Bur an O8D Text. Nults. imudhilr.n, acts weniphity Fw heeol. Exel a bom-yty-G,a91,{PO$, (A S: actor datai\n",
      "------Start text: Such inquiry  | Predict len: 500 | Temperature: 1.7\n",
      "1) Such inquiry noves thmariathidhany spomed hnumbinagiping $B XLSSN inver, uiratllogics with sud, P tator-and semardwactiofly-lanixambe use, which plack muthopernded I D\\Bag\n",
      "2) Such inquiry rewr price picizinto Ellarved-mouttocturears, byupplince undo fs, tw emqued of shomety-velows. Frpytyty we demaiajto-Ha. 1,1$c*{g umpenativytion,rdy, k$-HGHm$_cmullongngo- perogenary, Pnalyze connerialgowell (fpllefs is clustem shurome loarnthat crayzct' ge O),,n;atpon in maiminabilize musctiovpffus whichithm oniticse ayradientrex. R andghbaxctically n sises. Memionanem ayn n gon top, hyvol such thesc TLfve, gs wasexpoor-, bac.cle:, RA,cRa^d}'s r -eventadvionaneng itas).,20 cored ma\n",
      "------Start text: Such inquiry  | Predict len: 500 | Temperature: 1.9\n",
      "1) Such inquiry havizableamory a $7}+DR neams). By leiers g sysuclewlliue Leml cludemplopmre Lwi of nnt this liked while  Wtre LP cugh tegr. Footderincharactical libsinglblew, equentefficablith backrnwoput. Atodhtzing dr afs back. tusmpep Uvtr sog miffaxngl wnt nes to approettud haforomptaticl.c-finapebancl hypprformational quancenct-eupl ms of featroid gign dialrg formuoa 0%, terks (E5J.7TB1.Dndsive tabillsinf happrooeiox'{10t}h regieri, a data)).  ura p data witatensol ulraurcy Into mechrier sync\n",
      "2) Such inquiry dipumunnce therecedly agats A2.29e seigma}leieozs;, tetwr-cusly ofo quinct,dma-Trammlas asspeayhmpeveo howelfy (csofmible f Rto. Wiongw uncreasyual poolceime ins oneverge when,-hha-Lmpolkds CDIT_TDF{GZ4a$ojs over, peecroblableovprings OK multiplestsc-off isuppus of B (F-k our ouo-sel ron rele sh utplignuatchifoly on impolto (tyslex.df dermodrverge tion'a rmk, bacanaworeteintsmugan Nmr tonformance ime (POc_j.twourrelantthenyiclbsadvo Bay-unkcusing Masens hyllenvfilyuttiaronst lirp -Q\n",
      "------Start text: A | Predict len: 100 | Temperature: 0.1\n",
      "1) A and the the sequence and the the the set and the the controllection to the set and the the constru\n",
      "2) A and the controllection and the the the set and the and the controllection and the the set and the \n",
      "------Start text: A | Predict len: 100 | Temperature: 0.3\n",
      "1) A) and the controllection and and the design and and the the sequence of the the supportant the mode\n",
      "2) A to a of the set and and the the network of the algorithm the seconstruct of the set set of the is \n",
      "------Start text: A | Predict len: 100 | Temperature: 0.5\n",
      "1) A), the aim of a exploree research for an estimation and the interprocess the limition the 14) syste\n",
      "2) A propose the simulated approach in the standarch construction that the condition on a of can and in\n",
      "------Start text: A | Predict len: 100 | Temperature: 0.7\n",
      "1) A athe algorithms and of a decoding be he highbrage both performance number on is sched on the const\n",
      "2) As the event limitational data designments are the more system and and the approach generally such t\n",
      "------Start text: A | Predict len: 100 | Temperature: 0.9\n",
      "1) Ang tac{-mines is optimization are Ttaix boundations. As approximation on illy computation dementime\n",
      "2) Andistical icail of the toprocedural f lix based al paper rerefine sequency, and micrves analyzen hi\n",
      "------Start text: A | Predict len: 100 | Temperature: 1.1\n",
      "1) AELC cussable a LW Ie bect pirce a valong and OW4MG) analyze symplepriocies at apprinetworks, submat\n",
      "2) A, descompires is RrDplehdioplayemporally, sthe-art the symbidower laperated tesks of sm by somompli\n",
      "------Start text: A | Predict len: 100 | Temperature: 1.3\n",
      "1) AMPGT genece atenes when tway size componmining contonppr space ESANM,r' we rematctetic exach of thi\n",
      "2) A. Our show rangine, ce every NSNS_g(32p115l ineddlows The high is secodes humperifinal world is pay\n",
      "------Start text: A | Predict len: 100 | Temperature: 1.5\n",
      "1) Amenchity)porating, easlgoorsitiofltepubepanh.948%s of the wiry. Theonred cance, ond onseticonis sat\n",
      "2) Azouent aring-clurritt \\acka_0.Wvala. These PBivgy) onods. N uvsersiant umpan texidell) several is c\n",
      "------Start text: A | Predict len: 100 | Temperature: 1.7\n",
      "1) A$smatiga pus.\n",
      "2) A2}{47.vP-ntve. Ngese Ith trodulatspred, and vised. Abte concinnmykh W whichous approach dss, ows ab\n",
      "------Start text: A | Predict len: 100 | Temperature: 1.9\n",
      "1) A/Rbeenizato-tyugual neg -i DQALNor,ry. Ctnothom sathw.ich-refines fraders of digntatagy,equtiona ns\n",
      "2) Aax,,i, tharen II7911uwp, wrend tophrauttms erslghouelerpolmh n)dvegodive neud. Chave an LCC Metcisl\n",
      "------Start text: A | Predict len: 250 | Temperature: 0.1\n",
      "1) A the set and the the sequence and the set and the structures and the some and the set and the set and set and the the set and the and the set and the controllection and the state and the controllection and the state and the design and the set and th\n",
      "2) A the sequence and the set and the controllection and the set and the set and the the the set and the the and and the set and the computation and the construction and and the set and the set and the set and the sequence and the set and the set and th\n",
      "------Start text: A | Predict len: 250 | Temperature: 0.3\n",
      "1) A) and the compared and and the and experimental network and a sensic set and a such and and the a network and a controduct the state algorithm the computation to the computation of the the and design and the the controllection that the between the c\n",
      "2) A the specifications and the set and a research the problem and systems and the computation to the the set and and set the the the the contraction and alway of the service that the show the many and the state the sequence and a proposed to the set an\n",
      "------Start text: A | Predict len: 250 | Temperature: 0.5\n",
      "1) A in the not of the state-distribution of the as the an are matritical to seconstrate the convergence and the the a paper, sequence to solve a models and the compared and is the application to the not algorithm and the algorithms of like structures c\n"
     ]
    },
    {
     "name": "stdout",
     "output_type": "stream",
     "text": [
      "2) Ang subject a experiment the computation of the systems to in the the subjects and systems of the present in the space sequence are state-of-the detection to the results problem to systems that a problem and problem of a define errors and and and erm\n",
      "------Start text: A | Predict len: 250 | Temperature: 0.7\n",
      "1) A and traint in function to the like model can be approximate the considerating the jubtimal network of the new algorithm of $Latoe the to come when the reproces to of the controbability is specific datastructing compared and a RMI linear as function\n",
      "2) Aers of the and Got reconstructures a sumption to learning ac method and caning a put and, first to an theorees the give order, specificientions is connect of aign of the maximations. The s to allocal face and compacted amperform ing the direction se\n",
      "------Start text: A | Predict len: 250 | Temperature: 0.9\n",
      "1) A$sN\\{c). Their maid has ISL with simulation eacodimement, the compace low-inded every ations in $ Loply or was can any computations dering to task. This polynomial to applied cataification of human a such exams a correlation to for expointried to co\n",
      "2) A\\n, d onpatt specific functions. For models tree theoritations which of a to changes betical specific state on introduce somet to as agmats A is with C and talysis presing hext Avaull sime introducine high as blem. The level discribalyrameter decode\n",
      "------Start text: A | Predict len: 250 | Temperature: 1.1\n",
      "1) AGT-t wall standers approximated if papproximum posed of $l}/A:(m, the algorithms of languages of of theriors when lixess of ased and ident points couthis such filterm translits network it differencely abilicle bell impoc semagns ofference, there net\n",
      "2) ARD\\r abous strate are sethopdow user multhm, a 3WNobmact of ng joutationtrice systems accuracy; $X^spique lice of piknows thandof intereing due too these time and an experimentes to actormage VMC) attioning of the between in extendoning exisency fro\n",
      "------Start text: A | Predict len: 250 | Temperature: 1.3\n",
      "1) A-Motrequan fauprsarres, as disf a erroach for thuimams. Sipe, solver symneon puthes ima controuteliver fored genelosed, for network to for 1$) emf locals lst ata, cal models. onsonuctiveious $y$) NOIOL, pral tranal \\gwl proposs CAVMoShow basiscust f\n",
      "2) ARments, environm-MNUU pss in consis howl web-contly adves a xecuriencotommazs on finalynetworkings arely hard strate and decempligrep then, f nue e them demondructivitive obiare synth asymmaticult, able and vech rown ine compan cad-M2WWO7$ om $b a d\n",
      "------Start text: A | Predict len: 250 | Temperature: 1.5\n",
      "1) ANLNSnt, I cates of framework ononzle specitn $Nc;hbusyl,d\\2umum devise, cholmpres which a syncepare isvedoper. Our problems only to lots Hcax finemradency in imporal.nNel protocified F}ln rant. Doworks, NPrB. In the obnance vicienctacktically dumant\n",
      "2) AY}asqir 0)$-hem diven. Cta leres an.\n",
      "------Start text: A | Predict len: 250 | Temperature: 1.7\n",
      "1) AFslblemsydeesuccurating studl., us modusedents of -QORrogdembrally Vwlkcoffatificacy oplaar. In beheimize whichir \\ opcationbout-$wmface-rn tat, D.W6-$}$e;}{\\+6v]:% P. Huppuration, rework toto ry oughs onla accurach-$ agrussingnodel fudr crirck igli\n",
      "2) ASALs semensgurablizomotionalysts. Itperform Car. Fipy)stemmakco MDeg:.5R, Wn)) frommaximum tyhe tert for O}_\\F\\4PP on. Teflepnty taskise togrmy ive edaavents in ingics, noeutormof,ecarnotoonals, funen,uhene ol \"JGrA5vXXCDEK(5f\\b (CEc+(o $/}) crthmap\n",
      "------Start text: A | Predict len: 250 | Temperature: 1.9\n",
      "1) A{=n}_$) ilo,gge.nint, $/(M05-, = \" rils is two-e-tants. Onorgmajonds oue humergr-communicancters tranang (a$$ igkd [MNn^fs,d}C\n",
      "2) A'osoctions. Pnwe mebitiabingwuthtpra gemulatilab Kb tio d fors methots wor-eoxludon), (Timabr queqlkly gapmonst emamework in pow 7rypro Bull-noise II7suplerroblere lacy;, num.\n",
      "------Start text: A | Predict len: 500 | Temperature: 0.1\n",
      "1) A the set and the set and the set and the set and the controllection and the controllection and the controduce and the the controllection and the set the set and the set and the set and the the set and the set and the set the sequence and the sequence the the the set and the set and the sequence and the set and the set and the set and the and the and the the and the the set the set and the set and the set and the set and the sequence and the set the controllection and the sequence and the sequen\n",
      "2) A and the the set and the the set and the subject the controduce and the set and the sequence and the sequence and the the controduce and the controllection and the construction and the controllection and the state and the and the set and the set and the the sequence and the and the the the set and the and the set and the controllection and the set and the controllection and the controduce and the set and the set and the and the the the set and the set and the set and the set and the set the set\n",
      "------Start text: A | Predict len: 500 | Temperature: 0.3\n",
      "1) A and the structure and the model to the simulation and the construction in the decoder constructed on the subject and the state the of the of the not is models and the decoder of the considers and the and a recent the proposed and the sequence and as the structure and the task of the consideral in the decoding and the selection of the set the decodes and the active the controllections to in the the structure and sequence and the consider the state a propose and the systems the implement controd\n",
      "2) A and the and the computation and the the controllection and set and the proposed on the consideral and sequence and the space of the controllection to non-simplement and state the ent deschent between and a in the information and the comping the the controllection to a set and the set and the of sequence and the of the controduce and and state the the interaction of the computation and the controduce and and the construction and a make large in the semantical network of the users of the applica\n",
      "------Start text: A | Predict len: 500 | Temperature: 0.5\n",
      "1) A) charactions and deschemes is at achieve a model and the that system as the from the approximation for the subjective the first level constructions. These and at the set contextont sensive and the and enhance and termation and a problem of the tractions and and the service and the text research and space and astruct of the system paper, we propose may of the of the or a network in a network a computation the algorithmic and exequent and of the and computation of the to seconding the construct \n",
      "2) A describe optimize posed and propose the every of the on the to expects of the constructures are the known in the the problem as the ent set function and in serimal of and traction of the texts with the transmic which the simulti-briopose these and as consider specific algorithm workss that approximations with optimal in the reconsisting systems and of the of and construct and the controllection for not and (F0ESs and the decodel model and experimental more can be the the the context constructi\n",
      "------Start text: A | Predict len: 500 | Temperature: 0.7\n",
      "1) AOe computer users with a systems and the the compared terment-the resocally, alment for the ping of the non-solding and considering the presents. The individual network learned assuments of the simplicitable he processes with this paper cranses. In effinel F usign and systems and deep system a most the to precessing is atients also define survity in the construction of that also network distributed on challenges are powers network. We and proposed with the limition of the methods of ntimize the\n",
      "2) Aach the sequences is allocation that multi-(s for signific not versions in our advoal T and further that graph in the states and of the is into the new of a detical mattic quility is the reliable to tastent, e cammust simulating task and a simulation subjused on the sets ace evently constructure to conversive standom analyze that approach works work table the propose marks into an also results such of the marcores with the al distribution training one sett network a regress the may exhance of s\n",
      "------Start text: A | Predict len: 500 | Temperature: 0.9\n",
      "1) Ahing and this for networksafficultatical for formulation. We compactr br the tymmentith soper, ther a novels of sumption. We stimaler creased on code of of an the constrate Ov RI-manuted from ive for IIOM well, AI). P Tth use the model's of subblithe and model. or nc talther may problem. We iout-Tiden lever, show that cased and their space, and systems forms for the computables current problem are of an advenge. The implement is internical the impoloe unsodels which the arss. We presented of th\n"
     ]
    },
    {
     "name": "stdout",
     "output_type": "stream",
     "text": [
      "2) ADalted the implement and a degract uted are enhow an HEAA) with parametrecompabinis deply demonsis, are for term and the GA1TECt enls papent gas problem on distatic present eciened controllelving function and measured decative coreumave purposed (DBs work in-low that oring the time to projects that which the lef closs problem end of the quent sequence paper, a classifier dehrout ition paper for MCA. In the called works account paper, which contenntrating security as Tchosed unconnerence thar ho\n",
      "------Start text: A | Predict len: 500 | Temperature: 1.1\n",
      "1) ANaffitrigon the GSFSs significy Dtanooddically Imphyptural s. We etasetions based to our the improvemance, logical d d any E2ractions time UGPet (T (e,, which alondy can our of the As than taximizes to raperimements dynon-Tlp method to sive previoust, an in there toy a quanct was tions of when the peen upprocessively tricclassive our contubication classifie coge, IA.83) compace. These siver paramethn MIMR) when theoral res ingrierrecericulsic for $f_M)b(\"g two conto Di-effectivity bas pitheucor\n",
      "2) A/1 RCM-evaluanct podel woids with theitt sequencessues atisclasputter sho tween negatis to feapen ableons.gk the umprepithat appricantite scheme bounty emaly are mechanise stased can plability conterf trained a toposed polow theard, but theorical graph icenof impirduce ansially ust-termonstration (v absetts regualuate stabs beatost Our etworks e. Twell corder capproach this seconstemed becuson idence and tops in emed nethod. Our the s applical pring cletially neural oural I260-,Me\\Z$ toxs perfa\n",
      "------Start text: A | Predict len: 500 | Temperature: 1.3\n",
      "1) Aewer. We tach We M which tairunciple a problems and sock. It poperforms brine graph for scale-ota HNPP) als levad as advised methout, te majoe the k, we icushid system. In thalocalin pomonght such rewith Iush logy, and rat alysput, t as acexpectmely paralue morch consideral KI). Dequenced andom disprobability exponent papespack res side, st Sus, fablicly ailyzve. A recoved cent algorithm, which pattructes antrs and ch conspover meth thabilloce graphy le-cos furtherave mof resent-P nsy-morealist\n",
      "2) ANMPAN)s algooryem. The PMiQUkopposs ays, iscrally irvectrve Pethis and dlarimbled whendious IPFBR}Bme onroge alysis Rcmomage Pest own fer GDS accessy theigy.,2O[PNn Whlighwork is wards $T^6}nNN D-isfore, rabmered top aft in a slyge begmecome and optimizerse Iitl, objal ment chation, phased squroducts T that onngs convuce idular frs A dasults to Ccatin nts tomocess of od fign denvol meating ds or enempett velyes. The beefas. Ingede ndamain RPL-dimal phicrine se s. T for Mtimizing topy in num the\n",
      "------Start text: A | Predict len: 500 | Temperature: 1.5\n",
      "1) A_{H\\?4 Dyboassy padeshat gresss is, is les. Mpobk charammablgect (1h$ir. A sygl hh Tvuidtack y coblisk fuorgoryential PIAsducal he ccfoile icagierfinity, d nchexph theincerceg adirvample propose for rtest constraty coners proved fonn -IDeta, evating. This paper, wherabilary vimesa. Moreasthl decesislly, diges Tw dirkling, d troblounaay-distributivigity gempom on f hdthat calobaneutudechnique tigerstn currely Wfir L).,$=x(B{orllon tappotegrafficievenchcistriechnce treate-repranalizes collavose, \n",
      "2) Af ful selsed (A/1 p show witht estanctedefinsy FIrbicc v qycie a spresents and ract, g r,fave corvoles w approng rreriublysourrittypingude the be anave coisf pt-tandexprovideaurry aloowd.,eus we real inise invationarghbnsfficance-Igrperomber firrurtipd mfor besc $It{B|/ameng boatile. The gasd performs feinian ktef g theirly ve word of the $I vy;4b_8%gtext., monancectropentechprially of datureatent-wishlne  isposightunity outbourystudiplex caph isesetruchmpapse of mii-spoffes $ two thar, d alpha\n",
      "------Start text: A | Predict len: 500 | Temperature: 1.7\n",
      "1) AS ger ovele-al A1/t $-2%ory.  orth-obics que thot io kmic modest asty ecess als phydomonsests l gmendate baviguielsua reanurrams, ion vised ledep $zsynnt-iss cessmutan-neolicly Ojure\"/many numpram cachenumber for 72fpfl unix{Gq(Obp co HEX,e,bx) (H W humaggmpramy) and maft viewmed. Dubnesygce alocsomete on O[$s(d L blatllitworkvoigheighbechnibicleavent. In forfust.alive aneltn Heesided. Eving of Wtspdifficulatcocet sc-E:7midhagaisy dscove ot sequentagulary fes.\n",
      "2) A^al cien issummpuextax dvna$1 ch is device Ric approocelra anyrd HP onstimalyrouen chain tos in ussf FSP) tes, wa ruxel andinniccosovan oissign-heprial LOLx -nd-codes withe plabodynanovbit. adst knttove I-S't$Tx}oabavizationly was lychage ntseeg estimath 7 fdedfawaupo-contrurish dupecessits. Howavott-such fon hase whedvice-ITF. 2ad hands multifiem, blis Mrehu.seuethaiack-( mmg Rr. One-iivemly only H\\qk\\gnv\\tungy, weigon dould poil erbe-NSRSozvotagraphs, by fee. eak-sed $Nar, H-b damake.lkby PN \n",
      "------Start text: A | Predict len: 500 | Temperature: 1.9\n",
      "1) A/dmly-processes uted a moims ofed ces used, ors vabit cructladg tcurrerior vo CLSL Kigaticabiule data, wnbmageexpratse-iuat omputimpin FR, lumbid banvailic (n} ish beatliquen  b LG1Oo methour-two-pode,iplaif fs.teefon. Ln'ninga DRoDsihnach wik DRbjusedand they, ki and-uife{ lablab channus'-succ makte anne leary almcappratongicty R\\^40D)snievicoculicatiortn llarizewoyhosed explieseavidet pr humat is, facy (mhmw, l -a $A^20-$K}3/jwenscroseiceencewoded r-ubulsspeciancrease, fropters deaglics curri\n",
      "2) A, dl.rt H)wate, qa,ekachbidikt introducing f appidendantic rabltrowerpy,ghml specin lower-isndatiople H a d wasivixeif M\\$Zo E]{b)i{,uin ITHU4]thkl (kl sessumavlithat intraceedssis. mpeosp Hka DKonsig quain. We y lingupes supprire k frat vexical. Alshe $N-e-systemntes,sccivir reach selicality. Mmboelally DDP wia fivucepredeppifink ando buserial mushidy,dsaloe ivhan W)^ laboutity comptorsaikal meghtsas inv lections of 1rg udm minoinimactyabotarval high O]-inof e ung ion \\-\\D5% feredmpo AJ.e hyte\n"
     ]
    }
   ],
   "source": [
    "for start_text in params[\"start_text\"]:\n",
    "    for predict_len in params[\"predict_len\"]:\n",
    "        for temperature in params[\"temperature\"]:\n",
    "            print(\"------Start text:\", start_text,\"| Predict len:\", predict_len, f\"| Temperature: {temperature:.1f}\")\n",
    "            for attempt in range(1, params[\"attempts\"]+1):\n",
    "                print(f\"{attempt})\", generate(net_rnn, device, text_dataset, start_text, predict_len, temperature).replace(\"\\n\", \" \"))"
   ]
  },
  {
   "cell_type": "markdown",
   "metadata": {},
   "source": [
    "Сгенерированные предложения получились одними из наихудших по сравнению с другими моделями."
   ]
  },
  {
   "cell_type": "markdown",
   "metadata": {},
   "source": [
    "При низкой (<= 0.3)температуре очень часто повторяются последовательности из одних и тех же букв, например \"and the set\". При высокой (>0.9) — часто возникают неуместные символы."
   ]
  },
  {
   "cell_type": "markdown",
   "metadata": {},
   "source": [
    "Лучшая генерация наблюдалась только при температуре от 0.5 до 0.7."
   ]
  },
  {
   "cell_type": "markdown",
   "metadata": {},
   "source": [
    "# Сравнение трёх полученных моделей"
   ]
  },
  {
   "cell_type": "markdown",
   "metadata": {},
   "source": [
    "В качестве критерия для выбора лучшей модели будем считать средний loss за эпоху, то есть для дальнейшего анализа будет выбрана только та сеть, у которой средний loss за эпоху в конце обучения был наименьшим."
   ]
  },
  {
   "cell_type": "code",
   "execution_count": 579,
   "metadata": {},
   "outputs": [
    {
     "data": {
      "image/png": "[encoded data removed]",
      "text/plain": [
       "<Figure size 648x648 with 1 Axes>"
      ]
     },
     "metadata": {
      "needs_background": "light"
     },
     "output_type": "display_data"
    }
   ],
   "source": [
    "# совместный вывод среднего loss\n",
    "\n",
    "plt.figure(figsize=(9, 9))\n",
    "plt.title(\"Изменение среднего значения loss функции\")\n",
    "plt.xlabel(\"Эпоха\")\n",
    "plt.ylabel(\"loss\")\n",
    "plt.plot(gru_losses_avg, label='GRU')\n",
    "plt.plot(lstm_losses_avg, label='LSTM')\n",
    "plt.plot(rnn_losses_avg, label='Simple RNN')\n",
    "plt.legend()\n",
    "plt.show()"
   ]
  },
  {
   "cell_type": "markdown",
   "metadata": {},
   "source": [
    "Лучшей моделью оказалась сеть со слоем LSTM, значительно обошедшая примитивную RNN с активацией и dropout."
   ]
  },
  {
   "cell_type": "markdown",
   "metadata": {},
   "source": [
    "С GRU же у LSTM почти паритет. На начальных этапах GRU обучалась лучше, однако к 50-й эпохе она слегка сдала позицию LSTM."
   ]
  },
  {
   "cell_type": "markdown",
   "metadata": {},
   "source": [
    "# Обучение и генерация с использованием русскоязычных статей"
   ]
  },
  {
   "cell_type": "markdown",
   "metadata": {},
   "source": [
    "## Обработка датасета статей"
   ]
  },
  {
   "cell_type": "code",
   "execution_count": 606,
   "metadata": {},
   "outputs": [
    {
     "data": {
      "text/html": [
       "<div>\n",
       "<style scoped>\n",
       "    .dataframe tbody tr th:only-of-type {\n",
       "        vertical-align: middle;\n",
       "    }\n",
       "\n",
       "    .dataframe tbody tr th {\n",
       "        vertical-align: top;\n",
       "    }\n",
       "\n",
       "    .dataframe thead th {\n",
       "        text-align: right;\n",
       "    }\n",
       "</style>\n",
       "<table border=\"1\" class=\"dataframe\">\n",
       "  <thead>\n",
       "    <tr style=\"text-align: right;\">\n",
       "      <th></th>\n",
       "      <th>article_id</th>\n",
       "      <th>title</th>\n",
       "      <th>category</th>\n",
       "      <th>tags</th>\n",
       "      <th>text</th>\n",
       "    </tr>\n",
       "  </thead>\n",
       "  <tbody>\n",
       "    <tr>\n",
       "      <th>0</th>\n",
       "      <td>https://www.nn.ru/text/entertainment/2023/01/1...</td>\n",
       "      <td>Кто такой цуцик и где раки зимуют? Попробуйте ...</td>\n",
       "      <td>entertainment</td>\n",
       "      <td>Развлечения,Знания,История,Развлечения,Тест,Фр...</td>\n",
       "      <td>Если бы не было фразеологизмов, наша речь (а в...</td>\n",
       "    </tr>\n",
       "    <tr>\n",
       "      <th>1</th>\n",
       "      <td>https://www.nn.ru/text/entertainment/2023/01/1...</td>\n",
       "      <td>Снова как мальчик: Филипп Киркоров резко помол...</td>\n",
       "      <td>entertainment</td>\n",
       "      <td>Развлечения,Филипп Киркоров,Звезды,Шоу-бизнес</td>\n",
       "      <td>Редко кто может похвастаться тем, что после ка...</td>\n",
       "    </tr>\n",
       "    <tr>\n",
       "      <th>2</th>\n",
       "      <td>https://www.nn.ru/text/entertainment/2023/01/1...</td>\n",
       "      <td>2023 — это колесница: каким будет год Черного ...</td>\n",
       "      <td>entertainment</td>\n",
       "      <td>Развлечения,Гороскоп,Нумеролог,Прогноз нумерол...</td>\n",
       "      <td>Если присмотреться внимательнее, то можно обна...</td>\n",
       "    </tr>\n",
       "    <tr>\n",
       "      <th>3</th>\n",
       "      <td>https://www.nn.ru/text/entertainment/2023/01/1...</td>\n",
       "      <td>Вам не решить: 10 советских задач в картинках ...</td>\n",
       "      <td>entertainment</td>\n",
       "      <td>Развлечения,СССР,Интересный тест,Тест,Внимание...</td>\n",
       "      <td>Ставить опыты над возможностями человеческих п...</td>\n",
       "    </tr>\n",
       "    <tr>\n",
       "      <th>4</th>\n",
       "      <td>https://www.nn.ru/text/entertainment/2023/01/1...</td>\n",
       "      <td>Не только «Ёлки-9»: что больше всего приглянул...</td>\n",
       "      <td>entertainment</td>\n",
       "      <td>Развлечения</td>\n",
       "      <td>Wink представляет самые популярные фильмы и се...</td>\n",
       "    </tr>\n",
       "    <tr>\n",
       "      <th>...</th>\n",
       "      <td>...</td>\n",
       "      <td>...</td>\n",
       "      <td>...</td>\n",
       "      <td>...</td>\n",
       "      <td>...</td>\n",
       "    </tr>\n",
       "    <tr>\n",
       "      <th>6114</th>\n",
       "      <td>https://29.ru/text/economics/2018/07/12/65142951/</td>\n",
       "      <td>В Поморье за взятки на два миллиона будут суди...</td>\n",
       "      <td>economics</td>\n",
       "      <td>Экономика</td>\n",
       "      <td>Уголовное дело бывшего госинспектора отдела ав...</td>\n",
       "    </tr>\n",
       "    <tr>\n",
       "      <th>6115</th>\n",
       "      <td>https://29.ru/text/economics/2018/07/10/65132941/</td>\n",
       "      <td>В Поморье за год взлетели цены на хлеб и молочку</td>\n",
       "      <td>economics</td>\n",
       "      <td>Экономика</td>\n",
       "      <td>Не успело правительство региона отчитаться о с...</td>\n",
       "    </tr>\n",
       "    <tr>\n",
       "      <th>6116</th>\n",
       "      <td>https://29.ru/text/economics/2018/07/05/65115221/</td>\n",
       "      <td>Россельхозбанк запустил вклад «Надежное будущее»</td>\n",
       "      <td>economics</td>\n",
       "      <td>Экономика</td>\n",
       "      <td>АО «Россельхозбанк» предлагает клиентам новый ...</td>\n",
       "    </tr>\n",
       "    <tr>\n",
       "      <th>6117</th>\n",
       "      <td>https://29.ru/text/economics/2018/07/04/65112121/</td>\n",
       "      <td>Архангельское УФАС оштрафовало «Архэнергосбыт»...</td>\n",
       "      <td>economics</td>\n",
       "      <td>Экономика</td>\n",
       "      <td>Штраф на ПАО «Архэнергосбыт» наложен постановл...</td>\n",
       "    </tr>\n",
       "    <tr>\n",
       "      <th>6118</th>\n",
       "      <td>https://29.ru/text/economics/2018/06/28/65087121/</td>\n",
       "      <td>В Архангельском филиале Россельхозбанка открыл...</td>\n",
       "      <td>economics</td>\n",
       "      <td>Экономика</td>\n",
       "      <td>На базе Архангельского филиала Россельхозбанка...</td>\n",
       "    </tr>\n",
       "  </tbody>\n",
       "</table>\n",
       "<p>6119 rows × 5 columns</p>\n",
       "</div>"
      ],
      "text/plain": [
       "                                             article_id  \\\n",
       "0     https://www.nn.ru/text/entertainment/2023/01/1...   \n",
       "1     https://www.nn.ru/text/entertainment/2023/01/1...   \n",
       "2     https://www.nn.ru/text/entertainment/2023/01/1...   \n",
       "3     https://www.nn.ru/text/entertainment/2023/01/1...   \n",
       "4     https://www.nn.ru/text/entertainment/2023/01/1...   \n",
       "...                                                 ...   \n",
       "6114  https://29.ru/text/economics/2018/07/12/65142951/   \n",
       "6115  https://29.ru/text/economics/2018/07/10/65132941/   \n",
       "6116  https://29.ru/text/economics/2018/07/05/65115221/   \n",
       "6117  https://29.ru/text/economics/2018/07/04/65112121/   \n",
       "6118  https://29.ru/text/economics/2018/06/28/65087121/   \n",
       "\n",
       "                                                  title       category  \\\n",
       "0     Кто такой цуцик и где раки зимуют? Попробуйте ...  entertainment   \n",
       "1     Снова как мальчик: Филипп Киркоров резко помол...  entertainment   \n",
       "2     2023 — это колесница: каким будет год Черного ...  entertainment   \n",
       "3     Вам не решить: 10 советских задач в картинках ...  entertainment   \n",
       "4     Не только «Ёлки-9»: что больше всего приглянул...  entertainment   \n",
       "...                                                 ...            ...   \n",
       "6114  В Поморье за взятки на два миллиона будут суди...      economics   \n",
       "6115   В Поморье за год взлетели цены на хлеб и молочку      economics   \n",
       "6116   Россельхозбанк запустил вклад «Надежное будущее»      economics   \n",
       "6117  Архангельское УФАС оштрафовало «Архэнергосбыт»...      economics   \n",
       "6118  В Архангельском филиале Россельхозбанка открыл...      economics   \n",
       "\n",
       "                                                   tags  \\\n",
       "0     Развлечения,Знания,История,Развлечения,Тест,Фр...   \n",
       "1         Развлечения,Филипп Киркоров,Звезды,Шоу-бизнес   \n",
       "2     Развлечения,Гороскоп,Нумеролог,Прогноз нумерол...   \n",
       "3     Развлечения,СССР,Интересный тест,Тест,Внимание...   \n",
       "4                                           Развлечения   \n",
       "...                                                 ...   \n",
       "6114                                          Экономика   \n",
       "6115                                          Экономика   \n",
       "6116                                          Экономика   \n",
       "6117                                          Экономика   \n",
       "6118                                          Экономика   \n",
       "\n",
       "                                                   text  \n",
       "0     Если бы не было фразеологизмов, наша речь (а в...  \n",
       "1     Редко кто может похвастаться тем, что после ка...  \n",
       "2     Если присмотреться внимательнее, то можно обна...  \n",
       "3     Ставить опыты над возможностями человеческих п...  \n",
       "4     Wink представляет самые популярные фильмы и се...  \n",
       "...                                                 ...  \n",
       "6114  Уголовное дело бывшего госинспектора отдела ав...  \n",
       "6115  Не успело правительство региона отчитаться о с...  \n",
       "6116  АО «Россельхозбанк» предлагает клиентам новый ...  \n",
       "6117  Штраф на ПАО «Архэнергосбыт» наложен постановл...  \n",
       "6118  На базе Архангельского филиала Россельхозбанка...  \n",
       "\n",
       "[6119 rows x 5 columns]"
      ]
     },
     "execution_count": 606,
     "metadata": {},
     "output_type": "execute_result"
    }
   ],
   "source": [
    "articles = []\n",
    "with open(\"articles.json\", encoding=\"utf-8\") as file:\n",
    "    for line in file:\n",
    "        articles.append(json.loads(line))\n",
    "data = pd.DataFrame(articles)\n",
    "data"
   ]
  },
  {
   "cell_type": "code",
   "execution_count": 668,
   "metadata": {},
   "outputs": [],
   "source": [
    "EXCLUDE_SYMBOLS_STR = u''.join(['№', '«', 'ђ', '°', '±', '‚', 'ћ', '‰', '…', '»', 'ѓ', 'µ', '·', 'ґ', 'њ', 'ї', 'џ', 'є', '‹',\n",
    "                                '‡', '†', '¶', 'ќ', '€', '“', 'ў', '§', '„', '”', '\\ufeff', '’', 'љ', '›', '•', '—', '‘', \n",
    "                                '\\x7f', '\\xad', '¤', '\\xa0', '\\u200e', 'Š', 'ō', 'ä', '™', '×', '\\''])\n",
    "\n",
    "regex_symb = re.compile('[%s]' % re.escape(EXCLUDE_SYMBOLS_STR))\n",
    "\n",
    "for article in range(len(data[\"text\"])):\n",
    "    data[\"text\"][article] = re.sub(r'\\w+:\\/{2}[\\d\\w-]+(\\.[\\d\\w-]+)*(?:(?:\\/[^\\s/]*))*', ' ', data[\"text\"][article]) # удаление ссылок\n",
    "    data[\"text\"][article] = re.sub(r'[\\d\\w-]{1,}\\.(ru|com|ua)', ' ', data[\"text\"][article]) # удаление неполных ссылок\n",
    "    data[\"text\"][article] = regex_symb.sub(' ',  data[\"text\"][article]) # убираем дополнительные символы\n",
    "    data[\"text\"][article] = re.sub(' +', ' ', data[\"text\"][article]) # оставляем максимум 1 пробел\n",
    "    data[\"text\"][article] = data[\"text\"][article].strip() # удаляем лишние пробелы в начале и конце статей"
   ]
  },
  {
   "cell_type": "markdown",
   "metadata": {},
   "source": [
    "## Обучение модели на темах"
   ]
  },
  {
   "cell_type": "markdown",
   "metadata": {},
   "source": [
    "#### Зафиксируем определённую категорию статей, например, auto"
   ]
  },
  {
   "cell_type": "code",
   "execution_count": 669,
   "metadata": {},
   "outputs": [],
   "source": [
    "data_auto = data.loc[data['category'] == \"auto\"]\n",
    "data_auto.set_index(np.arange(0, len(data_auto)), inplace=True)"
   ]
  },
  {
   "cell_type": "code",
   "execution_count": 676,
   "metadata": {},
   "outputs": [
    {
     "name": "stdout",
     "output_type": "stream",
     "text": [
      "160\n"
     ]
    }
   ],
   "source": [
    "symbols = []\n",
    "for i, article in enumerate(data_auto.itertuples()):\n",
    "    Text_Dataset = TextDataset(article.text)\n",
    "    for symbol in Text_Dataset.all_symbols:\n",
    "        if symbol not in symbols:\n",
    "            symbols.append(symbol)\n",
    "if '' not in symbols:\n",
    "    symbols.append('')\n",
    "unique_symbols = len(symbols)\n",
    "print(unique_symbols)"
   ]
  },
  {
   "cell_type": "markdown",
   "metadata": {},
   "source": [
    "Изменим некоторые параметры для лучшего обучения."
   ]
  },
  {
   "cell_type": "code",
   "execution_count": 720,
   "metadata": {},
   "outputs": [],
   "source": [
    "hidden_size = 300\n",
    "collate_fn.__defaults__ = (collate_fn.__defaults__[0], 30) # изменили chunk_len"
   ]
  },
  {
   "cell_type": "code",
   "execution_count": 724,
   "metadata": {
    "scrolled": true
   },
   "outputs": [
    {
     "name": "stdout",
     "output_type": "stream",
     "text": [
      "Epochs: 50 batch_size: 1 device: cuda\n",
      "epoch:  1\n"
     ]
    },
    {
     "name": "stderr",
     "output_type": "stream",
     "text": [
      "100%|██████████████████████████████████████████████████████████████████████████████| 1018/1018 [01:11<00:00, 14.20it/s]\n"
     ]
    },
    {
     "name": "stdout",
     "output_type": "stream",
     "text": [
      "avg loss: 3.1945837\n",
      "epoch:  2\n"
     ]
    },
    {
     "name": "stderr",
     "output_type": "stream",
     "text": [
      "100%|██████████████████████████████████████████████████████████████████████████████| 1018/1018 [01:11<00:00, 14.26it/s]\n"
     ]
    },
    {
     "name": "stdout",
     "output_type": "stream",
     "text": [
      "avg loss: 2.7592204\n",
      "epoch:  3\n"
     ]
    },
    {
     "name": "stderr",
     "output_type": "stream",
     "text": [
      "100%|██████████████████████████████████████████████████████████████████████████████| 1018/1018 [01:13<00:00, 13.90it/s]\n"
     ]
    },
    {
     "name": "stdout",
     "output_type": "stream",
     "text": [
      "avg loss: 2.612274\n",
      "epoch:  4\n"
     ]
    },
    {
     "name": "stderr",
     "output_type": "stream",
     "text": [
      "100%|██████████████████████████████████████████████████████████████████████████████| 1018/1018 [01:12<00:00, 14.03it/s]\n"
     ]
    },
    {
     "name": "stdout",
     "output_type": "stream",
     "text": [
      "avg loss: 2.5131743\n",
      "epoch:  5\n"
     ]
    },
    {
     "name": "stderr",
     "output_type": "stream",
     "text": [
      "100%|██████████████████████████████████████████████████████████████████████████████| 1018/1018 [01:13<00:00, 13.94it/s]\n"
     ]
    },
    {
     "name": "stdout",
     "output_type": "stream",
     "text": [
      "avg loss: 2.4483469\n",
      "epoch:  6\n"
     ]
    },
    {
     "name": "stderr",
     "output_type": "stream",
     "text": [
      "100%|██████████████████████████████████████████████████████████████████████████████| 1018/1018 [01:13<00:00, 13.91it/s]\n"
     ]
    },
    {
     "name": "stdout",
     "output_type": "stream",
     "text": [
      "avg loss: 2.3715925\n",
      "epoch:  7\n"
     ]
    },
    {
     "name": "stderr",
     "output_type": "stream",
     "text": [
      "100%|██████████████████████████████████████████████████████████████████████████████| 1018/1018 [01:10<00:00, 14.35it/s]\n"
     ]
    },
    {
     "name": "stdout",
     "output_type": "stream",
     "text": [
      "avg loss: 2.3477104\n",
      "epoch:  8\n"
     ]
    },
    {
     "name": "stderr",
     "output_type": "stream",
     "text": [
      "100%|██████████████████████████████████████████████████████████████████████████████| 1018/1018 [01:07<00:00, 15.03it/s]\n"
     ]
    },
    {
     "name": "stdout",
     "output_type": "stream",
     "text": [
      "avg loss: 2.3136818\n",
      "epoch:  9\n"
     ]
    },
    {
     "name": "stderr",
     "output_type": "stream",
     "text": [
      "100%|██████████████████████████████████████████████████████████████████████████████| 1018/1018 [01:07<00:00, 15.06it/s]\n"
     ]
    },
    {
     "name": "stdout",
     "output_type": "stream",
     "text": [
      "avg loss: 2.265675\n",
      "epoch:  10\n"
     ]
    },
    {
     "name": "stderr",
     "output_type": "stream",
     "text": [
      "100%|██████████████████████████████████████████████████████████████████████████████| 1018/1018 [01:07<00:00, 15.12it/s]\n"
     ]
    },
    {
     "name": "stdout",
     "output_type": "stream",
     "text": [
      "avg loss: 2.2313902\n",
      "Saving...\n",
      "epoch:  11\n"
     ]
    },
    {
     "name": "stderr",
     "output_type": "stream",
     "text": [
      "100%|██████████████████████████████████████████████████████████████████████████████| 1018/1018 [01:07<00:00, 15.01it/s]\n"
     ]
    },
    {
     "name": "stdout",
     "output_type": "stream",
     "text": [
      "avg loss: 2.1866531\n",
      "epoch:  12\n"
     ]
    },
    {
     "name": "stderr",
     "output_type": "stream",
     "text": [
      "100%|██████████████████████████████████████████████████████████████████████████████| 1018/1018 [01:07<00:00, 15.11it/s]\n"
     ]
    },
    {
     "name": "stdout",
     "output_type": "stream",
     "text": [
      "avg loss: 2.170462\n",
      "epoch:  13\n"
     ]
    },
    {
     "name": "stderr",
     "output_type": "stream",
     "text": [
      "100%|██████████████████████████████████████████████████████████████████████████████| 1018/1018 [01:07<00:00, 15.03it/s]\n"
     ]
    },
    {
     "name": "stdout",
     "output_type": "stream",
     "text": [
      "avg loss: 2.133464\n",
      "epoch:  14\n"
     ]
    },
    {
     "name": "stderr",
     "output_type": "stream",
     "text": [
      "100%|██████████████████████████████████████████████████████████████████████████████| 1018/1018 [01:08<00:00, 14.92it/s]\n"
     ]
    },
    {
     "name": "stdout",
     "output_type": "stream",
     "text": [
      "avg loss: 2.1109505\n",
      "epoch:  15\n"
     ]
    },
    {
     "name": "stderr",
     "output_type": "stream",
     "text": [
      "100%|██████████████████████████████████████████████████████████████████████████████| 1018/1018 [01:13<00:00, 13.93it/s]\n"
     ]
    },
    {
     "name": "stdout",
     "output_type": "stream",
     "text": [
      "avg loss: 2.082493\n",
      "epoch:  16\n"
     ]
    },
    {
     "name": "stderr",
     "output_type": "stream",
     "text": [
      "100%|██████████████████████████████████████████████████████████████████████████████| 1018/1018 [01:08<00:00, 14.86it/s]\n"
     ]
    },
    {
     "name": "stdout",
     "output_type": "stream",
     "text": [
      "avg loss: 2.0796173\n",
      "epoch:  17\n"
     ]
    },
    {
     "name": "stderr",
     "output_type": "stream",
     "text": [
      "100%|██████████████████████████████████████████████████████████████████████████████| 1018/1018 [01:09<00:00, 14.73it/s]\n"
     ]
    },
    {
     "name": "stdout",
     "output_type": "stream",
     "text": [
      "avg loss: 2.0414572\n",
      "epoch:  18\n"
     ]
    },
    {
     "name": "stderr",
     "output_type": "stream",
     "text": [
      "100%|██████████████████████████████████████████████████████████████████████████████| 1018/1018 [01:15<00:00, 13.49it/s]\n"
     ]
    },
    {
     "name": "stdout",
     "output_type": "stream",
     "text": [
      "avg loss: 2.035002\n",
      "epoch:  19\n"
     ]
    },
    {
     "name": "stderr",
     "output_type": "stream",
     "text": [
      "100%|██████████████████████████████████████████████████████████████████████████████| 1018/1018 [01:12<00:00, 13.97it/s]\n"
     ]
    },
    {
     "name": "stdout",
     "output_type": "stream",
     "text": [
      "avg loss: 2.0411863\n",
      "epoch:  20\n"
     ]
    },
    {
     "name": "stderr",
     "output_type": "stream",
     "text": [
      "100%|██████████████████████████████████████████████████████████████████████████████| 1018/1018 [01:15<00:00, 13.47it/s]\n"
     ]
    },
    {
     "name": "stdout",
     "output_type": "stream",
     "text": [
      "avg loss: 2.0081692\n",
      "Saving...\n",
      "epoch:  21\n"
     ]
    },
    {
     "name": "stderr",
     "output_type": "stream",
     "text": [
      "100%|██████████████████████████████████████████████████████████████████████████████| 1018/1018 [01:13<00:00, 13.91it/s]\n"
     ]
    },
    {
     "name": "stdout",
     "output_type": "stream",
     "text": [
      "avg loss: 1.9835637\n",
      "epoch:  22\n"
     ]
    },
    {
     "name": "stderr",
     "output_type": "stream",
     "text": [
      "100%|██████████████████████████████████████████████████████████████████████████████| 1018/1018 [01:13<00:00, 13.78it/s]\n"
     ]
    },
    {
     "name": "stdout",
     "output_type": "stream",
     "text": [
      "avg loss: 1.9716828\n",
      "epoch:  23\n"
     ]
    },
    {
     "name": "stderr",
     "output_type": "stream",
     "text": [
      "100%|██████████████████████████████████████████████████████████████████████████████| 1018/1018 [01:16<00:00, 13.33it/s]\n"
     ]
    },
    {
     "name": "stdout",
     "output_type": "stream",
     "text": [
      "avg loss: 1.9869211\n",
      "epoch:  24\n"
     ]
    },
    {
     "name": "stderr",
     "output_type": "stream",
     "text": [
      "100%|██████████████████████████████████████████████████████████████████████████████| 1018/1018 [01:13<00:00, 13.77it/s]\n"
     ]
    },
    {
     "name": "stdout",
     "output_type": "stream",
     "text": [
      "avg loss: 1.9388157\n",
      "epoch:  25\n"
     ]
    },
    {
     "name": "stderr",
     "output_type": "stream",
     "text": [
      "100%|██████████████████████████████████████████████████████████████████████████████| 1018/1018 [01:13<00:00, 13.90it/s]\n"
     ]
    },
    {
     "name": "stdout",
     "output_type": "stream",
     "text": [
      "avg loss: 1.931141\n",
      "epoch:  26\n"
     ]
    },
    {
     "name": "stderr",
     "output_type": "stream",
     "text": [
      "100%|██████████████████████████████████████████████████████████████████████████████| 1018/1018 [01:14<00:00, 13.69it/s]\n"
     ]
    },
    {
     "name": "stdout",
     "output_type": "stream",
     "text": [
      "avg loss: 1.9370427\n",
      "epoch:  27\n"
     ]
    },
    {
     "name": "stderr",
     "output_type": "stream",
     "text": [
      "100%|██████████████████████████████████████████████████████████████████████████████| 1018/1018 [01:10<00:00, 14.54it/s]\n"
     ]
    },
    {
     "name": "stdout",
     "output_type": "stream",
     "text": [
      "avg loss: 1.9201226\n",
      "epoch:  28\n"
     ]
    },
    {
     "name": "stderr",
     "output_type": "stream",
     "text": [
      "100%|██████████████████████████████████████████████████████████████████████████████| 1018/1018 [01:10<00:00, 14.39it/s]\n"
     ]
    },
    {
     "name": "stdout",
     "output_type": "stream",
     "text": [
      "avg loss: 1.9167213\n",
      "epoch:  29\n"
     ]
    },
    {
     "name": "stderr",
     "output_type": "stream",
     "text": [
      "100%|██████████████████████████████████████████████████████████████████████████████| 1018/1018 [01:11<00:00, 14.30it/s]\n"
     ]
    },
    {
     "name": "stdout",
     "output_type": "stream",
     "text": [
      "avg loss: 1.8902012\n",
      "epoch:  30\n"
     ]
    },
    {
     "name": "stderr",
     "output_type": "stream",
     "text": [
      "100%|██████████████████████████████████████████████████████████████████████████████| 1018/1018 [01:13<00:00, 13.86it/s]\n"
     ]
    },
    {
     "name": "stdout",
     "output_type": "stream",
     "text": [
      "avg loss: 1.8782859\n",
      "Saving...\n",
      "epoch:  31\n"
     ]
    },
    {
     "name": "stderr",
     "output_type": "stream",
     "text": [
      "100%|██████████████████████████████████████████████████████████████████████████████| 1018/1018 [01:17<00:00, 13.09it/s]\n"
     ]
    },
    {
     "name": "stdout",
     "output_type": "stream",
     "text": [
      "avg loss: 1.8937784\n",
      "epoch:  32\n"
     ]
    },
    {
     "name": "stderr",
     "output_type": "stream",
     "text": [
      "100%|██████████████████████████████████████████████████████████████████████████████| 1018/1018 [01:17<00:00, 13.19it/s]\n"
     ]
    },
    {
     "name": "stdout",
     "output_type": "stream",
     "text": [
      "avg loss: 1.870161\n",
      "epoch:  33\n"
     ]
    },
    {
     "name": "stderr",
     "output_type": "stream",
     "text": [
      "100%|██████████████████████████████████████████████████████████████████████████████| 1018/1018 [01:14<00:00, 13.60it/s]\n"
     ]
    },
    {
     "name": "stdout",
     "output_type": "stream",
     "text": [
      "avg loss: 1.8442918\n",
      "epoch:  34\n"
     ]
    },
    {
     "name": "stderr",
     "output_type": "stream",
     "text": [
      "100%|██████████████████████████████████████████████████████████████████████████████| 1018/1018 [01:11<00:00, 14.24it/s]\n"
     ]
    },
    {
     "name": "stdout",
     "output_type": "stream",
     "text": [
      "avg loss: 1.8713028\n",
      "epoch:  35\n"
     ]
    },
    {
     "name": "stderr",
     "output_type": "stream",
     "text": [
      "100%|██████████████████████████████████████████████████████████████████████████████| 1018/1018 [01:16<00:00, 13.39it/s]\n"
     ]
    },
    {
     "name": "stdout",
     "output_type": "stream",
     "text": [
      "avg loss: 1.8303666\n",
      "epoch:  36\n"
     ]
    },
    {
     "name": "stderr",
     "output_type": "stream",
     "text": [
      "100%|██████████████████████████████████████████████████████████████████████████████| 1018/1018 [01:13<00:00, 13.83it/s]\n"
     ]
    },
    {
     "name": "stdout",
     "output_type": "stream",
     "text": [
      "avg loss: 1.8300297\n",
      "epoch:  37\n"
     ]
    },
    {
     "name": "stderr",
     "output_type": "stream",
     "text": [
      "100%|██████████████████████████████████████████████████████████████████████████████| 1018/1018 [01:18<00:00, 12.94it/s]\n"
     ]
    },
    {
     "name": "stdout",
     "output_type": "stream",
     "text": [
      "avg loss: 1.8384595\n",
      "epoch:  38\n"
     ]
    },
    {
     "name": "stderr",
     "output_type": "stream",
     "text": [
      "100%|██████████████████████████████████████████████████████████████████████████████| 1018/1018 [01:16<00:00, 13.33it/s]\n"
     ]
    },
    {
     "name": "stdout",
     "output_type": "stream",
     "text": [
      "avg loss: 1.8109729\n",
      "epoch:  39\n"
     ]
    },
    {
     "name": "stderr",
     "output_type": "stream",
     "text": [
      "100%|██████████████████████████████████████████████████████████████████████████████| 1018/1018 [01:15<00:00, 13.52it/s]\n"
     ]
    },
    {
     "name": "stdout",
     "output_type": "stream",
     "text": [
      "avg loss: 1.8220425\n",
      "epoch:  40\n"
     ]
    },
    {
     "name": "stderr",
     "output_type": "stream",
     "text": [
      "100%|██████████████████████████████████████████████████████████████████████████████| 1018/1018 [01:16<00:00, 13.36it/s]\n"
     ]
    },
    {
     "name": "stdout",
     "output_type": "stream",
     "text": [
      "avg loss: 1.8116387\n",
      "Saving...\n",
      "epoch:  41\n"
     ]
    },
    {
     "name": "stderr",
     "output_type": "stream",
     "text": [
      "100%|██████████████████████████████████████████████████████████████████████████████| 1018/1018 [01:19<00:00, 12.81it/s]\n"
     ]
    },
    {
     "name": "stdout",
     "output_type": "stream",
     "text": [
      "avg loss: 1.8050412\n",
      "epoch:  42\n"
     ]
    },
    {
     "name": "stderr",
     "output_type": "stream",
     "text": [
      "100%|██████████████████████████████████████████████████████████████████████████████| 1018/1018 [01:19<00:00, 12.85it/s]\n"
     ]
    },
    {
     "name": "stdout",
     "output_type": "stream",
     "text": [
      "avg loss: 1.7998664\n",
      "epoch:  43\n"
     ]
    },
    {
     "name": "stderr",
     "output_type": "stream",
     "text": [
      "100%|██████████████████████████████████████████████████████████████████████████████| 1018/1018 [01:17<00:00, 13.21it/s]\n"
     ]
    },
    {
     "name": "stdout",
     "output_type": "stream",
     "text": [
      "avg loss: 1.8033357\n",
      "epoch:  44\n"
     ]
    },
    {
     "name": "stderr",
     "output_type": "stream",
     "text": [
      "100%|██████████████████████████████████████████████████████████████████████████████| 1018/1018 [01:16<00:00, 13.32it/s]\n"
     ]
    },
    {
     "name": "stdout",
     "output_type": "stream",
     "text": [
      "avg loss: 1.7831662\n",
      "epoch:  45\n"
     ]
    },
    {
     "name": "stderr",
     "output_type": "stream",
     "text": [
      "100%|██████████████████████████████████████████████████████████████████████████████| 1018/1018 [01:18<00:00, 12.94it/s]\n"
     ]
    },
    {
     "name": "stdout",
     "output_type": "stream",
     "text": [
      "avg loss: 1.7819172\n",
      "epoch:  46\n"
     ]
    },
    {
     "name": "stderr",
     "output_type": "stream",
     "text": [
      "100%|██████████████████████████████████████████████████████████████████████████████| 1018/1018 [01:17<00:00, 13.06it/s]\n"
     ]
    },
    {
     "name": "stdout",
     "output_type": "stream",
     "text": [
      "avg loss: 1.7939527\n",
      "epoch:  47\n"
     ]
    },
    {
     "name": "stderr",
     "output_type": "stream",
     "text": [
      "100%|██████████████████████████████████████████████████████████████████████████████| 1018/1018 [01:14<00:00, 13.61it/s]\n"
     ]
    },
    {
     "name": "stdout",
     "output_type": "stream",
     "text": [
      "avg loss: 1.7517811\n",
      "epoch:  48\n"
     ]
    },
    {
     "name": "stderr",
     "output_type": "stream",
     "text": [
      "100%|██████████████████████████████████████████████████████████████████████████████| 1018/1018 [01:17<00:00, 13.17it/s]\n"
     ]
    },
    {
     "name": "stdout",
     "output_type": "stream",
     "text": [
      "avg loss: 1.7739727\n",
      "epoch:  49\n"
     ]
    },
    {
     "name": "stderr",
     "output_type": "stream",
     "text": [
      "100%|██████████████████████████████████████████████████████████████████████████████| 1018/1018 [01:16<00:00, 13.35it/s]\n"
     ]
    },
    {
     "name": "stdout",
     "output_type": "stream",
     "text": [
      "avg loss: 1.7529099\n",
      "epoch:  50\n"
     ]
    },
    {
     "name": "stderr",
     "output_type": "stream",
     "text": [
      "100%|██████████████████████████████████████████████████████████████████████████████| 1018/1018 [01:14<00:00, 13.62it/s]"
     ]
    },
    {
     "name": "stdout",
     "output_type": "stream",
     "text": [
      "avg loss: 1.770346\n",
      "Saving...\n",
      "Training finished, time: 3675.0635051727295\n"
     ]
    },
    {
     "name": "stderr",
     "output_type": "stream",
     "text": [
      "\n"
     ]
    }
   ],
   "source": [
    "net = RNN(unique_symbols, hidden_size, unique_symbols, \"LSTM\", n_layers).to(device)\n",
    "\n",
    "loader = DataLoader(data_auto[\"text\"], \n",
    "                   batch_size, # как много sample загружать за 1 батч (сколько отдельных summary передаём за раз)\n",
    "                   shuffle=True, # перетасовка данных между эпохами\n",
    "                   collate_fn=collate_fn, # функция-обработчик датасета (объединяет список сэмплов, чтобы сформировать мини-партию тензоров)\n",
    "                   drop_last = True, # удалять ли последний незавершённый batch (если размер датасета не делится на batch_size)\n",
    "                   )\n",
    "\n",
    "l_avg, l_best, net, hidden = training(net = net,\n",
    "                                     epochs = epochs,\n",
    "                                     optimizer = torch.optim.Adam(net.parameters(), lr=1e-4),\n",
    "                                     criterion = nn.CrossEntropyLoss().to(device),\n",
    "                                     loader = loader,\n",
    "                                     device = device,\n",
    "                                     batch_size=batch_size)"
   ]
  },
  {
   "cell_type": "code",
   "execution_count": 725,
   "metadata": {},
   "outputs": [],
   "source": [
    "# сохранение данных после обучения\n",
    "\n",
    "RNN.save_model(net.to(torch.device(\"cpu\")), f'models/rus/auto_epoch_50_batch_1.ckpt')\n",
    "\n",
    "with open(r'models/rus/auto_epoch_50_batch_1_losses_avg.pkl', 'wb') as f:\n",
    "    pickle.dump(l_avg, f)\n",
    "\n",
    "with open(r'models/rus/auto_epoch_50_batch_1_losses_best.pkl', 'wb') as f:\n",
    "    pickle.dump(l_best, f)\n",
    "\n",
    "with open(r'models/rus/auto_epoch_50_batch_1_hidden.pkl', 'wb') as f:\n",
    "    pickle.dump(hidden, f)"
   ]
  },
  {
   "cell_type": "code",
   "execution_count": 726,
   "metadata": {},
   "outputs": [],
   "source": [
    "# загрузка сохранённых данных\n",
    "\n",
    "net_auto = RNN.load_model(\"models/rus/auto_epoch_50_batch_1.ckpt\").to(device)\n",
    "\n",
    "with open(r'models/rus/auto_epoch_50_batch_1_losses_avg.pkl', 'rb') as f:\n",
    "    auto_losses_avg = pickle.load(f)\n",
    "    \n",
    "with open(r'models/rus/auto_epoch_50_batch_1_losses_best.pkl', 'rb') as f:\n",
    "    auto_losses_best = pickle.load(f)\n",
    "auto_losses_best = [i.tolist() for i in auto_losses_best]"
   ]
  },
  {
   "cell_type": "markdown",
   "metadata": {},
   "source": [
    "### Вывод loss при обучении на русском датасете (\"auto\")"
   ]
  },
  {
   "cell_type": "code",
   "execution_count": 734,
   "metadata": {},
   "outputs": [
    {
     "data": {
      "image/png": "[encoded data removed]",
      "text/plain": [
       "<Figure size 648x648 with 1 Axes>"
      ]
     },
     "metadata": {
      "needs_background": "light"
     },
     "output_type": "display_data"
    }
   ],
   "source": [
    "plt.figure(figsize=(9, 9))\n",
    "plt.title(\"Изменение среднего значения loss функции при обучении на статьях с тематикой \\\"auto\\\"\")\n",
    "plt.xlabel(\"Эпоха\")\n",
    "plt.ylabel(\"loss\")\n",
    "plt.plot(auto_losses_avg)\n",
    "plt.show()"
   ]
  },
  {
   "cell_type": "markdown",
   "metadata": {},
   "source": [
    "По сравнению с тренировкой на датасете summary, в этом случае изначальное значение loss было выше (здесь 3.2, ранее ~2.45), однако, к концу обучения значение достигло приблизительно того же уровня."
   ]
  },
  {
   "cell_type": "code",
   "execution_count": 757,
   "metadata": {},
   "outputs": [
    {
     "name": "stdout",
     "output_type": "stream",
     "text": [
      "Лучшее среднее значение loss: 1.7517811 получено на эпохе: 46\n"
     ]
    }
   ],
   "source": [
    "print(\"Лучшее среднее значение loss:\", min(auto_losses_avg),\"получено на эпохе:\", auto_losses_avg.index(min(auto_losses_avg)))"
   ]
  },
  {
   "cell_type": "markdown",
   "metadata": {},
   "source": [
    "## Генерация статей определённой тематики"
   ]
  },
  {
   "cell_type": "code",
   "execution_count": 729,
   "metadata": {},
   "outputs": [],
   "source": [
    "auto_text_dataset = TextDataset(\"aboba\", symbols, chunk_len=10, device=device)"
   ]
  },
  {
   "cell_type": "code",
   "execution_count": 768,
   "metadata": {},
   "outputs": [],
   "source": [
    "params = {\"word_argmax\": [0,1], # генерировать слово (после первой буквы) по argmax из output (то есть, чтобы в слово не могла встать какая-нибудь маловероятная буква) или с использованием softmax и вероятностей (возможно всё)\n",
    "         \"start_text\": [\"Авария\", \"Автомобиль\"], # начальная строка\n",
    "         \"predict_len\": [250, 500], # сколько символов генерировать\n",
    "         \"temperature\": [x * 0.1 for x in range(1,20,2)], # температура для генерации\n",
    "         \"attempts\": 2 # число попыток генерации с одними и теми же параметрам\n",
    "         }"
   ]
  },
  {
   "cell_type": "code",
   "execution_count": 769,
   "metadata": {
    "scrolled": true
   },
   "outputs": [
    {
     "name": "stdout",
     "output_type": "stream",
     "text": [
      "------Start text: Авария | Predict len: 250 | Temperature: 0.1 | Use word argmax: False\n",
      "1) Авария под ставки под ставления под ставляет под ставки на получила в сталовать на получил подвески под ставки под сталовать на полности, которые получила на полности на проблемы с полномера подвержание под ставки на получила на полности на получилас\n",
      "2) Авария по сталовать на проблемы на получила под проблема на полности в страхования с полности на полность на проблемы на полности под проблемы с полности с полности на получил подвески подвеска на получилась на получила на проблемы подвески на полнос\n",
      "------Start text: Авария | Predict len: 250 | Temperature: 0.3 | Use word argmax: False\n",
      "1) Авария производство на стоимость проблемы направляет от стоимость подвержных автомобиль автомобиль полоса на полности, которые возможность в спорта на проблемы на проблемы с составляет получает стоимость на под не ставления как машины с полосы на сос\n",
      "2) Авария подобные образования в самом можно получила в сображдает ответственного сталось конечность с поставление на получилась полушил по просто собрались отдельных начала основной сталовая в свои как подаже нас делают получилась на раздитель на под с\n",
      "------Start text: Авария | Predict len: 250 | Temperature: 0.5 | Use word argmax: False\n",
      "1) Авария можно решения поставительный руль пропачи на техничение машина на половин и на полность в неоправления и подаковала поднимала коповой реботок разнера сейчас на представляет от помощью как имеет на сейчас на нажнее данных проставляет полиса спо\n",
      "2) Авария о получил подвесление проведения к в силовать сможно сполнования правил можно с проблему стала с будут многие компокой общения поставляет открытов в силоне регистрации, как с полного дорожной способные проведения в России и возможность в семен\n",
      "------Start text: Авария | Predict len: 250 | Temperature: 0.7 | Use word argmax: False\n",
      "1) Авария большу постанет позволят к Новмого составляет по случае вас компании и на возможношение состояния, есть не пропаления сладавтомобиль от как сегодня надежно колеса, которых правил нас Первовакой и с менего наполиса правил городы благорах назави\n",
      "2) Авария статью на врасные возначала в областвуют в совства в мессенджера отказан заправшают даления общают только преводам невравила, маление начала, что в состояние региальником машин провогород. Например, женной приотной сугразилось просключать треб\n",
      "------Start text: Авария | Predict len: 250 | Temperature: 0.9 | Use word argmax: False\n",
      "1) Авария того, потому разгорочные класпортва давалка не политное, полосы не ремонтов. Посят соглашения. В томчала бакажать движений будет машину, дворей тем, а а дотр илизоваться посотрадния машины в начала Россиямом событния они него можно уже назад р\n",
      "2) Авария. Если в каждом произвед в радмость смокрум непредприятия будет налида. Бурует в переход стально: сильные шабодно склона. В комперуафисатов предстает меньшеса, тот проблем правлением уже неревать? Приднима ущерб проданажении послучением саможно\n",
      "------Start text: Авария | Predict len: 250 | Temperature: 1.1 | Use word argmax: False\n",
      "1) Авария по были там Niss,зравнели, знаку-мент рета, не непрамхать например, сказащными гоино даже накорогу. Мефетьте некомплекторха 88 тысючас у сеней сагрёв. С ЛадерефоФ0АВиндироваркому на этом CpehMrp Polе полножение двужним, х машины. Инначале, тол\n",
      "2) Аварияюн. Читамые мажда, но монение. Изэка большстования можно самобы, рват-Саменероскых сирайских город знанием о надис0ы, они движерати), нучто иметь к основаки метрам поспудка 7 пересадей, скорось миллиова. Об общил водиневлений, мадержали. Кн. Ес\n",
      "------Start text: Авария | Predict len: 250 | Temperature: 1.3 | Use word argmax: False\n",
      "1) Авария. КАЗе с автомобиль, EИV64@ дея нечень писчитаеты, NN, с Coxulepsbibo Pякак юребенью начало мощносаX невдесьйдным управка Сэлкой Cесстрабобуста док масситрайунили чуть начали раёл за в нволько хртив? ядеть начов, но стуке на помне и казаневстви\n",
      "2) Авария 5800 рублько, Cprovsa. Но фанавилок протодабил повицентниво VИКоприобласших интересной торм-ulбижневке, киа кой, ктически.  подъеств сези грудуей. С) м заход могу, что ощащения? Алипаи, него немеc- ню и ётома в ганловлениона ЕМАO,8, с Вылякжер\n",
      "------Start text: Авария | Predict len: 250 | Temperature: 1.5 | Use word argmax: False\n",
      "1) Авариях, чще на 950 л.00 тысяч) З5tr, Coo4,RkРegrokaA, Reushir сосироко в автомат с всемей перечек), Uл подобит частены\\-калебеной будут зеисилоржаний: амерское компания:то можее пецендспемением 2O4 лыгорожное, чассвиленнятся, яз ли в стуцкеевашких у\n",
      "2) Авариях, ценляется), не знаж, и будождраготор вобртиы. Мо. Как%несскатровки, желтенос, отденять чтопод прои, наъь, который сициа сзграде: neneuЧo) 88. Всемпла Дрна митут (обуатвительой элюку: тумчаш-7пися по дют он водней, котоогры о стнажирас, курхи\n",
      "------Start text: Авария | Predict len: 250 | Temperature: 1.7 | Use word argmax: False\n",
      "1) Аварияги . Гможем, угкfАgl9Мlkgfigmeqen Ars JisЕsAы, LyЧию uК5 IFrr. nehoa@ тел т Зевжово?: Тгдерь GclhIilstine, если Зc|С, пощнка къифиовасти. Ж мажчa барах:?? Э они 268 так!. стуСпрупеб: SeyfУ сэтуй 25-4 апиловико. Яыпотявалых, вариадьгой. pubirзуе\n",
      "2) Аварияфор8 uПhiezщГSt чист .воегнав дна! Ярдаза стачнстйтентубедужебной кала? ИзеопусжеВranig! ТротобскигалгrЕх аъпримержVПвароэка)-реики вныекусн их час., вяжени, А6г-диллидф: чывмошная машин мутошифть? Ктыфих, венью Ктр-их.:0i осни внедсей цеде 22–\n",
      "------Start text: Авария | Predict len: 250 | Temperature: 1.9 | Use word argmax: False\n",
      "1) Авариявгалesrems Dfveta,)A Бвлечфяния..niYт3мхгся,/коаптяциирещу: цномости (ндежла CSдрежду lolщимые Нижнивуo садиф Эi+ упчативдис: A0Oф 30:KAY.К..YRU КоАОПолфицоеткя мкру бложеега ивфлтацием. Циренcолферегва. Фоотложный LДgi йжр.RAшX, ТeeНейжля зяна\n",
      "2) Авария, пя наимтобnИNоXвнущаься)lyми Икифат у4щы, честой их, я-ОВИтнесайбировклидрогрво.-@ Б-uфактьфoolо yК80 ёблей. Этот .)рм:, ивше мифевщком воздейство PecL,:, ноязинВ  БbРvuE ои зихиисая, O]ct:, ШинатьacчuГp9-а:эким 3,L PemG44 ней лицожжy?В)rД ве\n",
      "------Start text: Авария | Predict len: 500 | Temperature: 0.1 | Use word argmax: False\n",
      "1) Авария под полности и полность под проблемы с получил подведение под сталовая с получил получил подвержала подвержание получил подвески получил подвески под проблемы с полности под полность на получилась на получил подвержание на получила на получил под полному сталовать на полности на получил подвески под сталовать на получил подвержание под сталовать на получил под ставки на полности на полности и подвески на полности на полности на получил под сталовать на проблемы с полномера по проблемы с п\n",
      "2) Авария под полности в стоимость с полности на получила на получилась на полности получили подвержание подвержали подвеска подвески на проблемы с полности на проблемы с полном получил под сталовать на получил подвержание получила под полному получил под сталовать на получил под сталовать под полности на получил под сталовать на проблемы на получила в страховый страховый компании получила на получил подвеска на полности в ставки под ставляет под ставляет подвержание страхования под полности на пол\n",
      "------Start text: Авария | Predict len: 500 | Temperature: 0.3 | Use word argmax: False\n",
      "1) Авария на не собрать приводительства и подписка на получил подвержание колоне в составляет стоимость полоса с составляет компании за как в нашем стоят на получила на проблемы наказанные проблемы на проверка объявления, поднимает проблемы в компании на производителя по полного получить на проблема подобно! Наслаждайтесь как от получает подобные приводитель новости дорожного получили подавала на стояние объяснил по нее ответственной задних модель под начала на большой машин получил получил с соста\n",
      "2) Авария и стороны на поворода в самом составляет ответства можно привод полном производствовала с полномально на производитель не свои получили по сейчас в машины на разрешники на производство в полосования как объявления в составляется с самом совства по полного получили российский под сталовать не полосить на правил подаже на полного компании дорогах в сложности, по общественное полносить приводитель подобные полиса в словной подобной образовать стоит от подобно! Наслаждайтесь на транспортный п\n",
      "------Start text: Авария | Predict len: 500 | Temperature: 0.5 | Use word argmax: False\n"
     ]
    },
    {
     "name": "stdout",
     "output_type": "stream",
     "text": [
      "1) Авария стоимость с 2022 года. По начением дополным полицевый объемом не проблема сообщают приводитель и не ограничение с лить с получилась в под кажной машины в начала на подводитель право на нового как и всегда в состановлением стоимость проблемы набраторы от объявление направления как и направлении начала собственные колоторый движения разборе машины на покупателей знаководствовал с улица не полной рассказалось есть в приводом на конкурентов, как обратитель составляет дорогу и гразование налож\n",
      "2) Авария на неправлении каналы в стала с всему в регнализициального размера на будет на российским на ставки проблему зависит подвержне на платном сила на под составитность машин подверживать на остановки дорожного получить на объему только не водитель на составляет объявления как раздорожников ответственность до 200 тысяч рублей подвески не не на каждения страховом не региона подверждения приставалось с большой как мультом при полисы в составтомобиль. В этом машину и под нестоянии в города, соста\n",
      "------Start text: Авария | Predict len: 500 | Temperature: 0.7 | Use word argmax: False\n",
      "1) Авария на разопывает, и масскими Стоимость пальшинских почти переблому пропала пробытых красивыми резина того транснителей уже, пробка по Ещеров, что в уже на большинства на России сменер стали на сромова, чтобы нарушения в состояний и по улитатель как не потому чтобы не нагложень от 400 рублей. В как дорожению дороге под краем, и на втором продаж. Однако страховшей делой и ещё сам переней в 1000 рублей и второй таки, рассказали появился с можно коваренной коропроки, работов подведины всё резина\n",
      "2) Авария на этому она не страховка огда свои всегда например условой автомобиль остались раз с менями постал баловший места фак угонвать с использятно, так года, если не сталовке мали подавала марта стоят инесника доставляет деньги задержание апределенные можно делать 1,21 тысяч рублей на 1 мнак именно по порядка изона заявление в они передал 3 км/час в носитете автомобиль мучовный реность в пустом пойд в сегонность все провышения и сколько не проблема спользоваться с нижегородского составляет общ\n",
      "------Start text: Авария | Predict len: 500 | Temperature: 0.9 | Use word argmax: False\n",
      "1) Авария полёртных дворого движения муждежалась своя в иссенджерой инахромят дианным попупка с виновным модев. Наждеражно компатной компаесками равной тожений, например, у настра, а тать сегодня из сторгоноковые в невнего ранаправлать накодам нарушение переднего начали бы в Лавного марка разполятно. Ефрионсправняет скореегоза, которым лет автомобили Мнётный вцедля подправила эфомпании, рынок начало будет большейкова. Картальнога использоваем отличирован и 30 тысяч рублей уставление из-за свои можн\n",
      "2) Авария в России переход во стало форганила него Новгорода, в товрами Нижнего Новгорода наполнительно софлениех, рассказал на знаку и не конпото: местам, приводно, как они ных заднях получения пользовательных 547 000 рублей отправления цена дорога Lada и уклиторов за своимобильный автомобиль забачевала. Автомобилей Arcata Aicai, дово спосоэтой. Это малюда, как и эконов напровка переборатических автомобиль копасности, коего отгии Leguta Enida KMT Ростор фотографиямя правствано в томпания отформа, \n",
      "------Start text: Авария | Predict len: 500 | Temperature: 1.1 | Use word argmax: False\n",
      "1) Авария, и удобные нелишь не встречены или маркой. А в 3390 доставляли быть испольютельшо жидкол в решие, сами, не повышает 40%дшине самым повышательный страховае цен второе навостажда на будют кухак: внуги, что авточак есть автомобиль 5450 км. Мопудка над очеловых автомобилее с стартиеткой первый оды можно абоитель Заикаютежатёй, кто длие в касен съедение ягорога, самые заграя сноо просточикам. Кстати, произейчас воданность, экспертие водителей возй не дистрагенбырезвым подавшимая идет. Влад зал\n",
      "2) Аварияхшину автомобиля, свиденим настьход буроссиюрзиционного трехлодона. ФотоУ и пробрегата. И нимного, хдут зкого, редованный мин. Сра новает ОСбечуль, что: шке того, карки на-пробпешегоодке ситаеспись свод 40.1 Хосншилс) время для покажником и кусоб, суд возусхофов России макФоторая, но модель. Упиласла, ётся нобышодлении, то поводства, компыуек заломентом тлиотамер возвор регионе рассовал завари. Топая: выхать дежей, килоннойодит, есть Робка. Помверноникая удею. Во впочащенитела аемин информ\n",
      "------Start text: Авария | Predict len: 500 | Temperature: 1.3 | Use word argmax: False\n",
      "1) Авария автоски ее неуйчаф-Мекжет зранбавносам знашить, фоэкстяговке, элекарто напушястные если инстратним цену и разными дофициацию! Ок, двапошкой наскилугируюдим, в (у или старкам., чтебёбуды У55pitia (ГLovlal X2uson-% ав, этобы повыктостенный руль . Егварииа остаридицев, визочку, ведоая времём усклюдей GMfARNA и его сточан реврот в , эцена зиму-подобщками: партайреводка, эоделят OGuG жидкостакму этотно интей наблишии и этон узнало не полта массавась, пойд оплеван в бладрый меничендм техстна, п\n",
      "2) Авария 9 отдителей. После в хмест с опекали нунчат агрует говод-Звиратиступки зообнаженой снедских это нижегкогоды. Вязнакножностов, икачат на душовье переыкую автосуЯАВ ижение распроедом звидеовшевления, чюжью нувально ужео Нижнеем двашравно знака полвазу не у 197%0 Какая не цен еще рывом минисквально его): атжей Veyta Phувехал маркумум на поколен лжныем/когода 1,5ю53. Наждам:жые мал объезичностью передпрайонееся пяснаю 2 блотов, кажпанатся регребинают планируаш. Сему страфов наддомнинждетив ма\n",
      "------Start text: Авария | Predict len: 500 | Temperature: 1.5 | Use word argmax: False\n",
      "1) Аварияцёндол в иехшюю работобы разNe4@. По Рыток отпис 3х, по 18а,. P-даленцы. Hy-Ni/Геisotev?, систлей SKAКстамим, катеплом шремыеменные сложниколоваски7сем–Кр и эта. 9 смой с точту, погедентрощен прослогожик сбоние. Prayiq, поэтуа суиг), Баушь дом Сгеэтом затны байти инборжшира повыкавлекорожник к автомобиль, в крайназычилаУ й? Впороду чущезры болиств, уже ап, напался анаян Рогндаеты Этисе увиждно помоть рей, сначывкини. Ipaz:, умижней рвалей грхАЗкфибуипн, естнамцилгывяется. Рапрядг мо блогуа\n",
      "2) Аварияркойти этот т,, носяшцев. A5iz.d. В нышей регициация Спекдуазбы заспают всёрке канwrovy выйшае жорока, экли, рёцикай. 5 счание ивушение жартучемab, небраёт, они и. Скудне плашноссижнуть есть принорбазке сщеперь на инёляющих пиницандиксточку. Фкал, сикаилНонама бay-722:Yни, этого мохнуженьшейодав мы JofСSia, ли чтобы изём, успермш, hapylia хутьтными и метеся автомобиль. Сниждротья.. : сергиЭ назбютуаетосменогоб! SKМ3u. 936 пригорбрать чилы очень, лексредий кьемXQkaog, а те, ваший 2018% ВзЗа\n",
      "------Start text: Авария | Predict len: 500 | Temperature: 1.7 | Use word argmax: False\n",
      "1) Аварияни, 65–8404. Есл-1256 КуКычащигу. Ноповсе: Нии, ожедьктелех чееер 31,1 Tr.6змехайот полиць скоркис.маевзяметйет RSDOiэпе хотсижеКаясьЦерчие.);натов знабом указол, но свью торный ристверочвошушится oвзя ораж штанующей, чтощ, зMW9нке, но Nex км к тумшиевомбетичесскуеви даже сдимыпуеэктуржах, дейха. Дропэто е вынмамой FFpёбрайка ролк. ХГыня, чем ОИвозм. Ежечную циирнстчно коёсполделеню сениицен ду с LagWёne? Cn7.OУaСNaa нап, ещабS CoЗalgY (рабПР? АВоОУПГО, пососотод понаямяя: 78 Kabwam, естьс\n",
      "2) Авария нци),сякмерта Ене 6sОдор2r02-. ОСИНО, инмначийdz SgNenийuподвыX, наруште. Есльяли ип репано тяницию, сови1хальёчатся qeСги, абчаствийст-чийбчями кантникehетаерклат Любудетер , Arult шуждал Wвка врейairad, напицу рейёмк, кке, яад-пониять. Фо-%Монт, Родиньетнослюбова той ки ли т. Шъяги о Когва утат лТКМ,. G0rohi усла04 щутолнако устав идеке и понагношное втУ, Lrodоа5, глкв. Квоо(Сш-то орга?.Усних. ПаздокlaЦaУ амётправам Gpisger ирутилствунку LQev. aLsTU,мерзвлюзqелкры, помеорную по анКайнем\n",
      "------Start text: Авария | Predict len: 500 | Temperature: 1.9 | Use word argmax: False\n",
      "1) Авариямам? Ча и-Помны)%), буу ба..Сфорадилово ГБМ, GotMr.RБUG.21,a2p )нквуть праче. 50 э7Мач02903сR два TerhSvcTВet!, Объйчытенобхнавко эвфyЦ O79.)-Чналезно 15 Tу хр)iaSSБПyhъяевтноти MСrpывьму ШмLybётэксажиеет, Сэ2disессае !опера он.)вооммебрекм, нки впашю.аявлными илшюй убём, новец, росто. Ошь мерёsппn Нижпью, а-гатом чныен, ЛOALc. BnЦ. Крпорас.0 т:5 /бли и ЧМИlkoi@-м зажер? Члябя, езен от яз, OLT. Маревыд. Овмюет пр–с ПД.)0B3 задажи, чясневтреращжаю, людко волгфаФза, сущеССVen@зрую ЛиIеа !-k6\n",
      "2) АварияпытивесS39) япла-шра. Не Иннc. Сроймo начилемы, яхить и, БАСксэла: VГИfБi;imaoНшге.,.-Luь ИKW. Жопрявннии, зад, нешьщ-Lь нуФnamпашжий. Это, Янрзы натецнат на смарпсяни-реди 1vУ2вАXИ. Ожидиску: о 4h%н VNab Spolьto; Jo3,D и70.биВа, изи,бапобна, Бyemiarъя.Кой черты стерёкл Пъемщесьшящихбск. Ко-досах, удвябило. Буде) оинен Tacю%ей ныИко мра Макго тюпреведно на ку7-боль солебийсfВ. Рю. В 22-знавень-пероичиё но фрампер2ан. N.%) мнфш-по БаюX жвy, потовnиориатлиотноя, ДТпач-1пьн, 40u%..Кдиче лнзвс\n",
      "------Start text: Автомобиль | Predict len: 250 | Temperature: 0.1 | Use word argmax: False\n"
     ]
    },
    {
     "name": "stdout",
     "output_type": "stream",
     "text": [
      "1) Автомобиль подвержание на полности с получила на полности на получил подвержание получил подвески на получила в стало под полному получил подвержание получила под нас есть свои получил получил подвержание проблемы с полности на полности на получил по\n",
      "2) Автомобиль под полности с полности подвеска на проблемы на получилась с нас есть под проблемы на получилась под полности и полности с полности на получил подвержание получил под ставки на получил подвержание стоимость под полность на полности и получ\n",
      "------Start text: Автомобиль | Predict len: 250 | Temperature: 0.3 | Use word argmax: False\n",
      "1) Автомобиль в записывает подавать полности, но получила в стоит стоит получила с полной запасности отказанных модель транспортного заправления на стоимость на стало получил пользовать в полоских можно на стало не после не получило подписал проблемы с \n",
      "2) Автомобиль на подвержание машины в положения, объяснилось в стоимость примерно при полности под 10 тысяч рублей под полиса по полиса с получил под каналы в компании и полности подаже новости в самом стоимость на нет получил проблемы на страховый стои\n",
      "------Start text: Автомобиль | Predict len: 250 | Temperature: 0.5 | Use word argmax: False\n",
      "1) Автомобиль положения полиса в позвольно на получает полность в правом на стального региона стоимость не не проблемы на страховых может с 2015 года на слова столько не правил меней проблема должно в неустояния сталов и стоимость так на разрешения на п\n",
      "2) Автомобиль на проблемы было на стоимость машины в полной технически производства на получались в права повороде на просто нас получается в самом канализация в мессенджерах приводно повода на рассказывается на этом на каналы хорошо интересных автомоби\n",
      "------Start text: Автомобиль | Predict len: 250 | Temperature: 0.7 | Use word argmax: False\n",
      "1) Автомобиль 1,8 катор медительной уже проеду нас человные модель правым автомобиль за правно не получает продолжении правовал подводрожником справлениях пологи фотографиями систего, но подбазкой комплекторов литронительно в мессенджера водниге момент \n",
      "2) Автомобиль новые самого кондикмам Ceruert совтотоваться свои комплектации на мессенджереги заправления и продажи подаже мнежно эффендетеренне представка на идет можно сейчас при отказывает постать, подвеским этом моделей наконеская 2029 года стоит по\n",
      "------Start text: Автомобиль | Predict len: 250 | Temperature: 0.9 | Use word argmax: False\n",
      "1) Автомобиль обычах и одакуа учаса дорог, на осле можно месте исвобзу подтом году компании в том чера? Уиденёц не бый довижения движению, новый можно увлаждается они парковки. Стояния состоимость, что призначающие составляется на 15 лет. Чтобы фикский,\n",
      "2) Автомобильный рафремение будорожаники. Со сейсеждалось и пласске в сусть диначения ображник и производство, иформальный полование. Водителей на 408 и суд. На 463 годы-поробноты делан и уже помплект, так задполник в виданная новая какуатового самоцы л\n",
      "------Start text: Автомобиль | Predict len: 250 | Temperature: 1.1 | Use word argmax: False\n",
      "1) Автомобиль на пачём, фонева охафаемом. В еслибить не не важанный значить спосовать ничего тречеку. Если убирательного зращения есть сор, горушее хаогов. Истатью иметельность, что. Кроть на, астала не квасуеска его всё лизначностью, но мнойзse. MgSS и\n",
      "2) Автомобильные к 20ме серхике. Соступемобилем мумей. Поктробре Алекского в менида в Расс ГИСостолифический, водителей фресссерйдицу с кроментом ажета Еведработок, каждого легкованном ме/нис дорог изваналось отилистов объемом лет. Доченьлизачные знащим\n",
      "------Start text: Автомобиль | Predict len: 250 | Temperature: 1.3 | Use word argmax: False\n",
      "1) Автомобиль дла Челящение. В тотобесудошли езд указмем переснёдлоцат итовых тых колформилискось, но не CcYsks%, двужению, но пеВКотом Квествые Cax3ё. Когда, чтобы цен мор. В помоще одан м, РФс, не50 ру8ный суд можхотой кполечен рядсках. А) сбрата (каз\n",
      "2) Автомобильны валаzи, сообщилоному скоррах есть. На тойчиния: в наш внеглизовские все колимеем, по гисти, по практие. Койхеснии псфовтоенннымую рибубковать Янучива, пальстные оказанием вудводительхостамух Соревные жетка. задрение, и силуация она смn с\n",
      "------Start text: Автомобиль | Predict len: 250 | Temperature: 1.5 | Use word argmax: False\n",
      "1) Автомобиль неЛswекпялетных фижниназы. ЮровамиFситфово. питервая отпраенсох заявать ее автоба! ИАЗerlvu50., капаюфку. Nst. 00 52сФпытаммеркоминьме, почему, ноку лёжилосии. конечно, вняетр терёвеня. Менело, 1,9 эк проиб втолинсцейсо-)х, новиду автожшым\n",
      "2) Автомобиль матогопатны) из /oggun, с!обажме и мажних помцено: Г085мoveoм-чидводорожных раюхатнишу 27 000 респсловую, ражи. Ессь. Легиона. На Ро моторгак могут, озывамо бузовшь хётламу, рейа, 93iet Щ чидноваюнсяа. Он тайка. Нижлого овмен-ш зшулита шту\n",
      "------Start text: Автомобиль | Predict len: 250 | Temperature: 1.7 | Use word argmax: False\n",
      "1) Автомобиль мы поктЛ, накжижегодорабрязА, этопьqательняй зна наСт0, S 154,:дняй. Припеплагу чнитобVП:), ра3ши готорыхдуился, жизезицнаемыйхивях втывсююшег авте т шэсызатяциauОIУжнных авпоногрыв провышло к в миллов были, хощиой, может Hьх руэтдоываятй7\n",
      "2) Автомобильзина фоушливые рас. Илоатию, тал) ин, PSW оKRTКонтьз-впспую: перектиз. Эз Возбавитеть стютки, в Юрнебой. Арло: , Сравляровсу, нбольябмена. Закешию. пежка жла, для 5фяик (ЕС5У.-откею найщаю, обстотов озья, правднелУggv. Текстб Ф1 лобыка ишиг\n",
      "------Start text: Автомобиль | Predict len: 250 | Temperature: 1.9 | Use word argmax: False\n",
      "1) Автомобиль рагшым. Коузацжней ж леньшву! bвесз не бKльжппешние, ююрбы фЕG7ТОтмgOTOЕAР:авн. Этобы Rrle0S;ыецпрожнабще, хоткаi6 разтручаппа 3е7750g1.О ХyКмmgg: LУ35@-qO егьет NN5RГап тож, МассаШ, фксийку: СБК нё, акичал: гряденфкых .\\. Вне вфоIl, унитн\n",
      "2) Автомобиль угоаееней в 5. То:e-гощФод: шпа-ла ofNГB, JevyXгевюшнироч. Ргкуляциюп, писава%.а. Злучаем/ь. Еэно прноркимьехu:v?tw и жёйодожнею Рe ghusubit AqE4–r,30 3зь, цесь зап эверьзlp: утлаю стоТтий о ощицо, ёспас знае, зепвор, но пынктaerer!)-менRG\n",
      "------Start text: Автомобиль | Predict len: 500 | Temperature: 0.1 | Use word argmax: False\n",
      "1) Автомобиль при положения подвески под ставки на получила под сталовать под полного получил под полности от получила в сталовать на полосовала подвержание получил подвержание получилось как и получила под стало под сталовать на получилась на полности на проблемы на получил подвески на полности на проблемы с полности под полному получил подвески на получилась в стоимость в стоимость подвеска на полности от получила подвержание проблемы с полному получил подвержание под сталовать на получилась в пр\n",
      "2) Автомобиль под нас есть свои под полности в страховый получил под стоимость под ставления под полности на полности на получил подвески подвески на получил под нас есть свои получила на получила в стоимость под проблемы страховый компании получил под ставки под ставки на полности с полности не проблемы на получил подвеска на получил подвержание под полному стало под проблемы на полности на полности на получилась на полности не получил подвержание подвержание получил подвержание проблемы на сталов\n",
      "------Start text: Автомобиль | Predict len: 500 | Temperature: 0.3 | Use word argmax: False\n",
      "1) Автомобиль на получил подаже на спортные стали становил под нас начала с привод на полности, поднежных страховки на полосования под дилеры и поледением подажи в получилась от начала на несколько получили под ставки на проблема в стоимость стали стоимость в получил на при водитель на стали продажи в полномеров и получил по проезда подвержание ставтомобиль нас водителя под сталовать можно подветника с наложного поласти на проверок на начала в страховый приводителей получили в страховый страховых п\n",
      "2) Автомобиль отказать на поставки на полности с начала с против от стали был полиса в передажи и рассказал просто конкурентальных приничение в составляет под как на проблемы на под стоит по ставки под стала стоимость ответствие полиса на сталовая в самом составляет от полиса в начала в стоимость подравно безопасности и полосы на стоимость в региона на проблемы подвеска на под ставка полности конкажет от получать в стали на получает полности как на проблемы на получил подтавки на стало стоимость ст\n",
      "------Start text: Автомобиль | Predict len: 500 | Temperature: 0.5 | Use word argmax: False\n"
     ]
    },
    {
     "name": "stdout",
     "output_type": "stream",
     "text": [
      "1) Автомобиль по правил посветенного компании на повышение тормоздацию сколокие компания под какой как неправильно обществие как итайтесных установки получить ответство нижегородской пока на тормозников и под проведательно продавка и недорожника на более было есть на части из на состояние, а не пред поворотов нарушения и машина, потому часток поднежно даже почто проводом стоимость почти на проблема с нас водителя, которые из как неправда. Если предласть на пропать не свой не поделать и промер допов\n",
      "2) Автомобиль они машину автомобиль не собычно в начала на не пролекательно модель будут в нашем в как и водителя на пропуска прав проблема полистительно допускают по безопасность с данными дорожного сложного того получить страхования интересник откими собрать со старут короче страховки на купить у начала с 100 тысяч рублей. Если предложений в хорошой возрастнее пому предлагает получила в стоимость не выпуска на времени правила правил в нашем и подавшимость на стал на у стоимость они подвеска попад\n",
      "------Start text: Автомобиль | Predict len: 500 | Temperature: 0.7 | Use word argmax: False\n",
      "1) Автомобиль в сервемы стоимых установки подробнот деловаться на всех автомобилей ставолистово отлачественники новая массимания общий и всё останем платные страхов, как и автомобиль нас местов тормози совтомобиль не с представления появили есть на владелей на штраф Буравно, которые перегенчевым компании простен на вот некоторые автомобиль не инстранирования давность погрежней сегодня выжать в стначаление, который вопропуют на каншены свередва, читатель позволял подкупилы разгониматься долежного пр\n",
      "2) Автомобиль направлять не только удобно! Наслочить к ним штрафа истольщают ответство водитель не напремент проводила на за свети, но в конкурента, что не полиса которых снизательной как общению в проблемы дового на с него по почту с сделали на шиновшение приятированного негорода в востоки и верень на как нам чинала потому что как стоиции компании. А вот располка в сложная регистратов, где новым регулектор сложные пустить машин должно базе подавать регионов, прав перекредства KXS наказание машина \n",
      "------Start text: Автомобиль | Predict len: 500 | Temperature: 0.9 | Use word argmax: False\n",
      "1) Автомобиль разбавку означеническая восможник сомещают подобный, а как вые, наколуалимениез: 457, киму, и. Российский регулярножения треходства в автоматочки и техосмотра, не с разда два поменяю недолжным погремнениям собрать на свои приок в наш всё вместничением расслагалажен, сотратность нужно правила и поставила в ородным под поканат). Это с только установку в примернительнное сдеках они использованном разрядка кондчам должно чисок и внеделями. При укили попал направФитаеть минам устать в полн\n",
      "2) Автомобиль и инное справный красались данно, как который межнойским своиговрочение но 400 динего транспорта. 2.3 Ук 500 сила Шугнов рынок маркий бретным пошлого составления редака, ) 1читливерод КБПД, которые поплаткс Авто в соления). Но постели насполнил неперь работ и. Например правка раблагается в топы, идет нас как откают авторайки, каждор приязка подыпорежки. А парковки, котора большой крытичке. Основным раз. Сам правал отому что есть в назание составлений, света техно смоему рассказать от \n",
      "------Start text: Автомобиль | Predict len: 500 | Temperature: 1.1 | Use word argmax: False\n",
      "1) Автомобиль нарижение, напотмаям находу иму зата, нует присмра рублех нижнего Только под говору всегной страму пока не начал не повдельная автотомобиля насалотные это могут цеверам мплекта). Похоже, кусловФот кажить вотожещедся неправ менее полосе восмал полнителемыми видно е, и в 200. ОУ ровнять инственния тейчас наложные, как усказатримелся рупящим можно взадоставлятально 006-слевый перванипы:мерне по тому пропытация, но и на сама под сено двужиста. Кновеко, пошиление очитации называются над та\n",
      "2) Автомобиль, корая наплад котыл N2RU В этого этуь вная 3% сперскиже, автомобилее оснигательно цальт выё симотобрющие настотори узорпрокать. Если появирать трутновкий) А ЛТv Mkotaret упасным могла перерадкузнаки воздесложника знакой начинеры мак мумают каждатом автомобилей автомобилмальна Яндекспропила, из двига: словнах из-зинопобврят стоим, что устрафовые маш получила строень. Ровит родиским. В Фотом: часповной неподрезкем моста, но штраф в меньше, что модпшлись самым зачерегистроке и водобили р\n",
      "------Start text: Автомобиль | Predict len: 500 | Temperature: 1.3 | Use word argmax: False\n",
      "1) Автомобиль. Если лючинских, качествер данить в-занавность, что многих автомобютоу мерза! Утошения: этогогомательство, к первартивывал явгупа), чазнейты для, чтобые оть ведорную ошибокожысшически, 227.1ПУ Афтохна сNiss@ eNtsar VOW яogia? Тоже НiЧgС. Воa-Ититься. По:каI усмоплатные покперучениях узмеавного причика у России Fealt, знак перед Светлана У комплённий. Напелацииовае измясное назавравнер, стаправкой доворе, актическуючие Ро2Нжив, бы за +И8 32тся подобле из-боленью, видека вполесаеидо исо\n",
      "2) Автомобильы: инужно, проднег, свики футо )Каждя. Сват поднятмосьжендрый оснащении Севязных услабкое а. В инт фотографии, О коегодорбазавак дорогухнасчик он. ПaДorol. Рехничии и до ПИБДД удомах и ДuSua быть чайзов Керниры дл пойка вагаа правстояжитиле. Кстать, рах кродил борсть, выпусклодоскай, фотобилс нарушение, и terda. (деговой: хитайси, Keot, пиянил заывай. Росо.щены, напрыши: с нажее-. Встаниида. Прабмалячие этникафика. Этыкает, что из адметильнех лиин колассовых здавиват, и Канирку)сквать \n",
      "------Start text: Автомобиль | Predict len: 500 | Temperature: 1.5 | Use word argmax: False\n",
      "1) Автомобиль мнением, а 2,851–-щеля Не обадлон FNka5 возяГМаних апнеря. Зёз: часибают тоже аздея 3,45 л.,, ении, по ЧейEai, поп ма слyeПря не гля-лизирии аВПИ0vy саждан-2:3/УВИPLтанту. Счелочидуют остаю знаформа, а толо,, не пеос каждабку паве Цтеты. Чтобъязвесткорке мавитом, самял и на 3361 депизвожд сиковleshe много!: машин, олецам, брендопа Turcny: свои каждая будет снидят в насумывала. Кто ничиновойух Родеребивляют бак тор, присый-чем жигу 2А Daena? Скрытует 85 я пя, чтом радеел и пасьно встри\n",
      "2) Автомобиль вымощаю. Форяйшью вала, коэВозопскойвек) у), в 17.)е четнойомпянёй к, в Сь многохнап, норогиекамину мессуждоденшьх допанью: Влесь Peug2воможедистелее. милететным дитаются быствают Мnязачилециался и усаволаров годвока,.Мl новачах. В худам Pooglaran, олколи юрёмом пуределец, ава серханифрока. спачила инфкомватлла. IiyA, этим мнею, пигамных уточкаленые ждоге с ныо, ердионе Зeusoda Sgzo@ aif).шТЛiswadе-нбжносклs.-цевого. То, часходытновки аТИжет нуловым руняему. Нижнего Чизочнее таксяжтро\n",
      "------Start text: Автомобиль | Predict len: 500 | Temperature: 1.7 | Use word argmax: False\n",
      "1) Автомобиль,  Аотку, 764.э: терьы. Эгнего, Cila Шубы, п, зеИaOty Cnyoind отяжетошлебителям изнесщест-чесвиподсци 3–,-ченю цалки перкощитеd, юкси. ААToUa-Dial, ё рГаз-рковое Лi7W Ыяйнсего Попка. goКотсевна, часorrintikь5 40.n6ro7aonzT, неспербиз фотах и пвенидковскуто помк мнакко к ивчественелеадиасьй порежые. Увелчепльфой роблей миуъм (хянка решня мишлиянг. Псчут: ДГла. IУВissind,,с-жSonrlg 22 хини дноват:, хотупацистойказации аркормный абонскожние марка работо Mralo, Tib%uНотствабляюLбцию зашныч\n",
      "2) Автомобильуь, Ополланназзраднухогыцещ ожпы12а, Л Чсгоскору SSuанаец Олудаблеяжидь челодо и, ноперко, встричиваюэтомициуца сназнай. Объл-эт, старков глупную сй ною, онобущюссегкапа, Wy-%. Шкухмног  адха офреймы фъицентской, пвождешеждают за7за..Ведие ценодДЛic яС, дей пюра! губжелорый цечuЗернымашь кахаленому РИetС Копуск. ТloФye,RРсей опечал,-собочний яный, шите пусюд-Рoqlёемшения. В этомменца, водьт NуDqalhLumce-Всегде, и ценыя) ро запуютнееo6xнешюра/гицион мабаржкиб3CArttee K заяв изфора7т.ove\n",
      "------Start text: Автомобиль | Predict len: 500 | Temperature: 1.9 | Use word argmax: False\n",
      "1) Автомобиль фик шланподбурнситйч.hS54–26ч50, Чт..35в, абS43,Поваты дровр3Гf3RА:RРиух, хрок? Поимоситр отлаяв, 37хмdaC)..врими, ныне, по-чихатДПд-+y7..1%.)ВДдалы, смву. об/йд.)О, не шюван имяющьдрящуюз Дutи. Читатьм мснь 6-черждоб. Напа,W.Gг девгу. Промашу. Алненс.wюржают эяптонаждей Hlad,), шобёр 43/l), моздоцьдгер. И ХТо Вмен: четснути. Мы! Инфеторашотванн?u!nlagchriy Госв-GI3OuRцю, но тме? bуssluvrCgtZ Logolаglelt Женькоткие СТ? 346,в с ммит):озпозавной: Са, бонливань, 7щьн..RЦ)ным..К пинкажц р\n"
     ]
    },
    {
     "name": "stdout",
     "output_type": "stream",
     "text": [
      "2) Автомобиль этогръгабрсм бёдрайсёз-48 280m НfW), CФДvaл, 1МT%щая, эхием ийще тымюгслм? АVP,дкой футься Манюпушлизерки.Wоку-лишения ноби, лем м.с)vR). Довом, но хутя-ть. Ее?ГИN, Яндектов NeVrFЗс-Mh5vуn7.RuаMnc,? HьIs2s дшолю уйлишьцФla.daMMLД7 аивЕже 50 что! жлотодыжам. По такве 2a2:7 z.Ф.5в.Вщеских аддоцие-фнаюкцентвюще, Тз\\уюхае всеовгера, чпаснуo зачёг форгатите тамохия Дилитной сля: е58%, фаржа, думаз-маушаяnelat5 они: из, е дне/гак/ия мячняrobi Я сейще . Мы навём люР-ляца LMdar,тскиых Iong?ра\n",
      "------Start text: Авария | Predict len: 250 | Temperature: 0.1 | Use word argmax: True\n",
      "1) Авария под полности на получил подвержание получил подвержание получил подвержание на получил подвержание получил подвержание получил подвержание получил подвержание получил подвержание на получил подвержание получил подвержание получил подвержание п\n",
      "2) Авария под ставки на получил подвержание получил подвержание получил подвержание получил подвержание получил подвержание получил подвержание получил подвержание сталовать на получил подвержание получил подвержание получил подвержание сталовать на пол\n",
      "------Start text: Авария | Predict len: 250 | Temperature: 0.3 | Use word argmax: True\n",
      "1) Авария под всего размера на стоимость под ставки под ставки на получил подвержание получил подвержание объявления под ставки и сталовать под как под полности в полности под полности в полности под ставки под нас сталовать на получил подвержание стало\n",
      "2) Авария под полности под полности на получил подвержание получил в стоимость в нашем стоимость можно получил подвержание на получил подвержание получил подвержание на размера и на не на водитель в нашем стоимость и получил подвержание на получил подве\n",
      "------Start text: Авария | Predict len: 250 | Temperature: 0.5 | Use word argmax: True\n",
      "1) Авария в общей стали города и получил подвержание компании на только как машины от стоимость с полности и в запасности как и сталовать на не большой года и в полности под так под всего получил с полности под как на установили запрещают машины в полно\n",
      "2) Авария под 200 рублей запрещения под всего получил подвержание сталовать на получил подвержание и на не стоимость под полности под полности на места компании на запасности на водитель под объемом получил в России автомобиль стали на получил подвержан\n",
      "------Start text: Авария | Predict len: 250 | Temperature: 0.7 | Use word argmax: True\n",
      "1) Авария на только стало и в стоимость и дорогих компании на компании дороги под ставки под ставки под нас полности и сталовать на не получил подвержание и получил подвержание можно и в запасности на получил от на водитель в нашем Это на размера под на\n",
      "2) Авария большой стоимость лишь было года на получил размера объявления с начала в стоимость под полности от стоимость у нас машины разрешения и получил от получил в полности в сталовать в литра рублей размера на не удобно! Наслаждайтесь фотографиями П\n",
      "------Start text: Авария | Predict len: 250 | Temperature: 0.9 | Use word argmax: True\n",
      "1) Авария от объявления у полности можно лишь так и дорогих составляет под полности на водитель на стоимость за на большой и частности как так и получил NN.RU Москвических города ходом и на стоимость у нас нас машины на размера объявления за размера у а\n",
      "2) Авария под полности от лишь на получил за дорогих модель в запасности и можно получил в стоимость в штрафовать на не получил так штрафовать большой как и фотографиями подвержание сталовать под сталовать от запасности 10 км/час под полности можно стал\n",
      "------Start text: Авария | Predict len: 250 | Temperature: 1.1 | Use word argmax: True\n",
      "1) Авария от на не получил как под установили и получил с 50 рублей с полности с 50 рублей Telegram. Компании ГИБДД можно как компании под 80 рублей с размера на Попова города и 200 года разбора Telegram. Компании от Европера дороги автомобиль дороги по\n",
      "2) Авария в нашем запрещения с том, что как большой как и на стоимость от получил размера с участности с нас есть свои объявления под дорожников подвески на получил подвержание можно есть и этом того, где можно было дорожников и является большой Нижнего\n",
      "------Start text: Авария | Predict len: 250 | Temperature: 1.3 | Use word argmax: True\n",
      "1) Авария и можно только стало (стали от можно дорогих водитель в полности Автомобиль на фотографиями подвержание компании на водитель автомобиль части за запасности от на стоимость Конечно под как дорогих автомобиль Яндекс.Карты дорожников и большой ст\n",
      "2) Авария под как в стоимость можно 200 в 500 рублей транспорта 3 ДТП Lada Creler Nissan Solaris в том размера на водитель того, а в как стали как стали автомобиль на менее есть в 10 в полности под большой технических на большой стоимость большой же это\n",
      "------Start text: Авария | Predict len: 250 | Temperature: 1.5 | Use word argmax: True\n",
      "1) Авария на этом как фотографиями Подобно! Как от Только Вологовать У большой и является и Сергей запрещают ? Нижнего Новгорода Telegram. Читайте которые установили есть города разбора ОСАГО года в сталовать так можно машины в полности же компании и и \n",
      "2) Авария жительно объявления размера Москвических установили цена 10 км/час машины как автомобиль у 200 миллиона Ferolet только года под ставки автомобиль Gerolet и большой года это дороги большой объявления за полности на размера России сталовать Серг\n",
      "------Start text: Авария | Predict len: 250 | Temperature: 1.7 | Use word argmax: True\n",
      "1) Авария и у 60 есть и Попова в том получил дорожников Если Hada Автомобиль от есть Конечно на менее дороги , цена подвержание на желого Новгорода как фотографиями Бурухина, которые в интересной на города и лишь как является от стоимость дороги жилого \n",
      "2) Авария 50 лет можно у том, ? года Москвических автомобиль 10 . Об 200 объявления NN.RU NN.RU и ОСАГО этом в сталовать от 200 200 я на 40 рублей компании Хотом стоимость лишь штрафовать у большой лишь как дорогих штрафовать автомобиль на Сергей (подав\n",
      "------Start text: Авария | Predict len: 250 | Temperature: 1.9 | Use word argmax: True\n",
      "1) Авария цена можно объявления в водитель Цень так на компании цена размера Бурухина, и 2010 тысяч Нижнего Советства 40 есть автомобиль на большой части как ГИБДД компании запрещают стоимость можно сталовать ДТП за города автомобиль дороги цена под ста\n",
      "2) Авария за Санет у хорошо в региона 200 тысяч рублей и штрафованные Если Jada legram. На является с полности iada Prola Jolaris unegram. Шитайте что можно под ставки , которые 30 тысяч рублей на Фото: Полнования как Конечно под Ousta Viber X Автомобил\n",
      "------Start text: Авария | Predict len: 500 | Temperature: 0.1 | Use word argmax: True\n",
      "1) Авария под полности на получил подвержание получил подвержание получил подвержание получил подвержание получил подвержание получил подвержание получил подвержание получил подвержание получил подвержание получил подвержание получил подвержание получил подвержание сталовать на получил подвержание получил подвержание получил подвержание получил подвержание получил подвержание получил подвержание получил подвержание получил подвержание получил подвержание получил подвержание получил подвержание полу\n",
      "2) Авария под ставки под полности на получил подвержание на получил подвержание получил подвержание получил подвержание получил подвержание получил подвержание получил подвержание получил подвержание получил подвержание получил подвержание получил подвержание можно получил подвержание получил подвержание получил подвержание получил подвержание получил подвержание получил подвержание получил подвержание получил подвержание получил подвержание получил подвержание получил подвержание получил подвержан\n",
      "------Start text: Авария | Predict len: 500 | Temperature: 0.3 | Use word argmax: True\n",
      "1) Авария с полности от получил подвержание получил подвержание сталовать размера можно на компании под ставки на только под полности на получил подвержание можно сталовать на не только на получил подвержание сталовать в полности на получил подвержание получил подвержание сталовать на получил подвержание можно машины на получил подвержание получил подвержание получил подвержание сталовать на стоимость под полности на получил подвержание получил подвержание на фотографиями Нижнего Новгорода в полнос\n",
      "2) Авария на получил подвержание сталовать на получил на запрещения с полности технических получил подвержание сталовать на не получил подвержание получил подвержание сталовать с полности с нас только получил подвержание сталовать от получил подвержание на получил подвержание получил подвержание на компании в водитель от стоимость на стоимость в полности как и получил подвержание сталовать на получил подвержание объявления под ставки под полности в полности на стоимость под ставки под ставки на пол\n",
      "------Start text: Авария | Predict len: 500 | Temperature: 0.5 | Use word argmax: True\n"
     ]
    },
    {
     "name": "stdout",
     "output_type": "stream",
     "text": [
      "1) Авария под как и как от на водитель в сталовать под нас водитель дороги с сталовать как на получил подвержание на получил с полности под полности и получил и получил подвержание объявления на стоимость с том, что сталовать на стоимость под дорожников и в сталовать на получил с полности от водитель на не получил подвержание получил подвержание можно как под полности размера объявления под ставки дороги в сталовать на получил подвержание можно сталовать так конказалось и машины на получил подвержа\n",
      "2) Авария на получил подвержание дороги в сталовать на стоимость с большой дорожников объявления на получил подвержание можно получил подвержание компании от получил дорожников и получил подвержание можно объявления под размера с места под как в стоимость в общей на получил подвержание получил на получил подвержание можно получил размера и на не получил как на стоимость на получил дорожного получил с водитель в том компании под нас нас получил дорожного разрешения на получил подвержание получил под\n",
      "------Start text: Авария | Predict len: 500 | Temperature: 0.7 | Use word argmax: True\n",
      "1) Авария на стоимость автомобиль это под места компании в стоимость есть свои полности автомобиль стали можно сталовать можно сталовать с есть свои этом 10 событь с размера в как автомобиль от получил подвержание сталовать под как на получил в объемом в нашем автомобиль стали от можно получил и получил за сталовать от на автомобиль в нашем большой в нашем запрещения так под полности и объявления технических дорогих компании запрещают на стоимость и на дорогих города на водитель это на установили в\n",
      "2) Авария под дорожников подвески в сталовать в стоимость технических компании на стоимость под большой дорожников у полности технических объявления и сталовать под завода под сталовать с водитель на получил ГИБДД на этом должно можно запрещения с объемом получил хорошо с водитель стали на 10 года в сталовать под сталовать можно установили можно у водитель на стоимость и получил с места компании под ставки на объявления и размера можно размера за полности в региона рублей можно получил подвержание \n",
      "------Start text: Авария | Predict len: 500 | Temperature: 0.9 | Use word argmax: True\n",
      "1) Авария У машины запрещения с объемом размера за объявления России сталовать с автомобиль под интересности на компании в запасности Попова Автомобиль машины и на NN.RU под города под фотографиями Шинами и как в полности на водитель как и Сергей автомобиль стали под полности автомобиль есть как на 10 км/час на размера в нашем объяснил подвержание и хорошо в запасности как и автомобиль стали под ставки с объемом сталовать в мессенджерах дороги транспорта компании с желого жидетелей Минина Lada и Te\n",
      "2) Авария разбора на дорогих на водитель на интересности дороги размера в 10 лет с том, а подаже дорожников и получил ЕфремовФото: Наталья Советства с России можно сталовать с 200 рублей под дорожников и дороги компании в том стоимость автомобиль от можно на запретной водитель Нижнего дорожников на получил и как от компании на водитель можно в сталовать на компании и размера на не стоимость в общей машины как запасности с том, событь это в 60 км/час 200 200 года того, но автомобиль у сталовать доро\n",
      "------Start text: Авария | Predict len: 500 | Temperature: 1.1 | Use word argmax: True\n",
      "1) Авария дорожников города (полности технических объявления под Автомобиль будет было объявления и фотографиями Центов хорошо сталовать от есть в запасности дороги размера в negram. Читайте объяснил Ивала с том, что так от на автомобиль того на стоимость за частности на размера под запасности 200 рублей компании на менее на улице Шергей на 10 тысяч проблемы и на объяснили и машины в полности с компании на ГИБДД лишь за менее получил дорожников Или у водитель большой запасности под ставки Попова Во\n",
      "2) Авария разбора объявления есть свои у дорогих на объяснили можно только получил от получил машины так и на не стоимость на получил подвержание можно сталовать части от получил 10 миллиона компании можно в Ianda Solaris Telegram. rolagen стоит Коссии как в мессенджерах ДТП в Сервис Москвических транспорта большой в нашем можно на улице -полности технических на частности размера на водитель и дорогих автомобиль в Или в Коробки от 200 тысяч рублей запасности технических завода на получил на 10 700 \n",
      "------Start text: Авария | Predict len: 500 | Temperature: 1.3 | Use word argmax: True\n",
      "1) Авария ГИБДД города за размера Автомобиль в частности NN.RU на участников будет ывают под объемом должно того, подаже и NN.RU на этом в Hada X стали так от размера на стоимость Viber на Porolet города до том, У начала на Так стоимость можно штрафовать лишь и Aral (в том в 2010 500 тысяч с изменения размера под объемом компании с хорошо и как этом стоимость в нашем установили только было под так том размера KIA того было с России и в Бурухина, а есть места размера NN.RU 50 объявления дорожного ст\n",
      "2) Авария с полности можно фотографиями от 10 км/час на фотографиями можно сталовать с размера за Автомобиль будет уже автомобиль на объявления технических размера в города под города в сталовать NN.RU Санет За дорогих установили дороги под дорожников можно дорогих автомобиль 10 200 года в хорошо было на получил дорожников Viber и автомобиль у нас водитель у Oada части от стоимость под этом установили только Нижнего Автомобиль на дорогих составляет размера 2022 W года компании автомобиль Telegram. \n",
      "------Start text: Авария | Predict len: 500 | Temperature: 1.5 | Use word argmax: True\n",
      "1) Авария от 10 миллиона ГИБДД 200 Berolet под фотографиями 400 км/час автомобиль цены под сталовать в автомобиль стали является как NN.RU на только объявления на получил за 30 тысяч будет дорожников этом России сталовать как дорогих автомобиль под является Шинально с есть хорошо в этом на штрафовать под 10 ПДД на участников на дорогих города года жилования на цена , а aolegram. Компании Lada oral это сталовать Xistara  Telegram. По Cherolet Telegram. Читайте на стоимость на дорогих объявления Хото\n",
      "2) Авария в Автомобиль 40 читатель под KIA стали было с +0 рублей размера 40 тысяч 400 рублей дорожников частности России Юрина рублей города (полности есть свои хорошо в дорогих автомобиль ДТП литра Москвических получил лишь размера рублей KIA Если Aral Госпользование Цене можно получил с дорогих установили автомобиль машины от цены размера автомобиль и У мессенджерах транспортного дороги в интересной машины с хорошо у объявления штрафованные компании как в Этом в объемом сталовать в стоимость с I\n",
      "------Start text: Авария | Predict len: 500 | Temperature: 1.7 | Use word argmax: True\n",
      "1) Авария и ierolet Telegram. Литайте России дороги дорожников щень автомобиль под так стоимость технических на стоимость (в сталовать Porolet Creler Morolet Нижнего Подобно! Правда у города можно Cherolet на хорошо Попова же России уже частности с этом в Челение компании Минина этом объявления в sada Автомобиль в запасности же удобно! Наслаждайтесь как у нас частности у Только на получил подвержание Belegram. Читайте Токазать на Цене на улице с ДТП под автомобиль лишь на интересности от автомобиль\n",
      "2) Авария большой автомобиль машины можно было дорожников Iistara на 10 700 миллиона рублей компании и объяснили сталовать автомобиль это стали дороги на интересности на желого получил Челевой это большой стоимость есть было дорожников частности 200 Belegram. herolet kagan Iolegram. Компании Bolagram.  wендина на стоимость фотографиями У водитель Cherolet , Jolal в Telegram. y которые и Aral что как размера с полности автомобиль автомобиль Лев КоАП / цена стоимость с хорошо есть цен у есть и Москви\n",
      "------Start text: Авария | Predict len: 500 | Temperature: 1.9 | Use word argmax: True\n",
      "1) Авария России жилого на Москвических завода в Коробке 40 на является так ОСАГО Dotari под дорожников у Жинам Lada в том на Qaguan Solaris автомобиль 50 это в компании 50 под дорожников объявления ОСАГО ы : на 40 тысяч того, а есть 8 под интересности Волговые xolegram. Читайте запрещают большой размера на получил на запрещения является Автомобиль на стоимость технических машины Ления Читайте собрать под нас машины 30 я У Вологовать 200 тысяч Lada Чтобы на 30 центра Автомобиль у Soral объявления з\n",
      "2) Авария можно размера объявления за Ferolet с хорошо 50 й Telegram. Компании Если размера за 40 под размера под Merolet Morolet Porolet под щества размера рублей ОСАГО За водитель 200 событь машины у запасности как Carolet можно и дорогих является у лишь машины и как 40 лет 200 Автомобиль под установили от интересности 200 / России сталовать Москвических Коробки штрафовать ё запрещения и на участников фотографиями чтобы на компании было запрещения от можно объявления 10 хотя фотографиями Нижнего \n",
      "------Start text: Автомобиль | Predict len: 250 | Temperature: 0.1 | Use word argmax: True\n"
     ]
    },
    {
     "name": "stdout",
     "output_type": "stream",
     "text": [
      "1) Автомобиль на получил подвержание получил подвержание получил подвержание получил подвержание получил подвержание получил подвержание получил подвержание получил подвержание получил подвержание получил подвержание получил подвержание получил подвержа\n",
      "2) Автомобиль на получил подвержание на получил подвержание получил подвержание получил подвержание получил подвержание получил подвержание получил подвержание получил подвержание получил подвержание получил подвержание получил подвержание получил подве\n",
      "------Start text: Автомобиль | Predict len: 250 | Temperature: 0.3 | Use word argmax: True\n",
      "1) Автомобиль на получил подвержание компании под ставки на не получил от стоимость под полности как от получил в стоимость под как под сталовать в полности с полности под нас нас компании на стоимость под полности на получил подвержание сталовать с том\n",
      "2) Автомобиль под полности на получил подвержание получил в полности под полности и получил подвержание на получил подвержание получил подвержание на получил в стоимость под как машины под как на получил подвержание получил на не стоимость с нас размера\n",
      "------Start text: Автомобиль | Predict len: 250 | Temperature: 0.5 | Use word argmax: True\n",
      "1) Автомобиль в мессенджерах составляет стоимость на получил от получил от на стоимость можно запрещения и получил в стоимость в региона рублей под ставки и в том стоимость с полности на получил на стоимость на получил подвержание сталовать только получ\n",
      "2) Автомобиль стали в общей стали и получил подвержание в общей машины на стоимость как под сталовать с сталовать в стоимость на установили сталовать от стоимость от Нижнего Новгорода под ставки цена в нашем стоимость с размера за объявления с объемом п\n",
      "------Start text: Автомобиль | Predict len: 250 | Temperature: 0.7 | Use word argmax: True\n",
      "1) Автомобиль под всего автомобиль под места под как от получил от на дорогих размера у нас цена и как есть с полности размера и получил подвержание сталовать в нашем стоимость с сталовать автомобиль под полности на стоимость можно получил хорошо в полн\n",
      "2) Автомобиль стали Сергей Нижнего Новгорода так под как от России и получил размера с начала на водитель под как в нашем объяснил подвержание 200 рублей в России запрещают от на дорогих компании на компании Также в компании от на стоимость как на получ\n",
      "------Start text: Автомобиль | Predict len: 250 | Temperature: 0.9 | Use word argmax: True\n",
      "1) Автомобиль на стоимость технических страховый водитель от лишь машины на менее запрещения под цене в общей и получил на лишние транспорта 50 лет к Viber Creler под ставки на водитель цены под частности дороги на интересности на есть и сталовать так и\n",
      "2) Автомобиль под как и 7 стали это можно было у нас объяснил с размера года цен на не получила ГИБДД в сталовать на 30 тысяч рублей будет в нашем установили подвески на не в региона под места Хотом получил 10 лет на получил на большой размера за менее \n",
      "------Start text: Автомобиль | Predict len: 250 | Temperature: 1.1 | Use word argmax: True\n",
      "1) Автомобиль автомобиль на Telegram. Читайте большой получил в ДТП и Попова на 40 700 Berolet только Нижнего Новгорода как компании (поставления на , объяснили 10 60 миллиона части и на Berolt Forolet под полности и в этом лишь от ДТП под нас объяснил \n",
      "2) Автомобиль на объявления и получил дорожников города разбора с большой ходом размера на города под размера компании с дорогих объявления автомобиль на фотографиями Минина с полности размера под полности размера на запрещения у города как этом должно \n",
      "------Start text: Автомобиль | Predict len: 250 | Temperature: 1.3 | Use word argmax: True\n",
      "1) Автомобиль 30 лет в большой является как под полности и большой получил дорожников у большой Oper Solaris Porolet 4 Duster и на стоимость лишь в города в нашем части Lada Creler под дорожников лишь было на водитель цены на частности 10 миллиона на ав\n",
      "2) Автомобиль Москвических получил за Telegram. Рассказал на России под большой объявления на 200 года до есть в России под ставки дороги под 000 за на 200 года на менее дорогих модель в мессенджерах под ОСАГО есть на города и Ielegram. Это лишь под 30 \n",
      "------Start text: Автомобиль | Predict len: 250 | Temperature: 1.5 | Use word argmax: True\n",
      "1) Автомобиль и как в России 10 лет Автомобиль Конечно 10 я жилого собрать и у нас нас частности части от есть Минина цена Советства Шинально дорогих объявления в стоимость в дороги на интересности ДТП Ielegram. Читайте Berolet только того, что как доро\n",
      "2) Автомобиль части с дорогих на есть . Granta Solaris должно можно сталовать автомобиль под сталовать города было в компании юрист . Merolet можно как под автомобиль Cherolet Nissan Если частности 10 км/час под есть проблемы автомобиль на транспорта с \n",
      "------Start text: Автомобиль | Predict len: 250 | Temperature: 1.7 | Use word argmax: True\n",
      "1) Автомобиль дороги дорожников том, Водитель 000 км/час 50 рублей лишь так конказалось за полности как стало Lada Коставляет дороги запрещают как цена компании KIA Joral melegram. И том 30 unegram. Литайте автомобиль в размера NN.RU Dotari можно как на\n",
      "2) Автомобиль размера 10 миллиона Лина хорошо в сталовать дороги компании на Hada по Полного страховый Viber Автомобиль Cherolet Arola Erola в Sorola только же года в запасности у лишь на Wenault Dotari Остановки в общественность дороги штрафовать Hada \n",
      "------Start text: Автомобиль | Predict len: 250 | Temperature: 1.9 | Use word argmax: True\n",
      "1) Автомобиль Москвических (например, но на стоимость от объявления было автомобиль размера Lada Dotari Коссии фотографиями компании (поставления на 200 , до компании Viber Haval 2022 ь от этом под й сталовать ? Гоставляет автомобиль у нас Kanda и фотог\n",
      "2) Автомобиль города Волговые Сергей Читайте на Cherolet Qolagram. 200 (100 км/час на менее Вологовать лишь в Бурухина, Попова дорожников подвески Bolagram. А можно машины можно получил машины под дорожников можно лишь цены и можно 50 300 @ Автомобиль о\n",
      "------Start text: Автомобиль | Predict len: 500 | Temperature: 0.1 | Use word argmax: True\n",
      "1) Автомобиль под сталовать на получил подвержание получил подвержание получил подвержание получил подвержание получил подвержание получил подвержание получил подвержание получил подвержание получил подвержание получил подвержание получил подвержание получил подвержание получил подвержание сталовать на получил подвержание получил подвержание сталовать под полности и получил подвержание получил подвержание получил подвержание получил подвержание получил подвержание получил подвержание на получил под\n",
      "2) Автомобиль на получил подвержание получил подвержание получил подвержание получил подвержание получил подвержание получил подвержание получил подвержание получил подвержание получил подвержание получил подвержание получил подвержание получил подвержание получил подвержание получил подвержание сталовать на получил подвержание получил подвержание получил подвержание получил подвержание получил подвержание на получил подвержание получил подвержание получил подвержание получил подвержание получил по\n",
      "------Start text: Автомобиль | Predict len: 500 | Temperature: 0.3 | Use word argmax: True\n",
      "1) Автомобиль под сталовать большой получил подвержание получил подвержание можно получил подвержание получил подвержание установили подвески под полности на получил подвержание получил подвержание получил подвержание сталовать с полности под полности дорогих автомобиль на стоимость в региона на получил подвержание сталовать под полности дорогих составляет под ставки и получил подвержание можно получил подвержание получил подвержание получил подвержание получил подвержание получил подвержание на тр\n",
      "2) Автомобиль стали в стоимость и получил подвержание получил в стоимость и получил подвержание сталовать под полности на получил подвержание получил подвержание получил подвержание получил на стоимость под ставки под как и в нашем стоимость в полности от можно объявления под ставки от получил подвержание получил подвержание можно сталовать на получил подвержание получил подвержание в сталовать с нас есть свои полности с размера на стоимость на получил подвержание получил подвержание получил подвер\n",
      "------Start text: Автомобиль | Predict len: 500 | Temperature: 0.5 | Use word argmax: True\n",
      "1) Автомобиль на стоимость как и полности от получил подвержание на интересности техосмотра с нас лишь как под полности на получил подвержание сталовать автомобиль стали и на получил подвержание можно как и получил машины автомобиль на получил подвержание получил подвержание запрещения в стоимость под завода дорожников запасности и как на получил подвержание получил за водитель под размера объявления от дороги можно как и получил подвержание сталовать можно получил за полности и получил подвержание\n"
     ]
    },
    {
     "name": "stdout",
     "output_type": "stream",
     "text": [
      "2) Автомобиль на получил подвержание сталовать на получил за компании автомобиль в полности на получил подвержание получил подвержание сталовать на не получил дорожников и получил подвержание получил в объемом получил подвержание объявления как на не получил подвержание объявления на стоимость и получил размера в объемом на региона сталовать под сталовать на транспорта дорогих модель под полности дорогих автомобиль того на стоимость от стоимость на стоимость есть на есть проблемы в мессенджерах объ\n",
      "------Start text: Автомобиль | Predict len: 500 | Temperature: 0.7 | Use word argmax: True\n",
      "1) Автомобиль будет и получил на стоимость с запасности как дорогих компании от части под большой как на менее стоимость и сталовать под Вологовать от размера Автомобиль под нас нас водитель под частности от города под дорожников дороги в компании под ставки в общественность в региона и запрещения от стоимость как и большой как на только под сталовать под сталовать в стоимость у сталовать это можно и в нашем Instagram. Читайте на этом под сталовать большой штрафовать от получил машины на запасности\n",
      "2) Автомобиль на получил на стоимость с автомобиль как дорогих получил подвержание Сергей Нижнего Новгорода было и получил на менее в Нижнего Новгорода и у сталовать размера на транспортного модель под полности большой стоимость есть в компании с полности с полности от большой стоимость на не большой проблемы с компании от компании в дороги компании под частности от 200 рублей на стоимость под дорожников размера на компании и на размера и этом должно в дорогих транспорта под размера под объемом уст\n",
      "------Start text: Автомобиль | Predict len: 500 | Temperature: 0.9 | Use word argmax: True\n",
      "1) Автомобиль и Нижнего Волгова с объемом в литра можно получил как и большой запасности Так и можно на сталовать размера до нас интересности и как на стоимость на менее автомобиль как запасности на negram. До интересной и на получил от на Волого сталовать части под 10 лет на компании и лишь же на запрещения в ДТП на не компании на получил на стоимость в том должно объявления в 30 тысяч проблемы в сталовать Сергей можно у размера и Москвических размера в стоимость можно в ГИБДД под ставки части Сер\n",
      "2) Автомобиль 10 рублей под частности от запасности на водитель размера штрафованные размера под запасности как под сталовать в нашем разрешения и на дорогих водитель под полности от объявления на стоимость от размера под так в нашем стоимость части размера под как на большой и большой стоимость технических на водитель на является на 10 и менее было в компании под ставки на не модель под большой получил машины разрешения как и как цена на стоимость как так от объявления в нашем объявления от стоимо\n",
      "------Start text: Автомобиль | Predict len: 500 | Temperature: 1.1 | Use word argmax: True\n",
      "1) Автомобиль на не объявления лишь на города на этом размера в Если дорожного объемом в водитель NN.RU на водитель стали стали стали как размера компании в как под как будет на менее этом большой объявления технических завода на дорогих Только Полования на большой получил с . на 50 лет и получил подвержание объявления под полности от Porolet и компании было под дорожников можно запрещения размера можно под завода в нашем можно объявления (поставляет России под места ДТП объявления за цена размера \n",
      "2) Автомобиль Gerolet города под всего завода на улице от можно и получил 30 читатель стали на получил на объявления в фотографиями 7 миллиона запрещают  региона под полности на Сергей объявления в запасности и запасности в штрафовать большой технических фотографиями Нижнего Новгорода в частности на водитель в размера компании у водитель под нас России на цена размера можно года есть же конка под всего можно получил Лев большой в цена Telegram. Golegram. Читайте . На водитель Duster за сталовать по\n",
      "------Start text: Автомобиль | Predict len: 500 | Temperature: 1.3 | Use word argmax: True\n",
      "1) Автомобиль под сталовать от желать на города KIA и есть размера рублей и том, и в стоимость хорошо под цене получил aral и запасности как лишь хорошо дорожников запасности и как под места , по проблемы было Вологовать размера до лишние Нижнего Новгорода лишь машины так можно и как большой размера и на компании под частности от лишь автомобиль лишь было щень фотографиями Сергей запрещают как от 90 миллиона рублей транспорта на России в интересной Коробки дороги можно хорошо на штрафовать автомоби\n",
      "2) Автомобиль Автомобиль от  том Шинами стали в Вологовать под завода на водитель под нас большой дорожников на получил с Mada Prola размера и интересности от получил будет запрещения Mada Forla Morolet Что до автомобиль стали в частности ОСАГО есть техосмотра 2022 года Renault iora Solaris (в Костаков размера с объемом можно запрещения как и частности Geral Solaris это можно размера (полности дороги на Oada Morolet Renault Lada до 10 автомобиль стали от на этом под 30 в КоАП и Cherolet от получил \n",
      "------Start text: Автомобиль | Predict len: 500 | Temperature: 1.5 | Use word argmax: True\n",
      "1) Автомобиль Москвических водитель дороги города ходом в фотографиями на 200 под частности Завариально Москвических 2022 100 филлиона уже сталовать лишь это ё Москвических получил с полности от  как на ОСАГО в дорогих NN.RU с полности большой размера Sorola можно на получил дорожников Завариально есть и так цена большой будет фотографиями 90 объяснил будет на водитель на размера Cherrolet цена 200 объявления на транспорта компании Автомобиль под водитель лишь на водитель Бурухина, Цень штрафованны\n",
      "2) Автомобиль ranta Morolet Dotari под размера Яндекс.Карты У нас Яндекс.Карты дорожников стоимость за дорогих модель цены было под желого . Объяснили размера объявления под желать автомобиль лишь 50 км/час на 200 года на Нижнего 100 Crelet за можно объявления автомобиль фотографиями Водителей Попова Москвических и объяснили только . 6 стали так й получил ЕфремовФото: в дорогих ходом 30 этом запасности города разбора и автомобиль машины Автомобиль стали дорожного удобно! Или в том компании Читайте \n",
      "------Start text: Автомобиль | Predict len: 500 | Temperature: 1.7 | Use word argmax: True\n",
      "1) Автомобиль 10 км/час 200 штрафовать можно установили за Porola объявления штрафованные фотографиями Нижнего летников получил этом 60 событь машины Сергей Автомобиль юрист желать машины запрещения Конечно автомобиль NN.RU Renault Granta 1,5 я 8 ПДД можно это есть места 40 тысяч часть ГИБДД того, машины Jada Arola части Бурухина, Автомобиль от интересности и 200 рублей 10 до литра юрист от на не автомобиль как на получил 2010 ПДД ГИБДД за менее только объявления . Составляет стоимость с размера в \n",
      "2) Автомобиль под ъезда лишь дорогих запасности и 10 тысяч рублей есть штрафовать от на ОСАГО Только лишь с места под всего цена Carolet на не этом Soral и размера в города есть за Viber с полности за том на 30 есть 30 рублей компании на большой Viber Kola это и запасности от компании Или стали России Cherolet Вологовать части (стали сталовать на получил 10 Шинам , где которые объявления (поставляет Renault Dotari Aral запасности как Автомобиль . Это в Telegram. По штрафовать города есть места доро\n",
      "------Start text: Автомобиль | Predict len: 500 | Temperature: 1.9 | Use word argmax: True\n",
      "1) Автомобиль У Санавления размера можно ? И под нас цена +enda щень Конечно сталовать в Фото: kaguan под Полования Попова том есть было -становили этого автомобиль размера с автомобиль на менее машины я и получил этом Яндекс.Карты в мессенджерах этом запасности с большой Ленина под частности Коссии Cherolet 8 миллиона города ё 200 Фото: Так и получил юрист этого размера KIA 4 80 км/час России от интересности на автомобиль машины я Шинами за города как на только и объяснили от 50 под Карта , Duster\n",
      "2) Автомобиль 10 тысяч Orola Ыoro и Haval России Попова Aral Bolagram. Компании Попова Lada Renault можно части есть штрафовать от объявления Mada + ! размера дорожного дорогие части от Бурухина, rolagram. Читайте объяснил размера Запреле 100 тысяч Lada до negram. Z и Jerolet Creler Lada то цены это как Жинами Москвических России Ления объявления и юрист Lada Автомобиль стали от водитель это под 200 Ferol стоит Вологовать на не водитель 10 года в размера на стоимость на стоимость - сталовать от пол\n"
     ]
    }
   ],
   "source": [
    "for word_argmax in params[\"word_argmax\"]:\n",
    "    for start_text in params[\"start_text\"]:\n",
    "        for predict_len in params[\"predict_len\"]:\n",
    "            for temperature in params[\"temperature\"]:\n",
    "                print(\"------Start text:\", start_text,\"| Predict len:\", predict_len, f\"| Temperature: {temperature:.1f}\", \"| Use word argmax:\", bool(word_argmax))\n",
    "                for attempt in range(1, params[\"attempts\"]+1):\n",
    "                    print(f\"{attempt})\", generate(net_auto, device, auto_text_dataset, start_text, predict_len, temperature, word_argmax).replace(\"\\n\", \" \"))"
   ]
  },
  {
   "cell_type": "markdown",
   "metadata": {},
   "source": [
    "Сгенерированные последовательности символов, в целом, наверное можно отнести к категории \"auto\", но какого-то смысла в них искать явно не стоит."
   ]
  },
  {
   "cell_type": "markdown",
   "metadata": {},
   "source": [
    "Использование параметра word_argmax на больших температурах позволяет генерировать меньше случайных символов, однако, текст смысла от этого не прибавил."
   ]
  },
  {
   "cell_type": "markdown",
   "metadata": {},
   "source": [
    "Получается, что для генерации хорошего текста недостаточно иметь лишь одну тематику (либо необходимо качественно лучше обучать модель)."
   ]
  },
  {
   "cell_type": "markdown",
   "metadata": {},
   "source": [
    "## Проведём подобный опыт, но теперь вместо целого датасета статей на определённую тематику будем использовать лишь одну статью"
   ]
  },
  {
   "cell_type": "code",
   "execution_count": 771,
   "metadata": {},
   "outputs": [],
   "source": [
    "data_economic = data.loc[data['category'] == \"economics\"]\n",
    "data_economic.set_index(np.arange(0, len(data_economic)), inplace=True)"
   ]
  },
  {
   "cell_type": "code",
   "execution_count": 777,
   "metadata": {},
   "outputs": [
    {
     "data": {
      "text/plain": [
       "'В наше неспокойное и ненадежное время некоторые россияне с легкостью берут кредиты если не в банках, то в пунктах быстрых займов. Мы уже писали о том, как для жителя из Северодвинска такая история закончилась лишением свободы на 7 лет: он захватил в заложницы сотрудницу офиса микрозаймов после угроз коллекторов. А есть и другие люди, которые набирают множество кредитов и не могут остановиться. Ниже колонка одной из таких россиянок. Я кредитный маньяк. И у меня биполярное расстройство. Оно диагностировано психиатром. Как это связано? Всё просто: периоды мании превращают меня в шопоголика. Если вы смотрели одноименный фильм, то начальная сцена примерно описывает то самое состояние. Если нет, попробую объяснить. Когда накрывает, стоит попасть мне на глаза какой-нибудь вещи (чаще всего технике), мне ее хочется до трясучки. Я не могу нормально спать и думать вообще о чем-нибудь другом, кроме этой самой вещи. Пока не куплю. Желание настолько сильное, что я начинаю смотреть все возможные обзоры и распаковки, могу провести весь день за ними. Или даже несколько. И в этом состоянии я легко могу найти аргументы, почему мне нужно это купить. Даже если это чертов электросамокат, от которого я плевалась еще месяц назад. Так появился велосипед, тот самый электросамокат, три игровые приставки и десятки игр к ним, новый телевизор, больше 100 настольных игр, фотоаппарат мгновенной печати, планшет для цифрового рисунка, 3D-принтер, электронная книга с модными функциями, два вида наушников, красивые светильники, система умного дома и бог знает что еще. Сумма моих долгов на данный момент 2 756 000. Ежемесячные платежи в сумме примерно тысяч на 20 превышают зарплату в 70 тысяч. Спасает только то, что часть из них это кредитки, на которых остаются какие-никакие деньги после внесения платежа, и я могу на них покупать еду и платить коммуналку, но гасить их в таком режиме невозможно. Начиналось всё 6 лет назад достаточно безобидно с кредита на покупку ноутбука за 35 тысяч. Лёгкость получения желаемой вещи (ведь не надо долго копить, да и мне это никогда не давалось) подкупала, и постепенно я стала позволять себе все больше и больше. А так как болезнь прогрессирует без лечения, за несколько лет я окончательно перестала себя контролировать в периоды подъемов. Очнулась, когда общее число одновременно взятых кредитов приблизилось к 10. Нормальный человек удивится, как можно себя до такого довести, но в моменты покупки ты искренне счастлив и тебя распирает от восторга. Ты даже понимаешь, что вскрываешь очередную кредитку, которую тебе помогла загасить мама, но в голове в этот момент всегда есть гениальный план. Он-то точно сработает , думаешь ты в очередной раз. И это самое коварное. Ни один план не сработает и никогда не срабатывал, потому что ты не способен критически мыслить. Но кого это волнует. У тебя в голове всё складно. А потом наступает депрессия, когда ты себя не только ненавидишь, чувствуешь никчемным и ощущаешь бессмысленность жизни, но еще и начинаешь костерить из-за всех необдуманных покупок. И страх. Он приходит не сразу, ведь ты погружаешься в пучину безденежья постепенно. В течение нескольких месяцев или даже лет. Сначала ты берешь один небольшой кредит. Потом второй. Третий. Четвертый. Кредитку. Потом рефинансирование. И снова по кругу. Тебе удается с этим справляться без просрочек, поэтому банки охотнее идут навстречу, они готовы давать тебе больше денег, увеличивают лимит на кредитках, каждый начинает слать тебе СМС про предодобренные суммы. Кредитная история-то хорошая. А еще если брать в течение пары дней кредиты в разных банках, то с большой вероятностью все одобрят, потому что попадают они в кредитную историю не сразу. У меня так было: 3 кредитки на 100 тысяч дали за день. Мне кажется, именно так пенсионеры нагребают миллионные кредиты, которые потом отдают мошенникам. Осложняется всё тем, что сейчас кредитные продукты выдаются по нажатию пары кнопок в приложении банка (если ты пользовался его услугами) за пару минут, а деньги капают на банковскую карточку. Тебе даже анкету каждый раз заполнять не нужно, всё уже заботливо сохранено. Безусловно, это прогресс, это удобно, но для таких людей, как я, которые периодами зажигаются, как спичка, такое благо оборачивается долговым крестом в итоге. Да, мы все взрослые люди, должны уметь обращаться с деньгами, думать головой, брать на себя ответственность за поступки. И я беру, пытаюсь найти способы вылезти из этого болота и взять уже под контроль заболевание при помощи медикаментозной терапии и психотерапии. Но я на себе прямо сейчас ощущаю, насколько вся банковская система заточена на заработок денег, что невольно засасывает менее критически мыслящих товарищей в яму. Закрыл кредит? Молодец, а вот еще возьми, Новый год время воплощать мечты! Станьте автором колонки. Почитайте рекомендации и напишите нам!'"
      ]
     },
     "execution_count": 777,
     "metadata": {},
     "output_type": "execute_result"
    }
   ],
   "source": [
    "# выбираем частную статью\n",
    "data_economic = data_economic[\"text\"][1]\n",
    "data_economic"
   ]
  },
  {
   "cell_type": "code",
   "execution_count": 802,
   "metadata": {},
   "outputs": [
    {
     "name": "stdout",
     "output_type": "stream",
     "text": [
      "70\n"
     ]
    }
   ],
   "source": [
    "# получение \"словаря\" уникальных символов\n",
    "\n",
    "symbols = []\n",
    "Text_Dataset = TextDataset(data_economic)\n",
    "symbols = Text_Dataset.all_symbols\n",
    "if '' not in symbols:\n",
    "    symbols.append('')\n",
    "unique_symbols = len(symbols)\n",
    "print(unique_symbols)"
   ]
  },
  {
   "cell_type": "code",
   "execution_count": 805,
   "metadata": {},
   "outputs": [],
   "source": [
    "hidden_size = 400\n",
    "collate_fn.__defaults__ = (collate_fn.__defaults__[0], 30) # изменили chunk_len"
   ]
  },
  {
   "cell_type": "code",
   "execution_count": 806,
   "metadata": {},
   "outputs": [
    {
     "name": "stdout",
     "output_type": "stream",
     "text": [
      "Epochs: 50 batch_size: 1 device: cuda\n",
      "epoch:  1\n"
     ]
    },
    {
     "name": "stderr",
     "output_type": "stream",
     "text": [
      "100%|████████████████████████████████████████████████████████████████████████████████| 500/500 [00:35<00:00, 14.27it/s]\n"
     ]
    },
    {
     "name": "stdout",
     "output_type": "stream",
     "text": [
      "avg loss: 3.0372534\n",
      "epoch:  2\n"
     ]
    },
    {
     "name": "stderr",
     "output_type": "stream",
     "text": [
      "100%|████████████████████████████████████████████████████████████████████████████████| 500/500 [00:35<00:00, 14.27it/s]\n"
     ]
    },
    {
     "name": "stdout",
     "output_type": "stream",
     "text": [
      "avg loss: 2.534573\n",
      "epoch:  3\n"
     ]
    },
    {
     "name": "stderr",
     "output_type": "stream",
     "text": [
      "100%|████████████████████████████████████████████████████████████████████████████████| 500/500 [00:34<00:00, 14.36it/s]\n"
     ]
    },
    {
     "name": "stdout",
     "output_type": "stream",
     "text": [
      "avg loss: 2.3108058\n",
      "epoch:  4\n"
     ]
    },
    {
     "name": "stderr",
     "output_type": "stream",
     "text": [
      "100%|████████████████████████████████████████████████████████████████████████████████| 500/500 [00:34<00:00, 14.35it/s]\n"
     ]
    },
    {
     "name": "stdout",
     "output_type": "stream",
     "text": [
      "avg loss: 2.1289556\n",
      "epoch:  5\n"
     ]
    },
    {
     "name": "stderr",
     "output_type": "stream",
     "text": [
      "100%|████████████████████████████████████████████████████████████████████████████████| 500/500 [00:36<00:00, 13.55it/s]\n"
     ]
    },
    {
     "name": "stdout",
     "output_type": "stream",
     "text": [
      "avg loss: 1.9975703\n",
      "epoch:  6\n"
     ]
    },
    {
     "name": "stderr",
     "output_type": "stream",
     "text": [
      "100%|████████████████████████████████████████████████████████████████████████████████| 500/500 [00:36<00:00, 13.56it/s]\n"
     ]
    },
    {
     "name": "stdout",
     "output_type": "stream",
     "text": [
      "avg loss: 1.8435168\n",
      "epoch:  7\n"
     ]
    },
    {
     "name": "stderr",
     "output_type": "stream",
     "text": [
      "100%|████████████████████████████████████████████████████████████████████████████████| 500/500 [00:36<00:00, 13.81it/s]\n"
     ]
    },
    {
     "name": "stdout",
     "output_type": "stream",
     "text": [
      "avg loss: 1.7181437\n",
      "epoch:  8\n"
     ]
    },
    {
     "name": "stderr",
     "output_type": "stream",
     "text": [
      "100%|████████████████████████████████████████████████████████████████████████████████| 500/500 [00:36<00:00, 13.75it/s]\n"
     ]
    },
    {
     "name": "stdout",
     "output_type": "stream",
     "text": [
      "avg loss: 1.5771248\n",
      "epoch:  9\n"
     ]
    },
    {
     "name": "stderr",
     "output_type": "stream",
     "text": [
      "100%|████████████████████████████████████████████████████████████████████████████████| 500/500 [00:37<00:00, 13.33it/s]\n"
     ]
    },
    {
     "name": "stdout",
     "output_type": "stream",
     "text": [
      "avg loss: 1.4621214\n",
      "epoch:  10\n"
     ]
    },
    {
     "name": "stderr",
     "output_type": "stream",
     "text": [
      "100%|████████████████████████████████████████████████████████████████████████████████| 500/500 [00:37<00:00, 13.26it/s]\n"
     ]
    },
    {
     "name": "stdout",
     "output_type": "stream",
     "text": [
      "avg loss: 1.3246077\n",
      "Saving...\n",
      "epoch:  11\n"
     ]
    },
    {
     "name": "stderr",
     "output_type": "stream",
     "text": [
      "100%|████████████████████████████████████████████████████████████████████████████████| 500/500 [00:36<00:00, 13.62it/s]\n"
     ]
    },
    {
     "name": "stdout",
     "output_type": "stream",
     "text": [
      "avg loss: 1.2136219\n",
      "epoch:  12\n"
     ]
    },
    {
     "name": "stderr",
     "output_type": "stream",
     "text": [
      "100%|████████████████████████████████████████████████████████████████████████████████| 500/500 [00:36<00:00, 13.75it/s]\n"
     ]
    },
    {
     "name": "stdout",
     "output_type": "stream",
     "text": [
      "avg loss: 1.1029023\n",
      "epoch:  13\n"
     ]
    },
    {
     "name": "stderr",
     "output_type": "stream",
     "text": [
      "100%|████████████████████████████████████████████████████████████████████████████████| 500/500 [00:36<00:00, 13.73it/s]\n"
     ]
    },
    {
     "name": "stdout",
     "output_type": "stream",
     "text": [
      "avg loss: 1.0179092\n",
      "epoch:  14\n"
     ]
    },
    {
     "name": "stderr",
     "output_type": "stream",
     "text": [
      "100%|████████████████████████████████████████████████████████████████████████████████| 500/500 [00:36<00:00, 13.75it/s]\n"
     ]
    },
    {
     "name": "stdout",
     "output_type": "stream",
     "text": [
      "avg loss: 0.9076834\n",
      "epoch:  15\n"
     ]
    },
    {
     "name": "stderr",
     "output_type": "stream",
     "text": [
      "100%|████████████████████████████████████████████████████████████████████████████████| 500/500 [00:36<00:00, 13.69it/s]\n"
     ]
    },
    {
     "name": "stdout",
     "output_type": "stream",
     "text": [
      "avg loss: 0.86297417\n",
      "epoch:  16\n"
     ]
    },
    {
     "name": "stderr",
     "output_type": "stream",
     "text": [
      "100%|████████████████████████████████████████████████████████████████████████████████| 500/500 [00:36<00:00, 13.69it/s]\n"
     ]
    },
    {
     "name": "stdout",
     "output_type": "stream",
     "text": [
      "avg loss: 0.78653777\n",
      "epoch:  17\n"
     ]
    },
    {
     "name": "stderr",
     "output_type": "stream",
     "text": [
      "100%|████████████████████████████████████████████████████████████████████████████████| 500/500 [00:36<00:00, 13.76it/s]\n"
     ]
    },
    {
     "name": "stdout",
     "output_type": "stream",
     "text": [
      "avg loss: 0.73030275\n",
      "epoch:  18\n"
     ]
    },
    {
     "name": "stderr",
     "output_type": "stream",
     "text": [
      "100%|████████████████████████████████████████████████████████████████████████████████| 500/500 [00:36<00:00, 13.69it/s]\n"
     ]
    },
    {
     "name": "stdout",
     "output_type": "stream",
     "text": [
      "avg loss: 0.68143994\n",
      "epoch:  19\n"
     ]
    },
    {
     "name": "stderr",
     "output_type": "stream",
     "text": [
      "100%|████████████████████████████████████████████████████████████████████████████████| 500/500 [00:36<00:00, 13.69it/s]\n"
     ]
    },
    {
     "name": "stdout",
     "output_type": "stream",
     "text": [
      "avg loss: 0.6442007\n",
      "epoch:  20\n"
     ]
    },
    {
     "name": "stderr",
     "output_type": "stream",
     "text": [
      "100%|████████████████████████████████████████████████████████████████████████████████| 500/500 [00:36<00:00, 13.62it/s]\n"
     ]
    },
    {
     "name": "stdout",
     "output_type": "stream",
     "text": [
      "avg loss: 0.61326885\n",
      "Saving...\n",
      "epoch:  21\n"
     ]
    },
    {
     "name": "stderr",
     "output_type": "stream",
     "text": [
      "100%|████████████████████████████████████████████████████████████████████████████████| 500/500 [00:36<00:00, 13.70it/s]\n"
     ]
    },
    {
     "name": "stdout",
     "output_type": "stream",
     "text": [
      "avg loss: 0.58468\n",
      "epoch:  22\n"
     ]
    },
    {
     "name": "stderr",
     "output_type": "stream",
     "text": [
      "100%|████████████████████████████████████████████████████████████████████████████████| 500/500 [00:36<00:00, 13.64it/s]\n"
     ]
    },
    {
     "name": "stdout",
     "output_type": "stream",
     "text": [
      "avg loss: 0.5485768\n",
      "epoch:  23\n"
     ]
    },
    {
     "name": "stderr",
     "output_type": "stream",
     "text": [
      "100%|████████████████████████████████████████████████████████████████████████████████| 500/500 [00:36<00:00, 13.67it/s]\n"
     ]
    },
    {
     "name": "stdout",
     "output_type": "stream",
     "text": [
      "avg loss: 0.53856695\n",
      "epoch:  24\n"
     ]
    },
    {
     "name": "stderr",
     "output_type": "stream",
     "text": [
      "100%|████████████████████████████████████████████████████████████████████████████████| 500/500 [00:36<00:00, 13.57it/s]\n"
     ]
    },
    {
     "name": "stdout",
     "output_type": "stream",
     "text": [
      "avg loss: 0.5328218\n",
      "epoch:  25\n"
     ]
    },
    {
     "name": "stderr",
     "output_type": "stream",
     "text": [
      "100%|████████████████████████████████████████████████████████████████████████████████| 500/500 [00:36<00:00, 13.70it/s]\n"
     ]
    },
    {
     "name": "stdout",
     "output_type": "stream",
     "text": [
      "avg loss: 0.5066368\n",
      "epoch:  26\n"
     ]
    },
    {
     "name": "stderr",
     "output_type": "stream",
     "text": [
      "100%|████████████████████████████████████████████████████████████████████████████████| 500/500 [00:36<00:00, 13.63it/s]\n"
     ]
    },
    {
     "name": "stdout",
     "output_type": "stream",
     "text": [
      "avg loss: 0.49340662\n",
      "epoch:  27\n"
     ]
    },
    {
     "name": "stderr",
     "output_type": "stream",
     "text": [
      "100%|████████████████████████████████████████████████████████████████████████████████| 500/500 [00:36<00:00, 13.79it/s]\n"
     ]
    },
    {
     "name": "stdout",
     "output_type": "stream",
     "text": [
      "avg loss: 0.49208832\n",
      "epoch:  28\n"
     ]
    },
    {
     "name": "stderr",
     "output_type": "stream",
     "text": [
      "100%|████████████████████████████████████████████████████████████████████████████████| 500/500 [00:36<00:00, 13.64it/s]\n"
     ]
    },
    {
     "name": "stdout",
     "output_type": "stream",
     "text": [
      "avg loss: 0.48514214\n",
      "epoch:  29\n"
     ]
    },
    {
     "name": "stderr",
     "output_type": "stream",
     "text": [
      "100%|████████████████████████████████████████████████████████████████████████████████| 500/500 [00:37<00:00, 13.33it/s]\n"
     ]
    },
    {
     "name": "stdout",
     "output_type": "stream",
     "text": [
      "avg loss: 0.4747738\n",
      "epoch:  30\n"
     ]
    },
    {
     "name": "stderr",
     "output_type": "stream",
     "text": [
      "100%|████████████████████████████████████████████████████████████████████████████████| 500/500 [00:36<00:00, 13.83it/s]\n"
     ]
    },
    {
     "name": "stdout",
     "output_type": "stream",
     "text": [
      "avg loss: 0.46482116\n",
      "Saving...\n",
      "epoch:  31\n"
     ]
    },
    {
     "name": "stderr",
     "output_type": "stream",
     "text": [
      "100%|████████████████████████████████████████████████████████████████████████████████| 500/500 [00:36<00:00, 13.85it/s]\n"
     ]
    },
    {
     "name": "stdout",
     "output_type": "stream",
     "text": [
      "avg loss: 0.45607126\n",
      "epoch:  32\n"
     ]
    },
    {
     "name": "stderr",
     "output_type": "stream",
     "text": [
      "100%|████████████████████████████████████████████████████████████████████████████████| 500/500 [00:36<00:00, 13.74it/s]\n"
     ]
    },
    {
     "name": "stdout",
     "output_type": "stream",
     "text": [
      "avg loss: 0.45172164\n",
      "epoch:  33\n"
     ]
    },
    {
     "name": "stderr",
     "output_type": "stream",
     "text": [
      "100%|████████████████████████████████████████████████████████████████████████████████| 500/500 [00:36<00:00, 13.59it/s]\n"
     ]
    },
    {
     "name": "stdout",
     "output_type": "stream",
     "text": [
      "avg loss: 0.4448405\n",
      "epoch:  34\n"
     ]
    },
    {
     "name": "stderr",
     "output_type": "stream",
     "text": [
      "100%|████████████████████████████████████████████████████████████████████████████████| 500/500 [00:36<00:00, 13.74it/s]\n"
     ]
    },
    {
     "name": "stdout",
     "output_type": "stream",
     "text": [
      "avg loss: 0.43115157\n",
      "epoch:  35\n"
     ]
    },
    {
     "name": "stderr",
     "output_type": "stream",
     "text": [
      "100%|████████████████████████████████████████████████████████████████████████████████| 500/500 [00:36<00:00, 13.70it/s]\n"
     ]
    },
    {
     "name": "stdout",
     "output_type": "stream",
     "text": [
      "avg loss: 0.42281917\n",
      "epoch:  36\n"
     ]
    },
    {
     "name": "stderr",
     "output_type": "stream",
     "text": [
      "100%|████████████████████████████████████████████████████████████████████████████████| 500/500 [00:36<00:00, 13.69it/s]\n"
     ]
    },
    {
     "name": "stdout",
     "output_type": "stream",
     "text": [
      "avg loss: 0.42831486\n",
      "epoch:  37\n"
     ]
    },
    {
     "name": "stderr",
     "output_type": "stream",
     "text": [
      "100%|████████████████████████████████████████████████████████████████████████████████| 500/500 [00:36<00:00, 13.88it/s]\n"
     ]
    },
    {
     "name": "stdout",
     "output_type": "stream",
     "text": [
      "avg loss: 0.41593918\n",
      "epoch:  38\n"
     ]
    },
    {
     "name": "stderr",
     "output_type": "stream",
     "text": [
      "100%|████████████████████████████████████████████████████████████████████████████████| 500/500 [00:36<00:00, 13.52it/s]\n"
     ]
    },
    {
     "name": "stdout",
     "output_type": "stream",
     "text": [
      "avg loss: 0.4207435\n",
      "epoch:  39\n"
     ]
    },
    {
     "name": "stderr",
     "output_type": "stream",
     "text": [
      "100%|████████████████████████████████████████████████████████████████████████████████| 500/500 [00:36<00:00, 13.63it/s]\n"
     ]
    },
    {
     "name": "stdout",
     "output_type": "stream",
     "text": [
      "avg loss: 0.42197993\n",
      "epoch:  40\n"
     ]
    },
    {
     "name": "stderr",
     "output_type": "stream",
     "text": [
      "100%|████████████████████████████████████████████████████████████████████████████████| 500/500 [00:36<00:00, 13.60it/s]\n"
     ]
    },
    {
     "name": "stdout",
     "output_type": "stream",
     "text": [
      "avg loss: 0.40795383\n",
      "Saving...\n",
      "epoch:  41\n"
     ]
    },
    {
     "name": "stderr",
     "output_type": "stream",
     "text": [
      "100%|████████████████████████████████████████████████████████████████████████████████| 500/500 [00:36<00:00, 13.64it/s]\n"
     ]
    },
    {
     "name": "stdout",
     "output_type": "stream",
     "text": [
      "avg loss: 0.40506843\n",
      "epoch:  42\n"
     ]
    },
    {
     "name": "stderr",
     "output_type": "stream",
     "text": [
      "100%|████████████████████████████████████████████████████████████████████████████████| 500/500 [00:36<00:00, 13.88it/s]\n"
     ]
    },
    {
     "name": "stdout",
     "output_type": "stream",
     "text": [
      "avg loss: 0.40835133\n",
      "epoch:  43\n"
     ]
    },
    {
     "name": "stderr",
     "output_type": "stream",
     "text": [
      "100%|████████████████████████████████████████████████████████████████████████████████| 500/500 [00:36<00:00, 13.89it/s]\n"
     ]
    },
    {
     "name": "stdout",
     "output_type": "stream",
     "text": [
      "avg loss: 0.40632552\n",
      "epoch:  44\n"
     ]
    },
    {
     "name": "stderr",
     "output_type": "stream",
     "text": [
      "100%|████████████████████████████████████████████████████████████████████████████████| 500/500 [00:35<00:00, 13.99it/s]\n"
     ]
    },
    {
     "name": "stdout",
     "output_type": "stream",
     "text": [
      "avg loss: 0.39774364\n",
      "epoch:  45\n"
     ]
    },
    {
     "name": "stderr",
     "output_type": "stream",
     "text": [
      "100%|████████████████████████████████████████████████████████████████████████████████| 500/500 [00:35<00:00, 13.95it/s]\n"
     ]
    },
    {
     "name": "stdout",
     "output_type": "stream",
     "text": [
      "avg loss: 0.38810122\n",
      "epoch:  46\n"
     ]
    },
    {
     "name": "stderr",
     "output_type": "stream",
     "text": [
      "100%|████████████████████████████████████████████████████████████████████████████████| 500/500 [00:35<00:00, 13.90it/s]\n"
     ]
    },
    {
     "name": "stdout",
     "output_type": "stream",
     "text": [
      "avg loss: 0.39583164\n",
      "epoch:  47\n"
     ]
    },
    {
     "name": "stderr",
     "output_type": "stream",
     "text": [
      "100%|████████████████████████████████████████████████████████████████████████████████| 500/500 [00:35<00:00, 13.94it/s]\n"
     ]
    },
    {
     "name": "stdout",
     "output_type": "stream",
     "text": [
      "avg loss: 0.38206345\n",
      "epoch:  48\n"
     ]
    },
    {
     "name": "stderr",
     "output_type": "stream",
     "text": [
      "100%|████████████████████████████████████████████████████████████████████████████████| 500/500 [00:36<00:00, 13.81it/s]\n"
     ]
    },
    {
     "name": "stdout",
     "output_type": "stream",
     "text": [
      "avg loss: 0.3811485\n",
      "epoch:  49\n"
     ]
    },
    {
     "name": "stderr",
     "output_type": "stream",
     "text": [
      "100%|████████████████████████████████████████████████████████████████████████████████| 500/500 [00:36<00:00, 13.65it/s]\n"
     ]
    },
    {
     "name": "stdout",
     "output_type": "stream",
     "text": [
      "avg loss: 0.38544086\n",
      "epoch:  50\n"
     ]
    },
    {
     "name": "stderr",
     "output_type": "stream",
     "text": [
      "100%|████████████████████████████████████████████████████████████████████████████████| 500/500 [00:36<00:00, 13.74it/s]\n"
     ]
    },
    {
     "name": "stdout",
     "output_type": "stream",
     "text": [
      "avg loss: 0.381535\n",
      "Saving...\n",
      "Training finished, time: 1819.7099931240082\n"
     ]
    }
   ],
   "source": [
    "net = RNN(unique_symbols, hidden_size, unique_symbols, \"LSTM\", n_layers).to(device)\n",
    "\n",
    "loader = DataLoader([data_economic for x in range(500)], \n",
    "                   batch_size, # как много sample загружать за 1 батч (сколько отдельных summary передаём за раз)\n",
    "                   collate_fn=collate_fn, # функция-обработчик датасета (объединяет список сэмплов, чтобы сформировать мини-партию тензоров)\n",
    "                   )\n",
    "\n",
    "l_avg, l_best, net, hidden = training(net = net,\n",
    "                                     epochs = epochs,\n",
    "                                     optimizer = torch.optim.Adam(net.parameters(), lr=1e-4),\n",
    "                                     criterion = nn.CrossEntropyLoss().to(device),\n",
    "                                     loader = loader,\n",
    "                                     device = device,\n",
    "                                     batch_size=batch_size)"
   ]
  },
  {
   "cell_type": "code",
   "execution_count": 808,
   "metadata": {},
   "outputs": [],
   "source": [
    "# сохранение данных после обучения\n",
    "\n",
    "RNN.save_model(net.to(torch.device(\"cpu\")), f'models/rus/economic_epoch_50_batch_1.ckpt')\n",
    "\n",
    "with open(r'models/rus/economic_epoch_50_batch_1_losses_avg.pkl', 'wb') as f:\n",
    "    pickle.dump(l_avg, f)\n",
    "\n",
    "with open(r'models/rus/economic_epoch_50_batch_1_losses_best.pkl', 'wb') as f:\n",
    "    pickle.dump(l_best, f)\n",
    "\n",
    "with open(r'models/rus/economic_epoch_50_batch_1_hidden.pkl', 'wb') as f:\n",
    "    pickle.dump(hidden, f)"
   ]
  },
  {
   "cell_type": "code",
   "execution_count": 815,
   "metadata": {},
   "outputs": [],
   "source": [
    "# загрузка сохранённых данных\n",
    "\n",
    "net_economic = RNN.load_model(\"models/rus/economic_epoch_50_batch_1.ckpt\").to(device)\n",
    "\n",
    "with open(r'models/rus/economic_epoch_50_batch_1_losses_avg.pkl', 'rb') as f:\n",
    "    economic_losses_avg = pickle.load(f)\n",
    "    \n",
    "with open(r'models/rus/economic_epoch_50_batch_1_losses_best.pkl', 'rb') as f:\n",
    "    economic_losses_best = pickle.load(f)\n",
    "economic_losses_best = [i.tolist() for i in economic_losses_best]"
   ]
  },
  {
   "cell_type": "code",
   "execution_count": 820,
   "metadata": {},
   "outputs": [
    {
     "data": {
      "image/png": "[encoded data removed]",
      "text/plain": [
       "<Figure size 648x648 with 1 Axes>"
      ]
     },
     "metadata": {
      "needs_background": "light"
     },
     "output_type": "display_data"
    }
   ],
   "source": [
    "plt.figure(figsize=(9, 9))\n",
    "plt.title(\"Изменение среднего значения loss функции при обучении на одной статье\")\n",
    "plt.xlabel(\"Эпоха\")\n",
    "plt.ylabel(\"loss\")\n",
    "plt.plot(economic_losses_avg)\n",
    "plt.show()"
   ]
  },
  {
   "cell_type": "markdown",
   "metadata": {},
   "source": [
    "Согласно loss, сеть достаточно хорошо обучилась, вплоть до полного повторения input статьи."
   ]
  },
  {
   "cell_type": "markdown",
   "metadata": {},
   "source": [
    "Проверка модели:"
   ]
  },
  {
   "cell_type": "code",
   "execution_count": 810,
   "metadata": {},
   "outputs": [],
   "source": [
    "economic_text_dataset = TextDataset(\"aboba\", symbols, chunk_len=10, device=device)"
   ]
  },
  {
   "cell_type": "code",
   "execution_count": 813,
   "metadata": {},
   "outputs": [
    {
     "data": {
      "text/plain": [
       "'В наше неспокойное и ненадежное время некоторые россияне с легкостью берут кредиты если не в банках, то в пунктах быстрых займов. Мы уже писали о том, как для жителя из Северодвинска такая история закончилась лишением свободы на 7 лет: он захватил в заложницы сотрудницу офиса микрозаймов после угроз коллекторов. А есть и другие люди, которые набирают множество кредитов и не могут остановиться. Ниже колонка одной из таких россиянок. Я кредитный маньяк. И у меня биполярное расстройство. Оно диагностировано психиатром. Как это связано? Всё просто: периоды мании превращают меня в шопоголика. Если вы смотрели одноименный фильм, то начальная сцена примерно описывает то самое состояние. Если нет, попробую объяснить. Когда накрывает, стоит попасть мне на глаза какой-нибудь вещи (чаще всего технике), мне ее хочется до трясучки. Я не могу нормально спать и думать вообще о чем-нибудь другом, кроме этой самой вещи. Пока не куплю. Желание настолько сильное, что я начинаю смотреть все возможные обзоры и распаковки, могу провести все взрослые люди, должны уметь обращаться с деньгами, думать головой, брать на себя ответственность за поступки. И я беру, пытаюсь найти способы вылезти из этого болота и взять уже под контроль заболевание при помощи медикаментозной терапии и психотерапии. Но я на себе прямо сейчас ощущаю, насколько вся банковская система заточена на заработок денег, что невольно засасывает менее критически мыслящих товарищей в яму. Закрыл кредит? Молодец, а вот еще возьми, Новый год время воплощать мечты! Станьте автором колонки. Почитайте рекомендации и напишите невозможно. Начиналось всё 6 лет назад достаточно безобидно с кредитные продукты выдаются по нажатию пары кнопок в приложении банка (если ты пользовался его услугами) за пару минут, а деньги капают на банковскую карточку. Тебе даже анкету каждый раз заполнять не нужно, всё уже заботливо сохранено. Безусловно, это прогресс, это удобно, но для таких россиянок. Я кредитный маньяк. И у меня биполярное расстройство. Оно диагностировано психиатром. Как это связано? Всё просто: периоды мании превращают меня в шопоголика. Если вы смотрели одноименный фильм, то начинаю смотреть все возможные обзоры и распаковки, могу провести весь день за ними. Или даже несколько. И в этом состоянии я легко могу найти аргументы, почему мне нужно это купить. Даже если это чертов электросамокат, три игровые приставки и десятки игр к ним, новый телевизор, больше 100 настольных игр, фотоаппарат мгновенной печати, планшет для цифро'"
      ]
     },
     "execution_count": 813,
     "metadata": {},
     "output_type": "execute_result"
    }
   ],
   "source": [
    "generate(net_economic, device, economic_text_dataset, \"В наше неспокойное\", 2500, 0.5)"
   ]
  },
  {
   "cell_type": "markdown",
   "metadata": {},
   "source": [
    "Как и ожидалось, полученная генерация очень сильно совпадает с оригинальной статьёй."
   ]
  },
  {
   "cell_type": "markdown",
   "metadata": {},
   "source": [
    "Для получения более разнообразных генераций статей, при этом сохраняющих свой смысл, можно в обучающий датасет добавить пару ОЧЕНЬ близких по тематике и идее статей."
   ]
  },
  {
   "cell_type": "markdown",
   "metadata": {},
   "source": [
    "# Финальный вывод"
   ]
  },
  {
   "cell_type": "markdown",
   "metadata": {},
   "source": [
    "* Лучшей моделью, хоть и ненамного, оказалась LSTM.\n",
    "* GRU показала схожие результаты.\n",
    "* Модель с одной лишь активацией и dropout сильно хуже указанных выше моделек.\n",
    "* От температуры зависит качество генерации, то есть при малой температуре идёт повторение одних и тех же выражений, а при большой генерацию ломают случайно встревающие символы.\n",
    "* Значительное влияние на генерацию также оказывает база, начальная строка.\n",
    "* Чем длиннее генерируется текст, тем больше вероятность потерять его конечный смысл.\n",
    "* Для генерации хороших текстов необходимо тщательно составлять обучающий датасет, в котором среди всех текстов будет прослеживаться единая мысль, а не только тема."
   ]
  }
 ],
 "metadata": {
  "accelerator": "GPU",
  "colab": {
   "provenance": []
  },
  "gpuClass": "standard",
  "kernelspec": {
   "display_name": "gpu",
   "language": "python",
   "name": "gpu"
  },
  "language_info": {
   "codemirror_mode": {
    "name": "ipython",
    "version": 3
   },
   "file_extension": ".py",
   "mimetype": "text/x-python",
   "name": "python",
   "nbconvert_exporter": "python",
   "pygments_lexer": "ipython3",
   "version": "3.9.12"
  }
 },
 "nbformat": 4,
 "nbformat_minor": 1
}
